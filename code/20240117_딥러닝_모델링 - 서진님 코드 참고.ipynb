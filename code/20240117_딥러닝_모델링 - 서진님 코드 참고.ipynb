{
 "cells": [
  {
   "cell_type": "code",
   "execution_count": 1,
   "id": "206df519",
   "metadata": {
    "id": "206df519",
    "outputId": "77f788d2-aaa0-40ab-b7ab-feaee4547600"
   },
   "outputs": [],
   "source": [
    "import tensorflow as tf"
   ]
  },
  {
   "cell_type": "code",
   "execution_count": 2,
   "id": "16ab3105",
   "metadata": {
    "id": "16ab3105"
   },
   "outputs": [],
   "source": [
    "import pandas as pd\n",
    "import urllib.request\n",
    "import matplotlib.pyplot as plt\n",
    "import re\n",
    "from konlpy.tag import Okt\n",
    "from tqdm import tqdm\n",
    "from tensorflow.keras.preprocessing.text import Tokenizer\n",
    "import numpy as np\n",
    "from tensorflow.keras.preprocessing.sequence import pad_sequences"
   ]
  },
  {
   "cell_type": "code",
   "execution_count": 3,
   "id": "53fc6561",
   "metadata": {
    "id": "53fc6561"
   },
   "outputs": [],
   "source": [
    "from sklearn.model_selection import train_test_split"
   ]
  },
  {
   "cell_type": "code",
   "execution_count": 4,
   "id": "9e34ae58",
   "metadata": {
    "id": "9e34ae58",
    "outputId": "63869171-561b-4ce0-f404-470d10e4588d"
   },
   "outputs": [
    {
     "data": {
      "text/html": [
       "<div>\n",
       "<style scoped>\n",
       "    .dataframe tbody tr th:only-of-type {\n",
       "        vertical-align: middle;\n",
       "    }\n",
       "\n",
       "    .dataframe tbody tr th {\n",
       "        vertical-align: top;\n",
       "    }\n",
       "\n",
       "    .dataframe thead th {\n",
       "        text-align: right;\n",
       "    }\n",
       "</style>\n",
       "<table border=\"1\" class=\"dataframe\">\n",
       "  <thead>\n",
       "    <tr style=\"text-align: right;\">\n",
       "      <th></th>\n",
       "      <th>리뷰어 이름</th>\n",
       "      <th>리뷰어 멤버 id</th>\n",
       "      <th>별점</th>\n",
       "      <th>리뷰 내용</th>\n",
       "      <th>리뷰로부터 도움 받은 사람 수</th>\n",
       "      <th>리뷰 작성일자</th>\n",
       "    </tr>\n",
       "  </thead>\n",
       "  <tbody>\n",
       "    <tr>\n",
       "      <th>0</th>\n",
       "      <td>리뷰호랭이</td>\n",
       "      <td>6596881</td>\n",
       "      <td>3</td>\n",
       "      <td>우리 아기의 우아한 우유 시간 [육아템 리뷰] 그로미미 PPSU 젖병 - 우리 아기...</td>\n",
       "      <td></td>\n",
       "      <td>2023.12.20</td>\n",
       "    </tr>\n",
       "    <tr>\n",
       "      <th>1</th>\n",
       "      <td>노랑파라랑</td>\n",
       "      <td>113798723</td>\n",
       "      <td>3</td>\n",
       "      <td>젖병 유목민 그로미미로 정착!! ●내 돈 내산 찐 후 기 ●    ✔구매동기   아...</td>\n",
       "      <td>7</td>\n",
       "      <td>2023.10.31</td>\n",
       "    </tr>\n",
       "    <tr>\n",
       "      <th>2</th>\n",
       "      <td>이*주</td>\n",
       "      <td>1393693</td>\n",
       "      <td>3</td>\n",
       "      <td>젖병은 그로미미! “내돈내산 후기 입니다”     둘째 아이가 이제 20개월이 다 ...</td>\n",
       "      <td></td>\n",
       "      <td>2023.11.23</td>\n",
       "    </tr>\n",
       "    <tr>\n",
       "      <th>3</th>\n",
       "      <td>조블리맘</td>\n",
       "      <td>138148</td>\n",
       "      <td>3</td>\n",
       "      <td>✔️ 구입후기  * PPSU 체리쉬 젖병 300ml 트윈 2p, 로즈골드, 노꼭지...</td>\n",
       "      <td>5</td>\n",
       "      <td>2023.04.26</td>\n",
       "    </tr>\n",
       "    <tr>\n",
       "      <th>4</th>\n",
       "      <td>정*원</td>\n",
       "      <td>108155907</td>\n",
       "      <td>3</td>\n",
       "      <td>용량이 커서 좋아요 10개월차 둘째아이를 키우는 연년생 엄마입니다~  첫째때는 워낙...</td>\n",
       "      <td>11</td>\n",
       "      <td>2023.04.15</td>\n",
       "    </tr>\n",
       "    <tr>\n",
       "      <th>...</th>\n",
       "      <td>...</td>\n",
       "      <td>...</td>\n",
       "      <td>...</td>\n",
       "      <td>...</td>\n",
       "      <td>...</td>\n",
       "      <td>...</td>\n",
       "    </tr>\n",
       "    <tr>\n",
       "      <th>36475</th>\n",
       "      <td>김*형</td>\n",
       "      <td>41068525</td>\n",
       "      <td>1</td>\n",
       "      <td>고기가 구웠을때 너무 질겨요</td>\n",
       "      <td></td>\n",
       "      <td>2022.04.19</td>\n",
       "    </tr>\n",
       "    <tr>\n",
       "      <th>36476</th>\n",
       "      <td>김*경</td>\n",
       "      <td>25796068</td>\n",
       "      <td>1</td>\n",
       "      <td>제껀 상한게 온건가 비린맛 우유 썩은맛 한입 먹고 버림</td>\n",
       "      <td></td>\n",
       "      <td>2021.12.27</td>\n",
       "    </tr>\n",
       "    <tr>\n",
       "      <th>36477</th>\n",
       "      <td>박*은</td>\n",
       "      <td>106570045</td>\n",
       "      <td>1</td>\n",
       "      <td>와 이게 일등급이라고여? 진짜 소고기 너무 좋아해서 한달에 열번은 먹는데 이렇게 질...</td>\n",
       "      <td></td>\n",
       "      <td>2023.12.28</td>\n",
       "    </tr>\n",
       "    <tr>\n",
       "      <th>36478</th>\n",
       "      <td>조*선</td>\n",
       "      <td>137304121</td>\n",
       "      <td>1</td>\n",
       "      <td>별로임 부모님 시켜드렸는데 양이 너무 적고 누가 한쪽은 먹고 남은 것 같다고 다시는...</td>\n",
       "      <td>3</td>\n",
       "      <td>2022.01.07</td>\n",
       "    </tr>\n",
       "    <tr>\n",
       "      <th>36479</th>\n",
       "      <td>나*두</td>\n",
       "      <td>12297795</td>\n",
       "      <td>1</td>\n",
       "      <td>동네 6000원애 파는거보다 못함 연말에 개잡침</td>\n",
       "      <td></td>\n",
       "      <td>2022.12.31</td>\n",
       "    </tr>\n",
       "  </tbody>\n",
       "</table>\n",
       "<p>36480 rows × 6 columns</p>\n",
       "</div>"
      ],
      "text/plain": [
       "       리뷰어 이름  리뷰어 멤버 id  별점  \\\n",
       "0      리뷰호랭이     6596881   3   \n",
       "1      노랑파라랑   113798723   3   \n",
       "2        이*주     1393693   3   \n",
       "3       조블리맘      138148   3   \n",
       "4        정*원   108155907   3   \n",
       "...       ...        ...  ..   \n",
       "36475    김*형    41068525   1   \n",
       "36476    김*경    25796068   1   \n",
       "36477    박*은   106570045   1   \n",
       "36478    조*선   137304121   1   \n",
       "36479    나*두    12297795   1   \n",
       "\n",
       "                                                   리뷰 내용 리뷰로부터 도움 받은 사람 수  \\\n",
       "0      우리 아기의 우아한 우유 시간 [육아템 리뷰] 그로미미 PPSU 젖병 - 우리 아기...                    \n",
       "1      젖병 유목민 그로미미로 정착!! ●내 돈 내산 찐 후 기 ●    ✔구매동기   아...                7   \n",
       "2      젖병은 그로미미! “내돈내산 후기 입니다”     둘째 아이가 이제 20개월이 다 ...                    \n",
       "3       ✔️ 구입후기  * PPSU 체리쉬 젖병 300ml 트윈 2p, 로즈골드, 노꼭지...                5   \n",
       "4      용량이 커서 좋아요 10개월차 둘째아이를 키우는 연년생 엄마입니다~  첫째때는 워낙...               11   \n",
       "...                                                  ...              ...   \n",
       "36475                                   고기가 구웠을때 너무 질겨요                     \n",
       "36476                    제껀 상한게 온건가 비린맛 우유 썩은맛 한입 먹고 버림                     \n",
       "36477  와 이게 일등급이라고여? 진짜 소고기 너무 좋아해서 한달에 열번은 먹는데 이렇게 질...                    \n",
       "36478  별로임 부모님 시켜드렸는데 양이 너무 적고 누가 한쪽은 먹고 남은 것 같다고 다시는...                3   \n",
       "36479                        동네 6000원애 파는거보다 못함 연말에 개잡침                     \n",
       "\n",
       "          리뷰 작성일자  \n",
       "0      2023.12.20  \n",
       "1      2023.10.31  \n",
       "2      2023.11.23  \n",
       "3      2023.04.26  \n",
       "4      2023.04.15  \n",
       "...           ...  \n",
       "36475  2022.04.19  \n",
       "36476  2021.12.27  \n",
       "36477  2023.12.28  \n",
       "36478  2022.01.07  \n",
       "36479  2022.12.31  \n",
       "\n",
       "[36480 rows x 6 columns]"
      ]
     },
     "execution_count": 4,
     "metadata": {},
     "output_type": "execute_result"
    }
   ],
   "source": [
    "import pandas as pd\n",
    "from glob import glob\n",
    "review_data = glob('../json_csv_files/review_data/final_review/*')\n",
    "\n",
    "total = pd.DataFrame() #빈 데이터프레임 하나를 생성한다\n",
    "\n",
    "for file_name in review_data:\n",
    "    temp = pd.read_csv(file_name, encoding='utf-8') #csv파일을 하나씩 열어 임시 데이터프레임으로 생성한다\n",
    "    total = pd.concat([total, temp]) #전체 데이터프레임에 추가하여 넣는다\n",
    "\n",
    "reviews = total['리뷰']\n",
    "\n",
    "name = []\n",
    "member_id = []\n",
    "rating = []\n",
    "title_content = []\n",
    "help = []\n",
    "date = []\n",
    "\n",
    "for star in reviews:\n",
    "    star = eval(star)\n",
    "    for r in star:\n",
    "        for review in r:\n",
    "            name.append(review[0])\n",
    "            member_id.append(review[1])\n",
    "            if review[2] == '5':\n",
    "                rating.append(3)\n",
    "            elif review[2] == '4':\n",
    "                rating.append(2)\n",
    "            else:\n",
    "                rating.append(1)\n",
    "            title_content.append(str(review[3]) + ' ' + str(review[4]))\n",
    "            help.append(review[5])\n",
    "            date.append(review[6])\n",
    "\n",
    "df = pd.DataFrame(\n",
    "    {'리뷰어 이름': name,\n",
    "     '리뷰어 멤버 id': member_id,\n",
    "     '별점': rating,\n",
    "     '리뷰 내용': title_content,\n",
    "     '리뷰로부터 도움 받은 사람 수': help,\n",
    "     '리뷰 작성일자': date},\n",
    ")\n",
    "df\n",
    "# df.to_csv('../json_csv_files/review_data/review_dataframe.csv', index=False, encoding=\"utf-8-sig\")"
   ]
  },
  {
   "cell_type": "code",
   "execution_count": 5,
   "id": "6c6631df-cb85-4f88-b5ec-01a9eb719930",
   "metadata": {},
   "outputs": [
    {
     "data": {
      "text/html": [
       "<div>\n",
       "<style scoped>\n",
       "    .dataframe tbody tr th:only-of-type {\n",
       "        vertical-align: middle;\n",
       "    }\n",
       "\n",
       "    .dataframe tbody tr th {\n",
       "        vertical-align: top;\n",
       "    }\n",
       "\n",
       "    .dataframe thead th {\n",
       "        text-align: right;\n",
       "    }\n",
       "</style>\n",
       "<table border=\"1\" class=\"dataframe\">\n",
       "  <thead>\n",
       "    <tr style=\"text-align: right;\">\n",
       "      <th></th>\n",
       "      <th>리뷰어 이름</th>\n",
       "      <th>리뷰어 멤버 id</th>\n",
       "      <th>별점</th>\n",
       "      <th>리뷰 내용</th>\n",
       "      <th>리뷰로부터 도움 받은 사람 수</th>\n",
       "      <th>리뷰 작성일자</th>\n",
       "    </tr>\n",
       "  </thead>\n",
       "  <tbody>\n",
       "    <tr>\n",
       "      <th>0</th>\n",
       "      <td>뿌링맛</td>\n",
       "      <td>122739143</td>\n",
       "      <td>3</td>\n",
       "      <td>내돈내산 후회안함 구매가격 : 549,000 주문날짜 : 23.10.22  쿠팡로켓...</td>\n",
       "      <td>66</td>\n",
       "      <td>2023.10.23</td>\n",
       "    </tr>\n",
       "    <tr>\n",
       "      <th>1</th>\n",
       "      <td>이*현</td>\n",
       "      <td>78562760</td>\n",
       "      <td>3</td>\n",
       "      <td>만족합니다. 오래된 노트북 이사하면서 어디 부딛히기라도 했는지 갑자기 않돼서 발품팔...</td>\n",
       "      <td>14</td>\n",
       "      <td>2023.12.22</td>\n",
       "    </tr>\n",
       "    <tr>\n",
       "      <th>2</th>\n",
       "      <td>조*수</td>\n",
       "      <td>4725839</td>\n",
       "      <td>3</td>\n",
       "      <td>사무용으로 좋아요!! 디자인도 예쁨&gt;_&lt; 집에서 재택으로 일하는 30대입니다 그냥 ...</td>\n",
       "      <td>23</td>\n",
       "      <td>2023.12.01</td>\n",
       "    </tr>\n",
       "    <tr>\n",
       "      <th>3</th>\n",
       "      <td>김*준</td>\n",
       "      <td>105326680</td>\n",
       "      <td>3</td>\n",
       "      <td>삼성전자 2021 노트북 플러스2 15.6, 퓨어 화이트는  전원 어댑터와 연결 ...</td>\n",
       "      <td>25</td>\n",
       "      <td>2023.11.02</td>\n",
       "    </tr>\n",
       "    <tr>\n",
       "      <th>4</th>\n",
       "      <td>김*아</td>\n",
       "      <td>60714665</td>\n",
       "      <td>3</td>\n",
       "      <td>개인용 사무용으로좋습니다 집에서 사용하던 데스크탑이 갑자기 고장이 나서 급하게 쿠팡...</td>\n",
       "      <td>21</td>\n",
       "      <td>2023.09.28</td>\n",
       "    </tr>\n",
       "    <tr>\n",
       "      <th>...</th>\n",
       "      <td>...</td>\n",
       "      <td>...</td>\n",
       "      <td>...</td>\n",
       "      <td>...</td>\n",
       "      <td>...</td>\n",
       "      <td>...</td>\n",
       "    </tr>\n",
       "    <tr>\n",
       "      <th>50153</th>\n",
       "      <td>김*경</td>\n",
       "      <td>122725714</td>\n",
       "      <td>1</td>\n",
       "      <td>새 제품을 샀는데 이렇게 오는게 맞나요? 아무리 물류센터에서 던지면서 운반 된다고...</td>\n",
       "      <td>8</td>\n",
       "      <td>2022.12.04</td>\n",
       "    </tr>\n",
       "    <tr>\n",
       "      <th>50154</th>\n",
       "      <td>최*용</td>\n",
       "      <td>119253707</td>\n",
       "      <td>1</td>\n",
       "      <td>전력약함</td>\n",
       "      <td></td>\n",
       "      <td>2023.09.19</td>\n",
       "    </tr>\n",
       "    <tr>\n",
       "      <th>50155</th>\n",
       "      <td>샘도아</td>\n",
       "      <td>125262418</td>\n",
       "      <td>1</td>\n",
       "      <td>콘센트가 한번에 팍 고정되는 느낌이 아니라 이리저리 흔들려서 충전이 됐다 안됐다 하네요ㅠ</td>\n",
       "      <td>1</td>\n",
       "      <td>2023.06.03</td>\n",
       "    </tr>\n",
       "    <tr>\n",
       "      <th>50156</th>\n",
       "      <td>장*민</td>\n",
       "      <td>111333135</td>\n",
       "      <td>1</td>\n",
       "      <td>삼일째 쓰고 있는데 한구는 고장이네요 제일 끝에 있는 데는 불도 안나오고 전기도 안...</td>\n",
       "      <td></td>\n",
       "      <td>2023.12.16</td>\n",
       "    </tr>\n",
       "    <tr>\n",
       "      <th>50157</th>\n",
       "      <td>김*수</td>\n",
       "      <td>114332741</td>\n",
       "      <td>1</td>\n",
       "      <td>3개 샀는데 내용물 비닐에 나와있고 상자 다 찌그러짐</td>\n",
       "      <td></td>\n",
       "      <td>2023.07.08</td>\n",
       "    </tr>\n",
       "  </tbody>\n",
       "</table>\n",
       "<p>50158 rows × 6 columns</p>\n",
       "</div>"
      ],
      "text/plain": [
       "      리뷰어 이름  리뷰어 멤버 id  별점  \\\n",
       "0       뿌링맛   122739143   3   \n",
       "1       이*현    78562760   3   \n",
       "2       조*수     4725839   3   \n",
       "3       김*준   105326680   3   \n",
       "4       김*아    60714665   3   \n",
       "...      ...        ...  ..   \n",
       "50153   김*경   122725714   1   \n",
       "50154   최*용   119253707   1   \n",
       "50155   샘도아   125262418   1   \n",
       "50156   장*민   111333135   1   \n",
       "50157   김*수   114332741   1   \n",
       "\n",
       "                                                   리뷰 내용 리뷰로부터 도움 받은 사람 수  \\\n",
       "0      내돈내산 후회안함 구매가격 : 549,000 주문날짜 : 23.10.22  쿠팡로켓...               66   \n",
       "1      만족합니다. 오래된 노트북 이사하면서 어디 부딛히기라도 했는지 갑자기 않돼서 발품팔...               14   \n",
       "2      사무용으로 좋아요!! 디자인도 예쁨>_< 집에서 재택으로 일하는 30대입니다 그냥 ...               23   \n",
       "3       삼성전자 2021 노트북 플러스2 15.6, 퓨어 화이트는  전원 어댑터와 연결 ...               25   \n",
       "4      개인용 사무용으로좋습니다 집에서 사용하던 데스크탑이 갑자기 고장이 나서 급하게 쿠팡...               21   \n",
       "...                                                  ...              ...   \n",
       "50153   새 제품을 샀는데 이렇게 오는게 맞나요? 아무리 물류센터에서 던지면서 운반 된다고...                8   \n",
       "50154                                              전력약함                     \n",
       "50155  콘센트가 한번에 팍 고정되는 느낌이 아니라 이리저리 흔들려서 충전이 됐다 안됐다 하네요ㅠ                1   \n",
       "50156  삼일째 쓰고 있는데 한구는 고장이네요 제일 끝에 있는 데는 불도 안나오고 전기도 안...                    \n",
       "50157                     3개 샀는데 내용물 비닐에 나와있고 상자 다 찌그러짐                     \n",
       "\n",
       "          리뷰 작성일자  \n",
       "0      2023.10.23  \n",
       "1      2023.12.22  \n",
       "2      2023.12.01  \n",
       "3      2023.11.02  \n",
       "4      2023.09.28  \n",
       "...           ...  \n",
       "50153  2022.12.04  \n",
       "50154  2023.09.19  \n",
       "50155  2023.06.03  \n",
       "50156  2023.12.16  \n",
       "50157  2023.07.08  \n",
       "\n",
       "[50158 rows x 6 columns]"
      ]
     },
     "execution_count": 5,
     "metadata": {},
     "output_type": "execute_result"
    }
   ],
   "source": [
    "import pandas as pd\n",
    "from glob import glob\n",
    "review_data = glob('../json_csv_files/review_data/total.csv')\n",
    "\n",
    "total = pd.DataFrame() #빈 데이터프레임 하나를 생성한다\n",
    "\n",
    "for file_name in review_data:\n",
    "    temp = pd.read_csv(file_name, encoding='utf-8') #csv파일을 하나씩 열어 임시 데이터프레임으로 생성한다\n",
    "    total = pd.concat([total, temp]) #전체 데이터프레임에 추가하여 넣는다\n",
    "\n",
    "reviews = total['리뷰']\n",
    "\n",
    "name = []\n",
    "member_id = []\n",
    "rating = []\n",
    "title_content = []\n",
    "help = []\n",
    "date = []\n",
    "\n",
    "for star in reviews:\n",
    "    star = eval(star)\n",
    "    for r in star:\n",
    "        for review in r:\n",
    "            name.append(review[0])\n",
    "            member_id.append(review[1])\n",
    "            if review[2] == '5':\n",
    "                rating.append(3)\n",
    "            elif review[2] == '4':\n",
    "                rating.append(2)\n",
    "            else:\n",
    "                rating.append(1)\n",
    "            title_content.append(str(review[3]) + ' ' + str(review[4]))\n",
    "            help.append(review[5])\n",
    "            date.append(review[6])\n",
    "\n",
    "df2 = pd.DataFrame(\n",
    "    {'리뷰어 이름': name,\n",
    "     '리뷰어 멤버 id': member_id,\n",
    "     '별점': rating,\n",
    "     '리뷰 내용': title_content,\n",
    "     '리뷰로부터 도움 받은 사람 수': help,\n",
    "     '리뷰 작성일자': date},\n",
    ")\n",
    "df2\n",
    "# df.to_csv('../json_csv_files/review_data/review_dataframe.csv', index=False, encoding=\"utf-8-sig\")"
   ]
  },
  {
   "cell_type": "code",
   "execution_count": 6,
   "id": "c34c9620-7ee7-4557-8c62-dd0bf4a70954",
   "metadata": {},
   "outputs": [
    {
     "data": {
      "text/html": [
       "<div>\n",
       "<style scoped>\n",
       "    .dataframe tbody tr th:only-of-type {\n",
       "        vertical-align: middle;\n",
       "    }\n",
       "\n",
       "    .dataframe tbody tr th {\n",
       "        vertical-align: top;\n",
       "    }\n",
       "\n",
       "    .dataframe thead th {\n",
       "        text-align: right;\n",
       "    }\n",
       "</style>\n",
       "<table border=\"1\" class=\"dataframe\">\n",
       "  <thead>\n",
       "    <tr style=\"text-align: right;\">\n",
       "      <th></th>\n",
       "      <th>index</th>\n",
       "      <th>리뷰어 이름</th>\n",
       "      <th>리뷰어 멤버 id</th>\n",
       "      <th>별점</th>\n",
       "      <th>리뷰 내용</th>\n",
       "      <th>리뷰로부터 도움 받은 사람 수</th>\n",
       "      <th>리뷰 작성일자</th>\n",
       "    </tr>\n",
       "  </thead>\n",
       "  <tbody>\n",
       "    <tr>\n",
       "      <th>0</th>\n",
       "      <td>0</td>\n",
       "      <td>리뷰호랭이</td>\n",
       "      <td>6596881</td>\n",
       "      <td>3</td>\n",
       "      <td>우리 아기의 우아한 우유 시간 [육아템 리뷰] 그로미미 PPSU 젖병 - 우리 아기...</td>\n",
       "      <td></td>\n",
       "      <td>2023.12.20</td>\n",
       "    </tr>\n",
       "    <tr>\n",
       "      <th>1</th>\n",
       "      <td>1</td>\n",
       "      <td>노랑파라랑</td>\n",
       "      <td>113798723</td>\n",
       "      <td>3</td>\n",
       "      <td>젖병 유목민 그로미미로 정착!! ●내 돈 내산 찐 후 기 ●    ✔구매동기   아...</td>\n",
       "      <td>7</td>\n",
       "      <td>2023.10.31</td>\n",
       "    </tr>\n",
       "    <tr>\n",
       "      <th>2</th>\n",
       "      <td>2</td>\n",
       "      <td>이*주</td>\n",
       "      <td>1393693</td>\n",
       "      <td>3</td>\n",
       "      <td>젖병은 그로미미! “내돈내산 후기 입니다”     둘째 아이가 이제 20개월이 다 ...</td>\n",
       "      <td></td>\n",
       "      <td>2023.11.23</td>\n",
       "    </tr>\n",
       "    <tr>\n",
       "      <th>3</th>\n",
       "      <td>3</td>\n",
       "      <td>조블리맘</td>\n",
       "      <td>138148</td>\n",
       "      <td>3</td>\n",
       "      <td>✔️ 구입후기  * PPSU 체리쉬 젖병 300ml 트윈 2p, 로즈골드, 노꼭지...</td>\n",
       "      <td>5</td>\n",
       "      <td>2023.04.26</td>\n",
       "    </tr>\n",
       "    <tr>\n",
       "      <th>4</th>\n",
       "      <td>4</td>\n",
       "      <td>정*원</td>\n",
       "      <td>108155907</td>\n",
       "      <td>3</td>\n",
       "      <td>용량이 커서 좋아요 10개월차 둘째아이를 키우는 연년생 엄마입니다~  첫째때는 워낙...</td>\n",
       "      <td>11</td>\n",
       "      <td>2023.04.15</td>\n",
       "    </tr>\n",
       "    <tr>\n",
       "      <th>...</th>\n",
       "      <td>...</td>\n",
       "      <td>...</td>\n",
       "      <td>...</td>\n",
       "      <td>...</td>\n",
       "      <td>...</td>\n",
       "      <td>...</td>\n",
       "      <td>...</td>\n",
       "    </tr>\n",
       "    <tr>\n",
       "      <th>133712</th>\n",
       "      <td>23323</td>\n",
       "      <td>임*경</td>\n",
       "      <td>154706780</td>\n",
       "      <td>1</td>\n",
       "      <td>포장상태가.. 나중에 사용하려고 미리 주문을 했긴한데.. 제목그대로 .. 포장상태가...</td>\n",
       "      <td>NaN</td>\n",
       "      <td>2023.08.28</td>\n",
       "    </tr>\n",
       "    <tr>\n",
       "      <th>133713</th>\n",
       "      <td>23324</td>\n",
       "      <td>양*현</td>\n",
       "      <td>39637864</td>\n",
       "      <td>1</td>\n",
       "      <td>박스도 구겨져서 오고 후기가 좋아 구매했는데 치발기 케이스에 기스가 왕창........</td>\n",
       "      <td>2.0</td>\n",
       "      <td>2022.08.19</td>\n",
       "    </tr>\n",
       "    <tr>\n",
       "      <th>133714</th>\n",
       "      <td>23325</td>\n",
       "      <td>박*정</td>\n",
       "      <td>107383571</td>\n",
       "      <td>1</td>\n",
       "      <td>물품파손 세이지색치발기 구입했다 반품등록했더니 리뷰쓸수 없어서 여기에 올립니다. 상...</td>\n",
       "      <td>7.0</td>\n",
       "      <td>2021.09.26</td>\n",
       "    </tr>\n",
       "    <tr>\n",
       "      <th>133715</th>\n",
       "      <td>23326</td>\n",
       "      <td>김*지</td>\n",
       "      <td>109205458</td>\n",
       "      <td>1</td>\n",
       "      <td>상품의 질이나 서비스가 너무 안좋네요 사용하다가 케이스가 너무 쉽게 이음세부분이 망...</td>\n",
       "      <td>1.0</td>\n",
       "      <td>2021.11.16</td>\n",
       "    </tr>\n",
       "    <tr>\n",
       "      <th>133716</th>\n",
       "      <td>23327</td>\n",
       "      <td>이*정</td>\n",
       "      <td>9482077</td>\n",
       "      <td>1</td>\n",
       "      <td>배송중에 그런거같은데 겉포장 케이스가 다 깨져서왓어요 속은 괜차노아서 그냥 써요</td>\n",
       "      <td>4.0</td>\n",
       "      <td>2021.01.11</td>\n",
       "    </tr>\n",
       "  </tbody>\n",
       "</table>\n",
       "<p>133717 rows × 7 columns</p>\n",
       "</div>"
      ],
      "text/plain": [
       "        index  리뷰어 이름  리뷰어 멤버 id  별점  \\\n",
       "0           0  리뷰호랭이     6596881   3   \n",
       "1           1  노랑파라랑   113798723   3   \n",
       "2           2    이*주     1393693   3   \n",
       "3           3   조블리맘      138148   3   \n",
       "4           4    정*원   108155907   3   \n",
       "...       ...     ...        ...  ..   \n",
       "133712  23323    임*경   154706780   1   \n",
       "133713  23324    양*현    39637864   1   \n",
       "133714  23325    박*정   107383571   1   \n",
       "133715  23326    김*지   109205458   1   \n",
       "133716  23327    이*정     9482077   1   \n",
       "\n",
       "                                                    리뷰 내용 리뷰로부터 도움 받은 사람 수  \\\n",
       "0       우리 아기의 우아한 우유 시간 [육아템 리뷰] 그로미미 PPSU 젖병 - 우리 아기...                    \n",
       "1       젖병 유목민 그로미미로 정착!! ●내 돈 내산 찐 후 기 ●    ✔구매동기   아...                7   \n",
       "2       젖병은 그로미미! “내돈내산 후기 입니다”     둘째 아이가 이제 20개월이 다 ...                    \n",
       "3        ✔️ 구입후기  * PPSU 체리쉬 젖병 300ml 트윈 2p, 로즈골드, 노꼭지...                5   \n",
       "4       용량이 커서 좋아요 10개월차 둘째아이를 키우는 연년생 엄마입니다~  첫째때는 워낙...               11   \n",
       "...                                                   ...              ...   \n",
       "133712  포장상태가.. 나중에 사용하려고 미리 주문을 했긴한데.. 제목그대로 .. 포장상태가...              NaN   \n",
       "133713   박스도 구겨져서 오고 후기가 좋아 구매했는데 치발기 케이스에 기스가 왕창........              2.0   \n",
       "133714  물품파손 세이지색치발기 구입했다 반품등록했더니 리뷰쓸수 없어서 여기에 올립니다. 상...              7.0   \n",
       "133715  상품의 질이나 서비스가 너무 안좋네요 사용하다가 케이스가 너무 쉽게 이음세부분이 망...              1.0   \n",
       "133716       배송중에 그런거같은데 겉포장 케이스가 다 깨져서왓어요 속은 괜차노아서 그냥 써요              4.0   \n",
       "\n",
       "           리뷰 작성일자  \n",
       "0       2023.12.20  \n",
       "1       2023.10.31  \n",
       "2       2023.11.23  \n",
       "3       2023.04.26  \n",
       "4       2023.04.15  \n",
       "...            ...  \n",
       "133712  2023.08.28  \n",
       "133713  2022.08.19  \n",
       "133714  2021.09.26  \n",
       "133715  2021.11.16  \n",
       "133716  2021.01.11  \n",
       "\n",
       "[133717 rows x 7 columns]"
      ]
     },
     "execution_count": 6,
     "metadata": {},
     "output_type": "execute_result"
    }
   ],
   "source": [
    "review_data = pd.read_csv('../json_csv_files/review_data/oph_total.csv')\n",
    "review_data2 = pd.read_csv('../json_csv_files/review_data/df3/bct_review.csv', encoding='utf-8')\n",
    "df = pd.concat([df, df2, review_data, review_data2])\n",
    "df = df.reset_index()\n",
    "df\n",
    "# df.to_csv('../json_csv_files/review_data/final_review_dataframe.csv', index=False, encoding=\"utf-8-sig\")"
   ]
  },
  {
   "cell_type": "code",
   "execution_count": 322,
   "id": "97a70e17",
   "metadata": {
    "id": "97a70e17",
    "outputId": "dac0232d-c81e-43fb-b6a9-819de416cbe5"
   },
   "outputs": [
    {
     "data": {
      "text/html": [
       "<div>\n",
       "<style scoped>\n",
       "    .dataframe tbody tr th:only-of-type {\n",
       "        vertical-align: middle;\n",
       "    }\n",
       "\n",
       "    .dataframe tbody tr th {\n",
       "        vertical-align: top;\n",
       "    }\n",
       "\n",
       "    .dataframe thead th {\n",
       "        text-align: right;\n",
       "    }\n",
       "</style>\n",
       "<table border=\"1\" class=\"dataframe\">\n",
       "  <thead>\n",
       "    <tr style=\"text-align: right;\">\n",
       "      <th></th>\n",
       "      <th>index</th>\n",
       "      <th>리뷰어 이름</th>\n",
       "      <th>리뷰어 멤버 id</th>\n",
       "      <th>별점</th>\n",
       "      <th>리뷰 내용</th>\n",
       "      <th>리뷰로부터 도움 받은 사람 수</th>\n",
       "      <th>리뷰 작성일자</th>\n",
       "    </tr>\n",
       "  </thead>\n",
       "  <tbody>\n",
       "    <tr>\n",
       "      <th>0</th>\n",
       "      <td>0</td>\n",
       "      <td>리뷰호랭이</td>\n",
       "      <td>6596881</td>\n",
       "      <td>2</td>\n",
       "      <td>우리 아기의 우아한 우유 시간 [육아템 리뷰] 그로미미 PPSU 젖병 - 우리 아기...</td>\n",
       "      <td></td>\n",
       "      <td>2023.12.20</td>\n",
       "    </tr>\n",
       "    <tr>\n",
       "      <th>1</th>\n",
       "      <td>1</td>\n",
       "      <td>노랑파라랑</td>\n",
       "      <td>113798723</td>\n",
       "      <td>2</td>\n",
       "      <td>젖병 유목민 그로미미로 정착!! ●내 돈 내산 찐 후 기 ●    ✔구매동기   아...</td>\n",
       "      <td>7</td>\n",
       "      <td>2023.10.31</td>\n",
       "    </tr>\n",
       "    <tr>\n",
       "      <th>2</th>\n",
       "      <td>2</td>\n",
       "      <td>이*주</td>\n",
       "      <td>1393693</td>\n",
       "      <td>2</td>\n",
       "      <td>젖병은 그로미미! “내돈내산 후기 입니다”     둘째 아이가 이제 20개월이 다 ...</td>\n",
       "      <td></td>\n",
       "      <td>2023.11.23</td>\n",
       "    </tr>\n",
       "  </tbody>\n",
       "</table>\n",
       "</div>"
      ],
      "text/plain": [
       "   index  리뷰어 이름  리뷰어 멤버 id  별점  \\\n",
       "0      0  리뷰호랭이     6596881   2   \n",
       "1      1  노랑파라랑   113798723   2   \n",
       "2      2    이*주     1393693   2   \n",
       "\n",
       "                                               리뷰 내용 리뷰로부터 도움 받은 사람 수  \\\n",
       "0  우리 아기의 우아한 우유 시간 [육아템 리뷰] 그로미미 PPSU 젖병 - 우리 아기...                    \n",
       "1  젖병 유목민 그로미미로 정착!! ●내 돈 내산 찐 후 기 ●    ✔구매동기   아...                7   \n",
       "2  젖병은 그로미미! “내돈내산 후기 입니다”     둘째 아이가 이제 20개월이 다 ...                    \n",
       "\n",
       "      리뷰 작성일자  \n",
       "0  2023.12.20  \n",
       "1  2023.10.31  \n",
       "2  2023.11.23  "
      ]
     },
     "execution_count": 322,
     "metadata": {},
     "output_type": "execute_result"
    }
   ],
   "source": [
    "# 별점-1\n",
    "df['별점'] = df['별점']-1\n",
    "df.head(3)"
   ]
  },
  {
   "cell_type": "code",
   "execution_count": 323,
   "id": "d143b592",
   "metadata": {
    "id": "d143b592",
    "outputId": "7c9efedf-2117-428f-cafb-b56f90dfabdd"
   },
   "outputs": [
    {
     "data": {
      "text/plain": [
       "133717"
      ]
     },
     "execution_count": 323,
     "metadata": {},
     "output_type": "execute_result"
    }
   ],
   "source": [
    "len(df)"
   ]
  },
  {
   "cell_type": "code",
   "execution_count": 324,
   "id": "29a9e4e4",
   "metadata": {
    "id": "29a9e4e4"
   },
   "outputs": [],
   "source": [
    "df = df.drop('리뷰어 이름', axis=1)\n",
    "df = df.drop('리뷰로부터 도움 받은 사람 수', axis=1)\n",
    "df = df.drop('리뷰 작성일자', axis=1)\n",
    "df = df.drop('리뷰어 멤버 id', axis=1)"
   ]
  },
  {
   "cell_type": "code",
   "execution_count": 325,
   "id": "2e725947",
   "metadata": {
    "id": "2e725947"
   },
   "outputs": [],
   "source": [
    "train_data, test_data = train_test_split(df, test_size=0.2, random_state=42)"
   ]
  },
  {
   "cell_type": "code",
   "execution_count": 326,
   "id": "bd19863c",
   "metadata": {
    "id": "bd19863c",
    "outputId": "79be4cd7-fa29-4b51-9ce9-ca4bc22599cb"
   },
   "outputs": [
    {
     "name": "stdout",
     "output_type": "stream",
     "text": [
      "훈련샘플의개수: 106973\n",
      "테스트 샘플의 개수: 26744\n"
     ]
    }
   ],
   "source": [
    "print('훈련샘플의개수:', len(train_data))\n",
    "print('테스트 샘플의 개수:', len(test_data))"
   ]
  },
  {
   "cell_type": "code",
   "execution_count": 327,
   "id": "a56e1e24",
   "metadata": {
    "id": "a56e1e24",
    "outputId": "ac0919f6-93c4-4a4e-ef81-ef62f5ad12b5"
   },
   "outputs": [
    {
     "data": {
      "text/html": [
       "<div>\n",
       "<style scoped>\n",
       "    .dataframe tbody tr th:only-of-type {\n",
       "        vertical-align: middle;\n",
       "    }\n",
       "\n",
       "    .dataframe tbody tr th {\n",
       "        vertical-align: top;\n",
       "    }\n",
       "\n",
       "    .dataframe thead th {\n",
       "        text-align: right;\n",
       "    }\n",
       "</style>\n",
       "<table border=\"1\" class=\"dataframe\">\n",
       "  <thead>\n",
       "    <tr style=\"text-align: right;\">\n",
       "      <th></th>\n",
       "      <th>index</th>\n",
       "      <th>별점</th>\n",
       "      <th>리뷰 내용</th>\n",
       "    </tr>\n",
       "  </thead>\n",
       "  <tbody>\n",
       "    <tr>\n",
       "      <th>87874</th>\n",
       "      <td>1236</td>\n",
       "      <td>1</td>\n",
       "      <td>좋은 상품저렴하게 살수 있어 좋지만 배송은 엉망 본인이 드실거라면 추천 선물할거면 ...</td>\n",
       "    </tr>\n",
       "    <tr>\n",
       "      <th>70381</th>\n",
       "      <td>33901</td>\n",
       "      <td>0</td>\n",
       "      <td>연마제 어떻게 제거 해야하나요..ㅠ 기름으로 닦아내는데 작은 구멍에서 계속 묻어나와...</td>\n",
       "    </tr>\n",
       "    <tr>\n",
       "      <th>30220</th>\n",
       "      <td>30220</td>\n",
       "      <td>2</td>\n",
       "      <td>깊은맛이 느껴지는게 맛있어요 굿굿 ~^^ ⭕제품명 : 샘표 맑은 조선 간장 ⭕개당 ...</td>\n",
       "    </tr>\n",
       "    <tr>\n",
       "      <th>37609</th>\n",
       "      <td>1129</td>\n",
       "      <td>0</td>\n",
       "      <td>픽셀 불량 스트레스 동일 제품 사용하다 실수로 모니터 망가져 재구입 하지만 기존 제...</td>\n",
       "    </tr>\n",
       "    <tr>\n",
       "      <th>37407</th>\n",
       "      <td>927</td>\n",
       "      <td>1</td>\n",
       "      <td>아이폰만 고집하는 아이가 14를 3%카드할인 받으려고 내가 와우 가입해서 대신 주문해줌</td>\n",
       "    </tr>\n",
       "  </tbody>\n",
       "</table>\n",
       "</div>"
      ],
      "text/plain": [
       "       index  별점                                              리뷰 내용\n",
       "87874   1236   1  좋은 상품저렴하게 살수 있어 좋지만 배송은 엉망 본인이 드실거라면 추천 선물할거면 ...\n",
       "70381  33901   0  연마제 어떻게 제거 해야하나요..ㅠ 기름으로 닦아내는데 작은 구멍에서 계속 묻어나와...\n",
       "30220  30220   2  깊은맛이 느껴지는게 맛있어요 굿굿 ~^^ ⭕제품명 : 샘표 맑은 조선 간장 ⭕개당 ...\n",
       "37609   1129   0  픽셀 불량 스트레스 동일 제품 사용하다 실수로 모니터 망가져 재구입 하지만 기존 제...\n",
       "37407    927   1   아이폰만 고집하는 아이가 14를 3%카드할인 받으려고 내가 와우 가입해서 대신 주문해줌"
      ]
     },
     "execution_count": 327,
     "metadata": {},
     "output_type": "execute_result"
    }
   ],
   "source": [
    "train_data.head()"
   ]
  },
  {
   "cell_type": "markdown",
   "id": "0482ca38",
   "metadata": {
    "id": "0482ca38"
   },
   "source": [
    "1. 중복확인"
   ]
  },
  {
   "cell_type": "code",
   "execution_count": 328,
   "id": "2177a729",
   "metadata": {
    "id": "2177a729",
    "outputId": "09ca9b83-d5a7-48e1-b7c2-01f90ccb531b"
   },
   "outputs": [
    {
     "data": {
      "text/plain": [
       "(94927, 3)"
      ]
     },
     "execution_count": 328,
     "metadata": {},
     "output_type": "execute_result"
    }
   ],
   "source": [
    "train_data['리뷰 내용'].nunique(), train_data['별점'].nunique()\n",
    "# 5946 중 4609만 unique하다"
   ]
  },
  {
   "cell_type": "code",
   "execution_count": 329,
   "id": "ce6f03ff",
   "metadata": {
    "id": "ce6f03ff",
    "outputId": "15a20f24-86cb-40fc-bce6-40b02be51808"
   },
   "outputs": [
    {
     "name": "stdout",
     "output_type": "stream",
     "text": [
      "총 샘플의 수 :  94927\n"
     ]
    }
   ],
   "source": [
    "train_data.drop_duplicates(subset=['리뷰 내용'], inplace=True)\n",
    "print('총 샘플의 수 : ', len(train_data))"
   ]
  },
  {
   "cell_type": "code",
   "execution_count": 330,
   "id": "395d736f",
   "metadata": {
    "id": "395d736f",
    "outputId": "ced7c8d4-4dc9-46f2-c34b-1ed1eb5a5dac"
   },
   "outputs": [
    {
     "data": {
      "text/plain": [
       "<Axes: >"
      ]
     },
     "execution_count": 330,
     "metadata": {},
     "output_type": "execute_result"
    },
    {
     "data": {
      "image/png": "[encoded data removed]",
      "text/plain": [
       "<Figure size 640x480 with 1 Axes>"
      ]
     },
     "metadata": {},
     "output_type": "display_data"
    }
   ],
   "source": [
    "train_data['별점'].value_counts().plot(kind='bar')"
   ]
  },
  {
   "cell_type": "code",
   "execution_count": 331,
   "id": "84f495d5",
   "metadata": {
    "id": "84f495d5",
    "outputId": "f9e47fa6-95fc-4c05-ab11-782546ca1f3c"
   },
   "outputs": [
    {
     "data": {
      "text/html": [
       "<div>\n",
       "<style scoped>\n",
       "    .dataframe tbody tr th:only-of-type {\n",
       "        vertical-align: middle;\n",
       "    }\n",
       "\n",
       "    .dataframe tbody tr th {\n",
       "        vertical-align: top;\n",
       "    }\n",
       "\n",
       "    .dataframe thead th {\n",
       "        text-align: right;\n",
       "    }\n",
       "</style>\n",
       "<table border=\"1\" class=\"dataframe\">\n",
       "  <thead>\n",
       "    <tr style=\"text-align: right;\">\n",
       "      <th></th>\n",
       "      <th>별점</th>\n",
       "      <th>count</th>\n",
       "    </tr>\n",
       "  </thead>\n",
       "  <tbody>\n",
       "    <tr>\n",
       "      <th>0</th>\n",
       "      <td>0</td>\n",
       "      <td>31612</td>\n",
       "    </tr>\n",
       "    <tr>\n",
       "      <th>1</th>\n",
       "      <td>1</td>\n",
       "      <td>30037</td>\n",
       "    </tr>\n",
       "    <tr>\n",
       "      <th>2</th>\n",
       "      <td>2</td>\n",
       "      <td>33278</td>\n",
       "    </tr>\n",
       "  </tbody>\n",
       "</table>\n",
       "</div>"
      ],
      "text/plain": [
       "   별점  count\n",
       "0   0  31612\n",
       "1   1  30037\n",
       "2   2  33278"
      ]
     },
     "execution_count": 331,
     "metadata": {},
     "output_type": "execute_result"
    }
   ],
   "source": [
    "train_data.groupby('별점').size().reset_index(name='count')"
   ]
  },
  {
   "cell_type": "markdown",
   "id": "0196d8a4",
   "metadata": {
    "id": "0196d8a4"
   },
   "source": [
    "2. 결측치 확인"
   ]
  },
  {
   "cell_type": "code",
   "execution_count": 332,
   "id": "e47e157b",
   "metadata": {
    "id": "e47e157b",
    "outputId": "df2f7ce1-05c2-48c3-e49f-ef8f769553b8"
   },
   "outputs": [
    {
     "name": "stdout",
     "output_type": "stream",
     "text": [
      "False\n"
     ]
    }
   ],
   "source": [
    "# 결측치 확인\n",
    "print(train_data.isnull().values.any())"
   ]
  },
  {
   "cell_type": "code",
   "execution_count": 333,
   "id": "b1c71417",
   "metadata": {
    "id": "b1c71417",
    "outputId": "9c1c74d2-8269-4cd6-8216-e53b51697bee"
   },
   "outputs": [
    {
     "data": {
      "text/plain": [
       "index    0\n",
       "별점       0\n",
       "리뷰 내용    0\n",
       "dtype: int64"
      ]
     },
     "execution_count": 333,
     "metadata": {},
     "output_type": "execute_result"
    }
   ],
   "source": [
    "train_data.isnull().sum()"
   ]
  },
  {
   "cell_type": "code",
   "execution_count": 334,
   "id": "5068cab7",
   "metadata": {
    "id": "5068cab7",
    "outputId": "1721e4bd-8fdc-4f5e-8f3e-9a65656ad6b9"
   },
   "outputs": [
    {
     "name": "stdout",
     "output_type": "stream",
     "text": [
      "94927\n"
     ]
    }
   ],
   "source": [
    "print(len(train_data))"
   ]
  },
  {
   "cell_type": "markdown",
   "id": "72cfdbc9",
   "metadata": {
    "id": "72cfdbc9"
   },
   "source": [
    "3. 문자 전처리"
   ]
  },
  {
   "cell_type": "code",
   "execution_count": 335,
   "id": "dee6b179",
   "metadata": {
    "id": "dee6b179"
   },
   "outputs": [],
   "source": [
    "import re\n",
    "def temp(review):\n",
    "    return re.sub('[^가-힣ㄱ-ㅎㅏ-ㅣ\\\\s]','',review)"
   ]
  },
  {
   "cell_type": "code",
   "execution_count": 336,
   "id": "f9e0d1ca",
   "metadata": {
    "id": "f9e0d1ca",
    "outputId": "6a06642b-21d1-41c7-a358-7bd4d52a1a02"
   },
   "outputs": [
    {
     "data": {
      "text/plain": [
       "87874     좋은 상품저렴하게 살수 있어 좋지만 배송은 엉망 본인이 드실거라면 추천 선물할거면 비추\n",
       "70381    연마제 어떻게 제거 해야하나요ㅠ 기름으로 닦아내는데 작은 구멍에서 계속 묻어나와요 ...\n",
       "30220    깊은맛이 느껴지는게 맛있어요 굿굿  제품명  샘표 맑은 조선 간장 개당 용량수량  ...\n",
       "37609    픽셀 불량 스트레스 동일 제품 사용하다 실수로 모니터 망가져 재구입 하지만 기존 제...\n",
       "37407         아이폰만 고집하는 아이가 를 카드할인 받으려고 내가 와우 가입해서 대신 주문해줌\n",
       "Name: 리뷰 내용, dtype: object"
      ]
     },
     "execution_count": 336,
     "metadata": {},
     "output_type": "execute_result"
    }
   ],
   "source": [
    "train_data['리뷰 내용'][:5].apply(temp)"
   ]
  },
  {
   "cell_type": "code",
   "execution_count": 337,
   "id": "8769a487",
   "metadata": {
    "id": "8769a487",
    "outputId": "124bb846-1ef5-4575-aebb-19f8056d91c5"
   },
   "outputs": [
    {
     "data": {
      "text/html": [
       "<div>\n",
       "<style scoped>\n",
       "    .dataframe tbody tr th:only-of-type {\n",
       "        vertical-align: middle;\n",
       "    }\n",
       "\n",
       "    .dataframe tbody tr th {\n",
       "        vertical-align: top;\n",
       "    }\n",
       "\n",
       "    .dataframe thead th {\n",
       "        text-align: right;\n",
       "    }\n",
       "</style>\n",
       "<table border=\"1\" class=\"dataframe\">\n",
       "  <thead>\n",
       "    <tr style=\"text-align: right;\">\n",
       "      <th></th>\n",
       "      <th>index</th>\n",
       "      <th>별점</th>\n",
       "      <th>리뷰 내용</th>\n",
       "    </tr>\n",
       "  </thead>\n",
       "  <tbody>\n",
       "    <tr>\n",
       "      <th>87874</th>\n",
       "      <td>1236</td>\n",
       "      <td>1</td>\n",
       "      <td>좋은 상품저렴하게 살수 있어 좋지만 배송은 엉망 본인이 드실거라면 추천 선물할거면 비추</td>\n",
       "    </tr>\n",
       "    <tr>\n",
       "      <th>70381</th>\n",
       "      <td>33901</td>\n",
       "      <td>0</td>\n",
       "      <td>연마제 어떻게 제거 해야하나요ㅠ 기름으로 닦아내는데 작은 구멍에서 계속 묻어나와요 ...</td>\n",
       "    </tr>\n",
       "    <tr>\n",
       "      <th>30220</th>\n",
       "      <td>30220</td>\n",
       "      <td>2</td>\n",
       "      <td>깊은맛이 느껴지는게 맛있어요 굿굿  제품명  샘표 맑은 조선 간장 개당 용량수량  ...</td>\n",
       "    </tr>\n",
       "    <tr>\n",
       "      <th>37609</th>\n",
       "      <td>1129</td>\n",
       "      <td>0</td>\n",
       "      <td>픽셀 불량 스트레스 동일 제품 사용하다 실수로 모니터 망가져 재구입 하지만 기존 제...</td>\n",
       "    </tr>\n",
       "    <tr>\n",
       "      <th>37407</th>\n",
       "      <td>927</td>\n",
       "      <td>1</td>\n",
       "      <td>아이폰만 고집하는 아이가 를 카드할인 받으려고 내가 와우 가입해서 대신 주문해줌</td>\n",
       "    </tr>\n",
       "  </tbody>\n",
       "</table>\n",
       "</div>"
      ],
      "text/plain": [
       "       index  별점                                              리뷰 내용\n",
       "87874   1236   1   좋은 상품저렴하게 살수 있어 좋지만 배송은 엉망 본인이 드실거라면 추천 선물할거면 비추\n",
       "70381  33901   0  연마제 어떻게 제거 해야하나요ㅠ 기름으로 닦아내는데 작은 구멍에서 계속 묻어나와요 ...\n",
       "30220  30220   2  깊은맛이 느껴지는게 맛있어요 굿굿  제품명  샘표 맑은 조선 간장 개당 용량수량  ...\n",
       "37609   1129   0  픽셀 불량 스트레스 동일 제품 사용하다 실수로 모니터 망가져 재구입 하지만 기존 제...\n",
       "37407    927   1       아이폰만 고집하는 아이가 를 카드할인 받으려고 내가 와우 가입해서 대신 주문해줌"
      ]
     },
     "execution_count": 337,
     "metadata": {},
     "output_type": "execute_result"
    }
   ],
   "source": [
    "train_data['리뷰 내용'] = train_data['리뷰 내용'].apply(temp)\n",
    "\n",
    "train_data[:5]"
   ]
  },
  {
   "cell_type": "code",
   "execution_count": 338,
   "id": "db02cd27",
   "metadata": {
    "id": "db02cd27",
    "outputId": "305b6e66-430a-43de-98c9-b01e167d24fb"
   },
   "outputs": [
    {
     "data": {
      "text/plain": [
       "87874      좋은 상품저렴하게 살수 있어 좋지만 배송은 엉망 본인이 드실거라면 추천 선물할거면 비추\n",
       "70381     연마제 어떻게 제거 해야하나요ㅠ 기름으로 닦아내는데 작은 구멍에서 계속 묻어나와요 ...\n",
       "30220     깊은맛이 느껴지는게 맛있어요 굿굿  제품명  샘표 맑은 조선 간장 개당 용량수량  ...\n",
       "37609     픽셀 불량 스트레스 동일 제품 사용하다 실수로 모니터 망가져 재구입 하지만 기존 제...\n",
       "37407          아이폰만 고집하는 아이가 를 카드할인 받으려고 내가 와우 가입해서 대신 주문해줌\n",
       "115288    파손되서 왔습니다 ㅡㅡ 뭐죠 처음 구매했는데 뽁뽁이에는 흘러내려서 액 묻어있고 손잡...\n",
       "72504      우와진짜 커요  사진이랑 리뷰랑보고는 적당한크기를 생각했는데 받아보고 놀람  왠만...\n",
       "7478       일단 저는 좀 독특한 구매 동기가 있어요  베베숲 센서티브 물티슈라길래 주문을 했...\n",
       "98776     깔끔한 디자인 그러나 불편한 속지 앨범 자체는 튼튼하고 좋아요 크기도 적당한 편인데...\n",
       "84036     숨쉬기 편해요 크기 귀끈의 길이 착용감 호흡의 편리성 모두 만족합니다 특히 타마스크...\n",
       "Name: 리뷰 내용, dtype: object"
      ]
     },
     "execution_count": 338,
     "metadata": {},
     "output_type": "execute_result"
    }
   ],
   "source": [
    "train_data['리뷰 내용'][:10]"
   ]
  },
  {
   "cell_type": "code",
   "execution_count": 339,
   "id": "9fbb80b0",
   "metadata": {
    "id": "9fbb80b0",
    "outputId": "83fe49af-5b62-430e-a0ba-745a00c05cd6"
   },
   "outputs": [
    {
     "data": {
      "text/plain": [
       "index    0\n",
       "별점       0\n",
       "리뷰 내용    0\n",
       "dtype: int64"
      ]
     },
     "execution_count": 339,
     "metadata": {},
     "output_type": "execute_result"
    }
   ],
   "source": [
    "train_data.isnull().sum()"
   ]
  },
  {
   "cell_type": "code",
   "execution_count": 340,
   "id": "55cd14b7",
   "metadata": {
    "id": "55cd14b7",
    "outputId": "ff5ad298-8c54-473d-b871-ce7fb5ce397f"
   },
   "outputs": [
    {
     "name": "stdout",
     "output_type": "stream",
     "text": [
      "전처리 후 테스트용 샘플의 개수 : 25902\n"
     ]
    }
   ],
   "source": [
    "# 테스트데이터 전처리\n",
    "test_data.drop_duplicates(subset = ['리뷰 내용'], inplace=True) # document 열에서 중복인 내용이 있다면 중복 제거\n",
    "test_data = test_data.dropna(how='any') # Null 값 제거\n",
    "test_data['리뷰 내용'] = test_data['리뷰 내용'].apply(temp)\n",
    "print('전처리 후 테스트용 샘플의 개수 :',len(test_data))"
   ]
  },
  {
   "cell_type": "code",
   "execution_count": 341,
   "id": "97fdaf21",
   "metadata": {
    "id": "97fdaf21"
   },
   "outputs": [],
   "source": [
    "#stopwords = ['의','가','이','은','들','는','좀','잘','걍','과','도','를','으로','자','에','와','한','하다']"
   ]
  },
  {
   "cell_type": "code",
   "execution_count": 342,
   "id": "124ab590",
   "metadata": {
    "id": "124ab590"
   },
   "outputs": [],
   "source": [
    "stopwords = ['아', '휴', '아이구', '아이쿠', '아이고', '어', '나', '우리', '저희', '따라', '의해', '을', '를', '에', '의', '가',\n",
    "              '으로', '로', '에게', '뿐이다', '의거하여', '근거하여', '입각하여', '기준으로', '예하면', '예를 들면', '예를 들자면',\n",
    "              '저', '소인', '소생', '저희', '지말고', '하지마', '하지마라', '다른', '물론', '또한', '그리고', '비길수 없다', '해서는 안된다',\n",
    "              '뿐만 아니라', '만이 아니다', '만은 아니다', '막론하고', '관계없이', '그치지 않다', '그러나', '그런데', '하지만', '든간에',\n",
    "              '논하지 않다', '따지지 않다', '설사', '비록', '더라도', '아니면', '만 못하다', '하는 편이 낫다', '불문하고', '향하여', '향해서', '향하다',\n",
    "              '쪽으로', '틈타', '이용하여', '타다', '오르다', '제외하고', '이 외에', '이 밖에', '하여야', '비로소', '한다면 몰라도', '외에도', '이곳',\n",
    "              '여기', '부터', '기점으로', '따라서', '할 생각이다', '하려고하다', '이리하여', '그리하여', '그렇게 함으로써', '하지만', '일때', '할때',\n",
    "              '앞에서', '중에서', '보는데서', '으로써', '로써', '까지', '해야한다', '일것이다', '반드시', '할줄알다', '할수있다', '할수있어', '임에 틀림없다',\n",
    "              '한다면', '등', '등등', '제', '겨우', '단지', '다만', '할뿐', '딩동', '댕그', '대해서', '대하여', '대하면', '훨씬', '얼마나', '얼마만큼',\n",
    "              '얼마큼', '남짓', '여', '얼마간', '약간', '다소', '좀', '조금', '다수', '몇', '얼마', '지만', '하물며', '또한', '그러나', '그렇지만', '하지만',\n",
    "              '이외에도', '대해 말하자면', '뿐이다', '다음에', '반대로', '반대로 말하자면', '이와 반대로', '바꾸어서 말하면', '바꾸어서 한다면', '만약',\n",
    "              '그렇지않으면', '까악', '툭', '딱', '삐걱거리다', '보드득', '비걱거리다', '꽈당', '응당', '해야한다', '에 가서', '각', '각각', '여러분',\n",
    "              '각종', '각자', '제각기', '하도록하다', '와', '과', '그러므로', '그래서', '고로', '한 까닭에', '하기 때문에', '거니와', '이지만', '대하여',\n",
    "              '관하여', '관한', '과연', '실로', '아니나다를가', '생각한대로', '진짜로', '한적이있다', '하곤하였다', '하', '하하', '허허', '아하', '거바',\n",
    "              '와', '오', '왜', '어째서', '무엇때문에', '어찌', '하겠는가', '무슨', '어디', '어느곳', '더군다나', '하물며', '더욱이는', '어느때', '언제',\n",
    "              '야', '이봐', '어이', '여보시오', '흐흐', '흥', '휴', '헉헉', '헐떡헐떡', '영차', '여차', '어기여차', '끙끙', '아야', '앗', '아야', '콸콸',\n",
    "              '졸졸', '좍좍', '뚝뚝', '주룩주룩', '솨', '우르르', '그래도', '또', '그리고', '바꾸어말하면', '바꾸어말하자면', '혹은', '혹시', '답다', '및',\n",
    "              '그에 따르는', '때가 되어', '즉', '지든지', '설령', '가령', '하더라도', '할지라도', '일지라도', '지든지', '몇', '거의', '하마터면', '인젠',\n",
    "              '이젠', '된바에야', '된이상', '만큼', '어찌됏든', '그위에', '게다가', '점에서 보아', '비추어 보아', '고려하면', '하게될것이다', '일것이다',\n",
    "              '비교적', '좀', '보다더', '비하면', '시키다', '하게하다', '할만하다', '의해서', '연이서', '이어서', '잇따라', '뒤따라', '뒤이어', '결국',\n",
    "              '의지하여', '기대여', '통하여', '자마자', '더욱더', '불구하고', '얼마든지', '마음대로', '주저하지 않고', '곧', '즉시', '바로', '당장',\n",
    "              '하자마자', '밖에 안된다', '하면된다', '그래', '그렇지', '요컨대', '다시 말하자면', '바꿔 말하면', '즉', '구체적으로', '말하자면', '시작하여',\n",
    "              '시초에', '이상', '허', '헉', '허걱', '바와같이', '해도좋다', '해도된다', '게다가', '더구나', '하물며', '와르르', '팍', '퍽', '펄렁', '동안',\n",
    "              '이래', '하고있었다', '이었다', '에서', '로부터', '까지', '예하면', '했어요', '해요', '함께', '같이', '더불어','마저', '마저도', '양자',\n",
    "              '모두', '습니다', '가까스로', '하려고하다', '즈음하여', '다른', '다른 방면으로', '해봐요', '습니까', '했어요', '말할것도 없고', '무릎쓰고',\n",
    "              '개의치않고', '하는것만 못하다', '하는것이 낫다', '매', '매번', '들', '모', '어느것', '어느', '로써', '갖고말하자면', '어디', '어느쪽',\n",
    "              '어느것', '어느해', '어느 년도', '라 해도', '언젠가', '어떤것', '어느것', '저기', '저쪽', '저것', '그때', '그럼', '그러면', '요만한걸',\n",
    "              '그래', '그때', '저것만큼', '그저', '이르기까지', '할 줄 안다', '할 힘이 있다', '너', '너희', '당신', '어찌', '설마', '차라리', '할지언정',\n",
    "              '할지라도', '할망정', '할지언정', '구토하다', '게우다', '토하다', '메쓰겁다', '옆사람', '퉤', '쳇', '의거하여', '근거하여', '의해', '따라',\n",
    "              '힘입어', '그', '다음', '버금', '두번째로', '기타', '첫번째로', '나머지는', '그중에서', '견지에서', '형식으로 쓰여', '입장에서', '위해서',\n",
    "              '단지', '의해되다', '하도록시키다', '뿐만아니라', '반대로', '전후', '전자', '앞의것', '잠시', '잠깐', '하면서', '그렇지만', '다음에',\n",
    "              '그러한즉', '그런즉', '남들', '아무거나', '어찌하든지', '같다', '비슷하다', '예컨대', '이럴정도로', '어떻게', '만약', '만일',\n",
    "              '위에서 서술한바와같이', '인 듯하다', '하지 않는다면', '만약에', '무엇', '무슨', '어느', '어떤', '아래윗', '조차', '한데', '그럼에도 불구하고',\n",
    "              '여전히', '심지어', '까지도', '조차도', '하지 않도록', '않기 위하여', '때', '시각', '무렵', '시간', '동안', '어때', '어떠한', '하여금',\n",
    "              '네', '예', '우선', '누구', '누가 알겠는가', '아무도', '줄은모른다', '줄은 몰랏다', '하는 김에', '겸사겸사', '하는바', '그런 까닭에',\n",
    "              '한 이유는', '그러니', '그러니까', '때문에', '그', '너희', '그들', '너희들', '타인', '것', '것들', '너', '위하여', '공동으로', '동시에',\n",
    "              '하기 위하여', '어찌하여', '무엇때문에', '붕붕', '윙윙', '나', '우리', '엉엉', '휘익', '윙윙', '오호', '아하', '어쨋든', '만 못하다',\n",
    "              '하기보다는', '차라리', '하는 편이 낫다', '흐흐', '놀라다', '상대적으로 말하자면', '마치', '아니라면', '쉿', '그렇지 않으면', '그렇지 않다면',\n",
    "              '안 그러면', '아니었다면', '하든지', '아니면', '이라면', '좋아', '알았어', '하는것도', '그만이다', '어쩔수 없다', '하나', '일', '일반적으로',\n",
    "              '일단', '한켠으로는', '오자마자', '이렇게되면', '이와같다면', '전부', '한마디', '한항목', '근거로', '하기에', '아울러', '하지 않도록',\n",
    "              '않기 위해서', '이르기까지', '이 되다', '로 인하여', '까닭으로', '이유만으로', '이로 인하여', '그래서', '이 때문에', '그러므로', '그런 까닭에',\n",
    "              '알 수 있다', '결론을 낼 수 있다', '으로 인하여', '있다', '어떤것', '관계가 있다', '관련이 있다', '연관되다', '어떤것들', '에 대해', '이리하여',\n",
    "              '그리하여', '여부', '하기보다는', '하느니', '하면 할수록', '운운', '이러이러하다', '하구나', '하도다', '다시말하면', '다음으로', '에 있다',\n",
    "              '에 달려 있다', '우리', '우리들', '오히려', '하기는한데', '어떻게', '어떻해', '어찌됏어', '어때', '어째서', '본대로', '자', '이', '이쪽',\n",
    "              '여기', '이것', '이번', '이렇게말하자면', '이런', '이러한', '이와 같은', '요만큼', '요만한 것', '얼마 안 되는 것', '이만큼', '이 정도의',\n",
    "              '이렇게 많은 것', '이와 같다', '이때', '이렇구나', '것과 같이', '끼익', '삐걱', '따위', '와 같은 사람들', '부류의 사람들', '왜냐하면',\n",
    "              '중의하나', '오직', '오로지', '에 한하다', '하기만 하면', '도착하다', '까지 미치다', '도달하다', '정도에 이르다', '할 지경이다', '결과에 이르다',\n",
    "              '관해서는', '여러분', '하고 있다', '한 후', '혼자', '자기', '자기집', '자신', '우에 종합한것과같이', '총적으로 보면', '총적으로 말하면',\n",
    "              '총적으로', '대로 하다', '으로서', '참', '그만이다', '할 따름이다', '쿵', '탕탕', '쾅쾅', '둥둥', '봐', '봐라', '아이야', '아니', '와아',\n",
    "              '응', '아이', '참나', '년', '월', '일', '령', '영', '일', '이', '삼', '사', '오', '육', '륙', '칠', '팔', '구', '이천육', '이천칠', '이천팔',\n",
    "              '이천구', '하나', '둘', '셋', '넷', '다섯', '여섯', '일곱', '여덟', '아홉', '령', '영', 'ㅋㅋ', 'ㅜㅜ']"
   ]
  },
  {
   "cell_type": "code",
   "execution_count": 343,
   "id": "96e5454a",
   "metadata": {
    "id": "96e5454a",
    "outputId": "33c4a6d9-c09d-4965-ff57-878bd8014298"
   },
   "outputs": [
    {
     "data": {
      "text/plain": [
       "679"
      ]
     },
     "execution_count": 343,
     "metadata": {},
     "output_type": "execute_result"
    }
   ],
   "source": [
    "#stopwords = stopwords+st\n",
    "len(stopwords)"
   ]
  },
  {
   "cell_type": "markdown",
   "id": "8e1a2ceb",
   "metadata": {
    "id": "8e1a2ceb"
   },
   "source": [
    "4. 토픈화 및 stopwords 제거"
   ]
  },
  {
   "cell_type": "code",
   "execution_count": 630,
   "id": "e125e2e6",
   "metadata": {
    "id": "e125e2e6"
   },
   "outputs": [],
   "source": [
    "okt = Okt()"
   ]
  },
  {
   "cell_type": "code",
   "execution_count": 554,
   "id": "c0b4c6c4",
   "metadata": {
    "id": "c0b4c6c4",
    "outputId": "bfeb8945-7076-444e-f9bc-576b037f41a6"
   },
   "outputs": [
    {
     "name": "stderr",
     "output_type": "stream",
     "text": [
      "100%|███████████████████████| 94927/94927 [1:22:09<00:00, 19.26it/s]\n"
     ]
    }
   ],
   "source": [
    "X_train = []\n",
    "for sentence in tqdm(train_data['리뷰 내용']):\n",
    "    tok_sen = okt.pos(sentence, stem=True) # 형태소 추출\n",
    "    stop_rm_tok = []\n",
    "    for word, pos in tok_sen:\n",
    "        if (not word in stopwords) and (len(word)!=1):\n",
    "            stop_rm_tok.append(word)\n",
    "    X_train.append(stop_rm_tok)"
   ]
  },
  {
   "cell_type": "code",
   "execution_count": 629,
   "id": "91f9d2de",
   "metadata": {
    "id": "91f9d2de",
    "outputId": "36c841fe-0d74-41d2-b653-9988e3f839e4"
   },
   "outputs": [
    {
     "data": {
      "text/plain": [
       "array([[   0,    0,    0, ...,  168,    1,  778],\n",
       "       [   0,    0,    0, ...,    1,  415,    2],\n",
       "       [   0,    0,    0, ...,    4, 9934, 2833],\n",
       "       [   0,    0,    0, ...,   56,   15,  656],\n",
       "       [   0,    0,    0, ...,  598,   45,   85]])"
      ]
     },
     "execution_count": 629,
     "metadata": {},
     "output_type": "execute_result"
    }
   ],
   "source": [
    "X_train[:5]"
   ]
  },
  {
   "cell_type": "code",
   "execution_count": 559,
   "id": "09da75dc",
   "metadata": {
    "id": "09da75dc",
    "outputId": "019edfad-0bfd-4f6c-9b7b-4a9abe97e607"
   },
   "outputs": [
    {
     "data": {
      "text/plain": [
       "120697    포드 익스플로러 에어컨 필터 교체 잘 했습니다  돌비웨이  초미세먼지 차단 자동차 ...\n",
       "3557      부드러운 칫솔모 안녕하세요 귀염둥이 살 살 남매를 키우는 엄마에요  저는 구매하기전...\n",
       "92922                         배송어쩌죠 ㅠㅠ 이렇게는 말고 박스도 안전하게 플리즈\n",
       "119559                           그 자리에 앉으면 향이 너무 쎄 머리가 아프다 \n",
       "94828     강추합니다 깨끗하고 좋네요 너무 예뻐요 진열 겸 책장으로 쓸려고 구입 했는데 기대 ...\n",
       "                                ...                        \n",
       "11216                                      언제쯤 큰 효과를 볼까요 ㅋ \n",
       "16276     좋습니다 촉감이 부드러워서 좋아요 사이즈는 나쁘지 않아요 입어보자 마자 바로 또 주...\n",
       "15777     내돈내산 박 일용 캐리어 반추천 박 일용 중간 사이즈의 캐리어가 없어서 이번에 일본...\n",
       "50329     가성비 값 만원대무료배송에 이정도 퀄리티면 아주 만족합니다 기존 상품평이 너무 안좋...\n",
       "41681       너무나도 빠른 배송 슬림한 디자인 냉장고      디자인     화이트톤 색상으...\n",
       "Name: 리뷰 내용, Length: 25902, dtype: object"
      ]
     },
     "execution_count": 559,
     "metadata": {},
     "output_type": "execute_result"
    }
   ],
   "source": [
    "test_data['리뷰 내용']"
   ]
  },
  {
   "cell_type": "code",
   "execution_count": 561,
   "id": "ea944d59",
   "metadata": {
    "id": "ea944d59",
    "outputId": "5e96b99b-8b9b-4c84-d111-35b95d5b8604"
   },
   "outputs": [
    {
     "name": "stderr",
     "output_type": "stream",
     "text": [
      "100%|█████████████████████████| 25902/25902 [19:22<00:00, 22.29it/s]\n"
     ]
    }
   ],
   "source": [
    "X_test = []\n",
    "for sentence in tqdm(test_data['리뷰 내용']):\n",
    "    tokenized_sentence = okt.pos(sentence, stem=True) # 토큰화\n",
    "    stopwords_removed_sentence = []\n",
    "    for word, pos in tokenized_sentence:\n",
    "        if (not word in stopwords) and (len(word)!=1):\n",
    "            stopwords_removed_sentence.append(word)\n",
    "\n",
    "    X_test.append(stopwords_removed_sentence)"
   ]
  },
  {
   "cell_type": "code",
   "execution_count": 625,
   "id": "928bb921",
   "metadata": {
    "id": "928bb921",
    "outputId": "32f1eeb4-2d65-4126-d6af-38d9f34973d1"
   },
   "outputs": [
    {
     "name": "stdout",
     "output_type": "stream",
     "text": [
      "전처리 후 테스트용 샘플의 개수 : 25902\n",
      "전처리 후 학습용 샘플의 개수 : 94822\n"
     ]
    }
   ],
   "source": [
    "print('전처리 후 테스트용 샘플의 개수 :',len(X_test))\n",
    "print('전처리 후 학습용 샘플의 개수 :',len(X_train))"
   ]
  },
  {
   "cell_type": "markdown",
   "id": "b6d549c7",
   "metadata": {
    "id": "b6d549c7"
   },
   "source": [
    "#### 토큰화 시간이 오래걸리므로 임시변수 저장"
   ]
  },
  {
   "cell_type": "code",
   "execution_count": 626,
   "id": "ae165c29",
   "metadata": {
    "id": "ae165c29"
   },
   "outputs": [
    {
     "ename": "AttributeError",
     "evalue": "'numpy.ndarray' object has no attribute 'lower'",
     "output_type": "error",
     "traceback": [
      "\u001b[1;31m---------------------------------------------------------------------\u001b[0m",
      "\u001b[1;31mAttributeError\u001b[0m                      Traceback (most recent call last)",
      "Cell \u001b[1;32mIn[626], line 2\u001b[0m\n\u001b[0;32m      1\u001b[0m tokenizer \u001b[38;5;241m=\u001b[39m Tokenizer()\n\u001b[1;32m----> 2\u001b[0m \u001b[43mtokenizer\u001b[49m\u001b[38;5;241;43m.\u001b[39;49m\u001b[43mfit_on_texts\u001b[49m\u001b[43m(\u001b[49m\u001b[43mX_train\u001b[49m\u001b[43m)\u001b[49m\n",
      "File \u001b[1;32m~\\AppData\\Local\\Programs\\Python\\Python310\\lib\\site-packages\\keras\\src\\preprocessing\\text.py:293\u001b[0m, in \u001b[0;36mTokenizer.fit_on_texts\u001b[1;34m(self, texts)\u001b[0m\n\u001b[0;32m    291\u001b[0m \u001b[38;5;28;01melse\u001b[39;00m:\n\u001b[0;32m    292\u001b[0m     \u001b[38;5;28;01mif\u001b[39;00m \u001b[38;5;28mself\u001b[39m\u001b[38;5;241m.\u001b[39manalyzer \u001b[38;5;129;01mis\u001b[39;00m \u001b[38;5;28;01mNone\u001b[39;00m:\n\u001b[1;32m--> 293\u001b[0m         seq \u001b[38;5;241m=\u001b[39m \u001b[43mtext_to_word_sequence\u001b[49m\u001b[43m(\u001b[49m\n\u001b[0;32m    294\u001b[0m \u001b[43m            \u001b[49m\u001b[43mtext\u001b[49m\u001b[43m,\u001b[49m\n\u001b[0;32m    295\u001b[0m \u001b[43m            \u001b[49m\u001b[43mfilters\u001b[49m\u001b[38;5;241;43m=\u001b[39;49m\u001b[38;5;28;43mself\u001b[39;49m\u001b[38;5;241;43m.\u001b[39;49m\u001b[43mfilters\u001b[49m\u001b[43m,\u001b[49m\n\u001b[0;32m    296\u001b[0m \u001b[43m            \u001b[49m\u001b[43mlower\u001b[49m\u001b[38;5;241;43m=\u001b[39;49m\u001b[38;5;28;43mself\u001b[39;49m\u001b[38;5;241;43m.\u001b[39;49m\u001b[43mlower\u001b[49m\u001b[43m,\u001b[49m\n\u001b[0;32m    297\u001b[0m \u001b[43m            \u001b[49m\u001b[43msplit\u001b[49m\u001b[38;5;241;43m=\u001b[39;49m\u001b[38;5;28;43mself\u001b[39;49m\u001b[38;5;241;43m.\u001b[39;49m\u001b[43msplit\u001b[49m\u001b[43m,\u001b[49m\n\u001b[0;32m    298\u001b[0m \u001b[43m        \u001b[49m\u001b[43m)\u001b[49m\n\u001b[0;32m    299\u001b[0m     \u001b[38;5;28;01melse\u001b[39;00m:\n\u001b[0;32m    300\u001b[0m         seq \u001b[38;5;241m=\u001b[39m \u001b[38;5;28mself\u001b[39m\u001b[38;5;241m.\u001b[39manalyzer(text)\n",
      "File \u001b[1;32m~\\AppData\\Local\\Programs\\Python\\Python310\\lib\\site-packages\\keras\\src\\preprocessing\\text.py:74\u001b[0m, in \u001b[0;36mtext_to_word_sequence\u001b[1;34m(input_text, filters, lower, split)\u001b[0m\n\u001b[0;32m     46\u001b[0m \u001b[38;5;250m\u001b[39m\u001b[38;5;124mr\u001b[39m\u001b[38;5;124;03m\"\"\"Converts a text to a sequence of words (or tokens).\u001b[39;00m\n\u001b[0;32m     47\u001b[0m \n\u001b[0;32m     48\u001b[0m \u001b[38;5;124;03mDeprecated: `tf.keras.preprocessing.text.text_to_word_sequence` does not\u001b[39;00m\n\u001b[1;32m   (...)\u001b[0m\n\u001b[0;32m     71\u001b[0m \u001b[38;5;124;03m    A list of words (or tokens).\u001b[39;00m\n\u001b[0;32m     72\u001b[0m \u001b[38;5;124;03m\"\"\"\u001b[39;00m\n\u001b[0;32m     73\u001b[0m \u001b[38;5;28;01mif\u001b[39;00m lower:\n\u001b[1;32m---> 74\u001b[0m     input_text \u001b[38;5;241m=\u001b[39m \u001b[43minput_text\u001b[49m\u001b[38;5;241;43m.\u001b[39;49m\u001b[43mlower\u001b[49m()\n\u001b[0;32m     76\u001b[0m translate_dict \u001b[38;5;241m=\u001b[39m {c: split \u001b[38;5;28;01mfor\u001b[39;00m c \u001b[38;5;129;01min\u001b[39;00m filters}\n\u001b[0;32m     77\u001b[0m translate_map \u001b[38;5;241m=\u001b[39m \u001b[38;5;28mstr\u001b[39m\u001b[38;5;241m.\u001b[39mmaketrans(translate_dict)\n",
      "\u001b[1;31mAttributeError\u001b[0m: 'numpy.ndarray' object has no attribute 'lower'"
     ]
    }
   ],
   "source": [
    "tokenizer = Tokenizer()\n",
    "tokenizer.fit_on_texts(X_train)"
   ]
  },
  {
   "cell_type": "code",
   "execution_count": 627,
   "id": "596b8633",
   "metadata": {
    "id": "596b8633",
    "outputId": "612f5fd7-afad-4d09-bd49-0244eb40fefc"
   },
   "outputs": [
    {
     "data": {
      "text/plain": [
       "0"
      ]
     },
     "execution_count": 627,
     "metadata": {},
     "output_type": "execute_result"
    }
   ],
   "source": [
    "len(tokenizer.word_index)"
   ]
  },
  {
   "cell_type": "markdown",
   "id": "c0d62515",
   "metadata": {
    "id": "c0d62515"
   },
   "source": [
    "5. 토큰화된 학습 데이터 활용 단어사전 생성\n",
    "- keras Tokenizer() 활용"
   ]
  },
  {
   "cell_type": "markdown",
   "id": "24cc69b2",
   "metadata": {
    "id": "24cc69b2"
   },
   "source": [
    "#### 단어의 등장빈도수를 활용해 등장빈도수가 낮은 단어들은 제거"
   ]
  },
  {
   "cell_type": "code",
   "execution_count": 628,
   "id": "ad0b99a2-efeb-47b4-8cec-3ab8b00860ae",
   "metadata": {},
   "outputs": [
    {
     "data": {
      "text/plain": [
       "odict_items([])"
      ]
     },
     "execution_count": 628,
     "metadata": {},
     "output_type": "execute_result"
    }
   ],
   "source": [
    "tokenizer.word_counts.items()"
   ]
  },
  {
   "cell_type": "code",
   "execution_count": 566,
   "id": "4d2049e3",
   "metadata": {
    "id": "4d2049e3"
   },
   "outputs": [],
   "source": [
    "threshold = 3\n",
    "total_cnt = len(tokenizer.word_index) # 단어수\n",
    "rare_cnt = 0 # 단어의 빈도수가 threshold보다 작은 단어의 수\n",
    "total_freq = 0 # 훈련데이터의 전체 단어 빈도수 총 합\n",
    "rare_freq = 0 # 등장빈도수가 threshold보다 작은 단어들의 빈도수 합"
   ]
  },
  {
   "cell_type": "code",
   "execution_count": 567,
   "id": "8e6e84bf",
   "metadata": {
    "id": "8e6e84bf"
   },
   "outputs": [],
   "source": [
    "for key, value in tokenizer.word_counts.items():\n",
    "    total_freq = total_freq + value\n",
    "\n",
    "    # 단어 각각의 빈도수가 threshold보다 작으면\n",
    "    if(value < threshold):\n",
    "        rare_cnt = rare_cnt + 1\n",
    "        rare_freq = rare_freq + value"
   ]
  },
  {
   "cell_type": "code",
   "execution_count": 568,
   "id": "46a6aa41",
   "metadata": {
    "id": "46a6aa41",
    "outputId": "1455841b-5f49-48c4-d7a6-c496c656ac8d"
   },
   "outputs": [
    {
     "name": "stdout",
     "output_type": "stream",
     "text": [
      "단어 집합(vocabulary)의 크기 : 54476\n",
      "등장 빈도가 2번 이하인 희귀 단어의 수: 30199\n",
      "단어 집합에서 희귀 단어의 비율: 55.43542110287098\n",
      "전체 등장 빈도에서 희귀 단어 등장 빈도 비율: 0.653198989582813\n"
     ]
    }
   ],
   "source": [
    "print('단어 집합(vocabulary)의 크기 :',total_cnt)\n",
    "print('등장 빈도가 %s번 이하인 희귀 단어의 수: %s'%(threshold - 1, rare_cnt))\n",
    "print(\"단어 집합에서 희귀 단어의 비율:\", (rare_cnt / total_cnt)*100)\n",
    "print(\"전체 등장 빈도에서 희귀 단어 등장 빈도 비율:\", (rare_freq / total_freq)*100)"
   ]
  },
  {
   "cell_type": "code",
   "execution_count": 569,
   "id": "a5721523",
   "metadata": {
    "id": "a5721523",
    "outputId": "3a5ab74a-6bbc-4d81-a56e-b6c6125aab30"
   },
   "outputs": [
    {
     "data": {
      "text/plain": [
       "24278"
      ]
     },
     "execution_count": 569,
     "metadata": {},
     "output_type": "execute_result"
    }
   ],
   "source": [
    "# 사용할 단어 수 결정\n",
    "vocab_size = total_cnt - rare_cnt + 1\n",
    "vocab_size # 단어의 출연 빈도수가 높은 (3번이상 나오는) 단어의 수\n",
    "# 이만큼만 단어사전 생성"
   ]
  },
  {
   "cell_type": "code",
   "execution_count": 570,
   "id": "4105fbf9",
   "metadata": {
    "id": "4105fbf9"
   },
   "outputs": [],
   "source": [
    "tokenizer = Tokenizer(vocab_size)\n",
    "tokenizer.fit_on_texts(X_train)"
   ]
  },
  {
   "cell_type": "code",
   "execution_count": 572,
   "id": "ce237101-5b48-4a9f-ba17-4625e16a357a",
   "metadata": {},
   "outputs": [],
   "source": [
    "# 단어의 등장 횟수가 3개보다 작은 단어들을 제거\n",
    "filtered_word_counts = {word: count for word, count in tokenizer.word_counts.items() if count >= 3}\n",
    "\n",
    "# Tokenizer 업데이트: 등장 횟수가 3개보다 작은 단어들이 제거된 상태로 업데이트\n",
    "tokenizer.word_index = {word: idx for idx, (word, _) in enumerate(sorted(filtered_word_counts.items(), key=lambda x: x[1], reverse=True), start=1)}\n",
    "tokenizer.word_counts = filtered_word_counts"
   ]
  },
  {
   "cell_type": "code",
   "execution_count": 573,
   "id": "965201e9-8a0c-4bbc-9a6b-150952633ca7",
   "metadata": {
    "scrolled": true
   },
   "outputs": [
    {
     "data": {
      "text/plain": [
       "dict_items([('좋다', 93045), ('상품', 15169), ('저렴하다', 8174), ('살수', 137), ('있다', 100935), ('배송', 14244), ('엉망', 422), ('본인', 611), ('들다', 24369), ('추천', 9995), ('선물', 4745), ('하다', 287876), ('비추다', 1123), ('마제', 1196), ('어떻다', 3341), ('제거', 2693), ('기름', 2857), ('으로', 52427), ('닦다', 6141), ('작다', 10498), ('구멍', 1818), ('에서', 24933), ('계속', 6271), ('묻다', 2716), ('나오다', 11599), ('미치다', 614), ('쉬다', 5606), ('방법', 2263), ('깊다', 778), ('느껴지다', 3249), ('맛있다', 10488), ('굿굿', 423), ('제품', 41095), ('샘표', 117), ('맑은', 338), ('조선', 217), ('간장', 1050), ('개다', 1830), ('용량', 5014), ('수량', 507), ('가격', 23228), ('당원', 6), ('구매', 45939), ('날짜', 696), ('월일', 442), ('오후', 459), ('오전', 259), ('이유', 3482), ('사용', 52497), ('하고', 23549), ('미역국', 98), ('끓이다', 1954), ('마침', 683), ('떨어지다', 5566), ('검색', 2589), ('해보다', 11656), ('아니다', 21985), ('착하다', 1793), ('믿다', 3165), ('먹다', 49496), ('라서', 3628), ('망설이다', 658), ('없이', 9307), ('바로', 7851), ('후기', 17641), ('받다', 18153), ('넣다', 15949), ('보다', 65352), ('손가락', 727), ('찍다', 2031), ('약간', 5140), ('짜다', 4111), ('이나', 8150), ('각종', 334), ('무치다', 167), ('해먹', 946), ('늘다', 3899), ('만들다', 8682), ('처럼', 7282), ('효능', 574), ('알아보다', 1610), ('단백질', 1516), ('유산균', 946), ('공급', 199), ('혈관', 179), ('불순', 94), ('해독', 43), ('작용', 261), ('건강', 3351), ('여러', 4110), ('용도', 1836), ('자다', 42932), ('용하다', 689), ('같다', 59933), ('쭈욱', 248), ('평가', 518), ('신선도', 344), ('재다', 6403), ('지인', 1216), ('아직도', 574), ('결정', 984), ('추하다', 583), ('평이', 1165), ('조금', 13451), ('이나마', 595), ('도움', 11972), ('되다', 55934), ('돼다', 8404), ('꾸욱', 492), ('누르다', 6470), ('ㅎㅎ', 11761), ('코로나', 791), ('걸리다', 3660), ('않다', 46175), ('항상', 3138), ('조심', 489), ('챙기다', 3064), ('감사하다', 3178), ('이상', 3922), ('포스팅', 20), ('마치다', 212), ('픽셀', 19), ('불량', 2162), ('스트레스', 831), ('동일', 134), ('실수', 518), ('모니터', 916), ('망가지다', 661), ('구입', 11732), ('하지만', 4830), ('기존', 4347), ('화면', 1291), ('중간지점', 4), ('하나', 12310), ('나가다', 2601), ('이번', 6322), ('다시', 7162), ('켜다', 1321), ('바라보다', 72), ('오른쪽', 348), ('왼쪽', 358), ('상단', 260), ('에도', 8408), ('그냥', 14471), ('비슷하다', 2517), ('싸다', 4618), ('거지', 170), ('정말', 11058), ('이후', 979), ('로는', 1339), ('회사', 1358), ('절대', 1368), ('없다', 38291), ('예정', 1352), ('아이폰', 1405), ('고집', 171), ('아이', 22884), ('카드', 640), ('할인', 1583), ('와우', 700), ('가입', 103), ('대신', 1489), ('주문', 13362), ('해주다', 8198), ('파손', 1226), ('오다', 14440), ('ㅡㅡ', 1690), ('처음', 10356), ('뽁뽁이', 258), ('에는', 10628), ('흘러내리다', 490), ('손잡이', 2871), ('부분', 14272), ('되어다', 21854), ('차다', 4377), ('기분', 3963), ('안좋다', 2026), ('우와', 174), ('진짜', 8077), ('크다', 17813), ('사진', 6579), ('이랑', 4046), ('리뷰', 8257), ('보고', 8867), ('적당하다', 5918), ('크기', 7569), ('생각', 22656), ('놀람', 86), ('왠만하다', 467), ('전자레인지', 454), ('보다도', 388), ('접시', 522), ('다른', 13608), ('필요없다', 791), ('너무', 38249), ('커서', 2095), ('부담스럽다', 641), ('자주', 4950), ('깔끔하다', 6123), ('예쁘다', 5938), ('일단', 7345), ('독특하다', 91), ('동기', 789), ('베베', 376), ('센서티브', 27), ('물티슈', 3668), ('싶다', 11876), ('엠보싱', 394), ('두께', 2863), ('당황', 766), ('다행하다', 927), ('개봉', 1232), ('원하다', 2217), ('여서', 2567), ('반품', 3563), ('교환', 3154), ('건데', 663), ('찢어지다', 1460), ('탄력성', 26), ('개인', 2869), ('촉촉하다', 1575), ('느낌', 11884), ('좋아하다', 14438), ('정도', 17935), ('디자인', 6961), ('이뿌다', 168), ('구성', 3157), ('보통', 2274), ('인데', 11846), ('연달', 48), ('별로', 5325), ('뽑히다', 403), ('이에요', 5854), ('얇다', 5982), ('쓰다', 25329), ('거의', 3781), ('그래서', 8876), ('만족', 3713), ('두껍다', 3412), ('퍽퍽', 229), ('엄청', 6777), ('부드럽다', 6660), ('요새', 423), ('아기', 10525), ('성분', 3603), ('많이', 18933), ('정보', 626), ('화장품', 459), ('등록', 141), ('안심', 1785), ('이라고', 2818), ('대한', 993), ('설명', 3923), ('간략하다', 69), ('표기', 425), ('아쉽다', 6577), ('찾아보다', 1910), ('힘들다', 4243), ('때문', 7268), ('역할', 554), ('간단하다', 2416), ('적히다', 696), ('소비자', 437), ('특히', 2808), ('키우다', 1846), ('어머님', 131), ('보시', 1176), ('자연', 1085), ('많다', 15035), ('마다', 4460), ('들어가다', 6637), ('공통', 38), ('새롭다', 1954), ('대해', 627), ('공부', 802), ('글라이콜', 13), ('사탕수수', 5), ('발효', 350), ('시키다', 6262), ('추출', 676), ('지방산', 81), ('물질', 962), ('수분', 1174), ('끌다', 319), ('당기다', 656), ('기능', 4383), ('보습제', 32), ('피부', 5819), ('컨디셔닝', 7), ('용제', 10), ('향료', 122), ('이드', 306), ('세토', 3), ('페논', 3), ('식물', 233), ('로부터', 182), ('천연', 204), ('산화방지제', 3), ('인체', 167), ('방부제', 64), ('효과', 6182), ('등급', 421), ('매우', 2945), ('안전하다', 2460), ('라우', 16), ('라이드', 6), ('암모늄', 4), ('정전기', 178), ('방지', 2123), ('체취', 11), ('소듐', 33), ('바이', 124), ('알칼리성', 14), ('안전', 1701), ('조절', 3600), ('보호', 1176), ('여드름', 216), ('아토피', 152), ('트러블', 586), ('완화', 269), ('이디티에이', 3), ('금속', 79), ('이온', 43), ('결합', 198), ('통해', 613), ('품질', 2619), ('저하', 88), ('주다', 9495), ('엘더꽃', 3), ('플라보노이드', 41), ('풍부', 41), ('감기', 642), ('질병', 95), ('예방', 910), ('탄력', 405), ('유지', 1651), ('출처', 26), ('협회', 19), ('상식', 28), ('그러나', 585), ('불편하다', 5868), ('속지', 149), ('앨범', 424), ('자체', 2712), ('튼튼하다', 4094), ('초음파', 68), ('일반', 3329), ('인화', 52), ('장정', 35), ('려고', 740), ('스티커', 1596), ('떼다', 1588), ('저런', 174), ('검다', 772), ('신랑', 1525), ('사다', 17503), ('이야기', 452), ('물론', 1894), ('딸리다', 253), ('빗금', 3), ('모양', 2914), ('대로', 1523), ('빨리', 2363), ('아예', 1005), ('휴지', 663), ('준뒤', 23), ('덮다', 907), ('감수', 153), ('하고도', 131), ('크게', 2790), ('불만족', 121), ('스럽다', 1166), ('이기다', 872), ('접착', 1004), ('가성', 6678), ('숨쉬기', 284), ('편하다', 12418), ('길이', 2963), ('착용', 2598), ('호흡', 56), ('편리', 245), ('모두', 3020), ('만족하다', 8179), ('마스크', 2482), ('비다', 3103), ('가장', 3072), ('또한', 1791), ('부리', 278), ('이라', 15021), ('입술', 140), ('닿다', 1548), ('립스틱', 83), ('장시간', 301), ('귀가', 300), ('아프다', 3562), ('늘어나다', 1050), ('소재', 1799), ('편입', 785), ('성인', 592), ('남녀', 134), ('에게는', 810), ('얼굴', 2217), ('에어', 1444), ('데이즈', 117), ('의사', 2084), ('고양이', 1692), ('면역', 932), ('위해', 3132), ('먹이다', 4734), ('아직', 6020), ('모름', 59), ('한테', 2281), ('증상', 395), ('먹이', 1397), ('캡슐', 1136), ('츄르', 266), ('타다', 3083), ('마리', 1416), ('사료', 1830), ('버리다', 6900), ('그릇', 1235), ('붙다', 3870), ('보기', 1798), ('위생', 1086), ('역시', 3687), ('가지', 6788), ('나누다', 917), ('덕분', 1010), ('다행', 1198), ('꾸다', 1168), ('읽다', 2419), ('보색', 276), ('샴푸', 3077), ('탈색', 268), ('관리', 2551), ('상태', 4805), ('노랗다', 592), ('올라오다', 1771), ('애쉬', 54), ('염색', 382), ('까지', 11115), ('기다', 4783), ('주의', 1212), ('고민', 6456), ('노란색', 311), ('모나', 24), ('모에', 76), ('컬러', 1337), ('오래', 5718), ('로우', 152), ('계통', 16), ('살짝', 5895), ('변화', 389), ('모발', 500), ('에만', 871), ('시스템', 277), ('덥다', 2544), ('기름기', 279), ('인지', 3571), ('새다', 2248), ('만큼', 2087), ('거품', 2600), ('성하', 6), ('지는', 1353), ('신기하다', 951), ('진하다', 1995), ('보라색', 335), ('띄다', 663), ('욕조', 464), ('착색', 119), ('점도', 438), ('마음', 5978), ('훨씬', 2213), ('맞다', 9865), ('모르다', 9114), ('제이', 101), ('헤어', 671), ('따라서', 414), ('핑크', 1125), ('광고', 696), ('뜨다', 2582), ('궁금하다', 868), ('사려', 529), ('배송비', 200), ('근데', 6419), ('쿠팡', 12716), ('무료', 3975), ('아침', 3171), ('눈뜨다', 83), ('빠뜨리다', 12), ('지금', 4645), ('동안', 1690), ('차이', 2371), ('마지막', 1116), ('봉지', 1320), ('뜯다', 3884), ('미묘하다', 61), ('생기다', 4211), ('민가', 25), ('가벼워지다', 63), ('화장실', 1581), ('가다', 10968), ('푹신하다', 516), ('지지', 510), ('안되다', 8158), ('차량', 1151), ('점검', 65), ('세다', 1146), ('타가', 20), ('필터', 2187), ('갈고', 125), ('매번', 1424), ('그것', 1257), ('부담', 2359), ('구지', 57), ('순정', 124), ('상관없다', 541), ('에어컨', 1051), ('어느', 2226), ('순간', 955), ('부터', 5927), ('쉰내', 58), ('나다', 11618), ('교체', 2684), ('기도', 2934), ('차안', 173), ('공기', 943), ('부터가', 74), ('다르다', 4401), ('초미세먼지', 44), ('차단', 1521), ('만족스럽다', 3098), ('활성탄', 110), ('이니', 1123), ('확실하다', 3867), ('청정', 83), ('전과', 71), ('냄새', 10025), ('돌비', 22), ('웨이', 35), ('이제', 3897), ('운전자', 23), ('승자', 11), ('에게', 4453), ('말다', 4937), ('트레일', 22), ('레이저', 281), ('판매', 2143), ('대답', 38), ('시도', 490), ('제일', 3507), ('짧다', 2590), ('나사', 1090), ('굵다', 773), ('체결', 90), ('어케', 50), ('고정', 2728), ('셀프', 422), ('세차', 802), ('압수', 46), ('뿌리다', 2193), ('트블', 3), ('사양', 239), ('이다', 40098), ('유통', 2185), ('기한', 2316), ('개월', 5093), ('남다', 3958), ('양제', 1785), ('수도', 1425), ('임박', 41), ('예요', 4299), ('친언니', 17), ('관심', 1348), ('기용', 68), ('으론', 494), ('다해', 624), ('사보다', 1703), ('성공', 294), ('끼우다', 2365), ('노니', 57), ('소리', 5269), ('자꾸', 2389), ('쳐다보다', 167), ('만지다', 953), ('장점', 4343), ('청력', 10), ('색깔', 1717), ('밝다', 1266), ('이쁘다', 4856), ('세탁', 3725), ('가능하다', 5850), ('단점', 4961), ('신축', 438), ('양말', 2174), ('걸치다', 249), ('의미', 300), ('손목', 1070), ('라는데', 12), ('센치', 448), ('이면', 1009), ('사지', 728), ('찍찍', 305), ('숫놈', 5), ('암놈', 5), ('파랑색', 41), ('애매하다', 635), ('듭니', 1397), ('갖다', 1884), ('성공하다', 248), ('방울', 377), ('뽀시락', 7), ('아주', 9632), ('이고', 4461), ('키로', 1184), ('에요', 4540), ('둘레', 226), ('위엔', 9), ('라면', 1920), ('여유', 884), ('잇다', 2211), ('무난', 1748), ('식스', 9), ('예전', 2039), ('추다', 1233), ('에두', 112), ('맨발', 86), ('다니다', 3817), ('신음', 16), ('수가', 878), ('ㅋㅋ', 6647), ('추워지다', 328), ('바지', 1044), ('편이', 4453), ('장목', 151), ('컬러풀', 25), ('해봤다', 3857), ('도톰하다', 1091), ('가을', 392), ('겨울', 2268), ('신기', 280), ('느무', 16), ('카멜', 9), ('그린', 458), ('평소', 2440), ('사이즈', 11760), ('펴다', 1811), ('어보', 588), ('발바닥', 310), ('길다', 1494), ('밴드', 1325), ('쫀쫀하', 79), ('잡다', 2625), ('안정감', 463), ('지겹다', 122), ('두루', 364), ('무지', 324), ('드리다', 4908), ('센트', 72), ('바꾸다', 4181), ('먹기', 4300), ('넘어가다', 748), ('최악', 711), ('로켓', 3156), ('지연', 53), ('부모님', 692), ('께서', 420), ('필요하다', 5599), ('선택', 4752), ('요즘', 4234), ('가전제품', 173), ('괜찮다', 12485), ('작동', 1402), ('설치', 4059), ('어렵다', 2706), ('빠르다', 3915), ('전구', 263), ('아끼다', 478), ('생활', 850), ('이제야', 241), ('말고', 987), ('무조건', 1130), ('두번째', 1223), ('런가', 791), ('오늘', 3064), ('기저귀', 2910), ('떠나다', 202), ('한두', 877), ('컴팩트', 298), ('성능', 1680), ('대비', 4130), ('희다', 1017), ('회전', 649), ('이며', 799), ('전면', 126), ('가열', 366), ('알리다', 41), ('램프', 175), ('세척', 3492), ('와플', 649), ('샌드위치', 404), ('핫케익', 19), ('믹스', 444), ('저희', 5662), ('국자', 68), ('한국', 411), ('넘치다', 412), ('서로', 393), ('아우성', 9), ('이네', 3138), ('피존', 37), ('습기', 765), ('제로', 992), ('뽀송뽀송', 64), ('집안', 641), ('구석구석', 209), ('옷장', 343), ('이불', 1936), ('서랍', 1044), ('등등', 1216), ('두다', 7332), ('나중', 1314), ('어디', 1525), ('찾다', 5610), ('시기', 855), ('훌쩍', 68), ('넘기다', 347), ('습제', 185), ('비상', 75), ('사태', 89), ('발생', 633), ('박스', 5873), ('동시', 616), ('샅샅이', 4), ('뒤지다', 1061), ('곳곳', 149), ('박히다', 238), ('녀석', 449), ('모조리', 34), ('끄다', 4367), ('집다', 802), ('내다', 2614), ('잔뜩', 268), ('숨다', 134), ('지내다', 328), ('혈색', 14), ('아이고', 39), ('흙탕물', 8), ('용기', 1562), ('분리수거', 212), ('하고는', 223), ('문득', 63), ('궁금증', 27), ('라라', 23), ('낫다', 1021), ('건망증', 4), ('놓치다', 153), ('월간', 39), ('제안', 15), ('오히려', 1398), ('그렇다', 15513), ('한데', 1022), ('암튼', 955), ('찌다', 1789), ('사실', 2791), ('ㄷㄷ', 75), ('부터는', 415), ('정확하다', 911), ('작성', 5407), ('메모', 128), ('똬악', 9), ('붙이다', 2941), ('두기', 239), ('더럽다', 409), ('죄다', 129), ('니까', 2786), ('개운하다', 521), ('뽀송하다', 209), ('투명하다', 400), ('이던', 189), ('투명', 605), ('색상', 5211), ('연두색', 77), ('뚜껑', 3766), ('리뉴얼', 250), ('달라지다', 486), ('벌집', 61), ('타원형', 18), ('아마도', 223), ('빈공간', 41), ('도르다', 310), ('높이', 1273), ('외부', 517), ('옷가지', 19), ('와의', 79), ('강화하다', 38), ('보이다', 6089), ('글구', 131), ('굉장하다', 1570), ('보완', 173), ('칭찬', 366), ('둘때', 30), ('보관', 4556), ('중간', 2174), ('물이', 2304), ('상표', 71), ('육안', 94), ('식별', 15), ('영상', 620), ('참고', 3756), ('친척', 32), ('어르신', 134), ('정기', 175), ('보내다', 3825), ('무척', 373), ('넘다', 7707), ('적다', 4566), ('불만', 252), ('몇번', 1648), ('라는', 1609), ('결론', 1007), ('방치', 262), ('수시로', 269), ('전문가', 127), ('어련하다', 4), ('연구', 119), ('지속', 1201), ('비밀', 71), ('입맛', 1207), ('조미', 60), ('달다', 2738), ('오징어', 1069), ('사먹다', 1070), ('문제', 3998), ('원래', 3495), ('그런', 1826), ('꺼내다', 2322), ('눌려', 182), ('접힌', 51), ('밝기', 398), ('압니', 27), ('무용지물', 58), ('또는', 593), ('비용', 462), ('낭비', 197), ('환경', 549), ('거실', 1418), ('충분하다', 2487), ('구성은', 323), ('버티다', 404), ('멀다', 767), ('엄마', 3282), ('허리', 1566), ('고해', 815), ('소릴', 9), ('알다', 7991), ('아무', 1312), ('건지다', 3345), ('나쁘다', 2532), ('안녕하다', 1048), ('주제', 53), ('직접', 2453), ('써다', 14709), ('머리', 4094), ('곱다', 916), ('드라이기', 104), ('스타', 354), ('일링', 121), ('시간', 7747), ('속상하다', 511), ('그러다가', 244), ('우연히', 410), ('비달사순', 43), ('밉다', 1653), ('세트', 2136), ('물건', 2564), ('성품', 757), ('이렇게', 4377), ('집게', 290), ('그리고', 9055), ('브러쉬', 464), ('이름', 850), ('우선', 2307), ('같이', 5967), ('다음', 4334), ('휴대', 1279), ('여행', 1443), ('갈다', 3496), ('온도', 2618), ('따로', 3266), ('전원', 1095), ('버튼', 3548), ('하나로', 487), ('오프', 178), ('앞머리', 232), ('말기', 34), ('애용', 392), ('랍니', 235), ('한가지', 638), ('판이', 747), ('플라스틱', 2252), ('이라서', 2392), ('머리카락', 1011), ('달라붙다', 407), ('빼다', 5250), ('주변인', 16), ('한번', 10221), ('솔직하다', 2912), ('리다', 28), ('민망하다', 90), ('첨부', 673), ('최대한', 564), ('외곽', 13), ('처리', 1718), ('어찌', 389), ('심심하다', 359), ('사과', 1258), ('말씀', 310), ('필립스', 510), ('샤티넬', 16), ('어드밴스드', 65), ('모기', 437), ('화이트', 2270), ('본체', 932), ('전용', 881), ('어댑터', 98), ('헤드', 735), ('각질', 552), ('이빙', 48), ('트리', 1139), ('섬세', 41), ('영역', 70), ('소프트', 312), ('제모', 540), ('청소', 3263), ('브러시', 63), ('장갑', 254), ('파우치', 459), ('일회용', 450), ('면도기', 583), ('쓱쓱', 162), ('밀고', 184), ('마는', 63), ('타입', 1263), ('신문', 15), ('재미', 607), ('택배', 964), ('상자', 1294), ('열다', 2280), ('장착', 292), ('한눈', 135), ('오픈', 453), ('부속', 67), ('아래', 1772), ('감추다', 60), ('돋보이다', 72), ('패키지', 475), ('책자', 37), ('형태', 1095), ('큼지막하다', 77), ('피크닉', 14), ('수많다', 89), ('언어', 59), ('에서도', 1845), ('용법', 446), ('내용', 1184), ('그림', 1485), ('이해', 730), ('그리다', 2009), ('무선', 862), ('고요', 529), ('완충', 212), ('대략', 287), ('파워', 316), ('분리', 2171), ('조명', 476), ('들어오다', 2073), ('모드', 644), ('먼저', 1767), ('멈추다', 416), ('소음', 2060), ('놀라다', 1436), ('팔다리', 143), ('겨드랑이', 197), ('통증', 306), ('덜하다', 1091), ('씌우다', 594), ('걱정', 5147), ('미리', 1710), ('부속품', 167), ('따끔', 98), ('날다', 717), ('지나다', 2049), ('가늘다', 175), ('그렇게', 1990), ('느끼다', 4386), ('완벽하다', 790), ('부위', 858), ('따르다', 2284), ('만족도', 791), ('끊기다', 150), ('그래도', 7432), ('후의', 33), ('까슬하다', 29), ('뒤꿈치', 46), ('가루', 1996), ('연기', 397), ('날리다', 397), ('세면대', 172), ('나니', 545), ('빌리다', 87), ('자동', 1040), ('레트', 3), ('면도날', 111), ('수동', 203), ('보더', 325), ('밀다', 661), ('살펴보다', 485), ('용감', 532), ('인중', 85), ('좁다', 1091), ('면적', 218), ('다소', 569), ('다리', 1997), ('가전', 261), ('갖추다', 219), ('지장', 270), ('악세사리', 97), ('비싸다', 5737), ('부디', 109), ('후회', 1194), ('체험', 5331), ('이벤트', 3747), ('제공', 4499), ('도착', 2413), ('정품', 686), ('목요일', 35), ('수령', 213), ('그날', 329), ('누가', 739), ('가져가다', 465), ('까봐', 20), ('조마조마', 33), ('가방', 2496), ('놓다', 4862), ('여러가지', 1299), ('고르다', 2523), ('케이스', 3000), ('담기다', 721), ('쇼핑', 531), ('백도', 47), ('가볍다', 5791), ('돌리다', 4230), ('얼마', 1267), ('잃어버리다', 234), ('에드', 203), ('는걸', 1018), ('배탈', 37), ('아이스크림', 513), ('상하', 445), ('목장', 202), ('다시다', 542), ('녹다', 1039), ('필기', 230), ('감다', 2670), ('이라도', 1417), ('기울이다', 132), ('로드', 127), ('몬스터', 27), ('여기', 1601), ('광도', 44), ('안나', 2007), ('얼룩', 889), ('심하다', 2930), ('매듭', 38), ('에이', 139), ('에스', 70), ('산지', 297), ('일주일', 1404), ('스팀', 720), ('색감', 965), ('들어서다', 1287), ('무게', 3283), ('변형', 302), ('바닥', 3764), ('단단하다', 1335), ('쓸다', 7949), ('에다가', 270), ('티나', 151), ('사람', 4332), ('손상', 598), ('모이다', 117), ('결국', 1397), ('빠지다', 5147), ('바뀌다', 781), ('ㅠㅠㅠ', 660), ('미용실', 176), ('브라운', 276), ('원장', 28), ('막다', 786), ('실크', 162), ('케라틴', 16), ('손톱', 314), ('감고', 221), ('기억', 754), ('이니까', 355), ('요건', 483), ('살이', 1007), ('귀찮다', 2360), ('끼다', 1861), ('야하다', 3425), ('나서다', 3083), ('물기', 1498), ('고루', 120), ('버블', 217), ('듯이', 145), ('묻히다', 581), ('기다리다', 1189), ('놀란', 38), ('머릿결', 468), ('뻑뻑', 805), ('어쩌지', 123), ('진심', 687), ('마냥', 389), ('놀래다', 533), ('거기', 1151), ('다가', 943), ('은은하다', 1730), ('머스크', 363), ('파우더', 551), ('틀다', 1847), ('트리트먼트', 734), ('끝내다', 201), ('ㅋㅋㅋㅋ', 1295), ('씻다', 2851), ('똑같다', 1209), ('ㅋㅋㅋ', 3386), ('고도', 76), ('이런', 1675), ('메리트', 125), ('완전', 4336), ('일전', 141), ('황금', 39), ('시점', 149), ('자마자', 1357), ('덜다', 756), ('뭔가', 2268), ('지만', 2757), ('꾸준하다', 2973), ('찰랑거리다', 36), ('우리', 3740), ('주저리주저리', 5), ('길어지다', 178), ('널리', 85), ('불쾌하다', 234), ('으로는', 1669), ('약하다', 2861), ('실물', 343), ('여기저기', 931), ('찍히다', 616), ('충전', 2517), ('근처', 239), ('부근', 29), ('괜히', 586), ('인거', 1261), ('찝찝하다', 845), ('오염', 641), ('다치다', 550), ('구리', 161), ('조립', 4372), ('여자', 1231), ('혼자', 2583), ('드라이버', 385), ('일체', 286), ('잡고', 951), ('주르륵', 52), ('조심하다', 887), ('연어', 564), ('숙성하다', 37), ('초밥', 50), ('양도', 1079), ('넉넉하다', 2617), ('덩이', 115), ('자르다', 1953), ('숙성', 135), ('다시마', 65), ('소금', 594), ('설탕', 727), ('청주', 21), ('소주', 53), ('잔잔', 3), ('식초', 517), ('소주잔', 19), ('반잔', 4), ('섞다', 1659), ('골고루', 445), ('그다음', 185), ('냉장고', 1331), ('분만', 260), ('놔두다', 451), ('끝나다', 702), ('분후', 54), ('찬물', 275), ('헹궈준', 4), ('키친', 691), ('해동', 748), ('지로', 113), ('묽다', 664), ('완료', 798), ('주로', 971), ('방식', 713), ('썰다', 741), ('단촛물', 11), ('법도', 151), ('인분', 375), ('기준', 1362), ('스푼', 353), ('부다', 521), ('적당', 265), ('쥐다', 319), ('와사비', 61), ('얹다', 308), ('완성', 1000), ('전날', 242), ('가량', 272), ('올로', 301), ('준비', 1446), ('하얗다', 732), ('부어', 523), ('불다', 1363), ('감싸다', 543), ('헹군', 17), ('놨다', 24), ('바라다', 2493), ('화질', 512), ('깨끗하다', 2693), ('심해', 364), ('문틈', 24), ('사이', 1477), ('시끄럽다', 406), ('햄스터', 311), ('용품', 650), ('불가능하다', 156), ('달바', 61), ('기회', 834), ('커버', 2638), ('쿠션', 1375), ('미백', 92), ('주름', 466), ('개선', 1081), ('자외선', 182), ('맑다', 178), ('이탈리아', 46), ('트러플', 12), ('함유', 1190), ('파운데이션', 102), ('밀착', 482), ('섬세하다', 166), ('결점', 117), ('빛나다', 62), ('광채', 36), ('가꾸다', 46), ('이어서', 702), ('선크림', 133), ('바르다', 2770), ('톡톡', 236), ('드럽다', 119), ('화사하다', 284), ('팩트', 103), ('골드', 679), ('고급', 1177), ('지고', 463), ('이건', 4548), ('샘플', 116), ('리턴', 6), ('오일', 887), ('크림', 1546), ('클렌저', 99), ('팡팡', 79), ('건조하다', 1304), ('발라', 741), ('달라', 2150), ('펌프', 519), ('여유롭다', 102), ('내용물', 1154), ('부실', 94), ('만원', 2311), ('오르다', 1255), ('줄다', 1104), ('앞전', 86), ('비교', 3122), ('이르다', 1458), ('만해', 584), ('엔진', 308), ('완전하다', 562), ('자장가', 13), ('동호회', 9), ('회원', 209), ('연료', 192), ('첨가제', 247), ('가히', 7), ('세계', 95), ('최강', 99), ('연비', 123), ('향상', 249), ('무엇', 1775), ('섬유', 1371), ('고가', 282), ('중성세제', 73), ('보라보라', 15), ('부들부들하다', 225), ('그대로', 1999), ('진작', 579), ('살껄', 212), ('ㅠㅜ', 326), ('든든하다', 537), ('제조', 677), ('일자', 1328), ('일로', 230), ('최근', 963), ('쟁여놔', 22), ('마트', 1353), ('사악하다', 185), ('결과', 1135), ('최저', 145), ('가로', 733), ('얼집', 141), ('낮잠', 408), ('마감', 1590), ('전혀', 2659), ('정량', 110), ('건조기', 1663), ('빨래', 1945), ('인위', 224), ('과일', 1410), ('퀘퀘', 15), ('섞이다', 833), ('젖병', 1032), ('중탕', 23), ('넓다', 1814), ('쓰기', 3055), ('연마', 160), ('전반', 406), ('흥미롭다', 141), ('다만', 3208), ('취향', 888), ('구식', 6), ('이지', 1057), ('이라는', 1133), ('별하나', 639), ('라이스', 161), ('식감', 1145), ('곶감', 148), ('유의', 174), ('단맛', 1011), ('포장', 8704), ('가끔', 2092), ('씨앗', 33), ('잘리다', 273), ('서다', 2422), ('별도', 486), ('가위', 610), ('주기', 553), ('젤리', 1371), ('상당하다', 867), ('마시기', 286), ('오물오물', 19), ('살걸', 347), ('품절', 696), ('샤브샤브', 400), ('채소', 611), ('팽이버섯', 88), ('물르다', 134), ('상한', 266), ('가나', 216), ('무겁다', 2922), ('바닐라', 238), ('라벤더', 393), ('퓨져', 3), ('방향', 861), ('잘살다', 334), ('디퓨', 4), ('지다', 4101), ('다사', 34), ('퓨저', 621), ('몇개', 1044), ('왓어', 31), ('손님', 299), ('굽다', 3167), ('게젤', 10), ('잘알다', 214), ('살다', 3877), ('독하다', 255), ('묵직하다', 726), ('강하다', 2228), ('에서는', 1574), ('잔향', 333), ('지독하다', 45), ('잠재우다', 13), ('나이', 922), ('신분', 879), ('향기', 1634), ('어지럽다', 87), ('속이다', 666), ('당장', 505), ('게다', 13), ('케리', 83), ('무거', 92), ('끝판', 101), ('갤탭', 18), ('사용자', 292), ('펠트', 25), ('종이', 1922), ('질감', 611), ('필름', 464), ('대다', 1467), ('노트', 284), ('연필', 64), ('보다는', 3070), ('용지', 837), ('싸인', 44), ('호불호', 598), ('고무', 862), ('이랑은', 75), ('욕구', 50), ('포기', 663), ('들이다', 1491), ('많아지다', 428), ('이대로', 59), ('매력', 353), ('입다', 4130), ('올해', 428), ('오빠', 108), ('동생', 614), ('튀다', 746), ('네온', 8), ('옐로우', 89), ('형광', 123), ('이렇다', 4141), ('입어보다', 380), ('놀다', 5335), ('지도', 677), ('따다', 1470), ('ㄷㅓ', 5), ('비염', 223), ('알러지', 402), ('케어', 904), ('패드', 1848), ('방수', 1046), ('굳이', 898), ('탁시', 84), ('탈수', 209), ('금고', 78), ('드럼세탁기', 57), ('평안', 12), ('ㅜㅡ', 47), ('방가', 20), ('심각하다', 185), ('지끈', 21), ('열심히', 1345), ('침구', 372), ('고정용', 26), ('고무줄', 281), ('침대', 1263), ('밀리', 267), ('앓다', 59), ('옵션', 173), ('한장', 926), ('연결하다', 922), ('이기', 932), ('벽면', 196), ('치다', 1848), ('테이프', 1138), ('붙이', 645), ('벽지', 205), ('꼭꼬핀', 5), ('운동', 1052), ('만나다', 506), ('길냥이', 334), ('급여', 683), ('알차다', 377), ('간식', 3339), ('배고프다', 168), ('한웅', 13), ('줍다', 1161), ('기두', 22), ('간편하다', 3108), ('초등', 189), ('학년', 246), ('달달', 1385), ('단기간', 36), ('초등학교', 129), ('까진', 541), ('고학년', 40), ('주말', 420), ('국수', 439), ('오뚜기', 150), ('옛날', 481), ('중면', 215), ('남편', 2628), ('평일', 38), ('하루', 5465), ('독박', 13), ('육아', 593), ('ㅠㅠ', 9220), ('어린이집', 740), ('시세', 26), ('차리다', 98), ('여간', 82), ('쉽다', 1477), ('일이', 1699), ('메뉴', 230), ('까다롭다', 446), ('잔치국수', 27), ('소면', 152), ('삶다', 872), ('짜장', 14), ('소스', 770), ('비비다', 272), ('들기름', 141), ('사두', 107), ('음식', 2302), ('얼음', 1146), ('박박', 136), ('헹궈주', 32), ('분기도', 11), ('날아가다', 265), ('쫄깃쫄깃', 92), ('한글', 879), ('동영상', 469), ('애플', 747), ('검수', 545), ('라기', 74), ('주위', 262), ('선명하다', 431), ('원주고', 61), ('퀄리티', 1077), ('신청', 730), ('동일하다', 380), ('정식', 45), ('항의', 21), ('제발', 377), ('양품', 106), ('인가요', 474), ('입구', 734), ('열리다', 978), ('왁스', 369), ('잔기스', 78), ('이지만', 1831), ('칠하다', 381), ('추가', 3661), ('잘나다', 374), ('팅기다', 111), ('모습', 638), ('도장', 191), ('표면', 449), ('스마트폰', 190), ('둥글다', 292), ('문지르다', 508), ('살살', 444), ('슉슉', 24), ('미끄러지다', 552), ('차갑다', 836), ('하이', 126), ('브리', 292), ('코튼', 363), ('미끄럽다', 580), ('광택', 496), ('하이브리드', 69), ('둥글둥글', 8), ('맺다', 72), ('매끈하다', 276), ('불렛', 53), ('작업', 1085), ('성은', 325), ('영어', 370), ('학습', 558), ('딱이다', 1715), ('스쿨', 73), ('저자', 24), ('출판사', 47), ('나우', 124), ('에듀', 113), ('과목', 33), ('쪽수', 10), ('글쓰기', 53), ('사서', 2984), ('함께', 2649), ('시작', 3162), ('작년', 569), ('조금씩', 1172), ('알파벳', 76), ('컬러링', 4), ('페이지', 499), ('지르다', 605), ('어리다', 1967), ('습량', 7), ('앉다', 1795), ('요량', 31), ('현재', 1039), ('세번', 755), ('반복', 621), ('스스로', 521), ('달리', 368), ('놀이', 2022), ('정해진', 43), ('귀엽다', 2498), ('눈길', 46), ('사로자다', 33), ('다양하다', 3524), ('퀴즈', 11), ('성별', 38), ('관계', 125), ('요소', 120), ('동물', 469), ('자동차', 1095), ('색칠', 184), ('찾기', 402), ('집중', 513), ('적합하다', 511), ('대문자', 4), ('소문자', 6), ('배우다', 441), ('중이', 946), ('라고', 3487), ('재미있다', 523), ('이자', 163), ('흥미', 571), ('유발', 208), ('헤어지다', 17), ('여자친구', 57), ('가슴', 731), ('워낙', 1507), ('친구', 1864), ('샤프', 117), ('해봣어', 6), ('연락', 328), ('잘쓰다', 1435), ('재질', 3128), ('벗기다', 629), ('마르다', 1182), ('수영', 298), ('가드', 352), ('구기다', 420), ('빨다', 1184), ('접다', 1800), ('압축', 452), ('줗아', 3), ('나무', 782), ('걸다', 2079), ('아쉬움', 683), ('용이', 825), ('과부', 383), ('두꺼비', 42), ('용인', 60), ('구체', 29), ('기입', 46), ('오랜', 791), ('한편', 440), ('펼치다', 511), ('쫀득', 196), ('매트', 4510), ('딴딴하다', 58), ('애기', 2657), ('넘어지다', 432), ('충격', 429), ('쫀쫀', 243), ('관절', 617), ('눌리', 124), ('자리', 1398), ('라오', 3), ('확인', 3396), ('청소기', 1012), ('살살하다', 13), ('먼지', 3156), ('닦이다', 1257), ('저번', 500), ('없애다', 272), ('누락', 88), ('상세', 785), ('앞장', 15), ('문자', 155), ('가보다', 809), ('빌라', 44), ('호에', 7), ('반송', 26), ('찾아오다', 103), ('신경', 2595), ('ㅜㅜ', 4419), ('식탁', 614), ('인덕션', 1362), ('한지', 1034), ('전골', 121), ('고기', 2133), ('버너', 104), ('부탄가스', 27), ('위험하다', 563), ('장만', 391), ('플라워', 93), ('아보', 363), ('담다', 2155), ('자국', 1290), ('거슬리다', 693), ('소형', 372), ('완충제', 85), ('꼼꼼하다', 1546), ('블랙', 1639), ('우드', 318), ('조합', 391), ('스러운', 180), ('콘센트', 778), ('터치', 725), ('레버', 79), ('돌아가다', 1136), ('냄비', 1896), ('해당', 500), ('올리다', 3997), ('쿠쿠', 102), ('스테인레스', 389), ('포터블', 34), ('빙기', 144), ('모델', 668), ('명품', 85), ('중량', 307), ('일일', 133), ('최대', 637), ('제빙', 69), ('레이', 320), ('출시', 268), ('년월', 291), ('정격', 22), ('전압', 70), ('소비전력', 98), ('에너지', 324), ('효율', 395), ('적용', 260), ('대상', 119), ('가족', 1886), ('너무나도', 164), ('만큼은', 275), ('올여름', 61), ('당첨', 258), ('외관', 527), ('메탈', 115), ('스테인리스', 324), ('고급스럽다', 908), ('모던', 190), ('주방', 1609), ('어울리다', 1277), ('붓다', 473), ('꽂다', 1595), ('무한', 125), ('완젼', 109), ('신세계', 404), ('캠핑장', 65), ('여름', 2463), ('캠핑', 588), ('얼리다', 391), ('약분', 11), ('제빙량', 3), ('풍부하다', 856), ('냉동', 2406), ('아이스', 170), ('스마트', 475), ('안쪽', 1399), ('잔류', 32), ('하부', 81), ('부착', 775), ('수조', 64), ('편리하다', 3262), ('편의', 219), ('알람', 104), ('비록', 70), ('만약', 291), ('출석', 4), ('출근', 411), ('오잉', 39), ('도저히', 288), ('주부', 291), ('친정', 419), ('어머니', 364), ('명절', 220), ('방문', 225), ('상차림', 20), ('수월하다', 373), ('파스타', 666), ('하얀색', 284), ('사위', 11), ('고모', 19), ('이십', 14), ('오천원', 48), ('가게', 402), ('만큼의', 148), ('만능', 100), ('깊이', 424), ('어려움', 260), ('이회', 10), ('깨다', 1374), ('파편', 15), ('장난감', 2771), ('실망', 1403), ('업체', 390), ('로안', 36), ('시나', 97), ('입장', 389), ('언짢다', 7), ('치면', 182), ('책임지다', 58), ('비닐', 2908), ('회수', 76), ('고소하다', 1718), ('솔솔', 145), ('곡물', 298), ('깨끗이', 313), ('난후', 131), ('손바닥', 398), ('동전', 59), ('비버', 14), ('지대', 50), ('일어나다', 924), ('마사지', 134), ('미온수', 57), ('해지', 172), ('낼때', 81), ('알갱이', 335), ('으로도', 1987), ('초안', 6), ('행궈주', 11), ('바람', 2031), ('버클', 287), ('아티나', 65), ('미끌거리다', 136), ('쪼이다', 199), ('금새', 239), ('풀다', 807), ('그렇다고', 946), ('쓰이다', 1485), ('어쩔', 1272), ('풍선', 306), ('연하다', 393), ('판단', 240), ('청해', 42), ('건가', 892), ('넣기', 466), ('견디다', 138), ('베스트', 308), ('물놀이', 550), ('밖에', 1655), ('잠시', 473), ('빵빵', 367), ('사라지다', 929), ('채우다', 1422), ('금방', 3333), ('억지로', 219), ('늘리다', 405), ('게임', 499), ('바탕화면', 13), ('실행', 86), ('비리다', 904), ('계란', 972), ('노른자', 83), ('풀어지다', 102), ('아무래도', 1743), ('오래되다', 896), ('터지다', 1352), ('난리', 719), ('뻥튀기', 11), ('제대로', 1628), ('쟁여두', 125), ('나야', 41), ('펌핑', 302), ('펑핑', 3), ('헤퍼', 12), ('그저', 297), ('비도', 361), ('물가', 134), ('음료수', 194), ('천원', 846), ('수준', 688), ('호기심', 272), ('온라인', 205), ('웅진', 133), ('토마토쥬스', 23), ('진행', 288), ('대부분', 904), ('쥬스', 409), ('불구', 377), ('끝장', 21), ('쿠폰', 239), ('대박', 645), ('파다', 1191), ('토스트', 224), ('종류', 2049), ('치즈', 1568), ('바삭바삭', 61), ('보신', 167), ('분들', 2780), ('클라이너', 5), ('소파', 303), ('가죽', 446), ('액체', 331), ('땅바닥', 13), ('당근', 1125), ('감사', 442), ('연령', 250), ('필수', 1507), ('왜냐하면', 61), ('까맣다', 467), ('동네', 260), ('무섭다', 727), ('아무렇다', 194), ('어제', 795), ('밤늦다', 29), ('인치', 669), ('간전', 25), ('프로젝터', 68), ('스크린', 94), ('밀려오다', 22), ('무늬', 510), ('쏘다', 923), ('어직', 5), ('계시다', 736), ('이민', 61), ('싣다', 49), ('하므다', 88), ('바퀴', 1883), ('중요하다', 1998), ('미터', 221), ('내리다', 826), ('공항', 70), ('데스크', 16), ('우두둑', 4), ('사장', 112), ('킬로', 168), ('구실', 11), ('로만', 630), ('이틀', 839), ('어항', 565), ('깨지다', 1121), ('물새', 18), ('꾸미다', 257), ('여과기', 542), ('아마존', 48), ('몰다', 205), ('제껀', 48), ('달리다', 332), ('나아', 25), ('기본', 1434), ('건아', 26), ('개뻥', 3), ('천장', 311), ('마구마구', 82), ('치솟다', 16), ('써큘', 9), ('선풍기', 349), ('환풍기', 27), ('전체', 2234), ('조카', 883), ('그릴', 600), ('불꽃', 50), ('허다', 1025), ('마늘', 700), ('송송', 68), ('종지', 25), ('판정', 34), ('끓음', 4), ('장단점', 327), ('범벅', 84), ('빨갛다', 578), ('대니', 25), ('덜남', 5), ('엘베', 37), ('진동', 364), ('알콜', 151), ('미니', 1748), ('편백', 117), ('겁내', 6), ('터득', 52), ('코드', 832), ('꼽는', 52), ('튀어', 230), ('덩거림', 5), ('팔팔', 144), ('끓다', 791), ('헹구', 161), ('먹음', 470), ('낚시', 37), ('마무리', 649), ('헐다', 252), ('만대', 11), ('성장', 208), ('내지', 158), ('부족하다', 1752), ('모자', 158), ('중형', 450), ('넓이', 148), ('표시', 776), ('난감하다', 267), ('커튼', 981), ('휘청거리다', 40), ('서비스', 399), ('화가', 333), ('발견', 1122), ('매일', 2576), ('기사', 646), ('배정', 40), ('수리', 233), ('프로', 1326), ('그런데', 2959), ('기간', 764), ('얼마나', 1128), ('확신', 58), ('세탁기', 1001), ('한다는', 518), ('겁니다', 687), ('어이', 199), ('임대', 12), ('살때', 311), ('그때', 1348), ('인테리어', 720), ('흘리다', 760), ('보상', 122), ('인정', 194), ('고객', 531), ('피해', 161), ('조치', 65), ('흘러나오다', 64), ('삼성', 389), ('에서만', 265), ('튼실하다', 83), ('토실토실하다', 4), ('어디서', 295), ('눌렸는', 3), ('옆구리', 73), ('애가', 776), ('긁다', 703), ('모으다', 367), ('명란', 88), ('별미', 29), ('비앤비', 147), ('깐깐하다', 59), ('둘째', 1310), ('태어나다', 367), ('세제', 1440), ('유연제', 674), ('무향', 444), ('정력', 517), ('우수', 81), ('어른', 1123), ('이용', 1850), ('리필', 674), ('첫째', 1050), ('계면활성제', 118), ('거르', 79), ('순하다', 521), ('필로', 33), ('계량컵', 157), ('눈대중', 32), ('대충', 847), ('헹굼', 105), ('흐르다', 998), ('진득', 50), ('특가', 62), ('그게', 1090), ('필사', 10), ('물똥', 4), ('이유식', 1841), ('말끔', 80), ('지워지다', 883), ('산소', 263), ('뜨겁다', 1682), ('녹이다', 361), ('지난', 435), ('말끔히', 37), ('벌써', 1049), ('달이', 227), ('따지다', 293), ('꾸벅', 33), ('행복하다', 949), ('즐겁다', 648), ('목욕', 651), ('힘주다', 281), ('부딪히다', 173), ('날카롭다', 565), ('베다', 752), ('부탁드리다', 1297), ('져서', 51), ('아래쪽', 274), ('쓰리다', 577), ('안다', 644), ('된거', 479), ('규격', 144), ('틀때', 12), ('위아래', 322), ('거리', 1843), ('정상', 606), ('패스', 182), ('흐물흐물', 125), ('거려', 234), ('로이', 142), ('마크', 219), ('남자', 978), ('변신', 557), ('도전', 522), ('직각', 37), ('받치다', 362), ('높다', 3110), ('엉덩이', 786), ('의자', 772), ('두부', 884), ('추석', 150), ('식용유', 468), ('두르다', 445), ('지지다', 127), ('담백하다', 337), ('등분', 56), ('반나절', 142), ('지나', 296), ('절반', 305), ('줄어들다', 708), ('가득하다', 331), ('여전하다', 550), ('인기', 376), ('도나', 105), ('퀼리티', 14), ('달도', 178), ('온장고', 8), ('ㅎㅎㅎ', 1994), ('거즘', 18), ('거뜬하다', 170), ('강아지', 2700), ('산책', 758), ('용변', 12), ('니당다', 936), ('브랜드', 2956), ('둘둘', 53), ('말리다', 1271), ('피다', 495), ('구부러지다', 67), ('외출', 1208), ('저렇게', 419), ('찢다', 344), ('비지', 275), ('이란', 388), ('인가', 1252), ('루루', 29), ('바느질', 289), ('일만', 208), ('일색', 21), ('압박', 326), ('내려가다', 648), ('에코', 205), ('청운', 4), ('정부', 27), ('화일', 53), ('모든', 1531), ('은줄', 42), ('춘천', 51), ('감자', 877), ('리지', 480), ('개입', 480), ('프레', 731), ('준수', 74), ('판매량', 69), ('늦추다', 121), ('뿐이다', 209), ('닮다', 69), ('구수하다', 201), ('한개', 945), ('밀가루', 327), ('소화', 434), ('더부룩하다', 63), ('통감', 3), ('달콤하다', 832), ('한가득', 73), ('흑임자', 15), ('콩가루', 23), ('표현', 553), ('대단하다', 158), ('프라', 204), ('맞추다', 2115), ('필요', 1668), ('시로', 173), ('세상', 689), ('밍밍', 396), ('배추', 524), ('청경채', 53), ('숙주', 35), ('예상', 545), ('푸석푸석하다', 71), ('아깝다', 1724), ('양파', 348), ('볶다', 500), ('우유', 4403), ('스프', 175), ('식빵', 284), ('다운', 256), ('유리', 978), ('콤해', 15), ('신다', 1843), ('역다', 55), ('운동전후', 3), ('라벨', 217), ('지키다', 447), ('얼다', 352), ('담그다', 701), ('녹지', 96), ('점심때', 40), ('진자', 22), ('엄청나다', 622), ('한잔', 388), ('정신', 203), ('노력', 396), ('지치다', 155), ('막히다', 418), ('힘드다', 1111), ('한정', 52), ('공간', 2406), ('고스', 31), ('라니', 185), ('짓다', 122), ('판사', 8), ('죽다', 521), ('저렇다', 69), ('어차피', 786), ('방역', 12), ('싸이', 265), ('벡스', 17), ('오스', 7), ('아인', 61), ('헬로', 146), ('카봇', 353), ('수족구', 5), ('약속', 131), ('마이티', 42), ('가바', 31), ('캅스', 31), ('사주다', 1990), ('아기자기하다', 98), ('하니', 2009), ('번째', 1169), ('점점', 868), ('드니', 88), ('개간', 5), ('야채', 1464), ('오니', 154), ('육류', 82), ('건강하다', 1794), ('종합', 305), ('괜찬', 45), ('자기', 973), ('지퍼', 1941), ('비비고', 33), ('본적', 257), ('나기', 238), ('도하', 184), ('기전', 495), ('소독', 648), ('가능', 1548), ('엉뚱하다', 19), ('원목', 306), ('에선', 643), ('생강', 171), ('맵다', 377), ('티스', 84), ('쬐다', 192), ('티스픈', 3), ('한일', 122), ('손발', 74), ('차고', 207), ('혹시', 2159), ('담날', 268), ('저녁', 1457), ('계획', 229), ('음료', 971), ('마시다', 1625), ('인하', 16), ('알록달록하다', 118), ('애벌레', 105), ('몸통', 340), ('각각', 397), ('바스락', 172), ('장바구니', 379), ('뿌듯하다', 454), ('강하', 49), ('사시', 285), ('원형', 195), ('무슨', 1087), ('휴대폰', 327), ('청각', 38), ('작동시키다', 78), ('전기', 1025), ('망치다', 78), ('한참', 806), ('센터', 529), ('문의', 505), ('오류', 79), ('밥솥', 693), ('지은', 59), ('발아현미', 95), ('틔우다', 7), ('거진', 70), ('한동안', 405), ('꽂히다', 202), ('장창', 63), ('현실', 93), ('타협', 24), ('현미', 1289), ('즉석밥', 136), ('특유', 695), ('까끌까끌하다', 23), ('반신반의', 280), ('배부르다', 138), ('방습', 22), ('특수', 85), ('밀봉', 523), ('기술', 320), ('전자렌지', 515), ('돌리지', 52), ('퍼석', 29), ('의문', 239), ('어쨌건', 3), ('밥그릇', 102), ('찰기', 39), ('윤기', 219), ('씹다', 1585), ('입안', 425), ('낱알', 8), ('구르다', 476), ('특성', 375), ('그닥', 647), ('ㅇㅇ', 85), ('대량', 228), ('합리', 450), ('영양소', 532), ('파괴', 70), ('살리다', 346), ('보존력', 9), ('흠잡다', 50), ('아무리', 1096), ('뽁뽁', 308), ('믿어지다', 9), ('내려놓다', 103), ('멀티탭', 2721), ('화재', 241), ('위험', 459), ('마이너스', 21), ('딸애', 12), ('보지', 531), ('부품', 564), ('철판', 70), ('전화', 353), ('쓴다', 419), ('아로마', 210), ('티카', 117), ('라인', 970), ('생머리', 26), ('부스스', 42), ('말리', 300), ('두어', 61), ('떡진', 10), ('랑은', 259), ('긴머리', 107), ('마찬가지', 333), ('안함', 110), ('물탄', 36), ('주스', 730), ('일다', 5), ('찐득하다', 77), ('일도', 365), ('숟가락', 250), ('으러', 13), ('번거롭다', 1052), ('따갑다', 403), ('종종', 598), ('따뜻하다', 2331), ('태우다', 488), ('꿀차', 11), ('요리', 3411), ('습니다', 36), ('닫다', 1547), ('깔다', 3384), ('잘못', 1221), ('서온', 7), ('폐기', 93), ('한적', 153), ('바람막이', 59), ('강추', 964), ('둘이서', 156), ('양쪽', 669), ('비뚤어지다', 17), ('양면', 633), ('젖다', 614), ('걸레', 251), ('방바닥', 66), ('종일', 595), ('창문', 590), ('그런대로', 95), ('둥글리다', 5), ('알짜', 6), ('배기', 75), ('남기다', 1803), ('이지스', 13), ('개별', 1418), ('절전', 85), ('프리미엄', 342), ('특징', 772), ('동글동글', 135), ('불빛', 506), ('자신', 320), ('이야', 414), ('울다', 579), ('색도', 681), ('고려', 660), ('사항', 568), ('딱하다', 892), ('수정', 356), ('견해', 51), ('쾌적하다', 170), ('결제', 464), ('평점', 135), ('만점', 222), ('청결하다', 96), ('상쾌하다', 631), ('오랫동안', 566), ('멘톨', 32), ('싫어하다', 1067), ('적극', 580), ('샤워', 1201), ('단계', 2305), ('만이', 164), ('기적', 386), ('세이', 131), ('갈아입다', 62), ('탈의실', 5), ('인형', 754), ('좀더', 1670), ('높아지다', 188), ('일부러', 468), ('상의', 197), ('치마', 96), ('해해', 61), ('쨍해', 28), ('멀리', 265), ('단호박', 335), ('껍질', 816), ('공정', 98), ('거치다', 621), ('호박죽', 148), ('이든', 395), ('전이', 413), ('익히다', 598), ('조리', 1496), ('만에', 1521), ('가요', 966), ('어린이날', 192), ('말랑하다', 291), ('갯수', 533), ('아노락', 26), ('유행', 175), ('추위', 171), ('골프', 42), ('치르다', 65), ('야외', 187), ('추움', 5), ('폴라', 14), ('테두리', 462), ('안감', 172), ('지저분하다', 511), ('입히다', 1076), ('여러분', 691), ('올려놓다', 515), ('눈데', 63), ('부러지다', 712), ('전자기기', 148), ('고장', 1747), ('스타일', 654), ('애지중지', 13), ('떨어뜨리다', 294), ('던지다', 622), ('적도', 172), ('차라리', 509), ('후회되다', 168), ('양초', 11), ('박수', 86), ('치고', 657), ('생일', 582), ('뺏다', 432), ('그건', 830), ('대지', 48), ('노래', 812), ('나하', 36), ('어찌나', 221), ('심쿵', 10), ('당하다', 141), ('사운드', 417), ('토이', 107), ('흔하다', 272), ('포인트', 407), ('이겠다', 179), ('재포', 145), ('장하다', 74), ('원단', 852), ('절삭', 195), ('익숙하다', 322), ('로써', 165), ('중국산', 499), ('자랑', 197), ('과도', 368), ('익다', 734), ('아무튼', 520), ('지네', 154), ('갈이', 140), ('시무', 4), ('메이커', 255), ('만사', 40), ('갈아', 1096), ('무거워', 786), ('번개', 100), ('갑옷', 14), ('편안하다', 1127), ('흰색', 1177), ('싸구려', 380), ('어떤', 565), ('최종', 138), ('신하', 154), ('아이보리', 511), ('베이지', 418), ('칼질', 136), ('불량품', 189), ('망정', 21), ('큰일', 180), ('날뻔', 37), ('급하다', 2566), ('삿는데', 198), ('번은', 328), ('배변', 483), ('봉투', 885), ('비닐봉지', 81), ('뽑다', 1344), ('뚫리다', 265), ('면은', 89), ('고리', 783), ('장수', 74), ('베이', 935), ('작고', 1010), ('베이비', 529), ('기대하다', 1172), ('특출나다', 7), ('비슷', 135), ('유당불내증', 40), ('부글', 12), ('머물다', 43), ('몹시', 59), ('해외여행', 113), ('신발', 710), ('뽑기', 273), ('불량화소', 31), ('세부', 43), ('조정', 170), ('감안', 477), ('케이블', 379), ('안정', 664), ('건드리다', 106), ('거나', 1355), ('깜빡', 212), ('정리', 2591), ('시트', 849), ('헤져', 16), ('운전', 497), ('과정', 793), ('다크', 156), ('당연하다', 983), ('비주', 93), ('생기', 593), ('없어지다', 1122), ('수석', 65), ('차례', 117), ('핸들', 297), ('오래도록', 83), ('시크', 36), ('검은색', 353), ('상처', 390), ('비치', 168), ('맡다', 1081), ('카시트', 813), ('태블릿', 111), ('보여주다', 527), ('흔들리다', 719), ('짱짱하다', 579), ('뽀득뽀득', 114), ('바디', 1501), ('워시', 569), ('사유', 112), ('미끌미끌', 33), ('씻기다', 274), ('싫다', 1496), ('상큼', 612), ('민트', 362), ('풀향', 22), ('대롱', 4), ('빨대', 440), ('상이', 146), ('굳다', 846), ('쪽쪽이', 69), ('거부', 1013), ('로고', 263), ('민하', 8), ('모윰', 188), ('열탕', 369), ('독해', 46), ('쫩쫩', 9), ('면서', 512), ('오렌지색', 26), ('설계', 227), ('짱짱', 140), ('화려하다', 133), ('옮기다', 838), ('ㅋㅋㅋㅋㅋㅋ', 309), ('들리다', 396), ('ㅋㅋㅋㅋㅋ', 647), ('놀러와', 29), ('뛰다', 484), ('때때로', 18), ('질리다', 304), ('녹차', 174), ('오드리', 4), ('프리', 419), ('모래', 947), ('입자', 483), ('뭉치', 102), ('변기', 940), ('밟다', 395), ('집사', 329), ('조아하다', 116), ('날씨', 1041), ('청량하다', 53), ('단종', 91), ('변하다', 818), ('페스', 130), ('모레', 42), ('식단', 322), ('유튜브', 607), ('버터', 763), ('유기', 52), ('가공', 174), ('식품', 935), ('인증', 986), ('농림축산식품부', 6), ('미국', 294), ('무부', 18), ('유기농', 1187), ('양질', 30), ('자라다', 340), ('소의', 15), ('원유', 121), ('신선하다', 1317), ('미가', 228), ('발열', 378), ('볶음', 476), ('단독', 272), ('타고', 454), ('고기랑', 47), ('미역', 50), ('정착', 690), ('직구', 167), ('야경증', 9), ('최고', 3246), ('해결', 738), ('솔직', 858), ('겪다', 150), ('새벽', 1113), ('울고불고', 51), ('악몽', 6), ('몸부림', 31), ('치기', 61), ('일어나서', 222), ('실제', 1286), ('식구', 423), ('못자다', 179), ('나날', 22), ('인터넷', 640), ('양약', 6), ('한약', 67), ('뻔하다', 328), ('위로', 680), ('올려주다', 224), ('퀴드', 19), ('키즈', 342), ('마그네슘', 184), ('경험', 782), ('미네랄', 258), ('체크', 620), ('리스트', 52), ('피곤하다', 356), ('졸리다', 52), ('예민하다', 1219), ('짜증', 463), ('갈증', 45), ('유난히', 107), ('변비', 410), ('설사', 304), ('이중', 405), ('그동안', 764), ('구심', 36), ('나타나다', 310), ('횟수', 136), ('잠들다', 279), ('통잠', 46), ('행복', 157), ('쪼꼼', 20), ('찰나', 156), ('복용', 1019), ('가까이', 452), ('대체', 428), ('영양성분', 181), ('함량', 844), ('무니', 58), ('자연스레', 57), ('영양', 975), ('유명하다', 1169), ('해외', 254), ('상제', 4), ('일드', 49), ('라이프', 54), ('칼슘', 698), ('이미', 1215), ('콤달콤', 91), ('오렌지', 677), ('요거트', 1050), ('형아', 44), ('불편', 515), ('이정', 604), ('톡톡하다', 137), ('고생', 736), ('가정', 821), ('안경', 157), ('서리다', 21), ('최애', 284), ('도망가다', 83), ('후라이팬', 1457), ('해피', 522), ('주방용품', 103), ('알려지다', 183), ('대가', 771), ('대형', 1054), ('해오다', 370), ('이라니', 235), ('설레다', 94), ('각자', 158), ('가구', 599), ('찰떡', 221), ('알맞다', 367), ('설거지', 910), ('사이트', 362), ('저가', 172), ('재료', 1914), ('호르몬', 68), ('와중', 162), ('지나가다', 286), ('브라가', 27), ('올라가다', 1345), ('답답하다', 796), ('속옷', 661), ('레쉬', 161), ('이상하다', 1435), ('뚝뚝', 128), ('아줌마', 82), ('가면', 649), ('마르고', 127), ('봉제', 129), ('까슬거리', 14), ('재밌다', 682), ('아들', 2722), ('별거', 110), ('캐나다', 74), ('진실', 16), ('찌그러지다', 752), ('올스텐', 66), ('에쓰', 89), ('에지', 6), ('헐겁다', 260), ('벌어지다', 411), ('아구', 70), ('루고', 18), ('고무장갑', 64), ('컷팅', 141), ('타이', 298), ('배속', 12), ('필때', 11), ('그늘', 70), ('디럭스', 139), ('수전', 83), ('막내', 131), ('샤인', 455), ('스캣', 184), ('티젠', 131), ('부차', 288), ('구비', 314), ('커피', 2103), ('카페인', 124), ('느끼하다', 286), ('탄산음료', 70), ('기대', 1233), ('까지는', 863), ('라이브', 26), ('레몬', 739), ('탄산', 234), ('쎄다', 560), ('프로바이오틱스', 41), ('당류', 190), ('칼로리', 737), ('낮다', 1234), ('주니', 273), ('보단', 1511), ('훨낫다', 11), ('샐러드', 931), ('매장', 355), ('보코', 137), ('누리다', 108), ('고르곤졸라', 15), ('피자', 267), ('리코', 23), ('생소하다', 71), ('모짜렐라', 330), ('방울토마토', 192), ('발사믹', 76), ('레이즈', 12), ('정수기', 144), ('말랑말랑', 88), ('치솔', 30), ('모도', 56), ('도적', 15), ('구석', 257), ('치카', 64), ('어린이', 512), ('로베코', 11), ('틈새', 282), ('거치', 873), ('호환성', 31), ('탁월하다', 291), ('특별하다', 592), ('제작', 375), ('활용', 1369), ('높이다', 445), ('실용', 580), ('뛰어나다', 557), ('대응', 49), ('간격', 222), ('이로써', 17), ('강화', 231), ('만들어지다', 922), ('보장', 171), ('특정', 65), ('각도', 608), ('대의', 103), ('견고하다', 1132), ('장기간', 126), ('영화', 122), ('테이', 60), ('최적', 114), ('시선', 95), ('얻다', 307), ('선사', 90), ('하자', 727), ('조성', 11), ('우수하다', 399), ('나은', 167), ('보도', 29), ('블럭', 1119), ('걷다', 353), ('편평', 12), ('어리둥절하다', 6), ('엎드리다', 106), ('뿌듯', 90), ('이동', 687), ('스럽지', 456), ('탐사', 358), ('복사', 341), ('학교', 317), ('시험', 229), ('게다가', 491), ('장이', 445), ('프린트', 281), ('난적', 36), ('경우', 3037), ('단일', 27), ('위인', 12), ('선호', 855), ('도도', 160), ('금세', 80), ('기르다', 1204), ('배다', 560), ('내내', 349), ('코시', 6), ('려움', 3), ('보일러', 143), ('게속', 34), ('낼름', 12), ('전달', 182), ('빡치다', 65), ('가다듬다', 4), ('야무지다', 106), ('달자', 5), ('가림', 54), ('보아', 222), ('ㅡㅡㅡㅡㅡㅡㅡㅡㅡㅡㅡㅡㅡㅡㅡㅡㅡㅡㅡㅡㅡㅡㅡㅡ', 29), ('며칠', 992), ('방과', 20), ('이어진', 15), ('배란', 10), ('다물다', 25), ('커텐', 214), ('말고도', 120), ('현관문', 66), ('훌륭하다', 563), ('소중하다', 323), ('이사해', 14), ('에다', 314), ('삼치', 198), ('조각', 463), ('갈라지다', 232), ('비릿', 126), ('생선', 734), ('굽기', 29), ('달이다', 28), ('얼른', 504), ('원만하다', 5), ('섐플', 3), ('스킨로션', 23), ('파란', 170), ('니깐', 514), ('묶음', 274), ('묶다', 350), ('숫자', 460), ('세기', 253), ('햇답니', 8), ('팔다', 1013), ('검정', 460), ('아시', 335), ('인대', 56), ('로서', 262), ('구울', 227), ('건조', 1331), ('설정', 770), ('고구마', 1373), ('이구', 720), ('열전달', 36), ('도로', 714), ('문안', 44), ('그치다', 383), ('빨르다', 470), ('이상은', 380), ('의견', 346), ('합체', 100), ('보호자', 55), ('끼울다', 300), ('포함', 1073), ('홍삼', 789), ('쪼금', 107), ('꿀물', 56), ('토욜', 13), ('멘트', 60), ('재밋', 16), ('메시지', 17), ('근무', 85), ('찮아다', 66), ('복불복', 312), ('미안하다', 245), ('박아', 112), ('싱싱하다', 919), ('말캉', 4), ('물감', 187), ('능데', 7), ('분도', 299), ('ㅠㅠㅠㅠㅠㅠㅠㅠ', 14), ('롤러', 109), ('불호', 80), ('발목', 623), ('품목', 126), ('삭스', 52), ('남성', 603), ('네이비', 224), ('금액', 872), ('복안', 5), ('살갗', 5), ('보이', 1202), ('염려', 398), ('역쉬', 80), ('한여름', 100), ('제외', 346), ('사계절', 167), ('첫날', 296), ('밑바닥', 111), ('보풀', 756), ('길거리', 50), ('질도', 216), ('종아리', 166), ('보이지', 437), ('신고', 570), ('허니', 159), ('나머지', 771), ('소비', 573), ('수영복', 272), ('이라곤', 26), ('으로만', 452), ('오트밀', 206), ('그나마', 849), ('ㅠㅠㅠㅠ', 282), ('큐브', 240), ('끊다', 403), ('개월딸', 12), ('쇼파', 456), ('한발', 12), ('걸음', 363), ('마보', 40), ('조기', 134), ('버전', 435), ('보조', 508), ('기만', 156), ('책장', 240), ('세우다', 738), ('놨습니', 12), ('한마디', 164), ('부서지다', 686), ('단추', 299), ('기구', 154), ('흔쾌하다', 5), ('허락', 23), ('분량', 169), ('기다림', 32), ('전화하다', 197), ('황당하다', 161), ('대요', 478), ('태풍', 26), ('이주일', 11), ('일제', 16), ('전문', 203), ('수건', 2224), ('박다', 284), ('매각', 75), ('출산', 523), ('레드', 365), ('루트', 50), ('유해', 328), ('불검', 43), ('미세', 230), ('바람직하다', 10), ('제다', 5), ('테스트', 827), ('믿음', 599), ('소량', 472), ('성하다', 553), ('결코', 60), ('남용', 3), ('옷감', 111), ('좋아지다', 1448), ('평균', 201), ('프탈레이트', 5), ('실내', 491), ('안해', 769), ('선선해지다', 24), ('아주아주', 248), ('글쎄', 85), ('잃다', 140), ('강박', 8), ('집콕', 95), ('가르치다', 198), ('호엔', 6), ('의지', 60), ('천천히', 381), ('수학', 241), ('스타벅스', 156), ('맥포', 6), ('뜯기다', 254), ('비우다', 365), ('존사', 16), ('차이나다', 189), ('랑귀', 9), ('대서', 227), ('더욱', 1295), ('귓바퀴', 5), ('트이다', 114), ('무심코', 17), ('낭패', 88), ('끊어지다', 321), ('슬프다', 192), ('금은', 52), ('독감', 55), ('미세먼지', 229), ('갑자기', 1043), ('불도', 87), ('초록색', 204), ('분명', 348), ('최대로', 44), ('적지', 159), ('월말', 31), ('실망하다', 374), ('응고', 64), ('흔들다', 1076), ('고압', 62), ('수로', 78), ('간신히', 63), ('시르다', 153), ('하나요', 199), ('늦다', 790), ('몸무게', 650), ('하의', 98), ('골반', 68), ('팬티', 1284), ('튀어나오다', 455), ('군살', 16), ('보정속옷', 8), ('숨막히다', 20), ('뱃살', 143), ('치수', 261), ('조이', 137), ('아랫', 346), ('배꼽', 102), ('배쪽', 32), ('똥배', 39), ('잡기', 234), ('보정', 97), ('정사', 202), ('이즈', 465), ('싱글', 247), ('팔이', 211), ('돌이', 251), ('심장병', 20), ('스포이드', 57), ('적당량', 60), ('발작', 14), ('인공호흡', 3), ('밤잠', 58), ('장모', 23), ('비만', 135), ('다이어트', 1172), ('병행', 105), ('병원', 835), ('심장', 84), ('코큐텐', 11), ('숨쉬다', 66), ('노견', 128), ('한시름', 13), ('헹주', 13), ('다과', 12), ('혼합', 314), ('퐁퐁', 56), ('위쪽', 292), ('한쪽', 1023), ('모시다', 85), ('설치다', 361), ('와이프', 210), ('떨구다', 51), ('우려', 289), ('작아지다', 241), ('잘맞다', 449), ('년전', 362), ('썻던', 28), ('신생아', 371), ('리즈', 155), ('위주', 475), ('흡수', 2638), ('더워지다', 199), ('번갈아', 306), ('부들부들', 172), ('전보', 150), ('조쿠', 3), ('조아', 41), ('미처', 33), ('거울', 382), ('닦아지다', 17), ('미비', 4), ('별루', 267), ('반대', 273), ('박살', 107), ('반개', 63), ('어쩌나', 272), ('반값', 59), ('물때', 167), ('과장', 62), ('크리미', 93), ('부드러움', 279), ('로운', 148), ('일리', 529), ('돌체', 151), ('스토', 110), ('일용', 12), ('양식', 20), ('씁쓸하다', 93), ('원두', 201), ('권장', 428), ('즐기다', 1200), ('원산지', 224), ('베트남', 75), ('라비', 8), ('네요', 88), ('전문점', 54), ('식사', 743), ('네스카페', 10), ('원픽', 15), ('물렁하다', 50), ('탱탱하다', 119), ('무맛', 41), ('맹맛', 13), ('쓴맛', 200), ('물렁거리', 6), ('개도', 207), ('팔면', 64), ('희미하다', 38), ('인쇄', 278), ('원인', 220), ('토너', 314), ('화로', 47), ('외식', 74), ('소고기', 527), ('비위', 95), ('의도', 48), ('웰던', 9), ('염두', 45), ('번뜩', 4), ('소꿉놀이', 55), ('이케아', 64), ('고체', 146), ('무자', 22), ('두세', 166), ('어느덧다', 50), ('순삭', 169), ('끌때', 29), ('꺼지다', 839), ('입냄새', 241), ('스케', 15), ('치안', 6), ('지드', 109), ('의향', 256), ('실밥', 337), ('진즉', 68), ('휴가', 146), ('대리', 19), ('꽉꽉', 72), ('캐리어', 1060), ('높낮이', 77), ('우레', 30), ('더블', 305), ('굴러가다', 345), ('슬쩍', 49), ('잘나가다', 27), ('확장', 336), ('돌아오다', 497), ('리기', 271), ('트렁크', 182), ('다이얼', 323), ('열쇠', 46), ('분실', 108), ('국내', 1325), ('번의', 104), ('연휴', 70), ('원대', 152), ('셋트', 120), ('사도', 294), ('앞뒤', 336), ('미끄럼', 611), ('뻣뻣하다', 448), ('가시', 217), ('박음질', 362), ('부럽다', 89), ('드뎌', 43), ('어떠하다', 65), ('명색', 9), ('불신', 26), ('어언', 19), ('오는', 182), ('베란다', 655), ('널다', 518), ('땡볕', 10), ('습하다', 294), ('틀어놓다', 108), ('이삼일', 17), ('참다', 358), ('라도', 1060), ('치가', 211), ('열풍', 50), ('터보건', 5), ('조로', 12), ('터보', 39), ('조용하다', 465), ('미세하다', 336), ('세탁실', 115), ('장마철', 104), ('겨울철', 227), ('유용하다', 1011), ('조작', 331), ('켤레', 133), ('돌림', 48), ('마름', 33), ('되게', 582), ('앰플', 205), ('트트', 4), ('해도', 2236), ('스며들다', 200), ('홀딱', 15), ('반하다', 230), ('보라', 277), ('뿌리', 1201), ('드라이', 305), ('더하다', 351), ('차로', 213), ('시원하다', 1683), ('분무기', 244), ('뭉치다', 501), ('요강', 18), ('아드님', 61), ('일월', 11), ('나름', 1581), ('괜춘해', 10), ('저온', 110), ('화상', 166), ('날수', 79), ('찹쌀', 486), ('밥맛', 169), ('맛없다', 646), ('햅쌀', 21), ('기대다', 362), ('반년', 61), ('초반', 341), ('중반', 137), ('내주다', 240), ('코팩', 17), ('쾌감', 18), ('쩔다', 47), ('모공', 160), ('바로바로', 234), ('일부', 281), ('화장', 767), ('쟁여놓', 109), ('민감', 241), ('부지', 58), ('한상태', 17), ('코쪽', 12), ('매끈', 59), ('이만', 406), ('나비', 108), ('면봉', 47), ('주변', 1031), ('세수', 122), ('평생', 172), ('두껑', 28), ('용무', 3), ('유광', 54), ('흡입', 560), ('배터리', 987), ('자음', 79), ('승용차', 27), ('대치', 49), ('칼라', 134), ('흡족하다', 73), ('더욱더', 137), ('에센스', 183), ('프라이팬', 744), ('월동', 52), ('방한', 107), ('중문', 31), ('철문', 14), ('정확', 25), ('몰딩', 57), ('바짝', 126), ('아랫쪽', 91), ('센티', 298), ('남아', 1280), ('ㅠㅋ', 14), ('한파', 39), ('반올림', 6), ('ㅡㅡㅡㅡㅡㅡㅡㅡㅡㅡㅡㅡㅡㅡㅡ', 13), ('물다', 560), ('스프링', 228), ('유모차', 1057), ('벨트', 281), ('앉히다', 177), ('긴장', 90), ('얌전하다', 112), ('극복', 16), ('간단', 178), ('저렴', 567), ('칼날', 806), ('인하다', 730), ('베일', 61), ('이동해', 35), ('자극', 1980), ('고약하다', 33), ('기타', 198), ('왁싱', 111), ('눈썹', 214), ('만의', 269), ('최소', 415), ('반영구', 64), ('훼손', 149), ('반드시', 234), ('간편', 190), ('상황', 692), ('맞춤', 180), ('은근', 774), ('콤펙트', 3), ('적합', 68), ('빈도', 58), ('성향', 66), ('면모', 3), ('이득', 105), ('할부', 45), ('불가능', 90), ('조차', 125), ('어캐', 6), ('주신', 123), ('산이', 243), ('초과', 42), ('상당', 23), ('고통스럽다', 21), ('심정', 73), ('자세하다', 928), ('사용설명서', 194), ('보증', 99), ('감동', 214), ('제품군', 37), ('블록', 298), ('웬만하다', 338), ('러닝', 49), ('타임', 107), ('열흘', 69), ('정확도', 35), ('등산', 167), ('도중', 159), ('빗다', 76), ('겨짐', 3), ('곤란하다', 106), ('가뜩이나', 21), ('잦다', 248), ('뿌옇다', 88), ('파마', 59), ('곁들이다', 157), ('빗자루', 41), ('회복', 213), ('착각', 128), ('듭니당', 33), ('얘기', 662), ('꼭꼭', 152), ('촉감', 956), ('가락', 42), ('흉내', 34), ('드라마틱하다', 207), ('탄탄하다', 566), ('만요', 186), ('최초', 63), ('이차', 19), ('올라서다', 214), ('여기다', 393), ('시너지', 32), ('사고', 1034), ('불안하다', 863), ('나발', 10), ('이음', 206), ('글루건', 113), ('흔적', 233), ('글루', 63), ('지난번', 383), ('사정', 52), ('장난', 654), ('농축액', 227), ('인공', 215), ('어찌저찌', 33), ('ㅎㅎㅎㅎㅎ', 134), ('거듭', 20), ('원룸', 196), ('구분', 405), ('티셔츠', 113), ('고유', 62), ('화이트컬러', 23), ('우중충하다', 8), ('계열', 374), ('맡기다', 112), ('세탁물', 101), ('쓰레기통', 171), ('걸때', 35), ('어깨', 923), ('읽히다', 28), ('부족함', 124), ('유치하다', 30), ('크로와상', 204), ('양은', 429), ('투자', 167), ('이예', 206), ('보온', 580), ('이리', 367), ('거지같다', 25), ('에손', 6), ('의류', 167), ('피죤', 114), ('쟁여템', 6), ('방이', 234), ('창고', 170), ('오기', 148), ('염화칼슘', 37), ('꽉차다', 203), ('대한민국', 163), ('국산', 995), ('녹색', 145), ('여부', 277), ('나프탈렌', 8), ('ㅎㅎㅎㅎ', 395), ('대도', 280), ('쟁여둘', 5), ('사구', 10), ('지안', 22), ('구해', 86), ('껀데', 32), ('니지', 12), ('환불', 682), ('어이없이', 6), ('휴지통', 138), ('찜찜하다', 205), ('어떡하다', 95), ('최소한', 103), ('양심', 130), ('겉옷', 53), ('걸이', 1376), ('재활용', 181), ('오마이갓', 16), ('스텐', 983), ('딱지', 68), ('나르다', 386), ('나오니', 186), ('남동생', 55), ('부쩍', 88), ('탈모', 629), ('메디슨', 58), ('패스트', 36), ('자고', 416), ('줫는데', 9), ('두피', 1016), ('깨끗해지다', 206), ('장족', 243), ('건어물', 54), ('푸드', 235), ('커팅', 42), ('짭짤하다', 132), ('과식', 34), ('야식', 48), ('습관', 367), ('고치다', 150), ('안성맞춤', 150), ('라던가', 63), ('딱딱하다', 1408), ('질기', 12), ('마르지', 102), ('무르', 64), ('포만', 287), ('차서', 141), ('허기지다', 25), ('달래다', 135), ('탄수화물', 258), ('살찌다', 96), ('즐거움', 83), ('달짝찌', 4), ('간이', 225), ('부탁', 242), ('전권', 23), ('세입', 5), ('전부', 810), ('잘나오다', 279), ('미술', 147), ('부두', 4), ('해안', 4), ('무조', 20), ('눈부시다', 39), ('요가', 128), ('포근하다', 494), ('드네', 767), ('그러면', 319), ('엷다', 15), ('가만히', 152), ('듣다', 526), ('초등학생', 154), ('백프로', 69), ('요하', 66), ('감정', 156), ('댕댕', 350), ('입학', 69), ('남지', 240), ('무리', 751), ('사면', 868), ('널널', 53), ('내려오다', 364), ('거만', 154), ('초보자', 176), ('생식', 74), ('네이버', 172), ('친절하다', 292), ('지식', 71), ('차이점', 124), ('과는', 360), ('간혹', 313), ('노하우', 51), ('어설프다', 66), ('통통', 127), ('쉐이커', 12), ('말아먹다', 32), ('번창', 178), ('유아', 652), ('해설', 12), ('메틸', 4), ('소아', 20), ('졸리', 21), ('메칠', 4), ('치아', 545), ('가습기', 76), ('살균제', 26), ('거른', 10), ('순수', 66), ('제수', 96), ('엠보형식', 3), ('말르다', 267), ('국제', 52), ('표준화', 10), ('획득', 44), ('죄송하다', 98), ('글치', 14), ('그럭저럭', 436), ('쓰시', 372), ('촘촘', 116), ('하라', 239), ('저서', 40), ('파시', 51), ('반듯하다', 38), ('울퉁불퉁하다', 78), ('오돌토돌하다', 31), ('밀리다', 732), ('다이소', 447), ('동동', 51), ('띄우다', 89), ('탄산수', 120), ('재주', 128), ('문하', 24), ('스틱', 1298), ('쏟다', 164), ('까지도', 368), ('포도', 213), ('캔디', 102), ('저격', 78), ('베리', 324), ('콤함', 37), ('피치', 121), ('복숭아', 110), ('파인애플', 124), ('레모네이드', 4), ('대중', 103), ('실증', 32), ('프리바이오틱스', 28), ('조의', 6), ('에리', 18), ('스테롤', 13), ('수치', 265), ('땡기다', 348), ('탈취', 748), ('페즈', 4), ('필드', 16), ('딸방', 11), ('드레스', 86), ('딸아이', 620), ('칙칙', 74), ('스프레이', 381), ('형식', 372), ('잠금장치', 183), ('제법', 484), ('만난', 60), ('분사', 561), ('학원', 168), ('아이템', 378), ('향수', 1066), ('패딩', 115), ('등교', 67), ('민감하다', 696), ('휼륭하다', 7), ('부지런하다', 107), ('될런', 7), ('관찰', 61), ('클릭', 419), ('슈퍼', 609), ('로스', 68), ('칫솔', 1398), ('ㅆㄹㄱ', 3), ('치실', 163), ('신발장', 122), ('질리', 223), ('스탠드', 516), ('받침', 565), ('애초', 154), ('사르다', 216), ('거북목', 29), ('날개', 329), ('영향', 251), ('이전', 972), ('베개', 1049), ('라텍스', 143), ('일찍', 298), ('주도', 44), ('태도', 29), ('나아지다', 213), ('말랑말랑하다', 155), ('경추', 46), ('눕다', 1049), ('에겐', 683), ('정자', 10), ('세로', 510), ('의식', 35), ('모서리', 926), ('두운', 299), ('싹뚝', 4), ('텐트', 409), ('기계', 679), ('쓰윽', 33), ('반짝반짝', 116), ('비올', 44), ('코팅', 3179), ('초대', 107), ('족하', 11), ('맹물', 50), ('어이없다', 144), ('스판덱스', 3), ('나일론', 55), ('접이식', 167), ('만하', 274), ('책상', 612), ('필수품', 305), ('자취', 510), ('앙블', 175), ('장수도', 14), ('선정', 228), ('이빨', 236), ('개운', 15), ('양치', 664), ('허브', 322), ('기일', 11), ('모낭', 17), ('사은', 115), ('방석', 184), ('스펙', 135), ('댓글', 234), ('조끼', 126), ('강쥐', 253), ('연결', 1084), ('미니핀', 17), ('부주의', 18), ('좌우', 252), ('디스크', 102), ('은병', 10), ('의료', 34), ('입원', 91), ('치료', 201), ('번하다', 131), ('마취', 19), ('처치', 41), ('수술', 282), ('너무하다', 249), ('이래서', 179), ('감당', 145), ('몰래', 84), ('타월', 275), ('진곳', 21), ('낑낑', 48), ('지게', 91), ('이마', 85), ('세로줄', 7), ('생기며', 7), ('엑스레이', 9), ('아뭏튼', 3), ('완치', 13), ('금지', 108), ('재발', 44), ('하네스', 406), ('주절주절', 11), ('위험성', 30), ('목줄', 114), ('테잎', 142), ('프라스', 75), ('잠그다', 457), ('리드', 233), ('줄이다', 1088), ('실리콘', 808), ('쓸리다', 429), ('칸막이', 57), ('핑크색', 314), ('곰팡이', 614), ('난뒤', 48), ('기스', 498), ('날듯', 4), ('빨아들이다', 127), ('바리', 76), ('코카', 19), ('견주', 43), ('거짓말', 102), ('털다', 801), ('초보', 485), ('주님', 24), ('미용', 428), ('거들다', 448), ('억세다', 62), ('새끼', 146), ('적응', 558), ('블레이드', 27), ('오일이', 89), ('서도', 545), ('어마어마하다', 139), ('수세미', 614), ('이여', 94), ('안보', 539), ('헷갈리다', 205), ('그랬는데', 173), ('롱롱', 16), ('검정색', 413), ('컬레', 6), ('하하', 255), ('고무밴드', 34), ('클로렐라', 16), ('눈감다', 38), ('글쎄요', 143), ('뽀로로', 854), ('아가', 1994), ('수도꼭지', 96), ('빙글빙글', 43), ('그거', 1038), ('고마', 10), ('따름', 37), ('소개', 292), ('입증', 22), ('우연', 63), ('발코니', 29), ('고기구', 25), ('언급', 159), ('성비', 172), ('요청', 286), ('멀쩡하다', 412), ('래야', 172), ('링케', 18), ('스트랩', 328), ('회색', 432), ('와이드', 157), ('맘에들면', 12), ('치명', 72), ('가주', 7), ('스트렙', 8), ('잡히다', 568), ('아마', 545), ('코코아', 52), ('나요', 930), ('방탄', 64), ('다이어터', 81), ('디저트', 80), ('프로도', 17), ('체제', 19), ('공병', 49), ('인용', 393), ('코너', 87), ('솔로', 165), ('강츄', 19), ('테팔', 838), ('쉐프', 60), ('핸드', 841), ('블렌더', 727), ('식용', 151), ('놓이다', 141), ('잖다', 240), ('아몬드', 550), ('호두', 122), ('다지다', 645), ('믹서기', 722), ('속도', 802), ('갈리다', 819), ('릭스', 14), ('스틸', 146), ('셰프', 27), ('강력하다', 534), ('손쉽다', 399), ('다지', 153), ('초기', 345), ('중기', 58), ('레시피', 553), ('용이하다', 489), ('분홍', 105), ('소세지', 70), ('전도', 46), ('계란말이', 248), ('안고', 233), ('당일', 192), ('국물', 1060), ('해물', 41), ('퍼지다', 536), ('땡글땡글', 4), ('새우', 1263), ('스팸', 31), ('짠맛', 117), ('쫘악', 43), ('바다', 164), ('물씬', 23), ('밀면', 141), ('고명', 22), ('끝내주다', 67), ('향신료', 19), ('어묵', 136), ('쓸모', 130), ('생각나다', 593), ('돌다', 676), ('가져오다', 254), ('수거', 68), ('드럼', 77), ('뒷날', 16), ('주시', 348), ('배달', 497), ('강력', 457), ('표준', 90), ('다림질', 325), ('스포츠', 159), ('살균', 313), ('아빠', 866), ('선반', 525), ('아파트', 309), ('다으', 6), ('밑위', 72), ('중딩', 82), ('평상시', 180), ('교복', 62), ('사복', 4), ('청바지', 92), ('요런', 178), ('츄리닝', 21), ('그렇지만', 330), ('해안가', 4), ('무릎', 338), ('네오', 91), ('미디어', 88), ('반정', 105), ('화나다', 157), ('여과', 303), ('재는', 67), ('저면', 15), ('볼때', 312), ('떳길', 26), ('먹어주다', 510), ('로지텍', 60), ('서라운드', 17), ('게이', 102), ('헤드셋', 189), ('라일락', 54), ('볼륨', 208), ('뮤트', 27), ('컨트롤', 82), ('근접', 5), ('실감', 98), ('재현', 26), ('오디오', 13), ('최첨단', 16), ('마이크로', 66), ('음성', 89), ('액션', 51), ('디오', 42), ('반응', 562), ('애니메이션', 17), ('소프트웨어', 28), ('프로그램', 120), ('퇴근', 289), ('유선', 288), ('맨날', 361), ('무상', 137), ('보험', 36), ('이천', 7), ('오백', 10), ('내야', 36), ('사만', 9), ('사천', 3), ('칠백', 3), ('육십', 4), ('음개', 6), ('그레이', 1216), ('인덕', 8), ('블루', 583), ('길래', 9), ('전등', 131), ('천정', 55), ('동봉', 435), ('피스', 242), ('장착후', 16), ('조명도', 38), ('중앙', 150), ('회로', 38), ('말짱', 17), ('만은', 91), ('저만', 327), ('템포', 268), ('생리', 621), ('향기롭다', 147), ('대초', 3), ('가도', 148), ('환기', 373), ('디퓨져', 94), ('코코', 286), ('전세계', 15), ('여개', 24), ('국가', 27), ('진출', 8), ('전통', 74), ('기업', 115), ('환경부', 7), ('고시', 16), ('통과', 192), ('주정', 114), ('이취', 4), ('발향', 202), ('조향사', 28), ('원료', 373), ('검증', 75), ('반영', 41), ('데코', 75), ('소품', 131), ('병과', 23), ('체리', 241), ('싱그럽다', 52), ('어우려져', 4), ('페르시안', 6), ('친칠라', 4), ('추정', 23), ('파양', 5), ('데리', 203), ('검지', 37), ('자색', 23), ('무른', 58), ('농도', 212), ('진해', 105), ('고맙다', 298), ('심해지다', 253), ('지켜보다', 337), ('불안감', 45), ('가리다', 356), ('너무나', 562), ('섭취', 1884), ('두통', 181), ('응가', 114), ('구역질', 27), ('깨닫다', 49), ('간간히', 76), ('보충', 413), ('맛동산', 36), ('생산', 669), ('비치다', 267), ('오래오래', 283), ('ㅠㅠㅠㅠㅠ', 127), ('예여', 49), ('아이엠', 3), ('아동', 84), ('월드', 37), ('우주복', 10), ('쑥쑥', 88), ('공룡', 196), ('보들보들하다', 173), ('성도', 359), ('움직이다', 904), ('삿어', 79), ('뚝딱', 391), ('만들기', 639), ('가구라', 35), ('기둥', 207), ('부실하다', 636), ('슬라이드', 94), ('장식', 113), ('차이나', 117), ('요다음', 12), ('서걱', 12), ('레이스', 102), ('해달라다', 218), ('미흡하다', 71), ('분위기', 522), ('사망', 90), ('심혈', 3), ('추리', 13), ('주간', 49), ('만으로', 194), ('클렌징팟', 38), ('윤활', 45), ('들어주다', 179), ('달아오르다', 16), ('허옇', 33), ('일어나지', 84), ('충전기', 493), ('코털', 41), ('깎다', 248), ('끌리다', 251), ('안내', 205), ('장기', 201), ('출장', 119), ('수염', 218), ('다듬다', 124), ('트림', 26), ('세미', 47), ('하드', 277), ('말씀드리다', 307), ('반려견', 243), ('대중교통', 37), ('이용도', 10), ('자유롭다', 220), ('뚜벅', 20), ('이견', 3), ('땡땡', 34), ('가시다', 120), ('겸비', 12), ('딸내미', 54), ('뱉다', 231), ('일치', 83), ('스파크', 129), ('폭풍', 154), ('외형', 89), ('주관', 363), ('과대', 109), ('까지만', 161), ('옳다', 29), ('리가', 232), ('근본', 42), ('사자', 170), ('먹히다', 68), ('욕심', 274), ('바흐', 57), ('방토', 41), ('카프레', 53), ('따라가다', 82), ('꿀팁', 135), ('공유', 211), ('해드리다', 443), ('온수', 51), ('잠기다', 164), ('분간', 128), ('온기', 69), ('안주', 315), ('꼭지', 219), ('양상추', 808), ('삼겹', 23), ('상추', 61), ('쌓다', 233), ('올리브오일', 130), ('파프리카', 46), ('어마', 182), ('무시', 209), ('언제나', 221), ('고칼로리', 17), ('코끼리', 92), ('업로드', 18), ('ㅠㅠㅋㅋ', 31), ('세이버', 35), ('산만하다', 13), ('강정', 10), ('망신', 7), ('크리스마스', 501), ('집게발', 13), ('이하', 404), ('마린', 23), ('쇠고기', 18), ('귀사', 5), ('거래', 46), ('게시판', 13), ('수입', 229), ('부라타', 155), ('그중', 131), ('커드', 3), ('거북하다', 61), ('차종', 63), ('투싼', 20), ('시동', 58), ('히터', 111), ('워치', 396), ('닳다', 236), ('그네', 36), ('바구니', 597), ('폭망', 10), ('열자', 8), ('뿌지직', 4), ('빡빡', 281), ('맙니', 6), ('망하다', 177), ('고정은', 55), ('만족감', 160), ('나란하다', 70), ('위치', 687), ('배치', 148), ('재고', 240), ('최상급', 18), ('군데', 481), ('나무껍질', 3), ('상판', 218), ('군데군데', 123), ('수선하다', 45), ('일별', 16), ('책꽂이', 33), ('주황색', 178), ('염료', 32), ('쿤달', 537), ('간다', 202), ('쿤달꺼', 8), ('붙임머리', 3), ('찰랑하다', 11), ('오일도', 29), ('알싸하다', 41), ('치석', 184), ('먹여주다', 50), ('호도', 83), ('평보', 185), ('허벅지', 452), ('헹궈', 152), ('내추럴', 51), ('집앞', 186), ('화이팅', 131), ('매달', 91), ('째다', 345), ('생리대', 1284), ('여름철', 227), ('통일', 127), ('레귤러', 95), ('외다', 44), ('삶의질', 25), ('질겨', 194), ('중국', 367), ('오메가', 991), ('알티', 35), ('렌즈', 140), ('주성분', 24), ('혈행', 30), ('할하', 5), ('촉진', 114), ('중성', 152), ('지질', 27), ('주요', 85), ('망막', 22), ('조직', 63), ('혈중', 37), ('식품의약품안전처', 19), ('시중', 399), ('삼키다', 340), ('무려', 134), ('알약', 580), ('목구멍', 45), ('괴롭히다', 17), ('별다르다', 151), ('극세사', 213), ('겸용', 133), ('애착', 144), ('때마침', 57), ('관계자', 27), ('인사', 57), ('에서처럼', 43), ('복구', 61), ('그만큼', 749), ('붙박다', 34), ('이장', 26), ('티비', 743), ('막상', 565), ('차콜', 131), ('변동', 370), ('술함', 9), ('잊다', 279), ('보드', 440), ('보드마카', 13), ('글씨', 298), ('지우다', 293), ('자석', 584), ('실외', 82), ('이동용', 10), ('풍기', 42), ('전력', 308), ('기기', 442), ('스위치', 1100), ('먹통', 40), ('무덥다', 66), ('유래', 282), ('미산', 24), ('페퍼민트', 37), ('쿨링감', 79), ('식물성', 172), ('에센셜', 35), ('베르가', 41), ('정제', 417), ('글리세린', 25), ('베타', 63), ('사이드', 236), ('알란', 20), ('토인', 7), ('락토바실러스', 5), ('박하', 39), ('오레가노', 5), ('고삼', 9), ('물약', 19), ('모밀', 5), ('인삼', 49), ('커먼', 3), ('자스민', 20), ('물살', 44), ('비아', 48), ('파스', 50), ('모트', 5), ('해바라기씨', 17), ('일광', 5), ('유칼립투스', 17), ('코코넛', 90), ('야자', 15), ('열매', 45), ('프로판', 3), ('다이올', 8), ('셀룰로오스', 22), ('트릭', 11), ('씨드', 29), ('헥산', 7), ('옥수수', 104), ('코넬', 3), ('일등', 29), ('코코넛오일', 16), ('오디', 4), ('여성', 727), ('청결', 136), ('제도', 278), ('피지', 227), ('사타구니', 77), ('사무직', 10), ('통풍', 231), ('스키', 65), ('등드름', 15), ('긋다', 357), ('뭉글', 3), ('난대', 18), ('남친', 87), ('아버지', 161), ('어쨋', 116), ('잇츄', 22), ('덴탈', 96), ('개껌', 69), ('요크셔테리어', 11), ('스케일링', 29), ('오래전', 98), ('덴탈껌', 65), ('돌기', 64), ('공법', 95), ('쫄깃', 282), ('래서', 206), ('소화도', 74), ('무아', 11), ('지경', 91), ('국도', 42), ('상해', 109), ('압력', 175), ('오프라인', 232), ('젤루', 14), ('아쿠아', 76), ('제중', 24), ('비앤', 26), ('지수', 73), ('인제', 26), ('알레르기', 172), ('뒤집어지다', 118), ('별의별', 4), ('애벌', 54), ('질문', 125), ('킹소', 268), ('상대', 147), ('리필용', 57), ('뱅크', 51), ('엑스', 101), ('티어', 54), ('알파', 104), ('주유', 69), ('치고는', 220), ('참조', 161), ('붉다', 274), ('은색', 243), ('안남다', 144), ('바질', 691), ('업다', 162), ('경기도', 20), ('재배', 70), ('있슴', 17), ('맛보다', 324), ('가깝다', 588), ('한식', 61), ('파이다', 104), ('남푠', 35), ('남푠왈', 3), ('음청', 16), ('불쌍하다', 32), ('루꼴라', 186), ('갑작스레', 8), ('먹꼬', 4), ('서서히', 107), ('반면', 165), ('으로써', 160), ('살아나다', 161), ('빨강', 102), ('노랑', 264), ('어우러지다', 138), ('비쥬', 94), ('담당', 62), ('섭하다', 7), ('고수', 39), ('기겁', 37), ('무사', 17), ('겨우', 490), ('만여', 4), ('넘흐', 25), ('겠다', 1225), ('쵝오', 80), ('인듯', 11), ('불타', 9), ('사흘', 19), ('갇히다', 16), ('의외로', 246), ('서여', 12), ('응용', 50), ('이웃', 39), ('친숙하다', 31), ('부추', 96), ('냉이', 38), ('콩나물', 43), ('반숙', 25), ('시금치', 57), ('나물', 133), ('숙주나물', 5), ('작은방', 103), ('똥손', 175), ('재단', 119), ('수평', 172), ('효소', 237), ('환절기', 157), ('극찬', 82), ('파파', 165), ('레서피', 78), ('레미', 83), ('눅눅하다', 253), ('일어나고', 73), ('곧바로', 33), ('깜짝', 504), ('한층', 92), ('환하다', 313), ('거가', 120), ('롤링', 88), ('유일하다', 167), ('쏟아지다', 192), ('손질', 968), ('버섯', 602), ('수용', 59), ('맛살', 4), ('꼬치', 93), ('양념', 623), ('막막', 17), ('저리', 179), ('세심', 119), ('차하', 14), ('잊혀지다', 18), ('쫒다', 22), ('소리내다', 51), ('울리다', 139), ('구조', 511), ('층간소음', 205), ('갈등', 17), ('새집', 44), ('직후', 120), ('이사', 577), ('오지', 199), ('쾅쾅', 19), ('뛰어놀다', 29), ('천국', 31), ('불과', 29), ('불길하다', 9), ('트럭', 61), ('방심하다', 24), ('띵동', 10), ('ㅜㅠㅠㅠㅠ', 3), ('ㅜㅜㅜ', 138), ('죄인', 11), ('적어도', 155), ('결심', 84), ('멘붕', 52), ('자꾸만', 105), ('탕탕', 18), ('울퉁불퉁', 34), ('텐션', 43), ('향균', 60), ('사방', 132), ('ㅂㅣ', 4), ('스타킹', 487), ('탄성', 99), ('손시', 8), ('려워', 4), ('장담', 25), ('첨으로', 82), ('몇장', 99), ('번햇', 3), ('더니', 287), ('울긋불긋', 11), ('쌓이다', 461), ('겹겹이', 29), ('직하다', 218), ('글라이신', 8), ('비누', 598), ('신율', 17), ('안테나', 97), ('이점', 202), ('모비딕', 43), ('삼중', 17), ('무사하다', 89), ('막눈', 7), ('투과', 17), ('어쩌', 114), ('수초', 58), ('약해지다', 216), ('업무', 115), ('ㅋㅋㅋㅋㅋㅋㅋㅋ', 92), ('ㅋㅋㅋㅋㅋㅋㅋ', 135), ('지혜', 9), ('해사', 7), ('ㅜㅜㅜㅜㅜㅜ', 9), ('매쉬', 134), ('가운데', 766), ('용다', 430), ('누우', 81), ('임신', 355), ('간결하다', 52), ('재사용', 110), ('깜박', 89), ('밀크', 502), ('스킨', 540), ('추구', 51), ('에여', 207), ('면도', 555), ('코리아나', 10), ('믿음직하다', 24), ('히알루론샷', 13), ('더더', 177), ('현상', 592), ('콧물제', 3), ('타요', 474), ('평범하다', 200), ('알바', 100), ('대학교', 9), ('과제', 89), ('얼라이브', 136), ('울렁거리다', 56), ('메스껍다', 12), ('공복', 201), ('차멀미', 5), ('어지럼증', 21), ('부작용', 192), ('ㅠㅡㅠ', 50), ('안뇽', 7), ('마약', 32), ('자꾸자꾸', 23), ('요약', 297), ('조르다', 195), ('싸우다', 125), ('곰곰', 865), ('기진', 11), ('언릉', 3), ('흠집', 318), ('어서', 163), ('이감', 10), ('올리브유', 231), ('후추', 243), ('올리브', 108), ('얘길', 17), ('오로지', 62), ('소변', 575), ('적어지다', 68), ('너리', 88), ('너덜너덜', 54), ('펜슬', 568), ('수납', 1750), ('신경안', 106), ('스럽게', 750), ('수고', 188), ('기쁨', 51), ('애마', 11), ('실비', 3), ('김치', 663), ('청양', 16), ('캡사이신', 4), ('듬뿍듬뿍', 20), ('잎사귀', 29), ('치우다', 521), ('시구', 22), ('서식', 13), ('가감', 29), ('듬성듬성', 37), ('된장', 55), ('니코', 18), ('된장국', 19), ('해구', 3), ('육수', 361), ('캬캬', 5), ('척척', 50), ('잡수시다', 3), ('모산', 11), ('절임', 129), ('빌어', 17), ('설다', 60), ('유로', 54), ('멜라', 29), ('계기', 156), ('실온', 332), ('생김새', 46), ('물속', 70), ('만두', 142), ('가르다', 293), ('스트링', 10), ('생크림', 87), ('쫄깃함', 19), ('사이사이', 201), ('누구', 487), ('쫀득쫀득', 62), ('어도', 254), ('프렌치', 60), ('물들다', 207), ('담번', 76), ('얼룩덜룩', 28), ('하진', 234), ('탱글탱글하다', 107), ('칵테일', 100), ('새우다', 169), ('특대', 194), ('바스', 186), ('짬뽕', 20), ('월남쌈', 112), ('볶음밥', 299), ('존재', 179), ('가득', 744), ('유툽', 46), ('초유', 141), ('평타', 55), ('더라고요', 17), ('라이', 275), ('체감', 241), ('쟁이', 135), ('기침', 167), ('삼천원', 16), ('오름', 28), ('랜덤', 156), ('빤짝', 39), ('촌스럽다', 158), ('반려', 67), ('쩍쩍', 118), ('스펀지', 352), ('해치다', 35), ('조이다', 338), ('애견', 150), ('스미다', 40), ('해얄듯', 4), ('저울', 362), ('그램', 357), ('도구', 328), ('주더', 44), ('까투리', 55), ('항시', 51), ('레일', 173), ('복잡하다', 222), ('귀요미', 44), ('부족', 258), ('간단명료', 5), ('킬링', 16), ('아이디어', 82), ('애니', 13), ('퍼펙', 3), ('달뒤', 33), ('컷다', 3), ('토미카', 5), ('품다', 368), ('도시락', 179), ('찬통', 3), ('밥통', 117), ('요렇게', 130), ('보냉', 122), ('냉동고', 238), ('아이스팩', 110), ('미듐', 19), ('라지', 261), ('주머니', 649), ('핸드폰', 715), ('덮이다', 49), ('버겁다', 115), ('탑승', 38), ('밀때', 31), ('에타', 45), ('둥둥', 96), ('기주', 4), ('노트북', 389), ('고사', 38), ('장형', 3), ('윈도우', 101), ('워드', 44), ('사랑', 500), ('혜택', 60), ('공학', 4), ('도우', 51), ('갈아타다', 518), ('베이직', 87), ('개구쟁이', 8), ('작법', 33), ('진짜진짜', 85), ('갈리', 143), ('꾹꾹', 123), ('견과류', 599), ('네이처', 128), ('러브', 70), ('메레', 40), ('오줌', 261), ('재우다', 192), ('빳빳', 128), ('마개', 204), ('저러다', 116), ('하아', 48), ('척후', 110), ('벽돌', 49), ('재의', 8), ('구도', 82), ('도마', 884), ('심지어', 458), ('확행', 11), ('누리', 65), ('유투브', 176), ('박하다', 114), ('녹슬다', 84), ('벨라', 58), ('쿠진', 68), ('간지', 49), ('타이머', 318), ('풀리다', 466), ('도깨비', 50), ('방망이', 99), ('휘핑', 19), ('부턴', 237), ('휘핑기', 10), ('비커', 49), ('체적', 243), ('스판', 114), ('모자라다', 275), ('라미', 47), ('사파리', 5), ('만년필', 12), ('볼펜', 75), ('만세', 161), ('홀릭', 49), ('멜로디', 131), ('계산', 142), ('찌부', 6), ('ㅠㅠㅠㅠㅠㅠㅠㅠㅠㅠ', 7), ('괜춘함', 6), ('기념', 56), ('오시', 46), ('낱개', 315), ('장마', 93), ('가라앉다', 158), ('폭신', 87), ('클라우드', 60), ('한우', 191), ('데이', 157), ('행사', 251), ('극단', 7), ('나뉘다', 124), ('식기', 217), ('백점만점', 5), ('쑤시다', 86), ('일지', 108), ('기약', 14), ('모기향', 10), ('고심', 73), ('기별', 9), ('궁합', 118), ('책보', 70), ('뜨끈하다', 175), ('통한', 42), ('감자탕', 384), ('전송', 13), ('저녁때', 25), ('갑작스럽다', 44), ('싱겁다', 232), ('살점', 14), ('살집', 30), ('우거지', 116), ('손색', 93), ('일정', 325), ('처움', 3), ('매끄럽다', 365), ('팍팍하다', 7), ('짜증나다', 595), ('에든', 58), ('부끄럽다', 63), ('거짓', 58), ('칼집', 335), ('샤오미', 107), ('거물', 3), ('갤럭시', 308), ('남부럽다', 3), ('마치', 300), ('수명', 294), ('탑제', 3), ('카카오', 63), ('신체', 120), ('카메라', 475), ('녹음', 146), ('대륙', 5), ('존경', 9), ('얼핏보', 9), ('시계', 381), ('잠깐', 739), ('요물', 67), ('혈압', 73), ('부문', 17), ('발기', 589), ('발기다', 83), ('개월차', 101), ('들려주다', 57), ('곰방', 9), ('도편', 26), ('내미다', 74), ('미소', 44), ('절로', 65), ('개개인', 49), ('기재', 156), ('조미료', 54), ('육개장', 29), ('업데이트', 107), ('신속하다', 75), ('마가', 34), ('고래밥', 317), ('딱좋다', 324), ('과자', 1002), ('어짜피', 127), ('이왕', 213), ('탁하다', 168), ('개정', 282), ('발판', 192), ('백과사전', 12), ('흑백', 55), ('기고', 130), ('상온', 119), ('찢기다', 171), ('알짝', 35), ('그을리다', 83), ('가하다', 261), ('마요네즈', 106), ('맥주', 438), ('짝꿍', 43), ('요만', 19), ('진열', 77), ('건더기', 230), ('이아', 23), ('팔만', 19), ('터치패드', 10), ('동그라미', 73), ('줄알', 74), ('공주', 108), ('튜튜', 3), ('스커트', 32), ('끝쪽', 51), ('한철', 76), ('팔천원', 11), ('개수', 128), ('인식', 328), ('의하다', 144), ('피로', 391), ('등부', 25), ('범위', 107), ('사무실', 473), ('어두우', 10), ('피로하다', 57), ('침침하다', 49), ('자유', 161), ('롭고', 87), ('움직', 340), ('다자', 26), ('심플', 983), ('세련되다', 305), ('동료', 86), ('튀김', 1107), ('튀기다', 867), ('렉스', 82), ('새송이', 167), ('부치다', 271), ('진미채', 10), ('메추리', 12), ('즉시', 106), ('닫히다', 452), ('힘없다', 119), ('음식물', 287), ('애도', 89), ('내년', 236), ('베이지색', 103), ('인게', 169), ('푸른', 48), ('자몽', 670), ('색다르다', 71), ('에프킬라', 9), ('성함', 16), ('은하', 16), ('동그랗다', 342), ('비타민', 3163), ('일주', 33), ('현관', 219), ('둥그런', 12), ('접함', 18), ('냉장', 769), ('고용', 51), ('아차', 47), ('ㅡㅜ', 32), ('아찔하다', 30), ('문어', 47), ('스티로폼', 189), ('보냉팩', 6), ('핏물', 89), ('졸이다', 37), ('돼지', 180), ('갈비찜', 75), ('득템', 200), ('적정', 76), ('헤링본', 58), ('무너지다', 190), ('패션', 49), ('보슬보슬하다', 4), ('일렬', 6), ('호텔', 202), ('수없이', 244), ('들고나다', 50), ('비행', 26), ('저학년', 64), ('진공상태', 11), ('양호', 147), ('관할', 270), ('기특하다', 46), ('토마토', 1012), ('오이', 127), ('바나나', 252), ('진공', 732), ('오이도', 4), ('물컹하다', 47), ('결과물', 83), ('실험', 116), ('삼다', 190), ('아담하다', 237), ('ㅌㅍ', 4), ('벗겨지다', 1096), ('계란후라이', 318), ('길들이다', 163), ('분분', 53), ('가장자리', 210), ('중불', 76), ('연세', 68), ('두유', 620), ('애정', 143), ('일요일', 93), ('까지로', 80), ('달짝', 17), ('지근', 29), ('건포도', 18), ('크랜베리', 72), ('브라질너트', 32), ('헤이즐넛', 27), ('브라질', 86), ('너트', 64), ('다림', 21), ('불안정하다', 56), ('미거', 5), ('와인', 119), ('술술', 37), ('노릇', 298), ('교회', 9), ('퍼펙토', 9), ('분말', 343), ('증가', 102), ('별별', 12), ('점차', 87), ('몸속', 62), ('감소', 224), ('듬뿍', 266), ('퍼팩토', 10), ('체내', 200), ('축적', 28), ('배출', 215), ('주지', 205), ('활기', 21), ('활기차다', 19), ('비숑프리제', 6), ('해주', 89), ('나들이', 51), ('식당', 191), ('남양주', 3), ('친하다', 81), ('아늑하다', 79), ('스폰지', 109), ('불면', 45), ('장도', 70), ('물병', 147), ('더디다', 75), ('십만원', 43), ('사주면', 65), ('웨건', 10), ('끄덕', 36), ('한강', 15), ('공원', 45), ('출발', 61), ('수다', 6), ('떨다', 280), ('아담', 29), ('라면서', 5), ('서울', 258), ('그이', 8), ('돗자리', 36), ('우비', 4), ('답니', 79), ('오토바이', 52), ('찾아가다', 36), ('일만원', 3), ('되엇', 6), ('떠오르다', 106), ('문턱', 8), ('어김없이', 39), ('산책로', 6), ('고고', 73), ('카페', 549), ('정원', 41), ('나잇', 26), ('플랜', 110), ('인조', 67), ('유연하다', 75), ('범퍼', 52), ('펜슬꽂이', 4), ('부합', 32), ('세대', 375), ('공용', 79), ('스피커', 210), ('어긋나다', 33), ('노출', 204), ('단자', 190), ('자성', 43), ('갈수록', 190), ('심리', 69), ('자칫', 76), ('물어보다', 443), ('노즐', 61), ('바른', 88), ('생생', 9), ('스파게티', 117), ('센스', 226), ('푸실리', 5), ('렌지', 77), ('살림', 202), ('템빨', 22), ('틀리다', 308), ('토요일', 93), ('강원도', 28), ('축제', 7), ('장거리', 219), ('운행', 111), ('부랴부랴', 104), ('컵홀더', 91), ('머랄', 9), ('정성껏', 41), ('흐미', 17), ('치약', 1267), ('유목민', 210), ('직전', 165), ('인도', 59), ('화하다', 199), ('매다', 1044), ('서두', 27), ('꽃향', 124), ('요것', 162), ('다녀오다', 326), ('해치', 100), ('하단', 445), ('멸치', 113), ('액정', 226), ('쪽파', 564), ('대파', 222), ('된장찌개', 46), ('김치찌개', 43), ('생채', 5), ('요기', 112), ('맛깔', 9), ('감초', 26), ('아영', 40), ('칠해', 10), ('도작', 7), ('캣타워', 221), ('랍니다', 33), ('복합', 136), ('고층', 9), ('숨지다', 73), ('발톱', 84), ('로프', 7), ('만으로도', 215), ('안락하다', 19), ('찬찬하다', 33), ('자재', 94), ('그걸', 331), ('놀때', 87), ('간절하다', 41), ('ㅋㅋㅋㅋㅋㅋㅋㅋㅋㅋ', 36), ('기지', 132), ('슬슬', 238), ('요게', 142), ('오드', 44), ('트랙', 27), ('왠지', 414), ('웃다', 188), ('일해', 102), ('만천원', 140), ('출동', 125), ('달려가다', 59), ('죙일', 21), ('나선', 46), ('않드라구', 6), ('다한', 45), ('대용', 609), ('통안', 47), ('플라스틱병', 14), ('학생', 131), ('바쁘다', 666), ('현대인', 50), ('쉐이크', 109), ('낙스', 54), ('신차', 62), ('목적', 490), ('흐려지다', 19), ('되살리다', 8), ('의심', 342), ('꼽히다', 69), ('일간', 76), ('답변', 177), ('시나노', 76), ('없엇어', 18), ('끝내기', 6), ('먹을떄', 4), ('순식간', 138), ('칼륨', 77), ('염분', 39), ('고혈압', 47), ('식이섬유', 259), ('과육', 95), ('활동', 610), ('원활하다', 75), ('전인', 21), ('장속', 6), ('독소', 24), ('영양분', 83), ('꺠끗하', 8), ('양보', 70), ('거름', 163), ('뾰족', 164), ('재량', 7), ('구급차', 54), ('소방차', 201), ('미스', 61), ('제니퍼', 51), ('실패', 418), ('연속', 180), ('지방', 454), ('자격', 7), ('드디어', 349), ('토스터', 103), ('오븐', 1551), ('비템', 40), ('배밀', 12), ('돌보다', 65), ('패턴', 184), ('돌돌', 288), ('폴더', 201), ('안눌려', 16), ('리나', 276), ('리모컨', 325), ('잏어', 4), ('제멋대로', 19), ('숙소', 44), ('조식', 6), ('땅콩', 170), ('넛츠', 12), ('비율', 250), ('생존', 36), ('제격', 150), ('수업', 121), ('나눠지다', 104), ('물품', 343), ('초아', 28), ('아레나', 9), ('신청서', 3), ('둥이', 130), ('장일', 9), ('아우', 33), ('노무', 9), ('주렁주렁', 13), ('황당', 40), ('왕래', 4), ('배짱', 5), ('중고', 429), ('단어', 263), ('호갱', 12), ('뭐라다', 387), ('글자', 313), ('홈런', 11), ('눈높이', 35), ('개속', 3), ('늘어서다', 33), ('년도', 189), ('고하', 46), ('붙잡다', 64), ('한없이', 17), ('일차', 131), ('어후', 13), ('앞니', 20), ('발음', 33), ('유가', 41), ('요로', 101), ('아야', 70), ('헤깔려', 4), ('매틱', 16), ('홀로그램', 23), ('주야', 9), ('꼬박꼬박', 85), ('시슬', 17), ('ㅠㅠㅠㅠㅠㅠ', 58), ('호빵', 43), ('웰빙', 45), ('행굼', 16), ('연일', 6), ('장가', 49), ('구연산', 80), ('파티', 240), ('빈약하다', 34), ('산후', 89), ('페이크', 9), ('신어', 378), ('운동화', 254), ('시렵', 8), ('결혼식', 29), ('장례식', 5), ('합치다', 108), ('장사', 84), ('웬만큼', 19), ('양복', 10), ('날림', 187), ('메인', 255), ('뒤틀리다', 50), ('덜렁', 117), ('아슬아슬하다', 29), ('대기', 136), ('반사', 191), ('차라', 70), ('유독', 198), ('퍼펙트', 56), ('퀵디', 18), ('테일러', 48), ('양인', 24), ('편의점', 237), ('티즐', 173), ('아이스티', 17), ('립톤', 3), ('세고', 49), ('끝맛', 124), ('텁텁', 107), ('결합부', 44), ('마모', 43), ('센서', 194), ('모되', 45), ('번식', 71), ('보름', 103), ('부르다', 359), ('샴프', 24), ('이구나', 77), ('깨달음', 12), ('공기청정기', 96), ('주무시다', 62), ('상쾌', 23), ('도리어', 9), ('줄자', 54), ('다우', 10), ('리터', 638), ('백서', 44), ('비비', 130), ('탁세', 15), ('헹굼시', 5), ('발꼬락', 7), ('문서', 59), ('상위', 90), ('공감', 102), ('스텐리스', 9), ('스탠', 106), ('리스', 226), ('신건', 54), ('지진', 43), ('이주', 52), ('물베임', 4), ('베임', 26), ('보솜', 193), ('썸머', 207), ('약품', 142), ('듯해', 170), ('얼렁', 10), ('공이', 116), ('뚫다', 216), ('스매싱', 3), ('화물', 37), ('듭니다', 12), ('도대체', 220), ('신뢰', 418), ('도면', 46), ('감점', 20), ('산다', 165), ('고치', 22), ('유형', 53), ('분경', 4), ('탱글탱글', 80), ('이기도', 467), ('비쥴', 4), ('고대로', 37), ('루꼴', 332), ('차차', 36), ('해쥬구', 4), ('언뜻', 19), ('새알', 12), ('시보', 26), ('비엔나', 19), ('소시지', 22), ('토라', 5), ('지구', 45), ('에구', 20), ('발상', 5), ('쉐킷쉐킷', 9), ('오묘하다', 31), ('서양', 14), ('푸네', 19), ('갠차다', 50), ('하기는', 87), ('로그', 13), ('흡사', 18), ('한몫', 73), ('드릴', 341), ('푹신푹신', 115), ('푹신', 37), ('요전', 65), ('심다', 181), ('호박', 370), ('옴청', 8), ('흡습성', 15), ('푸마', 95), ('실착', 5), ('괭장히', 8), ('폴리우레탄', 32), ('순면', 550), ('편안함', 136), ('멋지다', 198), ('뽀대', 3), ('현장', 45), ('적자', 9), ('수록', 179), ('마르', 126), ('코풀때', 3), ('어나', 165), ('엠보', 67), ('대면', 112), ('서점', 27), ('기탄', 154), ('시리즈', 361), ('뒷쪽', 112), ('서술', 20), ('훈련', 169), ('연습', 379), ('갈수', 83), ('나눗셈', 6), ('푸다', 591), ('풀이', 54), ('머릿속', 20), ('암산', 6), ('이끌다', 30), ('가야', 154), ('배려', 49), ('자질구레하다', 23), ('견과', 90), ('티백', 83), ('동사', 49), ('집어넣다', 106), ('문구', 227), ('초딩', 193), ('일부분', 21), ('울긋불긋하다', 8), ('로션', 804), ('가물가물', 11), ('세터', 4), ('기왕', 72), ('에를', 23), ('여보', 24), ('밀폐', 175), ('시가', 78), ('조심스럽다', 98), ('불투명하다', 30), ('북적', 5), ('여태', 236), ('흐트러', 10), ('지지도', 38), ('믹스견', 18), ('잠기', 33), ('메다', 287), ('다우니', 169), ('어무', 7), ('가세', 38), ('펼쳐지다', 65), ('부용', 20), ('코딩', 44), ('직장', 160), ('엘지', 97), ('레노버', 8), ('볼드', 9), ('꼬맹이', 70), ('로봇', 309), ('한부모', 3), ('부자', 84), ('기쁘다', 210), ('정성스럽다', 24), ('실바', 21), ('패밀리', 47), ('유치원', 279), ('프렌즈', 21), ('완구', 42), ('천사', 45), ('안이', 134), ('찌들다', 115), ('세가족', 6), ('소모품', 143), ('귀염', 65), ('물통', 282), ('기여', 40), ('팬티라이너', 103), ('올리브영', 83), ('별반', 61), ('건성', 290), ('여느', 50), ('붕어빵', 543), ('사오다', 218), ('파리', 66), ('명령', 10), ('노동', 46), ('부피', 747), ('양으로', 176), ('선방', 6), ('요령', 187), ('부리다', 89), ('초심', 24), ('쭉쭉', 162), ('찍어내다', 26), ('뒷정리', 44), ('입양', 51), ('후각', 57), ('깔끔쟁', 5), ('전쟁', 70), ('케이', 222), ('먹엇어', 8), ('써봣어', 5), ('눈꼽', 73), ('호감', 29), ('도등', 7), ('약도', 90), ('썻네', 10), ('지병', 7), ('캣폴', 8), ('때리다', 137), ('난무', 5), ('패쓰', 61), ('카사바', 4), ('리릭', 57), ('눈물', 449), ('재채기', 48), ('접종', 23), ('항체', 4), ('웬걸', 79), ('루안', 13), ('기호', 766), ('포대기', 58), ('표정', 75), ('유격', 87), ('발가락', 303), ('무발', 19), ('밍크', 60), ('신해', 115), ('깨뜨리다', 15), ('잡지', 49), ('말고는', 324), ('캐릭터', 543), ('여자아이', 158), ('댕강', 10), ('파란색', 250), ('과즙', 195), ('미루다', 226), ('바이트', 9), ('ㅡㅡㅡㅡㅡㅡㅡㅡㅡㅡㅡㅡㅡㅡㅡㅡㅡㅡ', 27), ('포토', 61), ('ㅡㅡㅡㅡㅡㅡㅡㅡㅡㅡㅡㅡㅡㅡㅡㅡㅡㅡㅡ', 22), ('빗방울', 10), ('번지', 69), ('제의', 67), ('차등', 4), ('도포', 120), ('아픔', 140), ('발사', 41), ('저기', 182), ('탱탱', 23), ('본사', 79), ('건전지', 819), ('응대', 44), ('여쭈다', 64), ('홈페이지', 82), ('반절', 48), ('호환', 438), ('타로', 154), ('사기', 413), ('노묘', 18), ('모시', 35), ('년차', 122), ('헬린이', 3), ('장비', 119), ('보호대', 70), ('연년생', 43), ('아내', 97), ('덴마크', 104), ('체다', 32), ('기저', 5), ('맛소금', 14), ('술안주', 86), ('장모님', 23), ('본드', 251), ('소진하', 22), ('차지', 1034), ('앙증맞다', 152), ('빨간색', 221), ('금요일', 62), ('만지작', 74), ('퍼프', 120), ('빳빳해', 37), ('식다', 343), ('설겆이', 56), ('구가', 227), ('대패', 11), ('차돌박이', 10), ('갈비', 102), ('운후', 13), ('느리다', 347), ('샤브', 121), ('요리법', 15), ('변상태', 19), ('시커멓다', 110), ('팔리다', 76), ('마음대로', 61), ('열기', 225), ('엄두', 73), ('할껄', 69), ('아작', 45), ('미관', 76), ('풍도', 7), ('수압', 111), ('유막', 15), ('물소', 11), ('생리통', 205), ('물혹', 3), ('후유증', 17), ('아팟는데', 3), ('꼬물이', 7), ('웃기다', 109), ('강요', 9), ('빼기', 239), ('연산', 139), ('지루하다', 166), ('ㅡㅡㅡ', 55), ('더하기', 60), ('ㅡㅡㅡㅡㅡㅡㅡ', 32), ('루틴', 51), ('버려지다', 64), ('들추다', 19), ('피식', 8), ('무크', 56), ('헬스', 42), ('이미지', 250), ('따오다', 4), ('퓨마', 29), ('하든', 30), ('칠천원', 8), ('스판력', 4), ('햇빛', 333), ('눈부심', 38), ('우산', 35), ('샤프심', 139), ('부부', 148), ('마자', 183), ('마찰력', 22), ('자격증', 7), ('웨스트', 11), ('드러나다', 68), ('원피스', 108), ('갑갑하다', 66), ('타이트해', 14), ('몇몇', 99), ('배랑', 19), ('찜질', 262), ('핫팩', 602), ('쌀쌀하다', 161), ('용서', 41), ('나리', 64), ('공홈', 57), ('파삭', 8), ('막도', 35), ('걸쭉하다', 80), ('유물', 24), ('부글부글', 19), ('반찬', 687), ('스크래치', 325), ('토핑', 95), ('딸기', 729), ('키위', 22), ('판매점', 9), ('공산품', 14), ('첨가', 483), ('통밀', 18), ('어쩌다가', 20), ('빵집', 65), ('빵칼', 3), ('시판', 122), ('찾아다니다', 33), ('실사', 97), ('재택근무', 19), ('평평하다', 221), ('볼링', 40), ('ㅜㅋ', 13), ('독일', 169), ('알림', 233), ('헐렁하다', 197), ('벚겨져', 3), ('깨감', 18), ('승무원', 10), ('날씬하다', 131), ('발인', 12), ('펌핑해', 92), ('겉도', 35), ('치대다', 16), ('왤케', 36), ('부들', 91), ('거림', 91), ('컨디셔너', 37), ('문해', 104), ('콜비잭', 8), ('복음', 7), ('어수선하다', 20), ('미디움', 23), ('맥스', 291), ('살피다', 87), ('멍멍', 79), ('외갓집', 166), ('꽝꽝', 60), ('떡국', 48), ('깻잎', 87), ('보글보글', 80), ('외로', 90), ('사리', 85), ('흐물거리', 26), ('먹고다', 215), ('반갑다', 106), ('었는데', 10), ('약제', 3), ('반짝', 77), ('배앓이', 70), ('일본', 141), ('불매', 14), ('지극히', 158), ('체어', 22), ('월령', 18), ('그리하여', 21), ('좋슴다', 4), ('자세', 223), ('젖히다', 50), ('똑바로', 96), ('엽산', 238), ('증거', 43), ('언젠가', 102), ('숏다리', 22), ('세지', 89), ('무르지', 8), ('말캉하다', 23), ('입심', 8), ('오오', 49), ('효용', 13), ('라이너', 85), ('자잘하다', 127), ('어쩌자', 5), ('피부관리', 41), ('옵니다', 154), ('암수', 3), ('이었음', 4), ('순환', 179), ('절개', 9), ('대문', 17), ('디테', 154), ('소망', 25), ('차원', 201), ('비숫', 7), ('훔치다', 22), ('옆쪽', 91), ('께서는', 53), ('중지', 45), ('노비', 323), ('일본어', 45), ('성격', 268), ('활보', 4), ('나이라', 18), ('바라지', 30), ('이염', 352), ('세네', 51), ('가지다', 459), ('다루다', 205), ('수라', 37), ('두툼해', 127), ('축축하다', 231), ('네오플', 41), ('궁리', 11), ('기초', 242), ('찌개', 220), ('그니까', 11), ('가스렌지', 299), ('계란찜', 71), ('요리왕', 4), ('발림', 270), ('잡티', 94), ('햇볕', 83), ('접기', 58), ('내부', 980), ('물류', 57), ('발송', 112), ('아이디', 43), ('상상', 180), ('떨어트려', 26), ('귀퉁이', 47), ('전후', 164), ('그로', 89), ('페이스', 236), ('라이트닝', 23), ('초점', 51), ('진행중', 32), ('미드나잇', 43), ('하늘', 104), ('자정', 13), ('푸르다', 129), ('스름', 18), ('첨단', 9), ('테크놀로지', 8), ('따위', 59), ('불어', 187), ('지문', 130), ('해제', 55), ('계시', 90), ('방송', 128), ('중학생', 105), ('재생', 155), ('리튬', 4), ('내장', 324), ('지원', 202), ('리더', 26), ('페이도', 6), ('영상통화', 8), ('인물사진', 7), ('배경', 65), ('흐리다', 82), ('인물', 47), ('중점', 73), ('알루미늄', 146), ('토록', 12), ('항목', 38), ('효모', 178), ('들쑥날쑥하다', 18), ('산성', 218), ('가려움증', 59), ('안떨어지다', 172), ('떡짐', 16), ('세균', 192), ('감염', 42), ('뽀독뽀독하다', 3), ('마련', 168), ('헹굼후', 3), ('린스', 240), ('짙다', 136), ('공후', 12), ('튕겨', 27), ('하늘색', 126), ('감촉', 145), ('다급하다', 11), ('벌레', 209), ('기피', 17), ('똥글', 3), ('그리마', 4), ('돈벌레', 4), ('무단', 12), ('침입', 8), ('다반사', 13), ('잡초', 4), ('더듬이', 7), ('색연필', 103), ('해주시', 204), ('철장', 22), ('골절', 20), ('설마', 198), ('빙박스', 75), ('활발하다', 82), ('보수', 39), ('매일유업', 62), ('어메이징', 130), ('오트', 181), ('귀리', 341), ('떼이다', 4), ('라떼', 472), ('살며시', 9), ('산뜻하다', 394), ('언스', 64), ('위트', 68), ('바리스타', 85), ('엄격하다', 45), ('제한', 96), ('업그레이드', 225), ('쓰는덴', 7), ('볼트', 248), ('커브드', 28), ('평면', 44), ('작업실', 14), ('커브', 74), ('시야', 120), ('잠옷', 210), ('이키', 7), ('이스', 87), ('우리나라', 147), ('넓어지다', 101), ('서안', 10), ('폴로', 4), ('슬림', 192), ('니요', 32), ('기모', 129), ('쌩쌩하다', 22), ('대접받다', 10), ('변도', 32), ('다리미', 654), ('마땅치', 43), ('고정력', 87), ('다리다', 312), ('키트', 143), ('나날이', 20), ('시장', 226), ('식사량', 21), ('단정', 25), ('발골', 9), ('ㅜㅠ', 260), ('얼큰하다', 63), ('매콤', 129), ('벌다', 84), ('차리기', 3), ('실로', 137), ('유통기간', 80), ('시레기', 11), ('살코기', 53), ('스르륵', 56), ('녹아내리다', 20), ('조만간', 231), ('멀티', 620), ('물욕', 6), ('신제품', 83), ('생필', 17), ('구오', 22), ('이걸루', 29), ('서사', 15), ('젛아', 7), ('실하다', 133), ('길쭉하다', 94), ('통통하다', 257), ('금남', 3), ('빌트', 16), ('김치냉장고', 73), ('마비', 44), ('보습', 928), ('레시틴', 14), ('형성', 197), ('대두', 55), ('과학', 44), ('유사하다', 80), ('독자', 7), ('뮬러', 22), ('적응하다', 248), ('도와주다', 349), ('진정', 311), ('시킴', 46), ('집들이', 156), ('압착', 37), ('비스듬', 8), ('쭈글쭈글하다', 12), ('두드리다', 116), ('프레임', 167), ('모로', 464), ('프린터', 148), ('청진기', 35), ('긁힌', 31), ('무용', 81), ('이리저리', 315), ('정성', 149), ('생가', 38), ('익숙', 54), ('짓무르거', 6), ('반짝이다', 138), ('제본', 36), ('포크', 48), ('비틀어지다', 33), ('엄빠', 31), ('할아버지', 82), ('드렷', 4), ('세팅', 60), ('밸브', 108), ('가스', 526), ('일화', 6), ('불위', 23), ('효도', 21), ('사만원', 12), ('이돈', 36), ('정신건강', 30), ('보람', 90), ('비오비', 114), ('항생제', 130), ('처방', 115), ('중단', 139), ('장내', 28), ('유익', 29), ('죽죽', 16), ('넘어오다', 158), ('감탄', 110), ('명확하다', 68), ('화학', 359), ('레깅스', 163), ('수저', 158), ('퍼플', 162), ('경향', 64), ('상관', 263), ('시엔', 51), ('선지', 72), ('가동', 94), ('글코', 7), ('대체로', 221), ('패티', 51), ('쪼끔', 69), ('무쟈', 14), ('깊숙하다', 64), ('카레', 102), ('곰솥', 42), ('스텐냄비', 25), ('벼르', 30), ('가스레인지', 269), ('데우다', 498), ('후끈', 23), ('린다', 78), ('든지', 213), ('산화', 81), ('불보', 9), ('오리', 214), ('백숙', 10), ('옆집', 40), ('오리가', 5), ('하이라이트', 120), ('네로', 7), ('조건', 174), ('즈음', 65), ('카운터', 6), ('똑같이', 298), ('뽀글뽀글', 17), ('따끈따끈하다', 31), ('홈쇼핑', 151), ('지단', 24), ('입김', 17), ('나풀나풀', 4), ('끼니', 66), ('케잌', 58), ('반죽', 541), ('룰루랄라', 6), ('두툼', 299), ('찜기', 12), ('큼직하다', 217), ('증기', 35), ('불규칙', 15), ('경쟁력', 25), ('뭣하', 3), ('무쇠', 53), ('바깥', 216), ('남색', 34), ('험하다', 86), ('스크레치', 180), ('에고', 41), ('시식', 59), ('먹방', 13), ('안방', 332), ('안남', 198), ('대야', 38), ('다그', 19), ('출렁', 9), ('천대', 9), ('만천', 13), ('게으름', 15), ('피우다', 28), ('이참', 98), ('첫인상', 72), ('부팅', 38), ('시연', 11), ('치네다', 24), ('하나같이', 48), ('소소하다', 133), ('그람', 269), ('아모', 13), ('클레이', 110), ('점토', 66), ('의심스럽다', 93), ('히알루론산', 197), ('대보다', 49), ('시대', 154), ('개꿀', 13), ('구글', 48), ('소식', 84), ('구로', 124), ('마켓', 93), ('팔고', 106), ('강화유리', 141), ('초후', 7), ('초록불', 49), ('성과', 143), ('안전성', 257), ('보존', 101), ('주물', 71), ('트렌디', 28), ('티타늄', 157), ('열전도', 62), ('퓨전', 19), ('열원', 79), ('바깥쪽', 162), ('페이트', 19), ('로라', 113), ('고함', 64), ('누액', 6), ('분안', 35), ('품평', 84), ('잘해주다', 43), ('저걸', 65), ('콩알', 26), ('산모', 37), ('치매', 50), ('적혈구', 18), ('세포', 194), ('역활', 76), ('일상', 283), ('황색', 18), ('예비', 54), ('화끈', 20), ('두드러지다', 6), ('가로세로', 62), ('남고', 96), ('문구점', 58), ('관건', 37), ('맘에듭니', 158), ('파스텔', 224), ('타지', 189), ('금상첨화', 29), ('퍼센트', 65), ('색소', 142), ('쓰레기', 695), ('일거리', 11), ('밀도', 109), ('로되', 31), ('예감', 23), ('꿀잠', 81), ('휴식', 49), ('안거', 6), ('베김', 5), ('티브이', 28), ('시청', 132), ('트리스', 29), ('이모', 96), ('취하', 35), ('잠자리', 57), ('헤치다', 53), ('수면', 229), ('토퍼', 239), ('입가', 42), ('접대', 31), ('연출', 121), ('대여', 54), ('정답', 47), ('이맘', 12), ('쓰레기봉투', 27), ('스티', 64), ('촥촥', 23), ('어머', 64), ('군더더기', 157), ('오뎅', 69), ('그릭', 420), ('유청', 358), ('한계', 192), ('으로서는', 13), ('파트너', 13), ('납부', 24), ('선글라스', 29), ('악세다', 33), ('문인', 3), ('무트', 272), ('틀림', 24), ('알도', 114), ('레카', 4), ('장소', 167), ('용액', 70), ('짖다', 51), ('난중', 6), ('잘듭니', 4), ('신선', 115), ('설농탕', 18), ('차키', 88), ('리모콘', 116), ('마구', 110), ('개발', 118), ('경과', 43), ('어우', 32), ('국민', 302), ('불리다', 248), ('신상', 52), ('괜찬은거', 9), ('서른', 18), ('닥나무', 12), ('친환경', 308), ('외풍', 62), ('반대편', 63), ('떠다니다', 39), ('유자', 81), ('그린티', 13), ('유사', 35), ('고향', 17), ('고등학생', 58), ('밀로', 97), ('개비', 90), ('불변', 5), ('오래간만', 15), ('대박나다', 56), ('수미', 102), ('누군가', 169), ('이별', 29), ('오물', 20), ('거무', 23), ('리퍼제품', 11), ('무기', 59), ('커다랗다', 106), ('도둑', 39), ('기절', 48), ('자시다', 65), ('물리다', 269), ('팅팅', 9), ('지면', 184), ('후려치다', 8), ('렵니', 74), ('성탄절', 6), ('통령', 16), ('세월', 80), ('리트리버', 25), ('쿠나', 4), ('희망', 53), ('소요', 116), ('장제', 14), ('썻을때', 9), ('물색', 14), ('찟어져', 9), ('장관', 26), ('꿀템', 63), ('이외', 111), ('예정일', 42), ('이동식', 49), ('조언', 37), ('거저', 98), ('포켓', 294), ('옴총', 6), ('손수건', 128), ('큼직큼직하다', 35), ('아치', 23), ('충실하다', 186), ('상치', 24), ('가렵거', 16), ('점성', 59), ('멘솔', 8), ('아스', 24), ('보드랍다', 123), ('싹싹', 58), ('시원', 75), ('잔소리', 74), ('골지', 79), ('컴퓨터', 461), ('두근두근', 37), ('가이드', 72), ('구형', 79), ('컴맹', 4), ('타이어', 269), ('땟국', 7), ('낡다', 166), ('차후', 91), ('코스', 239), ('진드기', 133), ('와는', 278), ('릴리안', 9), ('파동', 39), ('당시', 214), ('피해자', 13), ('고분자', 17), ('표백', 33), ('무염', 33), ('염소', 27), ('가능성', 106), ('밖에도', 22), ('일일이', 174), ('나열', 31), ('펄프', 159), ('몆번', 9), ('로움', 68), ('온건', 157), ('유럽', 105), ('이서', 83), ('여행기', 6), ('간도', 76), ('실버', 138), ('ㅡㅡㅡㅡㅡ', 23), ('꿀렁꿀렁', 3), ('행전', 5), ('무지막지', 14), ('굴려', 27), ('우기', 20), ('억수', 6), ('아스팔트', 23), ('가가', 120), ('끌기', 11), ('확정', 44), ('요긴', 199), ('고프다', 102), ('금물', 16), ('주무르다', 13), ('지랄', 7), ('ㅡㅡㅡㅡㅡㅡㅡㅡㅡㅡㅡ', 16), ('보푸라기', 33), ('전도율', 70), ('측정', 552), ('비갑', 95), ('물안경', 200), ('수영장', 185), ('편안', 42), ('물총', 42), ('회전력', 35), ('배관', 23), ('바스러지다', 6), ('부스러기', 208), ('아름답다', 67), ('이냐', 86), ('깨물다', 77), ('차이다', 490), ('부들하다', 19), ('숯불', 31), ('글카', 4), ('메인보드', 16), ('안주시', 7), ('방금', 131), ('제사', 30), ('후다닥', 70), ('끈끈이', 58), ('땜시', 33), ('조심조심', 104), ('질의', 28), ('고온', 262), ('미지', 32), ('난로', 59), ('그제야', 16), ('마저도', 56), ('워터파크', 60), ('구명조끼', 150), ('발버둥치다', 14), ('헛디디다', 3), ('꼬꾸라지다', 18), ('파랑', 109), ('초록', 337), ('사인', 23), ('크레용', 9), ('구류', 15), ('이신', 286), ('사탕', 192), ('소렌토', 7), ('분소', 8), ('아트', 93), ('스댕', 28), ('밸런스', 102), ('계절', 395), ('시시', 15), ('인간', 110), ('파서', 91), ('쪼개다', 92), ('이로', 130), ('물어', 171), ('낮추다', 250), ('린데', 15), ('스테플러', 3), ('제주', 103), ('집도', 128), ('어요', 128), ('맘때', 11), ('근육', 279), ('방어', 17), ('식후', 105), ('식전', 41), ('셋팅', 72), ('트기', 6), ('지남', 25), ('배아픔', 6), ('제주도', 136), ('베이킹파우더', 18), ('코리아', 118), ('도기', 25), ('용공', 5), ('비숑', 47), ('난리치다', 23), ('짧게하다', 6), ('튕겨져', 6), ('바수다', 26), ('밴딩', 150), ('도툼', 4), ('아두', 91), ('어둡다', 328), ('차렵', 12), ('누빔', 91), ('밀림', 191), ('흐트러져', 8), ('매트리스', 361), ('익일', 29), ('삐지다', 108), ('일으키다', 85), ('천만', 9), ('콜라겐', 726), ('더러워지다', 244), ('보플', 36), ('생기지', 123), ('클립', 161), ('러시', 21), ('통통이', 11), ('나비잠', 19), ('카코', 8), ('퓨어', 176), ('젤펜', 18), ('아하', 38), ('분유', 669), ('맨손', 109), ('상담사', 51), ('교육', 199), ('상담', 186), ('통화', 86), ('책임자', 6), ('자수', 75), ('공단', 7), ('리본', 117), ('신나요', 14), ('이어지다', 124), ('자연스럽다', 263), ('구두', 82), ('생일도', 7), ('다가오다', 238), ('총알', 84), ('안습', 11), ('덩치', 36), ('체격', 51), ('체형', 215), ('그러니까', 64), ('어쨌든', 192), ('정돈', 136), ('선전', 27), ('께선', 8), ('걷기', 108), ('야쿠르트', 12), ('고개', 187), ('달큼하다', 5), ('동물성', 41), ('영양면', 13), ('준비물', 157), ('허비하다', 6), ('자부', 19), ('당분', 51), ('산도', 51), ('절제', 22), ('화제', 25), ('가물', 49), ('해롭다', 79), ('하체', 112), ('난건', 38), ('식이', 226), ('무뎌', 4), ('턱선', 11), ('진부', 15), ('곳도', 221), ('코밑', 10), ('사선', 63), ('후반', 174), ('세뱃돈', 10), ('브라이튼', 70), ('브이', 48), ('기안', 39), ('여야', 65), ('박일', 100), ('그물', 63), ('알뜰하다', 54), ('크리넥스', 28), ('밧다', 25), ('자판기', 231), ('고딩', 56), ('이따금', 8), ('지난달', 19), ('담터', 48), ('베이스', 235), ('주기도', 178), ('식곤증', 3), ('몰려들다', 8), ('나른하다', 11), ('출출하다', 99), ('홀짝', 23), ('나마', 68), ('해썹', 20), ('새기다', 68), ('충족', 147), ('픽스', 105), ('천은', 39), ('피자치즈', 19), ('마루', 108), ('방등', 50), ('마이크', 156), ('결부', 81), ('접근', 51), ('자신감', 94), ('솥밥', 18), ('왜냐면', 85), ('알코올', 61), ('주네', 98), ('에탄올', 66), ('다섯', 478), ('사가', 134), ('블랜딩', 25), ('리필액', 16), ('정장', 106), ('생해', 5), ('파내다', 13), ('놀랍다', 89), ('겉바', 59), ('언제', 713), ('켜지다', 205), ('강제', 90), ('종료', 31), ('힘겹다', 45), ('찍기', 60), ('수성', 15), ('제니', 23), ('붓기', 174), ('착즙', 291), ('수확', 58), ('찌푸리다', 20), ('양배추', 397), ('색종이', 24), ('찰지다', 78), ('쌀밥', 105), ('꼬리', 331), ('아보카도', 209), ('매수', 101), ('매가', 71), ('기록', 181), ('어버이날', 37), ('양가', 19), ('장용', 19), ('상수도', 4), ('쏟아내다', 8), ('콸콸', 39), ('에티튜', 4), ('블랑', 30), ('실리', 24), ('콘솔', 35), ('도의', 47), ('쓸렵니', 6), ('야기', 15), ('환장하다', 131), ('응급실', 15), ('무작정', 27), ('배합', 81), ('팍팍', 193), ('로르', 5), ('팔메', 64), ('중복', 47), ('지라', 127), ('로르산', 8), ('한해', 53), ('화살표', 64), ('나나', 55), ('난국', 7), ('일직선', 18), ('썻어', 15), ('널널해', 10), ('낳다', 263), ('동결', 80), ('북어', 21), ('불안', 174), ('햄찌', 58), ('뭉탱이', 19), ('빵꾸', 45), ('인증샷', 27), ('로란', 11), ('호박고구마', 316), ('타닌', 3), ('위벽', 7), ('오이랑', 4), ('맛탕', 14), ('엄지', 167), ('단백', 128), ('삼겹살', 167), ('구우', 148), ('도해', 211), ('연골', 101), ('요구르트', 81), ('라마', 88), ('엘라스', 32), ('비오틴', 73), ('네일', 16), ('깜놀', 187), ('전문의', 20), ('포로', 64), ('부원', 30), ('취저', 17), ('성해', 64), ('닌자', 203), ('구십', 3), ('족족', 21), ('어물', 19), ('더블에이', 105), ('겟어', 12), ('단지', 339), ('지통', 4), ('안타깝다', 122), ('써주다', 401), ('실화', 66), ('분동', 80), ('은밀', 7), ('주먹', 206), ('촵촵', 26), ('포니', 108), ('독후', 11), ('어색하다', 155), ('팔찌', 26), ('화분', 230), ('도크', 38), ('붕어', 42), ('가려지다', 180), ('주차장', 56), ('키카', 29), ('에서와', 12), ('싸하다', 41), ('시드', 7), ('개중', 243), ('나왓음', 3), ('프라이어', 615), ('전동', 143), ('단축', 127), ('응원', 63), ('코멧', 235), ('훨신', 24), ('공중화장실', 9), ('어쩌겠어', 18), ('드물다', 31), ('선생님', 249), ('조물', 15), ('미니카', 58), ('우웅', 17), ('꼼지락', 24), ('차분하다', 146), ('기면', 27), ('어젯밤', 24), ('아메리칸', 13), ('선도', 128), ('세진', 13), ('여요', 83), ('레고', 346), ('환도', 24), ('스크라치', 5), ('바랜듯', 4), ('마법', 87), ('구취', 281), ('부케', 181), ('나드', 81), ('한숨', 47), ('쟁겨놓', 12), ('신맛', 183), ('닦여지다', 20), ('번만', 231), ('알아차리다', 13), ('줄평', 74), ('전해', 19), ('볼품', 21), ('태일', 3), ('쪼글', 5), ('동해', 40), ('노바', 6), ('시새우다', 3), ('입도', 93), ('튿어짐', 6), ('금사', 13), ('결혼', 162), ('언니', 385), ('사라', 156), ('언니네', 34), ('형부', 7), ('덩어리', 365), ('곡선', 107), ('호호', 35), ('초콜릿', 117), ('틴바', 97), ('키티', 281), ('매니아', 81), ('번시', 11), ('그다지', 170), ('오금', 35), ('때메', 22), ('구름', 36), ('토퍼위', 7), ('호떡', 39), ('방기', 50), ('어떡', 4), ('참나', 28), ('모퉁이', 24), ('야금야금', 28), ('호로록', 28), ('면발', 33), ('비빔국수', 51), ('늘어지다', 187), ('열무', 28), ('물김치', 19), ('곰국', 13), ('포장마차', 5), ('단무지', 6), ('양념장', 110), ('고춧가루', 589), ('통깨', 17), ('참기름', 129), ('당분간', 240), ('무가', 16), ('ㅡㅡㅡㅡ', 41), ('카톡', 73), ('임산부', 179), ('서재', 24), ('도배', 65), ('단독주택', 8), ('누런', 69), ('창틀', 56), ('일산서구', 21), ('대디', 315), ('펭귄', 28), ('증발', 38), ('이용자', 29), ('와도', 168), ('시들하다', 52), ('다른사람', 84), ('시들다', 126), ('관리자', 6), ('성시경', 18), ('링귀', 3), ('갈갈', 14), ('필요시', 63), ('포스', 36), ('촉촉', 179), ('연한', 191), ('스탈', 79), ('지성', 203), ('펌핑했', 6), ('뻗다', 109), ('후련하다', 28), ('우주', 13), ('딜런', 26), ('원숭이', 22), ('살인', 54), ('튿어', 10), ('일수록', 63), ('던데', 133), ('메쉬', 148), ('미숙', 57), ('능숙하다', 22), ('듬니', 6), ('명도', 60), ('만주', 13), ('계량', 168), ('드레텍', 65), ('전자', 245), ('분해', 522), ('분할', 51), ('디지털', 97), ('단위', 146), ('사제품', 148), ('커피스틱', 4), ('정밀', 49), ('닥스훈트', 17), ('부딪치다', 36), ('이응', 3), ('모음', 64), ('거너', 3), ('더러', 63), ('원리', 106), ('가갸거겨', 14), ('적절하다', 325), ('남자친구', 198), ('군대', 94), ('끝향', 6), ('젊다', 102), ('길들다', 20), ('보구', 199), ('편집', 37), ('이상하', 17), ('헬창', 13), ('나이키', 58), ('다예', 6), ('틀어지다', 88), ('까슬까슬', 24), ('오죽하다', 24), ('에게서', 14), ('버스', 241), ('밧데리', 98), ('일보', 27), ('억울하다', 42), ('미리내', 4), ('투홀', 7), ('후진', 16), ('신중하다', 219), ('주심', 155), ('임홈', 16), ('리빙', 64), ('슬립', 303), ('지니', 91), ('바이올렛', 20), ('행거', 79), ('처분', 102), ('이라고는', 48), ('니트', 150), ('찰랑이다', 7), ('견고', 88), ('은박', 152), ('거꾸로', 91), ('다양', 33), ('목소리', 73), ('향기도', 127), ('분쇄', 174), ('분쇄기', 22), ('혈변', 7), ('항문', 16), ('대변', 90), ('출혈', 17), ('매하', 155), ('장량', 128), ('무방', 87), ('이어도', 68), ('캣츠', 87), ('계단', 228), ('야광', 52), ('핸펀', 6), ('맘대로', 66), ('벽쪽', 30), ('리도', 151), ('헬리', 42), ('할미', 9), ('엠버', 69), ('친김', 11), ('줫더', 5), ('주가', 73), ('밑단', 63), ('인가가', 6), ('베사', 26), ('브라켓', 207), ('철물', 32), ('후면', 34), ('발리다', 196), ('거도', 72), ('콜드', 46), ('스텔라', 53), ('쟁였어', 8), ('홍합', 90), ('뉴질랜드', 24), ('소형견', 194), ('대형견', 82), ('미끄덩하다', 20), ('거렸', 14), ('근력', 25), ('평지', 6), ('브릭', 146), ('러그', 84), ('사줄껄', 40), ('회손', 9), ('탈출', 106), ('페브리즈', 166), ('천재', 26), ('포트', 545), ('보온병', 72), ('텀블러', 216), ('산양', 116), ('로럴', 107), ('인스타', 75), ('유단', 7), ('노폐물', 71), ('유수', 36), ('들뜨다', 292), ('어딘가', 115), ('단순하다', 326), ('흐믈거려', 4), ('헤파', 61), ('뽀드득', 83), ('까치', 9), ('눌렸다', 4), ('복원', 82), ('사다리', 184), ('앞쪽', 245), ('소방', 12), ('호수', 75), ('불평', 42), ('가해', 50), ('고합', 26), ('차청', 3), ('소용', 115), ('신나다', 437), ('휙휙', 51), ('대안', 126), ('저리다', 45), ('행태', 3), ('마저', 119), ('맘마', 41), ('눈치', 100), ('채다', 203), ('우당탕', 11), ('제픔', 18), ('사춘기', 33), ('려면', 22), ('은사', 9), ('아삭아삭', 122), ('앞두다', 107), ('내기', 137), ('채점', 6), ('교재', 171), ('덧셈', 34), ('뺄셈', 31), ('이래', 79), ('따라오다', 113), ('출퇴근', 67), ('솟다', 36), ('잘빠지다', 162), ('한자', 33), ('국어', 22), ('사고력', 26), ('중포', 33), ('공구', 134), ('극악', 14), ('쪼아', 15), ('맛임', 23), ('빳빳하', 25), ('들쭉날쭉하다', 7), ('타이밍', 85), ('질경이', 89), ('유효', 93), ('뒤쪽', 181), ('염증상', 4), ('악취', 72), ('기웃', 22), ('고갈', 18), ('와르르', 37), ('서서', 174), ('지루', 75), ('염증', 259), ('머리털', 23), ('헹궈내', 30), ('미끈하다', 21), ('커녕', 55), ('피부염', 48), ('사이다', 76), ('중하', 19), ('복도', 141), ('청국장', 16), ('끔찍하다', 35), ('티슈', 412), ('묵다', 223), ('로워', 3), ('지배', 14), ('이안', 86), ('장롱', 31), ('덜달', 18), ('같드라구', 7), ('날로', 51), ('까먹다', 187), ('위암', 10), ('폐암', 8), ('베타카로틴', 86), ('카로틴', 11), ('무진장', 36), ('임돠', 9), ('옅다', 112), ('갈색', 327), ('케슈넛', 3), ('한소끔', 4), ('썬크림', 89), ('이력', 18), ('리폼', 12), ('안전벨트', 183), ('머신', 336), ('보리', 175), ('맘에듬', 27), ('꼽을수', 6), ('매라', 42), ('표지', 191), ('매입', 42), ('폼피', 10), ('시댁', 134), ('백일', 58), ('에가', 269), ('네모', 124), ('납작', 28), ('토마토주스', 74), ('물량', 43), ('달걀', 174), ('원랜', 12), ('미지근하다', 202), ('찌린내', 11), ('습도', 82), ('날때', 111), ('벤다', 15), ('빌딩', 7), ('플러스', 406), ('에디', 131), ('쾌쾌', 37), ('침실', 78), ('젖꼭지', 360), ('몰입', 17), ('움직임', 231), ('드심', 15), ('짜내다', 46), ('안드', 11), ('이마트', 75), ('용개', 7), ('리얼', 253), ('오가다', 119), ('연약하다', 56), ('발진', 502), ('보송하다', 82), ('통로', 13), ('아연', 474), ('잔량', 44), ('불친절하다', 30), ('성묘', 61), ('미사', 53), ('로스트', 25), ('힘줄', 46), ('다짐', 174), ('육이', 33), ('절단', 62), ('블랜더', 66), ('소가', 38), ('나혼자산다', 5), ('소녀', 35), ('로랑', 8), ('슈크림', 27), ('앙금', 79), ('우리엄마', 8), ('정석', 28), ('교품', 7), ('원님', 5), ('ㅜㅜㅜㅜ', 66), ('에티켓', 5), ('민망', 16), ('비려', 77), ('비릿맛', 3), ('터트려', 9), ('반신', 72), ('차가워지다', 24), ('구애', 30), ('전환', 197), ('샤랄라', 9), ('팔짝', 5), ('스티브잡스', 3), ('해소', 101), ('보렵니', 17), ('오바이트', 11), ('충치', 114), ('불소', 274), ('치과', 123), ('관련', 350), ('을해', 148), ('제니튼', 20), ('양치질', 103), ('진라면', 3), ('소기', 4), ('사심', 15), ('별일', 11), ('실생활', 48), ('부엌', 153), ('꽃들이', 19), ('내뿜는', 3), ('환상', 70), ('묵묵하다', 4), ('너글', 235), ('삿습니', 10), ('인걸', 191), ('스너글', 56), ('둘러스다', 30), ('내다보다', 10), ('세인', 10), ('시큰둥하다', 16), ('두뇌', 75), ('어렷을적', 4), ('초저', 3), ('회정', 30), ('소진', 118), ('명당', 3), ('전기밥솥', 64), ('꿈쩍', 8), ('힐때', 20), ('다닥다닥', 10), ('함유량', 121), ('떨이', 30), ('비굿', 26), ('늦어지다', 58), ('이행', 8), ('불스원', 41), ('옥시', 4), ('잊어버리다', 54), ('자책', 7), ('사진촬영', 15), ('러그형', 4), ('진지하다', 15), ('촬영', 119), ('프릴', 23), ('스퇄', 11), ('모빌', 207), ('천지', 22), ('왓길', 3), ('막둥이', 95), ('후식', 30), ('저녁밥', 16), ('악어', 32), ('막대', 92), ('유한양행', 5), ('한다해', 47), ('윔지스', 34), ('요추', 20), ('천하다', 47), ('지금껏', 88), ('가만있다', 9), ('ㄱㅇㄷ', 3), ('논란', 28), ('런던', 3), ('아날로그', 45), ('사각이다', 11), ('사각', 164), ('바스켓', 88), ('진보면', 43), ('에그슬럿', 3), ('호일', 121), ('다음주', 56), ('취소', 177), ('뚜겅', 34), ('흐름', 71), ('겉보기', 25), ('드라이아이스', 33), ('플레이', 179), ('떫은맛', 9), ('트먼트', 97), ('지성인', 35), ('소문나다', 36), ('뒤늦다', 71), ('통조림', 67), ('돌입', 17), ('대만', 61), ('드롭', 4), ('쓱싹쓱싹', 21), ('진짜루', 17), ('힘내다', 120), ('균일하다', 119), ('짐쌀때', 3), ('떨리다', 129), ('두근거리다', 20), ('호과', 3), ('약인', 8), ('홍보', 88), ('구강기', 98), ('허허', 60), ('변색', 257), ('누운', 15), ('살색', 60), ('때우다', 40), ('왕창', 109), ('에르', 168), ('라이트', 423), ('코지', 18), ('스탠다드', 58), ('모터', 407), ('무심하다', 81), ('설날', 26), ('개사', 65), ('중순', 41), ('구라', 67), ('짱짱맨', 9), ('별개', 220), ('흥건', 80), ('이거지', 8), ('암만', 29), ('중소기업', 52), ('실상', 9), ('골다공증', 63), ('광팬', 7), ('자라나다', 34), ('스크럽', 79), ('강도', 218), ('솜털', 36), ('여친', 21), ('유산', 37), ('지하철', 34), ('중형견', 26), ('에러', 88), ('사포', 64), ('명실', 3), ('상주', 34), ('할랬', 6), ('농협', 19), ('후두두', 5), ('물렁물렁하다', 16), ('채도', 48), ('어쩌다', 129), ('위즈', 75), ('공포', 95), ('서나', 88), ('전공', 11), ('배변훈련', 115), ('일종', 45), ('추후', 179), ('디쟌', 18), ('목도', 52), ('나빠지다', 120), ('바가지', 147), ('싫증', 18), ('일어서다', 118), ('지기', 197), ('상화', 4), ('비책', 20), ('대책', 18), ('그만두다', 21), ('다인', 25), ('하다못해', 10), ('몰리다', 45), ('석류', 401), ('청포도', 86), ('텁텁하', 25), ('한텐', 194), ('홍차', 101), ('우린', 35), ('노화', 167), ('억제', 99), ('체지방', 110), ('당뇨병', 32), ('혈당', 246), ('기관지', 107), ('샤머', 5), ('어쩜', 109), ('여준', 7), ('냉수', 39), ('정수', 64), ('깜찍하다', 103), ('예의', 16), ('농축', 208), ('유제품', 51), ('알맹이', 110), ('순수하다', 70), ('사의', 78), ('길고양이', 106), ('식성', 25), ('가루약', 26), ('바램', 141), ('반짝반짝하다', 26), ('니스', 66), ('산호', 5), ('중대', 43), ('입점', 9), ('한예슬', 3), ('단연', 58), ('타이트', 33), ('코랄', 53), ('칼국수', 170), ('빼빼로', 9), ('뚱뚱하다', 89), ('제과', 69), ('낭시', 31), ('운영', 60), ('구옥', 9), ('실속', 64), ('해상도', 60), ('어꺠', 3), ('입력', 63), ('누드', 29), ('권하다', 128), ('측면', 307), ('세안', 371), ('물고기', 199), ('수만', 26), ('괜챦아', 9), ('온도계', 241), ('지갑', 93), ('지역', 110), ('떠지다', 37), ('정책', 20), ('합성', 163), ('치과의사', 14), ('구강', 104), ('중요', 155), ('머스켓', 197), ('풍기다', 78), ('튜브', 407), ('의학', 7), ('지침', 23), ('쌀알', 68), ('완두', 4), ('솔이', 117), ('뭉개지', 10), ('동원', 205), ('라다', 8), ('전입', 37), ('유리아', 6), ('달후', 36), ('짜이다', 29), ('간지럽다', 302), ('점심', 209), ('호의', 7), ('타도', 61), ('사무', 52), ('어지르다', 26), ('돌아다니다', 299), ('파라', 47), ('한성', 99), ('율과', 10), ('응답속도', 14), ('반응속도', 27), ('크로스', 64), ('지원이', 18), ('주사', 80), ('찌꺼기', 147), ('행여', 19), ('아이패드', 747), ('야호', 78), ('율동', 22), ('진도', 48), ('송전', 18), ('시선집중', 13), ('필요성', 88), ('꼽는거', 4), ('프린팅', 50), ('장땡', 16), ('놀수', 139), ('주차', 170), ('타워', 91), ('떄문', 50), ('덧붙이다', 33), ('승질', 35), ('잠자다', 152), ('가족사진', 7), ('호스', 186), ('조인트', 36), ('휴게실', 4), ('이노', 28), ('하우스', 146), ('헤링', 26), ('열성', 4), ('폴리에스테르', 19), ('기반', 17), ('단열', 61), ('내열성', 24), ('열의', 5), ('손실', 53), ('사용성', 48), ('벗어나다', 125), ('유연성', 24), ('유입', 27), ('요금', 58), ('난방', 250), ('절감', 84), ('율무', 31), ('빼먹다', 64), ('랜드', 27), ('매점', 6), ('직장인', 73), ('사물함', 7), ('고풍', 5), ('글씨체', 11), ('식기건조기', 18), ('뽀얗다', 63), ('잡곡', 281), ('숙취', 20), ('노인', 37), ('정면', 65), ('입지', 62), ('체중', 789), ('하기스', 397), ('마더', 41), ('나라', 93), ('짜지다', 259), ('스너글스', 19), ('밤중', 16), ('수유', 151), ('삐약이', 12), ('다람쥐', 58), ('초여', 3), ('낙하', 53), ('손안', 19), ('행시', 71), ('털실', 21), ('산타', 44), ('쟁반', 50), ('간작', 3), ('밤낮', 17), ('장치', 310), ('풍년', 91), ('마이', 126), ('데려오다', 45), ('주걱', 64), ('스텐부분', 9), ('취사', 105), ('밥물', 14), ('눈금', 175), ('도달', 42), ('덩달아', 36), ('기행', 3), ('소하', 16), ('링크', 104), ('홈스쿨링', 25), ('서적', 17), ('영혼', 11), ('부모', 206), ('인내', 17), ('발전', 49), ('까지의', 39), ('개념', 149), ('차근차근', 62), ('세용', 88), ('복습', 55), ('처가', 33), ('롯데', 90), ('퓨리', 68), ('안녕', 73), ('보임', 277), ('세컨카', 8), ('또래', 65), ('부딫히', 3), ('주니어', 158), ('걸레질', 53), ('살라', 9), ('결선', 37), ('재품', 67), ('재질감', 5), ('스탬프', 24), ('컵반', 7), ('햇반', 166), ('쓸껀데', 5), ('걸루', 28), ('긴장감', 6), ('반짝거리다', 48), ('스텐제품', 23), ('몸살', 32), ('체력', 127), ('지용성', 16), ('말림', 30), ('몽롱', 4), ('생파', 13), ('추억', 186), ('철거', 16), ('화소', 18), ('블루투스', 149), ('실컷', 73), ('조그만', 92), ('문화센터', 8), ('환경호르몬', 77), ('하얘지다', 31), ('왜안', 9), ('요철', 46), ('클렌징', 184), ('뾰루', 41), ('출몰', 6), ('워터', 273), ('프루프', 27), ('마스카라', 13), ('유튜버', 69), ('일시', 119), ('크리', 173), ('졸업', 105), ('안변', 6), ('반바지', 31), ('브라', 352), ('꿰매다', 29), ('삼각', 35), ('꼬막', 138), ('경찰차', 96), ('습니', 32), ('셧다', 28), ('피곤', 29), ('누적', 18), ('이뮨', 27), ('출근길', 37), ('숙면', 64), ('방해', 130), ('밭솥', 16), ('이반', 3), ('라네', 51), ('반했어', 22), ('바닥나다', 8), ('디어', 67), ('달리아', 61), ('비건', 150), ('듀얼', 65), ('팔레트', 41), ('꽃잎', 60), ('컨실러', 24), ('장안', 23), ('벗다', 264), ('번번하다', 5), ('자가', 129), ('수족', 35), ('냉증', 39), ('셀레늄', 78), ('토코페롤', 17), ('셀렌', 67), ('나트륨', 159), ('밀납', 3), ('결핍', 35), ('넘김', 329), ('과잉', 20), ('병뚜껑', 19), ('과를', 33), ('건강검진', 53), ('답답', 21), ('삼가다', 10), ('소복하다', 5), ('반투명하다', 22), ('도거', 7), ('소독기', 84), ('더맘', 6), ('이래저래', 141), ('페인트', 482), ('포커스', 10), ('앞옆', 4), ('설겆이할때', 16), ('클래스', 181), ('미러', 61), ('플리커', 42), ('주광', 69), ('밝히다', 58), ('세도', 35), ('절약', 241), ('전선', 460), ('프리가', 3), ('요크', 7), ('어느새다', 133), ('변질', 97), ('웰시', 9), ('생일상', 6), ('무순', 6), ('기와', 67), ('진공청소기', 21), ('대식', 21), ('나무라다', 71), ('애둘', 18), ('남여', 19), ('키기', 10), ('토드', 11), ('부스터', 273), ('무독', 16), ('아미노산', 99), ('바이오', 57), ('관해', 16), ('코란도', 15), ('블랙박스', 63), ('철사', 33), ('니퍼', 10), ('헤라', 10), ('롱노', 3), ('우즈', 4), ('십자', 78), ('후방', 51), ('블박', 25), ('채널', 49), ('배선', 134), ('서하면', 9), ('페트', 12), ('메일', 68), ('뽀족', 9), ('한판', 47), ('곤란', 43), ('다도', 18), ('닦이질', 3), ('철수', 28), ('미로', 72), ('분홍색', 170), ('썻는데', 72), ('르샤트', 18), ('깔깔', 29), ('테이블', 386), ('마프', 14), ('토리', 29), ('좀처럼', 13), ('컨디션', 199), ('지푸라기', 23), ('제라', 77), ('잔기침', 7), ('유익하다', 98), ('사연', 9), ('바야흐로', 3), ('기숙사', 48), ('혹은', 306), ('강렬하다', 47), ('다녀가다', 7), ('마주치다', 18), ('마주', 36), ('쉽사리', 17), ('주인', 138), ('고통', 82), ('가기', 301), ('허거블', 99), ('구원', 13), ('겁쟁이', 13), ('절대로', 99), ('빈속', 65), ('헛구역질', 49), ('킹왕짱', 8), ('엄지손가락', 45), ('조물조물', 67), ('시큼하다', 172), ('남매', 114), ('철분', 733), ('ㅜㅜㅡ', 3), ('오해', 71), ('예민', 122), ('보스', 52), ('빛깔', 84), ('선홍빛', 13), ('보류', 32), ('카트', 30), ('변경', 362), ('연말', 67), ('유쾌하다', 8), ('그날그날', 17), ('에프', 230), ('오거', 39), ('제철', 51), ('무르거', 12), ('알록달록', 130), ('빼놓다', 98), ('차근하다', 7), ('식히다', 213), ('수제', 61), ('타르', 39), ('고이', 80), ('무음', 23), ('잘되지', 32), ('똑똑', 47), ('박사', 21), ('뽀뽀', 34), ('짠하다', 34), ('절친', 6), ('특이', 52), ('폭도', 37), ('역대', 39), ('울트라', 119), ('분명하다', 141), ('나누기', 4), ('전략', 12), ('라인업', 35), ('감량', 36), ('그간', 55), ('분배', 10), ('업계', 12), ('망원렌즈', 4), ('일상생활', 87), ('거대하다', 42), ('몸집', 31), ('전작', 14), ('취약', 51), ('생폰', 12), ('추럴', 14), ('발달', 400), ('창의력', 83), ('뒷전', 7), ('심취', 6), ('육각형', 19), ('전주', 6), ('문건', 8), ('쓰렵', 4), ('개조', 18), ('개편', 11), ('아크릴', 73), ('누릉지', 7), ('누전', 69), ('마누라', 4), ('아들내미', 29), ('기세', 103), ('등짝', 17), ('초이스', 100), ('하용', 7), ('쿠잉', 4), ('분하다', 158), ('아슬하다', 7), ('거고', 33), ('후딱', 92), ('녹화', 18), ('비비안', 7), ('비너스', 19), ('양옆', 147), ('신기다', 79), ('우풍', 68), ('간당간당', 20), ('성애자', 8), ('클리', 216), ('하룻밤', 29), ('다말', 5), ('밤사이', 6), ('겸사겸사', 56), ('안드네', 51), ('몸체', 122), ('탑재', 80), ('접지', 171), ('감전', 69), ('플러그', 199), ('장임', 3), ('고지', 29), ('확보', 91), ('화이트보드', 48), ('철로', 27), ('이슬', 22), ('제방', 22), ('끼리', 303), ('지우개', 66), ('개취', 50), ('꼬마', 113), ('프랭크', 36), ('구내염', 111), ('자제', 67), ('사이렌', 33), ('장면', 92), ('손가락질', 4), ('건전', 110), ('곽티슈', 3), ('잠잠하다', 18), ('정점', 3), ('예뿌다', 4), ('로선', 12), ('라며', 95), ('개요', 23), ('특공대', 5), ('모델링', 26), ('러블', 25), ('감성', 179), ('정품칩', 6), ('은빛', 20), ('색온도', 15), ('깜박임', 9), ('주파', 16), ('휘뚜루마뚜루', 50), ('떡볶이', 86), ('네임드', 3), ('락앤락', 175), ('가려움', 152), ('톤업', 85), ('진번', 4), ('저쩌', 6), ('거구', 60), ('자궁', 25), ('질환', 195), ('시술', 58), ('당뇨', 258), ('질염', 88), ('방광염', 61), ('빈번', 16), ('뽀득', 88), ('민간요법', 3), ('손자', 52), ('돌침대', 4), ('분진', 54), ('세차장', 85), ('서투르다', 11), ('도자기', 100), ('밝아지다', 92), ('제겐', 47), ('연두', 16), ('담배', 123), ('청기', 10), ('세린', 17), ('폭탄', 36), ('형제', 32), ('석조', 31), ('고정식', 14), ('음해', 46), ('도래', 3), ('패스츄리', 4), ('유학', 18), ('걸쇠', 27), ('바삭', 547), ('붕붕', 48), ('쇼트닝', 3), ('유화', 17), ('제등', 19), ('타코야끼', 3), ('박력', 17), ('정신없이', 47), ('혓바닥', 24), ('미니미니', 45), ('믹싱볼', 63), ('십견', 9), ('오케이', 53), ('우왕', 18), ('아무쪼록', 33), ('다합', 7), ('원선', 59), ('가늠', 86), ('레인', 117), ('다나', 63), ('구피', 124), ('양하다', 11), ('반대쪽', 101), ('저쪽', 17), ('달때', 8), ('박용', 19), ('일박', 5), ('차박', 70), ('좌석', 192), ('온풍', 19), ('으슬으슬', 7), ('리언', 59), ('인그', 82), ('옥스퍼드', 14), ('안상', 11), ('성용', 120), ('래미', 240), ('음량', 46), ('해석', 29), ('시절', 101), ('잡아당기다', 163), ('팽팽하', 12), ('주일', 196), ('인상', 172), ('잘생기다', 32), ('잠도', 110), ('리안', 62), ('스핀', 29), ('이갈이', 11), ('아랫니', 12), ('뿅뿅', 10), ('앙앙', 5), ('트릴', 17), ('셔틀', 9), ('버드', 9), ('세이지', 29), ('스탠딩', 32), ('독도', 49), ('윰치', 15), ('달래', 70), ('잼병', 3), ('은퇴', 6), ('스위스', 23), ('트레이', 88), ('쓰러지다', 164), ('가빠지다', 7), ('캐다', 113), ('이방', 16), ('관계없이', 19), ('핸폰', 20), ('전기장판', 244), ('해산물', 81), ('쭈꾸미', 92), ('급냉', 4), ('르뱅쿠키', 3), ('스모', 10), ('쿠키', 272), ('혜자', 70), ('파운드', 33), ('케이크', 150), ('도모', 7), ('ㅇㅣ', 42), ('구김', 181), ('일쑤', 53), ('루프', 18), ('정이', 236), ('신장', 61), ('요도', 34), ('검사', 255), ('간수치', 3), ('까탈', 64), ('스런', 51), ('반의', 24), ('라사', 6), ('알집', 56), ('비리', 86), ('종이접기', 28), ('김영만', 3), ('종이컵', 90), ('순서도', 9), ('두고두고', 109), ('괜찬은듯', 6), ('짧아지다', 72), ('독성', 52), ('스텐레스', 82), ('가원', 29), ('에게도', 471), ('접착제', 196), ('성의', 95), ('먹보', 14), ('돈값', 40), ('곰표', 30), ('전자파', 147), ('열선', 323), ('과열', 116), ('열전도율', 122), ('탄소', 193), ('방도', 30), ('오버', 104), ('외국', 117), ('오틀리', 102), ('저만큼', 28), ('오신', 20), ('산보', 6), ('하트', 137), ('차도', 105), ('겁나다', 405), ('하루아침', 5), ('원도', 10), ('색인', 39), ('실만', 26), ('텐데', 73), ('바쉬풀', 5), ('버니', 7), ('토끼', 205), ('적임', 176), ('만삭', 39), ('전화기', 74), ('쪼그리다', 22), ('때매', 53), ('밥법', 3), ('싱크대', 197), ('수구', 64), ('영문', 14), ('플하', 9), ('베젤', 85), ('빛샘', 19), ('스케줄', 19), ('신혼', 58), ('혼수', 9), ('엔틱', 5), ('뽀짝', 16), ('개시', 82), ('플렉스', 50), ('불가라', 9), ('조림', 229), ('두발', 21), ('자율', 26), ('중학교', 36), ('남학생', 9), ('옆면', 218), ('쏠때', 6), ('찌르다', 167), ('불스원꺼', 3), ('토막', 134), ('팬시', 18), ('주식', 145), ('남김없이', 29), ('냥이', 13), ('안치', 12), ('프로폴리스', 278), ('가렵', 74), ('어떨', 59), ('굶다', 53), ('근래', 72), ('활동량', 45), ('천식', 25), ('채식', 11), ('확률', 81), ('항산화', 216), ('내의', 96), ('복용량', 14), ('호주', 100), ('명시', 53), ('통째', 225), ('함박', 5), ('웃음', 66), ('리뉴', 44), ('고서', 43), ('직경', 18), ('러스', 26), ('탁상', 76), ('대세', 45), ('야구장', 10), ('광복절', 4), ('마나', 67), ('야구', 28), ('경기', 12), ('관람', 4), ('강풍', 13), ('미풍', 15), ('전량', 12), ('싱크', 54), ('대위', 20), ('에서나', 97), ('이호', 5), ('폴리', 375), ('포처', 35), ('크롱', 87), ('결막염', 16), ('부숴', 48), ('온통', 37), ('피씨', 11), ('상어', 177), ('아이오', 11), ('점수', 127), ('덜그럭', 23), ('공책', 39), ('교과서', 15), ('조사', 333), ('현명하다', 155), ('이어폰', 47), ('게이머', 7), ('배틀', 8), ('라운드', 106), ('음질', 166), ('버즈', 20), ('에어팟', 34), ('상하좌우', 22), ('치렁치렁', 10), ('딜레이', 7), ('가두다', 53), ('마우스', 104), ('앞서', 92), ('타파', 15), ('즉각', 39), ('덕후', 56), ('넘사벽', 18), ('값어치', 104), ('해내다', 93), ('음악', 233), ('소니', 8), ('가수', 8), ('음향', 39), ('보통사람', 3), ('스텀', 21), ('순이', 149), ('마케팅', 18), ('네버', 27), ('감상', 23), ('유저', 80), ('괴물', 21), ('듣기', 94), ('상승', 147), ('레스토랑', 28), ('스테이크', 141), ('고든', 12), ('으로서', 111), ('과장하다', 7), ('새해', 66), ('주변기기', 3), ('큐어', 29), ('안팔', 10), ('깜끔하', 3), ('뛰어다니다', 109), ('송이', 127), ('한때', 21), ('쟁겨두', 12), ('흡착', 240), ('젖병솔', 8), ('전기포트', 39), ('구려', 37), ('거른다', 4), ('이러케', 4), ('싯어', 5), ('욕실', 607), ('벽체', 5), ('와장창', 23), ('판다', 20), ('지해', 19), ('우스', 9), ('부직포', 147), ('괴롭다', 42), ('모형', 74), ('들러붙어', 17), ('어지간하다', 86), ('평남', 22), ('청안', 6), ('거마', 50), ('간질간질', 30), ('안썻는데', 8), ('간접', 27), ('긍정', 103), ('부정', 52), ('헤지', 57), ('오르내리다', 14), ('번호', 155), ('잡다하다', 48), ('여행지', 21), ('박정', 3), ('망사', 49), ('말티즈', 133), ('자급', 165), ('사전예약', 67), ('실패하다', 254), ('딜로', 9), ('무광', 114), ('접사', 18), ('재미나', 46), ('폐렴', 9), ('보육', 37), ('여름날', 30), ('무리하다', 70), ('왜케', 96), ('덜렁덜렁', 37), ('에바', 15), ('클리닝', 13), ('빈틈', 55), ('차압', 5), ('기성', 150), ('글러브', 43), ('임비', 21), ('비어', 48), ('와이파이', 68), ('꼽아', 53), ('말로', 120), ('무지무지', 19), ('감히', 53), ('바이블', 13), ('소아과', 38), ('간절', 23), ('운집', 5), ('가운', 30), ('낑낑대다', 29), ('은상', 7), ('효과음', 124), ('몇십', 42), ('이라기', 93), ('얆아', 6), ('파이브', 29), ('유니클로', 9), ('지출', 41), ('후루룩', 33), ('베송', 8), ('용상', 5), ('클린', 89), ('사소하다', 39), ('콤팩트', 43), ('홀더', 72), ('철제', 101), ('덮개', 295), ('동작', 84), ('과의', 91), ('서든', 96), ('메리', 175), ('두렵다', 81), ('마음먹다', 65), ('뼈대', 23), ('굴리', 33), ('택시', 42), ('올레길', 3), ('파이팅', 12), ('샴페인', 24), ('마찰', 114), ('무적', 34), ('심지', 67), ('모닝', 106), ('고르곤', 3), ('매직', 493), ('메이드', 201), ('개팩', 3), ('유한킴벌리', 8), ('공장', 136), ('수출', 9), ('중심', 125), ('경영', 15), ('강조', 91), ('위기', 3), ('포장재', 57), ('신규', 14), ('기업인', 7), ('뽀송뽀송하다', 100), ('테크', 11), ('코어', 46), ('다산', 3), ('땀띠', 74), ('타겟', 4), ('숨통', 4), ('숨구멍', 13), ('마음껏', 57), ('병행수입', 5), ('수입품', 6), ('뉴스', 56), ('제기', 18), ('나트라케어', 147), ('셋째', 100), ('뒤척', 53), ('껍데기', 79), ('신더', 6), ('냅킨', 8), ('쟁여둠', 4), ('황태', 79), ('일석이조', 84), ('명과', 65), ('멸균', 353), ('연유', 51), ('퀴니', 7), ('무드', 18), ('차양', 73), ('영안', 4), ('어찌어찌', 48), ('가버리다', 103), ('고막', 4), ('기울어지다', 87), ('무리다', 131), ('탐색', 54), ('질겅질겅', 50), ('거립니', 26), ('협응', 3), ('서툴다', 69), ('우기다', 38), ('대칭', 19), ('부식', 74), ('취급', 75), ('아저씨', 113), ('사전', 90), ('이딴', 75), ('팔지마다', 41), ('토끼다', 3), ('분무', 33), ('당초', 8), ('무릎관절', 12), ('등반', 7), ('기운', 117), ('조차도', 49), ('포근포근하다', 12), ('밑쪽', 28), ('프라이', 142), ('어기', 21), ('크루아상', 13), ('바삭바삭하다', 72), ('휘핑크림', 12), ('내외', 67), ('올인', 11), ('요한', 22), ('머진', 4), ('발린', 6), ('따끔따끔', 22), ('발리', 70), ('따끔하다', 49), ('겨울나기', 6), ('춥다', 334), ('히트', 47), ('내복', 122), ('교정', 133), ('꺼리다', 188), ('기격', 3), ('귀신', 72), ('잘려지다', 17), ('포드', 9), ('스랑', 23), ('케익', 40), ('어디가', 66), ('절취', 69), ('김장', 185), ('주먹밥', 36), ('유부초밥', 16), ('죽도', 29), ('입시', 52), ('지불', 50), ('물컹거리', 8), ('비타', 208), ('할로', 81), ('즙맛', 4), ('대추', 59), ('도라지', 293), ('대추차', 4), ('쇠맛', 15), ('진가', 22), ('시달리다', 25), ('브런치', 32), ('쪼꼬', 9), ('지중해', 8), ('듬직하다', 20), ('안무', 8), ('예리하다', 16), ('벼르다', 4), ('구정', 14), ('틀어주다', 59), ('하곤', 25), ('피어', 20), ('절기', 86), ('데시벨', 3), ('장미', 214), ('논슬림', 9), ('정직하다', 73), ('익숙해지다', 397), ('거사', 130), ('형광등', 128), ('식욕', 68), ('십분', 52), ('혈액', 178), ('돕기', 10), ('생수', 135), ('체온', 49), ('복부', 48), ('요통', 9), ('불면증', 34), ('솔잎', 15), ('입욕', 12), ('눈알', 20), ('러버', 45), ('플로', 59), ('스텐드', 54), ('키도', 55), ('서요', 48), ('땔수', 3), ('눈뽕', 7), ('노랭이', 7), ('노랭', 8), ('지옥', 62), ('엘사', 15), ('각오', 61), ('구경', 160), ('삼각대', 14), ('접촉', 148), ('인생', 279), ('고추', 317), ('배추속', 6), ('가루라', 11), ('구마', 22), ('광고인', 5), ('유니', 20), ('느슨하다', 66), ('무취', 20), ('뭉텅', 5), ('일정하다', 161), ('다기', 129), ('이를', 242), ('뭉텅이', 17), ('누렇', 146), ('바랜', 5), ('블루베리', 449), ('난생', 19), ('누전차단기', 34), ('전기난로', 5), ('열기구', 38), ('기선', 73), ('안마', 17), ('장더', 4), ('깜박깜박', 16), ('스케쥴', 9), ('칠판', 90), ('스파', 83), ('스파클링', 65), ('트러스', 101), ('킁킁', 67), ('노소', 74), ('썩다', 307), ('잔해', 18), ('저장', 147), ('소환', 17), ('스크류', 44), ('차액', 8), ('분갈이', 66), ('물주', 19), ('흙물', 4), ('난석', 130), ('마사', 15), ('두봉', 59), ('봉짜', 4), ('대기업', 97), ('왼손', 33), ('오른손', 39), ('건조대', 412), ('발등', 102), ('윗쪽', 106), ('엣지', 40), ('드로즈', 131), ('깔꼼', 4), ('판때기', 17), ('옷핀', 11), ('녹용', 38), ('미미하다', 57), ('미미', 78), ('고형', 54), ('의약품', 28), ('친근하다', 19), ('연예인', 30), ('불쾌감', 17), ('ㅜㅅㅜ', 6), ('쫑긋', 5), ('줄때', 102), ('새똥', 8), ('츄르중', 3), ('덥석', 9), ('퍼즐', 91), ('감칠맛', 148), ('신선설농탕', 23), ('설렁탕', 63), ('음식점', 34), ('블로그', 124), ('면도칼', 7), ('사람인', 35), ('끈기', 18), ('썰리다', 110), ('분할수', 5), ('커플', 46), ('이내', 142), ('소금물', 24), ('달짝지근하다', 28), ('콜레스테롤', 187), ('중금속', 50), ('생으로', 108), ('리용', 66), ('입산', 34), ('중국어', 14), ('젓가락', 139), ('주무', 6), ('밑판', 20), ('경사', 33), ('노리', 47), ('광빨', 24), ('미트', 56), ('속편', 16), ('착착', 58), ('개털', 47), ('원체', 21), ('스타디움', 3), ('팽이', 78), ('플스', 27), ('닌텐도', 10), ('넷플', 19), ('번인', 24), ('편도', 106), ('거거익선', 14), ('셋톱', 11), ('넷플릭스', 51), ('고영희', 19), ('대화', 81), ('하락', 14), ('자주자주', 87), ('경제', 187), ('시드라', 6), ('구영', 21), ('드라이브', 35), ('ㅇㅏ', 17), ('음미', 21), ('빵위', 9), ('머쓱하다', 4), ('오냐', 13), ('얻어먹다', 25), ('구리구리', 5), ('실명', 6), ('이탄', 51), ('주병', 13), ('프래', 21), ('순두부', 26), ('김밥', 99), ('비빔밥', 58), ('순두부찌개', 3), ('물방울', 123), ('버핑', 54), ('요망', 25), ('개봉시', 34), ('분위', 13), ('유무', 72), ('코인', 26), ('망은', 53), ('백수', 107), ('별문제', 31), ('겉절이', 37), ('빈통', 14), ('다홍', 7), ('내일', 353), ('비행기', 119), ('단돈', 12), ('삽화', 6), ('획기', 24), ('소장', 22), ('이왕이면', 155), ('깜빡깜빡', 33), ('스테', 58), ('전기레인지', 28), ('산산조각', 12), ('내버리다', 35), ('극도', 21), ('트린', 8), ('부풀다', 182), ('스치다', 126), ('꼬이다', 104), ('아웃', 48), ('힘차다', 21), ('찔리다', 67), ('카즈미', 9), ('쿨러', 29), ('냉기', 95), ('대각선', 29), ('냉매', 8), ('장남', 88), ('호다닥', 24), ('종량제', 40), ('그래듀', 5), ('홀드', 11), ('간정', 43), ('배즙', 171), ('츄르라', 3), ('벌떡', 10), ('하림', 51), ('치키다', 17), ('먹거리', 74), ('조일이', 29), ('탄자', 4), ('학기', 31), ('전동칫솔', 66), ('스텝', 62), ('영구치', 7), ('어금니', 110), ('아이구', 13), ('여럿', 53), ('단체', 32), ('헐렁', 18), ('마들렌', 97), ('드네용', 13), ('렌틸콩', 21), ('닥터', 377), ('바보', 79), ('ㅉㅉㅉ', 5), ('미싱', 22), ('연장', 115), ('세긴', 11), ('예술', 54), ('드림', 65), ('해체', 92), ('건들', 30), ('앞서다', 39), ('대다수', 19), ('라스', 17), ('오진', 16), ('씹히다', 269), ('토시', 8), ('차체', 19), ('데미', 5), ('지자체', 4), ('두시', 118), ('현혹', 15), ('지엔', 4), ('포레스트', 48), ('불로', 258), ('ㅠㅠㅋㅋㅋ', 23), ('ㅡㅡㅡㅡㅡㅡㅡㅡㅡㅡㅡㅡㅡㅡㅡㅡㅡㅡㅡㅡㅡㅡㅡㅡㅡㅡㅡ', 42), ('스톤', 33), ('치킨너겟', 20), ('떡갈비', 35), ('용해', 121), ('사드', 73), ('단골', 44), ('머린', 6), ('마미', 31), ('푹푹', 58), ('패인', 17), ('슬리퍼', 110), ('꼽으', 58), ('초등전', 3), ('학습지도', 10), ('대리석', 71), ('바트', 15), ('정사각형', 23), ('직사각형', 58), ('아이방', 136), ('음또', 3), ('충분', 89), ('찌게', 59), ('출력', 285), ('병풍', 88), ('납작하다', 128), ('ㅡㅡㅡㅡㅡㅡㅡㅡ', 21), ('진과', 18), ('배향', 15), ('배맛', 9), ('이물', 21), ('사체', 18), ('축구', 47), ('진리', 49), ('별세', 17), ('소이', 21), ('정말로', 127), ('텍스처', 32), ('침착', 19), ('최상', 125), ('기차', 290), ('아해', 18), ('놀땐', 8), ('안쓰럽다', 54), ('외할머니', 20), ('용돈', 54), ('부서', 22), ('오른', 72), ('양팔', 8), ('한껏', 19), ('켄넬', 113), ('항공', 70), ('포개다', 40), ('문과', 10), ('돌려주다', 201), ('조여', 111), ('유도', 58), ('수속', 3), ('장구', 6), ('꿈꾸다', 37), ('달팽이', 20), ('남아나다', 18), ('달님', 29), ('달님이', 33), ('동화', 45), ('색갈', 27), ('동요', 144), ('반달', 12), ('모차르트', 3), ('자라', 66), ('볼링장', 7), ('자바', 3), ('쿠루', 3), ('동아', 13), ('각지', 15), ('흑연', 9), ('경도', 15), ('외경', 4), ('주어', 200), ('원가', 49), ('변량', 17), ('직원', 225), ('베터리', 61), ('고속', 122), ('실력', 48), ('본가', 103), ('균형', 154), ('프라다', 4), ('삿으', 13), ('추장', 45), ('달새', 5), ('그만하다', 64), ('더스트백', 7), ('바삐', 4), ('고사리', 26), ('국탕', 4), ('츄어블', 95), ('에터', 3), ('자등', 4), ('이나고', 48), ('톡방', 4), ('거니', 20), ('핫케이크', 24), ('협소해', 9), ('문후', 65), ('행주', 111), ('딱으', 5), ('슬라이딩', 45), ('도어', 67), ('귀챦', 5), ('삼만오천원', 3), ('느데', 4), ('이만천원', 4), ('되엇네', 6), ('만사천원', 6), ('볶이다', 5), ('매드', 5), ('널때', 26), ('정작', 93), ('쥬얼', 49), ('가득가득', 25), ('킁카킁카', 7), ('방개', 8), ('코트', 84), ('에메랄드', 46), ('그만', 172), ('브로콜리', 150), ('데칠', 5), ('주파수', 14), ('셔터', 7), ('금붕어', 19), ('막막하다', 41), ('비스듬히', 21), ('성장하다', 66), ('바닥재', 19), ('발쪽', 13), ('뻐근하다', 40), ('코로', 47), ('목욕탕', 70), ('억이', 4), ('정교하다', 82), ('물컵', 36), ('했죵', 5), ('중독', 241), ('열량', 66), ('쌉싸름하다', 58), ('얼그레이', 48), ('텁텁해', 15), ('나가요', 46), ('마심', 18), ('백미', 321), ('에나', 231), ('번쩍', 80), ('뜨이다', 7), ('오랜만', 6), ('행동', 67), ('라든가', 16), ('칙칙하다', 106), ('미숫가루', 338), ('꼬집다', 33), ('청양고추', 90), ('맵진', 7), ('혀끝', 8), ('여운', 9), ('중요시', 79), ('페페', 17), ('바시락', 5), ('구이', 289), ('힙시트', 59), ('여행가', 123), ('안착', 37), ('최대일', 3), ('식중독', 8), ('백화점', 133), ('에스티', 22), ('로더', 38), ('이지나', 19), ('푸석하다', 150), ('위급', 6), ('나이트', 130), ('리페', 22), ('리커버리', 7), ('콤플렉스', 22), ('안티', 71), ('분류', 129), ('펩타이드', 10), ('알루', 10), ('돕다', 132), ('바오밥나무', 5), ('여가', 25), ('조화롭다', 54), ('아이덴티티', 4), ('소프', 4), ('레이어', 52), ('무진', 5), ('푸석', 22), ('한기', 22), ('거뭐', 12), ('지하', 60), ('리프', 91), ('차오르다', 50), ('윤광', 13), ('시일', 16), ('영원하다', 23), ('럭셔리', 67), ('뷰티', 89), ('개장', 6), ('살포시', 45), ('너덜너덜하다', 63), ('두툼함', 12), ('완죤', 46), ('동이', 31), ('취할', 8), ('면소', 8), ('레자', 7), ('암턴', 5), ('낙서', 96), ('ㅋㄱ', 7), ('고등어', 125), ('병어', 5), ('가자미', 11), ('발해', 8), ('고골', 3), ('분기', 116), ('오페', 44), ('스템', 39), ('양하', 5), ('더라도', 39), ('오토', 44), ('편임', 61), ('중후', 20), ('어플', 324), ('티존', 13), ('주력', 10), ('토란', 7), ('생화학', 3), ('신진대사', 24), ('사례', 23), ('가짓수', 8), ('스팟', 25), ('에서야', 46), ('노년', 9), ('올드', 8), ('스템앰플', 3), ('겨냥', 4), ('편견', 42), ('보들보들', 140), ('대인', 26), ('모색', 10), ('특허성', 14), ('염산', 11), ('시력', 159), ('루테', 122), ('야맹증', 7), ('안구', 35), ('햄프', 12), ('앤드', 4), ('한양', 15), ('개발자', 9), ('패키징', 50), ('가제', 14), ('ㅋㅋㅋㅋㅋㅋㅋㅋㅋㅋㅋㅋㅋ', 17), ('심각', 11), ('백만', 12), ('뜨개질', 37), ('관상', 13), ('구색', 40), ('달랑달랑', 16), ('미흡', 27), ('자몽쥬스', 12), ('스벅', 123), ('코스트코', 65), ('흥국', 26), ('맞이', 76), ('변현', 12), ('다이나믹', 28), ('폼건', 12), ('올인원', 119), ('알카리', 8), ('행궈', 29), ('덮어놓고', 10), ('휠클리너', 4), ('고착', 4), ('조준', 30), ('통보', 20), ('썻다', 15), ('사제', 11), ('리퍼', 44), ('혁명', 28), ('저건', 34), ('모야', 9), ('유용', 34), ('파랗다', 21), ('파래지다', 7), ('버건디', 7), ('가지각색', 7), ('얏호', 3), ('현저', 53), ('빠져나오다', 86), ('튀튀', 14), ('청색', 12), ('알뜰살뜰', 3), ('팬티스타킹', 13), ('오차', 131), ('했슴', 6), ('골프공', 8), ('휘두르다', 26), ('가부', 7), ('스텐팬', 173), ('대루', 13), ('돈까스', 90), ('우울하다', 29), ('우울', 7), ('목록', 66), ('끄트머리', 25), ('반곱슬', 28), ('빗질', 147), ('차분해지다', 47), ('뻗치다', 16), ('엉킴', 28), ('함정', 55), ('직빵', 25), ('여리다', 75), ('뚤려', 13), ('나뉘어지다', 44), ('슬로', 17), ('배기가스', 19), ('꽃가루', 48), ('차마', 30), ('승객', 5), ('즈칸', 104), ('비킹', 3), ('로나', 28), ('호성', 3), ('안달', 53), ('컷팅장족', 14), ('푸석거리다', 28), ('뒷맛', 61), ('시킬껄', 3), ('이프', 17), ('장농', 25), ('카라', 46), ('블라우스', 77), ('유투', 36), ('삼만원', 28), ('정시', 24), ('감겨', 31), ('마리면', 8), ('알아듣다', 24), ('가마', 9), ('방학기', 5), ('혼내다', 14), ('마리고', 3), ('참게', 3), ('하원', 84), ('물장난', 5), ('툭하면', 17), ('하원시', 5), ('그랬다고', 10), ('가만', 37), ('차기', 32), ('쌀때', 29), ('할떄', 20), ('뛰어오다', 17), ('진창', 46), ('파래', 3), ('ㄷㅇㄴ', 4), ('어무니', 3), ('복층', 19), ('어번', 65), ('여타', 26), ('주저', 60), ('단말', 21), ('레이나', 10), ('용한', 81), ('더비', 34), ('짜임', 22), ('어두운색', 34), ('철저하다', 67), ('결재', 25), ('도합', 20), ('쓰렵니', 38), ('로또', 22), ('방방', 19), ('절구', 95), ('안대', 75), ('묵직', 20), ('채망', 60), ('어묵꼬', 6), ('데치기', 14), ('랄것', 15), ('비밀번호', 41), ('비번', 37), ('주구', 11), ('번더', 6), ('갈릴', 67), ('분필', 44), ('스티치', 16), ('취미', 173), ('코바늘', 35), ('지정', 50), ('쎈스', 6), ('대일', 10), ('탈탈', 71), ('약용', 10), ('생애', 17), ('비빔', 53), ('점막', 36), ('빈혈', 123), ('과지', 11), ('탄탄', 29), ('심각해지다', 9), ('지킴', 11), ('현대차', 8), ('시리다', 138), ('빗물', 32), ('눈밭', 3), ('젤로', 41), ('살빠지다', 13), ('수태', 4), ('라뽐므', 10), ('노르', 21), ('자게', 15), ('내심', 34), ('한의원', 15), ('직행', 38), ('탈것', 73), ('무어', 6), ('영롱하다', 33), ('철회', 9), ('가형', 56), ('홀리데이', 3), ('ㅇㅅㅇ', 19), ('비니', 11), ('여백', 23), ('풀림', 90), ('볼일', 87), ('전화번호부', 4), ('연상', 35), ('송이버섯', 239), ('굵직하다', 21), ('햇던', 28), ('적격', 5), ('급식', 52), ('탈장', 4), ('하겟습니', 3), ('천이', 205), ('꽉쥐', 5), ('빠져나가다', 83), ('유의사항', 20), ('티볼리', 17), ('스모그', 11), ('겉면', 86), ('라야', 16), ('전에껀', 13), ('은감', 67), ('메이플', 75), ('우측', 56), ('손오공', 9), ('대거', 6), ('반투명', 47), ('이루어지다', 132), ('술해', 37), ('네임택', 6), ('번잡', 19), ('백원', 56), ('반제품', 12), ('증맬루', 4), ('외치다', 41), ('안세고', 3), ('어쩃', 3), ('외간상', 3), ('섬유질', 72), ('들쑥날쑥', 43), ('제각각', 76), ('하필', 77), ('괜춘합니', 7), ('씐나', 6), ('정지', 70), ('토나오다', 14), ('괜찬아', 25), ('드라마틱', 11), ('폴폴', 31), ('묭실', 8), ('고기만', 38), ('안개', 30), ('개월전', 23), ('발레', 4), ('시크릿', 59), ('컨디셔', 4), ('촬랑촬', 3), ('로레알', 4), ('셔츠', 222), ('캐럿', 58), ('혼방', 11), ('단면', 82), ('총장', 9), ('꿀맛', 126), ('아카시아', 40), ('감자전', 30), ('대처', 56), ('목쪽', 20), ('뿜뿜', 54), ('근육통', 21), ('입체', 140), ('나눔', 121), ('뽀족하', 4), ('세워지다', 111), ('애물', 24), ('밀리터리', 9), ('매치', 50), ('붕뜨', 18), ('헤매다', 122), ('저지', 12), ('장애', 54), ('토트', 4), ('핫딜', 37), ('겟했어', 22), ('낡아지다', 11), ('모로코', 26), ('편식', 137), ('보다야', 19), ('데일', 74), ('구요', 27), ('들것', 31), ('구불구불', 5), ('오우', 39), ('듀오', 22), ('닐피스크', 3), ('걸죽', 30), ('헝겊', 96), ('준후', 41), ('근대', 76), ('목적지', 4), ('송풍', 12), ('정비', 43), ('인건비', 11), ('뷰티풀', 10), ('기력', 36), ('급격하다', 70), ('다래끼', 3), ('포션', 5), ('몰리브덴', 11), ('크롬', 59), ('요오드', 26), ('망간', 79), ('커피숍', 37), ('폴바', 78), ('링북', 6), ('더군다나', 76), ('별루임', 19), ('특이하다', 153), ('단순', 72), ('벌리다', 124), ('정수리', 73), ('비듬', 83), ('줄줄', 242), ('파잉', 33), ('로즈마리', 61), ('스피어', 3), ('머리감기', 7), ('드나봐', 9), ('어여', 5), ('똑닥', 3), ('누르기', 87), ('손잡다', 40), ('서기', 28), ('꽈당', 9), ('빌드', 3), ('현대', 104), ('구의', 20), ('빼낼', 7), ('시한', 23), ('전류', 84), ('정갈하다', 18), ('설령', 7), ('여분', 192), ('여량', 34), ('라구요', 13), ('참으로', 55), ('바닐라코', 32), ('어두워지다', 29), ('구노', 5), ('대량생산', 7), ('혼나다', 36), ('자투리', 36), ('고등', 68), ('감사히', 47), ('마파두부', 4), ('사천원', 13), ('육천원', 11), ('흐물거려', 25), ('여성호르몬', 10), ('분비', 29), ('암내', 9), ('가닥', 72), ('선인', 6), ('반쪽', 59), ('리듬', 12), ('춤추다', 31), ('뱃속', 34), ('클래식', 58), ('외가', 9), ('음감', 7), ('레슨', 5), ('그땐', 87), ('유아교육', 3), ('절실', 31), ('정서', 17), ('감각', 93), ('아이큐', 9), ('다양성', 44), ('명의', 15), ('전문성', 11), ('차별', 30), ('책속', 6), ('급감', 6), ('북도', 41), ('잔고', 52), ('제보', 34), ('만치', 126), ('휴일', 16), ('공업', 28), ('협조', 9), ('워킹맘', 42), ('징징', 14), ('씨티', 17), ('파노라마', 15), ('착즙기', 96), ('가라', 94), ('대게', 21), ('오직', 34), ('불가', 260), ('어머어머', 3), ('가까워지다', 20), ('힙업', 4), ('팬츠', 32), ('잔병치레', 26), ('의존', 32), ('생필품', 60), ('친절', 27), ('압도', 66), ('뮨베', 10), ('라만', 5), ('이뮨베', 21), ('손대다', 50), ('잇몸', 375), ('틈틈하다', 43), ('폭발', 88), ('뽀드득뽀드득', 11), ('부쪽', 3), ('아귀', 27), ('라디오', 82), ('에어리', 39), ('쑤다', 72), ('아이브', 29), ('맨즈', 8), ('룩스', 4), ('그리기', 95), ('간략', 19), ('사각형', 52), ('주욱', 17), ('일텐데', 47), ('태의', 6), ('할머니', 193), ('안타', 99), ('리신', 11), ('핸들링', 101), ('예상외', 30), ('명성', 24), ('위프', 23), ('향맛', 5), ('뒤따르다', 5), ('파닥파닥', 10), ('뭐해', 47), ('포포', 11), ('깜찍', 10), ('달려오다', 64), ('당신', 66), ('글귀', 42), ('번돈', 10), ('기장', 193), ('막달', 16), ('미도', 67), ('잔잔하다', 48), ('오소', 4), ('간간', 17), ('스낵', 34), ('냠냠', 67), ('낭낭', 16), ('이의', 39), ('미추', 22), ('뾰루지', 80), ('꾸덕꾸덕', 42), ('손등', 122), ('도려내다', 24), ('구어', 85), ('수증기', 46), ('가래떡', 18), ('김말이', 14), ('드감', 3), ('메이플시럽', 16), ('쪼르륵', 6), ('인절미', 20), ('핫도그', 23), ('베이컨', 19), ('외벽', 25), ('싸늘하다', 6), ('연락처', 17), ('그릭스', 22), ('사십', 17), ('가다가', 39), ('난연재', 25), ('양극', 61), ('쓸껄', 15), ('초원', 5), ('어딜', 62), ('삶통', 3), ('날인', 31), ('품종', 59), ('베니', 5), ('루카', 3), ('달콤', 113), ('포슬포슬', 40), ('퍼먹는', 5), ('정해지다', 52), ('언능', 63), ('요트', 16), ('탄생', 24), ('시행', 19), ('캠페인', 4), ('레이온', 22), ('만을', 161), ('섬유소', 10), ('사건', 41), ('미생물', 19), ('공인', 22), ('기관', 66), ('화학물질', 48), ('제만', 39), ('순위', 108), ('앙블랑', 43), ('고행', 3), ('단장', 6), ('신혼집', 24), ('믹서', 180), ('버턴', 6), ('구림', 26), ('고향이', 9), ('거칠하다', 21), ('짝퉁', 78), ('명칭', 31), ('파파스', 14), ('덜덜', 141), ('좌측', 44), ('풍차', 20), ('조자수', 18), ('집사람', 31), ('평발', 3), ('저절로', 93), ('서브', 113), ('고가도', 11), ('불쑥', 3), ('거슬거슬하다', 3), ('재임', 5), ('스누피', 3), ('달고나', 20), ('평안하다', 6), ('로사', 43), ('브레지어', 3), ('론데', 23), ('부감', 10), ('돼지고기', 72), ('참치', 444), ('생인', 10), ('이건정', 5), ('말수', 5), ('연도', 12), ('아토', 75), ('앤알', 11), ('쉐이프', 4), ('봄맞이', 10), ('패딩재질', 3), ('뻥뻥', 9), ('차요', 37), ('으루', 17), ('쏘렌토', 34), ('단기', 17), ('쟈크', 9), ('삼일', 61), ('자크', 124), ('자물쇠', 27), ('불고기', 214), ('잡채', 55), ('진밥', 30), ('보리차', 50), ('난이도', 126), ('소문', 97), ('쐬다', 43), ('주전자', 175), ('포스터', 13), ('창가', 35), ('볼땐', 30), ('가리키다', 26), ('병가', 7), ('병안', 11), ('홀린', 17), ('여우', 31), ('안하렵니', 7), ('직업', 117), ('목배', 8), ('자서', 44), ('어머나', 19), ('예약', 99), ('삐삐', 48), ('도시가스', 18), ('순서', 123), ('가스통', 17), ('건덕', 4), ('생식기', 8), ('성질', 118), ('만자', 3), ('또다른', 55), ('계륵', 7), ('반려동물', 201), ('시즌', 103), ('아른거리다', 10), ('수박', 43), ('쌍둥이', 111), ('놓아두다', 66), ('장의', 43), ('말라야', 6), ('교구', 67), ('마네', 16), ('스트링치즈', 12), ('공휴일', 7), ('밤새', 89), ('깨우다', 32), ('다슨', 3), ('물걸레', 79), ('동감', 3), ('초창', 26), ('물통이', 48), ('일가', 33), ('쭈글쭈글', 23), ('데니', 19), ('을지', 8), ('ㅋㅍ', 3), ('고질', 6), ('자네', 64), ('생활용품', 42), ('흠짓', 3), ('못질', 12), ('외상', 3), ('미우다', 11), ('차맛', 7), ('빠르기', 19), ('봉인', 35), ('굿굿굿', 48), ('거여', 26), ('초가', 61), ('오열', 3), ('봣더', 6), ('정관', 20), ('하임', 46), ('디스플레이', 133), ('정은', 29), ('유부', 32), ('태아', 29), ('이러하다', 137), ('부가', 127), ('경관', 11), ('결손', 9), ('오즈', 15), ('팔천', 6), ('시라', 28), ('아침식사', 100), ('복대', 108), ('점보', 37), ('서운하다', 28), ('마디', 70), ('인지도', 82), ('용해도', 34), ('ㅠㅜㅜ', 10), ('화장지', 389), ('건의', 14), ('자사', 33), ('셀룰', 8), ('시리얼', 101), ('촉박하다', 14), ('상체', 69), ('핫핫', 3), ('후끈하다', 24), ('기색', 9), ('ㄱㄱ', 45), ('요리조리', 74), ('ㅇㅋ', 9), ('조형', 5), ('짜리몽땅', 4), ('도형', 99), ('사정없이', 10), ('팽팽', 10), ('기웃기웃', 6), ('우편함', 7), ('편지', 31), ('흐뭇하다', 57), ('ㅡㅡㅡㅡㅡㅡㅡㅡㅡㅡㅡㅡㅡㅡㅡㅡㅡㅡㅡㅡㅡㅡ', 26), ('진입', 25), ('일과', 32), ('까꿍', 23), ('본전', 50), ('ㅡㅡㅡㅡㅡㅡㅡㅡㅡㅡㅡㅡㅡㅡㅡㅡㅡㅡㅡㅡㅡㅡㅡ', 27), ('ㅡㅡㅡㅡㅡㅡㅡㅡㅡㅡㅡㅡㅡㅡㅡㅡ', 14), ('순간접착제', 18), ('리오', 19), ('제단', 19), ('도트', 43), ('쉬즈', 12), ('막용', 3), ('쉬폰', 24), ('사생활', 5), ('리해', 50), ('치킨', 268), ('드라마', 23), ('끝없이', 12), ('쪽쪽', 65), ('넘어서다', 140), ('금색', 51), ('낭창낭창', 4), ('사기꾼', 8), ('경차', 33), ('탈때', 87), ('노끈', 9), ('지나치다', 80), ('찻잎', 28), ('블렌딩', 94), ('마스터', 41), ('엄선', 66), ('아쌈홍차', 11), ('그윽', 19), ('조화', 118), ('이루다', 97), ('임의', 22), ('갈라', 51), ('합격', 168), ('시래기', 22), ('간만', 104), ('내놓다', 130), ('힌트', 3), ('대자', 26), ('중목', 74), ('지탱', 87), ('해수욕장', 9), ('파도', 26), ('발볼', 88), ('안키', 8), ('태반', 10), ('따땃', 21), ('거릴', 10), ('브리지', 5), ('졸라', 57), ('헐헐', 3), ('담달', 10), ('ㄱㅊ', 22), ('꾸리', 53), ('사재기', 10), ('댕기', 52), ('쳇바퀴', 161), ('미끄럼틀', 71), ('임시', 59), ('죽이다', 80), ('나머진', 97), ('손해배상', 6), ('수화물', 36), ('작살', 70), ('도안', 224), ('관장', 6), ('위장', 86), ('놨는데', 41), ('그나저나', 17), ('웃돈', 4), ('끝물', 18), ('일기', 28), ('ㅡㅡㅡㅡㅡㅡㅡㅡㅡㅡㅡㅡㅡㅡㅡㅡㅡㅡㅡㅡㅡㅡㅡㅡㅡㅡ', 26), ('조루', 6), ('복귀', 23), ('세이프', 32), ('ㅡㅡㅡㅡㅡㅡㅡㅡㅡㅡㅡㅡㅡㅡㅡㅡㅡㅡㅡㅡㅡ', 38), ('접속', 27), ('깜빡이다', 60), ('오락가락', 24), ('연동', 193), ('매너', 10), ('대가족', 22), ('스물', 53), ('스칼프', 5), ('증정', 34), ('그러하다', 70), ('단발', 40), ('헹굽니', 7), ('보심', 35), ('한겨울', 92), ('민소매', 9), ('손아귀', 16), ('갈기', 67), ('의치', 39), ('분양', 31), ('가치', 139), ('생후', 101), ('시름시름', 4), ('버렷', 24), ('데리다', 33), ('쪼그', 10), ('올챙이', 3), ('사조', 36), ('티원', 14), ('는데', 51), ('가렵구', 3), ('문장', 55), ('젤리캣', 4), ('원칙', 13), ('한창', 133), ('낯설다', 71), ('물줄기', 92), ('분수', 29), ('소독약', 24), ('조그맣다', 28), ('기껏', 27), ('두부과자', 3), ('라든지', 12), ('재해', 3), ('신한', 117), ('마카롱', 93), ('육박', 15), ('향해', 3), ('재미없다', 28), ('날아다니다', 28), ('물든', 11), ('시리', 35), ('식약처', 119), ('의약외품', 23), ('프라그', 7), ('또다시', 56), ('끄적', 32), ('모나미', 8), ('축하', 89), ('기타등등', 20), ('괜시리', 34), ('주거', 49), ('시오', 33), ('수의사', 35), ('사랑스럽다', 117), ('힐링', 117), ('오구오구', 3), ('애절하다', 3), ('눈빛', 28), ('승승장구', 7), ('겉감', 40), ('폴리에스터', 36), ('다솜', 6), ('복원력', 69), ('삐죽다', 33), ('파이', 61), ('프린터기', 56), ('시공', 166), ('다용도실', 53), ('베드민턴', 7), ('라켓', 57), ('유아식', 170), ('애호박', 31), ('고산', 37), ('하란', 12), ('옹알', 7), ('써보렵니', 5), ('복사기', 18), ('조사해', 8), ('숙제', 41), ('왕왕', 22), ('이요', 27), ('초로', 25), ('농구', 53), ('친해지다', 40), ('ㅡㅡㅡㅡㅡㅡㅡㅡㅡㅡㅡㅡㅡㅡㅡㅡㅡㅡㅡㅡ', 36), ('여유도', 15), ('처지다', 75), ('평탄', 26), ('자충', 4), ('초겨울', 14), ('불가하다', 88), ('아싑네', 10), ('책볼때', 6), ('단둘', 3), ('일러스트', 38), ('문신', 27), ('머리색', 28), ('발색', 96), ('그려지다', 229), ('카니발', 56), ('미니미', 44), ('구보', 6), ('구만', 29), ('회용', 46), ('봣는데', 18), ('괞찬아', 5), ('정해', 67), ('봉끝', 4), ('핸디', 32), ('머스타드', 82), ('겟겟', 11), ('만으로는', 61), ('크크', 15), ('앵무새', 39), ('시골', 171), ('비값', 6), ('피팅', 7), ('까칠하다', 65), ('카바', 19), ('소매', 71), ('틀림없다', 20), ('대우', 31), ('꼬끄', 3), ('밑면', 78), ('머핀', 35), ('타르트', 20), ('필링', 39), ('사브', 8), ('갈치', 420), ('누런빛', 12), ('네스프레소', 107), ('덜거덕', 5), ('거렸어', 7), ('목걸이', 27), ('달기', 87), ('당면', 100), ('콘드', 61), ('이친', 58), ('본격', 68), ('동기화', 7), ('재부팅', 24), ('수신', 52), ('멋대로', 30), ('알알이', 23), ('파묻히다', 9), ('찐득거리다', 15), ('어어', 52), ('리서치', 39), ('분석', 56), ('글루코사민', 43), ('리아', 54), ('진단', 57), ('치유', 22), ('체계', 50), ('고안', 10), ('라이프스타일', 8), ('움푹', 47), ('산후조리', 4), ('달구다', 152), ('열전도도', 9), ('너무도', 37), ('기아', 19), ('개월때', 49), ('바베큐', 45), ('불판', 72), ('판도', 109), ('반도', 52), ('꺄르르', 16), ('꼬깃꼬깃', 7), ('자글자글', 13), ('우습다', 8), ('쿠페', 19), ('원동력', 29), ('육아용품', 69), ('품류', 15), ('거주', 35), ('진주', 13), ('컨텐츠', 53), ('주어지다', 15), ('썻던거', 5), ('작정', 23), ('불스', 44), ('원사', 34), ('닭고기', 129), ('수프', 12), ('땡땡하다', 17), ('범용', 11), ('질적', 24), ('백라이트', 17), ('외국산', 39), ('커팅하', 7), ('파슬리', 12), ('투척', 20), ('정통', 10), ('크래커', 9), ('토마', 9), ('엑스트라', 83), ('버진', 91), ('후춧가루', 5), ('마리네이드', 25), ('드레싱', 89), ('세요', 27), ('멤버', 8), ('스윙', 8), ('풀기', 35), ('순서대로', 74), ('카펫', 56), ('낙엽', 12), ('공유기', 32), ('실질', 28), ('룸메', 12), ('이상일', 7), ('어딨다', 26), ('구별', 67), ('산임', 7), ('글레이', 3), ('유닉스', 84), ('과연', 175), ('출근시간', 10), ('얼른얼른', 3), ('세라믹', 107), ('컬링', 26), ('졸졸졸', 14), ('쫓아오다', 4), ('더크', 44), ('고만', 22), ('쫄보', 25), ('임도', 29), ('강의', 48), ('헤르츠', 17), ('확실', 109), ('눈앞', 28), ('버벅거리', 6), ('해드', 12), ('아이비', 11), ('살땐', 38), ('유색', 12), ('신형', 73), ('어유', 41), ('가사', 51), ('뿐더러', 46), ('단시간', 28), ('코알라', 25), ('페인', 225), ('초코', 416), ('성장기', 134), ('감미료', 67), ('싼마이', 35), ('홈플', 11), ('조회', 31), ('청귤', 61), ('끝내', 31), ('건조과일', 4), ('트릴로지', 5), ('우동', 44), ('영양가', 97), ('동그랑땡', 19), ('비빔면', 32), ('어울림', 22), ('대감', 80), ('원한', 18), ('레스트', 41), ('로체', 4), ('작품', 66), ('물레방아', 17), ('본래', 52), ('차우', 21), ('커클랜드', 17), ('캣차우키튼', 3), ('어미', 65), ('고간', 9), ('무언가', 124), ('오씨', 14), ('농약', 93), ('비료', 31), ('목화', 17), ('짓무름', 12), ('기압', 10), ('텍사스', 30), ('인정받다', 44), ('펌핑용기', 9), ('못향', 25), ('화홍', 28), ('수채화', 29), ('이몸', 6), ('둘러보다', 132), ('쪼꼬미', 20), ('텁텁함', 38), ('차단기', 214), ('부술', 8), ('번열', 6), ('두텁다', 74), ('구토', 73), ('유명', 116), ('신지', 185), ('정망', 4), ('질질', 123), ('팔목', 61), ('데넘', 15), ('콧대', 12), ('숙이다', 83), ('합방', 4), ('무드등', 114), ('난감', 71), ('끼도', 7), ('모윰젖병', 16), ('빵점', 13), ('다다', 51), ('음날', 16), ('훤히', 20), ('에어캡', 99), ('나뒹굴다', 15), ('공식', 80), ('재떨이', 4), ('장벽', 56), ('원상', 35), ('치구', 16), ('아롱사태', 85), ('월계수', 21), ('면포', 15), ('촤라락', 7), ('바이오스', 23), ('인터페이스', 8), ('상부', 33), ('왁싱후', 8), ('꼽는다', 6), ('스토어', 50), ('트루', 26), ('이슈', 76), ('배젤', 3), ('스그', 13), ('잘라지다', 68), ('이익', 37), ('탈착', 54), ('바스락바스락', 10), ('진실되다', 25), ('최선', 74), ('메뉴얼', 37), ('텅텅', 10), ('허공', 19), ('부각', 54), ('커지다', 347), ('찜통', 21), ('죽여주다', 8), ('알라딘', 4), ('놀랫어', 9), ('벨브', 18), ('테프론', 24), ('하정훈', 11), ('모유수유', 41), ('말투', 8), ('안성', 21), ('설겆', 124), ('몽땅', 52), ('온대', 5), ('도가니', 126), ('스퀘어', 6), ('가지런하다', 58), ('워후', 4), ('군요', 7), ('팬케이크', 39), ('까지나', 50), ('흰자', 43), ('랩핑', 10), ('팬케익', 15), ('모자라', 63), ('안듬', 13), ('굴곡', 154), ('분산', 46), ('듀얼모니터', 16), ('사하다', 24), ('결착', 12), ('정발', 23), ('등사', 5), ('불행하다', 3), ('시멘트', 17), ('잔광', 21), ('콘덴서', 9), ('영업', 35), ('으뜸', 17), ('뵈다', 34), ('자금', 7), ('킴맘', 3), ('수인', 4), ('돌아보다', 29), ('조율', 13), ('민폐', 13), ('끼치다', 24), ('미만', 184), ('진솔하다', 24), ('전기요금', 23), ('보답', 28), ('소켓', 35), ('포트만', 3), ('중인', 127), ('까불다', 4), ('대접', 77), ('돼지갈비', 21), ('반심', 6), ('마넌', 43), ('안팎', 12), ('와리', 4), ('달반', 27), ('전국', 24), ('연식', 40), ('투성이', 33), ('농락', 8), ('인바디', 206), ('옷벗다', 5), ('ㅋㄱㅋ', 9), ('강점', 29), ('우아하다', 41), ('견적', 15), ('규조토', 302), ('윤식당', 8), ('냉동식품', 98), ('산기', 4), ('앉은자리', 24), ('레오', 13), ('키론데', 6), ('뛰어나가다', 3), ('야간', 104), ('찻길', 38), ('유트브', 31), ('알아주다', 41), ('까페', 42), ('아메리카노', 193), ('디카', 187), ('박자', 10), ('미끌미끌하다', 22), ('애때', 19), ('천도', 56), ('하이퍼', 14), ('전담', 7), ('렌스', 3), ('메이', 23), ('반기다', 22), ('어째', 50), ('슈가', 25), ('까실까실', 10), ('남구', 12), ('깨끗', 42), ('번거러움', 19), ('메모장', 8), ('콘크리트', 23), ('문풍지', 23), ('완전체', 12), ('한구', 12), ('나누어지다', 30), ('숨기다', 127), ('한결', 133), ('저분자', 88), ('피쉬', 105), ('분자량', 7), ('달톤', 5), ('대구', 91), ('제약', 50), ('노약', 5), ('약효', 18), ('약물', 13), ('환자', 111), ('비늘', 37), ('진피', 15), ('장력', 4), ('핵심', 83), ('향초', 22), ('에이프릴', 37), ('다용', 228), ('사포닌', 21), ('보노', 18), ('무좀', 27), ('급수', 38), ('물탱크', 33), ('아낌없이', 37), ('에쁘', 4), ('집안일', 67), ('시국', 120), ('서림', 84), ('가구점', 8), ('외국어', 4), ('빡시다', 26), ('상사', 6), ('깡패', 34), ('목판', 4), ('뭍음', 4), ('망치', 138), ('민원', 15), ('퍼시픽', 5), ('콜비', 9), ('까망베르', 15), ('네네', 11), ('생신', 28), ('강판', 19), ('파크', 45), ('궁딩', 3), ('자임', 22), ('거제', 137), ('졋다', 3), ('얼룩지다', 59), ('훑다', 41), ('반들반들하다', 4), ('액기스', 9), ('레몬에이드', 18), ('그렁', 5), ('엄니', 12), ('돈안', 3), ('빼주', 61), ('취침', 115), ('스페어', 7), ('면연', 57), ('뾱뾱', 43), ('눌린', 39), ('증강', 20), ('활성산소', 49), ('바이러스', 66), ('위염', 43), ('위궤양', 8), ('장염', 27), ('체질', 146), ('과민', 9), ('일어', 26), ('열도', 129), ('중요성', 35), ('연소', 14), ('목마', 26), ('골프채', 21), ('대란', 42), ('찾아내다', 50), ('썻었는데', 13), ('대속', 3), ('휴게소', 17), ('버라이어티', 10), ('포그', 15), ('사신', 24), ('달마', 11), ('어는', 17), ('마당', 76), ('가상', 8), ('아르', 31), ('소화기관', 11), ('하목', 3), ('유당', 34), ('내증', 3), ('탐폰', 250), ('삽입', 65), ('너므', 26), ('ㅠㅜㅠ', 12), ('ㅎㅋ', 8), ('수하물', 23), ('포장도로', 4), ('피드', 5), ('투어', 10), ('리스터', 4), ('치이다', 26), ('하드커버', 3), ('이도', 73), ('용적', 6), ('같이는', 4), ('선명', 25), ('고스트', 8), ('가로등', 18), ('간판', 9), ('ㅠㅠㅜ', 10), ('카툭', 15), ('글라스', 58), ('브렌', 23), ('펀리합니', 3), ('걱정스럽다', 51), ('타이탄', 17), ('블러', 16), ('테이크', 7), ('세분', 23), ('클라스', 10), ('팔지', 60), ('피하', 87), ('홍조', 42), ('성합', 3), ('아요', 17), ('마블링', 32), ('특별', 27), ('귀염둥이', 15), ('십년', 56), ('철망', 33), ('닭백숙', 3), ('층층', 23), ('식겁하다', 37), ('앞다리', 24), ('모모', 31), ('월달', 37), ('호전', 35), ('기계로', 45), ('신미', 3), ('나로', 20), ('미적', 13), ('적응도', 12), ('절살', 6), ('으잉', 4), ('해콜', 4), ('살의', 15), ('점유', 8), ('하리보', 10), ('곤혹', 5), ('신의', 45), ('반성', 31), ('블로거', 16), ('만일', 20), ('조그마하다', 47), ('배부', 38), ('행성', 14), ('관절염', 30), ('밀랍', 5), ('벌이', 23), ('후두', 12), ('인두', 7), ('업업', 13), ('어쩌고저쩌고', 6), ('털리다', 41), ('구고', 27), ('행궜는데', 4), ('턴다', 3), ('것좀', 4), ('자매', 26), ('따님', 25), ('카를', 14), ('유심', 127), ('달려들다', 38), ('ㅜㅜㅋㅋㅋㅋ', 3), ('ㅋㅋㅋㅋㅋㅋㅋㅋㅋㅋㅋㅋㅋㅋㅋㅋ', 4), ('랭킹', 32), ('비글', 31), ('재도', 27), ('쿵쿵', 88), ('커터칼', 25), ('장판', 189), ('삐뚤다', 52), ('메라', 81), ('싱하', 34), ('스트', 8), ('슴돠', 5), ('투폼', 4), ('한풀', 4), ('산뜻', 9), ('귀차니즘', 117), ('탁탁', 80), ('이러다가', 14), ('방안', 112), ('차츰', 19), ('빼꼼', 13), ('애좀', 18), ('발자국', 76), ('젤맘', 7), ('문지방', 3), ('집착', 46), ('맘껏', 49), ('숨기', 13), ('눈밑', 24), ('자식', 42), ('통운', 7), ('면양', 12), ('만년', 17), ('대학생', 51), ('쨍쨍', 23), ('아이스박스', 35), ('배우자', 13), ('필렛', 23), ('남아도', 21), ('주입', 210), ('단팥빵', 115), ('갈무리', 7), ('기꺼이', 8), ('파네', 23), ('지름', 82), ('부각시키다', 6), ('감귤', 11), ('기울다', 69), ('중립', 47), ('아버', 7), ('편향', 3), ('뿌러', 12), ('군것질', 59), ('빠짝', 15), ('눈썰매장', 18), ('책임', 40), ('조종', 10), ('인견', 30), ('고추가', 16), ('스콘', 46), ('사후', 30), ('맑음', 3), ('향나', 14), ('부기', 14), ('수습', 13), ('발랏는데', 4), ('컷팅해', 9), ('거땜', 5), ('마라카스', 3), ('제나', 40), ('해방', 52), ('가든', 61), ('한경희', 50), ('괜챦', 13), ('슬림형', 9), ('심통', 3), ('올블랙', 12), ('괜춘', 61), ('마토', 11), ('이보', 82), ('맛집', 42), ('중얼거리다', 3), ('깃털', 24), ('겉껍질', 15), ('꺼풀', 3), ('로메', 13), ('증진', 89), ('스테비', 104), ('푸릇푸릇', 4), ('이통', 12), ('깔리다', 58), ('면회', 7), ('사나', 37), ('꾸기다', 26), ('괜츈', 36), ('물코', 21), ('지은지', 7), ('사오', 60), ('제때', 32), ('물결', 58), ('기질', 25), ('짝궁', 4), ('더뉴', 27), ('아반떼', 34), ('단색', 27), ('콤비', 10), ('바탕', 83), ('투톤', 17), ('골든', 60), ('브레이크', 87), ('게이지', 5), ('촉매', 28), ('소모', 125), ('주행', 173), ('왕복', 31), ('패널', 142), ('지쿠', 15), ('금값', 9), ('방학', 84), ('안도', 26), ('얼추', 61), ('반감', 6), ('어두운', 6), ('한국인', 57), ('서늘하다', 114), ('셋탑', 15), ('황동', 44), ('취득', 22), ('꼽아두', 13), ('불날', 15), ('나시', 70), ('수기', 92), ('옥소', 24), ('시원시원하다', 40), ('스탑', 20), ('불필요하다', 75), ('칼등', 15), ('로다', 32), ('안내서', 16), ('큐알', 19), ('감마', 12), ('리놀렌산', 9), ('벼루', 10), ('자갈', 18), ('장식품', 21), ('옴겨', 5), ('케바케', 66), ('식지', 36), ('살벌', 5), ('만날', 30), ('마마', 12), ('레츠', 5), ('기릿', 5), ('밥상', 48), ('씨익', 6), ('저항', 25), ('독보', 16), ('풍경', 9), ('곤충', 28), ('콧물', 55), ('돌출', 33), ('칠레', 47), ('꼬꼬', 20), ('대출', 3), ('일절', 36), ('여물', 103), ('중소', 31), ('개수대', 9), ('살랑살랑', 7), ('화초', 20), ('복잡', 15), ('등위', 4), ('냉큼', 89), ('은기', 19), ('필라멘트', 64), ('공짜', 34), ('인심', 17), ('설득', 32), ('일수', 122), ('만으론', 11), ('달치', 23), ('짤때', 18), ('킨도', 24), ('에스쁘', 22), ('수퍼', 18), ('등장', 30), ('모질다', 61), ('없드라구', 15), ('금손', 17), ('퍼포먼스', 14), ('쓱싹', 16), ('취한', 7), ('눈가', 48), ('잘만', 77), ('번가', 22), ('선배', 16), ('뿌드득', 5), ('가져다주다', 37), ('유팡', 4), ('세척제', 26), ('까딱까딱', 3), ('미달', 16), ('식도', 69), ('무우', 33), ('물집', 34), ('따스하다', 51), ('줄어듬', 39), ('문제점', 85), ('점등', 37), ('점심시간', 23), ('아래층', 17), ('휘황', 5), ('찬란하다', 11), ('발산', 4), ('정체', 39), ('ㅠㅠㅠㅠㅠㅠㅠ', 29), ('오메', 19), ('오오오오', 5), ('쫄깃해', 22), ('고물', 50), ('흡사하다', 56), ('쟁여져', 4), ('숟갈', 57), ('껄끄러운', 4), ('퍼먹', 8), ('조일', 70), ('고왕', 4), ('투게더', 8), ('왤다', 8), ('손세정제', 30), ('공간활용', 79), ('구기', 22), ('온전', 47), ('걸터', 3), ('프로비', 22), ('자해', 23), ('항균', 120), ('소나타', 14), ('대장균', 24), ('사멸', 6), ('도금', 12), ('쫄깃하', 37), ('고자', 41), ('이진', 23), ('느타리버섯', 16), ('칠리소스', 66), ('섭섭하다', 27), ('에서보다', 9), ('킹용', 23), ('파일', 98), ('따로따로', 63), ('졸다', 28), ('매주', 44), ('밥위', 14), ('사촌', 13), ('어쨌거', 20), ('오붓하다', 3), ('답시고', 11), ('들락날락', 20), ('거린', 6), ('댕겨', 21), ('쭈글', 17), ('안부', 15), ('고꾸라지다', 17), ('생명', 65), ('포메', 69), ('하운드', 3), ('있겠쥬', 3), ('우르르', 26), ('사부', 15), ('스무디', 187), ('콤보', 20), ('아아', 116), ('과테말라', 36), ('안티구아', 12), ('풋풋하다', 3), ('메우다', 16), ('홀빈', 19), ('전의', 27), ('그라인더', 19), ('커피메이커', 3), ('스너그핏', 27), ('리베로', 4), ('베스', 6), ('리베', 3), ('열차', 10), ('조국', 234), ('아이라이너', 26), ('블러셔', 9), ('섀도우', 22), ('원부', 9), ('그란', 49), ('했슴다', 7), ('내려지다', 15), ('덕인', 16), ('그대', 38), ('검토', 23), ('자유시간', 7), ('모의', 24), ('라고요', 4), ('훌렁', 5), ('카스테라', 32), ('억지', 7), ('운송', 35), ('화통', 3), ('대표', 111), ('측은', 9), ('담당자', 27), ('마른걸레', 15), ('거즈', 22), ('재밋어', 7), ('조지', 9), ('한눈팔다', 14), ('그림판', 10), ('훠궈', 8), ('우수수', 56), ('쓸데없이', 45), ('이바', 14), ('할까말까', 30), ('애바', 5), ('애인', 11), ('시지', 26), ('장어', 45), ('잘해야', 25), ('풀색', 7), ('가온', 4), ('새내기', 7), ('이사도', 8), ('외투', 77), ('뒤덮히다', 3), ('연발', 15), ('휘발', 24), ('종기', 7), ('타일', 84), ('어뎁터', 7), ('열거', 10), ('강약', 17), ('꼬린내', 9), ('ㅡㅡㅋ', 54), ('길가', 14), ('종식', 8), ('이빈', 3), ('주근깨', 9), ('차곡차곡', 51), ('생겨나다', 20), ('낚임', 5), ('라임', 103), ('모히또', 5), ('이오', 25), ('허가', 19), ('꽃송이', 29), ('넓히다', 36), ('물체', 17), ('확대', 26), ('가지가지', 7), ('사각사각', 27), ('곧다', 20), ('빈손', 6), ('수당', 5), ('어린시절', 11), ('체중감량', 16), ('납품', 17), ('도무지', 27), ('자락', 17), ('접힘', 16), ('끼일', 10), ('점프', 58), ('안넘', 6), ('이케', 26), ('반창고', 7), ('쓰라리다', 34), ('친정엄마', 152), ('찬스', 40), ('산적', 25), ('전투', 20), ('래인', 3), ('두루치기', 4), ('리딩', 25), ('난해하다', 13), ('셔플', 8), ('수수료', 9), ('힐로', 5), ('우먼', 72), ('볼순', 6), ('몰려오다', 9), ('양재', 14), ('자일리톨', 88), ('종은', 28), ('ㄴㅣ', 18), ('여기껄', 9), ('수능', 11), ('플리', 105), ('똑똑하다', 90), ('데이터', 116), ('남자라면', 6), ('누렇습니', 3), ('랄랄라', 4), ('피아노', 224), ('개정판', 27), ('연주', 28), ('악기', 42), ('건반', 90), ('계이름', 26), ('바이올린', 3), ('실로폰', 32), ('트럼펫', 3), ('음표', 9), ('악보', 23), ('산토끼', 3), ('곰세마리', 3), ('은별', 13), ('동물원', 9), ('접해', 40), ('루피', 48), ('금보', 31), ('줄기', 163), ('낭비하다', 54), ('엠보형', 7), ('낮아지다', 77), ('현금', 11), ('그럭', 5), ('저럭', 5), ('어쩌려', 9), ('납득', 38), ('여지', 89), ('슬금슬금', 9), ('답례', 25), ('밀양', 39), ('청구', 16), ('그녀', 6), ('비공개', 7), ('닥치다', 18), ('스무', 90), ('템테이션', 7), ('비뇨기', 14), ('야옹이', 46), ('경첩', 22), ('사들이다', 9), ('유나', 9), ('황사', 38), ('학적', 51), ('코편', 3), ('경량', 83), ('마스트', 3), ('허전하다', 66), ('다집', 4), ('꼬들꼬들하다', 16), ('그을음', 25), ('부츠', 106), ('복실복실하다', 4), ('으로부터', 113), ('썰매', 23), ('깔창', 24), ('대고', 227), ('밑그림', 3), ('ㅡㅡㅡㅡㅡㅡㅡㅡㅡㅡㅡㅡㅡㅡ', 19), ('알로', 106), ('밸런싱', 19), ('지보', 15), ('소음인', 7), ('남다르다', 28), ('부인', 13), ('디게', 44), ('실현', 12), ('노벨상', 4), ('방음', 16), ('브로', 48), ('원통', 32), ('중구', 29), ('꼬북', 3), ('고래', 97), ('거북', 25), ('하여간', 17), ('결구', 7), ('결방', 4), ('출구', 27), ('커넥터', 16), ('역류', 67), ('토출량', 4), ('쌍기', 6), ('와를', 3), ('후퇴', 4), ('션용', 3), ('전락', 8), ('아덴', 8), ('오돌토돌', 22), ('역자', 7), ('가파르', 5), ('지하상가', 3), ('채칼', 97), ('진정하다', 34), ('발란스', 18), ('서너', 107), ('식료품', 21), ('에게라도', 4), ('댕김', 4), ('도보', 10), ('따먹다', 6), ('과채', 28), ('라이코펜', 39), ('혈전', 6), ('뇌졸중', 6), ('항암', 30), ('전립선암', 3), ('유방암', 13), ('소화기', 20), ('불과하다', 17), ('베이글', 20), ('줄줄이', 48), ('도데', 13), ('반토막', 13), ('이따', 44), ('눕혔을때', 4), ('애매', 43), ('세뇌', 3), ('거임', 41), ('급박하다', 3), ('손재주', 35), ('대충대충', 13), ('오감', 39), ('아이피', 3), ('하루걸러', 4), ('데미지', 9), ('호소', 13), ('쫀쫀해', 61), ('시범', 27), ('오분', 24), ('이롭다', 45), ('찐빵', 11), ('미시', 3), ('커피포트', 27), ('반기', 5), ('반한', 11), ('품일', 29), ('콘돔', 13), ('지그재그', 13), ('테라스', 10), ('목살', 12), ('기류', 63), ('개구', 29), ('발꿈치', 13), ('두아', 17), ('별난', 7), ('실전', 13), ('은지', 25), ('쿵쾅', 18), ('바랬는데', 30), ('느긋하다', 18), ('가마니', 4), ('여주면', 19), ('위고', 4), ('스키야키', 3), ('별롭니', 18), ('뭔들', 14), ('유난스럽다', 4), ('서리', 150), ('단번', 23), ('부풀', 27), ('흠뻑', 32), ('초장', 33), ('급니', 3), ('새끼손가락', 25), ('곧잘', 60), ('맥머스', 5), ('도색', 45), ('미건', 3), ('노모', 11), ('부리면', 8), ('직관', 128), ('디다', 22), ('미러링', 16), ('웨이브', 101), ('하여튼', 39), ('살껄하', 3), ('꼬들꼬들', 7), ('생쌀', 5), ('팝업', 155), ('사물', 52), ('보따리', 8), ('산입', 43), ('육포', 74), ('들여놓다', 45), ('다견', 18), ('졸졸', 17), ('따라다니다', 33), ('다드', 20), ('헬로키티', 115), ('말경', 3), ('서두르다', 28), ('옥스포드', 77), ('입문', 230), ('싸개', 98), ('실때', 6), ('그야말로', 42), ('의무', 30), ('타래', 21), ('미노', 52), ('ㅠㅠㅠㅠㅠㅠㅠㅠㅠㅠㅠㅠ', 3), ('섣부르다', 7), ('핑크퐁', 20), ('감시', 15), ('ㅋㅋㅌ', 3), ('벨벳', 53), ('쪼그라들다', 33), ('경계', 42), ('톱질', 3), ('타요버스', 46), ('제목', 66), ('구면', 19), ('식기세척기', 153), ('면스판', 35), ('호로', 28), ('율링', 4), ('바로다', 9), ('작성자', 14), ('가오', 16), ('겨를', 9), ('서린', 5), ('스타렉스', 11), ('손보', 18), ('오만', 38), ('안전띠', 4), ('면보', 39), ('양반', 139), ('가즈아앗', 3), ('기각', 3), ('헐렁거려', 12), ('손전등', 22), ('괘씸하다', 6), ('뷰카', 32), ('챠콜', 14), ('슬릭', 88), ('이징', 48), ('익스트', 7), ('렉트', 7), ('경쟁', 36), ('발수', 37), ('부여', 28), ('프로세스', 8), ('사회', 53), ('직사', 91), ('광선', 99), ('하수', 49), ('로봇청소기', 13), ('템임', 7), ('밀대', 45), ('꼼짝', 10), ('랜더', 94), ('유지방', 10), ('초심자', 12), ('머랭', 44), ('케일', 28), ('잔병', 5), ('무탈', 4), ('잉크', 228), ('매칭', 26), ('그림책', 78), ('놀이터', 87), ('바퀴벌레', 6), ('ㄱㅅ', 8), ('시어머니', 31), ('하차', 5), ('달동', 104), ('쫀쫀함', 23), ('심신', 26), ('서류', 100), ('인덱스', 3), ('푸른빛', 25), ('보급', 38), ('ㅜㅎㅎ', 3), ('자전거', 46), ('이색', 23), ('떠올리다', 28), ('사부작사부작', 9), ('잠드네', 5), ('평형', 17), ('쏙쏙', 143), ('휘뚤마뚤', 3), ('백색소음', 4), ('일랑', 130), ('트레', 29), ('샷시', 16), ('자로', 80), ('일명', 33), ('완벽', 121), ('그럴듯하다', 26), ('엘레베이터', 11), ('끼임', 49), ('이집트', 40), ('썪어', 8), ('상비', 5), ('압출기', 13), ('뗏는데', 4), ('아무런', 8), ('턱밑', 14), ('시해', 9), ('돋다', 79), ('슬하', 9), ('몸매', 22), ('사량', 33), ('죽통', 26), ('금기', 16), ('짜드라구', 3), ('안눌리', 10), ('쇼핑몰', 69), ('특유하다', 8), ('자구', 32), ('기원', 57), ('한시', 21), ('간지나다', 26), ('바꿈', 20), ('재보', 6), ('빗나가다', 8), ('마스', 79), ('교감', 7), ('상함', 11), ('주소', 28), ('주소지', 5), ('서론', 32), ('가다랑어', 53), ('유유', 17), ('나진', 54), ('숲속', 39), ('포레', 13), ('막무가내', 3), ('식자', 3), ('자료', 88), ('햇살', 33), ('우물우물', 6), ('까르르', 13), ('거북이', 52), ('헤엄', 25), ('콩맛', 10), ('색베임', 18), ('카키색', 25), ('어정쩡하다', 25), ('불기', 29), ('홈파티', 25), ('컵라면', 23), ('나자빠지다', 10), ('아쥬', 28), ('맞먹다', 10), ('밀푀유', 11), ('개판', 49), ('평량', 186), ('베숲', 9), ('거든요', 16), ('브운', 3), ('착즙액', 8), ('이론', 6), ('삐끗', 18), ('갑인', 28), ('창살', 13), ('프로젝트', 54), ('비뇨기계', 21), ('나트', 40), ('증후군', 42), ('배란통', 5), ('요인', 46), ('의아', 58), ('삼립', 45), ('캐릭', 17), ('유인', 11), ('자작', 8), ('스테들러', 15), ('유성', 13), ('번짐', 50), ('늙다', 54), ('제약회사', 13), ('암시', 3), ('게으르다', 42), ('푸석푸석', 33), ('가뿐하다', 28), ('ㅍㅍㅅ', 4), ('초등생', 19), ('앏아', 36), ('마이비', 11), ('겨울방학', 13), ('마드레느', 77), ('퍽퍽해', 15), ('굿데이', 3), ('춘기', 3), ('트릿', 75), ('오리고기', 16), ('라기보단', 28), ('등원', 62), ('쌉쌀하다', 34), ('이맘때', 21), ('과당', 9), ('프락토', 7), ('올리고당', 71), ('몸쪽', 7), ('괜찬네', 12), ('괜찬으', 4), ('없슴', 12), ('오라', 27), ('냅다', 52), ('외치', 14), ('직렬', 12), ('파이어', 3), ('만이라도', 38), ('구부리', 21), ('쇳소리', 6), ('베넷', 9), ('저고리', 3), ('빨랫감', 22), ('추욱', 7), ('청보리', 5), ('초록빛', 22), ('나뿌', 8), ('손맛', 9), ('전시', 108), ('자력', 105), ('꺾다', 91), ('이상만', 15), ('비드', 13), ('조짐', 12), ('호흡기', 48), ('동의보감', 6), ('버티고', 46), ('엣날', 5), ('열세', 7), ('여덟', 21), ('연월일', 6), ('모과', 23), ('제조업', 11), ('농산', 4), ('전화번호', 28), ('병원균', 3), ('병균', 7), ('조상', 9), ('면력', 5), ('생전', 27), ('오미크론', 7), ('변종', 3), ('중화', 53), ('풍속', 10), ('뒤죽박죽', 28), ('이두', 16), ('잠꾸러기', 4), ('냥바', 7), ('어려워지다', 18), ('합의', 10), ('말썽', 32), ('달빛', 12), ('오설록', 24), ('들보', 49), ('황산', 19), ('제제', 14), ('해조', 3), ('강황', 36), ('발안', 14), ('뽀루지', 8), ('트린트먼트', 63), ('빠삭', 13), ('델꼬', 4), ('문짝', 101), ('매진', 17), ('사이좋다', 24), ('바싹', 61), ('ㅋㅋㅋㅋㅋㅋㅋㅋㅋ', 69), ('개이득', 39), ('그득그득', 3), ('상호작용', 13), ('요동', 3), ('내과', 7), ('피나', 16), ('요구사항', 7), ('역효과', 6), ('예보', 3), ('화창하다', 5), ('버핑타월', 17), ('본넷', 13), ('방울방울', 8), ('수력', 31), ('초고', 39), ('겨자', 54), ('발아', 44), ('시접', 13), ('면지', 15), ('으로나', 75), ('하비', 27), ('이바지', 9), ('어정쩡', 3), ('실가', 4), ('스트레이트', 32), ('만성', 26), ('대학원', 4), ('박카스', 13), ('타우린', 44), ('갸우뚱', 16), ('퍼퓸', 141), ('랑방', 29), ('에끌라쥬', 3), ('단언', 4), ('알리', 32), ('배신', 41), ('연관', 35), ('사업', 60), ('희한하다', 31), ('손씻기', 19), ('몽실몽실', 5), ('환경보호', 17), ('파가', 18), ('제자리', 59), ('노곤', 14), ('버디', 8), ('삐죽하다', 4), ('칫솔질', 99), ('뇨끼', 159), ('크림소스', 12), ('범보', 31), ('역방쿠', 30), ('피셔', 47), ('식판', 157), ('애쓰다', 48), ('택했어', 5), ('우렁차', 7), ('오레오', 11), ('가타', 24), ('출고', 80), ('최신', 139), ('월등하다', 57), ('희소성', 3), ('유니크', 18), ('헤비', 25), ('슬픔', 19), ('외면', 14), ('내면', 78), ('주인공', 21), ('각별히', 12), ('극치', 5), ('황홀하다', 9), ('꽃봉오리', 5), ('화병', 26), ('나흘', 8), ('꽃내음', 4), ('꽃집', 33), ('행인', 4), ('시인', 14), ('피기', 9), ('도정', 153), ('맵쌀', 31), ('보렵', 30), ('갠찮', 17), ('구리다', 59), ('ㅜㅜㅠ', 7), ('세포막', 4), ('다량', 66), ('율도', 34), ('밀키스', 4), ('쿠첸', 60), ('도구로', 27), ('다재다능하다', 10), ('외국인', 10), ('한국어', 49), ('팔방', 27), ('미인', 14), ('멋쟁이', 9), ('서일', 16), ('고깃집', 21), ('흠칫', 13), ('회식', 12), ('자태', 11), ('쫠깃쫠깃', 4), ('항산화물질', 15), ('베타글루칸', 40), ('수용성', 45), ('억제시키다', 9), ('항염', 28), ('더불다', 99), ('청소년', 77), ('갱년기', 89), ('중년', 31), ('시큰둥', 8), ('터널', 52), ('슬개골', 120), ('탈구', 48), ('각기', 20), ('냉동기', 3), ('삿더', 7), ('대기전력', 37), ('딸그락', 4), ('플락', 3), ('전력량', 59), ('큐빅', 9), ('흩다', 13), ('형님', 22), ('해대', 12), ('식당가', 17), ('낑기다', 50), ('프로스펙스', 14), ('마킹', 25), ('단조롭다', 22), ('페리', 17), ('지니다', 35), ('유해하다', 62), ('얕다', 70), ('박테리아', 58), ('배설물', 5), ('대부', 4), ('분다', 11), ('평정', 5), ('두두', 16), ('달걀후라이', 24), ('촛불', 80), ('시늉', 28), ('듀플', 20), ('생일케이크', 13), ('ㄱㄴㄷ', 19), ('몬테소리', 24), ('꽃았', 6), ('수십', 88), ('리조트', 15), ('실내수영장', 6), ('제왕', 10), ('구래', 32), ('ㅅㄹ', 4), ('지폐', 14), ('메니큐어', 16), ('모스', 5), ('원조', 30), ('선두', 9), ('주자', 25), ('신혼부부', 28), ('래피드', 6), ('에까지', 52), ('노안', 19), ('적정하다', 28), ('세모', 91), ('토대', 27), ('아이리스', 38), ('여닫이', 21), ('누수', 47), ('아버님', 52), ('요란하다', 34), ('아오', 58), ('리사', 16), ('집밥', 47), ('로에베', 18), ('당체', 8), ('위산', 15), ('보유', 62), ('베틀', 5), ('에서의', 80), ('고작', 31), ('쫌더', 20), ('회끼', 3), ('보이시', 44), ('퍼스', 45), ('포름알데히드', 14), ('엑설런트', 13), ('땅김', 4), ('포뮬', 7), ('모유', 74), ('유지시', 32), ('라이즈', 11), ('레닌', 3), ('가수분해', 35), ('당단백질', 3), ('조말', 8), ('취해', 13), ('쪼꼬매', 5), ('밥알', 49), ('효리', 12), ('민박', 14), ('지난주', 43), ('변압기', 7), ('거뭇거뭇', 53), ('치와와', 47), ('누굴', 8), ('슬링', 82), ('담요', 113), ('히츠', 13), ('영하', 40), ('보송보송하다', 66), ('본연', 116), ('여태껏', 41), ('저당', 9), ('무가당', 30), ('코코아파우더', 5), ('알룰', 34), ('체당', 21), ('ㅠㅎㅎ', 14), ('사우나', 25), ('스튜', 12), ('별수', 12), ('캣맘들', 6), ('투하', 39), ('무국', 21), ('국용', 4), ('슴슴', 11), ('부전', 9), ('미취', 15), ('대끼다', 3), ('에게로', 4), ('대국', 218), ('순대', 153), ('자그마하다', 43), ('계심', 19), ('머릿고기', 9), ('원샷', 60), ('구천구백원', 5), ('야생', 6), ('토종', 9), ('꿀벌', 41), ('송편', 12), ('참깨', 37), ('버무린', 4), ('반듯이', 7), ('시반', 25), ('버무린후', 3), ('팽창', 13), ('협소', 13), ('우리말', 8), ('장난꾸러기', 6), ('책정', 19), ('테마', 20), ('쫀득하', 34), ('이치', 58), ('꼇다', 5), ('맨입', 6), ('마상', 15), ('슬랙스', 58), ('후디', 3), ('쇼츠', 9), ('전번', 16), ('병사', 13), ('은정', 7), ('가짜', 69), ('라이더', 5), ('픽업', 13), ('불쾌', 6), ('혼잣말', 4), ('제스쳐', 4), ('손수', 25), ('헬멧', 9), ('안시', 25), ('이라기보단', 21), ('제조품', 8), ('팩안', 4), ('산속', 5), ('힘좀', 15), ('즌데', 7), ('무렵', 75), ('완제', 110), ('퍼입니', 4), ('멥쌀', 28), ('신동진', 5), ('통실통', 4), ('어디껀', 3), ('뭥미', 9), ('자알', 17), ('치석제거', 98), ('네추럴', 14), ('분비물', 71), ('톱밥', 47), ('사진첩', 23), ('불규칙하다', 23), ('쿨하다', 30), ('코롱', 12), ('매해', 25), ('생쇼', 7), ('기하', 22), ('ㅎㅏ', 9), ('우여곡절', 17), ('기함', 8), ('축축', 38), ('가디건', 25), ('넥타이', 12), ('후크', 103), ('에서부터', 96), ('매실', 253), ('퍼렇다', 29), ('리프트', 21), ('포르테', 18), ('실링', 63), ('리치', 32), ('리포솜', 9), ('레티날', 26), ('연고', 46), ('객관', 66), ('엔진오일', 119), ('엑셀', 30), ('가시도', 32), ('도서관', 14), ('자고로', 7), ('장조림', 46), ('꾸욱눌러', 5), ('구명', 15), ('꽉끼', 15), ('보행기', 22), ('주둥이', 90), ('지리다', 22), ('쉬움', 115), ('엘리베이터', 23), ('경찰', 35), ('초경', 10), ('체외', 6), ('왈칵', 30), ('행각', 3), ('레귤러형', 3), ('일품', 92), ('중시', 17), ('본향', 5), ('플랫', 14), ('요일', 26), ('아다리', 18), ('의상', 25), ('안제', 31), ('나위', 51), ('승부', 12), ('페이퍼', 73), ('힘빠지다', 10), ('서예', 3), ('스툴', 8), ('일인', 101), ('위함', 49), ('트려', 12), ('발매', 49), ('부상', 16), ('컨테이너', 7), ('주류', 5), ('미실', 215), ('실의', 42), ('철렁', 11), ('요안', 24), ('파닥거리다', 7), ('이소리', 20), ('재봉', 48), ('폴리오', 22), ('이북', 4), ('다이어리', 79), ('혼스', 24), ('열처리', 30), ('동거', 11), ('햇습니', 60), ('플랙스', 3), ('코렐', 54), ('부딛히다', 6), ('흐릿', 19), ('하달', 10), ('사무소', 7), ('유난', 7), ('전업', 13), ('와트', 116), ('뒤론', 29), ('별탈', 25), ('문외한', 5), ('머시', 4), ('상회', 45), ('년산', 15), ('햇곡', 6), ('정일', 21), ('끊임없다', 40), ('말라가', 4), ('모루', 126), ('클리어', 176), ('불투명', 35), ('반질반질', 15), ('애플팬슬', 11), ('팬슬', 34), ('스페이스', 22), ('꼽자', 54), ('앞면', 33), ('삭도', 5), ('꼬박', 35), ('차만', 30), ('제조업체', 18), ('캄캄하다', 11), ('어처구니', 15), ('협찬', 24), ('유브', 12), ('만오천원', 33), ('수험생', 25), ('감격', 52), ('동음', 3), ('그랬더니', 84), ('고여', 68), ('땡깡', 3), ('부리고', 7), ('들키다', 15), ('전만', 13), ('영배', 3), ('형도', 22), ('홀라당', 19), ('길쭉', 8), ('받아쓰기', 10), ('스포티지', 34), ('또르르', 58), ('이노시톨', 4), ('라피', 49), ('꼬불꼬불', 4), ('카트리지', 106), ('스몰', 64), ('결함', 57), ('뷔페', 14), ('눈사람', 14), ('궁금', 43), ('었어', 12), ('몽글몽글', 26), ('하고프다', 52), ('눌때', 3), ('새까맣다', 25), ('끌함', 6), ('에서까지', 3), ('수백', 26), ('소만', 7), ('키토', 33), ('중쇄', 3), ('분별', 12), ('유일', 20), ('업소', 14), ('어니스트', 10), ('에잇', 19), ('계위', 7), ('어둠', 21), ('걸사', 29), ('놀랏어', 11), ('롤업', 10), ('왕란', 106), ('텁텁한데', 4), ('산미', 143), ('여비', 4), ('파도풀', 5), ('수나', 10), ('포대', 34), ('종이테이프', 4), ('려니', 41), ('제지', 60), ('날씬', 23), ('전복', 29), ('물광', 14), ('읍니', 124), ('귀걸이', 31), ('소감', 64), ('햇구', 21), ('숙지', 78), ('해진', 31), ('들러붙어서', 25), ('연성', 28), ('들러붙다', 135), ('휴식시간', 3), ('단수', 26), ('다면', 14), ('양해', 43), ('사느랗다', 21), ('애비', 10), ('일관', 7), ('제시', 24), ('미라', 10), ('가산', 13), ('으로가', 22), ('캡쳐', 22), ('맛보기', 21), ('케첩', 19), ('머뭇거리다', 5), ('고정관념', 9), ('스마트워치', 32), ('아몰레드', 3), ('태양', 18), ('내리쬐다', 3), ('식상하다', 10), ('포화', 27), ('부추기다', 3), ('사이클', 12), ('년후', 18), ('슬림해', 35), ('그라파이트', 20), ('컨셉', 23), ('엠블럼', 7), ('면접', 22), ('바지라', 11), ('립법', 13), ('초인종', 9), ('움찔', 10), ('아뿔싸', 9), ('디노', 3), ('옹이', 8), ('입덧', 18), ('찬기', 19), ('대문짝만하다', 6), ('송장', 120), ('마리나', 12), ('타르소스', 10), ('콕콕', 35), ('딸도', 74), ('겹치', 24), ('라기보다는', 23), ('기우뚱', 21), ('두둑', 43), ('스터드', 5), ('쿠커', 40), ('보강', 33), ('미타', 9), ('소독제', 32), ('난생처음', 15), ('생화', 75), ('삿어용', 4), ('비씨', 6), ('햇음', 21), ('대론', 10), ('비우기', 12), ('드렉텍', 6), ('기어', 97), ('타격', 11), ('촘촘해', 45), ('역쒸', 3), ('이시고', 4), ('시기하다', 15), ('이듭', 23), ('구배', 3), ('쩐내나', 14), ('산폐', 5), ('리라', 16), ('정정', 19), ('손꼽다', 12), ('어휴', 36), ('덜컹', 39), ('위탁', 9), ('아침햇살', 5), ('피토', 21), ('테라', 93), ('동백나무', 5), ('새치', 26), ('소용없다', 55), ('희소식', 4), ('어두운곳', 18), ('빨때', 33), ('인스', 3), ('과산화수소', 3), ('딱풀', 9), ('치한', 11), ('선뜻', 35), ('보송보송', 62), ('비트', 61), ('유량', 15), ('옥살산', 3), ('결석', 19), ('가급적', 74), ('잘라먹다', 23), ('한국사', 30), ('글밥', 43), ('삿네', 12), ('막대기', 33), ('빠방', 18), ('흉내내', 14), ('살충제', 15), ('웬일', 15), ('본기', 23), ('링고', 5), ('뽀롱뽀롱', 3), ('마을', 38), ('펌핑후', 4), ('소지', 23), ('인편', 9), ('고저', 11), ('파니니', 12), ('힌번', 6), ('무턱', 16), ('드가', 8), ('백열전구', 3), ('전기기사', 3), ('빨판', 21), ('상전', 15), ('덕함', 39), ('누룽지', 38), ('곡식', 14), ('장난감가게', 13), ('인내심', 48), ('밖엔', 14), ('에게나', 15), ('청개구리', 5), ('유도체', 3), ('자극받다', 8), ('우리땅', 6), ('선별', 41), ('어떻', 110), ('정이안', 5), ('묘미', 5), ('판결', 4), ('꼬릿', 14), ('브래지어', 33), ('옷테', 3), ('와이어', 124), ('변형도', 17), ('조리도', 71), ('아뮤', 4), ('꼭대기', 25), ('딩동펫', 32), ('토스', 16), ('헤파필터', 29), ('핫멜트', 17), ('칠리', 14), ('이이', 25), ('이이이', 6), ('포코', 11), ('통기다', 54), ('삑삑', 60), ('바코드', 23), ('딸램', 142), ('어쩝', 7), ('만용', 6), ('플래티넘', 7), ('과격하다', 14), ('말짱하다', 33), ('서머', 4), ('만큼이라도', 4), ('능거', 13), ('킁킁거리다', 19), ('수딩젤', 18), ('줄걸', 5), ('태열', 48), ('기미', 101), ('이제일', 5), ('가닥가닥', 5), ('솟아오르다', 11), ('쏠리다', 155), ('야들야들하다', 28), ('황토', 42), ('고로', 55), ('자도', 102), ('제어', 69), ('엇음', 13), ('무뎌져', 20), ('또르', 13), ('좁쌀', 73), ('조마조마하다', 55), ('불리', 115), ('십대', 5), ('통계', 3), ('파트', 33), ('수의', 25), ('능력', 133), ('상급', 12), ('운반', 38), ('목표', 57), ('코데즈', 28), ('시럽', 227), ('크렌베리', 28), ('바프', 17), ('안질리다', 13), ('시렁', 21), ('밤시', 17), ('진액', 37), ('둘찌', 28), ('세팅해', 9), ('단것', 40), ('스텐펜', 4), ('환산', 8), ('재야', 23), ('카페트', 53), ('둘러앉다', 3), ('다다다', 26), ('사악', 18), ('눌림', 53), ('동향', 5), ('조리기구', 32), ('트린트', 3), ('먼트', 8), ('무족', 11), ('임펜', 17), ('정비사', 7), ('연구소', 15), ('배제', 33), ('조밀하다', 13), ('살결', 11), ('아홉', 18), ('북향', 3), ('청록색', 5), ('헤프', 86), ('스냅', 11), ('기관차', 8), ('표고버섯', 27), ('남자에게', 8), ('실기', 13), ('별것', 10), ('머릿', 11), ('경운', 9), ('영영', 6), ('우아', 21), ('편차', 37), ('뚫어지다', 26), ('매달리다', 53), ('불찰', 21), ('시츄', 39), ('흥분', 10), ('무궁무진', 15), ('벌꿀', 296), ('잡화', 28), ('칼칼하다', 87), ('요플레', 58), ('귀하다', 30), ('보물', 16), ('산내', 60), ('농원', 54), ('페트병', 32), ('바비큐', 63), ('파츠', 45), ('호환용', 5), ('폭팔', 9), ('년초', 3), ('골치', 28), ('괞찮', 7), ('거론', 5), ('틀려지다', 13), ('선행', 10), ('규칙', 36), ('부록', 7), ('초초', 13), ('신용', 10), ('화강암', 9), ('빻아지', 3), ('깨소금', 15), ('스턴', 14), ('어쩜이리', 5), ('참외', 5), ('장아찌', 11), ('쓸모없다', 20), ('푸르스름', 6), ('그림자', 19), ('부시다', 38), ('직진', 18), ('패킹', 155), ('삼촌', 30), ('브이텍', 54), ('디쉬', 24), ('트리나', 12), ('휴먼', 29), ('그레이드', 33), ('외동', 12), ('파묻다', 6), ('이스트', 21), ('동물병원', 40), ('하마', 45), ('벤토', 70), ('냥바냥', 5), ('ㅡㅡㅡㅡㅡㅡㅡㅡㅡㅡ', 21), ('열두', 4), ('스카치테이프', 13), ('애플비', 25), ('모노', 4), ('필히', 49), ('찡그리다', 14), ('모금', 78), ('효자', 58), ('체육관', 121), ('이만원', 51), ('부스럭', 31), ('인사말', 7), ('칠이', 61), ('미라클', 44), ('보톡스', 7), ('눈꺼풀', 11), ('필러', 11), ('해변', 5), ('공존', 17), ('싰는데', 3), ('부러워하다', 16), ('헬스장', 65), ('모바일', 27), ('동기부여', 15), ('체성', 49), ('체지방률', 40), ('체증', 3), ('골격', 48), ('근량', 24), ('요요', 24), ('고성능', 19), ('동맥경화', 21), ('용성', 5), ('배아', 9), ('리놀레산', 6), ('정화', 66), ('솜씨', 27), ('버렷어', 7), ('애니멀', 23), ('와일드', 121), ('체인지', 8), ('한순간', 23), ('공사', 53), ('주글주글하다', 4), ('지퍼락', 10), ('와콤', 21), ('각거리', 12), ('따윈', 13), ('대시보드', 24), ('해나', 6), ('바하', 8), ('벨크', 14), ('멍청하다', 20), ('금일', 10), ('콧등', 13), ('조으니', 3), ('광대뼈', 8), ('까슬거림', 6), ('노노', 58), ('착오', 19), ('채운', 47), ('페달', 49), ('ㅠㅠㅋ', 26), ('헹구면', 5), ('헹구는데', 9), ('앰버', 17), ('클리퍼', 46), ('바비', 42), ('똥꼬', 49), ('가용', 62), ('발미', 3), ('자칫하면', 26), ('그루밍', 20), ('뚱냥', 11), ('무서움', 21), ('뒤척거리다', 11), ('아주머니', 15), ('ㅎㅎㅎㅎㅎㅎ', 41), ('차보', 13), ('리필품', 4), ('파라다이스', 26), ('색상표', 5), ('도톰도톰하다', 3), ('속성', 38), ('솔질', 22), ('목격', 9), ('젠데', 6), ('게또', 3), ('신의한수', 11), ('요정', 56), ('새싹', 85), ('고아', 15), ('점화', 38), ('꿀꺽', 51), ('다음해', 3), ('헛도', 6), ('산전', 30), ('이파리', 20), ('무성', 8), ('짓눌리다', 10), ('한단', 29), ('어림', 18), ('꽃다발', 71), ('중상', 22), ('싸레기', 3), ('음서', 8), ('엉엉', 16), ('제습기', 86), ('노리다', 34), ('드럭스토어', 7), ('펌핑할', 4), ('찔끔', 81), ('펌핑하', 52), ('대여섯', 17), ('젓병', 6), ('전시회', 3), ('써밨는데', 3), ('평작', 5), ('하마터면', 14), ('백종원', 29), ('유튭', 47), ('신도', 5), ('퍼스트', 20), ('미모', 5), ('장착전', 3), ('두우', 3), ('유턴', 7), ('휘휘', 38), ('커피믹스', 23), ('타로카드', 33), ('대나무', 18), ('엇어', 47), ('헤메', 15), ('수제비', 39), ('압력솥', 100), ('압력밥솥', 88), ('만만', 25), ('삼계탕', 23), ('대성공', 53), ('촤르르', 6), ('소갈비찜', 3), ('내색', 4), ('딸아', 16), ('안기다', 60), ('계정', 22), ('추강', 81), ('천차만별', 75), ('아침밥', 33), ('김치볶음밥', 19), ('만남', 21), ('깍두기', 24), ('자빠지다', 13), ('ㅎㄷㄷ', 38), ('롤리', 8), ('순위도', 5), ('큰딸', 33), ('입병', 9), ('팔팔팔', 3), ('발암', 64), ('유조', 24), ('적중', 4), ('닭다리', 17), ('정육', 10), ('악의', 3), ('서진', 5), ('깨알', 30), ('물리', 102), ('덮힌', 3), ('스판기', 22), ('노오랗', 8), ('겉잎', 46), ('한결같이', 8), ('둘째딸', 8), ('스판끼', 26), ('사과주스', 5), ('놀림', 12), ('너비', 130), ('생약', 4), ('고살', 9), ('똥망', 7), ('덕트', 13), ('방출', 30), ('한소리', 19), ('짠지', 15), ('강하니', 8), ('햅썹', 7), ('정가', 72), ('여자도', 24), ('칭칭', 20), ('숨숨', 7), ('부숴질', 5), ('올라타다', 19), ('바이어스', 5), ('청정기', 14), ('쩐내', 64), ('몬드', 17), ('이상인', 27), ('텔레비전', 19), ('에그', 69), ('가신', 10), ('평균키', 5), ('꼬옥', 63), ('일동제약', 28), ('분당', 16), ('교수', 6), ('자문', 11), ('책좀', 3), ('시어', 8), ('접목', 6), ('글라이드', 18), ('만듬새', 26), ('인테그럴', 4), ('원판', 7), ('확인가능', 16), ('죠아', 4), ('후질', 3), ('근해', 9), ('행운', 31), ('태생', 6), ('히팅', 14), ('헹군뒤', 4), ('하듯', 15), ('또띠아', 28), ('캔들', 118), ('무화과', 13), ('향임', 14), ('부비', 17), ('사가다', 49), ('수년', 43), ('매연', 16), ('번호판', 22), ('되돌리기', 4), ('교차', 38), ('빌다', 46), ('남짓하다', 9), ('가분', 3), ('특급', 7), ('스타트', 29), ('미음', 47), ('새록새록', 14), ('분전', 32), ('니즈', 7), ('개월일', 8), ('퓨레', 71), ('배냇', 10), ('선샤인', 53), ('허그', 3), ('레드베리', 4), ('탈지', 7), ('백퍼', 44), ('두서너', 4), ('하늘하늘', 11), ('내츄럴', 16), ('스트로', 32), ('온천', 5), ('에끼', 7), ('넥튜브', 7), ('놨더', 22), ('팔걸이', 41), ('훨씩', 4), ('리진', 15), ('광명', 17), ('하루하루', 68), ('비스듬하', 12), ('바운', 58), ('딸둘맘', 6), ('치자', 9), ('분노', 12), ('엽서', 11), ('글자판', 3), ('멘탈', 12), ('비닐봉투', 68), ('싫어지다', 35), ('일후', 56), ('운동량', 13), ('둔하다', 38), ('수려', 6), ('디테일', 134), ('전지', 14), ('기울기', 18), ('영점', 30), ('소수점', 27), ('지표', 12), ('몸뚱이', 13), ('측정값', 16), ('격차', 5), ('명상', 3), ('트레이닝', 18), ('상속', 20), ('뒹굴', 50), ('스마', 55), ('습보', 25), ('모찌', 37), ('타치', 13), ('착불', 6), ('놨어', 32), ('찧다', 34), ('삿음', 8), ('밀러', 8), ('이러니', 43), ('수선', 53), ('돈좀', 17), ('가안', 51), ('에폭시', 3), ('캐시미어', 23), ('살듯', 5), ('칭구', 12), ('이뻐욤', 4), ('단정하다', 27), ('콩국수', 59), ('자안', 6), ('터저', 3), ('버렀', 3), ('맙시', 46), ('한도', 12), ('맥북에어', 4), ('간나', 9), ('차단효', 11), ('훌륭', 23), ('트렌드', 16), ('가속', 33), ('투입', 69), ('박해', 17), ('하늘거리다', 5), ('껀줄', 12), ('시나몬', 22), ('잡꿀', 5), ('자녀', 65), ('잠수', 40), ('해답', 5), ('어학', 3), ('과외', 5), ('할애', 8), ('독서', 32), ('아이러니', 21), ('취지', 6), ('열정', 31), ('뒷받침', 6), ('갈피', 3), ('예시', 42), ('유혹', 22), ('코바', 4), ('이채', 5), ('활약', 6), ('당부', 20), ('씌어', 8), ('권해', 17), ('갉다', 27), ('펫샵', 5), ('소름끼치다', 25), ('둘러싸다', 6), ('처서', 10), ('산패', 44), ('이츰', 4), ('개님', 31), ('갈겨', 3), ('멍뭉이', 23), ('평인', 5), ('폭우', 12), ('ㅋㅋㅋㅋㅋㅋㅋㅋㅋㅋㅋㅋㅋㅋㅋㅋㅋㅋㅋㅋㅋㅋ', 4), ('ㅋㅋㅋㅋㅋㅋㅋㅋㅋㅋㅋㅋㅋㅋㅋㅋㅋ', 5), ('웨딩촬영', 3), ('시각', 103), ('정리정돈', 26), ('어질어질하다', 7), ('케릭', 29), ('뿌셔', 8), ('모라', 41), ('반전', 27), ('플라그', 25), ('오랄', 109), ('검진', 50), ('안됫다', 3), ('쪼꼬만', 5), ('라나', 25), ('히노끼', 6), ('마인드', 41), ('지아', 13), ('싼값', 70), ('가렵니', 7), ('쓸개', 25), ('화사', 11), ('답장', 20), ('한송이', 20), ('원더', 86), ('참사', 55), ('험난하다', 7), ('여정', 14), ('잡아가다', 6), ('후년', 3), ('블랭킷', 16), ('ㄷㅏ', 10), ('들들', 8), ('유공', 17), ('락스', 73), ('국밥', 44), ('섭렵', 10), ('충성', 16), ('무얼', 21), ('집의', 40), ('박지', 12), ('짐승', 44), ('사투', 5), ('허겁지겁', 23), ('더구나', 35), ('드라잉', 31), ('스윽', 33), ('극적', 25), ('코멘트', 11), ('크레인', 40), ('견인', 26), ('전집', 68), ('용감하다', 15), ('못지않다', 38), ('인성', 12), ('탐구', 7), ('의성어', 22), ('의태어', 12), ('권한', 10), ('지루함', 12), ('헬리콥터', 18), ('피톤치드향', 8), ('빵류', 4), ('휴무', 9), ('주전부리', 38), ('저녁식사', 22), ('델리', 3), ('통팥', 14), ('막걸리', 15), ('목금', 8), ('체용', 11), ('슴슴하', 3), ('삐뚤어지다', 23), ('맞벌이', 18), ('ㄱㅣ', 7), ('능이', 84), ('조음', 25), ('제과점', 23), ('대항', 6), ('칸쵸', 256), ('흡연', 30), ('미용사', 11), ('일반인', 34), ('카템', 13), ('충돌', 14), ('특허', 57), ('절차', 27), ('어우르다', 11), ('메모리', 76), ('꺾임', 5), ('결리다', 20), ('꾸벅꾸벅', 4), ('한아름', 3), ('모양새', 31), ('골로', 6), ('땅땅', 21), ('만발', 7), ('기온', 40), ('통후추', 22), ('구시', 3), ('코끝', 13), ('수육', 90), ('짬밥', 4), ('아유', 49), ('쿠로', 28), ('표고', 5), ('진국', 13), ('괴기', 5), ('진수', 4), ('니야', 4), ('쌀국수', 8), ('으악', 18), ('설마설마', 22), ('헹굴때', 52), ('수축', 32), ('백만원', 21), ('애플스토어', 6), ('요점', 20), ('발표', 15), ('질레트', 98), ('베인', 22), ('넘겨받다', 3), ('폼클렌징', 71), ('봉고', 15), ('꿈치', 25), ('천년', 12), ('고대', 23), ('신비', 11), ('생략', 60), ('서치', 92), ('터키', 30), ('케나', 4), ('호라산', 53), ('툭툭', 77), ('매품', 15), ('헤드레스트', 34), ('이쑤시개', 20), ('직물', 8), ('본의', 18), ('차용', 18), ('어좁', 3), ('민희', 9), ('ㅠㅅㅠ', 16), ('정독', 43), ('있네욤', 5), ('타자', 18), ('겹침', 5), ('연로', 10), ('고세', 3), ('픽해', 6), ('였음', 14), ('빈대', 8), ('에부터', 4), ('어째서', 9), ('따숩', 25), ('윤활유', 6), ('식겁', 13), ('펌웨어', 3), ('삽질', 7), ('불리하다', 8), ('이글', 52), ('카피', 14), ('마안', 39), ('청량감', 29), ('골목', 8), ('쥐약', 5), ('어르다', 98), ('개량', 14), ('시행착오', 31), ('중력', 12), ('분과', 33), ('바글바글', 16), ('수북하다', 13), ('티스푼', 29), ('전해지다', 25), ('수위', 20), ('실시간', 43), ('활성화', 72), ('스레', 37), ('몰이', 7), ('환경문제', 4), ('생걱', 4), ('살기', 50), ('환시', 4), ('내보내다', 21), ('배수', 127), ('풍구', 16), ('끝일', 4), ('볼록이다', 4), ('척도', 25), ('녹물', 72), ('워셔블', 6), ('생갇', 5), ('보편화', 3), ('최고다', 30), ('보틀', 29), ('레몬이', 26), ('더부', 5), ('모하', 7), ('타임세일', 16), ('에일', 5), ('책가방', 11), ('엔젤', 37), ('통신사', 52), ('부준', 4), ('빨강이', 22), ('쫙쫙', 76), ('화기', 13), ('애하', 4), ('선생', 12), ('후렉션', 4), ('이래도', 37), ('살아가다', 49), ('견생', 4), ('살아오다', 19), ('이집', 34), ('떠돌다', 5), ('초소', 14), ('체구', 14), ('예후', 3), ('절뚝', 7), ('발도', 46), ('하네욤', 3), ('그러므로', 18), ('꾸역꾸역', 44), ('덕지덕지', 89), ('침독', 19), ('군인', 13), ('쑤욱', 17), ('스카프', 21), ('노가다', 11), ('호강', 7), ('맥과이어', 3), ('석유', 34), ('경화', 21), ('보닛', 10), ('라이딩', 10), ('트레킹', 7), ('만큼만', 82), ('서주니', 6), ('짝짝', 23), ('티눈', 4), ('마법사', 3), ('제입', 98), ('유속', 6), ('혐오', 9), ('삭제', 43), ('양재동', 49), ('만큼이나', 56), ('부사', 10), ('블라썸', 20), ('눈팅', 46), ('작렬', 20), ('아미', 44), ('사골', 64), ('발포', 28), ('짭짭', 3), ('미당', 9), ('흐물거림', 9), ('샤시', 14), ('냉온', 33), ('긁힌자국', 6), ('새재', 12), ('거릴때', 5), ('소름', 23), ('상콤', 34), ('조리법', 82), ('말리부', 5), ('유방', 4), ('버키', 21), ('발끝', 33), ('바오밥', 46), ('용수철', 12), ('맛탱', 3), ('무리수', 4), ('이하고', 18), ('포화상태', 4), ('전세', 6), ('계피', 19), ('한주', 13), ('피칸', 31), ('깜짝깜짝', 15), ('하동', 4), ('훅훅', 28), ('투폰', 3), ('스멀스멀', 23), ('빈자리', 6), ('인들', 43), ('다려지다', 30), ('남방', 20), ('삭해', 8), ('솜사탕', 20), ('냐옹', 30), ('락피', 70), ('하반기', 8), ('지긋지긋하다', 8), ('위드', 13), ('마음속', 8), ('울면', 19), ('찡찡대다', 3), ('벅차다', 22), ('땡큐', 25), ('페이', 98), ('써봣는데', 26), ('복부비만', 13), ('뚱땡이', 9), ('뚱뚱이', 4), ('초코우유', 160), ('년대', 23), ('아우르다', 13), ('권고', 18), ('재촉', 8), ('큰손', 7), ('글캐', 4), ('오랫', 67), ('소규모', 8), ('어쩌면', 49), ('싸움', 33), ('인척', 11), ('눈병', 5), ('던지기', 22), ('과거', 64), ('수경', 150), ('여울', 6), ('향후', 18), ('상대방', 20), ('안짝', 3), ('엘이디', 27), ('연결봉', 15), ('흥이', 10), ('탈선', 5), ('급제', 4), ('야물다', 9), ('ㅂㄷㅂㄷ', 9), ('그래픽', 49), ('젠더', 13), ('부스러지다', 52), ('전립선', 71), ('포트리스', 8), ('로맨틱', 10), ('컬렉션', 11), ('무스', 42), ('릴리', 51), ('고발', 12), ('남도', 7), ('아부지', 48), ('리보', 30), ('어지러움', 30), ('나타', 8), ('항수', 5), ('금도', 20), ('병용', 6), ('부드', 4), ('헹궈져', 5), ('백색', 76), ('부등', 3), ('남아돌다', 13), ('발광하다', 4), ('두드러기', 55), ('포켄스', 67), ('보송', 9), ('간반', 10), ('한스', 13), ('무장', 5), ('마오', 3), ('물의', 79), ('쪼오끔', 5), ('끈끈해', 4), ('발밑', 8), ('화남', 21), ('올린다', 20), ('상업', 7), ('상형문자', 3), ('무기질', 26), ('거대', 8), ('설익다', 16), ('갠츈', 13), ('불타다', 4), ('박템', 9), ('중임', 55), ('음부', 20), ('손세정', 7), ('헤푸', 4), ('노멀', 7), ('자형', 34), ('싱가포르', 3), ('여행자', 3), ('증명', 16), ('귀국', 13), ('부스', 27), ('ㅇㅔ', 6), ('타닥타닥', 6), ('짭잘하다', 12), ('겉모습', 24), ('캐온', 4), ('생생하다', 50), ('쫀득해', 21), ('따끈하다', 86), ('분초', 18), ('매년', 74), ('하내', 29), ('허걱', 10), ('오르락', 31), ('라가', 24), ('확산', 11), ('이태리', 23), ('역사', 69), ('문화', 21), ('민족', 13), ('주택', 66), ('집집', 34), ('스리', 26), ('족저근막염', 6), ('타구', 9), ('더라구요', 55), ('잠식', 6), ('독서실', 28), ('약과', 26), ('말티', 65), ('놀랏', 4), ('놀랏네', 8), ('걸왜', 10), ('되돌리다', 18), ('날렵하다', 9), ('비로소', 7), ('차암', 7), ('입베', 3), ('싱싱', 27), ('바게트', 20), ('여겨지다', 26), ('탕기', 3), ('고슬고슬하다', 19), ('티맛', 6), ('표피', 14), ('원정', 27), ('살로', 22), ('마흔', 9), ('구간', 33), ('부적', 4), ('일루', 5), ('이임', 10), ('쭈굴', 3), ('ㅠㅠㅜㅜ', 4), ('기스날', 4), ('기스나', 32), ('잼팟', 28), ('맞은편', 7), ('품격', 27), ('밋밋하다', 60), ('군침', 10), ('민찌', 6), ('타코', 12), ('맥시', 10), ('함박스테이크', 4), ('자전', 6), ('청량고추', 16), ('믹싱', 12), ('완자', 12), ('설연휴', 4), ('육질', 41), ('경로', 12), ('어선', 5), ('헌혈', 13), ('게우다', 24), ('페어', 52), ('밤부', 13), ('바늘', 87), ('나사못', 24), ('장볼', 3), ('무관심하다', 5), ('기린', 21), ('모가지', 14), ('에게만', 20), ('백김치', 27), ('산고', 4), ('정물', 17), ('결합후', 3), ('부메랑', 13), ('삼각형', 47), ('우위', 4), ('밤꿀', 49), ('벌스', 3), ('비딩', 36), ('리모', 10), ('여파', 8), ('콧물제형', 5), ('배임', 28), ('다마', 16), ('자영', 4), ('빡싱', 4), ('인류', 5), ('비단', 8), ('평온하다', 15), ('주장', 23), ('귀염뽀짝', 8), ('꼬셔', 13), ('뚤려있어', 11), ('애바애', 18), ('계곡', 23), ('감솨', 3), ('우왓', 6), ('얼씬', 20), ('붇는', 3), ('난잡하다', 7), ('드럼통', 3), ('구나', 100), ('전적', 8), ('김치부침개', 3), ('끈적끈적하다', 18), ('탈락', 35), ('쇠수세미', 5), ('뭐던', 5), ('글쿠', 3), ('그랴', 13), ('츄르식', 7), ('이쯤', 28), ('챠오츄르', 6), ('으르렁', 9), ('밀당', 6), ('침용', 10), ('쫑쫑', 13), ('씨알', 9), ('정신차리다', 23), ('김치전', 15), ('하루빨리', 15), ('매립', 17), ('민중', 10), ('ㅠㅠㅎㅎ', 14), ('단편', 14), ('깍아', 10), ('성인병', 34), ('스쿱', 14), ('아메리카', 7), ('넘침', 49), ('유리하다', 28), ('작성중', 23), ('돈버는', 7), ('코드꼽', 5), ('미지수', 7), ('것임', 28), ('타이거', 100), ('가재', 19), ('트롤리', 66), ('ㄹㅇ', 69), ('크레마', 34), ('카노', 6), ('에세', 13), ('커피전문점', 3), ('비읍', 3), ('가나다', 19), ('바사', 10), ('아자', 12), ('차카', 7), ('가로서다', 6), ('해남', 27), ('농사', 35), ('삼발이', 15), ('직화', 26), ('강화도', 3), ('샛노래', 7), ('조인', 9), ('지레', 6), ('아대', 7), ('데크', 19), ('구조대', 24), ('에피소드', 6), ('달아나다', 14), ('포터', 6), ('로보카', 51), ('대포', 8), ('뽕뽕', 26), ('빌런', 3), ('포차', 5), ('스토리', 85), ('어쩐지', 87), ('상냥하다', 4), ('에디슨', 5), ('만육천원', 13), ('짝짝이', 14), ('부러', 40), ('허무하다', 14), ('휠라', 52), ('이제껏', 40), ('직거래', 4), ('캐모마일', 60), ('감잎', 4), ('병풀', 28), ('일류', 11), ('수상', 9), ('기막히다', 6), ('팥빙수', 18), ('빙수', 42), ('맹탕', 23), ('맹탕입니', 3), ('미원', 8), ('해장국', 21), ('거릅니', 4), ('배민', 6), ('연결고리', 38), ('확연', 50), ('괸찮은거', 3), ('쁘띠', 15), ('목도리', 26), ('캐리비안베이', 3), ('캐비', 5), ('렌트', 4), ('ㅠㅠㅠㅠㅠㅠㅠㅠㅠ', 11), ('바닷가', 41), ('사플', 3), ('평범', 14), ('디스', 13), ('버그', 11), ('따리', 6), ('보태', 68), ('리트', 19), ('부적합하다', 31), ('수분크림', 93), ('끈덕', 3), ('물러서다', 33), ('시니어', 14), ('다견가정', 8), ('뒷다리', 30), ('제인', 34), ('노령', 53), ('구슬', 57), ('세라', 24), ('삼만', 4), ('띠띠뽀', 3), ('누나', 91), ('대성통곡', 5), ('야심', 10), ('통장', 17), ('떳는데', 5), ('홀랑', 13), ('원색', 32), ('울적하다', 4), ('평화', 13), ('힘쓰다', 31), ('화방', 4), ('위안', 51), ('등지', 8), ('노파', 5), ('찰때', 13), ('찰랑', 19), ('컷으', 15), ('싸매다', 13), ('옷방', 75), ('분뒤', 24), ('꼽습니', 5), ('시들시들', 15), ('도루묵', 11), ('소통', 25), ('하연', 8), ('더위', 111), ('생것', 6), ('유리면', 5), ('일그러지다', 7), ('자유로', 4), ('스테비아', 52), ('이니스프리', 48), ('팬더', 7), ('파오', 3), ('메이크업', 116), ('탱크', 32), ('클렌징오일', 10), ('네러메', 3), ('슈퍼슬림', 8), ('피부색', 21), ('쨍하', 58), ('번번', 14), ('서어', 5), ('쪼매', 58), ('게이밍', 8), ('데스크탑', 24), ('이락', 5), ('스카이', 67), ('코감기', 23), ('이비인후과', 3), ('방패', 6), ('넘겨주다', 14), ('슝슝', 36), ('구들', 15), ('물좀', 11), ('드링킹', 24), ('머그', 14), ('릿첼', 10), ('애셋', 4), ('연해', 27), ('젤라틴', 20), ('자의', 48), ('수요', 42), ('급증', 8), ('레시', 25), ('변환', 18), ('놀리다', 89), ('반주', 9), ('어째뜬', 5), ('주황', 114), ('안비', 7), ('꽃대', 11), ('중국말', 8), ('나드라구', 4), ('로얄', 44), ('캐닌', 25), ('쉬바', 7), ('이입', 11), ('지용', 11), ('원자재', 16), ('학생용', 7), ('클레', 11), ('붉은빛', 21), ('유미', 8), ('병들다', 27), ('ㅎㅎㅋㅋ', 5), ('트름', 6), ('안썻', 4), ('가누다', 28), ('파악', 70), ('아민', 8), ('가끔가다', 15), ('리타', 14), ('음매', 8), ('해고', 9), ('장인', 35), ('어회', 14), ('절때', 31), ('레이더스', 17), ('등쪽', 47), ('사시미', 7), ('차려', 36), ('객지', 8), ('참여', 22), ('호주머니', 14), ('에소', 8), ('이군', 36), ('베지밀', 13), ('에스프레소', 161), ('아포가토', 7), ('투껑', 6), ('번들번들', 5), ('가작', 15), ('온종일', 9), ('ㅉㅉ', 6), ('형편', 55), ('가미', 68), ('메들리', 6), ('무브', 34), ('잔털', 41), ('짱구', 15), ('비키니', 46), ('육전', 5), ('망토', 21), ('밸트', 51), ('원점', 3), ('집시', 3), ('방면', 29), ('레인지', 41), ('생도', 7), ('등판', 15), ('우리동네', 13), ('불상', 33), ('오늘이', 37), ('자극시키다', 6), ('사레', 11), ('양갱', 39), ('땠다', 3), ('약정', 38), ('금제', 75), ('알뜰', 33), ('대리점', 24), ('잔치', 23), ('카본', 37), ('침침', 4), ('그래픽카드', 31), ('예스', 37), ('에야', 43), ('까지가', 27), ('금속성', 7), ('ㅜㅜㅋㅋ', 11), ('킬때', 13), ('르르', 8), ('차위', 4), ('이끼', 17), ('바사삭', 12), ('세영', 11), ('허헣', 4), ('할리스', 28), ('재법', 4), ('창의', 23), ('틈틈이', 21), ('케이캅스', 12), ('느글느글', 4), ('휘슬러', 12), ('효가', 6), ('바람나다', 7), ('어중간하다', 39), ('마땅하다', 55), ('둘곳', 17), ('산행', 10), ('야크', 16), ('조깅', 9), ('브라만', 12), ('삼총사', 5), ('트리하우스', 3), ('앙증', 12), ('나가야', 28), ('처참하다', 25), ('숫돌', 3), ('핑갈', 35), ('멜란지', 27), ('윈단', 3), ('플레인', 90), ('엘리스', 4), ('유랑', 6), ('본론', 25), ('월급', 26), ('살좀', 6), ('신년', 4), ('버릇', 67), ('절용', 32), ('준치', 27), ('포화지방', 43), ('곡류', 22), ('가공품', 17), ('다이슨', 47), ('트라고', 11), ('동등', 5), ('복합기', 38), ('덜컥', 31), ('봉하', 4), ('미식', 13), ('병세', 97), ('보약', 28), ('오호', 34), ('위액', 9), ('공연', 9), ('새벽같이', 4), ('골든햄스터', 7), ('드워프햄스터', 3), ('배딩', 25), ('난하다', 6), ('펀하다', 18), ('아키', 4), ('쏘이다', 14), ('매달다', 16), ('팔자', 12), ('벌벌', 8), ('시운전', 9), ('힘껏', 42), ('에라도', 45), ('두리번거리다', 4), ('다듬어지다', 29), ('예고', 5), ('후시', 42), ('아싸', 13), ('예방접종', 11), ('지열', 3), ('피카', 25), ('밀키', 42), ('동공', 7), ('진보', 21), ('조화로', 7), ('동태', 4), ('정치가', 4), ('독립', 37), ('앳플리', 21), ('어플리케이션', 5), ('광폭', 15), ('출입구', 9), ('물빨', 4), ('출입', 9), ('투여', 14), ('환수', 29), ('물잡', 16), ('열대어', 8), ('수류', 17), ('주꾸미', 20), ('ㄷㄷㄷ', 32), ('수영모', 24), ('나유', 12), ('윰차', 16), ('창피', 4), ('창피해', 4), ('파김치', 126), ('까지라고', 11), ('길쭉길쭉', 6), ('중파', 5), ('짜파게티', 12), ('때마', 3), ('초이', 33), ('브래드', 6), ('망고', 94), ('곤욕', 21), ('도블레', 59), ('도마도', 23), ('새삼', 23), ('바꿀껄', 12), ('대반', 24), ('설레임', 4), ('두둥', 18), ('근사하다', 34), ('냉커피', 4), ('운명', 29), ('치인', 16), ('홀로', 22), ('방전', 80), ('과용', 3), ('권유', 54), ('서럽다', 15), ('홍색', 7), ('비계', 44), ('바야바', 3), ('도망', 33), ('까만색', 37), ('난간', 18), ('하사', 4), ('용면', 11), ('왕새우', 7), ('닭도리탕', 7), ('메론', 15), ('체워', 4), ('쪼로록', 9), ('광대', 35), ('코안', 3), ('보로', 12), ('클렌', 35), ('안물', 22), ('보양', 10), ('발라드', 3), ('자제시키다', 3), ('양봉', 15), ('으으', 20), ('루스', 10), ('낙낙', 21), ('구박', 7), ('구미', 114), ('연질', 23), ('인버터', 26), ('세탁소', 88), ('능금', 11), ('아가씨', 19), ('옷태', 4), ('꽁꽁', 58), ('타고나다', 19), ('언덕', 17), ('겉봉', 10), ('소포', 24), ('하나라', 25), ('보건', 35), ('볼쪽', 14), ('인색하다', 5), ('연구원', 11), ('측정기', 46), ('클럽', 6), ('꼬임', 36), ('밀치다', 5), ('미숙아', 3), ('뜰때', 36), ('연보', 7), ('방구', 20), ('대화면', 6), ('버벅임', 9), ('포커', 3), ('피안', 6), ('안통', 24), ('합산', 4), ('볼걸', 12), ('쿤달제품', 29), ('종목', 4), ('리하나', 8), ('ㅡㅡㅡㅡㅡㅡㅡㅡㅡㅡㅡㅡㅡㅡㅡㅡㅡㅡㅡㅡㅡㅡㅡㅡㅡㅡㅡㅡㅡㅡㅡㅡㅡㅡㅡㅡㅡㅡㅡㅡㅡㅡㅡㅡㅡㅡㅡㅡㅡ', 8), ('프로모션', 13), ('머스터드', 56), ('스모키', 10), ('엊그제', 41), ('바서', 7), ('건만', 10), ('기보', 45), ('곡면', 21), ('적신', 39), ('습포', 6), ('베드', 14), ('투머치', 8), ('솔기', 6), ('ㅡㅡㅡㅡㅡㅡㅡㅡㅡㅡㅡㅡ', 14), ('참고서', 3), ('부르트다', 4), ('뜻밖', 8), ('신문지', 80), ('도톰', 44), ('중딸', 9), ('기변', 25), ('발급', 9), ('캐쉬백', 4), ('월욜', 12), ('수욜', 5), ('알뜰폰', 26), ('목욜', 4), ('개통', 21), ('골박', 13), ('양수', 41), ('비롯', 35), ('힘등', 3), ('덮어서', 31), ('갸름하다', 13), ('너그럽다', 17), ('또렷하다', 37), ('구축', 24), ('뭐임', 11), ('찰랑찰랑', 28), ('슬림하', 34), ('슬림한', 3), ('월넛', 7), ('아리', 38), ('먼치킨', 5), ('건들건들', 5), ('과소', 4), ('당췌', 6), ('보디', 10), ('유라', 13), ('벙커', 4), ('타트', 4), ('커플사진', 4), ('물바다', 19), ('줄곧', 26), ('주안', 15), ('이오니', 10), ('거인', 13), ('무질', 12), ('분지', 19), ('혼밥', 23), ('오가면', 5), ('인피니펀', 7), ('구현', 27), ('포크레인', 17), ('중장비', 35), ('쁘니', 17), ('이상태', 20), ('꼭쥐', 5), ('핥다', 41), ('긴지', 14), ('점멸', 14), ('판판하다', 22), ('안듭니', 14), ('온도조절기', 67), ('대보면', 11), ('헹굴', 21), ('부친', 7), ('이듬', 9), ('마술', 13), ('광파', 27), ('더치', 6), ('제빵', 47), ('나뚜루', 3), ('코일', 66), ('송풍구', 16), ('흙맛', 11), ('시피', 19), ('주산', 9), ('도입', 15), ('프랑스', 41), ('츠사', 3), ('설비', 29), ('시설', 39), ('스펀', 17), ('압착해', 5), ('어둔', 3), ('긴급', 60), ('눈독', 11), ('불일때', 3), ('오리진', 27), ('콜롬비아', 45), ('블렌드', 61), ('게머', 4), ('띡띡', 4), ('샴퓨', 12), ('미스트', 103), ('카시', 5), ('장재', 28), ('쪼가리', 20), ('기름값', 10), ('전분', 52), ('ㅜㅜㅜㅜㅜㅜㅜㅜ', 5), ('펙트', 6), ('짚다', 42), ('상보', 15), ('옥상', 26), ('오브', 47), ('대대', 15), ('토마토소스', 9), ('보나', 36), ('버짐', 6), ('다가가다', 22), ('신통', 6), ('방통', 5), ('나열하다', 30), ('여자애', 14), ('모형도', 5), ('우르', 6), ('ㅋㅋㅋㅋㅋㅋㅋㅋㅋㅋㅋㅋㅋㅋㅋ', 7), ('우러나', 14), ('알레', 8), ('르망', 6), ('누울', 16), ('공도', 42), ('위즈웰', 21), ('공회', 14), ('조잡하다', 78), ('장맛비', 3), ('스승', 5), ('성적', 10), ('만만하다', 46), ('명부', 3), ('작전', 12), ('바랑', 8), ('쉽죠잉', 7), ('리그', 8), ('상상력', 41), ('가이드북', 22), ('지능', 13), ('성취', 52), ('라운딩', 26), ('찜찜', 21), ('쿨링', 123), ('낱말', 35), ('비량', 24), ('흘러가다', 17), ('어골칼슘', 6), ('검품', 18), ('비적', 9), ('뿌르', 4), ('간직', 21), ('프림', 15), ('소유', 20), ('둥글둥글하다', 21), ('면책', 4), ('개지', 15), ('헛돌', 12), ('의욕', 14), ('구세주', 5), ('다름없다', 19), ('늦잠', 18), ('원형탈모', 8), ('열대과일', 37), ('살얼음', 12), ('신경질', 14), ('팔꿈치', 63), ('디디다', 21), ('휘청휘청', 16), ('양성', 12), ('돌때', 30), ('들썩이다', 6), ('소멸', 4), ('핀셋', 37), ('펜치', 14), ('짪아', 8), ('서장', 3), ('파사', 7), ('핫핑크', 9), ('컴터', 56), ('ㅡㅡㅡㅡㅡㅡㅡㅡㅡㅡㅡㅡㅡㅡㅡㅡㅡㅡㅡㅡㅡㅡㅡㅡㅡㅡㅡㅡㅡㅡㅡㅡㅡ', 8), ('ㅡㅡㅡㅡㅡㅡㅡㅡㅡㅡㅡㅡㅡㅡㅡㅡㅡㅡㅡㅡㅡㅡㅡㅡㅡㅡㅡㅡㅡㅡㅡ', 4), ('압축시키다', 9), ('이삿짐', 7), ('대빵', 7), ('와이셔츠', 30), ('뭍혀', 51), ('음절', 17), ('대사', 81), ('진통제', 19), ('스와들업', 107), ('꾹욱', 5), ('생물', 92), ('불복', 3), ('여후', 5), ('주중', 7), ('한영', 18), ('폭죽', 5), ('터뜨리다', 11), ('깍지', 5), ('년뒤', 9), ('기물', 15), ('합치', 13), ('오만원', 24), ('밀레', 13), ('벨라지오', 4), ('폭염', 27), ('피타입', 12), ('일두', 9), ('아라하', 39), ('서하', 11), ('엇으', 9), ('워쉬', 3), ('찬장', 22), ('개맛', 11), ('쾌변', 62), ('앱솔', 4), ('명작', 12), ('니플', 30), ('개월안', 3), ('좋아욤', 16), ('병실', 8), ('미완성', 5), ('천재견', 6), ('장날', 40), ('왓습니', 6), ('겨울왕국', 8), ('밑창', 30), ('일욜', 5), ('봄철', 9), ('남비', 13), ('휑하', 6), ('부산물', 25), ('벌린', 7), ('무더위', 20), ('스케치', 7), ('캐치', 39), ('작업중', 9), ('네스', 8), ('외장하드', 7), ('랜선', 8), ('아수스', 5), ('다운로드', 19), ('브라우저', 6), ('구동', 25), ('로딩', 10), ('돌아서다', 98), ('스피드', 39), ('부루', 6), ('해마', 5), ('유수풀', 4), ('품명', 84), ('친숙해지다', 10), ('꼽으려', 3), ('금욜', 5), ('클스', 13), ('구렛나루', 21), ('코타', 13), ('초면', 27), ('플레이도', 3), ('코딱지', 13), ('육지', 5), ('건장하다', 8), ('비중', 45), ('눈탱', 6), ('토탈', 20), ('앞차', 5), ('경보', 6), ('차선', 23), ('이탈', 43), ('감지', 81), ('제출', 10), ('중고차', 18), ('여신', 8), ('바인더', 31), ('같슴니', 3), ('적기', 32), ('앰플입니', 3), ('중직', 3), ('솔리드', 15), ('안동', 9), ('버거', 28), ('잎채소', 6), ('태콩', 4), ('안식', 6), ('백의', 9), ('순차', 7), ('시시하다', 29), ('빅터', 3), ('마인크래프트', 5), ('수요일', 36), ('리셋', 23), ('다실', 5), ('에피', 6), ('물막', 3), ('물듬', 3), ('별다방', 13), ('허블', 23), ('대로의', 10), ('찌글', 8), ('앤비', 9), ('미즈', 8), ('이완', 5), ('사띠', 6), ('금식', 10), ('로거', 5), ('언박싱', 47), ('실과', 32), ('업뎃', 27), ('하리', 16), ('내시', 10), ('네트', 9), ('룸미러', 3), ('제과제빵', 10), ('주세영', 3), ('삐뽀삐뽀', 4), ('응급', 13), ('애플펜슬', 76), ('ㅎㅅㅎ', 18), ('멍하다', 16), ('비릿내', 11), ('날자', 21), ('스트로우', 12), ('족욕', 11), ('케미칼', 6), ('처지', 19), ('윤리', 5), ('방아', 3), ('사업자', 4), ('손주', 31), ('손녀', 67), ('왓는데', 10), ('덤프', 21), ('캣맘입니', 5), ('힘들엇어', 4), ('골대', 48), ('현기증', 14), ('하스', 39), ('까닥', 6), ('놨으', 7), ('카누', 25), ('패달', 8), ('멀어지다', 12), ('동글이', 11), ('가해지니', 3), ('오목하다', 18), ('만도', 46), ('커트', 20), ('상햇', 3), ('위부', 13), ('찰보리', 13), ('수수', 11), ('쌀눈', 18), ('실랑이', 11), ('구제', 4), ('옷가게', 5), ('선입견', 16), ('위거드', 15), ('인과', 11), ('꽃처럼', 3), ('머메이드', 5), ('변치', 6), ('루테인', 106), ('심사숙고', 11), ('은애', 49), ('쵸콜릿', 3), ('들깨', 87), ('이해력', 11), ('바나나칩', 17), ('페클', 5), ('베네레', 3), ('요로결석', 12), ('울금', 9), ('자묘', 5), ('오독오독', 24), ('흐믓', 15), ('문도', 67), ('슬기', 13), ('벙벙하다', 11), ('엘르', 33), ('필독', 18), ('도서', 43), ('앍다', 3), ('군내', 18), ('어딘', 13), ('충남', 5), ('소로', 20), ('남쪽', 5), ('닭볶음탕', 26), ('이실', 19), ('바꿧는데', 13), ('캐리', 13), ('어색', 14), ('태기', 12), ('세포분열', 24), ('황산화작용', 5), ('헌것', 11), ('상가', 16), ('인프라', 3), ('롱런', 9), ('점액', 16), ('부터라도', 18), ('역류성', 21), ('식도염', 27), ('셔틀콕', 8), ('번거럽', 3), ('진용', 3), ('촘촘하', 56), ('용건', 5), ('요사', 8), ('오르락내리락', 27), ('쟁여둔', 6), ('드밴스드', 3), ('비말', 33), ('진화', 13), ('규제', 7), ('중략', 3), ('자리다', 36), ('칼럼', 3), ('조개', 18), ('개월치', 20), ('스뎅팬', 6), ('런닝', 14), ('중개', 4), ('등기', 11), ('캐스트', 4), ('이런저런', 91), ('잉크젯', 17), ('가라앉히다', 8), ('입출', 17), ('입수', 50), ('잠구', 20), ('비애', 6), ('식은땀', 14), ('울컥', 5), ('볼풀', 44), ('운뒤', 4), ('식탐', 38), ('진료', 44), ('일분', 34), ('요즈음', 26), ('주제가', 6), ('겉모양', 13), ('파이프', 11), ('꼽았습니', 3), ('실시', 18), ('ㅅㅅ', 12), ('시큼시큼하다', 6), ('정인', 3), ('갤럭시탭', 16), ('아라리', 36), ('덤벙대다', 8), ('키크', 37), ('지방도', 10), ('짭쪼름함', 4), ('달라짐', 9), ('잔액', 3), ('어딩어', 3), ('초콜렛', 28), ('더덕더덕', 4), ('덕이', 25), ('매혹', 13), ('짭쪼름한데', 3), ('뱅이', 7), ('가약', 11), ('얼핏', 15), ('핵존맛', 6), ('콜라', 45), ('아스파탐', 11), ('ㄱㅏ', 6), ('신호등', 12), ('이적', 38), ('너구리', 3), ('스크램블', 8), ('칸칸', 14), ('칸칸이', 30), ('형형색색', 7), ('급속', 23), ('공정은', 3), ('공급원', 11), ('신경계', 8), ('쉐이빙', 11), ('모션', 29), ('오각형', 12), ('세밀', 47), ('세면', 50), ('코칭', 7), ('새댁', 12), ('깨나', 10), ('아기사진', 8), ('찐득찐득', 9), ('스페셜', 15), ('브라더', 26), ('마카', 87), ('미아', 74), ('염도', 43), ('달랑', 111), ('근거', 16), ('스지', 31), ('에서가', 4), ('이과', 5), ('고환', 6), ('아령', 7), ('종사', 9), ('힌지', 9), ('렌치', 28), ('책상다리', 3), ('꽃징', 12), ('도란도란', 24), ('띠용', 18), ('흥분하다', 38), ('뒤로', 6), ('짭조롬', 3), ('천일염', 15), ('심심', 30), ('선집', 15), ('홀가분하다', 3), ('쏙드네', 8), ('잠결', 9), ('암모니아', 13), ('까칠까칠', 5), ('불날뻔', 11), ('덴티', 47), ('간의', 12), ('데디', 5), ('넷째', 30), ('다섯째', 5), ('그랜져', 15), ('유전자', 24), ('롤라', 4), ('두부김치', 12), ('고추장', 76), ('옛스럽다', 4), ('망향', 5), ('수지', 19), ('봉제인형', 13), ('붙들다', 16), ('사내아이', 5), ('달력', 10), ('데친', 20), ('떡하니', 38), ('속눈썹', 81), ('쓰다듬다', 9), ('펌제', 10), ('펌지', 5), ('컵케이크', 3), ('자바펜', 8), ('볼록하다', 74), ('타네', 32), ('철심', 13), ('낯낯', 3), ('종근당', 57), ('뮨샷', 3), ('원망', 12), ('값싸다', 19), ('뽀독하다', 9), ('최고급', 20), ('먹을껀데', 3), ('헬륨', 36), ('베이커리', 39), ('비릿함', 17), ('응모', 3), ('하루살이', 5), ('ㅠㅋㅋ', 16), ('찜판', 3), ('테스', 19), ('멀티쿠커', 11), ('즉석', 30), ('못햇', 19), ('이크', 66), ('아이거', 18), ('생강차', 23), ('가편', 5), ('통가', 5), ('해마다', 20), ('옷안', 7), ('서울시', 4), ('말귀', 3), ('쌓이네', 4), ('철철', 11), ('절절', 14), ('엄살', 8), ('디데이', 29), ('신소재', 10), ('단사', 3), ('안과', 28), ('합판', 60), ('이사오', 22), ('헐렁헐렁', 7), ('콩콩', 11), ('경이', 17), ('안생겨요', 12), ('피트니스', 25), ('국룰', 17), ('클라시코', 24), ('어여쁘다', 4), ('잡미', 9), ('초도', 39), ('투샷', 6), ('여보세요', 24), ('에티오피아', 22), ('오프너', 7), ('추출량', 3), ('디쟈인', 8), ('임플란트', 18), ('나약하다', 4), ('딛다', 26), ('구깃구깃', 4), ('도살', 6), ('내리락', 23), ('호랭이', 4), ('앞집', 5), ('스튜디오', 14), ('공중', 25), ('스크러치', 14), ('허용', 49), ('직수입', 14), ('국기', 10), ('계전기', 5), ('전사', 11), ('누설', 10), ('개표', 8), ('촉촉수', 18), ('조급', 13), ('클로버', 14), ('리수', 16), ('디스코', 17), ('실등', 4), ('단풍', 6), ('배색', 15), ('어흑', 4), ('트리플', 49), ('무신', 8), ('바리바리', 16), ('싸가지', 13), ('집콕템', 5), ('와아아', 3), ('숨바꼭질', 10), ('벽보', 21), ('맛술', 42), ('행진', 3), ('말론', 6), ('다져지다', 71), ('그먕', 3), ('니다', 32), ('독시', 6), ('전제', 9), ('팥빵', 20), ('으앙', 5), ('팥소', 12), ('펌핑형', 13), ('으아아', 4), ('으아', 9), ('ㅇㅎ', 3), ('로시', 18), ('저급하다', 6), ('건물', 68), ('좀비', 32), ('프랑', 5), ('아지트', 9), ('여섯', 78), ('크리스', 39), ('부형제', 19), ('산부인과', 42), ('린산', 10), ('경미하다', 5), ('의외', 25), ('캐스퍼', 13), ('조오', 3), ('닌데', 4), ('곰돌이', 104), ('달걀찜', 6), ('멎다', 5), ('놨네', 14), ('짧은머리', 29), ('세명', 22), ('가농', 86), ('에어백', 14), ('신속', 16), ('팬궁', 3), ('불사', 4), ('부침개', 46), ('런더리', 4), ('처솝', 6), ('튤립', 72), ('스승의날', 5), ('콜딘', 6), ('국내외', 5), ('이간', 15), ('일행', 7), ('태운', 21), ('헤헤', 30), ('초인', 5), ('답지', 11), ('테니스', 8), ('고상하다', 3), ('누렁이', 3), ('도세', 9), ('학창시절', 12), ('손글씨', 3), ('연습장', 25), ('으로라도', 13), ('머무르다', 16), ('식칼', 14), ('사촌동생', 14), ('서면', 12), ('지붕', 48), ('뚜렷하다', 45), ('긍지', 3), ('초조하다', 5), ('뾱뾱이', 29), ('육백원', 3), ('과자류', 12), ('초코송이', 7), ('적의', 4), ('네스퀵', 3), ('쵸코', 19), ('복지', 8), ('농장', 80), ('하교', 23), ('제풍', 4), ('워티', 20), ('퀼팅', 17), ('음각', 7), ('바로잡히다', 4), ('만화책', 4), ('꼬지', 7), ('폴라로이드', 7), ('불독', 18), ('똥색', 6), ('데카', 12), ('민간', 7), ('어림없다', 5), ('말일', 5), ('메세지', 32), ('세컨드', 6), ('뽀송', 25), ('어감', 11), ('듀플로', 12), ('깔끔대다', 13), ('표백제', 19), ('응꼬', 14), ('대어지다', 17), ('굽히다', 61), ('재능', 8), ('ㄷㅔ', 19), ('후드', 62), ('리빙코디', 13), ('루즈', 16), ('슬개골탈구', 23), ('화단', 5), ('글거려', 5), ('미꾸라지', 3), ('쉬망', 16), ('리브', 8), ('월수', 4), ('린네', 14), ('역겹다', 37), ('퍼석퍼석', 17), ('헹군후', 6), ('보안', 42), ('슬라임', 21), ('삼익', 15), ('경북', 13), ('겉장', 6), ('어장', 6), ('추도', 6), ('비위생적', 23), ('위스키', 6), ('타나', 8), ('컨벡션', 27), ('책사', 11), ('두툼한', 10), ('드로잉', 5), ('스왑', 9), ('고인', 17), ('웅덩이', 3), ('무지개', 52), ('풍족하다', 15), ('매만지다', 3), ('완존', 14), ('꼬들', 5), ('할로겐', 16), ('다카', 5), ('키로로', 21), ('수족관', 27), ('절충', 27), ('디피', 5), ('좌회전', 4), ('우회', 8), ('사비', 16), ('느무느무', 6), ('값해', 3), ('에보니', 25), ('낯선', 35), ('특색', 8), ('텍스', 6), ('변태', 4), ('도록', 56), ('리츠', 3), ('티남', 9), ('라이노', 66), ('목덜미', 6), ('빗어주다', 20), ('마가린', 36), ('준지', 16), ('구인', 7), ('찹찹하다', 8), ('밸리', 15), ('카제인', 17), ('락토스', 9), ('무채색', 20), ('전전', 12), ('평행', 9), ('체리쉬', 10), ('트윈', 6), ('벤트', 3), ('우트', 7), ('헤헿', 3), ('거뭇', 25), ('랙돌', 4), ('둘러놓다', 4), ('존맛', 44), ('앳킨스', 12), ('쿠키앤크림', 7), ('대장', 36), ('아숩네', 9), ('급등', 3), ('사회생활', 6), ('체인', 17), ('촘촘한', 3), ('무른것', 14), ('바켓', 5), ('간물', 6), ('유튜버님', 4), ('떠보다', 41), ('요구', 78), ('물떼', 7), ('법대', 6), ('받아들이다', 37), ('요리사', 24), ('포식', 7), ('헤짐', 6), ('굿똥', 5), ('나노입자', 24), ('마대', 6), ('유지비', 4), ('봉봉', 7), ('이상정', 3), ('것일', 19), ('사막화', 22), ('허리밴딩', 9), ('단감', 11), ('상도', 36), ('ㅇㅇㅇ', 8), ('징징대다', 7), ('노이로제', 4), ('만인', 15), ('잠버릇', 15), ('고영', 4), ('착석', 10), ('이동성', 13), ('시내', 19), ('충혈', 14), ('홀리스', 9), ('펄쩍펄쩍', 5), ('빼곡', 14), ('부부싸움', 3), ('경악', 21), ('쟁겨', 16), ('보채다', 37), ('듀먼', 9), ('췌장', 6), ('손꾸락', 9), ('브러', 6), ('실파', 15), ('강회', 7), ('파의', 8), ('둔갑', 4), ('파전', 32), ('수익금', 3), ('수호', 4), ('기부', 43), ('자원', 9), ('대하', 42), ('목재', 16), ('공신', 10), ('산림', 5), ('추적', 11), ('폐지', 4), ('웃기', 26), ('미각', 28), ('무직', 6), ('피스타치오', 18), ('헹켈', 24), ('라보', 16), ('뿜뿜해', 5), ('월초', 25), ('브리즈', 21), ('데도', 22), ('글공부', 71), ('여주', 39), ('불러일으키다', 7), ('아련하다', 5), ('리하', 41), ('곰손', 9), ('적절', 5), ('해둘', 3), ('해프닝', 4), ('얼어붙다', 3), ('얹히다', 17), ('인스턴트', 43), ('침대시트', 5), ('이천원', 22), ('낙낙해', 3), ('공동', 12), ('재형', 8), ('울렁이다', 3), ('금전', 25), ('벌컥벌컥', 12), ('고지혈증', 28), ('흐물', 37), ('관성', 10), ('비릿해', 6), ('부르르', 12), ('파르르', 3), ('카라멜', 40), ('거두', 6), ('절미', 5), ('반모', 19), ('모근', 108), ('일본여행', 17), ('굴림', 11), ('기념품', 8), ('실어', 35), ('자욱', 6), ('줄거리', 3), ('모량', 14), ('무통', 3), ('잘뽑다', 27), ('미나리', 11), ('중식', 11), ('투덜대다', 7), ('똘똘이', 83), ('남양유업', 6), ('타이틀', 6), ('우유곽', 5), ('철학', 8), ('하여금', 3), ('때론', 11), ('잡음', 23), ('새로이', 14), ('루이비앙', 165), ('극히', 15), ('살부', 3), ('비데', 19), ('생겻', 7), ('방정', 9), ('갱얼쥐', 5), ('보내오다', 24), ('미드나이트', 19), ('더트', 4), ('튿어지', 4), ('알류미늄', 10), ('마끈', 6), ('손끝', 31), ('이분', 10), ('세체', 5), ('유출', 5), ('머르겠', 3), ('바키', 3), ('프렌드', 10), ('클렌져', 28), ('글케', 11), ('합선', 26), ('씨디', 4), ('차단시키다', 12), ('통합', 40), ('있쥬', 5), ('스터디', 5), ('게뭐', 23), ('스팅', 16), ('빅사', 17), ('가랑이', 37), ('셋톱박스', 20), ('웅장', 14), ('고오', 12), ('말소리', 12), ('인수', 5), ('완분', 9), ('짭쪼름', 28), ('군생활', 3), ('하야', 11), ('말이쥬', 5), ('후숙', 12), ('헨드폰', 5), ('퀄러티', 18), ('질퍽', 10), ('귀마개', 34), ('두려움', 27), ('필템', 7), ('곱슬머리', 19), ('디지다', 29), ('레이더', 4), ('니글니글', 6), ('넘버', 13), ('분발', 3), ('오죽', 5), ('인쇄물', 11), ('수란', 7), ('눈거', 7), ('쏠쏠하다', 48), ('조급하다', 22), ('상반기', 5), ('교제', 8), ('일장', 3), ('서버', 21), ('과전압', 8), ('퓨즈', 20), ('워머', 47), ('점퍼', 30), ('유모', 12), ('방풍', 10), ('비스트', 27), ('씩씩거리다', 3), ('접수', 66), ('구유', 6), ('후릭션', 3), ('오르막', 27), ('ㅎㅎㅋ', 4), ('ㅋㅋㅋㅋㅋㅋㅋㅋㅋㅋㅋ', 21), ('휘거', 16), ('문방구', 23), ('요담', 6), ('헤드폰', 10), ('민물고기', 5), ('페넬로페', 145), ('밤샘', 3), ('격전', 16), ('수딩', 5), ('어드밴스', 4), ('윙윙', 11), ('발각', 26), ('엄총', 4), ('꿈틀', 8), ('숭늉', 12), ('부워', 8), ('미비하다', 18), ('주춤', 6), ('괸춘', 3), ('단거리', 17), ('사쥬', 10), ('치하', 20), ('충천', 15), ('풍량', 12), ('똥츄', 6), ('영진', 19), ('구론', 36), ('온갖', 84), ('신호', 66), ('마동석', 4), ('고문', 8), ('버젼', 64), ('선비', 7), ('자월', 8), ('자켓', 34), ('개봉씰', 3), ('음음', 5), ('듯함', 23), ('달전', 47), ('라곤', 20), ('두리', 51), ('호리', 10), ('결로', 18), ('반사도', 15), ('뭍었', 4), ('초벌', 21), ('네가지', 22), ('들어맞다', 37), ('휘뚜루', 23), ('마뚜루', 26), ('으그', 4), ('개불', 5), ('엎어지다', 36), ('딴판', 3), ('뵙다', 21), ('이향', 59), ('모임', 58), ('쾌속', 24), ('무오', 17), ('소년', 7), ('유리창', 32), ('ㅈㄴ', 20), ('화구', 74), ('프렌치토스트', 3), ('전방', 25), ('휘었어', 7), ('느므느므', 5), ('롤로', 23), ('페어리', 38), ('지스', 55), ('덴티스츄', 4), ('무향무취', 7), ('탈모증', 18), ('헹구기', 10), ('원서', 6), ('이규', 3), ('강려', 5), ('틴티드', 9), ('카밍', 4), ('풀잎', 13), ('아시아', 20), ('뉴트럴', 5), ('쫀득함', 14), ('의성', 13), ('흑색', 13), ('신가', 9), ('솔깃하다', 7), ('등뼈', 25), ('갈비뼈', 10), ('측량', 4), ('괘안아', 6), ('카페나', 14), ('실드', 14), ('특장점', 12), ('무게중심', 32), ('살길', 9), ('허기', 21), ('너겟', 25), ('안팍', 6), ('지급', 11), ('빵터지다', 3), ('로보트', 38), ('승인', 13), ('교실', 15), ('노래방', 10), ('휘날리다', 7), ('위생용품', 17), ('스피츠', 16), ('누런색', 17), ('팸스', 8), ('트레이닝복', 7), ('글리', 14), ('발사이즈', 59), ('찡기', 14), ('데이트', 15), ('이산화규소', 20), ('해조류', 3), ('묶이다', 50), ('망원', 13), ('츄럴', 3), ('시바견', 11), ('라락', 7), ('줄무늬', 39), ('질량', 18), ('퐁신퐁신', 6), ('멀미', 52), ('하품', 10), ('간시', 10), ('명료하다', 4), ('으음', 5), ('아디다스', 15), ('러쉬', 6), ('삭피엔스', 9), ('배뚱', 3), ('어머님께', 22), ('미련', 36), ('부적절하다', 8), ('벨소리', 13), ('ㅋㅌ', 5), ('쉐도우', 11), ('무쌍', 4), ('영감', 10), ('왜캐', 7), ('구수', 10), ('막내딸', 8), ('도가니탕', 137), ('미집', 5), ('한결같다', 9), ('마땅찮다', 8), ('깔끙', 3), ('됫어', 6), ('됫네', 6), ('할랑하다', 7), ('팸퍼스', 16), ('통짜', 8), ('단도', 19), ('군입대', 13), ('덜렁이', 5), ('시부모', 21), ('호기롭', 11), ('토로', 20), ('훈제', 17), ('샛노랗', 8), ('하청', 4), ('정감', 15), ('오므라들다', 4), ('거랍', 3), ('무티', 3), ('종전', 18), ('일반도', 6), ('마랑', 5), ('옆모습', 19), ('증식', 24), ('스트릿', 3), ('출신', 11), ('한살이', 6), ('장건', 4), ('책표지', 4), ('특란', 14), ('소란', 3), ('샛노란', 7), ('머그컵', 55), ('글루칸', 27), ('세포벽', 5), ('구성요소', 7), ('암세포', 18), ('슬러시', 8), ('외양간', 5), ('적함', 11), ('테트라', 5), ('뜰채', 5), ('알미늄', 18), ('비너', 6), ('개반', 12), ('얼릉', 28), ('연분홍', 7), ('어뜩하다', 5), ('나영', 7), ('적립금', 13), ('앞장서다', 4), ('성형', 35), ('애플파이', 3), ('안일하다', 14), ('하규', 8), ('캐시', 30), ('앞당기다', 3), ('유전', 24), ('떡뻥', 9), ('킨더', 5), ('맥시멀', 3), ('카락', 7), ('부패하다', 9), ('흩어지다', 31), ('크런치', 10), ('푸른색', 12), ('더라면', 4), ('신라', 67), ('조이스틱', 7), ('한라봉', 14), ('캐논', 18), ('잡아먹다', 28), ('ㅠㅠㅠㅠㅠㅠㅠㅠㅠㅠㅠ', 4), ('하이마트', 7), ('트윈팩', 7), ('형체', 18), ('정렬', 16), ('은행', 30), ('착시', 23), ('홈플러스', 24), ('인원', 19), ('세계사', 6), ('현직', 4), ('용수', 3), ('공포증', 4), ('전수', 3), ('오일만', 14), ('쥐포', 9), ('이따가', 13), ('걸어가다', 17), ('기네', 72), ('모타', 5), ('기상', 26), ('외모', 10), ('에이트', 10), ('순도', 54), ('아시죵', 11), ('재기', 17), ('입속', 36), ('자폐', 15), ('자두', 16), ('푸룬', 15), ('권수', 14), ('빠져들다', 15), ('경쾌하다', 11), ('고요한', 5), ('우디', 43), ('구역', 17), ('자그맣다', 9), ('바비큐그릴', 3), ('신후', 17), ('눕혔는데', 4), ('빵결', 3), ('미고', 3), ('색차', 3), ('눌립니', 6), ('응급처치', 4), ('송곳', 12), ('까슬이', 3), ('쓰리엠', 3), ('인증서', 42), ('한자리', 46), ('실리카겔', 11), ('해갈', 9), ('소음정', 6), ('오밤중', 5), ('고요하다', 5), ('스타일리시', 11), ('코디', 39), ('유감', 9), ('시크릿가든', 4), ('끌어당기다', 9), ('인자', 14), ('쉐어버터', 5), ('이처럼', 22), ('은성', 6), ('블룸', 14), ('피오', 28), ('블로썸', 11), ('작약', 6), ('로즈힙', 13), ('향취', 7), ('국적', 9), ('시더우드', 7), ('업도', 6), ('비명', 7), ('클렌징폼', 40), ('약초', 5), ('얼룩덜룩하다', 36), ('당당하다', 28), ('닥토', 7), ('하이엔드', 7), ('커리', 15), ('락토', 38), ('과립', 12), ('무수', 18), ('포도당', 19), ('난소', 10), ('화성', 21), ('말토', 16), ('텍스트', 10), ('저항력', 3), ('싼타페', 22), ('탓일', 6), ('주유소', 16), ('계좌', 5), ('갈기갈기', 4), ('사철', 10), ('이타', 9), ('기억나다', 18), ('물걸', 8), ('적대', 6), ('사막', 9), ('시원찮다', 17), ('꾸우욱', 7), ('소홀하다', 19), ('최적화', 85), ('맥포머스', 31), ('부수', 29), ('제적', 11), ('흐물하', 5), ('어진', 27), ('성화', 16), ('끌어안다', 24), ('중아', 11), ('카테킨', 5), ('식인', 3), ('브랜', 5), ('왜인', 44), ('겐조', 15), ('팜므', 3), ('뚜왈렛', 9), ('뿜는', 3), ('왈렛', 5), ('신세', 21), ('흐트러진', 3), ('멀티텝', 37), ('노후', 30), ('대현', 3), ('번쩍번쩍', 36), ('어의', 16), ('페스룸', 16), ('동차', 4), ('미니어처', 26), ('식이요법', 5), ('시험지', 14), ('당화혈색소', 4), ('근방', 9), ('안족', 3), ('았습니', 9), ('텍스쳐', 25), ('다다르다', 28), ('컨슈머', 6), ('뚱뚱', 14), ('윈드', 22), ('삼십초', 4), ('광장', 6), ('조명등', 8), ('ㅇㅁㅌ', 3), ('루비', 13), ('시간대', 36), ('거위', 21), ('안합', 4), ('동하', 9), ('날쑥', 4), ('베갯잇', 7), ('주전', 27), ('에나멜', 5), ('싸이다', 53), ('작시', 8), ('거미줄', 7), ('옥션', 8), ('주고받다', 12), ('범주', 3), ('후보', 12), ('갠데', 7), ('심장마비', 9), ('펑펑', 26), ('등줄기', 5), ('주저앉다', 21), ('마커', 15), ('라이터', 35), ('꼬소', 32), ('배김', 11), ('디아블로', 3), ('심꽈', 4), ('락킵', 4), ('심란하다', 6), ('번안', 21), ('센트룸', 23), ('쓸데없다', 47), ('피톤', 66), ('치드', 56), ('소립', 14), ('그랜저', 31), ('도사', 13), ('보가', 28), ('기요', 46), ('날아오다', 16), ('접합', 64), ('개국', 7), ('글로벌', 16), ('코앞', 16), ('바람소리', 8), ('셀피', 4), ('진돗개', 20), ('발치', 32), ('서고', 22), ('보물창고', 3), ('맴돌다', 15), ('격리', 28), ('불가피하다', 10), ('보건소', 17), ('승리', 9), ('노글노글하다', 4), ('틴트', 18), ('딱아', 6), ('키치', 5), ('ㅡㅡㅡㅡㅡㅡㅡㅡㅡㅡㅡㅡㅡㅡㅡㅡㅡㅡㅡㅡㅡㅡㅡㅡㅡ', 18), ('고화질', 13), ('본분', 17), ('유기견', 12), ('돌발행동', 3), ('뒷걸음질', 4), ('자꾸나', 12), ('피톤치드', 21), ('필압', 3), ('운동장', 6), ('징징거리다', 18), ('쫓다', 9), ('하염없이', 5), ('엘레', 31), ('강스', 24), ('로렌', 5), ('벌겋다', 24), ('슬쩍슬쩍', 3), ('성기', 7), ('장실', 7), ('젯소', 148), ('빈정', 4), ('같아욤', 7), ('처음처럼', 23), ('예뿌', 11), ('부산', 26), ('시렵다', 3), ('맛남', 33), ('맛나', 35), ('ㅜㅜㅋ', 8), ('품사', 34), ('사치', 19), ('격일', 18), ('왕따', 4), ('태엽', 32), ('연월', 15), ('전단지', 8), ('줄눈', 14), ('공시', 6), ('엄더라구', 3), ('요론', 10), ('엄씨', 6), ('찿다', 9), ('깔대기', 17), ('부제', 12), ('증말', 44), ('증류수', 5), ('열씨', 19), ('훨훨', 5), ('약주', 4), ('매니큐어', 32), ('선인장', 7), ('바위', 7), ('고교', 5), ('어나더', 15), ('주르르', 8), ('쁘리', 14), ('코너링', 15), ('샤샤', 9), ('분가', 5), ('메밀', 21), ('침범', 5), ('파업', 8), ('출국', 23), ('스카치', 22), ('일렉트로', 4), ('스펨', 3), ('열심', 10), ('그러기에', 13), ('까딱', 27), ('켯다', 4), ('드라이어', 8), ('컨설팅', 5), ('착탈', 5), ('링거', 8), ('씩씩하다', 15), ('말캉말캉하다', 12), ('구기자', 51), ('특허청', 4), ('손해', 29), ('직영', 14), ('부력', 20), ('보조장', 3), ('몸무', 15), ('발차기', 26), ('팔도', 56), ('넥스트', 10), ('웨어', 32), ('호칭', 5), ('홍홍', 4), ('예지미인', 13), ('좌훈', 19), ('한약재', 17), ('회음부', 5), ('전신', 32), ('요법', 4), ('부종', 23), ('갑각류', 10), ('이브', 29), ('고분', 8), ('쪽면', 3), ('수트', 6), ('도시', 27), ('영접', 18), ('살피', 18), ('건별', 3), ('액젓', 31), ('새우젓', 21), ('바름', 17), ('실액', 20), ('가인', 7), ('팔뚝', 38), ('뗏다', 10), ('겅질겅', 3), ('크롤', 17), ('공지', 19), ('꼼꼼', 51), ('존버', 7), ('부도', 18), ('ㅎㅎㅎㅎㅎㅎㅎㅎㅎㅎㅎㅎ', 4), ('띵소리', 3), ('고로케', 6), ('해쉬', 8), ('오밀조밀', 5), ('쟁여', 8), ('홧팅', 18), ('전자제품', 134), ('디팡', 5), ('엠보처리', 4), ('아리다', 4), ('샤브육수', 9), ('또살', 4), ('무생채', 14), ('님들', 34), ('얼룩얼룩', 5), ('스크래쳐', 29), ('재작성', 3), ('뛰어내리다', 20), ('공작', 15), ('룽고', 43), ('인스타그램', 8), ('공적', 4), ('들여다보다', 44), ('통닭', 7), ('바운스', 4), ('뭐합', 18), ('월생', 17), ('헤모글로빈', 10), ('백혈구', 4), ('미량', 8), ('수액', 20), ('퇴원', 14), ('복막', 3), ('증세', 41), ('무지하다', 48), ('치료받다', 8), ('내겐', 4), ('착지', 6), ('반점', 25), ('컨벡', 8), ('치도', 22), ('갑자', 5), ('만듬', 18), ('폴딩', 67), ('창궐', 3), ('생산자', 15), ('소재지', 8), ('페루', 21), ('득달', 3), ('빼앗다', 11), ('괜스레', 9), ('강권', 3), ('커피콩', 8), ('드립', 35), ('북유럽', 32), ('상시', 28), ('유니폼', 12), ('육즙', 58), ('삼이', 8), ('데이지', 51), ('햄톨', 3), ('마시멜로우', 3), ('내려앉다', 26), ('백태', 15), ('채취', 13), ('류등', 3), ('쉐이빙폼', 4), ('딥클렌징', 13), ('수명연장', 6), ('모뎀', 5), ('지껀줄', 4), ('모래알', 8), ('폭설', 6), ('눈썰매', 14), ('쌩얼', 8), ('뽐뿌', 3), ('손힘', 21), ('겟다', 3), ('함부로', 39), ('이디야', 8), ('가솔린', 41), ('종도', 14), ('동면', 4), ('가정은', 10), ('폼질', 3), ('랜스', 34), ('시후', 5), ('리무', 16), ('파고들다', 13), ('농부', 5), ('쌩쌩', 13), ('난연', 14), ('사랑받다', 49), ('쌍욕', 8), ('그깟', 3), ('알제', 4), ('레이라', 9), ('도감', 15), ('샌드', 20), ('올킬', 3), ('철도', 5), ('미안', 27), ('하루나', 4), ('규어', 59), ('걸핏하면', 5), ('위스퍼', 6), ('노심초사', 16), ('아기자기', 46), ('호밀', 3), ('눅눅', 12), ('밀패', 3), ('한구석', 8), ('로얄제리', 14), ('할껀', 14), ('전남', 4), ('추측', 23), ('게시', 15), ('토닉', 9), ('뾰족뾰족하다', 5), ('불의', 13), ('쌔기', 4), ('엄정', 4), ('로스팅', 37), ('금연', 5), ('떡잎', 3), ('신채', 4), ('도화지', 15), ('흉하다', 29), ('공채', 8), ('시어버터', 9), ('함류', 8), ('부적합', 14), ('꿇다', 9), ('줏대', 5), ('박두', 7), ('재봉틀', 7), ('음번', 3), ('수련', 9), ('체함', 3), ('마니마니', 13), ('소리내기', 3), ('백이', 11), ('체육복', 5), ('살구색', 49), ('웰시코기', 26), ('옹기종기', 4), ('플루', 20), ('라씨', 24), ('곱셈', 6), ('홀리', 25), ('황반변성', 5), ('황반', 21), ('누런끼', 7), ('스트라이프', 5), ('해열제', 9), ('정선', 10), ('까르보나라', 9), ('맛깔나다', 8), ('찜닭', 6), ('소쿠리', 17), ('판넬', 26), ('키감', 12), ('사보', 46), ('휠씬', 13), ('찰싹', 12), ('남발', 4), ('콧구멍', 17), ('질린다', 13), ('타이레놀', 10), ('레커', 3), ('해시', 5), ('새카맣', 7), ('융합', 3), ('이격', 17), ('막심', 24), ('함몰', 7), ('모험', 25), ('커트머리', 3), ('난장판', 24), ('주서', 4), ('동물실험', 5), ('타이타늄', 4), ('구결', 5), ('이야말로', 4), ('슬로우', 5), ('러워', 3), ('비호', 3), ('배겨', 14), ('와이', 57), ('인연', 16), ('ㅡㅡㅡㅡㅡㅡ', 38), ('마그넷', 4), ('벽장', 6), ('협업', 6), ('직결', 12), ('척추', 17), ('얄듯', 7), ('한진택배', 10), ('가리개', 42), ('자진', 7), ('붙혔더', 4), ('용평', 10), ('고열', 23), ('접촉성', 16), ('도지', 4), ('킬러', 37), ('외박', 12), ('멋있다', 57), ('그래프', 11), ('메트', 18), ('도조', 3), ('유지관리', 10), ('생상', 7), ('발메트', 3), ('헛돌아', 14), ('씨유', 20), ('만이천원', 6), ('스럽지도', 27), ('로코', 7), ('작업대', 3), ('조렇다', 16), ('시진', 5), ('혹사', 9), ('돌고래', 47), ('가렵다', 19), ('덧데', 10), ('써칭', 6), ('기성품', 7), ('도미', 8), ('불균형', 25), ('빼뚤', 3), ('빼곤', 3), ('맹글어', 7), ('가출', 5), ('시들시들하다', 27), ('정세', 4), ('모듬', 3), ('강철', 6), ('오인', 3), ('칭얼거리다', 20), ('잔디', 27), ('종이팩', 21), ('ㅅㅂ', 4), ('격자', 15), ('니나', 9), ('원치않다', 14), ('도아', 19), ('처마', 5), ('기웃하다', 3), ('화도', 10), ('실정', 6), ('최하', 15), ('도선', 17), ('서걱서걱', 12), ('마하', 15), ('필라테스', 12), ('스트레칭', 29), ('안배', 11), ('분대', 4), ('하렵니', 12), ('캣차우', 7), ('벚꽃', 28), ('관리제', 6), ('비강', 3), ('들쭉날쭉', 18), ('근접하다', 8), ('만끽', 11), ('게을리', 4), ('화끈하다', 9), ('조선시대', 4), ('격하', 18), ('레모', 5), ('아껴놧다', 4), ('잘삿다', 15), ('지정도', 6), ('악평', 11), ('그럿치', 5), ('일기장', 29), ('양장', 12), ('글로브', 31), ('역순', 11), ('풍기면', 7), ('곤약', 84), ('희개', 5), ('포슬', 4), ('살빼다', 20), ('죄책감', 39), ('밥주걱', 4), ('그립다', 43), ('델키', 19), ('렌징', 14), ('스텐도마', 17), ('문물', 8), ('배추김치', 13), ('제우스', 8), ('무배', 10), ('바니쉬', 7), ('동문', 6), ('작부', 9), ('콧바람', 3), ('서인', 26), ('잡아내다', 17), ('다운점퍼', 3), ('심박', 6), ('디바이스', 6), ('채광', 9), ('유지됨', 8), ('어메', 7), ('메이저', 16), ('동성', 13), ('안드로이드', 60), ('컴바인', 20), ('가랭', 7), ('논문', 18), ('테이핑', 36), ('줄라', 5), ('스포', 26), ('부득이', 16), ('이원', 8), ('안토시아닌', 49), ('펙틴', 6), ('인슐린', 20), ('궁둥이', 20), ('비실', 51), ('빽빽하다', 17), ('에혀', 13), ('안사렵니', 4), ('꿀떡', 53), ('뒤통수', 24), ('가려진', 5), ('베렝구어', 5), ('ㅡㅡㅡㅡㅡㅡㅡㅡㅡㅡㅡㅡㅡㅡㅡㅡㅡㅡㅡㅡㅡㅡㅡㅡㅡㅡㅡㅡ', 24), ('인근', 10), ('바치다', 27), ('오만상', 8), ('아이콘', 12), ('회복하다', 23), ('우웩', 13), ('바들바들', 3), ('소리치다', 6), ('규정', 25), ('헹궈줘', 5), ('기신', 7), ('가늘어지다', 17), ('동의', 18), ('폐가', 6), ('똑땅', 4), ('비고', 14), ('백배', 11), ('피파', 4), ('품번', 16), ('메모리카드', 4), ('윈도', 4), ('블량', 3), ('산리오', 25), ('대결', 6), ('도넛', 23), ('쭉쭉쭉', 3), ('집게손가락', 5), ('이스터', 9), ('해밀턴', 6), ('토폴', 6), ('포켓몬', 6), ('플레이스토어', 5), ('배급', 13), ('켜보', 3), ('푸슉', 4), ('악당', 16), ('미사일', 23), ('짐칸', 20), ('편두', 4), ('셀러', 32), ('요거루', 3), ('거좀', 4), ('선쉐', 4), ('착용샷', 12), ('바인', 5), ('도부', 3), ('으로써는', 9), ('익스', 13), ('랍스터', 113), ('구백', 3), ('하드웨어', 12), ('이발', 30), ('북인', 7), ('불지', 15), ('이뽀', 17), ('장볼때', 7), ('공개', 58), ('응답', 13), ('화요일', 42), ('철자', 4), ('펀치', 20), ('덴티스테', 35), ('업글', 25), ('박하사탕', 6), ('겉쪽', 3), ('이아주', 9), ('강습', 23), ('검둥이', 3), ('하서', 6), ('차주', 26), ('정상인', 21), ('계세', 21), ('약바르다', 6), ('남향', 8), ('지각', 11), ('심난하다', 7), ('개체', 12), ('코숏', 17), ('여중생', 3), ('혼란', 22), ('장장', 13), ('어쩌구', 14), ('저쩌구', 5), ('굴착기', 10), ('외우다', 46), ('퇴소', 7), ('약사', 44), ('비대', 10), ('야옹', 27), ('이글루', 5), ('악순환', 14), ('단식', 9), ('허망', 4), ('은듯', 3), ('이중창', 4), ('꽃으', 4), ('레이아웃', 6), ('스네', 3), ('콜드크림', 7), ('고글', 26), ('자만하다', 4), ('제바', 3), ('마무', 10), ('뷰러', 3), ('사주지', 12), ('방진', 10), ('죽지', 30), ('안구건조증', 9), ('탄수', 16), ('타임지', 8), ('바로잡다', 7), ('초래', 9), ('협심증', 3), ('ㅇㅓ', 15), ('플립', 21), ('묶여서', 5), ('화악', 4), ('게눈', 6), ('상층', 3), ('균열', 47), ('뒤척임', 13), ('일케', 15), ('예외', 19), ('펫마트', 7), ('당하', 3), ('먹듯', 55), ('턱드름', 15), ('쇄골', 6), ('ㅇㄴ', 3), ('요걸루', 9), ('냉각', 34), ('붓털', 3), ('채색', 12), ('수원', 3), ('모이', 19), ('수채', 7), ('왕초보', 21), ('아가위', 3), ('촉각', 12), ('늦가을', 8), ('가급', 3), ('붕세권', 10), ('두번쨰', 4), ('정후', 6), ('아브카', 33), ('외음부', 6), ('꺠끗', 8), ('맛사지', 14), ('블루아', 5), ('홀릭이', 8), ('방청', 4), ('우두', 3), ('조용조', 5), ('데려가다', 34), ('놨었는데', 4), ('실재', 3), ('조도', 9), ('페인팅', 16), ('아세톤', 18), ('감쪽', 14), ('망햇', 7), ('열중', 13), ('콜린', 10), ('파티션', 9), ('트윈스', 15), ('이루', 8), ('자하', 23), ('ㅋㅅㅋ', 7), ('꽃받침', 7), ('코니', 4), ('우그러지다', 12), ('판자', 20), ('넓적하다', 29), ('비슷비슷', 17), ('원스', 40), ('나이아신', 29), ('판토텐산', 24), ('환원', 10), ('갑상선', 8), ('심장질환', 6), ('코엔자임', 10), ('토끼풀', 4), ('적재적소', 7), ('섭취량', 64), ('통정', 10), ('판매원', 12), ('생동감', 19), ('대명사', 13), ('방황', 15), ('널뛰기', 19), ('개월수', 76), ('구루', 8), ('쉐보레', 14), ('레이져', 34), ('둥이맘', 13), ('지다이', 4), ('리자', 7), ('지사', 12), ('뛰어넘다', 16), ('기해', 13), ('리틀', 45), ('할껀데', 8), ('면안', 6), ('휩니', 3), ('연관검색어', 3), ('깜장', 5), ('빠듯해', 3), ('달차', 5), ('프리랜서', 5), ('호구', 30), ('아스파라거스', 9), ('지상', 9), ('낙원', 3), ('오피스텔', 23), ('분야', 22), ('게살', 23), ('시간표', 3), ('상장', 27), ('불량하다', 24), ('콘칩', 8), ('양임', 10), ('차망', 7), ('찰흙', 19), ('맛평', 4), ('입가심', 13), ('본보다', 3), ('따따', 21), ('갈비탕', 182), ('플라시보', 28), ('잔뇨', 7), ('다정다감', 6), ('건시', 6), ('레알', 25), ('뽀인트', 12), ('카페라떼', 22), ('동물복지', 74), ('방목', 10), ('뎁혀', 12), ('제데로', 11), ('초강추', 3), ('꼬숩', 13), ('일선', 3), ('긴가민가하다', 26), ('강하나', 5), ('시꺼멓다', 24), ('글루코노', 6), ('델타', 8), ('락톤', 6), ('라모', 3), ('동계', 6), ('로그인', 19), ('루지', 24), ('노맛', 9), ('비즈', 17), ('불가사리', 20), ('돌이키다', 6), ('젖산', 3), ('슈트', 8), ('핏되', 12), ('예산', 24), ('가독성', 25), ('즉슨', 4), ('개포', 4), ('글해', 4), ('심보', 16), ('입질', 9), ('상편', 5), ('요면', 5), ('불끈', 6), ('짙어지다', 6), ('입부', 13), ('그랫', 7), ('쇠고리', 10), ('생체', 18), ('단촐', 3), ('럭희', 25), ('장난없다', 11), ('적나라하다', 15), ('ㅜㅠㅠ', 11), ('됫음', 3), ('노루', 39), ('은공', 7), ('서번', 3), ('고속도로', 44), ('카스', 9), ('씨리얼', 26), ('관능', 11), ('거왜', 8), ('항산화작용', 19), ('로손', 3), ('자자하다', 13), ('엉킨털', 4), ('까칠까칠하다', 12), ('애완동물', 24), ('ㅂㅂ', 7), ('애완견', 4), ('폴리프로필렌', 12), ('쌀뜨물', 24), ('너저분하다', 25), ('체온계', 24), ('위칸', 20), ('자질', 8), ('명화', 12), ('맞닿다', 39), ('피고', 47), ('자작하다', 31), ('솔찍', 35), ('스토케', 14), ('뻘뻘', 17), ('생뚱맞', 4), ('김자', 14), ('펜촉', 30), ('백제', 23), ('몰두하다', 3), ('천해', 6), ('통신', 9), ('웰릿', 7), ('헉헉', 6), ('해머', 3), ('애교', 34), ('써비스', 12), ('이해도', 20), ('적외선', 7), ('물수건', 14), ('꼬투리', 4), ('방앗간', 14), ('올핸', 4), ('부대찌개', 11), ('범퍼쿠션', 3), ('뒹굴뒹굴', 21), ('하겐다즈', 17), ('냉포', 3), ('차감', 36), ('유투버', 20), ('디퍼런트', 3), ('항산화제', 23), ('아크', 5), ('친오빠', 11), ('버여', 3), ('이비', 41), ('계면', 5), ('미약', 21), ('동화책', 41), ('웃어요', 12), ('떼굴떼굴', 4), ('잉잉', 7), ('개구리', 18), ('꺄르륵', 5), ('방긋', 7), ('도리', 36), ('루카스', 18), ('일병', 15), ('꼬릿꼬릿', 7), ('피부질환', 10), ('대개', 15), ('지방함량', 6), ('과량', 5), ('왕관', 15), ('ㅠㅋㅋㅋ', 12), ('은신', 34), ('드워프', 15), ('습진', 67), ('맞대다', 13), ('몰리', 27), ('실습', 5), ('인강', 13), ('레토르트', 16), ('콩콩이다', 14), ('장님', 14), ('복싱', 4), ('정형외과', 17), ('헐랭', 7), ('헛돌기', 3), ('콩밥', 21), ('구성원', 16), ('팥밥', 3), ('흰밥', 16), ('뉴얼', 6), ('옥탑방', 3), ('줄넘기', 11), ('한옆', 3), ('괜차나', 11), ('데구르르', 3), ('급성', 16), ('앞코', 9), ('스페인', 27), ('냉압착', 16), ('불포화지방산', 26), ('비정', 15), ('으로선', 8), ('제이다', 4), ('마일', 12), ('제휴', 6), ('메티오닌', 5), ('체액', 3), ('ㅎㅎㅎㅎㅎㅎㅎ', 25), ('쟁일', 5), ('둘러싸이다', 4), ('유하', 4), ('푸지', 6), ('코피', 62), ('청춘', 4), ('대마', 76), ('송중기', 6), ('종자', 26), ('유이', 7), ('이토', 13), ('탈각', 14), ('착유', 3), ('용매', 5), ('간편식', 33), ('소갈비', 11), ('와아', 6), ('스덴', 20), ('위화', 7), ('얼떨결', 5), ('시네마', 6), ('타이가', 4), ('큰아들', 34), ('오손도손', 3), ('우량', 13), ('해보렵니', 5), ('계사', 4), ('ㅋㅎㅎ', 3), ('가사도', 4), ('개뿔', 18), ('스크럽제', 7), ('공갈', 11), ('호루라기', 30), ('지선', 7), ('수삼', 7), ('비릿한맛', 7), ('양육', 9), ('뮤지컬', 8), ('경험치', 7), ('용의', 30), ('허쉬', 10), ('되드라구', 9), ('치열하다', 7), ('도난', 13), ('방과후', 12), ('스케치북', 43), ('저림', 16), ('식혜', 15), ('딥디', 4), ('썻습니', 11), ('직냉', 16), ('간냉', 20), ('재고품', 8), ('체념하다', 4), ('더티', 3), ('그래핀', 28), ('실리카', 17), ('브레이', 8), ('닭죽', 11), ('푸딩', 27), ('뭉게', 6), ('완두콩', 12), ('산업', 21), ('방만하다', 3), ('원일', 3), ('생산품', 10), ('로토', 6), ('지체', 13), ('수유텀', 4), ('세련', 34), ('썩이다', 8), ('퇴근길', 7), ('타이즈', 13), ('잇엇어', 4), ('거더', 18), ('라고도', 4), ('각양각색', 7), ('달러', 12), ('화만', 6), ('무색', 73), ('담임', 7), ('구부리다', 69), ('오물거리다', 4), ('신공', 7), ('발휘', 48), ('수모', 35), ('찬밥', 13), ('퉁퉁', 31), ('용접', 32), ('삭았', 5), ('아바', 7), ('정안', 8), ('내식성', 6), ('깍이다', 55), ('패셔', 4), ('음전', 3), ('처럼은', 14), ('티안', 3), ('곰인형', 5), ('세컨', 22), ('서프라이즈', 17), ('씬나다', 5), ('눕힌', 3), ('안지만', 4), ('후손', 3), ('초롱', 17), ('책임감', 12), ('삭삭', 10), ('죽맛', 3), ('잣죽', 5), ('뭉그러지다', 10), ('미네', 22), ('대왕', 6), ('말라보', 5), ('변치않다', 5), ('조해', 8), ('카드뮴', 12), ('비소', 17), ('수은', 10), ('고순', 27), ('제로로', 10), ('달구', 14), ('완성형', 3), ('폰트', 9), ('천오백원', 4), ('오뚝이', 16), ('모슈', 14), ('슬림핏', 27), ('시스테인', 19), ('떼쟁이', 4), ('베스트셀러', 6), ('아사', 10), ('빨래량', 6), ('제량', 3), ('종이곽', 4), ('해리', 20), ('암페어', 8), ('구치', 9), ('물밖', 5), ('가평', 13), ('젖소', 26), ('심쿵하다', 6), ('흩날리다', 25), ('광시', 10), ('왜곡', 14), ('논글레어', 3), ('과실', 25), ('이단', 6), ('상투', 3), ('토일렛', 10), ('시전', 42), ('택하', 7), ('초대형', 10), ('데요', 12), ('넥센', 4), ('매니', 5), ('강추템', 7), ('어그', 17), ('세계관', 5), ('전설', 11), ('뇌리', 5), ('약국', 87), ('얽히다', 7), ('눈물나다', 22), ('최거', 4), ('환경오염', 19), ('용의자', 4), ('만화', 32), ('필봉', 4), ('점보롤', 43), ('신신당부', 11), ('코멧점보롤', 5), ('러하', 3), ('몬가', 4), ('그랫더', 6), ('벼르던', 4), ('온몸', 82), ('무제한', 14), ('위잉', 4), ('레벨', 44), ('사창', 21), ('영구', 32), ('열공', 7), ('상기', 9), ('반적', 4), ('행해', 4), ('석회', 13), ('매스', 7), ('깜박이다', 16), ('두드', 3), ('접때', 7), ('찌그리다', 6), ('센티미터', 16), ('깨어나다', 5), ('오피스', 27), ('공수', 3), ('천공', 8), ('포유', 24), ('잔인', 3), ('쉐잎', 3), ('쫄아', 6), ('대쪽', 11), ('복통', 29), ('스마일', 30), ('멍텅', 6), ('스크레쳐', 5), ('래빗', 43), ('네이쳐', 47), ('남성은', 6), ('껍니', 11), ('확고하다', 6), ('다다닥', 12), ('성심', 3), ('성의껏', 6), ('개월후', 8), ('경동', 5), ('솥안', 3), ('물맛', 21), ('ㅠㅜㅜㅜ', 4), ('카무드', 5), ('원시', 12), ('무관', 20), ('원적외선', 17), ('배드', 19), ('압정', 20), ('몰드', 28), ('는단', 3), ('이어링', 3), ('모해', 18), ('스페인어', 3), ('집기', 29), ('활발해지다', 16), ('거짐', 5), ('다각', 4), ('집지', 4), ('지그', 4), ('벽결', 5), ('루시', 14), ('추문', 5), ('난쟁이', 4), ('자지', 21), ('잔날', 3), ('운전대', 27), ('신물', 17), ('뿔려', 5), ('병아리', 21), ('늙음', 3), ('잔틴', 18), ('제아', 15), ('곰젤리', 4), ('곱슬', 69), ('파마머리', 3), ('비쌋', 5), ('닭꼬치', 3), ('점착', 7), ('일회용품', 17), ('바르게', 22), ('노이즈', 18), ('습득', 34), ('숲향', 7), ('물컹물컹하다', 8), ('한미', 27), ('웰키커', 46), ('장통', 11), ('정당', 3), ('에이치', 5), ('주식회사', 13), ('움색', 24), ('마산', 8), ('선의', 32), ('얼마간', 4), ('맙소사', 18), ('ㅋㅋㅋㅋㅋㅋㅋㅋㅋㅋㅋㅋㅋㅋ', 10), ('버츄오', 9), ('고무밴딩', 15), ('한수', 27), ('꼴랑', 8), ('입천장', 13), ('리훈', 5), ('투머치토', 6), ('재색', 3), ('접힐', 5), ('앗다', 11), ('체조', 3), ('포마드', 13), ('리우', 9), ('백업', 19), ('폼클렌저', 17), ('져지', 4), ('붙혔는데', 8), ('됏는데', 6), ('해봣는데', 12), ('헬륨가스', 42), ('이동형', 8), ('ㄷㅇㅅ', 8), ('유하나', 10), ('더랬', 14), ('뽀글이', 5), ('밴딩부분', 15), ('차려입다', 4), ('까슬', 9), ('요양', 18), ('들먹이다', 13), ('한동', 4), ('캠프', 7), ('자모', 16), ('대학', 15), ('파스퇴르', 46), ('맛향', 17), ('다양해지다', 9), ('질책', 4), ('쫀득쫀', 4), ('약식', 10), ('쩝쩝', 13), ('숩니', 8), ('한나절', 6), ('아이스커피', 9), ('바크', 18), ('가령', 8), ('출하', 13), ('ㅇㅌㅋ', 4), ('ㅌㅋ', 3), ('얼얼하다', 18), ('둥들', 3), ('ㅇㄹ', 3), ('기프트', 15), ('발육', 22), ('쫍쫍', 9), ('유한', 24), ('양적', 15), ('을사', 9), ('포비', 39), ('펜션', 28), ('시소', 19), ('행벅', 4), ('해하', 6), ('가래', 24), ('야들야들', 32), ('배드민턴', 52), ('스톱', 14), ('핑거푸드', 7), ('통채', 25), ('손동작', 3), ('위반', 9), ('동반', 38), ('에로', 5), ('달안', 12), ('염류', 6), ('질석', 5), ('방편', 10), ('큰소리', 21), ('라고는', 44), ('빡쎄', 3), ('미적지근하다', 10), ('얼매', 5), ('노골', 6), ('물렁물렁', 6), ('잠바', 18), ('건내다', 7), ('연탄', 10), ('문밖', 11), ('인터', 22), ('아랑', 6), ('뿌러져', 12), ('쪼물딱', 8), ('국내선', 3), ('아이쿠', 7), ('쪼만해', 3), ('캐슈넛', 36), ('뽐내다', 8), ('수돗물', 56), ('태두', 3), ('견본', 3), ('가내', 3), ('수공업', 3), ('혹평', 5), ('강행', 3), ('발품', 12), ('채정안', 4), ('태산', 5), ('거참', 13), ('만신창이', 3), ('굴욕', 3), ('줄엇어', 5), ('엘빈', 4), ('기바', 3), ('이량', 3), ('대회', 4), ('살벌하다', 4), ('물렁', 14), ('반입', 36), ('시스', 20), ('맛잇엇어', 3), ('직기', 34), ('뭉툭', 15), ('익스트림', 27), ('특수하다', 11), ('극대', 13), ('능성', 11), ('르노', 5), ('라시', 8), ('노천', 3), ('능사', 4), ('때나', 3), ('키드', 5), ('탈지분유', 24), ('노예', 9), ('노치', 13), ('아일랜드', 30), ('광각', 13), ('시프트', 4), ('반향', 4), ('상쇄', 9), ('구진', 4), ('볼라', 19), ('왓던', 6), ('각설이', 4), ('또왓', 4), ('얼씨구', 7), ('방갑습', 5), ('아비', 12), ('김아무개', 4), ('폭폭', 8), ('래무', 5), ('교과', 4), ('풀라', 14), ('흐믓해', 4), ('더맛', 6), ('안지', 22), ('묵은지', 15), ('필자', 15), ('굉음', 6), ('종이가방', 15), ('동남아', 19), ('길죽', 8), ('찿던중', 3), ('삼분', 11), ('공임', 12), ('롤토', 3), ('체스', 3), ('목조', 3), ('찌뿌등', 4), ('파리바게트', 18), ('각인', 23), ('열씸히', 7), ('여윽시', 8), ('과언', 25), ('눈화장', 12), ('에뛰드', 20), ('밤색', 3), ('섀도', 3), ('향수병', 8), ('긴급하다', 3), ('스픈', 7), ('청도', 9), ('테리', 4), ('경사지다', 15), ('상대로', 5), ('해달', 10), ('고래고래', 4), ('배영', 4), ('수두', 19), ('부정교합', 6), ('폐기물', 12), ('류량', 10), ('딴지', 5), ('반말', 5), ('농산물', 14), ('바란', 5), ('감퇴', 6), ('점심밥', 3), ('스르르', 33), ('주섬주섬', 9), ('또또', 22), ('슬며시', 9), ('새미', 3), ('핏좋', 3), ('페이퍼타올', 10), ('안사면', 17), ('퀴퀴하다', 16), ('가차', 14), ('초초초', 6), ('그레', 8), ('조바심', 5), ('헛웃음', 4), ('제하', 14), ('쌉싸름', 8), ('꼬소하', 4), ('대수롭다', 13), ('모카', 11), ('리만', 17), ('배열', 28), ('날이갈수록', 6), ('되찾다', 14), ('등골', 6), ('쫌쫌', 3), ('세운', 18), ('프티', 4), ('불충분하다', 3), ('컨벡션기능', 3), ('답글', 9), ('체사', 3), ('ㄴㄴ', 25), ('육식동물', 3), ('피부병', 20), ('격인', 9), ('인별', 5), ('카키', 29), ('등치', 7), ('찌익', 5), ('키링', 51), ('매기', 14), ('병인', 6), ('리크', 15), ('마즈', 4), ('위스카스', 5), ('광쌀', 5), ('점선', 22), ('다라', 29), ('뚝닥', 5), ('초가을', 7), ('타로점', 8), ('식대', 4), ('마이너', 6), ('뒷문', 10), ('스므스하', 3), ('휘청', 17), ('덩거려', 5), ('ㅎㅎㅠ', 5), ('비포', 10), ('애프터', 10), ('칭얼대다', 8), ('겔형', 4), ('증도', 3), ('돈가스', 29), ('북쪽', 4), ('말입', 10), ('나갓', 3), ('슬리커', 20), ('샥샥', 7), ('털사', 3), ('완모', 5), ('패트', 14), ('미덕', 3), ('컬리', 29), ('두둑하다', 12), ('히달고', 3), ('드롭스', 8), ('어어어어', 23), ('상아색', 3), ('홑겹', 4), ('살딸', 18), ('이애', 8), ('쪼르르', 15), ('마연', 3), ('데비', 6), ('후론', 27), ('실리다', 18), ('숭숭', 21), ('왜소하다', 11), ('둔감하다', 13), ('어떻든', 5), ('게이트', 14), ('오코텍스', 5), ('펄럭', 5), ('호랑이', 38), ('뗴어내', 3), ('개일', 4), ('브릿지', 24), ('액세서리', 27), ('절묘하다', 6), ('소닉', 12), ('텁텁할', 3), ('치태', 19), ('열광하다', 5), ('림보', 6), ('낳을', 9), ('기이', 7), ('금가루', 4), ('헤이홈', 16), ('거르기', 7), ('호모', 16), ('불명', 12), ('붙혔어', 10), ('장애인', 5), ('으리', 12), ('육우', 24), ('우촌', 49), ('물엿', 37), ('한셋트', 8), ('배전', 3), ('소풍', 22), ('양푼', 3), ('만듭니', 28), ('행복감', 11), ('우리형', 4), ('메시', 5), ('춘하', 3), ('건안', 11), ('증서', 9), ('랍스타', 20), ('갱신', 8), ('지엠', 17), ('팜플렛', 3), ('조정석', 10), ('군말', 10), ('톱날', 3), ('소견', 29), ('사본', 53), ('어스', 45), ('ㅡㅡㅋㅋ', 5), ('윗니', 6), ('크라운', 3), ('한방약', 6), ('여권', 9), ('속초', 8), ('소매치기', 5), ('미림', 22), ('케미', 3), ('풍선껌', 15), ('던킨', 4), ('도씨', 35), ('운동복', 33), ('저스트', 3), ('메디', 12), ('몽이', 4), ('위협', 11), ('할기다', 3), ('스테레오', 3), ('근거리', 9), ('뽀삐', 17), ('영유', 24), ('유아기', 15), ('방대하다', 7), ('목차', 18), ('고랑', 4), ('년년', 10), ('년반', 14), ('기적처럼', 3), ('음색', 6), ('엠자', 3), ('츠바키', 15), ('산타할아버지', 29), ('동치미', 13), ('다모', 4), ('라이어', 10), ('케찹', 35), ('간장게장', 7), ('아삭거리다', 12), ('뜨뜻하다', 31), ('커밍', 3), ('그랜드', 3), ('버퍼', 4), ('떡밥', 11), ('부시', 23), ('콜라보', 11), ('왁싱샵', 9), ('시켯더', 7), ('인의', 9), ('시퍼', 4), ('곱창', 9), ('어두움', 4), ('비법', 24), ('무트라', 4), ('눈짐작', 3), ('다세', 6), ('혼돈', 6), ('기내', 41), ('유닛', 20), ('글램핑', 12), ('부재', 27), ('직수', 6), ('내공', 6), ('잘썻어', 4), ('저지방우유', 14), ('남양', 11), ('농후', 4), ('폴란드', 3), ('락토핏', 18), ('깔꼼해', 3), ('호밀빵', 5), ('오타', 39), ('떡칠', 6), ('구포함', 3), ('일산', 7), ('월요일', 61), ('쫓아가다', 5), ('솔트', 25), ('디자이너', 11), ('화이', 11), ('크나크다', 7), ('해전', 6), ('양방', 5), ('짓무르', 9), ('텃밭', 5), ('ㅎㅎㅎㅎㅎㅎㅎㅎ', 9), ('코마', 49), ('단발머리', 14), ('끝없다', 3), ('재판매', 26), ('남요', 3), ('살림살이', 24), ('쉐입', 9), ('카모마일', 21), ('냉면', 29), ('기소', 14), ('밥심', 3), ('기획', 14), ('휘청이다', 6), ('휘었', 10), ('분단', 6), ('꼽았', 5), ('달썻', 3), ('시미', 4), ('반스타킹', 10), ('이양', 6), ('고거', 9), ('섣불리', 5), ('끄덕이다', 4), ('지멘스', 3), ('잉어빵', 5), ('쪼개지다', 15), ('반짝임', 22), ('딸각', 10), ('콩물', 21), ('토핑해', 8), ('곳곳이', 4), ('칸사이', 3), ('허위', 23), ('단가', 61), ('원함', 10), ('전하', 19), ('주마', 14), ('우세', 8), ('굴비', 8), ('덧댐', 5), ('테입', 16), ('대가리', 46), ('갈래', 12), ('할배', 8), ('도주', 4), ('셋탑박스', 13), ('슈디', 3), ('낮용', 4), ('머임', 3), ('다중', 7), ('멀티탬', 3), ('버금', 5), ('레트로', 31), ('의뢰', 10), ('윤아', 17), ('모녀', 11), ('나본', 4), ('좔좔', 24), ('침전', 28), ('봉당', 7), ('트렌스지방', 6), ('시경', 19), ('무책임하다', 13), ('통행', 8), ('여벌', 14), ('대길', 7), ('싸이렌', 4), ('헐떡거리다', 4), ('시티', 13), ('그라탕', 4), ('젠틀', 19), ('레싱', 36), ('소치', 4), ('가글', 14), ('텁텁할때', 3), ('플래쉬', 10), ('오류로', 7), ('프맥', 18), ('막차', 8), ('납땜', 9), ('다미', 4), ('큐티클', 23), ('아지', 25), ('열펌', 7), ('플로러향', 3), ('찌찌', 4), ('처럼만', 6), ('달그락', 40), ('등애', 3), ('포화지방산', 15), ('옴므', 4), ('원천', 7), ('라디칼', 6), ('염화', 6), ('분자', 26), ('쏙듭니', 11), ('안면', 9), ('개월뒤', 5), ('화해', 23), ('알루론', 3), ('통더', 3), ('좍좍', 5), ('파고', 16), ('볼거리', 9), ('휑했', 8), ('예찬', 13), ('컴집', 10), ('배그', 10), ('석비', 11), ('수집', 22), ('경력', 26), ('스크래퍼', 3), ('쾌발', 3), ('패치', 32), ('황금색', 4), ('스텔', 4), ('레토', 7), ('라바', 4), ('공평하다', 4), ('시마', 16), ('스텔리', 3), ('카푸치노', 11), ('칠때', 4), ('풀충', 3), ('줄기차다', 11), ('찡긋', 5), ('인임', 3), ('뻣뻣', 18), ('자주색', 9), ('빈곳', 11), ('안장', 8), ('단목', 29), ('쿼터', 11), ('발의', 22), ('클렌징워터', 9), ('비누거품', 13), ('김씨', 5), ('혼용', 16), ('배우', 14), ('사뭇', 8), ('얄쌍', 5), ('안정화', 21), ('마기', 7), ('버벅거려', 4), ('버벅', 19), ('젓다', 37), ('채반', 77), ('샤브용', 40), ('핫소스', 20), ('전생', 4), ('라니까', 16), ('감탄사', 11), ('왜냐구요', 3), ('알로에겔', 14), ('선천', 14), ('등하교', 7), ('ㅜㅜㅋㅋㅋ', 6), ('거중', 19), ('피라미드', 13), ('년생', 25), ('골골', 9), ('허약하다', 5), ('소심', 6), ('귀지', 4), ('퍼석거리다', 8), ('스뎅', 27), ('누렇네', 9), ('손발톱', 6), ('면역성', 7), ('워워', 3), ('쉴드', 59), ('타이핑', 21), ('할리스커피', 10), ('스모크', 4), ('질소', 16), ('초여름', 12), ('레전드', 15), ('과메기', 8), ('소바', 10), ('도토리묵', 6), ('숙회', 3), ('파릇하다', 5), ('이영자', 6), ('파친놈', 5), ('꽃게', 28), ('여진', 19), ('넙적', 9), ('골다', 27), ('무릅', 11), ('스쿠류', 3), ('전산', 7), ('조후', 3), ('안전핀', 16), ('전차', 14), ('이영', 7), ('마르구', 7), ('볼록', 48), ('허리띠', 20), ('사출', 24), ('만삼천원', 7), ('맘스', 4), ('치발', 5), ('더욱이', 22), ('걸어오다', 8), ('썬더스틱', 15), ('풀무원', 56), ('입하', 12), ('귀욤귀욤', 12), ('브라이언', 42), ('바랬네', 3), ('좌절', 18), ('나뭇잎', 15), ('개미', 18), ('색바램', 7), ('계속계속', 13), ('잘삿어', 11), ('만찬', 3), ('폐인', 5), ('사방지', 3), ('드러눕다', 14), ('내시경', 17), ('할런', 4), ('자가용', 4), ('적하', 20), ('수포', 5), ('토실', 7), ('가니쉬', 11), ('로마', 5), ('기복', 3), ('굴소스', 23), ('분쟁', 3), ('짭짭하다', 7), ('거번', 6), ('조잡', 16), ('도드라지다', 19), ('질때', 12), ('멈칫', 8), ('마쇼', 3), ('올케', 9), ('흐물거립니', 4), ('윤택', 6), ('딸기스무디', 5), ('절사', 6), ('평편하다', 6), ('럭키', 9), ('오로라', 25), ('딸깍', 4), ('스킵', 6), ('트레드밀', 3), ('뒤뚱뒤뚱', 4), ('초년', 8), ('수직', 36), ('할갑다', 7), ('불랙', 3), ('무심', 7), ('뿜어내다', 5), ('유스', 14), ('번거러워', 19), ('알반', 3), ('옆샘', 18), ('드루', 23), ('치노', 22), ('햄슬', 4), ('거르는데', 3), ('백퍼센트', 11), ('코스트', 5), ('블론드', 14), ('블랜드', 19), ('미디엄', 19), ('모닝커피', 5), ('버벅거림', 12), ('쌀벌레', 14), ('징그럽다', 25), ('앞문', 10), ('소유자', 18), ('분더', 5), ('이든지', 8), ('비즈니스', 5), ('소지품', 22), ('보탬', 11), ('은로', 7), ('점핑', 3), ('잔열', 14), ('사마', 14), ('마야', 5), ('포옥', 4), ('도음', 6), ('따루', 3), ('오므리다', 5), ('호한', 7), ('말목', 7), ('드나들다', 5), ('아무나', 10), ('프롬', 11), ('뿜뿜하', 9), ('커피잔', 14), ('이탈리안', 8), ('기발하다', 6), ('험담', 19), ('다고', 16), ('동심파괴', 3), ('줄창', 3), ('무루', 14), ('버드나무', 6), ('육계', 5), ('합성세제', 4), ('도르레', 10), ('체험담', 6), ('배송지', 14), ('중세', 3), ('낮밤', 8), ('머거다', 9), ('제재', 7), ('침투', 28), ('앞서서', 4), ('ㅡㅡㅡㅡㅡㅡㅡㅡㅡ', 16), ('텀스', 10), ('콩닥콩닥', 8), ('준걸', 5), ('삑삑삑', 3), ('중고품', 21), ('가쓰오부시', 3), ('대폭', 10), ('싸이프레스', 3), ('로예', 7), ('비함', 6), ('다수', 32), ('무형', 46), ('위시', 20), ('댄스', 3), ('슈터', 6), ('싫증나다', 9), ('몇대', 3), ('튿어져', 10), ('수이', 25), ('재택', 6), ('대입', 11), ('웹서핑', 22), ('위태', 5), ('반지르르', 4), ('도일', 14), ('지시', 13), ('마티즈', 5), ('어중간', 4), ('터실', 3), ('단선', 6), ('이또', 27), ('손바느질', 12), ('끙끙', 16), ('죽겠네', 18), ('괜춘괜춘', 5), ('특이점', 15), ('린넨', 11), ('팩스', 20), ('디젤', 42), ('그룹', 7), ('세무', 4), ('제작자', 6), ('셧으', 9), ('선하다', 20), ('트라우마', 7), ('파바박', 3), ('옷입', 8), ('유리잔', 4), ('요모조모', 11), ('거만하다', 16), ('데기', 9), ('아악', 20), ('콘샌트', 3), ('내사', 9), ('언넝', 15), ('고달프다', 3), ('드륵드륵', 5), ('담하다', 6), ('상반', 4), ('헛돔', 3), ('직배', 5), ('식비', 15), ('ㅋㅋㄱ', 14), ('지식인', 4), ('주치', 5), ('에그타르트', 18), ('소셜', 16), ('스카', 18), ('아앙', 7), ('탈퇴', 4), ('사설', 8), ('파티룸', 4), ('이대', 24), ('나이스', 30), ('악성', 10), ('가르마', 6), ('창피하다', 21), ('다발', 20), ('막말', 4), ('취업', 6), ('우주선', 15), ('사람과', 20), ('백내장', 20), ('생물학', 7), ('칼발', 12), ('초꼽', 3), ('후불', 4), ('프러스', 3), ('ㅇㅈ', 11), ('놀듯', 4), ('이세', 18), ('포스트잇', 10), ('한컴오피스', 10), ('가보', 31), ('버터쿠키', 12), ('살바', 13), ('로열', 3), ('브리티쉬', 16), ('삼위일체', 3), ('그지같다', 36), ('뿌뜻', 8), ('돌잡이', 11), ('유리컵', 9), ('ㅜㅡㅜ', 22), ('사주', 35), ('잽싸다', 17), ('골인', 13), ('한순', 11), ('교통', 10), ('경적', 10), ('정상화', 10), ('왓네', 18), ('봉사', 10), ('고냥이', 9), ('찰칵', 11), ('채혈', 20), ('오상', 8), ('미래', 30), ('차내', 12), ('노상', 3), ('분컷', 13), ('개린', 12), ('비디오', 9), ('후후후', 5), ('검색어', 5), ('셀룰러', 6), ('새로고침', 6), ('개코', 16), ('민낯', 7), ('등심', 72), ('살찍', 4), ('차돌', 7), ('배란기', 4), ('고메넛츠', 8), ('수단', 13), ('배낭', 11), ('메기', 5), ('박이상', 5), ('김태희', 9), ('후원', 6), ('끙끙대다', 9), ('우체통', 3), ('어쩌라고', 5), ('되엇습니', 3), ('가렵기', 5), ('도르래', 7), ('견인차', 14), ('옆칸', 7), ('진상', 10), ('모처럼', 11), ('넘겨보다', 15), ('시들거리다', 6), ('진분홍', 11), ('계산기', 9), ('ㅋㅋㅋㅋㅋㅋㅋㅋㅋㅋㅋㅋ', 11), ('정어리', 9), ('물배', 5), ('캣맘', 24), ('야옹야옹', 6), ('바글', 5), ('있을런', 3), ('식약청', 6), ('장화', 12), ('발뒤꿈치', 12), ('어지간', 4), ('몰랏네', 3), ('개심', 3), ('방검', 4), ('여학생', 8), ('미디', 8), ('실례', 5), ('쿠파', 11), ('앙이다', 35), ('단원', 8), ('배양', 8), ('여름방학', 10), ('다독', 7), ('빵가루', 28), ('우렁찬', 3), ('비몽', 7), ('반장', 4), ('급구', 4), ('부주의하다', 6), ('젤라또', 8), ('진맛', 4), ('잼잼', 4), ('전완', 3), ('국시', 13), ('콩국', 11), ('투정', 7), ('묵고', 8), ('야단', 3), ('상징', 16), ('혼인', 3), ('실천', 38), ('째깍', 11), ('다홍색', 3), ('영양음료', 5), ('도수', 11), ('불감증', 3), ('찹쌀떡', 15), ('수컷', 18), ('암컷', 19), ('쿨쿨', 3), ('샤크', 14), ('항거', 6), ('알콩', 3), ('손때', 19), ('라쿠진', 9), ('방공', 3), ('되새기다', 9), ('이싼', 4), ('쿰쿰하다', 44), ('일향', 5), ('개개', 23), ('떠내려가다', 5), ('실종', 10), ('갈림', 21), ('걸론', 4), ('상임', 5), ('메달', 9), ('여로', 10), ('더기', 8), ('다이노', 13), ('빡셈', 6), ('훈훈하다', 22), ('재빠르다', 12), ('노르웨이', 18), ('로숀', 6), ('거란', 18), ('무너', 13), ('방광', 21), ('굴레', 3), ('장터', 7), ('탄화', 4), ('규소', 7), ('굽굽', 19), ('제구', 4), ('토도', 10), ('장단', 10), ('아장아장', 6), ('악플', 4), ('나뭇가지', 8), ('긁힌거', 4), ('고충', 6), ('오늘아침', 16), ('벅벅', 37), ('꽃밭', 7), ('캔넬', 3), ('출입문', 13), ('감칠', 3), ('텁텁한맛', 3), ('월남', 14), ('건너', 32), ('저으', 6), ('적재', 18), ('성제', 8), ('회의', 19), ('비례', 17), ('설렁', 5), ('과감', 44), ('은데', 3), ('합성섬유', 6), ('화들짝', 9), ('해지니', 11), ('거두다', 17), ('보랏빛', 12), ('빈약', 9), ('아디', 4), ('타오', 6), ('소질', 10), ('수병', 3), ('좀덜', 4), ('테이크아웃', 42), ('콧수염', 6), ('회차', 20), ('겨털', 19), ('나타남', 9), ('몸뚱', 6), ('이뤄지다', 19), ('얼음찜질', 17), ('극심하다', 13), ('수임', 6), ('딜레마', 6), ('경질', 7), ('기우', 27), ('살짝살짝', 17), ('연연하다', 3), ('마른행주', 7), ('잘잘', 13), ('개차반', 4), ('셋팅해', 8), ('직감', 23), ('아이즈', 4), ('더살', 4), ('각막', 6), ('토레스', 7), ('기에', 3), ('일정량', 11), ('채끝살', 4), ('채끝', 37), ('벅스', 3), ('에어로', 11), ('쌈장', 10), ('차문', 9), ('고소', 42), ('캣잎', 6), ('방염', 14), ('나뿌진', 4), ('지신', 4), ('성실하다', 11), ('나노', 21), ('지리', 11), ('어거지', 20), ('몽키', 12), ('웍질', 14), ('크랙', 13), ('어쨌는', 7), ('위약', 7), ('꼬질꼬질', 13), ('듀크', 35), ('박싱', 17), ('알아내다', 17), ('파장', 4), ('녹농균', 3), ('황색포도상구균', 10), ('호사', 8), ('자손', 16), ('타인', 9), ('우우', 10), ('우롱', 29), ('샤베트', 5), ('절망', 12), ('혹여', 6), ('목초', 44), ('로컷', 5), ('다각도로', 5), ('프란시스', 8), ('재끼', 7), ('참을성', 6), ('리세', 12), ('쪈내', 6), ('머리핀', 6), ('팜유', 8), ('트레일러', 3), ('스트레치', 5), ('미드', 6), ('베딩', 29), ('안식처', 3), ('태국', 26), ('건조기후', 3), ('토치', 7), ('머플러', 10), ('켁켁', 35), ('소린', 21), ('활활', 6), ('타오르다', 5), ('반원', 3), ('ㅇㄱ', 3), ('작업복', 8), ('콩류', 7), ('에티튜드', 10), ('펌핑할때', 9), ('여인', 3), ('알고리즘', 19), ('기법', 8), ('어줍다', 15), ('고욤', 12), ('착시효과', 4), ('버팔로', 4), ('끈끈', 15), ('진경', 7), ('낚였네', 9), ('로트', 7), ('펜심', 3), ('굳은살', 12), ('풀맛', 4), ('정육점', 18), ('신선설렁탕', 6), ('본점', 5), ('쏭쏭', 5), ('데쉬', 5), ('크리스탈', 43), ('쿼츠', 5), ('침수', 9), ('달리기', 15), ('다트', 4), ('승마', 6), ('훌라후프', 3), ('수심', 5), ('다이빙', 4), ('산걸', 30), ('꼽을때', 23), ('크류', 34), ('청송', 57), ('투썸', 9), ('루이보스', 12), ('투머', 5), ('실익', 3), ('채집', 5), ('번성', 4), ('어쩌냐', 3), ('스노', 5), ('수산물', 7), ('꽈리', 5), ('휠터', 3), ('ㅠㅜㅜㅜㅜ', 3), ('고난', 16), ('부릉부릉', 8), ('캠핑카', 5), ('칸더', 3), ('연애', 14), ('오링', 6), ('추어', 9), ('명기', 8), ('광속', 4), ('차근차근하다', 7), ('스패너', 19), ('니트릴', 3), ('계로', 16), ('편도선염', 5), ('줌마', 29), ('달콤새콤', 14), ('상향', 12), ('평준화', 7), ('무의식', 17), ('맘데', 4), ('알음', 4), ('대타', 3), ('크루', 13), ('포스코', 11), ('가의', 6), ('굽이', 9), ('재작년', 15), ('바이바이', 15), ('마룻바닥', 12), ('뽀스락', 3), ('인기상', 3), ('플레', 5), ('치즈케이크', 5), ('처넌', 36), ('양지', 6), ('무식하다', 15), ('통속', 7), ('단모', 8), ('헬기', 26), ('당사자', 6), ('주민', 13), ('상용', 16), ('이개', 15), ('평화롭다', 13), ('때좀', 5), ('정판', 10), ('전도도', 3), ('챡챡', 7), ('키토산', 5), ('드세욤', 3), ('끼기', 5), ('과다르', 6), ('소득', 4), ('간호사', 9), ('무잡잡', 4), ('두서', 9), ('흐트리', 4), ('오백원', 15), ('비뚤다', 3), ('실장', 5), ('철재', 19), ('쿨링팬', 8), ('큐트', 3), ('ㅠㅠㅋㅋㅋㅋㅋㅋ', 8), ('총총', 22), ('컨백션', 6), ('투맨', 15), ('발랄', 11), ('왕성', 10), ('원내', 3), ('유구', 16), ('검댕', 18), ('만료', 5), ('불스원샷', 20), ('풋내', 11), ('마쓰', 5), ('숭덩숭덩', 8), ('짜르', 5), ('엠앤쿡', 4), ('앞발', 20), ('졸림', 6), ('켁켁거리', 5), ('환경미화원', 4), ('부영', 8), ('쿨톤', 35), ('균수', 10), ('식품첨가물', 19), ('포자', 6), ('얄팍하다', 8), ('털몽치', 3), ('햇습', 13), ('바랬어', 7), ('입밖', 3), ('뽁뽁이없', 5), ('특식', 13), ('불법', 8), ('등뒤', 21), ('ㅜㅜㅜㅜㅜ', 19), ('배위', 10), ('집주인', 7), ('곳감', 4), ('이거루', 5), ('헤어샵', 6), ('공중부양', 7), ('소자', 10), ('피복', 11), ('방콕', 15), ('맛김치', 3), ('펑퍼짐하다', 11), ('향향', 4), ('타라', 8), ('ㅅㅏ', 3), ('펌핑부분', 4), ('그릉', 4), ('임신부', 5), ('말레', 5), ('부타', 5), ('고무나무', 3), ('마사토', 48), ('대형화', 4), ('수경재배', 6), ('몬스테라', 4), ('도오', 8), ('광내', 7), ('실키', 22), ('한나', 6), ('베크', 29), ('녹십자', 5), ('보편', 21), ('푸근하다', 12), ('부대', 3), ('보풀다', 14), ('체반', 5), ('알레르기비염', 4), ('겨우내', 7), ('숙명', 3), ('잘근', 5), ('다이어트식단', 4), ('스텐망', 5), ('벤치', 5), ('텐데요', 15), ('탁자', 23), ('ㅎㄹ', 5), ('개보', 10), ('리필팩', 6), ('손닦기', 3), ('제조법', 4), ('꼽았다', 9), ('가을로', 3), ('고의', 12), ('찟어지', 4), ('노령견', 25), ('헐렁헐렁하다', 14), ('악하다', 8), ('샤틴', 5), ('쿠킹', 9), ('사진빨', 8), ('쉬엄쉬엄', 3), ('여니', 23), ('솔직담백하다', 4), ('호평', 19), ('튜버', 9), ('불능', 3), ('카투리', 4), ('뱅글', 45), ('퓨어루', 5), ('왜삿', 3), ('씨컬', 3), ('도약', 8), ('뚠뚠', 10), ('서지', 13), ('강성', 8), ('스포크', 8), ('병렬', 3), ('생색', 8), ('으쓱', 6), ('철창', 18), ('곰탕', 38), ('돼지국밥', 3), ('소나무', 45), ('핸드백', 13), ('ㅜㅎ', 4), ('토함', 4), ('후후', 13), ('페로페', 4), ('퐁피두', 5), ('제곱미터', 6), ('나타내다', 42), ('무검', 4), ('꺠져', 3), ('재수', 10), ('엘릭스', 8), ('유선형', 8), ('봉대', 6), ('스텐봉', 3), ('생태', 6), ('새벽녘', 5), ('구절판', 6), ('맹탕이', 5), ('맥포머', 6), ('건마', 4), ('키키', 12), ('멀뚱멀뚱', 5), ('떨치다', 6), ('쭈그리다', 13), ('색력', 13), ('색조', 21), ('노노노', 6), ('만칠천원', 9), ('퍼내다', 12), ('순전하다', 14), ('때깔', 14), ('햇님', 7), ('유성매직', 4), ('액셀', 3), ('쉬팅', 9), ('절도', 5), ('경비실', 35), ('쌍수', 7), ('오자', 16), ('완주', 3), ('뒷산', 4), ('스테이플러', 6), ('심의', 3), ('마눌', 14), ('있드라구', 14), ('마늘빵', 9), ('룰루', 6), ('일괄', 9), ('일양약품', 27), ('민란', 3), ('말함', 11), ('레터', 11), ('루메', 28), ('상중하', 5), ('겹겹', 9), ('빨때컵', 3), ('꾸리다', 10), ('나락', 5), ('이따위', 33), ('다물어지다', 4), ('아이라인', 29), ('붓펜', 9), ('눈매', 10), ('석고보드', 14), ('현란하다', 6), ('퍼담', 3), ('홈플래닛', 29), ('안눌', 7), ('유차', 10), ('라페', 7), ('한심하다', 10), ('미크', 4), ('떼짐', 6), ('합계', 16), ('이삿날', 3), ('지유', 8), ('매료', 13), ('정오', 4), ('떡집', 5), ('제코', 5), ('영국', 39), ('렌덤', 3), ('커플링', 5), ('좋네욤', 5), ('리벤스', 7), ('비취', 3), ('궁디', 19), ('랄라', 3), ('직함', 6), ('빡세', 32), ('오엘', 8), ('금수', 7), ('유병', 3), ('모자이크', 4), ('썻더', 5), ('금징', 3), ('죠리퐁', 4), ('필통', 25), ('휘릭휘릭', 3), ('또박또박', 3), ('수화기', 7), ('두셋', 6), ('그래도좋아', 3), ('슬롯', 10), ('신은지', 11), ('장대', 3), ('성가시다', 17), ('손데', 3), ('훈련소', 38), ('위만', 6), ('음직', 3), ('메컵', 4), ('청순하다', 5), ('애교살', 8), ('글리터', 6), ('쉬머', 3), ('핏하', 4), ('가물다', 4), ('죽밥', 3), ('힙니', 9), ('구몬', 6), ('풀때', 12), ('산시', 4), ('아이손', 21), ('썻구', 5), ('배리', 4), ('펄펄', 32), ('간사이', 4), ('상실', 9), ('대놓고', 44), ('샹각', 7), ('붕뜨네', 3), ('꼬숩꼬숩', 3), ('해표', 9), ('소한', 8), ('자칭', 6), ('수운', 3), ('지음', 4), ('비온', 7), ('콧털', 15), ('면사', 15), ('요랑', 8), ('스캔', 22), ('부와', 7), ('부의', 12), ('곡률', 6), ('유연', 11), ('거창하다', 13), ('널찍하다', 24), ('잉글랜드', 7), ('꾀다', 8), ('깡총깡총', 3), ('히어로', 3), ('욕시', 3), ('말랭이', 44), ('컨넬', 12), ('배번', 3), ('조정은', 6), ('소심하다', 15), ('꽁치', 7), ('브래킷', 9), ('직선', 26), ('잔짐', 3), ('딩고', 5), ('그녕', 4), ('마춤', 14), ('빨랫대', 7), ('캡술', 8), ('트레져', 3), ('장금', 17), ('유니콘', 28), ('연두빛', 13), ('이중모음', 3), ('블렛', 5), ('았음', 7), ('거칠거칠', 10), ('감귤류', 6), ('고만고만하다', 8), ('해바라기', 8), ('사수', 3), ('삼다수', 4), ('리컴', 7), ('뜬금', 6), ('부캐', 5), ('글루코', 7), ('절둑절둑', 3), ('한밤중', 16), ('아파해', 12), ('앰보', 4), ('부양', 3), ('눈쪽', 6), ('애매모호하다', 7), ('대못', 8), ('다린', 8), ('고마움', 6), ('뛰어가다', 21), ('오리온', 41), ('복어', 7), ('해파리', 5), ('소위', 8), ('전립', 5), ('바다로', 3), ('떠버리', 6), ('성숙하다', 3), ('어서어서', 3), ('해수', 4), ('머금으', 4), ('음량조절', 8), ('ㅡㅡㅡㅡㅡㅡㅡㅡㅡㅡㅡㅡㅡㅡㅡㅡㅡㅡㅡㅡㅡㅡㅡㅡㅡㅡㅡㅡㅡㅡ', 11), ('연하', 6), ('히알루', 13), ('스톰', 21), ('협응력', 6), ('공격', 13), ('구사', 11), ('쌀통', 25), ('효녀', 3), ('증기기관차', 4), ('퀘이커', 37), ('어쨋건', 6), ('다공', 10), ('방열', 6), ('꼬부라지다', 3), ('가쉽', 6), ('들썩', 14), ('흉통', 7), ('사계', 21), ('이상무', 8), ('다슈', 14), ('김냉', 7), ('먹물', 8), ('간사', 3), ('넥스', 37), ('배서', 5), ('폼폼', 6), ('유향', 6), ('에서라도', 16), ('속사', 5), ('데드', 6), ('롤롤이', 3), ('부비부비', 5), ('바스라지다', 20), ('몽글', 5), ('요시', 3), ('안색', 11), ('가식', 3), ('천방지축', 4), ('빙글', 7), ('약상자', 3), ('동강', 9), ('만이천', 4), ('무빙', 11), ('맛일', 9), ('빻는', 4), ('무무', 11), ('양일', 5), ('이라기보다는', 18), ('지모', 15), ('마테', 3), ('화원', 5), ('비보', 8), ('고등학교', 25), ('봄여름가을겨울', 8), ('태고', 8), ('폴리머', 5), ('헹구어', 6), ('눌지', 9), ('팰리세이드', 8), ('드르륵', 17), ('자만', 18), ('질척', 6), ('주루룩', 14), ('사력', 3), ('음영', 10), ('흉터', 23), ('팔자주름', 13), ('코옆', 10), ('매도', 29), ('메로나', 4), ('만천백원', 11), ('러시아', 3), ('까스', 6), ('금타', 4), ('까스렌지', 4), ('비정상', 11), ('살구', 21), ('구독', 9), ('조마', 3), ('방만', 7), ('절연', 9), ('분포', 33), ('형상', 13), ('유상', 7), ('추세', 19), ('리시버', 8), ('고음', 16), ('저음', 10), ('마지노선', 6), ('만가', 5), ('개성', 12), ('평수', 24), ('헤스', 3), ('가마솥', 6), ('퀄리티면', 3), ('깨작', 5), ('반석', 17), ('개꿀템', 4), ('왓치', 3), ('대쉬', 6), ('쑥향', 8), ('ㅜㅡㅠ', 3), ('같잖다', 3), ('함수', 3), ('식량', 18), ('톨스토이', 11), ('개복치', 4), ('독점', 3), ('스월', 17), ('라벨로', 3), ('만병통치약', 3), ('생활화', 3), ('특가할', 3), ('뜬금없이', 14), ('폭삭', 6), ('다리미질', 29), ('반경', 8), ('석회가루', 5), ('장사꾼', 6), ('스텐볼', 10), ('배농', 6), ('꽉안', 5), ('ㅡㅡㅡㅡㅡㅡㅡㅡㅡㅡㅡㅡㅡㅡㅡㅡㅡㅡㅡㅡㅡㅡㅡㅡㅡㅡㅡㅡㅡ', 26), ('쌀겨', 12), ('팩용', 3), ('돌잔치', 21), ('ㅠㅠㅋㅋㅋㅋㅋ', 5), ('백열등', 5), ('호프', 7), ('야심하다', 3), ('오동통하다', 19), ('쌀컵', 14), ('머쉬룸', 7), ('투신', 4), ('봉우리', 18), ('무분별', 4), ('합당', 4), ('테트리스', 10), ('빠싹', 7), ('월산', 7), ('런닝머신', 3), ('찬양', 11), ('일경', 9), ('분출', 5), ('소도', 5), ('라그', 8), ('사르르', 41), ('듀오락', 7), ('요쿠르트', 10), ('위도', 24), ('기념일', 11), ('팔랑팔랑', 5), ('팔랑거리다', 6), ('자년', 9), ('원매', 8), ('트리오', 11), ('컷음', 5), ('재선', 7), ('우정', 3), ('방긋방긋', 4), ('약밥', 11), ('포항', 9), ('물성', 4), ('자발', 9), ('빗겨', 12), ('망각', 5), ('적립', 30), ('배죽', 6), ('연근', 29), ('들엇어', 6), ('들엇습니', 5), ('산타페', 9), ('진땀', 12), ('생얼', 7), ('다크닝', 6), ('불친절', 8), ('흡족', 10), ('단보', 5), ('착즙콘', 19), ('당당', 4), ('교포', 3), ('헤아리다', 5), ('양조', 20), ('뿐더', 4), ('맥북', 37), ('벨런스', 3), ('밖에는', 17), ('롱패딩', 13), ('죽음', 15), ('메르', 24), ('앤코', 10), ('만지작거리다', 18), ('윤곽', 13), ('순수한면', 10), ('식생활', 19), ('ㅎㅅ', 6), ('살빠', 7), ('자리공', 5), ('티아', 6), ('깡통', 8), ('청년', 7), ('단비', 3), ('우연찮', 21), ('출판', 7), ('왓습', 3), ('물컹물컹', 5), ('보양식', 16), ('팩킹', 4), ('살여', 8), ('헬프', 12), ('레디', 33), ('흐믓합니', 5), ('용저', 3), ('근접샷', 3), ('세이브', 17), ('다대기', 5), ('도박', 4), ('대로는', 9), ('연거푸', 3), ('쟁여둬', 7), ('퇴치', 18), ('라파', 3), ('물자', 6), ('치중', 5), ('목숨', 15), ('항만', 5), ('소등', 11), ('놀이기구', 11), ('별명', 16), ('왔어욤', 3), ('펌푸', 3), ('교통사고', 5), ('이치로', 3), ('쫍아', 3), ('광등', 13), ('짦아', 5), ('스멜', 7), ('태교', 6), ('다이아몬드', 102), ('트렸', 13), ('옵티', 6), ('자차', 6), ('태그', 9), ('마구잡이', 12), ('부랑', 6), ('록스', 7), ('비등', 12), ('리벳', 10), ('단층', 5), ('마가루', 6), ('외각', 3), ('스팩', 12), ('직선형', 4), ('훈훈', 6), ('틀기', 3), ('부라', 11), ('전계', 21), ('욕먹다', 23), ('니삭스', 3), ('분사기', 18), ('택도없', 4), ('번재', 4), ('까비', 9), ('맹글', 3), ('리살', 10), ('일곱', 25), ('빗대다', 4), ('샤프란', 4), ('유충', 7), ('새뱃돈', 3), ('고구', 8), ('나폴', 5), ('어자피', 8), ('떠블', 3), ('락카', 3), ('홀쭉하다', 10), ('베테', 8), ('축구선수', 3), ('횡재', 13), ('금년', 5), ('마진', 15), ('응꼬털', 5), ('이심', 5), ('면시', 8), ('귀로', 38), ('밤용', 3), ('아서', 5), ('반칙', 5), ('헤어스타일', 6), ('기예', 7), ('구르프', 4), ('기후', 15), ('애증', 14), ('방귀', 33), ('애덜', 4), ('배냇저고리', 3), ('대롱대롱', 13), ('흐흐', 22), ('헥사', 21), ('클래드', 3), ('내열', 21), ('박준', 36), ('래디언트', 3), ('건대', 11), ('물만두', 12), ('아파타이트', 3), ('겸사', 11), ('메탄올', 4), ('살생', 4), ('메주', 28), ('게장', 5), ('휘릭', 3), ('굴린', 4), ('살사', 6), ('찜질방', 15), ('갓난', 5), ('감치', 5), ('도레미', 13), ('음계', 8), ('파솔', 6), ('방향성', 7), ('물리치료', 17), ('부울', 5), ('네츄럴', 12), ('핏감', 13), ('경고', 21), ('관점', 13), ('창작', 7), ('고전', 9), ('치즈스틱', 16), ('ㅠㅎ', 10), ('홈트', 14), ('안꼬매', 3), ('수학여행', 8), ('꼬매', 20), ('이뮨샷', 33), ('물올', 5), ('입국', 3), ('딸칵', 7), ('간소화', 5), ('큐션', 7), ('에어콘', 18), ('미니바', 3), ('쪼그맣', 3), ('큰집', 23), ('캬라멜', 17), ('접힌채', 3), ('뽀통령', 7), ('훌훌', 3), ('뭉개져', 9), ('개짐', 12), ('긍데', 19), ('기관지염', 9), ('화욜', 6), ('어답터', 4), ('활짝', 46), ('밥량', 4), ('유아인', 3), ('꼿아놓', 3), ('됫다', 9), ('뭉뭉님', 6), ('다는데', 7), ('꿀향', 22), ('달콤달콤', 5), ('달그락달그락', 9), ('다담', 6), ('하디', 13), ('훌룡하', 3), ('보고서', 50), ('홍어', 11), ('쪽팔리다', 7), ('피나무', 21), ('아리아나', 7), ('반찬세', 3), ('파인트', 4), ('예측', 8), ('관리인', 3), ('드립커피', 4), ('아포', 12), ('카토', 6), ('시더', 4), ('나볼', 8), ('나왓는데', 4), ('한치', 15), ('커피타임', 5), ('확나', 4), ('자욱하다', 6), ('벤츠', 19), ('봉인씰', 7), ('외한', 6), ('미개', 17), ('신품', 5), ('금강', 3), ('울렁울렁', 8), ('당사', 3), ('싸이트', 12), ('단화', 7), ('정강이', 12), ('유튜', 10), ('버들', 11), ('극명하다', 11), ('고철', 17), ('편백나무', 21), ('빈티', 19), ('언덕길', 6), ('목별', 3), ('복직', 6), ('자부심', 17), ('안드로이드폰', 9), ('부방', 19), ('건너오다', 8), ('광대도', 3), ('쫀독', 5), ('앵두', 10), ('새장', 8), ('쫀쫀한데', 4), ('스거늘', 4), ('스르', 8), ('흐느적', 13), ('회당', 9), ('거칠거칠하다', 14), ('도르가', 7), ('내통', 8), ('여왕', 10), ('미키마우스', 3), ('좋쿠', 6), ('낫질', 3), ('이해해', 14), ('입금', 6), ('만회', 25), ('기계사', 4), ('펄럭펄럭', 4), ('튕기듯', 3), ('복은', 10), ('수면시간', 5), ('디지털시계', 5), ('드러내다', 11), ('치밀다', 6), ('규모', 11), ('버스정류장', 4), ('스포츠카', 7), ('물끼', 13), ('영양식', 20), ('송풍기', 6), ('숙달', 13), ('삼십분', 16), ('일식집', 10), ('핫템', 7), ('지름길', 7), ('집합', 13), ('난해', 3), ('수첩', 6), ('루키', 15), ('버둥', 4), ('누더기', 6), ('앙상하다', 6), ('몰골', 3), ('만두국', 14), ('교채', 5), ('어치', 18), ('촘촘히', 23), ('양각', 3), ('ㅊㅊ', 3), ('끙아', 3), ('의안', 11), ('딩젤', 3), ('ㄴㅔ', 4), ('괄사', 4), ('갉아먹다', 11), ('징후', 4), ('체라', 12), ('풀풀', 22), ('더미', 10), ('스케이트', 5), ('뿌리채소', 3), ('뛰어들다', 7), ('뽀짜툰', 20), ('명가', 6), ('원활', 5), ('유카', 6), ('푸시', 7), ('웜톤', 24), ('말따', 7), ('재잘재잘', 4), ('김명철', 3), ('토코', 3), ('페놀', 10), ('퉤퉤', 8), ('가일', 7), ('해양', 32), ('천인', 3), ('크리드', 3), ('누비', 9), ('저조하다', 3), ('공과금', 3), ('근시', 4), ('외근', 11), ('하복', 6), ('부심', 9), ('씨름', 28), ('엘범', 4), ('면허', 9), ('고휘', 3), ('연수', 15), ('차일피일', 7), ('어리둥절', 9), ('로마숫자', 3), ('어랏', 7), ('코멧제품', 6), ('부시시', 10), ('케라시스', 35), ('헤리', 8), ('눈동자', 12), ('정치', 11), ('고락', 4), ('믹스넛', 18), ('고품격', 7), ('어필', 14), ('배배', 14), ('연어초밥', 20), ('꼬리뼈', 10), ('퍼피', 17), ('자바라', 5), ('할로윈', 14), ('ㅍㅍ', 4), ('네일아트', 3), ('지렛대', 7), ('테블릿', 29), ('간간이', 8), ('부터도', 12), ('습성', 11), ('셀룰로스', 7), ('물타', 3), ('부욱', 4), ('은진', 8), ('가막', 3), ('스윗', 30), ('부틸렌', 6), ('라우로', 4), ('글루타메이트', 3), ('프로필', 16), ('실러', 4), ('파파야', 3), ('바이옴', 3), ('생균', 4), ('코맷', 8), ('유쾌', 8), ('통쾌하다', 5), ('퐝퐝', 6), ('영양학', 12), ('요부', 5), ('자작나무', 3), ('쿠앤크', 6), ('지린다', 12), ('어케어케', 3), ('스며듬', 3), ('엘리트', 10), ('아애', 8), ('랭크되어', 3), ('ㅎㅐ', 4), ('꾀꼬리', 3), ('제해', 15), ('면티', 13), ('콘치', 6), ('포테이토', 6), ('여실', 6), ('맵시', 7), ('제원', 4), ('엎어', 15), ('테옆', 4), ('탈골', 12), ('빠이', 4), ('내연', 4), ('따땃하', 11), ('연회', 3), ('원안', 13), ('가첨', 3), ('이허', 4), ('어지럽히다', 6), ('괜찬을듯', 5), ('우연이', 5), ('얊아', 3), ('네덜란드', 13), ('존맛탱', 5), ('쫀득쫀득하', 11), ('체고', 18), ('로티', 7), ('세리', 8), ('차디차다', 3), ('무역', 5), ('중장', 7), ('스크래처', 6), ('밑층', 3), ('위층', 7), ('설선물', 4), ('핸디형', 19), ('느킴', 6), ('부스럼', 5), ('부로', 25), ('텐텐', 8), ('앤데', 11), ('질색', 24), ('알라', 5), ('콧마합니', 4), ('헹궜는데', 10), ('기능사', 5), ('팬닝', 3), ('메드', 3), ('셧음', 4), ('돌변', 3), ('일방', 4), ('협력', 3), ('여직원', 5), ('청담', 24), ('시림', 8), ('커뮤니티', 7), ('신생', 10), ('감감', 10), ('무소식', 11), ('질척하다', 3), ('재활용품', 8), ('트립토판', 3), ('포타슘', 4), ('베이트', 3), ('중국인', 6), ('노산', 4), ('학부모', 6), ('조산', 7), ('왕자', 7), ('산아', 3), ('외계인', 7), ('동냥', 3), ('고름', 10), ('굴삭기', 4), ('츄루', 5), ('라이언', 21), ('빼앗기다', 8), ('비포락토', 13), ('과민성', 16), ('예기', 7), ('디젤엔진', 7), ('엘라', 16), ('미장', 5), ('하나고', 12), ('느타리', 24), ('질주', 4), ('부유', 7), ('자존감', 11), ('창밖', 11), ('성부', 3), ('올바르다', 50), ('생리량', 6), ('학용품', 11), ('꾸륵꾸륵', 4), ('에버', 16), ('통용', 3), ('살찐', 17), ('감방', 4), ('위애', 4), ('감임', 4), ('인플레이션', 4), ('환율', 9), ('공략', 7), ('인디언', 11), ('반질반질하다', 19), ('쏙드', 3), ('호비다', 6), ('수질', 19), ('시급하다', 20), ('세아', 3), ('여도', 7), ('입성', 4), ('자연환경', 6), ('핀란드', 30), ('발길', 7), ('튕기', 8), ('면세점', 16), ('아이돌', 5), ('기름종이', 16), ('껏다켯다', 3), ('치우치다', 40), ('장선', 14), ('감덩', 4), ('트렉패드', 3), ('특별나다', 5), ('교차로', 10), ('집애', 21), ('안드심', 5), ('둘쨋', 8), ('풍요롭', 4), ('평이하다', 6), ('외제차', 4), ('꼽았더', 5), ('쫄리', 6), ('오늘밤', 9), ('핑퐁', 5), ('글래스', 4), ('줄땐', 3), ('차일', 13), ('구함', 12), ('로캣', 4), ('삿구', 5), ('이라든지', 15), ('송월타올', 5), ('송월타월', 4), ('딸둘', 7), ('삐리', 3), ('마름모', 4), ('도우미', 17), ('축소', 15), ('가렵지', 8), ('고역', 11), ('소싱', 8), ('감지덕지', 7), ('고고씽', 8), ('세단', 6), ('사격', 7), ('훤해', 8), ('롭니', 4), ('나왓으', 3), ('시련', 3), ('젠장', 18), ('팬션', 5), ('엣킨스', 4), ('퀘스트', 8), ('사절', 5), ('나용', 25), ('보존료', 11), ('티팟', 34), ('누텔라', 8), ('발도장', 6), ('신구', 6), ('무당벌레', 20), ('외롭다', 6), ('둘러쌓다', 6), ('전파', 20), ('개드립', 7), ('린지', 4), ('킁킁킁', 7), ('드릅', 4), ('햏어', 3), ('절레절레', 6), ('날뛰다', 14), ('버거운', 9), ('대대손손', 4), ('미주', 4), ('서빙', 4), ('이돌', 3), ('일사', 13), ('새털', 3), ('특가떠', 8), ('특가뜰때', 3), ('짱하다', 4), ('레인보우', 7), ('스토퍼', 18), ('짭쪼롬', 21), ('일동', 10), ('로망', 12), ('숙련', 14), ('전형', 16), ('만다린', 5), ('바로가기', 5), ('프라임', 13), ('즐겨찾기', 3), ('크롬캐스트', 14), ('뭉클하다', 3), ('헛돈', 7), ('전기용량', 6), ('뿜어져', 7), ('그르치', 3), ('예꼬맘', 21), ('잘근잘근', 25), ('집에껀', 3), ('오돌오돌', 6), ('후닥닥', 3), ('빙빙', 14), ('통관', 12), ('ㅎㅎㄹ', 7), ('파열', 10), ('이랬는데', 14), ('안햇', 10), ('콩기름', 9), ('체육', 7), ('가계', 7), ('엄정화', 3), ('그른', 5), ('가각', 5), ('하명', 3), ('해드셋', 6), ('주얼', 29), ('여건', 11), ('택했네', 5), ('선구', 6), ('콜렉터', 3), ('교구장', 3), ('응력', 5), ('베린', 9), ('대학병원', 6), ('가랭이', 6), ('돈버', 5), ('지적', 23), ('배지', 10), ('는게', 5), ('몰캉하다', 4), ('다시금', 17), ('느꼇네', 3), ('물길', 3), ('위력', 10), ('단상', 4), ('각트', 9), ('습지', 10), ('목안', 5), ('날아들다', 4), ('씬씬씬', 13), ('꽈악', 5), ('당혹스럽다', 17), ('편편', 8), ('떨어트린', 5), ('래지', 10), ('결속', 6), ('나베', 6), ('달성', 11), ('백설', 6), ('발갛', 6), ('째지다', 3), ('인찌', 3), ('와삭', 6), ('문전', 9), ('쿠킨', 7), ('고초', 3), ('증대', 8), ('태교여행', 5), ('휘발유', 36), ('경유', 12), ('유약', 16), ('라거', 16), ('토의', 6), ('피드백', 31), ('월드컵', 6), ('심기', 9), ('매개', 5), ('갚다', 8), ('못해', 5), ('들통', 8), ('수소', 4), ('도인', 12), ('훌러덩', 5), ('포근포근', 7), ('헐렁거리', 5), ('넛트', 8), ('하양', 22), ('발짝', 5), ('물러나다', 3), ('단숨', 8), ('분투', 3), ('늘씬하다', 10), ('자루', 13), ('그리드', 4), ('했드', 3), ('블라인드', 38), ('들이키다', 9), ('성조숙증', 8), ('과유', 11), ('불급', 11), ('초라하다', 7), ('바닷가재', 7), ('갈비살', 4), ('개삿', 6), ('부하', 13), ('그딴', 7), ('꼽은채', 3), ('찌릿', 7), ('ㅃㅃ', 3), ('남진', 8), ('됫는데', 5), ('비스페놀', 15), ('상술', 23), ('막노동', 4), ('투둑', 6), ('본채', 5), ('에의', 18), ('봣을때', 5), ('키보', 26), ('트랙패드', 18), ('알아채다', 11), ('니아', 9), ('들르다', 14), ('거래처', 7), ('나부', 6), ('끌해', 3), ('리까', 5), ('은혜', 3), ('굳히다', 17), ('ㅋㅋㄱㅋ', 4), ('비구', 3), ('삼각팬티', 6), ('번것', 3), ('덱스트린', 15), ('치골', 4), ('젊은이', 8), ('타블렛', 27), ('대상포진', 8), ('폴리스', 10), ('아교', 6), ('세포대사', 4), ('복제', 9), ('퀘르세틴', 3), ('합병증', 5), ('화합물', 9), ('에스터', 5), ('범인', 8), ('저그', 5), ('유목생활', 5), ('장미꽃', 30), ('스크레', 16), ('포메라니안', 18), ('기로', 3), ('볼뻔', 3), ('오이김치', 3), ('막연하다', 21), ('소꿉장난', 4), ('오목', 5), ('애호가', 8), ('절데', 4), ('며느리', 15), ('보얗다', 4), ('이하나', 14), ('싱품', 7), ('캣초딩', 4), ('어쩐', 36), ('매정하다', 3), ('극한', 6), ('턱수염', 6), ('면역계', 3), ('홍상', 6), ('파레트', 15), ('치치', 8), ('닝닝', 10), ('파사삭', 4), ('가품', 27), ('시체', 8), ('줫어', 5), ('설악', 3), ('추어탕', 4), ('디립', 4), ('꼼수', 7), ('통상', 13), ('하브', 4), ('돌파', 3), ('하중', 18), ('유료', 8), ('심박수', 33), ('게리', 4), ('하바', 3), ('청우식품', 10), ('욘석', 4), ('거랍니', 4), ('녹나다', 12), ('보슬보슬', 4), ('보리밥', 5), ('돈독하다', 3), ('삿거든', 5), ('습관화', 4), ('스판성', 6), ('포정', 5), ('바라지다', 5), ('얼얼', 5), ('은단', 7), ('떨떠름하다', 4), ('뉴뜨레', 6), ('단면도', 3), ('천상', 3), ('끝단', 15), ('뜻대로', 5), ('효력', 6), ('애터', 8), ('파여지다', 5), ('축농증', 4), ('배식', 14), ('졸귀', 7), ('샀슴다', 3), ('침낭', 18), ('통인', 5), ('이위', 8), ('울림', 22), ('쫄깃쫄깃해', 10), ('이남', 20), ('엇습', 11), ('총사', 4), ('토양', 8), ('농업', 9), ('생태계', 12), ('조성하', 4), ('농경', 3), ('노지', 5), ('쌕쌕', 3), ('츄르형태', 9), ('할짝거리다', 3), ('재빨리', 14), ('판쪽', 10), ('재니', 7), ('땜빵', 11), ('쓰래', 15), ('등배김', 3), ('괴안아', 3), ('축구공', 6), ('풋살', 4), ('쏙드네용', 3), ('접힌부분', 8), ('고는', 4), ('어질다', 16), ('박일동', 4), ('한술', 6), ('꼬기', 6), ('페이보릿', 3), ('습관성', 5), ('쇼퍼', 12), ('치드향', 3), ('파지', 16), ('스크럼', 4), ('젖먹이', 3), ('에스빌락', 5), ('버벅대다', 12), ('끈덕끈덕', 3), ('천마', 5), ('떡실신', 4), ('얼척', 3), ('시비', 3), ('팔로', 16), ('어허', 4), ('생시', 3), ('성급하다', 10), ('천상계', 3), ('십상', 4), ('방묘문', 14), ('아메', 18), ('오도독오도독', 3), ('동아제약', 10), ('일익', 3), ('특화', 6), ('덜컹덜컹', 8), ('점령', 6), ('후무스', 4), ('무지개다리', 9), ('건너다', 26), ('우울증', 18), ('신중', 17), ('차야', 7), ('ㅈㄹ', 9), ('촌티', 5), ('빠빠', 3), ('타투', 25), ('뿔사', 8), ('립밤', 6), ('획획', 3), ('개학', 12), ('신기전', 3), ('그리스', 9), ('문명', 5), ('유시', 19), ('짜장면', 4), ('하닌깐', 3), ('좌르르', 9), ('운용', 5), ('조량', 5), ('컷트', 6), ('단아', 15), ('힐것', 3), ('가루다', 3), ('액젖', 9), ('ㅅㅍ', 9), ('플래그', 13), ('합성어', 3), ('노리개', 6), ('하우', 3), ('빨기', 11), ('프로세서', 12), ('명암', 16), ('공연장', 3), ('한가운데', 8), ('콘텐츠', 24), ('예능', 5), ('채팅', 15), ('게임기', 7), ('햄토리', 10), ('옷맵시', 5), ('나방', 9), ('점잖다', 4), ('버렷습니', 4), ('홈웨어', 9), ('신입', 3), ('의사소통', 7), ('축구화', 18), ('용달', 9), ('균일', 5), ('ㅋㅋㅠㅠ', 6), ('지미', 4), ('쌍화탕', 5), ('안온', 5), ('구런', 3), ('액자', 9), ('삐뚤빼뚤', 6), ('소박하다', 7), ('어쩌겠', 3), ('눈요기', 4), ('ㅡㅡㅋㅋㅋ', 3), ('부패', 14), ('대적', 4), ('판두', 4), ('황토색', 17), ('해감', 13), ('오케스트라', 13), ('헹궈지', 4), ('은어', 5), ('방일', 4), ('운세', 4), ('점진', 5), ('하드캐리', 5), ('화홍붓', 6), ('껄껄', 12), ('꼽으라', 8), ('그랬구나', 3), ('여동생', 20), ('보이드', 4), ('에버랜드', 4), ('놀이동산', 4), ('씁쓰름하다', 6), ('닙스', 4), ('모용', 13), ('회분', 16), ('얼굴크기', 15), ('혁신', 32), ('버킷', 23), ('삿다', 21), ('브루노', 23), ('그라데이션', 11), ('캔버스', 13), ('반동', 8), ('엉킴없', 13), ('실루엣', 9), ('미션', 18), ('빙의', 9), ('츄리', 11), ('돈더', 9), ('지오', 11), ('벨라쿠진', 4), ('되돌아오다', 7), ('울음', 20), ('ㅜㅋㅋ', 5), ('클루', 4), ('브라우니', 38), ('허물', 4), ('내뱉다', 4), ('빵구', 22), ('한복', 7), ('무마', 16), ('안띠', 4), ('중건', 4), ('별루없', 4), ('스킬', 24), ('직성', 10), ('갓난아기', 7), ('배넷', 5), ('입대', 31), ('가축', 3), ('떤다', 13), ('이윤', 10), ('적진', 7), ('겟했네', 3), ('티크', 6), ('콜로', 21), ('벨기에', 6), ('찡하다', 4), ('퐁당', 21), ('만수무강', 3), ('페브', 3), ('음으로', 22), ('핑꾸', 6), ('언론', 4), ('도용', 5), ('변덕', 8), ('근행', 5), ('대들다', 7), ('핏기', 9), ('투리', 27), ('부스트', 7), ('장유리', 4), ('에이스', 4), ('두근', 6), ('홀려', 8), ('애슐리', 4), ('도분', 6), ('분추', 4), ('소맥', 3), ('이접', 3), ('가렵습니', 3), ('갠찮다', 3), ('컷팅선', 3), ('치워지다', 6), ('닥스', 7), ('하래', 12), ('졸지', 6), ('ㅡㅡㅡㅡㅡㅡㅡㅡㅡㅡㅡㅡㅡㅡㅡㅡㅡ', 21), ('월지', 10), ('신혼여행', 6), ('더러는', 3), ('알듯', 5), ('스테이', 33), ('백장', 8), ('모국어', 5), ('녹슨', 19), ('질김', 10), ('쩌구', 6), ('ㄱㅓ', 4), ('사리다', 5), ('쫄쫄쫄', 3), ('ㅋㅎ', 3), ('동파', 4), ('비릿한', 4), ('갠찮은거', 3), ('모종', 10), ('견용', 14), ('저혈압', 9), ('용용', 8), ('소셜커머스', 3), ('이식', 13), ('도통', 25), ('마로', 6), ('바디럽', 4), ('수관', 6), ('주사위', 16), ('떳어', 3), ('하고의', 3), ('작두', 7), ('패트병', 15), ('지느러미', 17), ('전건', 8), ('포맨', 8), ('관여', 15), ('크래프트', 6), ('올레', 13), ('북미', 4), ('각광', 4), ('라무', 3), ('냠새', 4), ('테로', 8), ('화농', 14), ('단말기', 4), ('머금', 22), ('오므리', 5), ('참전', 6), ('세면기', 5), ('깔깔하다', 5), ('지심', 4), ('언박싱후', 4), ('장렬', 3), ('용납', 3), ('꼽기', 15), ('써큘레이터', 3), ('리무진', 7), ('방사', 16), ('시상', 3), ('사기그릇', 4), ('인천공항', 3), ('이메일', 4), ('대강', 32), ('토르', 4), ('히트텍', 12), ('농담', 7), ('자가면역질환', 3), ('포진', 14), ('년안', 10), ('발광', 10), ('모듈', 12), ('파지다', 3), ('초코렛', 16), ('섭스', 8), ('니드', 19), ('흐믈', 6), ('웜지스', 10), ('두상', 16), ('턱턱', 13), ('이라고도', 27), ('보스턴', 6), ('스위트콘', 3), ('수학과', 3), ('넛츠앤스낵스', 4), ('햄볶', 8), ('개인정보', 5), ('선선', 16), ('광주', 9), ('특정하다', 11), ('징글징글', 7), ('유별나다', 4), ('맹신', 11), ('수렴', 4), ('귀챠니즘', 3), ('합리화', 11), ('부활', 5), ('죄송', 13), ('자판', 26), ('뭐뭐', 4), ('넋두리', 3), ('머선', 7), ('세종대왕', 5), ('한일전기', 3), ('인승', 9), ('다주', 5), ('실금', 3), ('해짐', 14), ('왕발', 12), ('덧신', 9), ('애플사', 7), ('덕해', 7), ('전염', 3), ('는커녕', 4), ('락토페린', 13), ('고양', 28), ('발랄하다', 9), ('릴렉스', 5), ('모말', 8), ('러블리', 17), ('정핏', 5), ('버핏', 36), ('봄날', 7), ('헬스하', 5), ('찿는', 3), ('혓바늘', 8), ('배율', 6), ('광나', 13), ('이바돔', 3), ('문지', 3), ('몸소', 17), ('빈병', 7), ('먹엇네', 5), ('끈겨', 4), ('절그럭', 3), ('노답', 13), ('폴드', 15), ('래요', 7), ('에스트로겐', 20), ('노아', 13), ('뚝배기', 155), ('둥그스름하다', 5), ('유치', 16), ('사래', 12), ('썸네일', 10), ('일감', 5), ('영화관', 13), ('참가', 3), ('서산', 12), ('꼴다', 11), ('어영부영', 6), ('미니어쳐', 11), ('적색', 9), ('외적', 4), ('폴리페놀', 18), ('임피', 3), ('링클', 11), ('까운', 5), ('노블', 13), ('난민', 5), ('노랫소리', 4), ('후주', 3), ('슬러지', 5), ('싸이클', 5), ('삼사일', 5), ('염화칼륨', 7), ('비눗물', 10), ('다반', 6), ('레스', 18), ('괜츈괜츈', 3), ('헹구세', 3), ('등불', 3), ('이일', 4), ('유추', 7), ('확율', 6), ('복슬복슬하다', 5), ('홍시', 11), ('올망졸망', 4), ('데팔', 11), ('하향', 23), ('적층', 5), ('장함', 4), ('손땀', 3), ('뒹구', 3), ('포면', 5), ('멍꼬찡입니', 8), ('화이트헤드', 22), ('헹궈낼때', 3), ('문대', 17), ('오도', 8), ('괜잖', 3), ('남짓', 23), ('기번', 3), ('요원', 23), ('ㅋㅋㅋㅋㅋㅋㅋㅋㅋㅋㅋㅋㅋㅋㅋㅋㅋㅋ', 4), ('샤핑', 3), ('무치', 10), ('나보이', 6), ('봉오리', 8), ('면알', 5), ('비운', 10), ('처박', 3), ('코땡', 3), ('딸때', 6), ('ㅠㅠㅋㅋㅋㅋ', 13), ('저속', 13), ('답습', 7), ('별사탕', 6), ('키라', 7), ('수반', 3), ('스펀지밥', 4), ('해욬', 3), ('쩐맛', 3), ('밀지', 17), ('발부', 18), ('교대', 11), ('기인', 14), ('불어오다', 6), ('은평', 11), ('나프', 3), ('전향', 3), ('이부', 6), ('땃땃', 4), ('키시', 3), ('금시', 3), ('우윳빛', 4), ('그득하다', 7), ('랍시고', 5), ('디잔', 9), ('마력', 18), ('피처', 20), ('중날', 17), ('쿠앤크맛', 3), ('날숨', 6), ('툼해', 3), ('의집', 8), ('개강', 10), ('여력', 4), ('충만', 14), ('간밤', 4), ('일이구', 8), ('평상복', 6), ('월반', 5), ('배차', 5), ('왜그러지', 6), ('훈기', 7), ('쿠기', 5), ('개봉일', 6), ('젠도', 3), ('지민', 8), ('마침내', 12), ('비스', 3), ('카테고리', 21), ('퇴색', 5), ('백합', 10), ('격식', 4), ('아모레퍼시픽', 6), ('정숙', 9), ('녹조', 5), ('다임', 7), ('민시', 3), ('나풀거리다', 6), ('우유팩', 34), ('때기', 11), ('ㅇㅊ', 6), ('꺼냇는데', 3), ('부자연', 5), ('정품키', 3), ('중고나라', 10), ('북커버', 7), ('빈티나', 3), ('갱쥐', 9), ('인즉', 5), ('안약', 11), ('몰살', 5), ('자반', 31), ('디시', 4), ('디아', 4), ('디폴트', 5), ('콩돌', 16), ('양산', 15), ('평판', 14), ('함성', 4), ('날끝', 3), ('쾌재', 3), ('다스리다', 7), ('체통', 3), ('다잡다', 8), ('진흙', 9), ('막내아들', 5), ('세잔', 7), ('고단', 4), ('성체', 5), ('물렁거려', 4), ('서주', 8), ('한드레', 18), ('다차', 9), ('음식재료', 11), ('힘안', 11), ('가어', 4), ('더블클릭', 3), ('자기만족', 7), ('넘어뜨리다', 6), ('리빙홈', 3), ('소취', 3), ('속제', 3), ('페브리', 3), ('시프', 5), ('볼록볼록', 3), ('융기', 6), ('음양', 7), ('감흥', 13), ('허약', 3), ('혼선', 3), ('땀날때', 4), ('추이', 8), ('가규', 4), ('평면형', 4), ('지우', 9), ('엇갈리다', 7), ('삼면', 3), ('지란', 3), ('각성', 9), ('페도라', 13), ('심장소리', 3), ('하소연', 5), ('농구공', 4), ('퍼뜩', 3), ('전동기', 5), ('뚜뚜', 5), ('밤새다', 9), ('자시', 11), ('의리', 3), ('일밤', 15), ('법석', 6), ('건재', 6), ('아든', 3), ('맥드', 3), ('까지와', 7), ('동대문', 3), ('퍼품', 6), ('쟈스민', 3), ('꼽았어', 3), ('빠네', 11), ('날벼락', 3), ('발주', 3), ('경기장', 12), ('네다섯', 18), ('가관', 6), ('생년', 3), ('어취', 16), ('쪼끄맣', 5), ('할머님', 7), ('꿈틀꿈틀', 3), ('로드리게즈', 14), ('발렌타인데이', 3), ('대조', 6), ('뉴욕', 3), ('아이코닉', 3), ('낭만', 5), ('이성', 5), ('논리', 8), ('화이트데이', 3), ('이라야', 3), ('넝쿨', 5), ('멀쩡', 12), ('옛말', 8), ('간수', 5), ('콜센터', 7), ('이십만원', 4), ('몸안', 6), ('익스플로러', 4), ('엑센트', 4), ('항아리', 13), ('데리야끼', 6), ('개딸', 6), ('천후', 4), ('커터', 8), ('글라스락', 6), ('더없이', 14), ('스케일', 6), ('엽기', 20), ('쥬니어', 7), ('숨죽', 3), ('스톡', 7), ('거금', 8), ('셀카', 7), ('자유자', 3), ('찌걱', 3), ('삐걱', 26), ('시정', 20), ('그나', 7), ('서위', 4), ('포토샵', 8), ('총동원', 5), ('사용권', 11), ('차니', 12), ('계량기', 9), ('추락', 11), ('하네욬', 4), ('핏줄', 3), ('숄더형', 4), ('다방면', 16), ('신봉', 5), ('금주', 9), ('못구', 3), ('간과', 17), ('띤다', 4), ('그거슨', 4), ('조신', 3), ('낮음', 3), ('도매', 12), ('불화', 4), ('차광', 7), ('이삼천원', 3), ('파먹다', 8), ('매월', 7), ('벨로스', 5), ('락토프리', 7), ('로겟', 4), ('때때', 3), ('땔때', 7), ('훗날', 7), ('축복', 3), ('건너가다', 6), ('괜챦습니', 4), ('난이', 5), ('오션', 5), ('꿀꿀', 4), ('복학', 4), ('부여잡다', 10), ('브라자', 4), ('꽈추형', 18), ('아르기닌', 5), ('주목', 28), ('트랜스지방', 35), ('대중성', 5), ('우국', 3), ('한솥', 4), ('나팔', 3), ('충고', 3), ('이부자리', 5), ('마트놀이', 4), ('돈대', 8), ('간계', 3), ('미쉐린', 4), ('송료', 13), ('꺼림칙하다', 4), ('일사이', 8), ('정형', 7), ('캐쉬', 10), ('연못', 4), ('마도', 13), ('바락바락', 6), ('피임', 6), ('첫돌', 8), ('밑둥', 15), ('포이', 12), ('찜솥', 13), ('대통령', 3), ('개똥이', 5), ('언박싱할때', 3), ('꼬독꼬독', 4), ('귓볼', 5), ('요롷', 3), ('폴리에틸렌', 10), ('김이나', 4), ('마블', 10), ('피노키오', 10), ('콘서트', 6), ('우루루', 7), ('무드등때문', 3), ('그렌져', 3), ('요음', 3), ('후미', 5), ('다태', 4), ('헤헷', 11), ('특템', 5), ('비충', 6), ('앱등이', 5), ('후리', 3), ('목수건', 3), ('이백원', 7), ('십여', 8), ('가염', 16), ('발화점', 5), ('점박이', 9), ('쇠봉', 3), ('설렁설렁', 9), ('까끌까끌', 9), ('짤린', 4), ('완만', 5), ('미신', 3), ('창구', 3), ('아리송하다', 6), ('사안', 4), ('국어사전', 13), ('선꼽', 4), ('동선', 9), ('초단', 5), ('우적', 5), ('토실하다', 3), ('비개', 3), ('혼술', 14), ('널린', 4), ('깔때기', 17), ('띵하다', 17), ('부림', 5), ('견종', 13), ('끈끈함', 4), ('일산화탄소', 12), ('배출량', 3), ('수산', 15), ('킹타이거', 52), ('기니', 14), ('캠퍼', 7), ('모여들다', 5), ('가이거', 3), ('고제', 7), ('플래스틱', 3), ('프로방스', 11), ('매끌매끌', 4), ('구아바', 24), ('중계', 4), ('헬라', 17), ('아숩', 11), ('적정가격', 7), ('엄지발가락', 6), ('길레', 4), ('드르르', 6), ('쿨럭', 4), ('샤넬', 11), ('섹시하다', 9), ('악화', 18), ('액상과당', 6), ('착즙해', 8), ('싱크로', 4), ('호박빵', 5), ('베겨', 9), ('후자', 14), ('새틴', 5), ('가트', 7), ('수효', 4), ('알리오', 10), ('향유', 3), ('밥국', 9), ('덧글', 3), ('자끈', 3), ('루미너스', 7), ('스노우', 17), ('레티놀', 37), ('규용', 3), ('색색', 8), ('균주', 8), ('토맛', 8), ('헤어스프레이', 3), ('날줄', 14), ('아이모', 3), ('진실하다', 6), ('진향', 5), ('관용', 5), ('신기면', 4), ('아모스', 3), ('늦둥이', 15), ('단디', 9), ('과분', 26), ('아작아작', 6), ('좋드라구', 19), ('아쥬아쥬', 6), ('먹드라구', 9), ('건행', 3), ('백일이', 5), ('헝겁책', 9), ('도영', 3), ('왓다갓다', 15), ('모하비', 6), ('행잉', 12), ('네임텍', 3), ('자립', 4), ('스텐칼', 6), ('일렛', 5), ('렌지대', 11), ('잠굴', 3), ('다대고', 11), ('빵등', 3), ('물음', 4), ('움켜쥐다', 3), ('앓이', 17), ('펄럭이다', 3), ('유치부', 4), ('폴짝', 22), ('사봣', 3), ('점심식사', 7), ('미제품', 6), ('잉글레시', 12), ('영수증', 11), ('명세서', 3), ('명함', 15), ('일때', 8), ('반포', 8), ('서구', 4), ('어라하', 4), ('과극', 12), ('지방질', 7), ('게말', 3), ('울상', 4), ('육체', 7), ('안막', 9), ('사상', 5), ('말때', 6), ('동맥', 3), ('정동', 3), ('싶을떄', 3), ('걸살걸', 4), ('길때', 4), ('아웅', 8), ('롤팩', 3), ('인텔', 6), ('한컴', 7), ('이용권', 8), ('라이나', 13), ('드려욤', 3), ('옷위', 5), ('목공', 5), ('작업장', 3), ('바려', 3), ('타피오카', 21), ('전임', 6), ('역샘', 6), ('ㅎㄱㅅ', 13), ('버석버석', 6), ('허니콤', 4), ('ㅡㅠ', 11), ('인세', 6), ('곶자왈', 4), ('한라산', 24), ('야생화', 12), ('결정화', 5), ('채밀', 3), ('대락', 3), ('싹트다', 3), ('그저께', 7), ('달림', 4), ('결벽증', 5), ('지으니', 7), ('꼬들하', 6), ('알츠하이머', 9), ('폭닥하', 5), ('이뽀용', 3), ('바루', 7), ('두째', 4), ('한칫수', 8), ('강매', 3), ('창업', 6), ('점음', 3), ('지위', 9), ('오피', 14), ('휴지곽', 3), ('주우', 3), ('엔지니어', 7), ('출퇴근길', 6), ('그떄', 5), ('선풍', 4), ('때로는', 13), ('개폐', 20), ('황다랑어', 5), ('과밀', 4), ('조청', 11), ('음슴다', 6), ('오아시스', 3), ('지점', 15), ('우글우글', 9), ('모리', 14), ('약방', 6), ('투산', 4), ('체육대회', 3), ('원용', 3), ('로기', 10), ('월부', 5), ('그특유', 3), ('해욤', 6), ('티거', 3), ('부국', 12), ('찌릉', 3), ('써니', 10), ('족발', 6), ('주사기', 19), ('드라이빙', 4), ('밥값', 5), ('디코', 5), ('키핑백', 4), ('고후', 5), ('초컷', 9), ('인즈', 3), ('스벅캡슐', 5), ('되엇어', 6), ('잘왓어', 4), ('에티카', 8), ('얼싸다', 3), ('본문', 12), ('구구단', 5), ('보궁', 3), ('제육', 3), ('닭갈비', 10), ('엑기스', 9), ('장군', 17), ('한재', 3), ('쑥갓', 3), ('분식집', 7), ('입소', 14), ('정당하다', 10), ('전열', 5), ('배통', 3), ('뼈마디', 3), ('시큰거리다', 13), ('설때', 3), ('모만', 6), ('애경', 20), ('주륵', 5), ('봣어', 7), ('구불구불하다', 6), ('조아영', 3), ('귀챦아', 4), ('월차', 4), ('보더콜리', 5), ('변심', 7), ('괜챦네', 4), ('삼차', 3), ('약지', 4), ('매뉴얼', 18), ('간섭', 14), ('기포량', 7), ('감전사', 13), ('먹는모습', 6), ('단물', 6), ('놀랫', 7), ('아잉', 4), ('킬로그램', 11), ('그리로', 4), ('자박자박', 4), ('틈나다', 10), ('깝깝', 5), ('개방', 38), ('히힛', 8), ('ㅋㅋㅋㄱㅋ', 4), ('브로컬리', 12), ('터부', 5), ('중심부', 7), ('천지인', 19), ('키노피오', 21), ('함양', 5), ('로커스트', 3), ('콩검', 3), ('한천', 6), ('가시오갈피', 6), ('빛과', 12), ('뿌해', 3), ('끄읕', 3), ('눈싸움', 3), ('사육', 17), ('짐작', 22), ('고려시대', 3), ('생산량', 3), ('대중화', 9), ('백인', 4), ('는바', 7), ('뭐시기', 12), ('용구성', 7), ('폭주', 4), ('아런', 3), ('먹고살다', 11), ('스텐재질', 11), ('흐느', 12), ('쉼표', 4), ('구레나룻', 7), ('리전', 14), ('혼족', 7), ('연어구이', 7), ('문집', 4), ('분체', 6), ('ㅋㅋㄱㄱ', 4), ('철인', 6), ('격렬하다', 8), ('이오나', 4), ('볼겸', 8), ('이인', 12), ('플사', 5), ('치의', 8), ('라이센스', 3), ('컴컴하다', 9), ('부인과', 5), ('좌욕', 8), ('따땃해', 4), ('피망', 5), ('외향', 5), ('부응', 4), ('질깃질깃', 3), ('개월여', 5), ('로투스', 15), ('뒤뚱거리', 3), ('꼽는데', 4), ('졸업식', 48), ('애방', 3), ('미쟝센', 5), ('잡수다', 12), ('홈피', 12), ('깜짝선물', 6), ('반납', 8), ('커먼스', 3), ('구획', 4), ('으레', 4), ('불분명', 7), ('ㅂㅂㅋ', 3), ('공기밥', 6), ('신부전', 4), ('이뇨제', 7), ('투석', 7), ('정맥', 3), ('교사', 15), ('단절', 3), ('간호', 5), ('남겨지다', 8), ('협탁', 6), ('생갈', 3), ('무딘', 8), ('선수', 17), ('참신하다', 6), ('콘셉트', 3), ('도브', 12), ('레이디', 4), ('재활', 13), ('노마', 11), ('화보', 7), ('범산', 24), ('울타리', 54), ('지프', 4), ('눅진하다', 8), ('중이염', 8), ('콩콩콩', 3), ('롤세', 8), ('건줄', 28), ('가유', 4), ('청귤청', 3), ('유두', 7), ('스프레드', 33), ('르블랑', 26), ('피타', 9), ('요타', 5), ('뛰어오르다', 7), ('허여멀겋다', 6), ('웁스', 3), ('쪼만', 3), ('사촌언니', 6), ('아크릴물감', 11), ('태위', 5), ('헀는데', 4), ('장공', 8), ('지난날', 5), ('브레드', 12), ('원보', 3), ('졸업사진', 3), ('뿜뿜입니', 4), ('잇엇네', 4), ('청미', 4), ('명태', 5), ('ㅡㅡㅡㅡㅡㅡㅡㅡㅡㅡㅡㅡㅡ', 17), ('쇼크', 10), ('두드림', 4), ('랑드', 4), ('햄버거', 41), ('크으', 7), ('이하일', 4), ('광범위하다', 6), ('피시방', 7), ('촤악', 10), ('커스터', 3), ('어두울', 3), ('못내', 10), ('\\u3000\\u3000', 9), ('삼삼하다', 7), ('까지에', 9), ('하몽', 3), ('궁극', 4), ('수상한', 5), ('쉽쥬', 4), ('꽃수', 3), ('로즈', 7), ('더럽히다', 15), ('말레이시아', 6), ('만큼씩', 6), ('못난이', 13), ('절하', 5), ('칼끝', 9), ('건줄알', 3), ('자일로스', 4), ('자몽주스', 5), ('이자나', 18), ('안건', 4), ('셋팅하', 4), ('다써봣는데', 3), ('고추냉이', 5), ('초고추장', 10), ('열시', 18), ('습시', 3), ('힐수', 10), ('샘소나이트', 7), ('흡인', 5), ('테리어', 12), ('베페', 3), ('이드를', 21), ('캐츠', 16), ('납짝', 6), ('꽃병', 10), ('더군요', 6), ('참숯', 23), ('바고', 4), ('저급', 8), ('물범', 10), ('곰곰하다', 13), ('쏘나타', 7), ('주임', 3), ('인조잔디', 6), ('필심', 3), ('통등', 4), ('꼬아', 9), ('착안', 7), ('한평생', 3), ('노고', 10), ('흐트러지', 18), ('은커녕', 5), ('오픈마켓', 7), ('모니터링', 4), ('휴대전화', 9), ('꼬질', 5), ('글세', 6), ('서핑', 9), ('되풀이', 3), ('낫습', 3), ('누크', 4), ('가향', 9), ('턱관절', 8), ('검어지다', 6), ('무쌈', 4), ('있어욤', 5), ('이티', 3), ('꽃혀', 9), ('맵기', 6), ('태구', 4), ('홍국', 4), ('스텐가위', 4), ('직조', 8), ('최우', 9), ('찰밥', 18), ('고슬고슬', 7), ('준곳', 4), ('파니', 11), ('노출하다', 3), ('감돌다', 9), ('나안', 5), ('지마켓', 6), ('귀인', 3), ('무대', 7), ('여하튼', 25), ('인덕션레인지', 8), ('법랑', 4), ('넒어', 3), ('디른', 3), ('애원', 3), ('염통', 17), ('오소리', 19), ('커피한잔', 19), ('각형', 6), ('질부', 7), ('멤버십', 11), ('낙산', 24), ('산란', 32), ('샌들', 12), ('발신', 10), ('블랙베리', 3), ('스파이', 3), ('땜질', 4), ('벋다', 8), ('예민한사람', 7), ('티끌', 12), ('앰보싱', 4), ('일견', 4), ('주체', 9), ('부지런', 5), ('자치', 6), ('집똥기', 4), ('듬성', 5), ('똥똥하다', 3), ('빤질빤질하다', 3), ('다그치다', 3), ('중등', 13), ('빻아', 11), ('차림', 7), ('어로', 6), ('대별', 7), ('무제', 3), ('증기압', 5), ('분출구', 5), ('쉬이', 12), ('난관', 7), ('오색', 8), ('정녕', 5), ('밑반찬', 14), ('범죄', 3), ('팝콘', 9), ('미영', 4), ('배양토', 9), ('동양', 4), ('대체재', 8), ('전역', 9), ('군복', 3), ('구슬리다', 6), ('사카린', 12), ('걷어차다', 8), ('사슴', 9), ('무른곳', 4), ('퍽퍽함', 11), ('후발효차', 4), ('보이차', 4), ('고봉', 4), ('스웨', 8), ('과다복용', 5), ('꺽임', 4), ('보트', 3), ('크레파스', 27), ('마디마디', 5), ('똘똘', 9), ('짐볼', 7), ('소제', 7), ('둘걸', 6), ('오징어채', 6), ('시장점유율', 3), ('대형차', 3), ('중형차', 7), ('소형차', 14), ('물난리', 11), ('엄꼬', 3), ('허비', 4), ('당번', 4), ('ㅏㅏ', 3), ('앖어', 8), ('어인', 5), ('웹사이트', 3), ('껍찔', 3), ('핑계', 34), ('합사', 10), ('산더미', 4), ('회비', 6), ('센슈', 3), ('맥박', 6), ('에콰도르', 7), ('인도네시아', 9), ('클래시', 3), ('대저', 4), ('이함', 6), ('빠삭빠삭', 3), ('소용돌이', 3), ('어울', 6), ('꼴찌', 5), ('홍콩', 8), ('유기산', 6), ('빡이쳐', 3), ('진걸', 7), ('복만', 4), ('축산', 7), ('개설', 3), ('구경만', 8), ('식판위', 3), ('명란젓', 15), ('젓갈', 9), ('이자카야', 4), ('뚜렸', 3), ('삿습', 3), ('조악하다', 10), ('단배', 3), ('점퍼루', 4), ('운기', 3), ('너희', 6), ('묵힌', 3), ('리튬이온', 6), ('방불', 3), ('휜색', 5), ('결합조직', 14), ('구조도', 5), ('송도', 5), ('정상품', 5), ('매무새', 5), ('팬임', 4), ('구관', 6), ('명관', 6), ('잡티세럼', 7), ('이배', 6), ('목심', 7), ('스위트', 16), ('짜져', 10), ('방충', 13), ('헬린', 7), ('바나', 14), ('너머', 5), ('양털', 7), ('시뻘겋다', 4), ('그니', 27), ('김이랑', 3), ('나라고', 4), ('악명', 4), ('ㅠㅠㅎ', 10), ('압승', 6), ('됫습니', 3), ('도심', 6), ('서자', 5), ('중창', 5), ('모텔', 6), ('롤리팝', 6), ('음하하', 4), ('화폐', 3), ('탈각이다', 4), ('웜베', 7), ('상각', 3), ('직송', 21), ('테니스공', 6), ('치밀하다', 5), ('로리', 10), ('경복궁', 3), ('헤드뱅잉', 3), ('초파리', 12), ('매치다', 4), ('끝임', 5), ('대주', 9), ('순탄', 3), ('루임', 3), ('리버', 6), ('서스펜션', 3), ('비대증', 8), ('잔뇨감', 10), ('혼동', 10), ('ㅡㅋ', 7), ('ㅡㅋㅋ', 5), ('뮤신', 11), ('위경련', 3), ('아로마테라피', 10), ('번꼴', 3), ('느므', 12), ('로세', 8), ('설리', 4), ('개두', 8), ('치즈볼', 11), ('지그시', 3), ('통수', 15), ('유튜버들', 13), ('슬었어', 3), ('후루루', 3), ('소두', 9), ('썬팅', 14), ('민후', 4), ('앙뜨레', 9), ('끽끽', 11), ('무더기', 5), ('앞판', 5), ('비기다', 6), ('과체중', 8), ('팝칩', 19), ('천만다행', 9), ('개셋트', 5), ('쭈굴쭈굴', 4), ('플라토', 24), ('정적', 6), ('추상', 4), ('문항', 3), ('형성평가', 6), ('기하학', 3), ('숄더', 10), ('숄더백', 8), ('뭍히', 4), ('외삼촌', 3), ('은인', 3), ('까닭', 4), ('하위', 6), ('스파니엘', 8), ('스텐소재', 3), ('으른', 6), ('선문', 4), ('숏컷', 9), ('안산', 10), ('토닝', 4), ('기스없', 8), ('빛번짐', 8), ('귀욤', 7), ('낼겸', 5), ('충실', 8), ('이마리', 3), ('참말', 9), ('아따', 8), ('조킨', 3), ('흑점', 4), ('노르스름', 4), ('날땐', 4), ('따꼼', 3), ('원악', 4), ('ㅣㅣ', 3), ('교화', 5), ('감별', 6), ('펌핑했을때', 4), ('탑차', 3), ('는고', 3), ('연꽃', 6), ('여유핏', 4), ('디아망', 12), ('노말', 4), ('포지션', 9), ('쌩폰', 11), ('리미', 13), ('근원', 5), ('금융', 3), ('원스톱', 3), ('장복', 12), ('가문', 8), ('목주름', 6), ('기동', 3), ('번들번들하다', 7), ('얄상하', 4), ('뚱하다', 21), ('홍수', 9), ('삿던', 7), ('수급', 14), ('윗줄', 6), ('거오', 3), ('계서', 3), ('본질', 11), ('투박', 4), ('적은량', 8), ('향일', 3), ('올스텐레스', 4), ('수도관', 9), ('건설', 3), ('사교육', 4), ('파닉스', 11), ('장보기', 20), ('학회', 4), ('월세', 5), ('집일', 3), ('수행', 13), ('이풍', 3), ('성풍', 3), ('쿼카', 3), ('포카', 4), ('푸우', 4), ('물음표', 5), ('공익', 10), ('립니', 8), ('여자라서', 9), ('소음공해', 3), ('아케', 12), ('희색', 4), ('스퀴지', 8), ('스퀴', 10), ('ㅜㅜㅎㅎ', 6), ('세티', 6), ('피멍', 5), ('반스', 4), ('효성', 5), ('크레오', 7), ('스판사', 5), ('올리비아', 5), ('맛좀', 5), ('빵속', 5), ('강낭콩', 3), ('물위', 6), ('말문', 10), ('꺼끌꺼끌하다', 9), ('덴탈케어', 10), ('요먼', 4), ('갑지', 4), ('광학', 5), ('음주', 12), ('해장', 14), ('삼박자', 6), ('폴리카보네이트', 3), ('산후조리원', 10), ('살타', 3), ('풀때기', 7), ('또톰', 5), ('마싯다', 22), ('저대로', 13), ('버무려', 8), ('밤비', 5), ('보행', 4), ('힐스', 4), ('기괴하다', 3), ('그라스', 6), ('대망', 15), ('걸곳', 3), ('씰링', 22), ('픽했어', 15), ('어주', 3), ('알바인', 5), ('케미컬', 17), ('덩그', 4), ('ㅡㅎ', 4), ('강탈', 8), ('따분하다', 3), ('스랍', 6), ('쿠셔닝', 4), ('안강', 4), ('복욕', 4), ('동참', 9), ('세븐', 3), ('헝겁', 5), ('쩐다', 5), ('뽀오얀', 3), ('에에컨', 3), ('서든어택', 5), ('ㄷㄷㄷㄷ', 5), ('피시', 14), ('확확', 11), ('락투세린', 3), ('락투신', 4), ('알칼로이드', 3), ('최면', 6), ('진통', 7), ('졸음', 9), ('스피아', 3), ('덤벼', 7), ('고깔', 3), ('개임', 10), ('끽해야', 3), ('껄끄러움', 3), ('홈트족', 3), ('위축', 3), ('팬스', 9), ('상반신', 5), ('견도', 7), ('비락', 6), ('쉐킷', 11), ('미술선생님', 5), ('디지털로', 8), ('보규', 3), ('만장일치', 3), ('야박하다', 5), ('화각', 10), ('삭함', 17), ('철마', 4), ('머금었다', 3), ('급체', 4), ('보너스', 7), ('데님', 3), ('아마추어', 3), ('있엇으', 4), ('냉새', 5), ('후리다', 9), ('시브', 4), ('화학물', 3), ('헹궈주세', 4), ('쫀득거리', 4), ('해초', 5), ('벌렁', 5), ('끓는점', 3), ('반다이', 5), ('건담', 4), ('콩나물국', 7), ('주선', 5), ('배줌', 12), ('스탠바이', 3), ('비전문가', 3), ('가즈', 3), ('박병일', 5), ('명장', 8), ('탓습니', 9), ('대보', 3), ('티벳', 3), ('찌글찌글', 3), ('발동', 13), ('자이언트', 5), ('암웨이', 12), ('홍초', 12), ('래시', 23), ('어땟을까', 6), ('의의', 8), ('리소스', 5), ('보석', 14), ('갑작', 3), ('얼결', 4), ('쫑쫑썰어', 4), ('우걱우걱', 8), ('이웃집', 10), ('무시무시하다', 7), ('꼽는곳', 5), ('연풍', 7), ('머리모양', 4), ('포인팅', 5), ('실향', 4), ('짜릿하다', 7), ('월전', 7), ('퀄리', 9), ('악질', 12), ('보레부', 5), ('기엽', 5), ('신권', 3), ('꼬신내', 5), ('근년', 3), ('명정', 8), ('범퍼침대', 9), ('재밋는', 4), ('따끈따끈', 8), ('오구', 20), ('미스테리', 3), ('보고오다', 8), ('도개', 7), ('갖은', 12), ('스피루리나', 3), ('캡처', 13), ('에어드랍', 4), ('포인터', 5), ('차례대로', 8), ('키퍼', 5), ('네비게이션', 11), ('음성인식', 6), ('핫스팟', 3), ('테더링', 4), ('마운트', 6), ('정확성', 10), ('저금', 5), ('방물', 3), ('돌렷는데', 3), ('홈바', 4), ('사백원', 4), ('정장핏', 3), ('우러', 7), ('계승', 5), ('토토', 5), ('벌러덩', 3), ('썻으', 10), ('누군지', 3), ('쵸퍼', 4), ('번쩍이다', 11), ('로비', 8), ('터울', 13), ('퍼머', 4), ('박물관', 3), ('브릭스', 5), ('풍덩', 4), ('안전밸트', 8), ('말캉말캉', 5), ('에스콰이어', 5), ('극혐', 10), ('포상', 3), ('어렷을때', 4), ('치부', 6), ('피우지', 3), ('어두컴컴하다', 9), ('선불', 4), ('몰랏어', 5), ('존나', 10), ('양장본', 4), ('덕질', 3), ('여객선', 5), ('레미콘', 10), ('작가', 7), ('은제', 7), ('쭈글해', 3), ('란걸', 9), ('지극', 3), ('쥬르륵', 3), ('묘사', 8), ('떠들다', 14), ('반지하', 4), ('카르니틴', 9), ('상형', 23), ('손절', 10), ('냥털', 3), ('바꿧어', 9), ('장고', 12), ('소녀시대', 3), ('단조', 6), ('노잼', 5), ('숨은그림찾기', 5), ('미로찾기', 11), ('전기차', 4), ('듣보잡', 9), ('앙꼬', 10), ('버터크림', 8), ('송곳니', 6), ('고만하다', 11), ('갈고리', 8), ('여리해', 3), ('뇨자', 3), ('인양', 11), ('하늘하늘하다', 7), ('어류', 34), ('글리세롤', 6), ('재정', 4), ('황금향', 3), ('초임', 6), ('다분하다', 4), ('데시', 3), ('에센', 7), ('흐어', 3), ('중현견', 3), ('앱스토어', 4), ('음원', 10), ('애로', 10), ('챱챱', 20), ('본능', 15), ('큐티', 7), ('편지지', 4), ('뒤편', 11), ('무하', 8), ('미끈미끈하다', 3), ('머리칼', 18), ('이이이이', 3), ('엉클다', 55), ('율휘', 4), ('웃풍', 12), ('기승', 13), ('썼더랬', 3), ('토닥토닥', 4), ('미나', 12), ('엘쥐', 3), ('제껄', 6), ('사줫더', 3), ('스티로폴', 5), ('플라이', 8), ('돌돌하다', 5), ('먼지털이', 6), ('정의', 12), ('오프로드', 3), ('장애물', 3), ('궤양', 5), ('괴로움', 4), ('목젖', 3), ('녹말', 5), ('차츰차츰', 4), ('개살구', 3), ('꿀벅지', 10), ('명인', 4), ('전별', 4), ('피더', 6), ('스균', 3), ('구천', 5), ('팔십원', 3), ('특기', 4), ('인핸싱', 7), ('아마이드', 9), ('솔루션', 17), ('소서', 4), ('오이지', 43), ('태권도', 10), ('파격', 6), ('낚였어', 3), ('파로', 4), ('신일', 4), ('강사', 6), ('플래시', 10), ('ㄱㄴㄷㄹ', 4), ('고비', 7), ('땀좀', 3), ('쟈켓', 4), ('촤르륵', 3), ('삼고', 7), ('것땜', 5), ('피날때', 3), ('아함', 4), ('움큼', 14), ('입니닼', 3), ('길음', 3), ('걸쭉', 5), ('갈대', 3), ('허구', 9), ('눈곱', 7), ('손길', 10), ('타원', 3), ('트스', 4), ('병충해', 6), ('백야', 4), ('브루', 32), ('더마', 3), ('음약', 5), ('빼낼때', 5), ('채식주의자', 8), ('손가방', 4), ('꼼곰하', 3), ('미팅', 4), ('솟구치다', 4), ('맥가이버', 4), ('핫딜때', 3), ('퍼트', 8), ('문구로', 3), ('정액', 6), ('곰팡', 5), ('무채', 9), ('지주', 5), ('빗살캡', 21), ('음이온', 9), ('통제', 10), ('측후', 3), ('렌지위', 4), ('대환영', 3), ('똥내', 9), ('첫마디', 4), ('후라이드', 8), ('릴렉싱', 3), ('냉방', 15), ('붓끝', 3), ('쌍꺼풀', 4), ('수린', 11), ('캐빈', 5), ('나다니다', 7), ('합력', 3), ('덕거려', 6), ('스티브', 3), ('칸디다', 14), ('아울렛', 12), ('파론', 5), ('살떄', 3), ('칠면조', 4), ('밴딩처리', 5), ('굳어지다', 15), ('보랑', 4), ('투룸', 7), ('홀애비', 18), ('빠트리', 5), ('결단', 3), ('얄쌍하', 4), ('우브', 3), ('날치', 3), ('르셰슈', 3), ('비밀의방', 7), ('늘어놓다', 9), ('지크', 6), ('적확하다', 3), ('어휘', 13), ('착샷', 8), ('광량', 8), ('머스킷', 3), ('결후', 12), ('열한', 24), ('유목', 6), ('프라푸치노', 4), ('정신병', 4), ('굴릴때', 5), ('아뭏', 4), ('근막', 5), ('최공', 7), ('굿임', 7), ('파삭파삭', 3), ('충무', 11), ('릴레이', 8), ('가소제', 4), ('썻음', 4), ('욕망', 5), ('라테', 10), ('비유', 14), ('일진', 5), ('탁주', 4), ('쿡쿡', 6), ('붙엿는데', 3), ('나연', 3), ('썬더', 5), ('프로펠러', 5), ('피아', 12), ('리첼', 3), ('양손잡이', 6), ('컨트롤러', 10), ('당한', 16), ('망또', 5), ('서칭', 5), ('빵떡', 3), ('겐슈', 19), ('스텐믹싱볼', 5), ('기증', 4), ('상응', 4), ('무당', 7), ('교란', 4), ('편도염', 9), ('오한', 4), ('통틀어', 7), ('광기', 5), ('요조', 18), ('가책', 4), ('밤보', 3), ('제네시스', 13), ('총포', 3), ('유후', 12), ('가발', 4), ('물컹', 10), ('마젠타', 3), ('검도', 5), ('스럼', 4), ('돌리시', 17), ('연가', 5), ('지향', 20), ('삭히다', 6), ('괜찬구', 3), ('외벽쪽', 5), ('누디', 33), ('입니', 8), ('거닐다', 3), ('런드리', 10), ('간질', 13), ('뽀독뽀독', 12), ('평상', 3), ('쁘리마쥬', 3), ('우야', 4), ('후배', 5), ('송화', 9), ('루솔', 29), ('박람회', 7), ('마땅', 3), ('물뭍혀', 3), ('명불허전', 8), ('스키장', 8), ('판하', 8), ('쪼물쪼물', 4), ('꽃샘추위', 3), ('와이퍼', 13), ('하성', 6), ('라베', 4), ('노도', 18), ('헤겐', 7), ('변온', 16), ('복장', 10), ('샀더랬', 3), ('발길질', 5), ('언더웨어', 4), ('트함', 6), ('유착', 3), ('ㅎㅎㅋㅋㅋㅋ', 3), ('쌀쌀', 7), ('치덕치덕', 6), ('자비롭다', 3), ('불때', 10), ('녹도', 6), ('냉국', 4), ('영희', 8), ('라드', 4), ('신사', 9), ('스템프', 3), ('으면', 3), ('모호', 4), ('엄슴', 3), ('펌핑시', 3), ('시름', 8), ('조심성', 13), ('쪼메', 5), ('증인', 4), ('오른손잡이', 7), ('새하얘', 5), ('아슬아슬', 9), ('웰컴', 18), ('난처하다', 4), ('비이커', 12), ('딸바', 10), ('헛기침', 3), ('언른', 4), ('불루밍', 3), ('작대기', 8), ('달인', 15), ('경련', 5), ('자괴', 6), ('거산', 9), ('진물', 12), ('꼼므', 13), ('숏패딩', 3), ('풀백', 4), ('부릉', 3), ('횡단보도', 3), ('비키다', 10), ('배상', 10), ('통체', 7), ('요별', 8), ('에어건', 5), ('쫓기다', 5), ('인주', 5), ('랄건', 3), ('터치스크린', 3), ('잔대', 3), ('후지', 4), ('조제', 6), ('살짝꿍', 3), ('아이스하키', 3), ('오동통', 4), ('경황', 3), ('넙적해', 3), ('바세린', 5), ('발행', 6), ('요술', 13), ('밤낮없이', 4), ('카이', 6), ('푸욱', 17), ('쪼옥', 3), ('초무', 3), ('입사', 9), ('마지못하다', 9), ('ㅈㅣ', 5), ('오중', 16), ('신자', 4), ('닉네임', 12), ('텁텁하거', 4), ('아쿠아리움', 3), ('쫑알', 12), ('소원', 10), ('드드득', 3), ('적발', 4), ('취함', 5), ('탄산칼슘', 7), ('치조', 5), ('피모', 13), ('제이니', 7), ('무소', 9), ('옮아', 3), ('치레', 6), ('뻐덕뻐덕', 3), ('내막', 7), ('음모', 6), ('엑스칼리버', 9), ('타진', 3), ('있엇어', 7), ('삿냐', 4), ('장어구이', 4), ('일위', 4), ('실기스', 3), ('뛰놀다', 7), ('스웨터', 8), ('락커', 3), ('물샘', 10), ('짤려', 3), ('우드락', 3), ('장본', 4), ('공공장소', 5), ('기역', 11), ('니은', 4), ('디귿', 4), ('반시민', 3), ('우롱차', 4), ('녹찻물', 7), ('녹찻물밥', 3), ('재탕', 6), ('마중', 3), ('자택', 5), ('밍숭맹숭', 12), ('광탈', 12), ('유레카', 15), ('뜻해', 3), ('뒷모습', 4), ('장위', 8), ('랑딸랑', 7), ('벤젠', 5), ('트리클로산', 5), ('설향', 9), ('동서', 3), ('젤위', 7), ('기제', 4), ('바이킹', 18), ('회덮밥', 7), ('협착증', 4), ('무럭무럭', 18), ('이게뭡', 6), ('덤프트럭', 9), ('딩동댕', 3), ('무인', 5), ('배트', 8), ('갈망', 3), ('게더', 16), ('작도', 4), ('삼류', 3), ('포틴', 4), ('같네욤', 3), ('가당', 4), ('모락모락', 9), ('화담', 9), ('햄벅', 7), ('크리오', 9), ('송진', 4), ('샤핀', 12), ('나으니', 7), ('구이해', 4), ('지름신', 11), ('마왕', 10), ('야근', 11), ('이트', 9), ('킬로미터', 3), ('뉴트럴톤', 14), ('델몬트', 3), ('라이신', 9), ('숙변', 8), ('루바', 3), ('잔득', 12), ('피티', 4), ('주판', 3), ('영광', 6), ('사단', 7), ('이모저모', 3), ('건너편', 4), ('헛돌거', 3), ('다쿠아즈', 3), ('핑거', 3), ('세배', 13), ('컴퍼니', 5), ('하겟', 3), ('로캣배송', 10), ('걸렷', 6), ('인더', 7), ('깜작', 7), ('이튿날', 19), ('한낮', 5), ('스며듭니', 5), ('몹쓸', 5), ('포실포실', 6), ('신다해', 3), ('뿌직뿌직', 3), ('플랩', 5), ('드림북', 6), ('불수', 9), ('설악산', 6), ('년치', 12), ('의료기기', 7), ('절구통', 4), ('에르메스', 6), ('쟁이러', 3), ('만오', 5), ('주물럭거리다', 4), ('어젠', 4), ('털털', 10), ('열시미', 5), ('탈피', 17), ('고려인삼', 3), ('동위원소', 12), ('살돈', 6), ('운지', 12), ('가이드라인', 4), ('재운', 4), ('물틀', 3), ('기업체', 3), ('빠릿빠릿', 15), ('한바탕', 4), ('앱코', 5), ('플러', 3), ('비호감', 4), ('결혼기념일', 9), ('골탕', 3), ('뚜껍', 7), ('블레딕홈', 4), ('ㄹㄷ', 5), ('김선', 4), ('바오', 3), ('피카츄', 3), ('용임', 3), ('더펫', 4), ('똥강아지', 5), ('집아', 17), ('지난해', 6), ('삼백원', 4), ('아라크네', 3), ('녹스', 6), ('삼각김밥', 6), ('말똥말똥', 3), ('필라', 13), ('포산', 4), ('트랜스', 7), ('풍요', 8), ('박멸', 16), ('팔만원', 3), ('충동', 4), ('까나리', 6), ('어간', 4), ('소스류', 5), ('들쩍지근하다', 3), ('스시', 4), ('라돈', 26), ('오십', 7), ('삼십', 5), ('꾸깃꾸깃', 16), ('십장', 4), ('고목', 4), ('구덩이', 8), ('고건', 6), ('딩기', 8), ('컷터칼', 5), ('공차', 5), ('마니아', 11), ('잠봉뵈르', 5), ('금발', 11), ('넬롤', 3), ('리모넨', 6), ('꽝손', 3), ('반즈', 6), ('거끼', 3), ('봣습니', 8), ('심햇', 4), ('중도', 11), ('재시', 4), ('네트워크', 8), ('휘적휘적', 3), ('온실', 9), ('해부', 3), ('뭉뭉', 4), ('앙하다', 3), ('흉기', 6), ('꼬챙이', 8), ('자가면역', 3), ('미열', 5), ('다크서클', 6), ('지멜', 4), ('배사', 6), ('맥시멈', 3), ('택해', 3), ('급기야', 10), ('음용', 10), ('게라', 4), ('편두통', 5), ('투도', 3), ('개월쯔음', 4), ('신비롭다', 4), ('하급', 3), ('동굴', 9), ('굉장', 6), ('버젓이', 4), ('침낭안', 6), ('덴탈껌들', 5), ('진품', 14), ('앵글', 19), ('구레', 4), ('중과', 7), ('동량', 4), ('화물차', 9), ('리코펜', 10), ('조개류', 3), ('제트', 22), ('스트림', 8), ('저니', 3), ('운빵', 3), ('리조또', 16), ('성견', 8), ('중견', 7), ('ㅎㅍ', 3), ('삿는디', 3), ('떼쓰다', 9), ('울음소리', 8), ('개줌', 3), ('구등', 4), ('츄잉', 5), ('위서', 5), ('망위', 3), ('휴즈', 8), ('셀레스티', 6), ('비방', 3), ('왕골', 9), ('안잔', 3), ('서민', 7), ('패딩입', 3), ('데포', 3), ('쉭쉭', 6), ('남표니', 4), ('나신', 4), ('행위', 20), ('큰칼', 7), ('빼빼', 10), ('리마', 5), ('가격표', 3), ('음소거', 7), ('알기', 11), ('랙스', 3), ('물이끼', 3), ('역할극', 11), ('멍충', 3), ('버무리', 5), ('코리', 6), ('자릿수', 3), ('사칙연산', 3), ('대견하다', 6), ('쫜득', 4), ('오독', 7), ('속세', 10), ('이상없다', 4), ('햇었', 7), ('띄엄띄엄', 6), ('스와들', 27), ('발버둥', 7), ('카더라', 4), ('ㅡㅡㅎ', 4), ('본집', 7), ('버핑타올', 13), ('자지러지다', 8), ('최고점', 4), ('복위', 3), ('안질', 4), ('비교샷', 20), ('제각기', 5), ('더바디샵', 4), ('끌로', 8), ('셀루라', 7), ('혈소판', 3), ('색채', 7), ('애둘맘', 3), ('팬쪽', 3), ('고양시', 3), ('한국말', 9), ('발현', 3), ('보폭', 3), ('스크린샷', 4), ('시외', 5), ('알바생', 4), ('농막', 4), ('맹맹하다', 9), ('비자', 4), ('안헀는데', 3), ('장시', 5), ('각시', 3), ('핑핑', 3), ('짭쪼름하', 6), ('소비자원', 3), ('칙칙폭폭', 5), ('자꼬', 4), ('상실하다', 8), ('폭닥폭닥', 4), ('면수', 11), ('쪼글쪼글하다', 3), ('달좀', 6), ('분한', 8), ('배분', 7), ('우체국', 8), ('무안', 9), ('태봉', 7), ('말갛다', 4), ('쫄았는데', 4), ('존예', 10), ('리두', 4), ('인후', 18), ('중속', 6), ('판지', 11), ('색임', 5), ('장부', 7), ('차지다', 18), ('닌지', 8), ('물정', 3), ('실오라기', 12), ('슈씽', 4), ('포밍', 7), ('돌판', 3), ('큐민', 23), ('열무김치', 12), ('이거슨', 12), ('미수', 3), ('특화된', 12), ('야합', 16), ('해필', 3), ('촘촘함', 9), ('어쨋거', 9), ('일반세', 10), ('서지고', 3), ('지성은', 5), ('이산', 13), ('ㅋㅋㅠ', 4), ('아니스', 3), ('극장', 5), ('다격', 3), ('봉재', 10), ('평평', 6), ('시집', 4), ('손보기', 3), ('다채롭', 3), ('훼다솜', 4), ('무균', 4), ('옷등', 5), ('번건', 7), ('희생', 10), ('야위다', 3), ('곱하기', 7), ('양양', 3), ('슬어', 16), ('무의미하다', 8), ('간소', 10), ('제강', 3), ('도고', 5), ('다망', 4), ('고기구이', 4), ('돈육', 6), ('후르', 5), ('슴니', 6), ('노면', 6), ('얼굴인식', 3), ('파생', 3), ('하와', 3), ('미정', 9), ('제비', 9), ('디알', 12), ('회피', 6), ('봣습', 5), ('리좀', 9), ('어두운편', 4), ('비릿하', 4), ('맘애', 5), ('되엇으', 7), ('사발', 4), ('이레', 3), ('계란프라이', 26), ('독학', 6), ('클러치', 4), ('토이저러스', 5), ('역함', 4), ('슨데', 4), ('은거', 4), ('팩토리', 4), ('정글', 16), ('직할', 4), ('동지', 10), ('답터', 26), ('뭉실', 4), ('꼽아주', 5), ('양키', 6), ('침대보', 3), ('살애', 5), ('에이수스', 12), ('무선랜', 6), ('미디어텍', 4), ('멜론', 5), ('증폭', 5), ('포양', 4), ('큰비', 7), ('익음', 7), ('딸바보', 3), ('고슴도치', 3), ('흐트러짐', 10), ('스텐인레스', 3), ('비판', 4), ('멀티태스킹', 3), ('채택', 7), ('제스처', 3), ('단축키', 4), ('방향키', 9), ('왼손잡이', 10), ('뽑이', 3), ('랑스', 5), ('구성만', 11), ('루즈핏', 4), ('목어', 3), ('꼬시', 6), ('점주', 5), ('어부바', 3), ('조가', 8), ('기성은', 6), ('것때매', 3), ('쭈우욱', 9), ('필립', 4), ('외양', 6), ('물칸', 4), ('널럴하', 3), ('기자', 4), ('살밥', 3), ('법칙', 7), ('자숙', 6), ('미연', 7), ('지론', 3), ('에궁', 7), ('장보고', 8), ('관람차', 23), ('톱니바퀴', 15), ('상호', 13), ('할껍니', 4), ('재차', 8), ('현지', 10), ('레스큐', 4), ('딸맘', 13), ('맥아', 8), ('일생', 5), ('리스크', 3), ('삭감', 4), ('휴양림', 3), ('시원시원', 3), ('광각렌즈', 3), ('아전', 4), ('플랫폼', 9), ('온스', 6), ('개눈', 5), ('솔향', 6), ('뻘건', 5), ('정용', 3), ('밧지', 5), ('앉은키', 10), ('지리산', 3), ('심오하다', 3), ('ㄱㄱㄱ', 4), ('도비', 17), ('혈침', 4), ('각하', 8), ('천보', 3), ('용궁', 5), ('르뱅', 3), ('주천', 3), ('과로', 13), ('죄송스럽다', 7), ('쭈욱쭈욱', 3), ('상비약', 11), ('양감', 9), ('라네즈', 4), ('ㅜㅠㅜ', 3), ('목뼈', 4), ('가압', 3), ('오레', 4), ('소태', 4), ('바중', 5), ('영락', 5), ('소나', 5), ('이목', 5), ('나사선', 9), ('띵띵', 4), ('코멧홈', 6), ('논스립', 4), ('정구', 4), ('빵값', 7), ('산수유', 3), ('케챱', 3), ('샤샥', 5), ('종잇장', 3), ('호가', 18), ('발라당', 5), ('굴뚝', 13), ('물순환', 5), ('바킹', 7), ('까짓', 8), ('밀페', 4), ('서로서로', 5), ('이튼', 14), ('글함', 10), ('꼬소함', 4), ('배편', 3), ('딴사람', 4), ('부엉이', 3), ('덴탈껌중', 3), ('뚝심', 6), ('어른거리다', 3), ('신길', 4), ('은화', 4), ('극성', 8), ('원레', 3), ('흐릿하', 7), ('철길', 5), ('레이싱', 6), ('붙혔다', 4), ('인형의집', 9), ('부장', 8), ('시민', 6), ('할리', 6), ('드렁크', 3), ('걘적', 4), ('식수', 4), ('요미', 6), ('단내', 9), ('창쪽', 7), ('사용위', 4), ('깨우치다', 8), ('가토', 16), ('발끈', 12), ('우물', 3), ('채수', 3), ('잔반', 3), ('덤비다', 9), ('호출', 4), ('짜임새', 4), ('세콤', 5), ('가난하다', 7), ('덜때', 4), ('소설', 4), ('고앵', 3), ('격려', 7), ('거길', 5), ('백안', 3), ('캐치웰', 3), ('누렇거', 3), ('친후', 8), ('육미', 3), ('지황', 3), ('엄연하다', 4), ('혈당지수', 10), ('환영', 16), ('쉬기', 6), ('영아', 9), ('어분', 8), ('질투', 5), ('레인부츠', 3), ('깨어지다', 14), ('셀렉', 4), ('컴플렉스', 10), ('디쟈', 3), ('역임', 4), ('신조', 3), ('로키', 9), ('도돔', 3), ('다오', 8), ('글루텐', 28), ('때탈', 4), ('블레', 4), ('썻는', 3), ('덕용', 4), ('발털', 8), ('밥풀', 7), ('로미', 16), ('빡쎈', 3), ('테디', 8), ('아르떼', 3), ('겟하', 8), ('쒸우', 3), ('향시', 4), ('대관령', 8), ('느깜', 5), ('갠찮네', 6), ('온라인과', 3), ('양송이버섯', 7), ('드문드문', 12), ('짬짬이', 4), ('라섹', 8), ('라식', 5), ('유황', 11), ('프라이머', 15), ('은폐', 6), ('도막', 6), ('밑바탕', 4), ('작일', 4), ('대동소이하다', 6), ('글램', 11), ('분침', 7), ('시침', 13), ('명치', 14), ('퍼실', 3), ('리큐', 3), ('불허', 3), ('제왕절개', 5), ('흐뭇다', 4), ('서방', 19), ('총량', 7), ('지방간', 6), ('일꾼', 10), ('베카', 6), ('무전기', 8), ('이만칠천원', 3), ('우천', 4), ('아웃도어', 5), ('완밥', 3), ('짤랑짤랑', 4), ('식힘', 17), ('강불', 14), ('활력소', 3), ('꺼병이', 5), ('확진', 8), ('이형', 7), ('샀어욤', 3), ('매체', 8), ('원형러그', 5), ('초코파이', 4), ('쏘드', 4), ('롯드', 7), ('배설', 4), ('스니커즈', 10), ('뒷굼치', 4), ('꿀값', 3), ('번역', 6), ('가로대', 8), ('아이워크', 5), ('도레이', 3), ('전현', 4), ('빡센', 6), ('부대끼다', 8), ('티바', 6), ('물멍', 7), ('위원회', 3), ('분쟁해결', 4), ('의거', 4), ('급작', 4), ('점점이', 3), ('볼보', 3), ('려구', 7), ('붕대', 7), ('바닷물', 4), ('능률', 3), ('메스꺼움', 6), ('베풀다', 3), ('웃프', 5), ('자존심', 9), ('돌진', 3), ('크랜', 13), ('래스터', 4), ('동다', 6), ('자취러', 7), ('라엘', 4), ('삭이다', 15), ('미남', 7), ('용어', 7), ('괸찬네', 3), ('디자인상', 8), ('대낮', 14), ('빙그레', 13), ('류신', 6), ('지칭', 5), ('깁다', 3), ('쿤달이', 4), ('고사하고', 4), ('ㅠㅡㅜ', 6), ('라이브러리', 3), ('디즈니', 16), ('이삼', 11), ('구니', 4), ('움직거리다', 6), ('세타', 5), ('흑우', 5), ('그토록', 5), ('거원', 6), ('손소독제', 8), ('안꼽', 4), ('됫구', 3), ('뽀각뽀각', 3), ('일환', 6), ('핀잔', 11), ('존중', 17), ('몰딩부분', 3), ('혈류', 6), ('심근경색', 6), ('심혈관계', 4), ('칼리', 5), ('거르는', 3), ('이착', 3), ('치사하다', 6), ('ㅡㅡㅡㅡㅡㅡㅡㅡㅡㅡㅡㅡㅡㅡㅡㅡㅡㅡㅡㅡㅡㅡㅡㅡㅡㅡㅡㅡㅡㅡㅡㅡㅡㅡ', 4), ('다름없이', 3), ('맥심', 7), ('차질', 6), ('종마', 9), ('삼만리', 7), ('위대하다', 5), ('프리도스', 3), ('성가', 3), ('감명', 3), ('리플', 6), ('퍼센티지', 3), ('꼽다', 3), ('웨딩', 9), ('일랑은', 7), ('타의', 7), ('추종', 3), ('초딸', 5), ('푸실푸실', 3), ('노놉', 5), ('접근성', 14), ('소라', 22), ('둘쑥날쑥', 3), ('퍼프형', 3), ('작물', 10), ('백질', 5), ('은실로', 3), ('러블리실', 8), ('펄실', 3), ('으윽', 6), ('재치', 5), ('복날', 4), ('전도사', 4), ('멸치액젓', 10), ('커스터드', 5), ('품위', 10), ('뿌시', 4), ('완추', 3), ('아웃백', 5), ('벼락', 3), ('호들갑', 3), ('허리춤', 4), ('뚜둑', 4), ('조거', 3), ('포도상구균', 3), ('중모', 18), ('랜드마크', 8), ('골동품', 3), ('책모', 4), ('욜라', 3), ('사냥', 7), ('망아지', 3), ('빙어', 5), ('신명', 3), ('어쩌겠습', 3), ('융털', 17), ('폼피츠', 9), ('획일', 3), ('키플링', 3), ('멜빵', 12), ('넖어', 3), ('면역체계', 6), ('코덕', 3), ('씼어', 3), ('갈라고', 3), ('참고자료', 3), ('카제인나트륨', 4), ('인산', 6), ('옷거', 6), ('편햇', 7), ('폐차', 6), ('달걀프라이', 10), ('원기', 6), ('먼지다듬이', 4), ('해충', 8), ('밀접하다', 7), ('땡처리', 3), ('순백색', 3), ('차피', 7), ('걸음걸이', 4), ('론거', 5), ('백선생', 12), ('변성', 8), ('간세포', 5), ('버는거', 3), ('락토필', 9), ('유부도', 4), ('폐경', 7), ('임밸류', 4), ('뭣모르', 7), ('예매', 3), ('프라이버시', 5), ('형사', 6), ('제품디자인', 4), ('반들반들', 4), ('민정', 3), ('운영체제', 8), ('몆달전', 3), ('전열기', 6), ('일임', 13), ('제풀이', 4), ('십센치', 3), ('대쉬보드', 7), ('꽈추', 4), ('머그잔', 17), ('매트릭스', 10), ('쭈쭈바', 3), ('아몬', 4), ('명령어', 3), ('것이므', 3), ('ㅏㅏㅏ', 4), ('정속', 5), ('웅크리다', 7), ('음역', 5), ('뭐길', 3), ('혼자놀기', 7), ('뭍으', 4), ('애꿎', 4), ('일률', 7), ('끌어내리다', 3), ('히말라야', 7), ('풀셋', 6), ('약화', 4), ('속출', 3), ('놨을때', 5), ('초봄', 3), ('여해', 9), ('스텐칼날봉', 3), ('터미널', 3), ('백신', 6), ('티젠콤', 5), ('장지', 5), ('동강이', 4), ('응시', 4), ('펌핑기', 31), ('신경세포', 6), ('항함', 4), ('카로티노이드', 11), ('클로르', 4), ('요로감염', 7), ('주된', 25), ('알단', 3), ('의적', 4), ('이눔', 4), ('하악', 6), ('보냇', 5), ('이사이', 7), ('헤집다', 4), ('통신비', 3), ('결합도', 3), ('깊숙이', 8), ('초퍼', 4), ('흐느적거려', 3), ('둘쨰', 5), ('첫쨰', 3), ('폭풍성', 6), ('저지르다', 5), ('변제', 12), ('반문', 3), ('구당', 6), ('눌릴때', 3), ('집임', 3), ('오트유', 6), ('밑칸', 10), ('처럼도', 8), ('완성샷', 5), ('무른거', 7), ('계산법', 3), ('가오리', 3), ('마녀', 4), ('이야기책', 4), ('어가', 17), ('토퍼들', 3), ('해상', 5), ('억원', 4), ('닭강정', 6), ('퍼덕', 3), ('옷걸', 8), ('명언', 3), ('장해', 11), ('티타임', 7), ('원전', 10), ('우릴', 7), ('해그리드', 3), ('스폿', 3), ('캐러멜', 4), ('한선', 3), ('기리', 3), ('면기', 17), ('기종은', 3), ('체험학습', 5), ('상점', 9), ('소듕', 7), ('프레스', 3), ('도루', 7), ('이기준', 3), ('생활필수품', 9), ('알곡', 11), ('리리', 5), ('한길', 3), ('낼름낼름', 4), ('마니커', 3), ('자욱이', 8), ('과기대', 4), ('그렁그렁', 3), ('중온', 4), ('외과', 3), ('되돌아가다', 5), ('로얄캐닌', 13), ('가름', 3), ('만류', 5), ('신기하', 8), ('캘리그라피', 5), ('풀밭', 4), ('이버', 4), ('위엄', 5), ('목뒤', 17), ('최곤데', 3), ('뭣때문', 3), ('못만드', 3), ('캘리포니아', 9), ('할라피뇨', 3), ('본대', 9), ('탕후루', 6), ('괜찬을거', 3), ('벌이다', 12), ('구력', 8), ('동갑', 6), ('왓을때', 3), ('초동', 7), ('뿡어빵', 3), ('ㅡㅅㅡ', 7), ('빵맛', 12), ('블렌딩하', 6), ('원지', 3), ('사납다', 6), ('깡충', 3), ('만적', 6), ('권태기', 4), ('라이온', 4), ('학업', 5), ('잔파', 3), ('밥말', 8), ('장보', 18), ('막바지', 7), ('저염식', 4), ('마릿수', 3), ('치츠', 3), ('샤워실', 7), ('정반대', 3), ('갠찮은데', 5), ('에피타이저', 3), ('단호', 8), ('염색머리', 4), ('약산', 6), ('악화시키다', 3), ('너츠', 8), ('차르르', 11), ('비결', 13), ('유보', 7), ('과만', 4), ('음파', 14), ('피신', 3), ('기숙', 4), ('부리나케', 4), ('아이쇼핑', 5), ('햤는데', 4), ('열사', 8), ('설립', 12), ('일터', 3), ('이랫다저랫다', 3), ('리앤룸', 4), ('후사', 10), ('으로의', 15), ('중폭', 3), ('차임', 6), ('식음', 5), ('경비', 8), ('ㅎㅎㅎㅎㅎㅎㅎㅎㅎㅎ', 5), ('써클', 10), ('싶엇어', 4), ('싱크로나이즈', 6), ('새살', 4), ('돋아나다', 6), ('파란빛', 5), ('티날', 3), ('냉정하다', 11), ('썬키스트', 4), ('재거', 7), ('더듬다', 4), ('흐음', 15), ('야구공', 6), ('여담', 9), ('시아버지', 4), ('옆뒤', 4), ('순성', 3), ('들차다', 4), ('좌지우지', 4), ('가상하다', 5), ('시저', 4), ('거즌', 4), ('위키', 3), ('코오롱', 4), ('는가', 9), ('다야', 3), ('괜차', 3), ('직종', 8), ('렌트카', 3), ('펌핑질', 3), ('펌핑입구', 3), ('시긴', 6), ('추수', 4), ('절리', 4), ('절판', 4), ('싸다니다', 11), ('상인', 5), ('발병', 16), ('밥차', 4), ('뷰코셋', 19), ('덮힙니', 3), ('기지개', 7), ('쓱삭쓱삭', 3), ('코멧꺼', 5), ('임홈리빙', 6), ('증류', 3), ('인섹', 8), ('누지', 7), ('충사', 3), ('썩을', 11), ('튀각', 3), ('미동', 9), ('풀스텐', 3), ('크시', 5), ('코리안', 4), ('꼽거', 3), ('장문', 8), ('욱하', 3), ('덕봉', 6), ('나아가다', 7), ('부실부실', 4), ('듬성듬성하다', 6), ('광원', 4), ('배불뚝이', 5), ('웟으', 4), ('비딩효', 3), ('마음가짐', 5), ('버베', 10), ('포털사이트', 5), ('흑설탕', 3), ('에튜드', 3), ('벤조산', 3), ('막사', 5), ('즈희집', 3), ('산김', 5), ('군용', 12), ('나이프', 4), ('여고생', 4), ('나루', 6), ('세팅값', 3), ('베이커', 3), ('수중', 12), ('킹틀', 3), ('팔방미인', 3), ('직하', 5), ('직거려', 3), ('ㅅㅇ', 3), ('삭막하다', 3), ('점자', 11), ('에문', 3), ('세벌', 3), ('마찰음', 4), ('무도', 7), ('무작위', 7), ('웁니', 7), ('사렵니', 5), ('스테이크하우스', 3), ('사이판', 3), ('뚱냥이', 11), ('뚜기', 4), ('숨소리', 4), ('글루탐산', 6), ('나토', 6), ('균배', 4), ('조긴', 3), ('인차', 5), ('싱글벙글', 6), ('음로', 4), ('파자마', 8), ('꽃알', 3), ('트리트먼트바', 5), ('보고또보고', 4), ('이신가', 3), ('캥거루', 3), ('재래', 3), ('헹거', 14), ('자취녀', 6), ('ㅅㅎ', 6), ('말랑이', 9), ('힘나다', 6), ('임자', 3), ('억지스럽다', 8), ('천배', 3), ('요리실', 3), ('좋아욬', 3), ('머리말', 4), ('헹궜어', 5), ('니아신', 3), ('당질', 8), ('훈민', 10), ('꼭지점', 3), ('줄겸', 3), ('헀습니', 3), ('들락거리', 3), ('ㅜㅠㅠㅠ', 3), ('여차하면', 7), ('애케플', 6), ('은부', 8), ('한독', 4), ('영상편집', 4), ('도너츠', 5), ('파향', 9), ('다작', 4), ('시아', 9), ('가렵네', 4), ('옆문', 4), ('보댜', 3), ('팬위', 5), ('마우스패드', 6), ('연명', 8), ('비제', 4), ('성주', 15), ('듓다', 5), ('병간호', 5), ('불합격', 4), ('밥독', 4), ('스펙트', 4), ('유축기', 4), ('집고양이', 9), ('롱윙', 4), ('배수관', 8), ('치아바타', 19), ('햠량', 4), ('디깅', 7), ('펌핑타입', 4), ('생활비', 7), ('윙크', 6), ('닉스', 4), ('판매업', 6), ('디워', 4), ('일석', 5), ('트랜스포머', 5), ('만물', 4), ('쫀쫀합니', 4), ('이재', 5), ('장리', 4), ('대열', 7), ('스톱워치', 3), ('틀어막다', 3), ('기틀', 3), ('장발', 4), ('복일', 3), ('버퍼링', 6), ('반함', 3), ('보관장', 4), ('비헴철', 7), ('액티브', 11), ('오믈렛', 5), ('소수', 7), ('인적', 9), ('음식사진', 7), ('만만찮', 4), ('뿜으', 3), ('한정식', 5), ('수정과', 4), ('개쌈', 3), ('일례', 3), ('법인', 5), ('에테르', 3), ('옥탄가', 4), ('플러싱', 3), ('으로서의', 10), ('할인점', 5), ('광유', 16), ('하겐', 6), ('개망', 3), ('봄웜', 3), ('섀딩', 3), ('빅백', 3), ('스테고사우르스', 3), ('못마땅하다', 5), ('어무이', 4), ('굳기', 6), ('작심삼일', 3), ('진쫘', 3), ('라차', 3), ('선회', 3), ('건면', 3), ('복인', 4), ('승하', 4), ('군밤', 6), ('머리스타일', 7), ('표지판', 7), ('삐용삐용', 5), ('타카', 17), ('해봣', 7), ('사랑니', 8), ('봉합', 7), ('탠트', 3), ('데이타', 3), ('말락', 6), ('타마', 8), ('선진', 5), ('항료', 3), ('칙칙해지다', 12), ('태닝', 4), ('국한', 6), ('레드와인', 4), ('저장성', 3), ('식이섬유소', 4), ('생소', 8), ('건네주다', 8), ('교훈', 11), ('하옵다', 3), ('스프라이트', 3), ('경험시키다', 3), ('ㅜㅡㄴ', 4), ('제대', 5), ('조심조심히', 3), ('장차', 5), ('십수', 3), ('매끌거리다', 6), ('식해', 6), ('크룽지', 3), ('하절', 5), ('회회', 13), ('기사도', 6), ('돟아', 5), ('구두약', 4), ('블투', 9), ('흐트러짐없', 4), ('시스루', 9), ('호기', 3), ('슬사', 3), ('대애', 6), ('안내받다', 5), ('칩거', 3), ('있슴다', 3), ('욥구', 3), ('절편', 4), ('출연', 5), ('스콕스', 3), ('강항', 3), ('우시', 10), ('가난', 5), ('테러', 14), ('측청', 3), ('시위', 4), ('일어난다', 14), ('공공', 3), ('오천', 4), ('곰탱이', 3), ('서점가', 5), ('쓰긴할껀데', 3), ('손바', 6), ('황제', 6), ('춘해', 5), ('거고요', 4), ('경주', 5), ('엇을', 3), ('생겻어', 7), ('족쇄', 3), ('장황하다', 6), ('잡담', 3), ('한걸음씩', 5), ('대선', 3), ('트먼', 3), ('식기구', 4), ('쇳가루', 18), ('취준생', 3), ('세작', 8), ('화려', 4), ('탁월', 14), ('쇼트', 3), ('온라인수업', 5), ('비축', 8), ('빌리버', 3), ('스웨이드', 16), ('킬수', 6), ('먼지량', 4), ('츄르입니', 3), ('묘생', 5), ('월경', 13), ('일찍이', 6), ('그리네', 3), ('미끈미끈', 3), ('수시', 5), ('알로페시', 4), ('쫌씩', 3), ('밑살', 4), ('컷팅력', 5), ('암흑', 5), ('오산', 17), ('제물', 4), ('오점', 10), ('꼽아놓', 11), ('작당', 5), ('배불', 4), ('비웃다', 3), ('ㅋㅋㅋㅋㅠㅠ', 3), ('알쥬', 3), ('구녕', 6), ('거제도', 5), ('깨작깨작', 6), ('다분', 5), ('완젼히', 5), ('바랬', 13), ('비야', 13), ('제분', 6), ('빵용', 5), ('고지식하다', 3), ('육아휴직', 7), ('아산', 3), ('턱쪽', 14), ('아사삭', 3), ('장기로', 5), ('툴킷', 16), ('다당류', 4), ('청소년기', 7), ('양모', 5), ('깜깜', 20), ('엔비', 15), ('상등', 9), ('오리발', 4), ('무성의', 14), ('열폭', 4), ('터틀', 3), ('휠세정', 4), ('지코', 14), ('필기구', 9), ('가대', 5), ('예습', 5), ('공통점', 10), ('스테로이드', 11), ('여고', 4), ('티민', 5), ('시집가다', 6), ('스크롤', 4), ('할당', 3), ('빤스', 5), ('유자청', 6), ('할퀴다', 6), ('리에주', 9), ('볼살', 7), ('읺아', 3), ('벽걸', 3), ('합성수지', 3), ('표면처리', 6), ('대행', 10), ('육중', 3), ('국밥집', 7), ('초크', 7), ('용암', 5), ('홧병', 5), ('뺴곤', 3), ('쿠진엉', 4), ('혈색소', 4), ('아스피린', 3), ('개값', 5), ('바디홀릭', 6), ('굿템', 5), ('발통', 4), ('꾸껑', 3), ('효관', 4), ('구부정하다', 9), ('포맷', 6), ('침착하다', 4), ('개떡', 9), ('저따위', 3), ('뭉개', 7), ('카카', 3), ('기량', 4), ('히든', 9), ('입생로랑', 4), ('꼽는부분', 6), ('꼽는것', 3), ('훌룡', 3), ('과민하다', 4), ('응거', 3), ('강트', 3), ('꽃집향', 3), ('섭씨', 5), ('소성', 7), ('꼬불', 4), ('온화하다', 3), ('아물다', 7), ('ㅂㄹ', 6), ('짜증스럽다', 4), ('밝혀지다', 7), ('핏물제거', 4), ('ㅠㅡ', 10), ('니거', 4), ('사칙', 3), ('녹즙', 10), ('주홍', 7), ('켁켁거림', 5), ('희망이', 4), ('귀중', 5), ('소시민', 3), ('셀루라인', 5), ('기정', 5), ('들썩들썩', 9), ('폭등', 8), ('나가시', 4), ('하의도', 7), ('밧드', 10), ('숙모', 3), ('살대', 10), ('페인만', 3), ('카프', 7), ('불결하다', 5), ('혈뇨', 9), ('전화통화', 5), ('슈퍼마켓', 3), ('쪽지', 7), ('위선', 4), ('안듭', 3), ('땡초', 9), ('진지', 11), ('외적인', 4), ('아쒸', 3), ('전도성', 4), ('종인', 6), ('상남자', 3), ('행궈내', 3), ('웠습', 4), ('석고', 16), ('커큐민', 32), ('임보', 3), ('쫄면', 6), ('뾰쪽하다', 3), ('래서야', 4), ('한가하다', 11), ('쌩돈', 4), ('햅틱', 5), ('프레이', 3), ('거야', 10), ('체품', 3), ('찌뿌둥', 6), ('결의', 7), ('정재', 7), ('쪽문', 3), ('업자', 16), ('사그라들다', 6), ('소변기', 3), ('아이야', 28), ('톳밥', 5), ('반수', 4), ('회장', 9), ('송글송글', 4), ('블랑꺼', 4), ('물개', 9), ('스파이크', 4), ('미스틱', 6), ('먹엿는데', 4), ('해오', 8), ('아모레', 6), ('따숩네', 5), ('컨데', 3), ('에든지', 3), ('기술자', 3), ('쿠치', 6), ('억울', 4), ('응축', 3), ('어피', 8), ('쿨감', 4), ('써봣', 6), ('파테', 3), ('진득진득', 4), ('평붓', 3), ('메이트', 6), ('싹둑', 4), ('명백하다', 3), ('영롱', 6), ('아이튠즈', 10), ('아이클라우드', 7), ('쪼끄만', 4), ('대목', 3), ('극락', 9), ('종별', 4), ('포집', 5), ('수십만', 4), ('각심', 6), ('관심사', 7), ('황금비율', 5), ('집문', 3), ('풀칠', 4), ('투닥', 4), ('환호', 6), ('용컵', 3), ('생명력', 9), ('강인하다', 8), ('쿠크다스', 3), ('대갈', 7), ('유니버셜', 4), ('하늘나라', 6), ('맹목', 3), ('샤르텐', 4), ('뎅구', 3), ('만전', 7), ('파채', 5), ('나일', 4), ('주작', 3), ('원본', 4), ('입처', 3), ('포어', 12), ('스크럽제품', 3), ('레바', 6), ('경사면', 3), ('면밀하다', 5), ('식용색소', 5), ('귤즙', 3), ('것외', 4), ('캘빈', 3), ('에티튜트', 4), ('열권', 4), ('자인', 11), ('말차', 4), ('어시장', 4), ('차때', 3), ('섹션', 7), ('또륵', 6), ('초모', 3), ('다비', 6), ('거절', 12), ('쌈무', 11), ('폴리아미드', 3), ('ㅜㅋㅋㅋ', 5), ('도니', 9), ('하관', 13), ('샤라', 4), ('누진', 3), ('골뱅이', 13), ('색색이', 4), ('스트립', 12), ('블레미쉬', 3), ('선고', 3), ('양대', 4), ('쌀독', 3), ('월월', 3), ('개떡같다', 6), ('다생', 4), ('레귤러핏', 14), ('밑받침', 4), ('생건', 4), ('테스토스테론', 3), ('배뇨', 6), ('린트', 3), ('수산시장', 6), ('싰어', 3), ('쓸쓸하다', 3), ('뻔햇', 6), ('십만', 3), ('비니루', 6), ('트롤', 9), ('나제', 3), ('애나', 5), ('파문', 6), ('전무하다', 3), ('별표', 9), ('틴맛', 4), ('자아', 5), ('협박', 8), ('사약', 3), ('가루타', 5), ('공가', 3), ('금구', 7), ('칙칙칙', 4), ('야마', 10), ('소리개', 3), ('지영', 3), ('과습', 4), ('제라늄', 4), ('딩굴딩굴', 3), ('포리지', 3), ('꿀꿀하다', 3), ('수도권', 5), ('오심', 3), ('요개월된즘', 3), ('밨는데', 3), ('퀄팅', 6), ('세바퀴', 3), ('소양증', 3), ('과중', 5), ('들숨', 9), ('란스', 5), ('의류건조기', 6), ('그러자', 3), ('대외', 3), ('어덯', 3), ('인지발달', 7), ('창의성', 10), ('낯가림', 3), ('슬림함', 4), ('인터라켄', 5), ('형통', 3), ('쉐키쉐키', 3), ('작은딸', 7), ('끄읏', 6), ('ㅅㅓ', 4), ('무신경', 3), ('미란', 3), ('따땃함', 4), ('민초', 4), ('추기', 9), ('앤투', 4), ('특상', 4), ('게맛살', 5), ('겔화제', 4), ('육식', 7), ('탐험', 3), ('임실', 3), ('런칭', 5), ('정겹다', 4), ('깁스', 11), ('눕혔더', 4), ('엄첨', 5), ('정거', 4), ('땡잡다', 5), ('김해', 3), ('밑동', 11), ('스무살', 5), ('재래식', 6), ('장맛', 4), ('단락', 4), ('회알', 5), ('좌훈하', 3), ('임기', 4), ('누릿하다', 3), ('승질남', 3), ('로맨스', 4), ('용사', 5), ('태극', 12), ('월등', 4), ('한솔', 13), ('좀벌레', 7), ('다날', 6), ('듀폰', 7), ('살작', 6), ('레몬쥬스', 3), ('파주', 3), ('반봉', 5), ('연신', 7), ('지압', 3), ('바게뜨', 7), ('젯소칠', 14), ('덧칠', 4), ('어지럽혀지다', 3), ('수크랄로스', 18), ('모토', 3), ('봣으', 3), ('항공기', 5), ('장전', 3), ('클락', 9), ('당일치기', 5), ('펜스', 8), ('만물상', 7), ('키포인트', 3), ('앖습니', 3), ('보슬', 5), ('왓구', 8), ('복돌이', 6), ('후니', 3), ('구이판', 3), ('볼껄', 4), ('몰랑몰랑', 4), ('블렌딩할', 4), ('막판', 10), ('한페이', 11), ('어뷰징', 3), ('옥에티', 5), ('비품', 14), ('소생', 4), ('어째튼', 3), ('썰렁하다', 4), ('색옷', 3), ('여한', 3), ('쉬창', 8), ('보도블록', 4), ('홈파다', 3), ('얄상', 3), ('쫜득쫜득', 3), ('똥파리', 3), ('을때', 3), ('변수', 5), ('워킹', 7), ('양좀', 3), ('아카데미', 3), ('빳빳함', 6), ('체인점', 4), ('조려', 9), ('동우', 3), ('상피', 3), ('세탁량', 4), ('널브러져', 4), ('백지', 6), ('조취', 4), ('통화량', 3), ('새소리', 4), ('차번호판', 3), ('읎어', 3), ('튀밥', 3), ('흥청망청', 3), ('피트', 13), ('비프', 4), ('내딛다', 3), ('건어', 3), ('버핑할', 4), ('엠씨', 3), ('오랜지', 6), ('좀달', 4), ('애석하다', 3), ('알때', 5), ('바싹바싹', 3), ('슬로건', 3), ('괜찬다', 5), ('츄팝춥스', 3), ('눌럿는데', 3), ('베렝', 4), ('프락', 14), ('더덕', 13), ('간부', 4), ('보슬이', 3), ('해이', 5), ('철봉', 7), ('내리막', 8), ('잉카', 8), ('형감', 4), ('피순대', 4), ('반픔', 3), ('고별', 4), ('교동', 3), ('개똥', 10), ('치트', 3), ('부조', 3), ('식욕부진', 3), ('재수없다', 5), ('급사', 4), ('일기예보', 4), ('통치', 3), ('쪼끄', 3), ('뉴트로지나', 4), ('쫄쫄', 6), ('지혈', 12), ('황소', 7), ('커팅할때', 3), ('서기대', 5), ('쾌적', 4), ('오발', 4), ('모듀', 8), ('산수', 7), ('코멧헤링본', 3), ('회하', 3), ('송타올', 3), ('더움', 7), ('보부상', 7), ('차사', 3), ('싸쥬', 3), ('놀랫네', 3), ('육만원', 3), ('갈릭', 8), ('맥북프로', 3), ('타샤', 3), ('봣음', 3), ('ㄷㅂ', 3), ('화룡', 3), ('연제', 4), ('년말', 3), ('헹굼때', 4), ('외지', 4), ('에녹', 4), ('냉각기', 4), ('먼지털이개', 3), ('버핑하', 6), ('경제성', 8), ('공예', 3), ('처방약', 7), ('드하', 11), ('마그', 3), ('도울', 5), ('그걸루', 5), ('엘피', 5), ('프렌', 3), ('잿소', 4), ('위메프', 5), ('스테이션', 8), ('깨치다', 3), ('으이', 6), ('이연', 4), ('상면', 5), ('포텐', 3), ('묶인', 5), ('컬용', 3), ('우엉', 9), ('뽀샵', 7), ('롤라이', 15), ('이리고', 3), ('각가지', 3), ('인장', 3), ('인지력', 6), ('절규', 4), ('임부복', 3), ('으로까지', 4), ('휘핑할', 3), ('래끼', 4), ('호보', 5), ('불문', 12), ('동도', 5), ('영어권', 4), ('까지를', 5), ('좋쥬', 4), ('럭스', 16), ('꼬맘', 3), ('미혼', 5), ('임무', 6), ('눈초리', 3), ('누선', 3), ('양철', 3), ('맨뒤', 3), ('보사', 3), ('알칼리', 11), ('부시럭', 7), ('수풀', 4), ('해녀', 4), ('혈맘', 4), ('무언', 4), ('해놧는데', 4), ('생겻네', 3), ('리얼리티', 4), ('자쿠', 3), ('찡얼대다', 3), ('뉴트', 5), ('녹슴', 3), ('환제', 3), ('몰랏는데', 5), ('ㄱㄴ', 8), ('암기', 7), ('품성', 7), ('전채', 3), ('헹궈진다', 4), ('엔간하다', 3), ('펄감', 4), ('나주고', 3), ('가집', 6), ('굴렸', 3), ('권매', 4), ('아집', 3), ('언듯', 3), ('은시', 3), ('널려', 7), ('듬뿍하다', 4), ('중얼중얼', 4), ('통입', 7), ('브리츠', 5), ('걸상', 3), ('킨즈', 4), ('데이지꽃', 5), ('익휠', 4), ('빨랏구', 5), ('천둥', 3), ('불퉁', 3), ('환갑', 6), ('현수막', 4), ('트리먼트', 3), ('녹진하다', 4), ('삽겹살', 6), ('아작이다', 3), ('ㅜㅜㅎ', 8), ('몸서리', 5), ('커리큘럼', 5), ('코멧실', 3), ('양산도', 5), ('싸느랗다', 4), ('내껀', 9), ('후려', 3), ('정규', 3), ('티빙', 15), ('에쉬레', 3), ('웨일', 6), ('김현', 3), ('블링블링', 9), ('얼음판', 4), ('알래스카', 5), ('베링해', 3), ('과산화물', 3), ('깔끔깔끔', 8), ('선더', 7), ('강강', 3), ('퍽퍽살', 3), ('봉쇄', 3), ('아토젯', 5), ('ㄱㅔ', 5), ('골도', 3), ('패딩부츠', 6), ('루나', 17), ('차트', 7), ('푸푸', 3), ('흉부', 5), ('팥알', 3), ('스파츌러', 4), ('채용', 7), ('정격전압', 4), ('헐렁거립니', 4), ('개묘', 3), ('피뷰', 3), ('도치', 4), ('적양배추', 4), ('더듬더듬', 4), ('청초하다', 3), ('피플', 4), ('리카', 4), ('쥿구', 3), ('엄네', 4), ('유동', 5), ('금실', 8), ('비비드', 8), ('손목시계', 6), ('ㅋㅠ', 3), ('발성', 7), ('질켄', 6), ('리웨이', 3), ('과민반응', 3), ('게로', 10), ('버둥버둥', 3), ('부산여행', 3), ('피클', 15), ('하인', 4), ('스플릿', 7), ('질식', 6), ('핼륨', 6), ('기점', 7), ('할땨', 3), ('왁싱할때', 3), ('뽀독', 4), ('교묘하다', 8), ('자포자기', 3), ('저주', 3), ('샘솟다', 5), ('갖가지', 5), ('베킹소', 7), ('쪼록', 9), ('닭발', 7), ('유통업체', 3), ('회간', 3), ('교대근무', 3), ('회사원', 3), ('쥬세', 3), ('건고', 3), ('가중', 5), ('수해', 5), ('평의', 9), ('종편', 4), ('제작비', 3), ('반구', 3), ('호스트', 4), ('돈피', 4), ('뛰어나오다', 5), ('팥붕', 4), ('후뚜루', 3), ('희야님', 3), ('디엠', 4), ('좌훈쑥', 6), ('정향', 7), ('회향', 4), ('반구형', 4), ('마시멜로', 5), ('스펜서', 7), ('동상', 5), ('돌쟁', 3), ('기화', 6), ('내비', 8), ('서해', 5), ('푸르밀', 3), ('개식', 5), ('깉아', 5), ('왓다갔다', 3), ('간질거리다', 4), ('인천', 11), ('어께', 5), ('나주', 4), ('연안', 5), ('진도개', 4), ('리콜', 9), ('순순하다', 3), ('노년기', 3), ('비바', 6), ('산유', 3), ('정백', 3), ('쌀보리', 3), ('라덴', 3), ('이산화탄소', 6), ('대상자', 4), ('슈팅', 8), ('머리띠', 10), ('장대비', 5), ('오크', 13), ('라운딩처리', 5), ('칩셋', 8), ('액채', 3), ('오월', 7), ('프시', 4), ('휴롬', 12), ('가납', 6), ('호랑', 3), ('괞찮아', 4), ('정차', 6), ('픽하', 5), ('우둘투둘하다', 5), ('밥집', 3), ('왓챠', 3), ('궁뎅', 13), ('렉시', 3), ('모공각화증', 11), ('해영', 3), ('개화', 3), ('복분자', 3), ('가겍', 3), ('종결', 6), ('슈퍼카', 5), ('유효하다', 5), ('의젓하다', 3), ('원기둥', 3), ('남표', 3), ('유피', 8), ('명중', 8), ('개르신', 3), ('주물럭', 3), ('성탄', 5), ('잇엇음', 4), ('마게', 3), ('린채칼', 3), ('애메', 4), ('재래시장', 4), ('비엔', 4), ('허름', 7), ('더치커피', 6), ('페룸', 3), ('꽃꿀', 4), ('꺼칠하다', 5), ('쩌억쩌억', 6), ('빈칸', 3), ('재밋다', 4), ('요키', 17), ('매스껍', 3), ('불경기', 3), ('페닐', 3), ('대립', 10), ('착후', 3), ('흐규흐규', 3), ('폐활량', 3), ('땅끝', 3), ('욤귀욤', 5), ('스임', 4), ('일곱개', 4), ('기어이', 3), ('양상', 10), ('러가', 3), ('뉴리', 3), ('아일렛', 10), ('부연', 4), ('즉석식품', 3), ('멜라닌', 5), ('조굼', 3), ('발걸음', 5), ('모방', 4), ('펀칭', 3), ('쯔유', 5), ('스크램블에그', 3), ('비포장도로', 6), ('어따', 5), ('백혈병', 4), ('피부암', 3), ('판위', 6), ('닭똥', 5), ('레어', 3), ('어덜트', 15), ('수긍', 5), ('곤죽', 3), ('세컨용', 6), ('가젤', 4), ('학대', 4), ('과시', 3), ('합류', 6), ('뻘겋', 5), ('스텐드형', 9), ('못봣', 3), ('탄피', 3), ('짝수', 5), ('느꼇', 4), ('횟집', 4), ('릴안', 3), ('더컷', 4), ('궁굼', 8), ('태양열', 5), ('태평양', 6), ('산만', 3), ('사모예드', 5), ('구차', 4), ('림프', 8), ('개업', 6), ('편직', 6), ('내쉬다', 3), ('ㄱㅐ', 4), ('세랑', 4), ('급속도', 12), ('꼴깍', 12), ('후훗', 4), ('완소', 3), ('참내', 8), ('불하', 4), ('트드', 3), ('몽크', 4), ('질다', 4), ('메스', 3), ('콜도', 6), ('헥헥', 4), ('케케', 3), ('아이두', 3), ('더달', 3), ('온돌', 3), ('알곤', 3), ('토돌', 3), ('곧장', 7), ('현역', 3), ('토닥이다', 3), ('우일', 3), ('숙박', 5), ('옆선', 12), ('토크', 3), ('플로우', 8), ('바둑이', 6), ('즤집', 8), ('블렉', 3), ('킹크랩', 4), ('옹알옹알', 3), ('살리실산', 6), ('몽글몽글하다', 9), ('여든', 4), ('주해', 7), ('있겠죵', 3), ('쭈글대', 3), ('랜카드', 5), ('작은아들', 10), ('우퍼', 3), ('부풀리다', 6), ('월화', 6), ('드랬', 5), ('김사랑', 3), ('막스', 4), ('매매', 5), ('기립', 5), ('블랑로', 4), ('알수없음', 7), ('뾰로롱', 3), ('특등', 9), ('참마', 3), ('채중', 3), ('지반', 3), ('래브라도', 3), ('못함', 6), ('막입', 9), ('위풍', 3), ('불앞', 6), ('아로니아', 3), ('청과', 5), ('부농', 4), ('방수로', 6), ('요란', 7), ('요나', 5), ('물풀', 7), ('이솝', 5), ('파바', 3), ('조안', 3), ('각개', 12), ('행군', 7), ('육성', 7), ('꼽슬', 3), ('기필코', 4), ('미자', 3), ('우삼겹', 5), ('괜찬음', 4), ('사원', 3), ('중합체', 5), ('인헨스', 5), ('관대하다', 4), ('토모', 3), ('다년', 5), ('살일', 4), ('우류', 3), ('고상', 4), ('골랏는데', 4), ('최고봉', 6), ('으쌰으쌰', 3), ('개월용', 3), ('아피', 3), ('엠에스', 3), ('티샤', 3), ('발뮤', 17), ('로주', 6), ('바둑판', 3), ('선로', 10), ('랩스', 4), ('자쥬', 5), ('중국집', 3), ('알바로', 3), ('쪼금더', 4), ('짝뚱', 3), ('한정판', 4), ('공부자', 3), ('파킹', 11), ('쿠킹홀', 3), ('견줄', 4), ('슈즈', 5), ('잉글', 3), ('만행', 3), ('포즈', 9), ('욱신욱신', 4), ('트윈형', 3), ('고색', 3), ('유튜버분', 4), ('호옥', 4), ('살모', 3), ('저온살균', 7), ('고재', 6), ('있슴니', 3), ('살림꾼', 5), ('귀향', 3), ('적적하다', 5), ('이변', 6), ('클로즈업', 5), ('머릿카락', 3), ('동거인', 7), ('픽픽', 8), ('생모', 3), ('닥치고', 3), ('비조', 4), ('브레짜', 3), ('오나미', 7), ('비림', 4), ('속임수', 3), ('얼마만큼', 8), ('들려오다', 3), ('촥촥촥', 3), ('곯다', 3), ('명소', 3), ('거드', 3), ('선보다', 3), ('살껄그랬', 3), ('박도', 4), ('요코', 4), ('초토화', 3), ('번뇌', 8), ('잡념', 6), ('번쨰', 3), ('민주', 3), ('뒷걸음', 4), ('러스트', 4), ('얄밉다', 3), ('파워레인저', 6), ('피디', 3), ('풀숲', 4), ('매출', 4), ('책받침', 6), ('볼떄', 4), ('촵촵촵', 3), ('수온', 4), ('델리카토', 3), ('자동화', 7), ('프라모델', 3), ('ㅡㅡㅡㅡㅡㅡㅡㅡㅡㅡㅡㅡㅡㅡㅡㅡㅡㅡㅡㅡㅡㅡㅡㅡㅡㅡㅡㅡㅡㅡㅡㅡㅡㅡㅡㅡ', 4), ('스콜', 3), ('체모', 4), ('페티', 3), ('문의사항', 3), ('이첨', 5), ('김태균', 4), ('어절', 3), ('고런', 10), ('분들껜', 6), ('뚜둥', 3), ('등고', 8), ('한세상', 4), ('이확', 6), ('쏠쏠', 5), ('도톱', 11), ('경자년', 11), ('무었', 4), ('떠돌이', 4), ('철썩', 6), ('센시티브', 21), ('집밖', 7), ('크리스마스카드', 3), ('투도어', 3), ('스퀴저', 3), ('장농안', 3), ('화산', 3), ('자제력', 5), ('올드함', 4), ('잔료감', 3), ('점임', 3), ('막론', 5), ('광물', 4), ('쨍합니', 3), ('사일', 7), ('벨킨', 7), ('ㅁㄱ', 4), ('얼굴빛', 4), ('드조', 4), ('스믈스믈', 3), ('됏습니', 3), ('유념', 8), ('대장암', 6), ('신나라', 3), ('죄금', 3), ('주요한', 3), ('도토리', 7), ('꼬메', 4), ('석회질', 6), ('난각', 5), ('유정', 10), ('컬럼비아', 8), ('미기', 6), ('산맥', 4), ('강세', 3), ('박지성', 3), ('펜타곤', 6), ('없쥬', 9), ('훈연향', 3), ('중고생', 4), ('후줄근하다', 8), ('제빵사', 3), ('아티', 10), ('암등', 3), ('수천', 15), ('시기상조', 5), ('걸처', 3), ('손위', 5), ('쫄깃합니', 10), ('북로', 3), ('퀵쉐어', 3), ('핑꾸색', 3), ('소홀', 4), ('환호성', 7), ('원개', 9), ('전원주택', 3), ('설상가상', 3), ('뒤틀다', 3), ('허탈하다', 6), ('아눌린', 3), ('묘도', 5), ('쫀뜩', 6), ('쌀맛', 4), ('없어욬', 4), ('혼밥용', 5), ('노킹음', 3), ('류마티스', 3), ('대뜸', 3), ('마니사', 4), ('링안', 3), ('물방', 4), ('자명', 5), ('제구실', 4), ('뮤직', 3), ('이조', 4), ('하물며', 5), ('등등하다', 6), ('에어도', 6), ('런트', 5), ('혼맥', 5), ('노려보다', 5), ('조롱', 4), ('프리미어', 8), ('평탄하다', 3), ('오피러스', 3), ('사타', 3), ('소유진', 14), ('이처', 3), ('깃발', 3), ('오미자', 3), ('울컥울컥', 4), ('유축', 4), ('챱챱챱', 3), ('다이렉트', 11), ('때껏', 5), ('뒷어금니', 4), ('좋네욬', 3), ('랍니닼', 3), ('면제', 3), ('버럭', 5), ('바베큐그릴', 3), ('거격', 5), ('만큼도', 5), ('ㅅㅌㅊ', 3), ('어종', 3), ('그요', 5), ('층집', 3), ('빛바랜', 7), ('스프링노트', 4), ('허세', 3), ('좋슴니', 3), ('미제', 7), ('츄르같', 4), ('피넛', 3), ('옷걸때', 3), ('기문', 3), ('각박하다', 19), ('하고만', 4), ('부적절', 3), ('널향', 3), ('투뿔', 3), ('캠린', 3), ('강강강', 4), ('강강추', 3), ('증량', 3), ('코브라', 3), ('집단', 5), ('웅하', 4), ('허브차', 5), ('폴셋', 6), ('칭합', 5), ('정열', 3), ('이백이', 3), ('침해', 4), ('내적', 3), ('전부하다', 3), ('고추기름', 4), ('비숑입니', 3), ('라즈베리', 4), ('트랜디', 3), ('또봇', 9), ('드라잉타월', 6), ('영도', 3), ('안됫는데', 3), ('소나기', 5), ('아씨', 3), ('연구개발', 7), ('버려진', 3), ('엇네', 6), ('잘드네', 3), ('가시대', 6), ('피콜로', 9), ('원거리', 5), ('야말로', 6), ('빠삭하', 5), ('아텍스', 8), ('케텐', 3), ('화랑곡나방', 3), ('공률', 7), ('거품량', 3), ('쫄려', 7), ('버핑작업', 4), ('심술', 4), ('기수', 4), ('쩔어요', 7), ('반지', 9), ('약탕기', 4), ('일사천리', 3), ('혈도', 3), ('딴다', 5), ('불행', 4), ('글래드랩', 4), ('쇠붙이', 3), ('유소', 3), ('분모', 3), ('견주어', 4), ('짓거리', 4), ('건데기', 7), ('간지럼', 7), ('막률', 3), ('찔금', 3), ('들락달락', 3), ('듬북', 4), ('껄죽', 3), ('없슴다', 5), ('추르', 7), ('피맛', 6), ('자산', 3), ('어눌하다', 3), ('쌔거', 3), ('좋겠슴', 3), ('칫수', 4), ('둘맘', 3), ('폴리코사놀', 4), ('찌릿찌릿', 3), ('거잭', 8), ('큐원', 4), ('ㅡㄴ', 5), ('비틀리다', 6), ('인점', 4), ('부귀', 4), ('신들', 3), ('부집', 4), ('카우치', 4), ('개그', 3), ('엔비디아', 3), ('색번짐', 3), ('취학', 4), ('티보', 4), ('방매', 3), ('먹어봣', 3), ('저체중', 6), ('노릿하다', 3), ('처방전', 4), ('성기사', 3), ('트위스트', 3), ('몰랑하다', 4), ('색조화', 4), ('구구', 3), ('입쪽', 7), ('이러니까', 8), ('으름', 5), ('옷차림', 3), ('육개', 3), ('펫푸드', 3), ('진찌', 7), ('비상식량', 4), ('계약', 8), ('삼색', 3), ('상복', 5), ('불매운동', 4), ('와우도', 4), ('종이배', 11), ('건초', 7), ('똥글똥글', 4), ('스크레치나', 4), ('쭉욱', 3), ('보금자리', 5), ('새끼고양이', 4), ('의구', 4), ('십초', 5), ('박치기', 5), ('하그', 3), ('회상', 3), ('커피집', 3), ('책상서랍', 3), ('엠보있', 3), ('크라이트', 3), ('청어', 4), ('디포', 5), ('스반', 3), ('무익', 3), ('흐엉', 4), ('포동포동', 4), ('철조망', 4), ('디깅박스', 3), ('안뭍', 8), ('다스', 4), ('꼬물꼬물', 7), ('화채', 3), ('캐스', 4), ('입엇을때', 3), ('등살', 5), ('헤드앤숄더', 3), ('요동치다', 4), ('변인', 3), ('군달', 3), ('주년', 5), ('스텐딩', 3), ('사하', 3), ('먹을껀', 3), ('픽싱', 3), ('빈부', 3), ('바르르', 3), ('짐해', 4), ('움츠리다', 6), ('반환', 3), ('괜춘한듯', 3), ('퐁퐁실', 4), ('쌉싸래하다', 3), ('티니', 3), ('양고기', 4), ('문제해결', 3), ('파릇파릇하다', 7), ('멕시코', 5), ('씽씽', 13), ('보호색', 3), ('이십분', 4), ('축사', 3), ('양안', 3), ('테아닌', 8), ('미키', 4), ('외솥', 5), ('용치', 4), ('브로마이드', 5), ('웰츠', 5), ('태보', 3), ('글거림', 4), ('원뿔', 4), ('견학', 3), ('유기묘', 4), ('페트라', 3), ('오도독', 16), ('코치', 3), ('히노키', 6), ('배움', 3), ('블편', 3), ('신기로', 3), ('꽁냥꽁', 3), ('딜떠', 5), ('찌릿찌릿하다', 4), ('자수정', 8), ('알킬', 5), ('디올', 5), ('한적하다', 3), ('곳애', 4), ('샤프트', 3), ('뒤뚱거려', 4), ('테슬라', 8), ('아팟어', 4), ('헐떡이다', 5), ('부자연스럽다', 13), ('유관', 3), ('르쿠', 3), ('쥐똥', 5), ('대호', 3), ('점정', 3), ('대머리', 5), ('민들레', 4), ('지지마', 3), ('방심', 6), ('눈섭', 3), ('일장일단', 5), ('코리다', 3), ('정전', 6), ('근심', 6), ('강장', 8), ('약재', 7), ('사다리꼴', 3), ('블랫', 3), ('라텍', 5), ('엉터리', 6), ('전개', 7), ('괸찮아', 3), ('끼익', 5), ('산티', 3), ('물벼락', 3), ('닭뼈', 5), ('록시', 3), ('몽실', 8), ('조화로움', 6), ('여사', 7), ('인어', 5), ('살비', 3), ('견주들', 5), ('통전', 3), ('낙상', 3), ('삼천삼백원', 4), ('치주염', 17), ('슈렉', 3), ('가스랜지', 3), ('야시장', 3), ('알프', 4), ('레미오', 3), ('데커', 7), ('서거', 5), ('헹궈줍니', 4), ('퍼그', 3), ('빠드득', 3), ('빱니', 4), ('시켯다', 5), ('낙지', 6), ('통오징어', 3), ('원망하다', 4), ('쿠퐝', 4), ('스킨텍', 11), ('기형', 5), ('룰라', 3), ('콧노래', 4), ('갈까말까', 4), ('구내식당', 3), ('홈플레닛', 4), ('트레인', 6), ('모네', 5), ('하이포', 9), ('천막', 4), ('조간', 5), ('해빛', 4), ('무연', 4), ('ㅡㅎㅎ', 3), ('지궁', 3), ('참나물', 3), ('깔개', 13), ('전일', 3), ('분뇨', 3), ('곱절', 3), ('뿌앵', 3), ('배렛', 3), ('미밴드을', 6), ('바람개비', 5), ('칸초', 10), ('레이브', 3), ('옹심이', 4), ('잠귀', 3), ('연통', 3), ('정복', 4), ('아이배냇', 5), ('패닉', 4), ('대규모', 6), ('그렌데', 3), ('인트라젠', 5), ('찬성', 3), ('테그', 3), ('영양사', 3), ('궁물', 6), ('시메', 4), ('상페', 3), ('제피', 3), ('앰프', 3), ('쭉정이', 3), ('족집게', 8), ('어릴떄', 3), ('어긋나게', 7), ('낭군', 4), ('여성향', 5), ('센슈얼', 13), ('도도하다', 5), ('교데', 6), ('수강', 3), ('키디', 7), ('앤무브', 4), ('달더', 3), ('펜슬커버', 3), ('락피도', 13), ('이너베젤', 4), ('들어욤', 3), ('하늘바람', 3), ('한살림', 4), ('ㅠㅇㅠ', 3), ('ㅋㅋㅎ', 4), ('있죵', 3), ('쿳팡', 3), ('탄산가스', 3), ('공해', 4), ('용케', 3), ('팬안', 3), ('청량', 5), ('몽돌', 6), ('빨랏', 6), ('영리하다', 8), ('러신', 5), ('패팅', 4), ('청소부', 4), ('토비', 4), ('힐뻔', 3), ('모비스', 4), ('느닷없다', 5), ('미장센', 5), ('들이밀다', 3), ('힐거', 3), ('틀림없이', 3), ('사각팬티', 4), ('더도', 3), ('텅빈', 3), ('깨꿋', 3), ('디톡스', 11), ('달칵', 9), ('뭔갈', 6), ('짓무른', 4), ('클랜', 7), ('예뿜', 3), ('란제리', 3), ('헹굼회', 3), ('페퍼', 3), ('헤나', 3), ('공함', 3), ('핫초코', 10), ('까눌레', 3), ('제일제당', 5), ('빗살', 5), ('모래시계', 4), ('찡찡거리다', 6), ('페넬', 9), ('런스', 10), ('에너자이저', 10), ('격감', 3), ('임파선', 4), ('항생', 3), ('값지다', 5), ('불가리', 3), ('시안', 10), ('드릉드릉', 3), ('면빨', 7), ('보르', 6), ('취항', 3), ('황산염', 4), ('그득', 5), ('딥블루', 4), ('투피', 4), ('움찔거리다', 4), ('목용탕', 3), ('만드', 5), ('폭포', 5), ('절음', 4), ('겉통', 5), ('크레욜', 3), ('승차', 6), ('미방', 3), ('베비', 4), ('정중하다', 4), ('소간', 4), ('안간힘', 3), ('뭉뚝', 3), ('방수만', 3), ('핑쿠핑쿠', 3), ('첫쨋', 4), ('콘세트', 4), ('팥죽', 6), ('디락', 3), ('초전', 3), ('브릴', 9), ('엇구', 5), ('궁댕', 5), ('비영리', 3), ('무미', 5), ('오배', 3), ('바디클렌져', 3), ('카네이션', 5), ('트랜드', 3), ('풀바셋', 5), ('웹캠', 4), ('창백하다', 3), ('하기야', 4), ('ㅎㅠ', 3), ('이직', 5), ('싱가폴', 4), ('가라아게', 4), ('닭튀김', 3), ('트롬', 9), ('임팩트', 8), ('공과', 4), ('부제품', 3), ('어쨋던', 3), ('정과정', 5), ('뇨키', 4), ('에브리데이', 3), ('추추', 3), ('서러움', 3), ('대수', 4), ('픽했네', 3), ('도쿄', 4), ('크로미', 3), ('군모', 3), ('홀몬', 3), ('순번', 3), ('스켈링', 5), ('타우', 3), ('프로필렌', 3), ('포티', 5), ('면세', 4), ('전정기', 3), ('정말루', 8), ('킬로나', 3), ('스텐이구', 3), ('바빳는데', 4), ('프리지아', 5), ('걸렷어', 3), ('넣엇어', 4), ('가설', 3), ('속보', 3), ('산듯', 5), ('ㅂㅎ', 3), ('찡얼거리다', 5), ('우짜', 11), ('비급', 3), ('화용', 7), ('쏜다', 4), ('구더기', 3), ('꿈비', 3), ('ㅡㅡㅡㅡㅡㅡㅡㅡㅡㅡㅡㅡㅡㅡㅡㅡㅡㅡㅡㅡㅡㅡㅡㅡㅡㅡㅡㅡㅡㅡㅡㅡ', 17), ('틈막', 3), ('야메', 3), ('지협', 4), ('착증', 3), ('팸퍼', 13), ('무른변', 3), ('조효소', 3), ('루이', 5), ('큰물', 4), ('다섯손가락', 3), ('셰도우', 3), ('모브', 4), ('검버섯', 6), ('일대일', 4), ('고혈압약', 3), ('좋겠죵', 3), ('함돠', 3), ('실라', 3), ('트업', 6), ('가야농장', 7), ('끄리', 3), ('털때', 3), ('비꼬다', 4), ('탑인', 4), ('읎드다', 3), ('닝겐', 3), ('항공사', 11), ('도킹', 4), ('자유로이', 3), ('빠빳', 3), ('분명해지다', 3), ('꼽았는데', 4), ('말머리', 4), ('태양빛', 3), ('목캔디', 3), ('추나', 3), ('동키', 4), ('쪼글쪼글', 3), ('산신', 5), ('굷은것', 6), ('브렌드', 10), ('슈나우저', 3), ('좋았슴', 5), ('붕떠', 5), ('갤런', 3), ('수처리', 4), ('컴백', 3), ('피셜', 7), ('부질없다', 3), ('축산물', 3), ('돋보기', 4), ('엘리자베스', 3), ('턴오버', 8), ('질겅이계', 3), ('휘러', 4), ('식촛물', 5), ('세미나', 3), ('채결', 3), ('해바', 4), ('호정', 5), ('가모', 3), ('모랑', 3), ('노른', 8), ('틈세', 4), ('다모아', 3), ('소실', 5), ('용인시', 3), ('초당', 3), ('금등', 3), ('비난', 4), ('옆판', 5), ('렐라', 4), ('진전', 6), ('투평', 4), ('혼탁', 9), ('시몬', 3), ('쟁여놨', 5), ('투탕카멘', 4), ('무덤', 11), ('만빵', 5), ('계란노른자', 4), ('당성', 5), ('말티톨', 6), ('아릴', 4), ('빔프', 4), ('일련번호', 3), ('클립보드', 3), ('초지', 3), ('미세섬유', 5), ('겨울패딩', 3), ('충전지', 4), ('사족', 4), ('펄럭거리다', 7), ('ㅍㅎㅎㅎ', 4), ('갈라가', 3), ('울마크', 3), ('성우', 6), ('풀내음', 4), ('두칫수', 3), ('놀랜', 3), ('궁굼해', 3), ('생면', 8), ('테일', 4), ('롯트', 4), ('일개', 3), ('뚱띵', 3), ('뚱띵줌마', 3), ('번거', 5), ('비릿한데', 3), ('카메라맨', 7), ('카시오', 4), ('웅웅', 5), ('큼큼', 3), ('친자연', 3), ('뿌듯뿌듯', 5), ('옷속', 5), ('뭉클', 3), ('유아차', 6), ('뽀족해', 6), ('스펙트럼', 3), ('쉬마렵다', 3), ('앏다', 3), ('사산', 4), ('포스트', 9), ('화학공학', 3), ('전공자', 4), ('어니', 5), ('바실', 4), ('눈꽃', 9), ('후쿠시마', 3), ('동심', 4), ('미보', 3), ('ㅋㄷ', 5), ('이질', 5), ('자아내다', 5), ('날일', 3), ('허둥지둥', 3), ('슬기롭다', 7), ('맨몸', 8), ('없죵', 3), ('보폴', 6), ('알맘', 7), ('부과', 3), ('반항', 3), ('난립', 5), ('업청', 6), ('한전', 3), ('결하', 3), ('화실', 3), ('고헬시', 4), ('로퍼', 4), ('헐렁거림', 4), ('동고동락', 3), ('간기', 3), ('뿌띠', 3), ('음건', 3), ('와웅', 3), ('질리나', 4), ('우미', 6), ('거미', 9), ('대수술', 3), ('피손', 3), ('문인진', 3), ('가짐', 5), ('릴선', 5), ('아르헨티나', 7), ('삼국지', 5), ('신석기', 3), ('맥락', 3), ('부켁', 6), ('은발', 4), ('웅거', 4), ('마다의', 3), ('농작물', 6), ('메트로', 5), ('하반신', 4), ('셀때', 3), ('또사', 5), ('말모', 5), ('화동', 4), ('발색샷', 3), ('업력', 4), ('비론', 3), ('원주', 3), ('영월', 3), ('광경', 3), ('므흣', 3), ('해명', 7), ('겨드랑이털', 3), ('일광욕', 5), ('판때', 3), ('통스텐', 7), ('유튜부', 4), ('불분', 3), ('게요', 3), ('외통', 4), ('외간', 3), ('이사준', 3), ('면방', 4), ('보자기', 6), ('척롤', 3), ('곤해', 3), ('엘프', 5), ('분절', 4), ('푸서', 3), ('포카칩', 3), ('나넹', 5), ('나좀', 3), ('처람', 7), ('간곡히', 4), ('빻거', 3), ('주주', 5), ('세이펫', 3), ('키자니', 3), ('띁어', 3), ('백포', 3), ('개미지옥', 8), ('명줄', 4), ('안밖', 7), ('명분', 3), ('전판', 3), ('평해', 3), ('불임', 4), ('피케', 13), ('풀셋트', 4), ('앨리스', 4), ('부채살', 3), ('햇썹', 3), ('빛도', 6), ('괸찮', 8), ('락기능', 4), ('돌체구스터', 3), ('자르르', 6), ('가체', 4), ('데스', 3), ('갑임', 4), ('한뭉텅', 3), ('꼬지전', 3), ('백년', 3), ('물렁뼈', 4), ('재맛', 3), ('어미젖', 4), ('삿눈데', 4), ('파타', 6), ('삿는', 3), ('타밀', 3), ('페브릭', 4), ('세럼', 4), ('대질', 4), ('ㅈㄱㄷ', 3), ('빵실빵', 3), ('코펠', 7), ('초란', 4), ('완숙', 10), ('숫컷', 3), ('난도질', 4), ('베잎', 3), ('신처', 3), ('튜닝', 4), ('실지', 4), ('가나다라', 7), ('남새', 5), ('룩희', 7), ('산이면', 4), ('성적표', 3), ('폰타나', 3), ('똥똥', 3), ('혼합물', 6), ('훤하', 6), ('해골', 4), ('삼조', 4), ('느꼐져', 3), ('해유', 3), ('들판', 5), ('회신', 3), ('가로지르다', 5), ('부페', 5), ('스을', 3), ('은방', 5), ('좁히다', 6), ('대피', 4), ('어프', 4), ('됏다', 4), ('살다보면', 5), ('샤르르', 4), ('관찮은데', 3), ('일어나며', 3), ('홈템', 3), ('국산품', 6), ('장려', 3), ('애국심', 3), ('통단', 7), ('천만원', 4), ('레그', 4), ('이롬', 22), ('눈건', 3), ('지망', 3), ('바치', 6), ('알구', 4), ('소보원', 3), ('기공', 4), ('떡심', 4), ('년일', 6), ('안절부절', 3), ('계란빵', 10), ('푸리', 5), ('횡성', 5), ('달진', 3), ('내력', 3), ('지요', 3), ('집껀', 3), ('잇솔질', 6), ('놨던', 3), ('고참', 3), ('비둘기', 7), ('흰동가리', 4), ('밀감', 4), ('떡보', 3), ('ㅋㅋㅋㅠㅠ', 6), ('부저', 4), ('니팅링', 3), ('버킷리스트', 3), ('마직막', 3), ('쉬샘', 4), ('상당수', 3), ('블리바', 4), ('이만오천원', 4), ('결명자', 5), ('영차', 5), ('원아', 3), ('떠내다', 5), ('왜간장', 6), ('드가는', 3), ('신라면', 7), ('직분', 4), ('건과류', 6), ('셀러드', 8), ('벌금', 4), ('라따', 3), ('했느', 6), ('프로볼', 4), ('우선하다', 4), ('초청', 4), ('완전식품', 3), ('푸트', 4), ('몸짱', 3), ('출시일', 3), ('트론', 3), ('컵밥', 4), ('감미', 6), ('옐로', 6), ('검거', 3), ('쉽지요', 3), ('베킹', 3), ('과속', 4), ('뿜어', 3), ('알고싶다', 3), ('달겨', 3), ('때밀이', 3), ('안료', 3), ('모친', 3), ('배숙', 4), ('쌘거', 4), ('오오오', 6), ('카멜레온', 4), ('둥그렇', 3), ('합금', 4), ('스벅꺼', 3), ('푼물', 4), ('제리', 5), ('프리스비', 4), ('주연', 3), ('시바', 6), ('최곤거', 3), ('블렌딩용', 3), ('핑쿠', 4), ('만달라', 3), ('스텐제질', 4), ('탈바꿈', 4), ('트더', 4), ('퍼티', 5), ('퀄티', 4), ('애시', 3), ('마셈', 5), ('로지', 3), ('입쏙', 5), ('휩쓸다', 4), ('님편', 3), ('탱글쫄깃', 3), ('프리마베라', 7), ('생협', 3), ('여섯시', 3), ('소맥분', 3), ('쩌억', 3), ('간암', 5), ('동력', 4), ('오뎅꼬', 4), ('스퀴즈', 3), ('꼬부', 14), ('제호', 4), ('널림', 3), ('살롱', 5), ('로치', 3), ('청테이프', 5), ('파색', 3), ('상일', 3), ('다낭', 5), ('우짜노', 3), ('재탄생', 3), ('번데기', 3), ('당해', 5), ('휘파람', 3), ('코르크', 3), ('탕수육', 6), ('허자블', 5), ('티향', 4), ('기밀', 6), ('빠릿', 5), ('산란하다', 7), ('쫀득쫀득해', 4), ('잇츠', 6), ('줄렌', 7), ('차악', 3), ('플러쉬', 8), ('불륨', 3), ('도브향', 4), ('아세테이트', 6), ('뺑소니', 4), ('방관', 3), ('여종', 4), ('멍꼬찡', 3), ('접힌건', 3), ('설변', 3), ('꼬리별', 3), ('병중', 4), ('러시안블루', 5), ('지렁이', 3), ('오마이', 3), ('웹툰', 5), ('우파루파', 6), ('고다', 3), ('외피', 5), ('중원', 4), ('흐믈흐믈', 4), ('이체', 7), ('차값', 5), ('드네영', 3), ('떠나가다', 6), ('스판재질', 3), ('송품', 4), ('탁치', 3), ('수국', 3), ('동구', 8), ('음가', 3), ('개월년', 3), ('계부', 3), ('포멧', 4), ('시사', 6), ('다육', 5), ('섬머', 3), ('린아', 3), ('피크', 3), ('츄러블', 4), ('거무스름', 3), ('가선', 8), ('긁힌곳', 3), ('시덕', 3), ('기쓰네', 3), ('승용', 3), ('킬링타임', 3), ('암거', 4), ('끼익끼익', 3), ('띵템', 3), ('면상', 3), ('헛점', 3), ('핸드솝', 5), ('자양', 4), ('해태', 5), ('브랜든', 10), ('끝선', 3), ('진공관', 3), ('담뿍', 3), ('머큐리', 9), ('앖네', 6), ('수작', 3), ('덜끼', 4), ('덴트', 5), ('조앙', 3), ('ㅏㄱ', 3), ('자위', 3), ('한림', 4), ('화학반응', 3), ('시세이도', 6), ('도민', 4), ('대대로', 4), ('꼬롬', 4), ('드간', 3), ('방영', 8), ('입습', 3), ('호두과자', 4), ('인영', 5), ('잘떄', 4), ('무후', 5), ('졋습', 3), ('길애', 3), ('혼신', 3), ('남뽄', 3), ('부항', 4), ('장영', 4), ('착륙', 5), ('외도', 5), ('암사', 3), ('반시', 3), ('이편', 6), ('무르지않', 5), ('캠버스', 3), ('종양', 5), ('좋은느', 8), ('혼밥남', 3), ('콧속', 4), ('정밀검사', 3), ('포케', 3), ('용핫팩', 3), ('송해', 3), ('사십분', 3), ('펄쩍', 3), ('다랑어', 4), ('미니게임', 4), ('세시', 3), ('밥때', 3), ('개존맛', 3), ('중전', 4), ('향냄새', 3), ('사향', 4), ('빻으', 4), ('휠앤', 3), ('크롭', 3), ('어처구니없다', 3), ('젛네', 3), ('에멀젼', 4), ('일원', 6), ('주치의', 4), ('띠었다', 4), ('잔인하다', 5), ('신지도', 3), ('층숯', 3), ('주의자', 3), ('복병', 3), ('등장인물', 5), ('본부', 3), ('샌디', 7), ('유리나', 6), ('눌러쥬세', 3), ('상토', 3), ('펄라이트', 5), ('배수성', 3), ('잼민', 3), ('폭닥폭닥하', 3), ('폭닥', 4), ('뿌러짐', 3), ('냉털', 3), ('휠세척', 3), ('헤어디자이너', 3), ('분식', 3), ('부공', 5), ('탁탁거리다', 3), ('다애', 3), ('용간', 3), ('펜슬수납', 3), ('봄비', 4), ('쌩쑈', 3), ('쵝오네', 4), ('옹골', 3), ('투약', 3), ('도스', 4), ('스텐이', 3), ('서원', 4), ('요렇습니', 3), ('문중', 6), ('엽록소', 3), ('뱅뱅', 4), ('약오르다', 3), ('실적', 3), ('로얄젤리', 9), ('괜츈해', 4), ('메디덴탈', 13), ('민물장어', 4), ('달착지근하다', 4), ('긍대', 3), ('무색무취', 3), ('꽃꽂이', 4), ('ㅎㄷㄷㄷ', 3), ('쥬서기', 4), ('플레이어', 5), ('섭스여과재', 4), ('왕타', 3), ('사쿠라', 5), ('타령', 3), ('다이옥신', 3), ('레이드', 8), ('사중', 3), ('헛수고', 3), ('륜형', 3), ('보드게임', 4), ('에스테', 4), ('김칫국', 7), ('토피', 8), ('정원사', 3), ('뒤뜰', 3), ('확답', 3), ('곽도', 3), ('극혐해', 5), ('묘르신들', 3), ('환타', 3), ('수순', 3), ('스타벅', 3), ('히알루로산', 3), ('짭쪼름해', 6), ('자양강장제', 4), ('서수', 3), ('영시', 3), ('도물', 3), ('누런데', 3), ('뽀작뽀작', 3), ('오오오오오오', 3), ('허접스럽다', 3), ('얄상해', 3), ('폐달', 4), ('착츱', 4), ('장국', 3), ('대시', 4), ('발렌타인', 3), ('엠플', 12), ('꾸밈', 6), ('람사', 3), ('베파향', 4), ('한눔', 9), ('체우', 3), ('눈위', 3), ('엠보원단', 5), ('엠블렘', 3), ('평집', 3), ('설기', 5), ('잔챙이', 3), ('패기', 4), ('산물', 7), ('엉킨', 3), ('성재', 4), ('빨랫줄', 4), ('췌장염', 5), ('이담', 4), ('큰걸루', 3), ('에쏘', 3), ('터졋', 3), ('차창', 3), ('무중력', 6), ('컵홀더쪽', 3), ('빼빼로데이', 3), ('양송이', 3), ('희귀', 3), ('면장', 3), ('자기애', 3), ('은실', 3), ('마키', 4), ('비처럼', 4), ('네이블', 10), ('한병도', 3), ('폭넓다', 7), ('허시', 3), ('이납', 4), ('불철', 3), ('암호', 5), ('깃감', 3), ('금위', 3), ('짤랑', 3), ('저을때', 3), ('올비', 4), ('틴모', 7), ('나스', 4), ('디케이', 3), ('얋아', 3), ('아만', 4), ('비틀', 5), ('크릴', 6), ('누럼', 3), ('라리', 5), ('정육면체', 6), ('티켓', 4), ('레이크', 7), ('초적', 3), ('부착물', 4), ('무과', 3), ('단당류', 3), ('더블유', 4), ('휘그', 5), ('시베리아', 3), ('주짓수', 5), ('도복', 4), ('르르르', 3), ('락토필듀오', 3), ('구처', 3), ('샤니', 6), ('제정', 3), ('핑크리본', 3), ('프랑코', 3), ('통방', 5), ('생선회', 5), ('닭봉', 3), ('살임', 4), ('인터폰', 3), ('이즙', 3), ('연구실', 4), ('석도', 9), ('부동', 5), ('음푹', 3), ('손사래', 3), ('햇으', 4), ('잿빛', 5), ('첫걸음', 5), ('침샘', 4), ('툴툴', 4), ('총가', 6), ('꺼슬거려', 3), ('구장', 4), ('드링크', 10), ('레스톨', 3), ('문라이트', 3), ('포메라니언', 3), ('사별', 3), ('빈집', 3), ('쪈내없', 3), ('꼭물', 3), ('술맛', 4), ('다이아', 4), ('벌칙', 3), ('인씨', 5), ('버베나', 9), ('라틴', 5), ('넛향', 3), ('오그라들다', 4), ('캘리', 3), ('혼입', 3), ('외제', 4), ('생쥐', 3), ('취할때', 3), ('에전', 4), ('카프릴산', 4), ('띠링', 5), ('엇그제', 3), ('관절통', 6), ('마코', 3), ('움찔움찔', 4), ('시카고', 3), ('빌락', 3), ('때죽나무', 5), ('유령', 3), ('괜츈하', 3), ('게스트', 3), ('단짝', 6), ('앞번', 3), ('휴지배딩', 4), ('마렵', 3), ('폴딩매트', 4), ('자각', 3), ('ㅓㅓㅓ', 3), ('꼬르륵', 6), ('누유', 3), ('사사', 4), ('펑핑기', 3), ('건선', 9), ('브레스', 11), ('관제탑', 4), ('종균', 3), ('보글', 4), ('수사', 4), ('개리', 3), ('편도결석', 3), ('아이섀도우', 3), ('충해', 3), ('엔씨', 3), ('핫딜가', 4), ('기우뚱기우뚱', 4), ('라뗴', 7), ('무표정', 3), ('방사선', 3), ('장인어른', 3), ('수영인', 3), ('장작', 3), ('따라잡다', 6), ('쫀득한', 3), ('내후년', 3), ('데롱데롱', 3), ('양전자', 4), ('데인', 3), ('요크셔', 4), ('얌얌', 4), ('버닝', 4), ('유플러스', 6), ('촉촉실', 4), ('ㄷㄹ', 3), ('ㄹㅂ', 3), ('쥐라', 5), ('고동색', 3), ('히든카드', 3), ('팰트', 3), ('장운', 5), ('쯔음', 10), ('똘랑이', 3), ('테블', 3), ('ㅎㅇㅌ', 3), ('피스톤', 5), ('걸죽함', 3), ('실론', 3), ('이월', 3), ('ㅜㄴ', 3), ('선후', 3), ('예랑', 5), ('독사', 3), ('특상품', 3), ('인정이', 3), ('메로', 5), ('샷건', 4), ('상고', 3), ('떳다', 3), ('롱핀', 3), ('오늘날', 3), ('다락', 3), ('천혜향', 4), ('로젠택배', 4), ('한안', 4), ('헹궈낼', 3), ('슬었', 3), ('루메나', 6), ('어패류', 3), ('선데', 3), ('더폴', 3), ('로크', 3), ('빵틀', 6), ('단순화', 3), ('아이언', 3), ('홍게', 3), ('오므라이스', 3), ('스퀴져', 3), ('가지치기', 3), ('샤브냄비', 4), ('디먼', 3), ('꿋꿋하다', 4), ('봉시', 5), ('컨센트', 4), ('뽀빠이', 3), ('껄끄러워', 4), ('공군', 4), ('에키', 4), ('서글프다', 3), ('껑충', 6), ('쐐기풀', 3), ('피마자', 4), ('안티옥', 3), ('던트', 3), ('임부', 4), ('마려운', 3), ('디콕션', 4), ('팅처', 3), ('안번', 3), ('셀링', 3), ('날거', 3), ('북극', 3), ('콘도', 3), ('릿카', 3), ('스텐판', 3), ('사이버', 3), ('보쌈', 4), ('예쁜핏', 4), ('꼬랑내', 5), ('톤업핏', 3), ('기마', 4), ('락엔락', 3), ('했더랬', 6), ('배당', 4), ('ㄷㅌ', 3), ('지구력', 6), ('하남', 4), ('체식', 3), ('창해', 3), ('메롱이', 6), ('양파망', 3), ('왓음', 3), ('도축', 3), ('백중', 3), ('하소', 3), ('기름쩐내', 3), ('실핏줄', 3), ('더보', 3), ('흥얼거리다', 4), ('이스라엘', 3), ('버팔로윙', 5), ('올리브색', 3), ('족부', 3), ('조공', 10), ('마학', 5), ('삼사', 3), ('식탁보', 4), ('안개꽃', 3), ('미니건', 3), ('효소클렌저', 4), ('치익', 4), ('글루타치온', 4), ('임펠', 3), ('준서', 5), ('버셜', 3), ('실실', 3), ('송악', 4), ('끼릭끼릭', 3), ('컬루어', 3), ('세밀화', 3), ('떫어', 5), ('ㅋㅋㅋㅋㅋㅋㅋㅋㅋㅋㅋㅋㅋㅋㅋㅋㅋㅋㅋㅋ', 3), ('회생', 6), ('빳빳한데', 3), ('쏘옥드네', 3), ('둿다', 3), ('자유형', 6), ('양파링', 3), ('마끼아또', 3), ('ㅍㅅ', 3), ('윈스', 3), ('마이카', 4), ('스칸', 7), ('베르덴', 3), ('피틴산', 3), ('이륙', 3), ('박제', 3), ('오이나', 4), ('토분', 5), ('디도', 3), ('캣맘캣', 5), ('좌탁', 3), ('독소제거', 3), ('한진', 3), ('블라인더', 5), ('선보이다', 3), ('군도', 5), ('부채꼴', 3), ('도파민', 3), ('유업', 3), ('젤클렌저', 3), ('임명', 3), ('접속기', 3), ('오밀조밀하다', 5), ('에델첸', 3), ('우둔', 4), ('원후', 4), ('바디버', 3), ('보쉬', 5), ('벽간', 3), ('체면', 4), ('연세대학교', 3), ('뒹굴러', 3), ('돌렷', 3), ('애완', 5), ('컵값', 3), ('허사', 3), ('여밈', 3), ('코걸이', 5), ('로지우', 3), ('토핑용', 3), ('뭉덩이', 4), ('펑크', 3), ('맷돌', 4), ('강직', 3), ('채비', 3), ('건장', 5), ('산악', 3), ('같아욯', 3), ('미닫이', 4), ('맴도', 3), ('ㅁㅅ', 3), ('폽업', 3), ('더블액션', 4), ('쓰레깁니', 3), ('쭈르륵', 3), ('빠듯하', 4), ('빠듯', 3), ('원만', 4), ('뺑뺑', 3), ('발명', 4), ('되셧', 3), ('세인트루이스', 3), ('네슬레', 3), ('머선일', 3), ('분구', 5), ('차곡', 11), ('기호식품', 4), ('스텡', 6), ('괘안을듯', 3), ('판서', 6), ('도딱', 3), ('힙색', 3), ('글리코', 3), ('쪼금씩', 6), ('불선', 6), ('아크릴산', 3), ('따닥', 4), ('페북', 3), ('아리까리하다', 3), ('아리땁다', 4), ('플렉서블', 3), ('마운틴', 5), ('합포', 4), ('광고지', 3), ('울룩불룩', 3), ('회캐슐', 6), ('발효종', 3), ('밥줄때', 4), ('불원', 3), ('일조', 4), ('줘봣는데', 3), ('ㅋㅋㅋㅋㅋㅋㅋㅋㅋㅋㅋㅋㅋㅋㅋㅋㅋㅋㅋ', 3), ('디쉬캔', 4), ('렉타', 3), ('물펜', 3), ('열병', 3), ('좀금', 3), ('성미', 3), ('티토', 3), ('사법', 5), ('징역', 3), ('초산', 4), ('낱글자', 3), ('맜있', 3), ('알맹', 3), ('주드', 4), ('삼지', 3), ('장말', 4), ('무인양품', 4), ('결혼식장', 4), ('요양원', 4), ('쫀드기', 4), ('콘선트', 3), ('멈머', 3), ('유채', 7), ('개딸램', 3), ('프랜차이즈', 3), ('팬피', 5), ('정개', 4), ('매실장아찌', 3), ('덴탈스낵', 3), ('펄땡', 4), ('ㅌㅇㄴ', 3), ('개윌', 4), ('녜용', 3), ('켄트', 4), ('원격', 3), ('관광지', 3), ('엠비언트', 7), ('페사', 3), ('스텐용기', 3), ('까르', 4), ('웰딩', 3), ('수마', 3), ('현황', 3), ('랩탑', 4), ('잔뼈', 5), ('쑈트', 3), ('웰리유', 4), ('오예', 5), ('거조', 4), ('했쥬', 5), ('산산', 4), ('디옥', 6), ('콜레칼', 6), ('페롤', 6), ('개옴', 3), ('페로몬', 3), ('새걸루', 3), ('환급', 6), ('꾸욱누르', 3), ('재연', 3), ('캐스팅', 5), ('드세다', 4), ('만노스', 3), ('공자', 3), ('바두기', 3), ('이다비니', 3), ('여수', 3), ('뱀부', 3), ('악용', 3), ('도마질', 3), ('레아', 3), ('물휴지', 3), ('무르기', 3), ('북극곰', 3), ('친지', 3), ('베낭', 5), ('쇼케이스', 3), ('가스나', 3), ('발굽', 3), ('관제', 4), ('구스켓', 3), ('시추', 3), ('쓱삭', 3), ('본캐', 3), ('ㅇㅌㅌㄷ', 4), ('입학식', 4), ('솔더', 3), ('위조품', 3), ('냉각제', 3), ('장모종', 3), ('화증', 3), ('즈희', 3), ('쭈쭈', 5), ('왼발', 3), ('맛별', 3), ('토깽', 5), ('등수', 3), ('멘보샤', 5), ('추켜', 3), ('벌렁벌렁', 3), ('불루', 3), ('매시간', 3), ('용겸', 3), ('산뒤', 3), ('ㅅㅅㅎㅁ', 4), ('ㅇㅇㅇㅇㅇ', 5), ('오슬로', 3), ('들레다', 3), ('로열젤리', 4), ('이습', 3), ('어글리슈즈', 4), ('소프라노', 3), ('백설기', 3), ('피일', 3), ('선염', 3), ('친부', 3), ('방위', 3), ('집업', 4), ('라뽐므노르빅토퍼', 3), ('솝향', 4), ('전단', 3), ('중고제', 3), ('이경', 3), ('제품안전', 3), ('도끼', 4), ('원펀', 3), ('쁘쥬', 3), ('달바글', 3), ('핏펫', 3), ('십원', 3), ('처박템', 3), ('거통', 3), ('원금', 7), ('커프', 3), ('붕괴', 4), ('하프', 3), ('부엌칼', 6), ('여친몬', 4), ('구쩜', 3), ('디즈니랜드', 3), ('바둥거리', 3), ('겹살', 3), ('팽창해', 3), ('잉여', 3), ('디펜스', 3), ('히어로즈', 4), ('쓰레받기', 4), ('황보', 3), ('찎찎', 3), ('뭉실이', 4), ('모진', 3), ('황지', 3), ('꼼부차', 3), ('단쉐', 4), ('웩웩', 3), ('더존', 4), ('남표늬', 3), ('빵굽', 3), ('슬러쉬', 4), ('돌풍', 3), ('운필', 3), ('이천삼백육십삼원', 3), ('삐용', 3), ('퍼기', 3), ('사후세계', 3), ('똘랑', 3), ('봉와직염', 3), ('삐뽀책', 3), ('올가을', 3), ('마마스앤파파스', 3), ('에스콰이아', 3), ('은교', 3), ('서혜부', 3), ('인쇄기', 3), ('선셰', 4), ('파나소닉', 3), ('밤꽃', 3), ('쫀득쪽득', 3), ('결루', 4), ('막국수', 4), ('발랏을때', 4)])"
      ]
     },
     "execution_count": 573,
     "metadata": {},
     "output_type": "execute_result"
    }
   ],
   "source": [
    "tokenizer.word_counts.items()"
   ]
  },
  {
   "cell_type": "code",
   "execution_count": 574,
   "id": "8b00255f",
   "metadata": {
    "id": "8b00255f"
   },
   "outputs": [],
   "source": [
    "X_train = tokenizer.texts_to_sequences(X_train)\n",
    "X_test = tokenizer.texts_to_sequences(X_test)"
   ]
  },
  {
   "cell_type": "code",
   "execution_count": 575,
   "id": "fde1dc1c",
   "metadata": {
    "id": "fde1dc1c"
   },
   "outputs": [],
   "source": [
    "# label 데이터 생성\n",
    "y_train = np.array(train_data['별점'])\n",
    "y_test = np.array(test_data['별점'])"
   ]
  },
  {
   "cell_type": "code",
   "execution_count": 576,
   "id": "587c0092",
   "metadata": {
    "id": "587c0092",
    "outputId": "1b2b905c-c17f-4fba-ae5b-3653a9e4d1a1"
   },
   "outputs": [
    {
     "name": "stdout",
     "output_type": "stream",
     "text": [
      "94927\n",
      "94927\n"
     ]
    }
   ],
   "source": [
    "print(len(X_train))\n",
    "print(len(y_train))"
   ]
  },
  {
   "cell_type": "code",
   "execution_count": 577,
   "id": "209987f0",
   "metadata": {
    "id": "209987f0",
    "outputId": "9287da35-1725-4314-c284-14c32897c164"
   },
   "outputs": [
    {
     "name": "stdout",
     "output_type": "stream",
     "text": [
      "[[3, 34, 87, 3683, 2, 3, 42, 1770, 1340, 19, 70, 168, 1, 778], [736, 264, 344, 1, 325, 8, 121, 65, 504, 18, 118, 340, 59, 1331, 142, 736, 344, 1, 415, 2], [1082, 273, 66, 1766, 13, 4052, 2074, 2791, 830, 501, 157, 1559, 21, 16401, 11, 1195, 1727, 1674, 42, 1195, 1727, 2485, 11, 255, 4052, 830, 157, 7, 20, 2, 4487, 472, 1, 1220, 144, 365, 57, 157, 24, 34, 3, 21, 513, 280, 9, 2, 4052, 242, 1262, 74, 93, 11, 1, 13, 30, 13, 27, 2074, 2791, 830, 4487, 32, 472, 4, 1082, 273, 1163, 8, 453, 9, 4, 155, 206, 89, 2092, 3294, 32, 921, 221, 4052, 18, 81, 2791, 830, 100, 66, 2791, 830, 1412, 558, 588, 922, 2949, 3145, 4583, 344, 6970, 2471, 262, 3, 2791, 830, 8, 207, 499, 12, 1210, 5, 2549, 11, 1, 9, 1, 13, 1525, 21, 2054, 116, 721, 70, 42, 1413, 889, 1, 1262, 1394, 34, 758, 44, 1369, 11, 889, 1, 50, 6, 50, 83, 1590, 113, 54, 1061, 241, 10, 287, 1598, 1, 262, 301, 277, 219, 8, 4, 9934, 2833]]\n"
     ]
    }
   ],
   "source": [
    "print(X_train[:3])"
   ]
  },
  {
   "cell_type": "markdown",
   "id": "7675229c",
   "metadata": {
    "id": "7675229c"
   },
   "source": [
    "- 빈도수가 2 이하인 단어는 사전에서 제외했으므로\n",
    "    - 빈도수 2 이하로만 이루어진 리뷰 문장은 sentence가 비게됨"
   ]
  },
  {
   "cell_type": "code",
   "execution_count": 578,
   "id": "e677cfe2",
   "metadata": {
    "id": "e677cfe2",
    "outputId": "36e0b762-ff2f-4afb-d796-1c4ab1736778"
   },
   "outputs": [
    {
     "data": {
      "text/plain": [
       "105"
      ]
     },
     "execution_count": 578,
     "metadata": {},
     "output_type": "execute_result"
    }
   ],
   "source": [
    "drop_train = []\n",
    "for index, sentence in enumerate(X_train):\n",
    "    if len(sentence) < 1:\n",
    "        drop_train.append(index)\n",
    "\n",
    "drop_train\n",
    "len(drop_train)"
   ]
  },
  {
   "cell_type": "code",
   "execution_count": 579,
   "id": "6112da34",
   "metadata": {
    "id": "6112da34",
    "outputId": "4572158f-5b9d-47bb-992e-7ff3ee67be73"
   },
   "outputs": [
    {
     "data": {
      "text/plain": [
       "29"
      ]
     },
     "execution_count": 579,
     "metadata": {},
     "output_type": "execute_result"
    }
   ],
   "source": [
    "drop_test = []\n",
    "for index, sentence in enumerate(X_test):\n",
    "    if len(sentence) < 1:\n",
    "        drop_test.append(index)\n",
    "\n",
    "drop_test\n",
    "len(drop_test)"
   ]
  },
  {
   "cell_type": "code",
   "execution_count": 580,
   "id": "c8fa4a71",
   "metadata": {
    "id": "c8fa4a71",
    "outputId": "825ff3d3-f74c-47e0-e702-1ebb3509b85e"
   },
   "outputs": [
    {
     "name": "stdout",
     "output_type": "stream",
     "text": [
      "[262, 763, 2263, 2676, 3812, 4966, 5348, 5736, 7241, 7769, 8049, 8938, 12733, 12759, 13284, 13338, 16869, 17430, 17473, 17998, 20252, 21958, 23786, 24713, 25394, 25565, 26519, 29495, 30037, 30139, 30742, 31530, 32916, 34088, 35771, 36275, 37188, 38176, 38423, 38892, 39756, 40477, 40758, 41975, 42393, 43135, 43294, 44588, 47045, 48104, 49051, 51165, 51559, 52881, 53668, 53768, 54684, 55009, 55454, 55500, 56107, 56314, 57463, 58596, 58650, 59098, 60243, 61519, 62555, 63613, 64436, 64576, 64974, 66422, 66790, 68323, 69476, 72312, 72760, 74084, 74323, 74805, 76074, 77697, 77711, 78022, 78512, 78637, 78697, 79395, 79678, 79767, 80640, 82341, 82886, 83221, 83658, 84914, 85252, 85338, 87459, 89694, 90008, 92133, 94197]\n"
     ]
    }
   ],
   "source": [
    "# 리뷰 단어가 하나도 없어 제거될 리뷰 index\n",
    "print(drop_train)"
   ]
  },
  {
   "cell_type": "code",
   "execution_count": 581,
   "id": "20c55267",
   "metadata": {
    "id": "20c55267",
    "outputId": "8f662e89-2ad6-4296-9038-976370b1b2e4"
   },
   "outputs": [
    {
     "data": {
      "text/plain": [
       "105"
      ]
     },
     "execution_count": 581,
     "metadata": {},
     "output_type": "execute_result"
    }
   ],
   "source": [
    "len(drop_train)"
   ]
  },
  {
   "cell_type": "code",
   "execution_count": 582,
   "id": "86a16061",
   "metadata": {
    "id": "86a16061"
   },
   "outputs": [],
   "source": [
    "# 해당 index 제거\n",
    "X_train = np.delete(np.array(X_train, dtype=object), drop_train, axis=0).tolist()\n",
    "y_train = np.delete(y_train, drop_train, axis=0)"
   ]
  },
  {
   "cell_type": "code",
   "execution_count": 583,
   "id": "ccf6604e",
   "metadata": {
    "id": "ccf6604e",
    "outputId": "e290e430-d8a5-4bba-ba2b-e36457052d01"
   },
   "outputs": [
    {
     "name": "stdout",
     "output_type": "stream",
     "text": [
      "94822\n",
      "94822\n",
      "25902\n",
      "25902\n"
     ]
    }
   ],
   "source": [
    "print(len(X_train))\n",
    "print(len(y_train))\n",
    "print(len(X_test))\n",
    "print(len(y_test))"
   ]
  },
  {
   "cell_type": "markdown",
   "id": "fa57b84c",
   "metadata": {
    "id": "fa57b84c"
   },
   "source": [
    "### 패딩 수를 결정하기 위해\n",
    "- 학습데이터 길이 확인"
   ]
  },
  {
   "cell_type": "code",
   "execution_count": 584,
   "id": "ef7d46b9",
   "metadata": {
    "id": "ef7d46b9",
    "outputId": "fba9ad9b-e4c6-4095-ecb0-59a2674e7f3c"
   },
   "outputs": [
    {
     "name": "stdout",
     "output_type": "stream",
     "text": [
      "리뷰의 최대 길이 : 979\n",
      "리뷰의 평균 길이 : 58.30792432136002\n"
     ]
    },
    {
     "data": {
      "image/png": "[encoded data removed]",
      "text/plain": [
       "<Figure size 640x480 with 1 Axes>"
      ]
     },
     "metadata": {},
     "output_type": "display_data"
    }
   ],
   "source": [
    "print('리뷰의 최대 길이 :',max(len(l) for l in X_train))\n",
    "print('리뷰의 평균 길이 :',sum(map(len, X_train))/len(X_train))\n",
    "plt.hist([len(s) for s in X_train], bins=50)\n",
    "plt.xlabel('length of samples')\n",
    "plt.ylabel('number of samples')\n",
    "plt.show()"
   ]
  },
  {
   "cell_type": "markdown",
   "id": "8fa72318",
   "metadata": {
    "id": "8fa72318"
   },
   "source": [
    "### 샘플의 길이차이가 많으므로 샘플 길이를 150으로 맞춤 //임의\n",
    "- 샘플길이가 일정 수 이하인 비율 계산하는 함수 작성 후 확인하고 진행"
   ]
  },
  {
   "cell_type": "code",
   "execution_count": 585,
   "id": "5e41d67b",
   "metadata": {
    "id": "5e41d67b"
   },
   "outputs": [],
   "source": [
    "# 샘플길이가 파라미터 max_len 이하인 샘플 비율 확인 함수\n",
    "def below_threshold_len(max_len, nested_list):\n",
    "    cnt = 0\n",
    "    for s in nested_list:\n",
    "        if(len(s) <= max_len):\n",
    "            cnt = cnt + 1\n",
    "    print('전체 샘플 중 길이가 %s 이하인 샘플의 비율: %s'%(max_len, (cnt / len(nested_list))*100))"
   ]
  },
  {
   "cell_type": "code",
   "execution_count": 586,
   "id": "1d5e7a88",
   "metadata": {
    "id": "1d5e7a88",
    "outputId": "be5bfd90-983a-4f1f-8177-0f83c1ab3c7f"
   },
   "outputs": [
    {
     "name": "stdout",
     "output_type": "stream",
     "text": [
      "전체 샘플 중 길이가 300 이하인 샘플의 비율: 98.76716373837296\n"
     ]
    }
   ],
   "source": [
    "max_len = 300\n",
    "below_threshold_len(max_len, X_train)"
   ]
  },
  {
   "cell_type": "code",
   "execution_count": 587,
   "id": "ee46f778",
   "metadata": {
    "id": "ee46f778"
   },
   "outputs": [],
   "source": [
    "# 전체 데이터의 길이는 130으로 맞춘다. 패딩 진행\n",
    "X_train = pad_sequences(X_train, maxlen=max_len)\n",
    "X_test = pad_sequences(X_test, maxlen=max_len)"
   ]
  },
  {
   "cell_type": "markdown",
   "id": "c8b868d8",
   "metadata": {
    "id": "c8b868d8"
   },
   "source": [
    "### 학습 데이터 전처리 완성"
   ]
  },
  {
   "cell_type": "markdown",
   "id": "9a6379bd",
   "metadata": {
    "id": "9a6379bd"
   },
   "source": [
    "## 2. 딥러닝 모델 학습, 예측"
   ]
  },
  {
   "cell_type": "code",
   "execution_count": 588,
   "id": "2560cda1",
   "metadata": {
    "id": "2560cda1"
   },
   "outputs": [],
   "source": [
    "from tensorflow.keras.layers import Dense, Embedding, LSTM, Conv1D, MaxPooling1D, Dropout, Bidirectional, SimpleRNN, GlobalAveragePooling1D\n",
    "from tensorflow.keras.models import Sequential\n",
    "from tensorflow.keras.models import load_model\n",
    "from tensorflow.keras.callbacks import EarlyStopping, ModelCheckpoint"
   ]
  },
  {
   "cell_type": "code",
   "execution_count": 589,
   "id": "85b79f61",
   "metadata": {
    "id": "85b79f61"
   },
   "outputs": [],
   "source": [
    "\n",
    "es = EarlyStopping(monitor='val_loss', mode='min', verbose=1, patience=4)\n",
    "#mc = ModelCheckpoint('./model/best_model.h5', monitor='val_acc', mode='max', verbose=1, save_best_only=True)"
   ]
  },
  {
   "cell_type": "code",
   "execution_count": 590,
   "id": "0dbffcfd",
   "metadata": {
    "id": "0dbffcfd"
   },
   "outputs": [],
   "source": [
    "embedding_dim = 100 # 1개 단어에 대한 밀집벡터 사이즈\n",
    "hidden_units = 100 # LSTM의 뉴런 수"
   ]
  },
  {
   "cell_type": "code",
   "execution_count": 604,
   "id": "bdb021c8-b12c-4182-be3f-e3f1d729ff31",
   "metadata": {},
   "outputs": [],
   "source": [
    "partial_x_train, X_val, partial_y_train, y_val = train_test_split(X_train, y_train, test_size=0.25, random_state=42)"
   ]
  },
  {
   "cell_type": "markdown",
   "id": "2b348ac5-da29-40f8-982d-215287bb37f6",
   "metadata": {},
   "source": [
    "## CNN"
   ]
  },
  {
   "cell_type": "code",
   "execution_count": 618,
   "id": "bf06298c",
   "metadata": {
    "id": "bf06298c"
   },
   "outputs": [],
   "source": [
    "model_cnn = Sequential()\n",
    "model_cnn.add(Embedding(vocab_size, 256))\n",
    "model_cnn.add(Conv1D(256, 3, activation='relu'))\n",
    "model_cnn.add(MaxPooling1D(2))\n",
    "model_cnn.add(Conv1D(256, 5, activation='relu'))\n",
    "model_cnn.add(MaxPooling1D(2))\n",
    "model_cnn.add(Conv1D(256, 7, activation='relu'))\n",
    "model_cnn.add(MaxPooling1D(2))\n",
    "model_cnn.add(GlobalMaxPooling1D())\n",
    "model_cnn.add(layers.Dense(256, activation='relu'))\n",
    "model_cnn.add(layers.Dropout(0.5))\n",
    "model_cnn.add(layers.BatchNormalization())\n",
    "model_cnn.add(layers.Dense(3, activation='softmax'))\n"
   ]
  },
  {
   "cell_type": "code",
   "execution_count": 619,
   "id": "fd802ad2",
   "metadata": {
    "id": "fd802ad2"
   },
   "outputs": [
    {
     "name": "stdout",
     "output_type": "stream",
     "text": [
      "Model: \"sequential_71\"\n",
      "_________________________________________________________________\n",
      " Layer (type)                Output Shape              Param #   \n",
      "=================================================================\n",
      " embedding_71 (Embedding)    (None, None, 256)         6215168   \n",
      "                                                                 \n",
      " conv1d_53 (Conv1D)          (None, None, 256)         196864    \n",
      "                                                                 \n",
      " max_pooling1d_52 (MaxPooli  (None, None, 256)         0         \n",
      " ng1D)                                                           \n",
      "                                                                 \n",
      " conv1d_54 (Conv1D)          (None, None, 256)         327936    \n",
      "                                                                 \n",
      " max_pooling1d_53 (MaxPooli  (None, None, 256)         0         \n",
      " ng1D)                                                           \n",
      "                                                                 \n",
      " conv1d_55 (Conv1D)          (None, None, 256)         459008    \n",
      "                                                                 \n",
      " max_pooling1d_54 (MaxPooli  (None, None, 256)         0         \n",
      " ng1D)                                                           \n",
      "                                                                 \n",
      " global_max_pooling1d_15 (G  (None, 256)               0         \n",
      " lobalMaxPooling1D)                                              \n",
      "                                                                 \n",
      " dense_91 (Dense)            (None, 256)               65792     \n",
      "                                                                 \n",
      " dropout_59 (Dropout)        (None, 256)               0         \n",
      "                                                                 \n",
      " batch_normalization_19 (Ba  (None, 256)               1024      \n",
      " tchNormalization)                                               \n",
      "                                                                 \n",
      " dense_92 (Dense)            (None, 3)                 771       \n",
      "                                                                 \n",
      "=================================================================\n",
      "Total params: 7266563 (27.72 MB)\n",
      "Trainable params: 7266051 (27.72 MB)\n",
      "Non-trainable params: 512 (2.00 KB)\n",
      "_________________________________________________________________\n"
     ]
    }
   ],
   "source": [
    "model_cnn.compile(optimizer='adam', loss='sparse_categorical_crossentropy', metrics=['acc'])\n",
    "model_cnn.summary()"
   ]
  },
  {
   "cell_type": "code",
   "execution_count": 620,
   "id": "6472762a-6bbe-48c1-9b55-5a295817cd93",
   "metadata": {},
   "outputs": [
    {
     "name": "stdout",
     "output_type": "stream",
     "text": [
      "Epoch 1/40\n",
      "556/556 [==============================] - 1084s 2s/step - loss: 0.8121 - acc: 0.6237 - val_loss: 0.7154 - val_acc: 0.6757\n",
      "Epoch 2/40\n",
      "556/556 [==============================] - 1220s 2s/step - loss: 0.6556 - acc: 0.7115 - val_loss: 0.8323 - val_acc: 0.6512\n",
      "Epoch 3/40\n",
      "223/556 [===========>..................] - ETA: 12:21 - loss: 0.5112 - acc: 0.7870"
     ]
    },
    {
     "ename": "KeyboardInterrupt",
     "evalue": "",
     "output_type": "error",
     "traceback": [
      "\u001b[1;31m---------------------------------------------------------------------\u001b[0m",
      "\u001b[1;31mKeyboardInterrupt\u001b[0m                   Traceback (most recent call last)",
      "Cell \u001b[1;32mIn[620], line 1\u001b[0m\n\u001b[1;32m----> 1\u001b[0m history_cnn \u001b[38;5;241m=\u001b[39m \u001b[43mmodel_cnn\u001b[49m\u001b[38;5;241;43m.\u001b[39;49m\u001b[43mfit\u001b[49m\u001b[43m(\u001b[49m\u001b[43mpartial_x_train\u001b[49m\u001b[43m,\u001b[49m\u001b[43m \u001b[49m\u001b[43mpartial_y_train\u001b[49m\u001b[43m,\u001b[49m\u001b[43m \u001b[49m\u001b[43mepochs\u001b[49m\u001b[38;5;241;43m=\u001b[39;49m\u001b[38;5;241;43m40\u001b[39;49m\u001b[43m,\u001b[49m\u001b[43m \u001b[49m\u001b[43mbatch_size\u001b[49m\u001b[38;5;241;43m=\u001b[39;49m\u001b[38;5;241;43m128\u001b[39;49m\u001b[43m,\u001b[49m\u001b[43m \u001b[49m\u001b[43mcallbacks\u001b[49m\u001b[38;5;241;43m=\u001b[39;49m\u001b[43m[\u001b[49m\u001b[43mes\u001b[49m\u001b[43m]\u001b[49m\u001b[43m,\u001b[49m\u001b[43m \u001b[49m\u001b[43mvalidation_data\u001b[49m\u001b[38;5;241;43m=\u001b[39;49m\u001b[43m(\u001b[49m\u001b[43mX_val\u001b[49m\u001b[43m,\u001b[49m\u001b[43m \u001b[49m\u001b[43my_val\u001b[49m\u001b[43m)\u001b[49m\u001b[43m)\u001b[49m \u001b[38;5;66;03m# train에서 0.2정도 빼서 test로\u001b[39;00m\n",
      "File \u001b[1;32m~\\AppData\\Local\\Programs\\Python\\Python310\\lib\\site-packages\\keras\\src\\utils\\traceback_utils.py:65\u001b[0m, in \u001b[0;36mfilter_traceback.<locals>.error_handler\u001b[1;34m(*args, **kwargs)\u001b[0m\n\u001b[0;32m     63\u001b[0m filtered_tb \u001b[38;5;241m=\u001b[39m \u001b[38;5;28;01mNone\u001b[39;00m\n\u001b[0;32m     64\u001b[0m \u001b[38;5;28;01mtry\u001b[39;00m:\n\u001b[1;32m---> 65\u001b[0m     \u001b[38;5;28;01mreturn\u001b[39;00m fn(\u001b[38;5;241m*\u001b[39margs, \u001b[38;5;241m*\u001b[39m\u001b[38;5;241m*\u001b[39mkwargs)\n\u001b[0;32m     66\u001b[0m \u001b[38;5;28;01mexcept\u001b[39;00m \u001b[38;5;167;01mException\u001b[39;00m \u001b[38;5;28;01mas\u001b[39;00m e:\n\u001b[0;32m     67\u001b[0m     filtered_tb \u001b[38;5;241m=\u001b[39m _process_traceback_frames(e\u001b[38;5;241m.\u001b[39m__traceback__)\n",
      "File \u001b[1;32m~\\AppData\\Local\\Programs\\Python\\Python310\\lib\\site-packages\\keras\\src\\engine\\training.py:1783\u001b[0m, in \u001b[0;36mModel.fit\u001b[1;34m(self, x, y, batch_size, epochs, verbose, callbacks, validation_split, validation_data, shuffle, class_weight, sample_weight, initial_epoch, steps_per_epoch, validation_steps, validation_batch_size, validation_freq, max_queue_size, workers, use_multiprocessing)\u001b[0m\n\u001b[0;32m   1775\u001b[0m \u001b[38;5;28;01mwith\u001b[39;00m tf\u001b[38;5;241m.\u001b[39mprofiler\u001b[38;5;241m.\u001b[39mexperimental\u001b[38;5;241m.\u001b[39mTrace(\n\u001b[0;32m   1776\u001b[0m     \u001b[38;5;124m\"\u001b[39m\u001b[38;5;124mtrain\u001b[39m\u001b[38;5;124m\"\u001b[39m,\n\u001b[0;32m   1777\u001b[0m     epoch_num\u001b[38;5;241m=\u001b[39mepoch,\n\u001b[1;32m   (...)\u001b[0m\n\u001b[0;32m   1780\u001b[0m     _r\u001b[38;5;241m=\u001b[39m\u001b[38;5;241m1\u001b[39m,\n\u001b[0;32m   1781\u001b[0m ):\n\u001b[0;32m   1782\u001b[0m     callbacks\u001b[38;5;241m.\u001b[39mon_train_batch_begin(step)\n\u001b[1;32m-> 1783\u001b[0m     tmp_logs \u001b[38;5;241m=\u001b[39m \u001b[38;5;28;43mself\u001b[39;49m\u001b[38;5;241;43m.\u001b[39;49m\u001b[43mtrain_function\u001b[49m\u001b[43m(\u001b[49m\u001b[43miterator\u001b[49m\u001b[43m)\u001b[49m\n\u001b[0;32m   1784\u001b[0m     \u001b[38;5;28;01mif\u001b[39;00m data_handler\u001b[38;5;241m.\u001b[39mshould_sync:\n\u001b[0;32m   1785\u001b[0m         context\u001b[38;5;241m.\u001b[39masync_wait()\n",
      "File \u001b[1;32m~\\AppData\\Local\\Programs\\Python\\Python310\\lib\\site-packages\\tensorflow\\python\\util\\traceback_utils.py:150\u001b[0m, in \u001b[0;36mfilter_traceback.<locals>.error_handler\u001b[1;34m(*args, **kwargs)\u001b[0m\n\u001b[0;32m    148\u001b[0m filtered_tb \u001b[38;5;241m=\u001b[39m \u001b[38;5;28;01mNone\u001b[39;00m\n\u001b[0;32m    149\u001b[0m \u001b[38;5;28;01mtry\u001b[39;00m:\n\u001b[1;32m--> 150\u001b[0m   \u001b[38;5;28;01mreturn\u001b[39;00m fn(\u001b[38;5;241m*\u001b[39margs, \u001b[38;5;241m*\u001b[39m\u001b[38;5;241m*\u001b[39mkwargs)\n\u001b[0;32m    151\u001b[0m \u001b[38;5;28;01mexcept\u001b[39;00m \u001b[38;5;167;01mException\u001b[39;00m \u001b[38;5;28;01mas\u001b[39;00m e:\n\u001b[0;32m    152\u001b[0m   filtered_tb \u001b[38;5;241m=\u001b[39m _process_traceback_frames(e\u001b[38;5;241m.\u001b[39m__traceback__)\n",
      "File \u001b[1;32m~\\AppData\\Local\\Programs\\Python\\Python310\\lib\\site-packages\\tensorflow\\python\\eager\\polymorphic_function\\polymorphic_function.py:831\u001b[0m, in \u001b[0;36mFunction.__call__\u001b[1;34m(self, *args, **kwds)\u001b[0m\n\u001b[0;32m    828\u001b[0m compiler \u001b[38;5;241m=\u001b[39m \u001b[38;5;124m\"\u001b[39m\u001b[38;5;124mxla\u001b[39m\u001b[38;5;124m\"\u001b[39m \u001b[38;5;28;01mif\u001b[39;00m \u001b[38;5;28mself\u001b[39m\u001b[38;5;241m.\u001b[39m_jit_compile \u001b[38;5;28;01melse\u001b[39;00m \u001b[38;5;124m\"\u001b[39m\u001b[38;5;124mnonXla\u001b[39m\u001b[38;5;124m\"\u001b[39m\n\u001b[0;32m    830\u001b[0m \u001b[38;5;28;01mwith\u001b[39;00m OptionalXlaContext(\u001b[38;5;28mself\u001b[39m\u001b[38;5;241m.\u001b[39m_jit_compile):\n\u001b[1;32m--> 831\u001b[0m   result \u001b[38;5;241m=\u001b[39m \u001b[38;5;28mself\u001b[39m\u001b[38;5;241m.\u001b[39m_call(\u001b[38;5;241m*\u001b[39margs, \u001b[38;5;241m*\u001b[39m\u001b[38;5;241m*\u001b[39mkwds)\n\u001b[0;32m    833\u001b[0m new_tracing_count \u001b[38;5;241m=\u001b[39m \u001b[38;5;28mself\u001b[39m\u001b[38;5;241m.\u001b[39mexperimental_get_tracing_count()\n\u001b[0;32m    834\u001b[0m without_tracing \u001b[38;5;241m=\u001b[39m (tracing_count \u001b[38;5;241m==\u001b[39m new_tracing_count)\n",
      "File \u001b[1;32m~\\AppData\\Local\\Programs\\Python\\Python310\\lib\\site-packages\\tensorflow\\python\\eager\\polymorphic_function\\polymorphic_function.py:867\u001b[0m, in \u001b[0;36mFunction._call\u001b[1;34m(self, *args, **kwds)\u001b[0m\n\u001b[0;32m    864\u001b[0m   \u001b[38;5;28mself\u001b[39m\u001b[38;5;241m.\u001b[39m_lock\u001b[38;5;241m.\u001b[39mrelease()\n\u001b[0;32m    865\u001b[0m   \u001b[38;5;66;03m# In this case we have created variables on the first call, so we run the\u001b[39;00m\n\u001b[0;32m    866\u001b[0m   \u001b[38;5;66;03m# defunned version which is guaranteed to never create variables.\u001b[39;00m\n\u001b[1;32m--> 867\u001b[0m   \u001b[38;5;28;01mreturn\u001b[39;00m \u001b[43mtracing_compilation\u001b[49m\u001b[38;5;241;43m.\u001b[39;49m\u001b[43mcall_function\u001b[49m\u001b[43m(\u001b[49m\n\u001b[0;32m    868\u001b[0m \u001b[43m      \u001b[49m\u001b[43margs\u001b[49m\u001b[43m,\u001b[49m\u001b[43m \u001b[49m\u001b[43mkwds\u001b[49m\u001b[43m,\u001b[49m\u001b[43m \u001b[49m\u001b[38;5;28;43mself\u001b[39;49m\u001b[38;5;241;43m.\u001b[39;49m\u001b[43m_no_variable_creation_config\u001b[49m\n\u001b[0;32m    869\u001b[0m \u001b[43m  \u001b[49m\u001b[43m)\u001b[49m\n\u001b[0;32m    870\u001b[0m \u001b[38;5;28;01melif\u001b[39;00m \u001b[38;5;28mself\u001b[39m\u001b[38;5;241m.\u001b[39m_variable_creation_config \u001b[38;5;129;01mis\u001b[39;00m \u001b[38;5;129;01mnot\u001b[39;00m \u001b[38;5;28;01mNone\u001b[39;00m:\n\u001b[0;32m    871\u001b[0m   \u001b[38;5;66;03m# Release the lock early so that multiple threads can perform the call\u001b[39;00m\n\u001b[0;32m    872\u001b[0m   \u001b[38;5;66;03m# in parallel.\u001b[39;00m\n\u001b[0;32m    873\u001b[0m   \u001b[38;5;28mself\u001b[39m\u001b[38;5;241m.\u001b[39m_lock\u001b[38;5;241m.\u001b[39mrelease()\n",
      "File \u001b[1;32m~\\AppData\\Local\\Programs\\Python\\Python310\\lib\\site-packages\\tensorflow\\python\\eager\\polymorphic_function\\tracing_compilation.py:139\u001b[0m, in \u001b[0;36mcall_function\u001b[1;34m(args, kwargs, tracing_options)\u001b[0m\n\u001b[0;32m    137\u001b[0m bound_args \u001b[38;5;241m=\u001b[39m function\u001b[38;5;241m.\u001b[39mfunction_type\u001b[38;5;241m.\u001b[39mbind(\u001b[38;5;241m*\u001b[39margs, \u001b[38;5;241m*\u001b[39m\u001b[38;5;241m*\u001b[39mkwargs)\n\u001b[0;32m    138\u001b[0m flat_inputs \u001b[38;5;241m=\u001b[39m function\u001b[38;5;241m.\u001b[39mfunction_type\u001b[38;5;241m.\u001b[39munpack_inputs(bound_args)\n\u001b[1;32m--> 139\u001b[0m \u001b[38;5;28;01mreturn\u001b[39;00m \u001b[43mfunction\u001b[49m\u001b[38;5;241;43m.\u001b[39;49m\u001b[43m_call_flat\u001b[49m\u001b[43m(\u001b[49m\u001b[43m  \u001b[49m\u001b[38;5;66;43;03m# pylint: disable=protected-access\u001b[39;49;00m\n\u001b[0;32m    140\u001b[0m \u001b[43m    \u001b[49m\u001b[43mflat_inputs\u001b[49m\u001b[43m,\u001b[49m\u001b[43m \u001b[49m\u001b[43mcaptured_inputs\u001b[49m\u001b[38;5;241;43m=\u001b[39;49m\u001b[43mfunction\u001b[49m\u001b[38;5;241;43m.\u001b[39;49m\u001b[43mcaptured_inputs\u001b[49m\n\u001b[0;32m    141\u001b[0m \u001b[43m\u001b[49m\u001b[43m)\u001b[49m\n",
      "File \u001b[1;32m~\\AppData\\Local\\Programs\\Python\\Python310\\lib\\site-packages\\tensorflow\\python\\eager\\polymorphic_function\\concrete_function.py:1264\u001b[0m, in \u001b[0;36mConcreteFunction._call_flat\u001b[1;34m(self, tensor_inputs, captured_inputs)\u001b[0m\n\u001b[0;32m   1260\u001b[0m possible_gradient_type \u001b[38;5;241m=\u001b[39m gradients_util\u001b[38;5;241m.\u001b[39mPossibleTapeGradientTypes(args)\n\u001b[0;32m   1261\u001b[0m \u001b[38;5;28;01mif\u001b[39;00m (possible_gradient_type \u001b[38;5;241m==\u001b[39m gradients_util\u001b[38;5;241m.\u001b[39mPOSSIBLE_GRADIENT_TYPES_NONE\n\u001b[0;32m   1262\u001b[0m     \u001b[38;5;129;01mand\u001b[39;00m executing_eagerly):\n\u001b[0;32m   1263\u001b[0m   \u001b[38;5;66;03m# No tape is watching; skip to running the function.\u001b[39;00m\n\u001b[1;32m-> 1264\u001b[0m   \u001b[38;5;28;01mreturn\u001b[39;00m \u001b[38;5;28;43mself\u001b[39;49m\u001b[38;5;241;43m.\u001b[39;49m\u001b[43m_inference_function\u001b[49m\u001b[38;5;241;43m.\u001b[39;49m\u001b[43mflat_call\u001b[49m\u001b[43m(\u001b[49m\u001b[43margs\u001b[49m\u001b[43m)\u001b[49m\n\u001b[0;32m   1265\u001b[0m forward_backward \u001b[38;5;241m=\u001b[39m \u001b[38;5;28mself\u001b[39m\u001b[38;5;241m.\u001b[39m_select_forward_and_backward_functions(\n\u001b[0;32m   1266\u001b[0m     args,\n\u001b[0;32m   1267\u001b[0m     possible_gradient_type,\n\u001b[0;32m   1268\u001b[0m     executing_eagerly)\n\u001b[0;32m   1269\u001b[0m forward_function, args_with_tangents \u001b[38;5;241m=\u001b[39m forward_backward\u001b[38;5;241m.\u001b[39mforward()\n",
      "File \u001b[1;32m~\\AppData\\Local\\Programs\\Python\\Python310\\lib\\site-packages\\tensorflow\\python\\eager\\polymorphic_function\\atomic_function.py:217\u001b[0m, in \u001b[0;36mAtomicFunction.flat_call\u001b[1;34m(self, args)\u001b[0m\n\u001b[0;32m    215\u001b[0m \u001b[38;5;28;01mdef\u001b[39;00m \u001b[38;5;21mflat_call\u001b[39m(\u001b[38;5;28mself\u001b[39m, args: Sequence[core\u001b[38;5;241m.\u001b[39mTensor]) \u001b[38;5;241m-\u001b[39m\u001b[38;5;241m>\u001b[39m Any:\n\u001b[0;32m    216\u001b[0m \u001b[38;5;250m  \u001b[39m\u001b[38;5;124;03m\"\"\"Calls with tensor inputs and returns the structured output.\"\"\"\u001b[39;00m\n\u001b[1;32m--> 217\u001b[0m   flat_outputs \u001b[38;5;241m=\u001b[39m \u001b[38;5;28;43mself\u001b[39;49m\u001b[43m(\u001b[49m\u001b[38;5;241;43m*\u001b[39;49m\u001b[43margs\u001b[49m\u001b[43m)\u001b[49m\n\u001b[0;32m    218\u001b[0m   \u001b[38;5;28;01mreturn\u001b[39;00m \u001b[38;5;28mself\u001b[39m\u001b[38;5;241m.\u001b[39mfunction_type\u001b[38;5;241m.\u001b[39mpack_output(flat_outputs)\n",
      "File \u001b[1;32m~\\AppData\\Local\\Programs\\Python\\Python310\\lib\\site-packages\\tensorflow\\python\\eager\\polymorphic_function\\atomic_function.py:252\u001b[0m, in \u001b[0;36mAtomicFunction.__call__\u001b[1;34m(self, *args)\u001b[0m\n\u001b[0;32m    250\u001b[0m \u001b[38;5;28;01mwith\u001b[39;00m record\u001b[38;5;241m.\u001b[39mstop_recording():\n\u001b[0;32m    251\u001b[0m   \u001b[38;5;28;01mif\u001b[39;00m \u001b[38;5;28mself\u001b[39m\u001b[38;5;241m.\u001b[39m_bound_context\u001b[38;5;241m.\u001b[39mexecuting_eagerly():\n\u001b[1;32m--> 252\u001b[0m     outputs \u001b[38;5;241m=\u001b[39m \u001b[38;5;28;43mself\u001b[39;49m\u001b[38;5;241;43m.\u001b[39;49m\u001b[43m_bound_context\u001b[49m\u001b[38;5;241;43m.\u001b[39;49m\u001b[43mcall_function\u001b[49m\u001b[43m(\u001b[49m\n\u001b[0;32m    253\u001b[0m \u001b[43m        \u001b[49m\u001b[38;5;28;43mself\u001b[39;49m\u001b[38;5;241;43m.\u001b[39;49m\u001b[43mname\u001b[49m\u001b[43m,\u001b[49m\n\u001b[0;32m    254\u001b[0m \u001b[43m        \u001b[49m\u001b[38;5;28;43mlist\u001b[39;49m\u001b[43m(\u001b[49m\u001b[43margs\u001b[49m\u001b[43m)\u001b[49m\u001b[43m,\u001b[49m\n\u001b[0;32m    255\u001b[0m \u001b[43m        \u001b[49m\u001b[38;5;28;43mlen\u001b[39;49m\u001b[43m(\u001b[49m\u001b[38;5;28;43mself\u001b[39;49m\u001b[38;5;241;43m.\u001b[39;49m\u001b[43mfunction_type\u001b[49m\u001b[38;5;241;43m.\u001b[39;49m\u001b[43mflat_outputs\u001b[49m\u001b[43m)\u001b[49m\u001b[43m,\u001b[49m\n\u001b[0;32m    256\u001b[0m \u001b[43m    \u001b[49m\u001b[43m)\u001b[49m\n\u001b[0;32m    257\u001b[0m   \u001b[38;5;28;01melse\u001b[39;00m:\n\u001b[0;32m    258\u001b[0m     outputs \u001b[38;5;241m=\u001b[39m make_call_op_in_graph(\n\u001b[0;32m    259\u001b[0m         \u001b[38;5;28mself\u001b[39m,\n\u001b[0;32m    260\u001b[0m         \u001b[38;5;28mlist\u001b[39m(args),\n\u001b[0;32m    261\u001b[0m         \u001b[38;5;28mself\u001b[39m\u001b[38;5;241m.\u001b[39m_bound_context\u001b[38;5;241m.\u001b[39mfunction_call_options\u001b[38;5;241m.\u001b[39mas_attrs(),\n\u001b[0;32m    262\u001b[0m     )\n",
      "File \u001b[1;32m~\\AppData\\Local\\Programs\\Python\\Python310\\lib\\site-packages\\tensorflow\\python\\eager\\context.py:1479\u001b[0m, in \u001b[0;36mContext.call_function\u001b[1;34m(self, name, tensor_inputs, num_outputs)\u001b[0m\n\u001b[0;32m   1477\u001b[0m cancellation_context \u001b[38;5;241m=\u001b[39m cancellation\u001b[38;5;241m.\u001b[39mcontext()\n\u001b[0;32m   1478\u001b[0m \u001b[38;5;28;01mif\u001b[39;00m cancellation_context \u001b[38;5;129;01mis\u001b[39;00m \u001b[38;5;28;01mNone\u001b[39;00m:\n\u001b[1;32m-> 1479\u001b[0m   outputs \u001b[38;5;241m=\u001b[39m \u001b[43mexecute\u001b[49m\u001b[38;5;241;43m.\u001b[39;49m\u001b[43mexecute\u001b[49m\u001b[43m(\u001b[49m\n\u001b[0;32m   1480\u001b[0m \u001b[43m      \u001b[49m\u001b[43mname\u001b[49m\u001b[38;5;241;43m.\u001b[39;49m\u001b[43mdecode\u001b[49m\u001b[43m(\u001b[49m\u001b[38;5;124;43m\"\u001b[39;49m\u001b[38;5;124;43mutf-8\u001b[39;49m\u001b[38;5;124;43m\"\u001b[39;49m\u001b[43m)\u001b[49m\u001b[43m,\u001b[49m\n\u001b[0;32m   1481\u001b[0m \u001b[43m      \u001b[49m\u001b[43mnum_outputs\u001b[49m\u001b[38;5;241;43m=\u001b[39;49m\u001b[43mnum_outputs\u001b[49m\u001b[43m,\u001b[49m\n\u001b[0;32m   1482\u001b[0m \u001b[43m      \u001b[49m\u001b[43minputs\u001b[49m\u001b[38;5;241;43m=\u001b[39;49m\u001b[43mtensor_inputs\u001b[49m\u001b[43m,\u001b[49m\n\u001b[0;32m   1483\u001b[0m \u001b[43m      \u001b[49m\u001b[43mattrs\u001b[49m\u001b[38;5;241;43m=\u001b[39;49m\u001b[43mattrs\u001b[49m\u001b[43m,\u001b[49m\n\u001b[0;32m   1484\u001b[0m \u001b[43m      \u001b[49m\u001b[43mctx\u001b[49m\u001b[38;5;241;43m=\u001b[39;49m\u001b[38;5;28;43mself\u001b[39;49m\u001b[43m,\u001b[49m\n\u001b[0;32m   1485\u001b[0m \u001b[43m  \u001b[49m\u001b[43m)\u001b[49m\n\u001b[0;32m   1486\u001b[0m \u001b[38;5;28;01melse\u001b[39;00m:\n\u001b[0;32m   1487\u001b[0m   outputs \u001b[38;5;241m=\u001b[39m execute\u001b[38;5;241m.\u001b[39mexecute_with_cancellation(\n\u001b[0;32m   1488\u001b[0m       name\u001b[38;5;241m.\u001b[39mdecode(\u001b[38;5;124m\"\u001b[39m\u001b[38;5;124mutf-8\u001b[39m\u001b[38;5;124m\"\u001b[39m),\n\u001b[0;32m   1489\u001b[0m       num_outputs\u001b[38;5;241m=\u001b[39mnum_outputs,\n\u001b[1;32m   (...)\u001b[0m\n\u001b[0;32m   1493\u001b[0m       cancellation_manager\u001b[38;5;241m=\u001b[39mcancellation_context,\n\u001b[0;32m   1494\u001b[0m   )\n",
      "File \u001b[1;32m~\\AppData\\Local\\Programs\\Python\\Python310\\lib\\site-packages\\tensorflow\\python\\eager\\execute.py:60\u001b[0m, in \u001b[0;36mquick_execute\u001b[1;34m(op_name, num_outputs, inputs, attrs, ctx, name)\u001b[0m\n\u001b[0;32m     53\u001b[0m   \u001b[38;5;66;03m# Convert any objects of type core_types.Tensor to Tensor.\u001b[39;00m\n\u001b[0;32m     54\u001b[0m   inputs \u001b[38;5;241m=\u001b[39m [\n\u001b[0;32m     55\u001b[0m       tensor_conversion_registry\u001b[38;5;241m.\u001b[39mconvert(t)\n\u001b[0;32m     56\u001b[0m       \u001b[38;5;28;01mif\u001b[39;00m \u001b[38;5;28misinstance\u001b[39m(t, core_types\u001b[38;5;241m.\u001b[39mTensor)\n\u001b[0;32m     57\u001b[0m       \u001b[38;5;28;01melse\u001b[39;00m t\n\u001b[0;32m     58\u001b[0m       \u001b[38;5;28;01mfor\u001b[39;00m t \u001b[38;5;129;01min\u001b[39;00m inputs\n\u001b[0;32m     59\u001b[0m   ]\n\u001b[1;32m---> 60\u001b[0m   tensors \u001b[38;5;241m=\u001b[39m \u001b[43mpywrap_tfe\u001b[49m\u001b[38;5;241;43m.\u001b[39;49m\u001b[43mTFE_Py_Execute\u001b[49m\u001b[43m(\u001b[49m\u001b[43mctx\u001b[49m\u001b[38;5;241;43m.\u001b[39;49m\u001b[43m_handle\u001b[49m\u001b[43m,\u001b[49m\u001b[43m \u001b[49m\u001b[43mdevice_name\u001b[49m\u001b[43m,\u001b[49m\u001b[43m \u001b[49m\u001b[43mop_name\u001b[49m\u001b[43m,\u001b[49m\n\u001b[0;32m     61\u001b[0m \u001b[43m                                      \u001b[49m\u001b[43minputs\u001b[49m\u001b[43m,\u001b[49m\u001b[43m \u001b[49m\u001b[43mattrs\u001b[49m\u001b[43m,\u001b[49m\u001b[43m \u001b[49m\u001b[43mnum_outputs\u001b[49m\u001b[43m)\u001b[49m\n\u001b[0;32m     62\u001b[0m \u001b[38;5;28;01mexcept\u001b[39;00m core\u001b[38;5;241m.\u001b[39m_NotOkStatusException \u001b[38;5;28;01mas\u001b[39;00m e:\n\u001b[0;32m     63\u001b[0m   \u001b[38;5;28;01mif\u001b[39;00m name \u001b[38;5;129;01mis\u001b[39;00m \u001b[38;5;129;01mnot\u001b[39;00m \u001b[38;5;28;01mNone\u001b[39;00m:\n",
      "\u001b[1;31mKeyboardInterrupt\u001b[0m: "
     ]
    }
   ],
   "source": [
    "history_cnn = model_cnn.fit(partial_x_train, partial_y_train, epochs=40, batch_size=128, callbacks=[es], validation_data=(X_val, y_val)) # train에서 0.2정도 빼서 test로"
   ]
  },
  {
   "cell_type": "code",
   "execution_count": 617,
   "id": "df86d893-dcf1-4295-8062-8c9afe096555",
   "metadata": {},
   "outputs": [
    {
     "name": "stdout",
     "output_type": "stream",
     "text": [
      "810/810 [==============================] - 34s 42ms/step - loss: 1.0780 - acc: 0.6870\n",
      "\n",
      " 테스트 정확도: 0.6870\n"
     ]
    }
   ],
   "source": [
    "print(\"\\n 테스트 정확도: %.4f\" % (model_cnn.evaluate(X_test, y_test)[1]))"
   ]
  },
  {
   "cell_type": "markdown",
   "id": "51fe8ade-f613-4ea6-8bd5-56e2502c0631",
   "metadata": {},
   "source": [
    "## LSTM"
   ]
  },
  {
   "cell_type": "code",
   "execution_count": 522,
   "id": "a2a26f9b-953e-42cd-ac3e-7dec0b0dc4c5",
   "metadata": {},
   "outputs": [],
   "source": [
    "model_lstm = Sequential()\n",
    "model_lstm.add(Embedding(vocab_size, 128))\n",
    "model_lstm.add(LSTM(32, return_sequences=True))\n",
    "model_lstm.add(Dropout(0.5))\n",
    "model_lstm.add(LSTM(32, return_sequences=True))\n",
    "model_lstm.add(Dropout(0.5))\n",
    "model_lstm.add(LSTM(32))\n",
    "model_lstm.add(Dropout(0.5))\n",
    "model_lstm.add(Dense(3, activation='softmax'))"
   ]
  },
  {
   "cell_type": "code",
   "execution_count": 523,
   "id": "aa915f5e-389c-466d-a4bf-02fc8be422af",
   "metadata": {},
   "outputs": [
    {
     "name": "stdout",
     "output_type": "stream",
     "text": [
      "Model: \"sequential_61\"\n",
      "_________________________________________________________________\n",
      " Layer (type)                Output Shape              Param #   \n",
      "=================================================================\n",
      " embedding_61 (Embedding)    (None, None, 128)         3248128   \n",
      "                                                                 \n",
      " lstm_29 (LSTM)              (None, None, 32)          20608     \n",
      "                                                                 \n",
      " dropout_47 (Dropout)        (None, None, 32)          0         \n",
      "                                                                 \n",
      " lstm_30 (LSTM)              (None, None, 32)          8320      \n",
      "                                                                 \n",
      " dropout_48 (Dropout)        (None, None, 32)          0         \n",
      "                                                                 \n",
      " lstm_31 (LSTM)              (None, 16)                3136      \n",
      "                                                                 \n",
      " dropout_49 (Dropout)        (None, 16)                0         \n",
      "                                                                 \n",
      " dense_72 (Dense)            (None, 3)                 51        \n",
      "                                                                 \n",
      "=================================================================\n",
      "Total params: 3280243 (12.51 MB)\n",
      "Trainable params: 3280243 (12.51 MB)\n",
      "Non-trainable params: 0 (0.00 Byte)\n",
      "_________________________________________________________________\n"
     ]
    }
   ],
   "source": [
    "model_lstm.compile(optimizer='adam', loss='sparse_categorical_crossentropy', metrics=['acc'])\n",
    "model_lstm.summary()"
   ]
  },
  {
   "cell_type": "code",
   "execution_count": 524,
   "id": "591b0d03-ba9c-4359-8a8c-e4e305f6ac32",
   "metadata": {},
   "outputs": [
    {
     "name": "stdout",
     "output_type": "stream",
     "text": [
      "Epoch 1/40\n",
      "593/593 [==============================] - 570s 945ms/step - loss: 0.7915 - acc: 0.6385 - val_loss: 0.6971 - val_acc: 0.6901\n",
      "Epoch 2/40\n",
      "593/593 [==============================] - 586s 988ms/step - loss: 0.6656 - acc: 0.7168 - val_loss: 0.6761 - val_acc: 0.7042\n",
      "Epoch 3/40\n",
      "593/593 [==============================] - 566s 955ms/step - loss: 0.6032 - acc: 0.7517 - val_loss: 0.7015 - val_acc: 0.6974\n",
      "Epoch 4/40\n",
      "593/593 [==============================] - 587s 991ms/step - loss: 0.5452 - acc: 0.7819 - val_loss: 0.7392 - val_acc: 0.6891\n",
      "Epoch 5/40\n",
      "593/593 [==============================] - 577s 973ms/step - loss: 0.4833 - acc: 0.8125 - val_loss: 0.8037 - val_acc: 0.6896\n",
      "Epoch 6/40\n",
      "593/593 [==============================] - 559s 943ms/step - loss: 0.4266 - acc: 0.8413 - val_loss: 0.8748 - val_acc: 0.6829\n",
      "Epoch 6: early stopping\n"
     ]
    }
   ],
   "source": [
    "history = model_lstm.fit(partial_x_train, partial_y_train, epochs=40, batch_size=128, callbacks=[es], validation_data=(X_val, y_val)) # train에서 0.2정도 빼서 test로"
   ]
  },
  {
   "cell_type": "code",
   "execution_count": 525,
   "id": "8ccfdecd-71f6-4df7-ad3a-625f78318fec",
   "metadata": {},
   "outputs": [
    {
     "name": "stdout",
     "output_type": "stream",
     "text": [
      "810/810 [==============================] - 177s 218ms/step - loss: 0.7969 - acc: 0.7103\n",
      "\n",
      " 테스트 정확도: 0.7103\n"
     ]
    }
   ],
   "source": [
    "print(\"\\n 테스트 정확도: %.4f\" % (model_lstm.evaluate(X_test, y_test)[1]))"
   ]
  },
  {
   "cell_type": "markdown",
   "id": "513a1bd6-0dc3-4eaf-9dfb-3ea38da0613c",
   "metadata": {},
   "source": [
    "## RNN"
   ]
  },
  {
   "cell_type": "code",
   "execution_count": 535,
   "id": "5018bb2f-6ecb-4183-90b2-ead48a91adb3",
   "metadata": {},
   "outputs": [],
   "source": [
    "model_rnn = Sequential()\n",
    "model_rnn.add(Embedding(vocab_size, 128))\n",
    "model_rnn.add(SimpleRNN(8, activation='relu'))\n",
    "model_rnn.add(Dense(8, activation='relu'))\n",
    "model_rnn.add(Dense(3, activation='softmax'))"
   ]
  },
  {
   "cell_type": "code",
   "execution_count": 536,
   "id": "2b06db91-84c2-4009-9465-177ad464d96d",
   "metadata": {},
   "outputs": [
    {
     "name": "stdout",
     "output_type": "stream",
     "text": [
      "Model: \"sequential_64\"\n",
      "_________________________________________________________________\n",
      " Layer (type)                Output Shape              Param #   \n",
      "=================================================================\n",
      " embedding_64 (Embedding)    (None, None, 128)         3248128   \n",
      "                                                                 \n",
      " simple_rnn_21 (SimpleRNN)   (None, 8)                 1096      \n",
      "                                                                 \n",
      " dense_75 (Dense)            (None, 8)                 72        \n",
      "                                                                 \n",
      " dense_76 (Dense)            (None, 3)                 27        \n",
      "                                                                 \n",
      "=================================================================\n",
      "Total params: 3249323 (12.40 MB)\n",
      "Trainable params: 3249323 (12.40 MB)\n",
      "Non-trainable params: 0 (0.00 Byte)\n",
      "_________________________________________________________________\n"
     ]
    }
   ],
   "source": [
    "model_rnn.compile(optimizer='adam', loss='sparse_categorical_crossentropy', metrics=['acc'])\n",
    "model_rnn.summary()"
   ]
  },
  {
   "cell_type": "code",
   "execution_count": 537,
   "id": "7160d930-55f1-4135-979a-97c6e7f9f9d5",
   "metadata": {},
   "outputs": [
    {
     "name": "stdout",
     "output_type": "stream",
     "text": [
      "Epoch 1/40\n",
      "593/593 [==============================] - 231s 385ms/step - loss: 0.8367 - acc: 0.6099 - val_loss: 0.7096 - val_acc: 0.6918\n",
      "Epoch 2/40\n",
      "593/593 [==============================] - 210s 354ms/step - loss: 0.6453 - acc: 0.7240 - val_loss: 0.6987 - val_acc: 0.6975\n",
      "Epoch 3/40\n",
      "593/593 [==============================] - 212s 357ms/step - loss: 0.5725 - acc: 0.7631 - val_loss: 0.7291 - val_acc: 0.6883\n",
      "Epoch 4/40\n",
      "593/593 [==============================] - 212s 358ms/step - loss: 0.5092 - acc: 0.7926 - val_loss: 0.7824 - val_acc: 0.6723\n",
      "Epoch 5/40\n",
      "593/593 [==============================] - 202s 340ms/step - loss: 0.4533 - acc: 0.8212 - val_loss: 0.8415 - val_acc: 0.6657\n",
      "Epoch 6/40\n",
      "593/593 [==============================] - 209s 352ms/step - loss: 0.4117 - acc: 0.8410 - val_loss: 0.8914 - val_acc: 0.6620\n",
      "Epoch 6: early stopping\n"
     ]
    }
   ],
   "source": [
    "history = model_rnn.fit(partial_x_train, partial_y_train, epochs=40, batch_size=128, callbacks=[es], validation_data=(X_val, y_val)) # train에서 0.2정도 빼서 test로"
   ]
  },
  {
   "cell_type": "code",
   "execution_count": 538,
   "id": "689e024b-b38a-4ba8-b08c-2e7bef6a3f76",
   "metadata": {},
   "outputs": [
    {
     "name": "stdout",
     "output_type": "stream",
     "text": [
      "810/810 [==============================] - 28s 34ms/step - loss: 0.8085 - acc: 0.6954\n",
      "\n",
      " 테스트 정확도: 0.6954\n"
     ]
    }
   ],
   "source": [
    "print(\"\\n 테스트 정확도: %.4f\" % (model_rnn.evaluate(X_test, y_test)[1]))"
   ]
  },
  {
   "cell_type": "markdown",
   "id": "562c5759-59a0-4e3c-8230-02aeb7a2bc5f",
   "metadata": {},
   "source": [
    "## Bi-LSTM"
   ]
  },
  {
   "cell_type": "code",
   "execution_count": 502,
   "id": "6609d16d-2831-47ca-a9de-282109160bdc",
   "metadata": {},
   "outputs": [],
   "source": [
    "model_bi_lstm = Sequential()\n",
    "model_bi_lstm.add(Embedding(vocab_size, 128))\n",
    "model_bi_lstm.add(Bidirectional(LSTM(128)))\n",
    "model_bi_lstm.add(Dropout(0.5))\n",
    "model_bi_lstm.add(Dense(3, activation='softmax'))"
   ]
  },
  {
   "cell_type": "code",
   "execution_count": 503,
   "id": "f16ea3a9-0d5a-4b4d-8408-854937d5ae6a",
   "metadata": {},
   "outputs": [
    {
     "name": "stdout",
     "output_type": "stream",
     "text": [
      "Model: \"sequential_52\"\n",
      "_________________________________________________________________\n",
      " Layer (type)                Output Shape              Param #   \n",
      "=================================================================\n",
      " embedding_52 (Embedding)    (None, None, 128)         3248128   \n",
      "                                                                 \n",
      " bidirectional_7 (Bidirecti  (None, 256)               263168    \n",
      " onal)                                                           \n",
      "                                                                 \n",
      " dropout_39 (Dropout)        (None, 256)               0         \n",
      "                                                                 \n",
      " dense_70 (Dense)            (None, 3)                 771       \n",
      "                                                                 \n",
      "=================================================================\n",
      "Total params: 3512067 (13.40 MB)\n",
      "Trainable params: 3512067 (13.40 MB)\n",
      "Non-trainable params: 0 (0.00 Byte)\n",
      "_________________________________________________________________\n"
     ]
    }
   ],
   "source": [
    "model_bi_lstm.compile(optimizer='adam', loss='sparse_categorical_crossentropy', metrics=['acc'])\n",
    "model_bi_lstm.summary()"
   ]
  },
  {
   "cell_type": "code",
   "execution_count": 504,
   "id": "ed539a25-a713-4d75-91cb-207fded7648c",
   "metadata": {},
   "outputs": [
    {
     "name": "stdout",
     "output_type": "stream",
     "text": [
      "6245\n",
      "6026\n",
      "6702\n"
     ]
    }
   ],
   "source": [
    "print(len(y_val[y_val == 0]))\n",
    "print(len(y_val[y_val == 1]))\n",
    "print(len(y_val[y_val == 2]))"
   ]
  },
  {
   "cell_type": "code",
   "execution_count": 505,
   "id": "9bc5d66b-a609-4ba9-96ec-8b04f1f6a3da",
   "metadata": {},
   "outputs": [
    {
     "name": "stdout",
     "output_type": "stream",
     "text": [
      "25333\n",
      "23985\n",
      "26570\n"
     ]
    }
   ],
   "source": [
    "print(len(partial_y_train[partial_y_train == 0]))\n",
    "print(len(partial_y_train[partial_y_train == 1]))\n",
    "print(len(partial_y_train[partial_y_train == 2]))"
   ]
  },
  {
   "cell_type": "code",
   "execution_count": 506,
   "id": "df75a377",
   "metadata": {
    "id": "df75a377",
    "outputId": "353b5ae0-687e-47fa-b011-a5085a29e840"
   },
   "outputs": [
    {
     "name": "stdout",
     "output_type": "stream",
     "text": [
      "Epoch 1/40\n",
      "593/593 [==============================] - 13762s 23s/step - loss: 0.7536 - acc: 0.6577 - val_loss: 0.7010 - val_acc: 0.6942\n",
      "Epoch 2/40\n",
      " 69/593 [==>...........................] - ETA: 2:54:02 - loss: 0.6265 - acc: 0.7369"
     ]
    },
    {
     "ename": "KeyboardInterrupt",
     "evalue": "",
     "output_type": "error",
     "traceback": [
      "\u001b[1;31m---------------------------------------------------------------------\u001b[0m",
      "\u001b[1;31mKeyboardInterrupt\u001b[0m                   Traceback (most recent call last)",
      "Cell \u001b[1;32mIn[506], line 1\u001b[0m\n\u001b[1;32m----> 1\u001b[0m history \u001b[38;5;241m=\u001b[39m \u001b[43mmodel_bi_lstm\u001b[49m\u001b[38;5;241;43m.\u001b[39;49m\u001b[43mfit\u001b[49m\u001b[43m(\u001b[49m\u001b[43mpartial_x_train\u001b[49m\u001b[43m,\u001b[49m\u001b[43m \u001b[49m\u001b[43mpartial_y_train\u001b[49m\u001b[43m,\u001b[49m\u001b[43m \u001b[49m\u001b[43mepochs\u001b[49m\u001b[38;5;241;43m=\u001b[39;49m\u001b[38;5;241;43m40\u001b[39;49m\u001b[43m,\u001b[49m\u001b[43m \u001b[49m\u001b[43mbatch_size\u001b[49m\u001b[38;5;241;43m=\u001b[39;49m\u001b[38;5;241;43m128\u001b[39;49m\u001b[43m,\u001b[49m\u001b[43m \u001b[49m\u001b[43mcallbacks\u001b[49m\u001b[38;5;241;43m=\u001b[39;49m\u001b[43m[\u001b[49m\u001b[43mes\u001b[49m\u001b[43m]\u001b[49m\u001b[43m,\u001b[49m\u001b[43m \u001b[49m\u001b[43mvalidation_data\u001b[49m\u001b[38;5;241;43m=\u001b[39;49m\u001b[43m(\u001b[49m\u001b[43mX_val\u001b[49m\u001b[43m,\u001b[49m\u001b[43m \u001b[49m\u001b[43my_val\u001b[49m\u001b[43m)\u001b[49m\u001b[43m)\u001b[49m \u001b[38;5;66;03m# train에서 0.2정도 빼서 test로\u001b[39;00m\n",
      "File \u001b[1;32m~\\AppData\\Local\\Programs\\Python\\Python310\\lib\\site-packages\\keras\\src\\utils\\traceback_utils.py:65\u001b[0m, in \u001b[0;36mfilter_traceback.<locals>.error_handler\u001b[1;34m(*args, **kwargs)\u001b[0m\n\u001b[0;32m     63\u001b[0m filtered_tb \u001b[38;5;241m=\u001b[39m \u001b[38;5;28;01mNone\u001b[39;00m\n\u001b[0;32m     64\u001b[0m \u001b[38;5;28;01mtry\u001b[39;00m:\n\u001b[1;32m---> 65\u001b[0m     \u001b[38;5;28;01mreturn\u001b[39;00m fn(\u001b[38;5;241m*\u001b[39margs, \u001b[38;5;241m*\u001b[39m\u001b[38;5;241m*\u001b[39mkwargs)\n\u001b[0;32m     66\u001b[0m \u001b[38;5;28;01mexcept\u001b[39;00m \u001b[38;5;167;01mException\u001b[39;00m \u001b[38;5;28;01mas\u001b[39;00m e:\n\u001b[0;32m     67\u001b[0m     filtered_tb \u001b[38;5;241m=\u001b[39m _process_traceback_frames(e\u001b[38;5;241m.\u001b[39m__traceback__)\n",
      "File \u001b[1;32m~\\AppData\\Local\\Programs\\Python\\Python310\\lib\\site-packages\\keras\\src\\engine\\training.py:1783\u001b[0m, in \u001b[0;36mModel.fit\u001b[1;34m(self, x, y, batch_size, epochs, verbose, callbacks, validation_split, validation_data, shuffle, class_weight, sample_weight, initial_epoch, steps_per_epoch, validation_steps, validation_batch_size, validation_freq, max_queue_size, workers, use_multiprocessing)\u001b[0m\n\u001b[0;32m   1775\u001b[0m \u001b[38;5;28;01mwith\u001b[39;00m tf\u001b[38;5;241m.\u001b[39mprofiler\u001b[38;5;241m.\u001b[39mexperimental\u001b[38;5;241m.\u001b[39mTrace(\n\u001b[0;32m   1776\u001b[0m     \u001b[38;5;124m\"\u001b[39m\u001b[38;5;124mtrain\u001b[39m\u001b[38;5;124m\"\u001b[39m,\n\u001b[0;32m   1777\u001b[0m     epoch_num\u001b[38;5;241m=\u001b[39mepoch,\n\u001b[1;32m   (...)\u001b[0m\n\u001b[0;32m   1780\u001b[0m     _r\u001b[38;5;241m=\u001b[39m\u001b[38;5;241m1\u001b[39m,\n\u001b[0;32m   1781\u001b[0m ):\n\u001b[0;32m   1782\u001b[0m     callbacks\u001b[38;5;241m.\u001b[39mon_train_batch_begin(step)\n\u001b[1;32m-> 1783\u001b[0m     tmp_logs \u001b[38;5;241m=\u001b[39m \u001b[38;5;28;43mself\u001b[39;49m\u001b[38;5;241;43m.\u001b[39;49m\u001b[43mtrain_function\u001b[49m\u001b[43m(\u001b[49m\u001b[43miterator\u001b[49m\u001b[43m)\u001b[49m\n\u001b[0;32m   1784\u001b[0m     \u001b[38;5;28;01mif\u001b[39;00m data_handler\u001b[38;5;241m.\u001b[39mshould_sync:\n\u001b[0;32m   1785\u001b[0m         context\u001b[38;5;241m.\u001b[39masync_wait()\n",
      "File \u001b[1;32m~\\AppData\\Local\\Programs\\Python\\Python310\\lib\\site-packages\\tensorflow\\python\\util\\traceback_utils.py:150\u001b[0m, in \u001b[0;36mfilter_traceback.<locals>.error_handler\u001b[1;34m(*args, **kwargs)\u001b[0m\n\u001b[0;32m    148\u001b[0m filtered_tb \u001b[38;5;241m=\u001b[39m \u001b[38;5;28;01mNone\u001b[39;00m\n\u001b[0;32m    149\u001b[0m \u001b[38;5;28;01mtry\u001b[39;00m:\n\u001b[1;32m--> 150\u001b[0m   \u001b[38;5;28;01mreturn\u001b[39;00m fn(\u001b[38;5;241m*\u001b[39margs, \u001b[38;5;241m*\u001b[39m\u001b[38;5;241m*\u001b[39mkwargs)\n\u001b[0;32m    151\u001b[0m \u001b[38;5;28;01mexcept\u001b[39;00m \u001b[38;5;167;01mException\u001b[39;00m \u001b[38;5;28;01mas\u001b[39;00m e:\n\u001b[0;32m    152\u001b[0m   filtered_tb \u001b[38;5;241m=\u001b[39m _process_traceback_frames(e\u001b[38;5;241m.\u001b[39m__traceback__)\n",
      "File \u001b[1;32m~\\AppData\\Local\\Programs\\Python\\Python310\\lib\\site-packages\\tensorflow\\python\\eager\\polymorphic_function\\polymorphic_function.py:831\u001b[0m, in \u001b[0;36mFunction.__call__\u001b[1;34m(self, *args, **kwds)\u001b[0m\n\u001b[0;32m    828\u001b[0m compiler \u001b[38;5;241m=\u001b[39m \u001b[38;5;124m\"\u001b[39m\u001b[38;5;124mxla\u001b[39m\u001b[38;5;124m\"\u001b[39m \u001b[38;5;28;01mif\u001b[39;00m \u001b[38;5;28mself\u001b[39m\u001b[38;5;241m.\u001b[39m_jit_compile \u001b[38;5;28;01melse\u001b[39;00m \u001b[38;5;124m\"\u001b[39m\u001b[38;5;124mnonXla\u001b[39m\u001b[38;5;124m\"\u001b[39m\n\u001b[0;32m    830\u001b[0m \u001b[38;5;28;01mwith\u001b[39;00m OptionalXlaContext(\u001b[38;5;28mself\u001b[39m\u001b[38;5;241m.\u001b[39m_jit_compile):\n\u001b[1;32m--> 831\u001b[0m   result \u001b[38;5;241m=\u001b[39m \u001b[38;5;28mself\u001b[39m\u001b[38;5;241m.\u001b[39m_call(\u001b[38;5;241m*\u001b[39margs, \u001b[38;5;241m*\u001b[39m\u001b[38;5;241m*\u001b[39mkwds)\n\u001b[0;32m    833\u001b[0m new_tracing_count \u001b[38;5;241m=\u001b[39m \u001b[38;5;28mself\u001b[39m\u001b[38;5;241m.\u001b[39mexperimental_get_tracing_count()\n\u001b[0;32m    834\u001b[0m without_tracing \u001b[38;5;241m=\u001b[39m (tracing_count \u001b[38;5;241m==\u001b[39m new_tracing_count)\n",
      "File \u001b[1;32m~\\AppData\\Local\\Programs\\Python\\Python310\\lib\\site-packages\\tensorflow\\python\\eager\\polymorphic_function\\polymorphic_function.py:867\u001b[0m, in \u001b[0;36mFunction._call\u001b[1;34m(self, *args, **kwds)\u001b[0m\n\u001b[0;32m    864\u001b[0m   \u001b[38;5;28mself\u001b[39m\u001b[38;5;241m.\u001b[39m_lock\u001b[38;5;241m.\u001b[39mrelease()\n\u001b[0;32m    865\u001b[0m   \u001b[38;5;66;03m# In this case we have created variables on the first call, so we run the\u001b[39;00m\n\u001b[0;32m    866\u001b[0m   \u001b[38;5;66;03m# defunned version which is guaranteed to never create variables.\u001b[39;00m\n\u001b[1;32m--> 867\u001b[0m   \u001b[38;5;28;01mreturn\u001b[39;00m \u001b[43mtracing_compilation\u001b[49m\u001b[38;5;241;43m.\u001b[39;49m\u001b[43mcall_function\u001b[49m\u001b[43m(\u001b[49m\n\u001b[0;32m    868\u001b[0m \u001b[43m      \u001b[49m\u001b[43margs\u001b[49m\u001b[43m,\u001b[49m\u001b[43m \u001b[49m\u001b[43mkwds\u001b[49m\u001b[43m,\u001b[49m\u001b[43m \u001b[49m\u001b[38;5;28;43mself\u001b[39;49m\u001b[38;5;241;43m.\u001b[39;49m\u001b[43m_no_variable_creation_config\u001b[49m\n\u001b[0;32m    869\u001b[0m \u001b[43m  \u001b[49m\u001b[43m)\u001b[49m\n\u001b[0;32m    870\u001b[0m \u001b[38;5;28;01melif\u001b[39;00m \u001b[38;5;28mself\u001b[39m\u001b[38;5;241m.\u001b[39m_variable_creation_config \u001b[38;5;129;01mis\u001b[39;00m \u001b[38;5;129;01mnot\u001b[39;00m \u001b[38;5;28;01mNone\u001b[39;00m:\n\u001b[0;32m    871\u001b[0m   \u001b[38;5;66;03m# Release the lock early so that multiple threads can perform the call\u001b[39;00m\n\u001b[0;32m    872\u001b[0m   \u001b[38;5;66;03m# in parallel.\u001b[39;00m\n\u001b[0;32m    873\u001b[0m   \u001b[38;5;28mself\u001b[39m\u001b[38;5;241m.\u001b[39m_lock\u001b[38;5;241m.\u001b[39mrelease()\n",
      "File \u001b[1;32m~\\AppData\\Local\\Programs\\Python\\Python310\\lib\\site-packages\\tensorflow\\python\\eager\\polymorphic_function\\tracing_compilation.py:139\u001b[0m, in \u001b[0;36mcall_function\u001b[1;34m(args, kwargs, tracing_options)\u001b[0m\n\u001b[0;32m    137\u001b[0m bound_args \u001b[38;5;241m=\u001b[39m function\u001b[38;5;241m.\u001b[39mfunction_type\u001b[38;5;241m.\u001b[39mbind(\u001b[38;5;241m*\u001b[39margs, \u001b[38;5;241m*\u001b[39m\u001b[38;5;241m*\u001b[39mkwargs)\n\u001b[0;32m    138\u001b[0m flat_inputs \u001b[38;5;241m=\u001b[39m function\u001b[38;5;241m.\u001b[39mfunction_type\u001b[38;5;241m.\u001b[39munpack_inputs(bound_args)\n\u001b[1;32m--> 139\u001b[0m \u001b[38;5;28;01mreturn\u001b[39;00m \u001b[43mfunction\u001b[49m\u001b[38;5;241;43m.\u001b[39;49m\u001b[43m_call_flat\u001b[49m\u001b[43m(\u001b[49m\u001b[43m  \u001b[49m\u001b[38;5;66;43;03m# pylint: disable=protected-access\u001b[39;49;00m\n\u001b[0;32m    140\u001b[0m \u001b[43m    \u001b[49m\u001b[43mflat_inputs\u001b[49m\u001b[43m,\u001b[49m\u001b[43m \u001b[49m\u001b[43mcaptured_inputs\u001b[49m\u001b[38;5;241;43m=\u001b[39;49m\u001b[43mfunction\u001b[49m\u001b[38;5;241;43m.\u001b[39;49m\u001b[43mcaptured_inputs\u001b[49m\n\u001b[0;32m    141\u001b[0m \u001b[43m\u001b[49m\u001b[43m)\u001b[49m\n",
      "File \u001b[1;32m~\\AppData\\Local\\Programs\\Python\\Python310\\lib\\site-packages\\tensorflow\\python\\eager\\polymorphic_function\\concrete_function.py:1264\u001b[0m, in \u001b[0;36mConcreteFunction._call_flat\u001b[1;34m(self, tensor_inputs, captured_inputs)\u001b[0m\n\u001b[0;32m   1260\u001b[0m possible_gradient_type \u001b[38;5;241m=\u001b[39m gradients_util\u001b[38;5;241m.\u001b[39mPossibleTapeGradientTypes(args)\n\u001b[0;32m   1261\u001b[0m \u001b[38;5;28;01mif\u001b[39;00m (possible_gradient_type \u001b[38;5;241m==\u001b[39m gradients_util\u001b[38;5;241m.\u001b[39mPOSSIBLE_GRADIENT_TYPES_NONE\n\u001b[0;32m   1262\u001b[0m     \u001b[38;5;129;01mand\u001b[39;00m executing_eagerly):\n\u001b[0;32m   1263\u001b[0m   \u001b[38;5;66;03m# No tape is watching; skip to running the function.\u001b[39;00m\n\u001b[1;32m-> 1264\u001b[0m   \u001b[38;5;28;01mreturn\u001b[39;00m \u001b[38;5;28;43mself\u001b[39;49m\u001b[38;5;241;43m.\u001b[39;49m\u001b[43m_inference_function\u001b[49m\u001b[38;5;241;43m.\u001b[39;49m\u001b[43mflat_call\u001b[49m\u001b[43m(\u001b[49m\u001b[43margs\u001b[49m\u001b[43m)\u001b[49m\n\u001b[0;32m   1265\u001b[0m forward_backward \u001b[38;5;241m=\u001b[39m \u001b[38;5;28mself\u001b[39m\u001b[38;5;241m.\u001b[39m_select_forward_and_backward_functions(\n\u001b[0;32m   1266\u001b[0m     args,\n\u001b[0;32m   1267\u001b[0m     possible_gradient_type,\n\u001b[0;32m   1268\u001b[0m     executing_eagerly)\n\u001b[0;32m   1269\u001b[0m forward_function, args_with_tangents \u001b[38;5;241m=\u001b[39m forward_backward\u001b[38;5;241m.\u001b[39mforward()\n",
      "File \u001b[1;32m~\\AppData\\Local\\Programs\\Python\\Python310\\lib\\site-packages\\tensorflow\\python\\eager\\polymorphic_function\\atomic_function.py:217\u001b[0m, in \u001b[0;36mAtomicFunction.flat_call\u001b[1;34m(self, args)\u001b[0m\n\u001b[0;32m    215\u001b[0m \u001b[38;5;28;01mdef\u001b[39;00m \u001b[38;5;21mflat_call\u001b[39m(\u001b[38;5;28mself\u001b[39m, args: Sequence[core\u001b[38;5;241m.\u001b[39mTensor]) \u001b[38;5;241m-\u001b[39m\u001b[38;5;241m>\u001b[39m Any:\n\u001b[0;32m    216\u001b[0m \u001b[38;5;250m  \u001b[39m\u001b[38;5;124;03m\"\"\"Calls with tensor inputs and returns the structured output.\"\"\"\u001b[39;00m\n\u001b[1;32m--> 217\u001b[0m   flat_outputs \u001b[38;5;241m=\u001b[39m \u001b[38;5;28;43mself\u001b[39;49m\u001b[43m(\u001b[49m\u001b[38;5;241;43m*\u001b[39;49m\u001b[43margs\u001b[49m\u001b[43m)\u001b[49m\n\u001b[0;32m    218\u001b[0m   \u001b[38;5;28;01mreturn\u001b[39;00m \u001b[38;5;28mself\u001b[39m\u001b[38;5;241m.\u001b[39mfunction_type\u001b[38;5;241m.\u001b[39mpack_output(flat_outputs)\n",
      "File \u001b[1;32m~\\AppData\\Local\\Programs\\Python\\Python310\\lib\\site-packages\\tensorflow\\python\\eager\\polymorphic_function\\atomic_function.py:252\u001b[0m, in \u001b[0;36mAtomicFunction.__call__\u001b[1;34m(self, *args)\u001b[0m\n\u001b[0;32m    250\u001b[0m \u001b[38;5;28;01mwith\u001b[39;00m record\u001b[38;5;241m.\u001b[39mstop_recording():\n\u001b[0;32m    251\u001b[0m   \u001b[38;5;28;01mif\u001b[39;00m \u001b[38;5;28mself\u001b[39m\u001b[38;5;241m.\u001b[39m_bound_context\u001b[38;5;241m.\u001b[39mexecuting_eagerly():\n\u001b[1;32m--> 252\u001b[0m     outputs \u001b[38;5;241m=\u001b[39m \u001b[38;5;28;43mself\u001b[39;49m\u001b[38;5;241;43m.\u001b[39;49m\u001b[43m_bound_context\u001b[49m\u001b[38;5;241;43m.\u001b[39;49m\u001b[43mcall_function\u001b[49m\u001b[43m(\u001b[49m\n\u001b[0;32m    253\u001b[0m \u001b[43m        \u001b[49m\u001b[38;5;28;43mself\u001b[39;49m\u001b[38;5;241;43m.\u001b[39;49m\u001b[43mname\u001b[49m\u001b[43m,\u001b[49m\n\u001b[0;32m    254\u001b[0m \u001b[43m        \u001b[49m\u001b[38;5;28;43mlist\u001b[39;49m\u001b[43m(\u001b[49m\u001b[43margs\u001b[49m\u001b[43m)\u001b[49m\u001b[43m,\u001b[49m\n\u001b[0;32m    255\u001b[0m \u001b[43m        \u001b[49m\u001b[38;5;28;43mlen\u001b[39;49m\u001b[43m(\u001b[49m\u001b[38;5;28;43mself\u001b[39;49m\u001b[38;5;241;43m.\u001b[39;49m\u001b[43mfunction_type\u001b[49m\u001b[38;5;241;43m.\u001b[39;49m\u001b[43mflat_outputs\u001b[49m\u001b[43m)\u001b[49m\u001b[43m,\u001b[49m\n\u001b[0;32m    256\u001b[0m \u001b[43m    \u001b[49m\u001b[43m)\u001b[49m\n\u001b[0;32m    257\u001b[0m   \u001b[38;5;28;01melse\u001b[39;00m:\n\u001b[0;32m    258\u001b[0m     outputs \u001b[38;5;241m=\u001b[39m make_call_op_in_graph(\n\u001b[0;32m    259\u001b[0m         \u001b[38;5;28mself\u001b[39m,\n\u001b[0;32m    260\u001b[0m         \u001b[38;5;28mlist\u001b[39m(args),\n\u001b[0;32m    261\u001b[0m         \u001b[38;5;28mself\u001b[39m\u001b[38;5;241m.\u001b[39m_bound_context\u001b[38;5;241m.\u001b[39mfunction_call_options\u001b[38;5;241m.\u001b[39mas_attrs(),\n\u001b[0;32m    262\u001b[0m     )\n",
      "File \u001b[1;32m~\\AppData\\Local\\Programs\\Python\\Python310\\lib\\site-packages\\tensorflow\\python\\eager\\context.py:1479\u001b[0m, in \u001b[0;36mContext.call_function\u001b[1;34m(self, name, tensor_inputs, num_outputs)\u001b[0m\n\u001b[0;32m   1477\u001b[0m cancellation_context \u001b[38;5;241m=\u001b[39m cancellation\u001b[38;5;241m.\u001b[39mcontext()\n\u001b[0;32m   1478\u001b[0m \u001b[38;5;28;01mif\u001b[39;00m cancellation_context \u001b[38;5;129;01mis\u001b[39;00m \u001b[38;5;28;01mNone\u001b[39;00m:\n\u001b[1;32m-> 1479\u001b[0m   outputs \u001b[38;5;241m=\u001b[39m \u001b[43mexecute\u001b[49m\u001b[38;5;241;43m.\u001b[39;49m\u001b[43mexecute\u001b[49m\u001b[43m(\u001b[49m\n\u001b[0;32m   1480\u001b[0m \u001b[43m      \u001b[49m\u001b[43mname\u001b[49m\u001b[38;5;241;43m.\u001b[39;49m\u001b[43mdecode\u001b[49m\u001b[43m(\u001b[49m\u001b[38;5;124;43m\"\u001b[39;49m\u001b[38;5;124;43mutf-8\u001b[39;49m\u001b[38;5;124;43m\"\u001b[39;49m\u001b[43m)\u001b[49m\u001b[43m,\u001b[49m\n\u001b[0;32m   1481\u001b[0m \u001b[43m      \u001b[49m\u001b[43mnum_outputs\u001b[49m\u001b[38;5;241;43m=\u001b[39;49m\u001b[43mnum_outputs\u001b[49m\u001b[43m,\u001b[49m\n\u001b[0;32m   1482\u001b[0m \u001b[43m      \u001b[49m\u001b[43minputs\u001b[49m\u001b[38;5;241;43m=\u001b[39;49m\u001b[43mtensor_inputs\u001b[49m\u001b[43m,\u001b[49m\n\u001b[0;32m   1483\u001b[0m \u001b[43m      \u001b[49m\u001b[43mattrs\u001b[49m\u001b[38;5;241;43m=\u001b[39;49m\u001b[43mattrs\u001b[49m\u001b[43m,\u001b[49m\n\u001b[0;32m   1484\u001b[0m \u001b[43m      \u001b[49m\u001b[43mctx\u001b[49m\u001b[38;5;241;43m=\u001b[39;49m\u001b[38;5;28;43mself\u001b[39;49m\u001b[43m,\u001b[49m\n\u001b[0;32m   1485\u001b[0m \u001b[43m  \u001b[49m\u001b[43m)\u001b[49m\n\u001b[0;32m   1486\u001b[0m \u001b[38;5;28;01melse\u001b[39;00m:\n\u001b[0;32m   1487\u001b[0m   outputs \u001b[38;5;241m=\u001b[39m execute\u001b[38;5;241m.\u001b[39mexecute_with_cancellation(\n\u001b[0;32m   1488\u001b[0m       name\u001b[38;5;241m.\u001b[39mdecode(\u001b[38;5;124m\"\u001b[39m\u001b[38;5;124mutf-8\u001b[39m\u001b[38;5;124m\"\u001b[39m),\n\u001b[0;32m   1489\u001b[0m       num_outputs\u001b[38;5;241m=\u001b[39mnum_outputs,\n\u001b[1;32m   (...)\u001b[0m\n\u001b[0;32m   1493\u001b[0m       cancellation_manager\u001b[38;5;241m=\u001b[39mcancellation_context,\n\u001b[0;32m   1494\u001b[0m   )\n",
      "File \u001b[1;32m~\\AppData\\Local\\Programs\\Python\\Python310\\lib\\site-packages\\tensorflow\\python\\eager\\execute.py:60\u001b[0m, in \u001b[0;36mquick_execute\u001b[1;34m(op_name, num_outputs, inputs, attrs, ctx, name)\u001b[0m\n\u001b[0;32m     53\u001b[0m   \u001b[38;5;66;03m# Convert any objects of type core_types.Tensor to Tensor.\u001b[39;00m\n\u001b[0;32m     54\u001b[0m   inputs \u001b[38;5;241m=\u001b[39m [\n\u001b[0;32m     55\u001b[0m       tensor_conversion_registry\u001b[38;5;241m.\u001b[39mconvert(t)\n\u001b[0;32m     56\u001b[0m       \u001b[38;5;28;01mif\u001b[39;00m \u001b[38;5;28misinstance\u001b[39m(t, core_types\u001b[38;5;241m.\u001b[39mTensor)\n\u001b[0;32m     57\u001b[0m       \u001b[38;5;28;01melse\u001b[39;00m t\n\u001b[0;32m     58\u001b[0m       \u001b[38;5;28;01mfor\u001b[39;00m t \u001b[38;5;129;01min\u001b[39;00m inputs\n\u001b[0;32m     59\u001b[0m   ]\n\u001b[1;32m---> 60\u001b[0m   tensors \u001b[38;5;241m=\u001b[39m \u001b[43mpywrap_tfe\u001b[49m\u001b[38;5;241;43m.\u001b[39;49m\u001b[43mTFE_Py_Execute\u001b[49m\u001b[43m(\u001b[49m\u001b[43mctx\u001b[49m\u001b[38;5;241;43m.\u001b[39;49m\u001b[43m_handle\u001b[49m\u001b[43m,\u001b[49m\u001b[43m \u001b[49m\u001b[43mdevice_name\u001b[49m\u001b[43m,\u001b[49m\u001b[43m \u001b[49m\u001b[43mop_name\u001b[49m\u001b[43m,\u001b[49m\n\u001b[0;32m     61\u001b[0m \u001b[43m                                      \u001b[49m\u001b[43minputs\u001b[49m\u001b[43m,\u001b[49m\u001b[43m \u001b[49m\u001b[43mattrs\u001b[49m\u001b[43m,\u001b[49m\u001b[43m \u001b[49m\u001b[43mnum_outputs\u001b[49m\u001b[43m)\u001b[49m\n\u001b[0;32m     62\u001b[0m \u001b[38;5;28;01mexcept\u001b[39;00m core\u001b[38;5;241m.\u001b[39m_NotOkStatusException \u001b[38;5;28;01mas\u001b[39;00m e:\n\u001b[0;32m     63\u001b[0m   \u001b[38;5;28;01mif\u001b[39;00m name \u001b[38;5;129;01mis\u001b[39;00m \u001b[38;5;129;01mnot\u001b[39;00m \u001b[38;5;28;01mNone\u001b[39;00m:\n",
      "\u001b[1;31mKeyboardInterrupt\u001b[0m: "
     ]
    }
   ],
   "source": [
    "history = model_bi_lstm.fit(partial_x_train, partial_y_train, epochs=40, batch_size=128, callbacks=[es], validation_data=(X_val, y_val)) # train에서 0.2정도 빼서 test로"
   ]
  },
  {
   "cell_type": "code",
   "execution_count": 397,
   "id": "1bebc409",
   "metadata": {
    "id": "1bebc409",
    "outputId": "4a0b7346-afd5-4a9d-8946-d17528ae3e16"
   },
   "outputs": [
    {
     "name": "stdout",
     "output_type": "stream",
     "text": [
      "810/810 [==============================] - 18s 22ms/step - loss: 0.7454 - acc: 0.6902\n",
      "\n",
      " 테스트 정확도: 0.6902\n"
     ]
    }
   ],
   "source": [
    "print(\"\\n 테스트 정확도: %.4f\" % (model.evaluate(X_test, y_test)[1]))"
   ]
  },
  {
   "cell_type": "code",
   "execution_count": 241,
   "id": "05cfe8fd",
   "metadata": {
    "id": "05cfe8fd"
   },
   "outputs": [],
   "source": [
    "# # word_index 대신 tokenizer 객체 저장\n",
    "# with open('tokenizer.pickle', 'wb') as handle :\n",
    "#     pickle.dump(tokenizer, handle)\n",
    "\n",
    "# with open('tokenizer.pickle', 'rb') as handle :\n",
    "#     tokenizer = pickle.load(handle)"
   ]
  },
  {
   "cell_type": "code",
   "execution_count": 596,
   "id": "0a7ace8e",
   "metadata": {
    "id": "0a7ace8e",
    "outputId": "368ab371-0054-43d7-a20a-c65ea41a5d92"
   },
   "outputs": [
    {
     "data": {
      "image/png": "[encoded data removed]",
      "text/plain": [
       "<Figure size 640x480 with 1 Axes>"
      ]
     },
     "metadata": {},
     "output_type": "display_data"
    }
   ],
   "source": [
    "# 손실도 곡선\n",
    "import matplotlib.pyplot as plt\n",
    "\n",
    "loss = history.history['loss']\n",
    "val_loss = history.history['val_loss']\n",
    "\n",
    "epochs = range(1, len(loss) + 1)\n",
    "\n",
    "plt.plot(epochs, loss, 'bo', label='Training loss')\n",
    "plt.plot(epochs, val_loss, 'b', label='Validation loss')\n",
    "plt.title('Training and validation loss')\n",
    "plt.xlabel('Epochs')\n",
    "plt.ylabel('Loss')\n",
    "plt.legend()\n",
    "\n",
    "plt.show()"
   ]
  },
  {
   "cell_type": "code",
   "execution_count": 597,
   "id": "2be99d74",
   "metadata": {
    "id": "2be99d74",
    "outputId": "babc1370-22c7-44dc-c4b4-1f4d32f5574e"
   },
   "outputs": [
    {
     "data": {
      "image/png": "[encoded data removed]",
      "text/plain": [
       "<Figure size 640x480 with 1 Axes>"
      ]
     },
     "metadata": {},
     "output_type": "display_data"
    }
   ],
   "source": [
    "# 정확도 곡선\n",
    "plt.clf()\n",
    "\n",
    "acc = history.history['acc']\n",
    "val_acc = history.history['val_acc']\n",
    "\n",
    "plt.plot(epochs, acc, 'bo', label='Training acc')\n",
    "plt.plot(epochs, val_acc, 'b', label='Validation acc')\n",
    "plt.title('Training and validation accuracy')\n",
    "plt.xlabel('Epochs')\n",
    "plt.ylabel('Accuracy')\n",
    "plt.legend()\n",
    "\n",
    "plt.show()"
   ]
  },
  {
   "cell_type": "code",
   "execution_count": 598,
   "id": "fb78492a",
   "metadata": {
    "id": "fb78492a"
   },
   "outputs": [
    {
     "name": "stdin",
     "output_type": "stream",
     "text": [
      "감성분석할 문장을 입력해 주세요.:  너무 좋다\n"
     ]
    },
    {
     "name": "stdout",
     "output_type": "stream",
     "text": [
      "['너무', '좋다']\n",
      "1/1 [==============================] - 0s 79ms/step\n",
      "[[ 0.8134462   0.16360559 -0.00141764]]\n",
      "별로\n",
      "[[ 0.8134462   0.16360559 -0.00141764]]\n"
     ]
    }
   ],
   "source": [
    "MAX_LENGTH = 150 #문장최대길이\n",
    "\n",
    "sentence = input('감성분석할 문장을 입력해 주세요.: ')\n",
    "\n",
    "# 새로 입력된 문장을 전처리\n",
    "sentence = re.sub(r'[^ㄱ-ㅎㅏ-ㅣ가-힣\\\\s ]','', sentence)\n",
    "stopwords = ['은','는','이','가','하','아','것','들','의','있','되','수','보','주','등','한'] # 불용어 추가할 것이 있으면 이곳에 추가\n",
    "sentence = okt.morphs(sentence, stem=True) # 토큰화\n",
    "sentence = [word for word in sentence if not word in stopwords] # 불용어 제거\n",
    "print(sentence)\n",
    "\n",
    "vector  = tokenizer.texts_to_sequences(sentence)\n",
    "# vector = np.reshape(vector,(1,-1))\n",
    "pad_new = pad_sequences([vector], maxlen = MAX_LENGTH, padding='post') # 패딩\n",
    "# model = tf.keras.models.load_model('./model/review.h5')\n",
    "# print(pad_new)\n",
    "predictions = model.predict(pad_new)\n",
    "print(predictions)\n",
    "\n",
    "if np.argmax(predictions) == 2:\n",
    "    print('좋음')\n",
    "    print(predictions)\n",
    "elif np.argmax(predictions) == 1:\n",
    "    print('보통')\n",
    "    print(predictions)\n",
    "elif np.argmax(predictions) == 0:\n",
    "    print('별로')\n",
    "    print(predictions)"
   ]
  },
  {
   "cell_type": "code",
   "execution_count": null,
   "id": "f234cef0",
   "metadata": {
    "id": "f234cef0"
   },
   "outputs": [],
   "source": []
  }
 ],
 "metadata": {
  "colab": {
   "provenance": []
  },
  "kernelspec": {
   "display_name": "Python 3 (ipykernel)",
   "language": "python",
   "name": "python3"
  },
  "language_info": {
   "codemirror_mode": {
    "name": "ipython",
    "version": 3
   },
   "file_extension": ".py",
   "mimetype": "text/x-python",
   "name": "python",
   "nbconvert_exporter": "python",
   "pygments_lexer": "ipython3",
   "version": "3.10.11"
  }
 },
 "nbformat": 4,
 "nbformat_minor": 5
}
