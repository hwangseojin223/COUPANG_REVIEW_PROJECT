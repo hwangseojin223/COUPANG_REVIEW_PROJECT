{
 "cells": [
  {
   "cell_type": "code",
   "execution_count": 2,
   "id": "4d2b9964-c12f-428b-a1ea-011c542ca125",
   "metadata": {
    "id": "4d2b9964-c12f-428b-a1ea-011c542ca125"
   },
   "outputs": [],
   "source": [
    "import pandas as pd\n",
    "import numpy as np\n",
    "import matplotlib.pyplot as plt\n",
    "%matplotlib inline\n",
    "import seaborn as sns"
   ]
  },
  {
   "cell_type": "code",
   "execution_count": 3,
   "id": "02dbc1c2-c57d-48df-ac28-9749b1328768",
   "metadata": {
    "id": "02dbc1c2-c57d-48df-ac28-9749b1328768"
   },
   "outputs": [],
   "source": [
    "# 한글 문제\n",
    "# matplotlit의 기본 폰트에서 한글 지원되지 않기 때문에\n",
    "# matplotlib의 폰트 변경 필요\n",
    "import platform\n",
    "\n",
    "from matplotlib import font_manager, rc\n",
    "plt.rcParams['axes.unicode_minus'] = False\n",
    "\n",
    "if platform.system() == 'Darwin':  # 맥OS\n",
    "    rc('font', family='AppleGothic')\n",
    "elif platform.system() == 'Windows':  # 윈도우\n",
    "    path = \"c:/Windows/Fonts/malgun.ttf\"\n",
    "    font_name = font_manager.FontProperties(fname=path).get_name()\n",
    "    rc('font', family=font_name)\n",
    "else:\n",
    "    print('Unknown system...  sorry~~~')"
   ]
  },
  {
   "cell_type": "code",
   "execution_count": null,
   "id": "45dca393-c92f-4ead-b212-ef804827009c",
   "metadata": {
    "id": "45dca393-c92f-4ead-b212-ef804827009c",
    "outputId": "ece2b078-8c44-426d-9c2d-7e557483314e"
   },
   "outputs": [
    {
     "data": {
      "text/html": [
       "<div>\n",
       "<style scoped>\n",
       "    .dataframe tbody tr th:only-of-type {\n",
       "        vertical-align: middle;\n",
       "    }\n",
       "\n",
       "    .dataframe tbody tr th {\n",
       "        vertical-align: top;\n",
       "    }\n",
       "\n",
       "    .dataframe thead th {\n",
       "        text-align: right;\n",
       "    }\n",
       "</style>\n",
       "<table border=\"1\" class=\"dataframe\">\n",
       "  <thead>\n",
       "    <tr style=\"text-align: right;\">\n",
       "      <th></th>\n",
       "      <th>Unnamed: 0</th>\n",
       "      <th>카테고리1</th>\n",
       "      <th>카테고리2</th>\n",
       "      <th>카테고리 url</th>\n",
       "      <th>제품명</th>\n",
       "      <th>제품 url</th>\n",
       "      <th>리뷰 개수</th>\n",
       "      <th>상품 별점</th>\n",
       "    </tr>\n",
       "  </thead>\n",
       "  <tbody>\n",
       "    <tr>\n",
       "      <th>0</th>\n",
       "      <td>0</td>\n",
       "      <td>출산/유아동</td>\n",
       "      <td>유아동패션</td>\n",
       "      <td>http://www.coupang.com/np/categories/508565?pa...</td>\n",
       "      <td>휠라 아동용 푸퍼 부츠 3HM01158F</td>\n",
       "      <td>http://www.coupang.com/vp/products/7614782467?...</td>\n",
       "      <td>4</td>\n",
       "      <td>5.0</td>\n",
       "    </tr>\n",
       "    <tr>\n",
       "      <th>1</th>\n",
       "      <td>1</td>\n",
       "      <td>출산/유아동</td>\n",
       "      <td>유아동패션</td>\n",
       "      <td>http://www.coupang.com/np/categories/508565?pa...</td>\n",
       "      <td>민트스쿨 남아 여아 아동 네오프렌 수영복 다이빙수트 웻수트</td>\n",
       "      <td>http://www.coupang.com/vp/products/7188787135?...</td>\n",
       "      <td>187</td>\n",
       "      <td>4.5</td>\n",
       "    </tr>\n",
       "    <tr>\n",
       "      <th>2</th>\n",
       "      <td>2</td>\n",
       "      <td>출산/유아동</td>\n",
       "      <td>유아동패션</td>\n",
       "      <td>http://www.coupang.com/np/categories/508565?pa...</td>\n",
       "      <td>산리오 아동용 CH 쿠로미 윈터 방한부츠</td>\n",
       "      <td>http://www.coupang.com/vp/products/7684694458?...</td>\n",
       "      <td>38</td>\n",
       "      <td>5.0</td>\n",
       "    </tr>\n",
       "    <tr>\n",
       "      <th>3</th>\n",
       "      <td>3</td>\n",
       "      <td>출산/유아동</td>\n",
       "      <td>유아동패션</td>\n",
       "      <td>http://www.coupang.com/np/categories/508565?pa...</td>\n",
       "      <td>마미트리 아동용 RW마스터 방한부츠</td>\n",
       "      <td>http://www.coupang.com/vp/products/330109285?i...</td>\n",
       "      <td>370</td>\n",
       "      <td>4.5</td>\n",
       "    </tr>\n",
       "    <tr>\n",
       "      <th>4</th>\n",
       "      <td>4</td>\n",
       "      <td>출산/유아동</td>\n",
       "      <td>유아동패션</td>\n",
       "      <td>http://www.coupang.com/np/categories/508565?pa...</td>\n",
       "      <td>코코릭 유아동 와이드렌즈 물안경, 큐브 핑크민트</td>\n",
       "      <td>http://www.coupang.com/vp/products/1593283444?...</td>\n",
       "      <td>4261</td>\n",
       "      <td>5.0</td>\n",
       "    </tr>\n",
       "  </tbody>\n",
       "</table>\n",
       "</div>"
      ],
      "text/plain": [
       "   Unnamed: 0   카테고리1   카테고리2  \\\n",
       "0           0  출산/유아동  유아동패션    \n",
       "1           1  출산/유아동  유아동패션    \n",
       "2           2  출산/유아동  유아동패션    \n",
       "3           3  출산/유아동  유아동패션    \n",
       "4           4  출산/유아동  유아동패션    \n",
       "\n",
       "                                            카테고리 url  \\\n",
       "0  http://www.coupang.com/np/categories/508565?pa...   \n",
       "1  http://www.coupang.com/np/categories/508565?pa...   \n",
       "2  http://www.coupang.com/np/categories/508565?pa...   \n",
       "3  http://www.coupang.com/np/categories/508565?pa...   \n",
       "4  http://www.coupang.com/np/categories/508565?pa...   \n",
       "\n",
       "                                제품명  \\\n",
       "0            휠라 아동용 푸퍼 부츠 3HM01158F   \n",
       "1  민트스쿨 남아 여아 아동 네오프렌 수영복 다이빙수트 웻수트   \n",
       "2            산리오 아동용 CH 쿠로미 윈터 방한부츠   \n",
       "3               마미트리 아동용 RW마스터 방한부츠   \n",
       "4        코코릭 유아동 와이드렌즈 물안경, 큐브 핑크민트   \n",
       "\n",
       "                                              제품 url  리뷰 개수  상품 별점  \n",
       "0  http://www.coupang.com/vp/products/7614782467?...      4    5.0  \n",
       "1  http://www.coupang.com/vp/products/7188787135?...    187    4.5  \n",
       "2  http://www.coupang.com/vp/products/7684694458?...     38    5.0  \n",
       "3  http://www.coupang.com/vp/products/330109285?i...    370    4.5  \n",
       "4  http://www.coupang.com/vp/products/1593283444?...   4261    5.0  "
      ]
     },
     "execution_count": 200,
     "metadata": {},
     "output_type": "execute_result"
    }
   ],
   "source": [
    "data = pd.read_csv('./data/total.csv', encoding = 'utf-8', low_memory=False)\n",
    "data.head()"
   ]
  },
  {
   "cell_type": "code",
   "execution_count": null,
   "id": "7b6b6a50-f8a0-4ecc-8cd1-6fa5ab5c7f5c",
   "metadata": {
    "id": "7b6b6a50-f8a0-4ecc-8cd1-6fa5ab5c7f5c",
    "outputId": "1fa4f79a-c83c-4a79-bd75-17104097138e"
   },
   "outputs": [
    {
     "name": "stdout",
     "output_type": "stream",
     "text": [
      "<class 'pandas.core.frame.DataFrame'>\n",
      "RangeIndex: 12631 entries, 0 to 12630\n",
      "Data columns (total 8 columns):\n",
      " #   Column      Non-Null Count  Dtype  \n",
      "---  ------      --------------  -----  \n",
      " 0   Unnamed: 0  12631 non-null  int64  \n",
      " 1   카테고리1       12631 non-null  object \n",
      " 2   카테고리2       12631 non-null  object \n",
      " 3   카테고리 url    12631 non-null  object \n",
      " 4   제품명         12631 non-null  object \n",
      " 5   제품 url      12631 non-null  object \n",
      " 6   리뷰 개수       12631 non-null  int64  \n",
      " 7   상품 별점       12631 non-null  float64\n",
      "dtypes: float64(1), int64(2), object(5)\n",
      "memory usage: 789.6+ KB\n"
     ]
    }
   ],
   "source": [
    "data.info()"
   ]
  },
  {
   "cell_type": "code",
   "execution_count": null,
   "id": "b8947a6b-ae0d-47a5-a6f4-8d7d3923282e",
   "metadata": {
    "id": "b8947a6b-ae0d-47a5-a6f4-8d7d3923282e",
    "outputId": "f3fb5cab-da59-4885-a72e-f66c6f16393b"
   },
   "outputs": [
    {
     "data": {
      "text/plain": [
       "Unnamed: 0    0\n",
       "카테고리1         0\n",
       "카테고리2         0\n",
       "카테고리 url      0\n",
       "제품명           0\n",
       "제품 url        0\n",
       "리뷰 개수         0\n",
       "상품 별점         0\n",
       "dtype: int64"
      ]
     },
     "execution_count": 6,
     "metadata": {},
     "output_type": "execute_result"
    }
   ],
   "source": [
    "# 각 컬럼별 결측치 확인\n",
    "data.isnull().sum(axis = 0)"
   ]
  },
  {
   "cell_type": "code",
   "execution_count": null,
   "id": "8edc16a2-3f07-4015-a34b-b3a4d61b7668",
   "metadata": {
    "id": "8edc16a2-3f07-4015-a34b-b3a4d61b7668"
   },
   "outputs": [],
   "source": [
    "# 불필요한 컬럼 drop하여 삭제\n",
    "data.drop(['Unnamed: 0'], axis = 1, inplace = True)"
   ]
  },
  {
   "cell_type": "code",
   "execution_count": null,
   "id": "6ff01089-dab3-4f16-967d-5fe884ec5bb4",
   "metadata": {
    "id": "6ff01089-dab3-4f16-967d-5fe884ec5bb4",
    "outputId": "df40c247-2bb4-41e6-d293-feb10ddfb518"
   },
   "outputs": [
    {
     "data": {
      "text/html": [
       "<div>\n",
       "<style scoped>\n",
       "    .dataframe tbody tr th:only-of-type {\n",
       "        vertical-align: middle;\n",
       "    }\n",
       "\n",
       "    .dataframe tbody tr th {\n",
       "        vertical-align: top;\n",
       "    }\n",
       "\n",
       "    .dataframe thead th {\n",
       "        text-align: right;\n",
       "    }\n",
       "</style>\n",
       "<table border=\"1\" class=\"dataframe\">\n",
       "  <thead>\n",
       "    <tr style=\"text-align: right;\">\n",
       "      <th></th>\n",
       "      <th>카테고리1</th>\n",
       "      <th>카테고리2</th>\n",
       "      <th>카테고리 url</th>\n",
       "      <th>제품명</th>\n",
       "      <th>제품 url</th>\n",
       "      <th>리뷰 개수</th>\n",
       "      <th>상품 별점</th>\n",
       "    </tr>\n",
       "  </thead>\n",
       "  <tbody>\n",
       "    <tr>\n",
       "      <th>0</th>\n",
       "      <td>출산/유아동</td>\n",
       "      <td>유아동패션</td>\n",
       "      <td>http://www.coupang.com/np/categories/508565?pa...</td>\n",
       "      <td>휠라 아동용 푸퍼 부츠 3HM01158F</td>\n",
       "      <td>http://www.coupang.com/vp/products/7614782467?...</td>\n",
       "      <td>4</td>\n",
       "      <td>5.0</td>\n",
       "    </tr>\n",
       "    <tr>\n",
       "      <th>1</th>\n",
       "      <td>출산/유아동</td>\n",
       "      <td>유아동패션</td>\n",
       "      <td>http://www.coupang.com/np/categories/508565?pa...</td>\n",
       "      <td>민트스쿨 남아 여아 아동 네오프렌 수영복 다이빙수트 웻수트</td>\n",
       "      <td>http://www.coupang.com/vp/products/7188787135?...</td>\n",
       "      <td>187</td>\n",
       "      <td>4.5</td>\n",
       "    </tr>\n",
       "    <tr>\n",
       "      <th>2</th>\n",
       "      <td>출산/유아동</td>\n",
       "      <td>유아동패션</td>\n",
       "      <td>http://www.coupang.com/np/categories/508565?pa...</td>\n",
       "      <td>산리오 아동용 CH 쿠로미 윈터 방한부츠</td>\n",
       "      <td>http://www.coupang.com/vp/products/7684694458?...</td>\n",
       "      <td>38</td>\n",
       "      <td>5.0</td>\n",
       "    </tr>\n",
       "    <tr>\n",
       "      <th>3</th>\n",
       "      <td>출산/유아동</td>\n",
       "      <td>유아동패션</td>\n",
       "      <td>http://www.coupang.com/np/categories/508565?pa...</td>\n",
       "      <td>마미트리 아동용 RW마스터 방한부츠</td>\n",
       "      <td>http://www.coupang.com/vp/products/330109285?i...</td>\n",
       "      <td>370</td>\n",
       "      <td>4.5</td>\n",
       "    </tr>\n",
       "    <tr>\n",
       "      <th>4</th>\n",
       "      <td>출산/유아동</td>\n",
       "      <td>유아동패션</td>\n",
       "      <td>http://www.coupang.com/np/categories/508565?pa...</td>\n",
       "      <td>코코릭 유아동 와이드렌즈 물안경, 큐브 핑크민트</td>\n",
       "      <td>http://www.coupang.com/vp/products/1593283444?...</td>\n",
       "      <td>4261</td>\n",
       "      <td>5.0</td>\n",
       "    </tr>\n",
       "  </tbody>\n",
       "</table>\n",
       "</div>"
      ],
      "text/plain": [
       "    카테고리1   카테고리2                                           카테고리 url  \\\n",
       "0  출산/유아동  유아동패션   http://www.coupang.com/np/categories/508565?pa...   \n",
       "1  출산/유아동  유아동패션   http://www.coupang.com/np/categories/508565?pa...   \n",
       "2  출산/유아동  유아동패션   http://www.coupang.com/np/categories/508565?pa...   \n",
       "3  출산/유아동  유아동패션   http://www.coupang.com/np/categories/508565?pa...   \n",
       "4  출산/유아동  유아동패션   http://www.coupang.com/np/categories/508565?pa...   \n",
       "\n",
       "                                제품명  \\\n",
       "0            휠라 아동용 푸퍼 부츠 3HM01158F   \n",
       "1  민트스쿨 남아 여아 아동 네오프렌 수영복 다이빙수트 웻수트   \n",
       "2            산리오 아동용 CH 쿠로미 윈터 방한부츠   \n",
       "3               마미트리 아동용 RW마스터 방한부츠   \n",
       "4        코코릭 유아동 와이드렌즈 물안경, 큐브 핑크민트   \n",
       "\n",
       "                                              제품 url  리뷰 개수  상품 별점  \n",
       "0  http://www.coupang.com/vp/products/7614782467?...      4    5.0  \n",
       "1  http://www.coupang.com/vp/products/7188787135?...    187    4.5  \n",
       "2  http://www.coupang.com/vp/products/7684694458?...     38    5.0  \n",
       "3  http://www.coupang.com/vp/products/330109285?i...    370    4.5  \n",
       "4  http://www.coupang.com/vp/products/1593283444?...   4261    5.0  "
      ]
     },
     "execution_count": 8,
     "metadata": {},
     "output_type": "execute_result"
    }
   ],
   "source": [
    "data.head()"
   ]
  },
  {
   "cell_type": "code",
   "execution_count": null,
   "id": "73064b36-049f-45bd-8fc5-adc9b04ef309",
   "metadata": {
    "id": "73064b36-049f-45bd-8fc5-adc9b04ef309"
   },
   "outputs": [],
   "source": [
    "data[\"제품명수정\"] = data[\"제품명\"].str.replace(pat=r'[^\\w]', repl=r' ', regex=True)"
   ]
  },
  {
   "cell_type": "code",
   "execution_count": null,
   "id": "24542c1a-5efb-4272-a9b2-95a66be8013f",
   "metadata": {
    "id": "24542c1a-5efb-4272-a9b2-95a66be8013f",
    "outputId": "2112995c-76d9-4302-f589-5ebb11e1a01c"
   },
   "outputs": [
    {
     "data": {
      "text/html": [
       "<div>\n",
       "<style scoped>\n",
       "    .dataframe tbody tr th:only-of-type {\n",
       "        vertical-align: middle;\n",
       "    }\n",
       "\n",
       "    .dataframe tbody tr th {\n",
       "        vertical-align: top;\n",
       "    }\n",
       "\n",
       "    .dataframe thead th {\n",
       "        text-align: right;\n",
       "    }\n",
       "</style>\n",
       "<table border=\"1\" class=\"dataframe\">\n",
       "  <thead>\n",
       "    <tr style=\"text-align: right;\">\n",
       "      <th></th>\n",
       "      <th>카테고리1</th>\n",
       "      <th>카테고리2</th>\n",
       "      <th>카테고리 url</th>\n",
       "      <th>제품명</th>\n",
       "      <th>제품 url</th>\n",
       "      <th>리뷰 개수</th>\n",
       "      <th>상품 별점</th>\n",
       "      <th>제품명수정</th>\n",
       "    </tr>\n",
       "  </thead>\n",
       "  <tbody>\n",
       "    <tr>\n",
       "      <th>12626</th>\n",
       "      <td>완구/취미</td>\n",
       "      <td>프라모델</td>\n",
       "      <td>http://www.coupang.com/np/categories/332492?pa...</td>\n",
       "      <td>반다이 기계전대 젠카이쟈 미니프라 전계합체 시리즈01 젠카이오 쥬라가온 전5종 세트</td>\n",
       "      <td>http://www.coupang.com/vp/products/7147377526?...</td>\n",
       "      <td>5</td>\n",
       "      <td>5.0</td>\n",
       "      <td>반다이 기계전대 젠카이쟈 미니프라 전계합체 시리즈01 젠카이오 쥬라가온 전5종 세트</td>\n",
       "    </tr>\n",
       "    <tr>\n",
       "      <th>12627</th>\n",
       "      <td>완구/취미</td>\n",
       "      <td>프라모델</td>\n",
       "      <td>http://www.coupang.com/np/categories/332492?pa...</td>\n",
       "      <td>아카데미과학 포니 수집품 124 피규어포함 현대자동차 프라모델 5WB77319, 1개</td>\n",
       "      <td>http://www.coupang.com/vp/products/4604590891?...</td>\n",
       "      <td>12</td>\n",
       "      <td>5.0</td>\n",
       "      <td>아카데미과학 포니 수집품 124 피규어포함 현대자동차 프라모델 5WB77319  1개</td>\n",
       "    </tr>\n",
       "    <tr>\n",
       "      <th>12628</th>\n",
       "      <td>완구/취미</td>\n",
       "      <td>프라모델</td>\n",
       "      <td>http://www.coupang.com/np/categories/332492?pa...</td>\n",
       "      <td>아카데미과학 엔터프라이즈 프라모델 전함 CV-6 14224, 1개</td>\n",
       "      <td>http://www.coupang.com/vp/products/42777026?it...</td>\n",
       "      <td>61</td>\n",
       "      <td>5.0</td>\n",
       "      <td>아카데미과학 엔터프라이즈 프라모델 전함 CV 6 14224  1개</td>\n",
       "    </tr>\n",
       "    <tr>\n",
       "      <th>12629</th>\n",
       "      <td>완구/취미</td>\n",
       "      <td>프라모델</td>\n",
       "      <td>http://www.coupang.com/np/categories/332492?pa...</td>\n",
       "      <td>초이락 헬로카봇 비트런1, 헬로카봇 비트런</td>\n",
       "      <td>http://www.coupang.com/vp/products/7140931355?...</td>\n",
       "      <td>65</td>\n",
       "      <td>5.0</td>\n",
       "      <td>초이락 헬로카봇 비트런1  헬로카봇 비트런</td>\n",
       "    </tr>\n",
       "    <tr>\n",
       "      <th>12630</th>\n",
       "      <td>완구/취미</td>\n",
       "      <td>프라모델</td>\n",
       "      <td>http://www.coupang.com/np/categories/332492?pa...</td>\n",
       "      <td>반다이 라이즈 스탠다드 블랙 워그레이몬 피규어, 1개</td>\n",
       "      <td>http://www.coupang.com/vp/products/7590151789?...</td>\n",
       "      <td>369</td>\n",
       "      <td>4.5</td>\n",
       "      <td>반다이 라이즈 스탠다드 블랙 워그레이몬 피규어  1개</td>\n",
       "    </tr>\n",
       "  </tbody>\n",
       "</table>\n",
       "</div>"
      ],
      "text/plain": [
       "       카테고리1  카테고리2                                           카테고리 url  \\\n",
       "12626  완구/취미  프라모델   http://www.coupang.com/np/categories/332492?pa...   \n",
       "12627  완구/취미  프라모델   http://www.coupang.com/np/categories/332492?pa...   \n",
       "12628  완구/취미  프라모델   http://www.coupang.com/np/categories/332492?pa...   \n",
       "12629  완구/취미  프라모델   http://www.coupang.com/np/categories/332492?pa...   \n",
       "12630  완구/취미  프라모델   http://www.coupang.com/np/categories/332492?pa...   \n",
       "\n",
       "                                                   제품명  \\\n",
       "12626   반다이 기계전대 젠카이쟈 미니프라 전계합체 시리즈01 젠카이오 쥬라가온 전5종 세트   \n",
       "12627  아카데미과학 포니 수집품 124 피규어포함 현대자동차 프라모델 5WB77319, 1개   \n",
       "12628             아카데미과학 엔터프라이즈 프라모델 전함 CV-6 14224, 1개   \n",
       "12629                          초이락 헬로카봇 비트런1, 헬로카봇 비트런   \n",
       "12630                    반다이 라이즈 스탠다드 블랙 워그레이몬 피규어, 1개   \n",
       "\n",
       "                                                  제품 url  리뷰 개수  상품 별점  \\\n",
       "12626  http://www.coupang.com/vp/products/7147377526?...      5    5.0   \n",
       "12627  http://www.coupang.com/vp/products/4604590891?...     12    5.0   \n",
       "12628  http://www.coupang.com/vp/products/42777026?it...     61    5.0   \n",
       "12629  http://www.coupang.com/vp/products/7140931355?...     65    5.0   \n",
       "12630  http://www.coupang.com/vp/products/7590151789?...    369    4.5   \n",
       "\n",
       "                                                 제품명수정  \n",
       "12626   반다이 기계전대 젠카이쟈 미니프라 전계합체 시리즈01 젠카이오 쥬라가온 전5종 세트  \n",
       "12627  아카데미과학 포니 수집품 124 피규어포함 현대자동차 프라모델 5WB77319  1개  \n",
       "12628             아카데미과학 엔터프라이즈 프라모델 전함 CV 6 14224  1개  \n",
       "12629                          초이락 헬로카봇 비트런1  헬로카봇 비트런  \n",
       "12630                    반다이 라이즈 스탠다드 블랙 워그레이몬 피규어  1개  "
      ]
     },
     "execution_count": 70,
     "metadata": {},
     "output_type": "execute_result"
    }
   ],
   "source": [
    "data.tail()"
   ]
  },
  {
   "cell_type": "code",
   "execution_count": null,
   "id": "78acfe8a-c80e-468b-8ffc-1e1a59cd2b2e",
   "metadata": {
    "id": "78acfe8a-c80e-468b-8ffc-1e1a59cd2b2e"
   },
   "outputs": [],
   "source": [
    "lst = data['제품명수정'].str.split(' ').str[0]\n",
    "lst2 = data['제품명수정'].str.split(' ').str[1]\n",
    "lst3 = data['제품명수정'].str.split(' ').str[2]\n",
    "lst4 = data['제품명수정'].str.split(' ').str[3]\n",
    "lst5 = data['제품명수정'].str.split(' ').str[4]"
   ]
  },
  {
   "cell_type": "code",
   "execution_count": null,
   "id": "fa72d307-0242-46ce-a1d8-e6c7364dc21d",
   "metadata": {
    "id": "fa72d307-0242-46ce-a1d8-e6c7364dc21d"
   },
   "outputs": [],
   "source": [
    "data['First'] = lst\n",
    "data['Second'] = lst2\n",
    "data['Third'] = lst3\n",
    "data['Fourth'] = lst4\n",
    "data['Fifth'] = lst5"
   ]
  },
  {
   "cell_type": "code",
   "execution_count": null,
   "id": "7d7cd70d-f93f-4903-97ab-6e00ce243ffc",
   "metadata": {
    "id": "7d7cd70d-f93f-4903-97ab-6e00ce243ffc",
    "outputId": "dd10cd93-ec60-4e7a-d49b-34fc3af20e93"
   },
   "outputs": [
    {
     "data": {
      "text/html": [
       "<div>\n",
       "<style scoped>\n",
       "    .dataframe tbody tr th:only-of-type {\n",
       "        vertical-align: middle;\n",
       "    }\n",
       "\n",
       "    .dataframe tbody tr th {\n",
       "        vertical-align: top;\n",
       "    }\n",
       "\n",
       "    .dataframe thead th {\n",
       "        text-align: right;\n",
       "    }\n",
       "</style>\n",
       "<table border=\"1\" class=\"dataframe\">\n",
       "  <thead>\n",
       "    <tr style=\"text-align: right;\">\n",
       "      <th></th>\n",
       "      <th>카테고리1</th>\n",
       "      <th>카테고리2</th>\n",
       "      <th>카테고리 url</th>\n",
       "      <th>제품명</th>\n",
       "      <th>제품 url</th>\n",
       "      <th>리뷰 개수</th>\n",
       "      <th>상품 별점</th>\n",
       "      <th>제품명수정</th>\n",
       "      <th>First</th>\n",
       "      <th>Second</th>\n",
       "      <th>Third</th>\n",
       "      <th>Fourth</th>\n",
       "      <th>Fifth</th>\n",
       "    </tr>\n",
       "  </thead>\n",
       "  <tbody>\n",
       "    <tr>\n",
       "      <th>12626</th>\n",
       "      <td>완구/취미</td>\n",
       "      <td>프라모델</td>\n",
       "      <td>http://www.coupang.com/np/categories/332492?pa...</td>\n",
       "      <td>반다이 기계전대 젠카이쟈 미니프라 전계합체 시리즈01 젠카이오 쥬라가온 전5종 세트</td>\n",
       "      <td>http://www.coupang.com/vp/products/7147377526?...</td>\n",
       "      <td>5</td>\n",
       "      <td>5.0</td>\n",
       "      <td>반다이 기계전대 젠카이쟈 미니프라 전계합체 시리즈01 젠카이오 쥬라가온 전5종 세트</td>\n",
       "      <td>반다이</td>\n",
       "      <td>기계전대</td>\n",
       "      <td>젠카이쟈</td>\n",
       "      <td>미니프라</td>\n",
       "      <td>전계합체</td>\n",
       "    </tr>\n",
       "    <tr>\n",
       "      <th>12627</th>\n",
       "      <td>완구/취미</td>\n",
       "      <td>프라모델</td>\n",
       "      <td>http://www.coupang.com/np/categories/332492?pa...</td>\n",
       "      <td>아카데미과학 포니 수집품 124 피규어포함 현대자동차 프라모델 5WB77319, 1개</td>\n",
       "      <td>http://www.coupang.com/vp/products/4604590891?...</td>\n",
       "      <td>12</td>\n",
       "      <td>5.0</td>\n",
       "      <td>아카데미과학 포니 수집품 124 피규어포함 현대자동차 프라모델 5WB77319  1개</td>\n",
       "      <td>아카데미과학</td>\n",
       "      <td>포니</td>\n",
       "      <td>수집품</td>\n",
       "      <td>124</td>\n",
       "      <td>피규어포함</td>\n",
       "    </tr>\n",
       "    <tr>\n",
       "      <th>12628</th>\n",
       "      <td>완구/취미</td>\n",
       "      <td>프라모델</td>\n",
       "      <td>http://www.coupang.com/np/categories/332492?pa...</td>\n",
       "      <td>아카데미과학 엔터프라이즈 프라모델 전함 CV-6 14224, 1개</td>\n",
       "      <td>http://www.coupang.com/vp/products/42777026?it...</td>\n",
       "      <td>61</td>\n",
       "      <td>5.0</td>\n",
       "      <td>아카데미과학 엔터프라이즈 프라모델 전함 CV 6 14224  1개</td>\n",
       "      <td>아카데미과학</td>\n",
       "      <td>엔터프라이즈</td>\n",
       "      <td>프라모델</td>\n",
       "      <td>전함</td>\n",
       "      <td>CV</td>\n",
       "    </tr>\n",
       "    <tr>\n",
       "      <th>12629</th>\n",
       "      <td>완구/취미</td>\n",
       "      <td>프라모델</td>\n",
       "      <td>http://www.coupang.com/np/categories/332492?pa...</td>\n",
       "      <td>초이락 헬로카봇 비트런1, 헬로카봇 비트런</td>\n",
       "      <td>http://www.coupang.com/vp/products/7140931355?...</td>\n",
       "      <td>65</td>\n",
       "      <td>5.0</td>\n",
       "      <td>초이락 헬로카봇 비트런1  헬로카봇 비트런</td>\n",
       "      <td>초이락</td>\n",
       "      <td>헬로카봇</td>\n",
       "      <td>비트런1</td>\n",
       "      <td></td>\n",
       "      <td>헬로카봇</td>\n",
       "    </tr>\n",
       "    <tr>\n",
       "      <th>12630</th>\n",
       "      <td>완구/취미</td>\n",
       "      <td>프라모델</td>\n",
       "      <td>http://www.coupang.com/np/categories/332492?pa...</td>\n",
       "      <td>반다이 라이즈 스탠다드 블랙 워그레이몬 피규어, 1개</td>\n",
       "      <td>http://www.coupang.com/vp/products/7590151789?...</td>\n",
       "      <td>369</td>\n",
       "      <td>4.5</td>\n",
       "      <td>반다이 라이즈 스탠다드 블랙 워그레이몬 피규어  1개</td>\n",
       "      <td>반다이</td>\n",
       "      <td>라이즈</td>\n",
       "      <td>스탠다드</td>\n",
       "      <td>블랙</td>\n",
       "      <td>워그레이몬</td>\n",
       "    </tr>\n",
       "  </tbody>\n",
       "</table>\n",
       "</div>"
      ],
      "text/plain": [
       "       카테고리1  카테고리2                                           카테고리 url  \\\n",
       "12626  완구/취미  프라모델   http://www.coupang.com/np/categories/332492?pa...   \n",
       "12627  완구/취미  프라모델   http://www.coupang.com/np/categories/332492?pa...   \n",
       "12628  완구/취미  프라모델   http://www.coupang.com/np/categories/332492?pa...   \n",
       "12629  완구/취미  프라모델   http://www.coupang.com/np/categories/332492?pa...   \n",
       "12630  완구/취미  프라모델   http://www.coupang.com/np/categories/332492?pa...   \n",
       "\n",
       "                                                   제품명  \\\n",
       "12626   반다이 기계전대 젠카이쟈 미니프라 전계합체 시리즈01 젠카이오 쥬라가온 전5종 세트   \n",
       "12627  아카데미과학 포니 수집품 124 피규어포함 현대자동차 프라모델 5WB77319, 1개   \n",
       "12628             아카데미과학 엔터프라이즈 프라모델 전함 CV-6 14224, 1개   \n",
       "12629                          초이락 헬로카봇 비트런1, 헬로카봇 비트런   \n",
       "12630                    반다이 라이즈 스탠다드 블랙 워그레이몬 피규어, 1개   \n",
       "\n",
       "                                                  제품 url  리뷰 개수  상품 별점  \\\n",
       "12626  http://www.coupang.com/vp/products/7147377526?...      5    5.0   \n",
       "12627  http://www.coupang.com/vp/products/4604590891?...     12    5.0   \n",
       "12628  http://www.coupang.com/vp/products/42777026?it...     61    5.0   \n",
       "12629  http://www.coupang.com/vp/products/7140931355?...     65    5.0   \n",
       "12630  http://www.coupang.com/vp/products/7590151789?...    369    4.5   \n",
       "\n",
       "                                                 제품명수정   First  Second Third  \\\n",
       "12626   반다이 기계전대 젠카이쟈 미니프라 전계합체 시리즈01 젠카이오 쥬라가온 전5종 세트     반다이    기계전대  젠카이쟈   \n",
       "12627  아카데미과학 포니 수집품 124 피규어포함 현대자동차 프라모델 5WB77319  1개  아카데미과학      포니   수집품   \n",
       "12628             아카데미과학 엔터프라이즈 프라모델 전함 CV 6 14224  1개  아카데미과학  엔터프라이즈  프라모델   \n",
       "12629                          초이락 헬로카봇 비트런1  헬로카봇 비트런     초이락    헬로카봇  비트런1   \n",
       "12630                    반다이 라이즈 스탠다드 블랙 워그레이몬 피규어  1개     반다이     라이즈  스탠다드   \n",
       "\n",
       "      Fourth  Fifth  \n",
       "12626   미니프라   전계합체  \n",
       "12627    124  피규어포함  \n",
       "12628     전함     CV  \n",
       "12629          헬로카봇  \n",
       "12630     블랙  워그레이몬  "
      ]
     },
     "execution_count": 73,
     "metadata": {},
     "output_type": "execute_result"
    }
   ],
   "source": [
    "data.tail()"
   ]
  },
  {
   "cell_type": "code",
   "execution_count": null,
   "id": "ef4d4645-287c-4d6a-8c94-17c98ab10e60",
   "metadata": {
    "id": "ef4d4645-287c-4d6a-8c94-17c98ab10e60",
    "outputId": "efdef408-35bf-4d1c-863c-a7a984b48c96"
   },
   "outputs": [
    {
     "data": {
      "text/plain": [
       "7968"
      ]
     },
     "execution_count": 75,
     "metadata": {},
     "output_type": "execute_result"
    }
   ],
   "source": [
    "data['First'].duplicated().sum()"
   ]
  },
  {
   "cell_type": "code",
   "execution_count": null,
   "id": "0f62e6d4-42a8-40f8-9800-adb3b0835920",
   "metadata": {
    "id": "0f62e6d4-42a8-40f8-9800-adb3b0835920",
    "outputId": "c09551e6-ff13-412d-8329-4c8403b04fba"
   },
   "outputs": [
    {
     "data": {
      "text/plain": [
       "7109"
      ]
     },
     "execution_count": 76,
     "metadata": {},
     "output_type": "execute_result"
    }
   ],
   "source": [
    "data['Second'].duplicated().sum()"
   ]
  },
  {
   "cell_type": "code",
   "execution_count": null,
   "id": "c613ed0a-b7f8-470e-ab03-f2d779b65054",
   "metadata": {
    "id": "c613ed0a-b7f8-470e-ab03-f2d779b65054",
    "outputId": "6e43083f-b67f-42bf-951a-807770462ac6"
   },
   "outputs": [
    {
     "data": {
      "text/plain": [
       "7301"
      ]
     },
     "execution_count": 77,
     "metadata": {},
     "output_type": "execute_result"
    }
   ],
   "source": [
    "data['Third'].duplicated().sum()"
   ]
  },
  {
   "cell_type": "code",
   "execution_count": null,
   "id": "e3537b45-ccbf-4d0d-9f66-54920b2da685",
   "metadata": {
    "id": "e3537b45-ccbf-4d0d-9f66-54920b2da685",
    "outputId": "cc116094-8a39-4d33-b0be-9102e91c0dde"
   },
   "outputs": [
    {
     "data": {
      "text/plain": [
       "7909"
      ]
     },
     "execution_count": 78,
     "metadata": {},
     "output_type": "execute_result"
    }
   ],
   "source": [
    "data['Fourth'].duplicated().sum()"
   ]
  },
  {
   "cell_type": "code",
   "execution_count": null,
   "id": "e032e000-aeaf-4af2-bb10-92d983f65f85",
   "metadata": {
    "id": "e032e000-aeaf-4af2-bb10-92d983f65f85",
    "outputId": "3a367fd5-4d1a-4413-d98b-9eeade5574a0"
   },
   "outputs": [
    {
     "data": {
      "text/plain": [
       "8521"
      ]
     },
     "execution_count": 79,
     "metadata": {},
     "output_type": "execute_result"
    }
   ],
   "source": [
    "data['Fifth'].duplicated().sum()"
   ]
  },
  {
   "cell_type": "code",
   "execution_count": null,
   "id": "88f086d0-e187-4e94-bb63-28c04ef4f874",
   "metadata": {
    "id": "88f086d0-e187-4e94-bb63-28c04ef4f874",
    "outputId": "5d8d8054-a09d-4eea-bccc-d098f3e63b6a"
   },
   "outputs": [
    {
     "data": {
      "text/html": [
       "<div>\n",
       "<style scoped>\n",
       "    .dataframe tbody tr th:only-of-type {\n",
       "        vertical-align: middle;\n",
       "    }\n",
       "\n",
       "    .dataframe tbody tr th {\n",
       "        vertical-align: top;\n",
       "    }\n",
       "\n",
       "    .dataframe thead th {\n",
       "        text-align: right;\n",
       "    }\n",
       "</style>\n",
       "<table border=\"1\" class=\"dataframe\">\n",
       "  <thead>\n",
       "    <tr style=\"text-align: right;\">\n",
       "      <th></th>\n",
       "      <th>카테고리1</th>\n",
       "      <th>카테고리2</th>\n",
       "      <th>카테고리 url</th>\n",
       "      <th>제품명</th>\n",
       "      <th>제품 url</th>\n",
       "      <th>리뷰 개수</th>\n",
       "      <th>상품 별점</th>\n",
       "      <th>제품명수정</th>\n",
       "      <th>First</th>\n",
       "      <th>Second</th>\n",
       "      <th>Third</th>\n",
       "      <th>Fourth</th>\n",
       "      <th>Fifth</th>\n",
       "    </tr>\n",
       "  </thead>\n",
       "  <tbody>\n",
       "    <tr>\n",
       "      <th>0</th>\n",
       "      <td>출산/유아동</td>\n",
       "      <td>유아동패션</td>\n",
       "      <td>http://www.coupang.com/np/categories/508565?pa...</td>\n",
       "      <td>휠라 아동용 푸퍼 부츠 3HM01158F</td>\n",
       "      <td>http://www.coupang.com/vp/products/7614782467?...</td>\n",
       "      <td>4</td>\n",
       "      <td>5.0</td>\n",
       "      <td>휠라 아동용 푸퍼 부츠 3HM01158F</td>\n",
       "      <td>휠라</td>\n",
       "      <td>아동용</td>\n",
       "      <td>푸퍼</td>\n",
       "      <td>부츠</td>\n",
       "      <td>3HM01158F</td>\n",
       "    </tr>\n",
       "    <tr>\n",
       "      <th>1</th>\n",
       "      <td>출산/유아동</td>\n",
       "      <td>유아동패션</td>\n",
       "      <td>http://www.coupang.com/np/categories/508565?pa...</td>\n",
       "      <td>민트스쿨 남아 여아 아동 네오프렌 수영복 다이빙수트 웻수트</td>\n",
       "      <td>http://www.coupang.com/vp/products/7188787135?...</td>\n",
       "      <td>187</td>\n",
       "      <td>4.5</td>\n",
       "      <td>민트스쿨 남아 여아 아동 네오프렌 수영복 다이빙수트 웻수트</td>\n",
       "      <td>민트스쿨</td>\n",
       "      <td>남아</td>\n",
       "      <td>여아</td>\n",
       "      <td>아동</td>\n",
       "      <td>네오프렌</td>\n",
       "    </tr>\n",
       "    <tr>\n",
       "      <th>2</th>\n",
       "      <td>출산/유아동</td>\n",
       "      <td>유아동패션</td>\n",
       "      <td>http://www.coupang.com/np/categories/508565?pa...</td>\n",
       "      <td>산리오 아동용 CH 쿠로미 윈터 방한부츠</td>\n",
       "      <td>http://www.coupang.com/vp/products/7684694458?...</td>\n",
       "      <td>38</td>\n",
       "      <td>5.0</td>\n",
       "      <td>산리오 아동용 CH 쿠로미 윈터 방한부츠</td>\n",
       "      <td>산리오</td>\n",
       "      <td>아동용</td>\n",
       "      <td>CH</td>\n",
       "      <td>쿠로미</td>\n",
       "      <td>윈터</td>\n",
       "    </tr>\n",
       "    <tr>\n",
       "      <th>3</th>\n",
       "      <td>출산/유아동</td>\n",
       "      <td>유아동패션</td>\n",
       "      <td>http://www.coupang.com/np/categories/508565?pa...</td>\n",
       "      <td>마미트리 아동용 RW마스터 방한부츠</td>\n",
       "      <td>http://www.coupang.com/vp/products/330109285?i...</td>\n",
       "      <td>370</td>\n",
       "      <td>4.5</td>\n",
       "      <td>마미트리 아동용 RW마스터 방한부츠</td>\n",
       "      <td>마미트리</td>\n",
       "      <td>아동용</td>\n",
       "      <td>RW마스터</td>\n",
       "      <td>방한부츠</td>\n",
       "      <td>NaN</td>\n",
       "    </tr>\n",
       "    <tr>\n",
       "      <th>4</th>\n",
       "      <td>출산/유아동</td>\n",
       "      <td>유아동패션</td>\n",
       "      <td>http://www.coupang.com/np/categories/508565?pa...</td>\n",
       "      <td>코코릭 유아동 와이드렌즈 물안경, 큐브 핑크민트</td>\n",
       "      <td>http://www.coupang.com/vp/products/1593283444?...</td>\n",
       "      <td>4261</td>\n",
       "      <td>5.0</td>\n",
       "      <td>코코릭 유아동 와이드렌즈 물안경  큐브 핑크민트</td>\n",
       "      <td>코코릭</td>\n",
       "      <td>유아동</td>\n",
       "      <td>와이드렌즈</td>\n",
       "      <td>물안경</td>\n",
       "      <td></td>\n",
       "    </tr>\n",
       "    <tr>\n",
       "      <th>...</th>\n",
       "      <td>...</td>\n",
       "      <td>...</td>\n",
       "      <td>...</td>\n",
       "      <td>...</td>\n",
       "      <td>...</td>\n",
       "      <td>...</td>\n",
       "      <td>...</td>\n",
       "      <td>...</td>\n",
       "      <td>...</td>\n",
       "      <td>...</td>\n",
       "      <td>...</td>\n",
       "      <td>...</td>\n",
       "      <td>...</td>\n",
       "    </tr>\n",
       "    <tr>\n",
       "      <th>12623</th>\n",
       "      <td>완구/취미</td>\n",
       "      <td>프라모델</td>\n",
       "      <td>http://www.coupang.com/np/categories/332492?pa...</td>\n",
       "      <td>반다이 포켓몬스터프라콜렉션 No.54 셀렉트 시리즈 그란돈</td>\n",
       "      <td>http://www.coupang.com/vp/products/7793994126?...</td>\n",
       "      <td>2</td>\n",
       "      <td>5.0</td>\n",
       "      <td>반다이 포켓몬스터프라콜렉션 No 54 셀렉트 시리즈 그란돈</td>\n",
       "      <td>반다이</td>\n",
       "      <td>포켓몬스터프라콜렉션</td>\n",
       "      <td>No</td>\n",
       "      <td>54</td>\n",
       "      <td>셀렉트</td>\n",
       "    </tr>\n",
       "    <tr>\n",
       "      <th>12624</th>\n",
       "      <td>완구/취미</td>\n",
       "      <td>프라모델</td>\n",
       "      <td>http://www.coupang.com/np/categories/332492?pa...</td>\n",
       "      <td>반다이 RG 즈고크 샤아 전용기 프라모델, 1개</td>\n",
       "      <td>http://www.coupang.com/vp/products/6566440794?...</td>\n",
       "      <td>255</td>\n",
       "      <td>4.5</td>\n",
       "      <td>반다이 RG 즈고크 샤아 전용기 프라모델  1개</td>\n",
       "      <td>반다이</td>\n",
       "      <td>RG</td>\n",
       "      <td>즈고크</td>\n",
       "      <td>샤아</td>\n",
       "      <td>전용기</td>\n",
       "    </tr>\n",
       "    <tr>\n",
       "      <th>12626</th>\n",
       "      <td>완구/취미</td>\n",
       "      <td>프라모델</td>\n",
       "      <td>http://www.coupang.com/np/categories/332492?pa...</td>\n",
       "      <td>반다이 기계전대 젠카이쟈 미니프라 전계합체 시리즈01 젠카이오 쥬라가온 전5종 세트</td>\n",
       "      <td>http://www.coupang.com/vp/products/7147377526?...</td>\n",
       "      <td>5</td>\n",
       "      <td>5.0</td>\n",
       "      <td>반다이 기계전대 젠카이쟈 미니프라 전계합체 시리즈01 젠카이오 쥬라가온 전5종 세트</td>\n",
       "      <td>반다이</td>\n",
       "      <td>기계전대</td>\n",
       "      <td>젠카이쟈</td>\n",
       "      <td>미니프라</td>\n",
       "      <td>전계합체</td>\n",
       "    </tr>\n",
       "    <tr>\n",
       "      <th>12627</th>\n",
       "      <td>완구/취미</td>\n",
       "      <td>프라모델</td>\n",
       "      <td>http://www.coupang.com/np/categories/332492?pa...</td>\n",
       "      <td>아카데미과학 포니 수집품 124 피규어포함 현대자동차 프라모델 5WB77319, 1개</td>\n",
       "      <td>http://www.coupang.com/vp/products/4604590891?...</td>\n",
       "      <td>12</td>\n",
       "      <td>5.0</td>\n",
       "      <td>아카데미과학 포니 수집품 124 피규어포함 현대자동차 프라모델 5WB77319  1개</td>\n",
       "      <td>아카데미과학</td>\n",
       "      <td>포니</td>\n",
       "      <td>수집품</td>\n",
       "      <td>124</td>\n",
       "      <td>피규어포함</td>\n",
       "    </tr>\n",
       "    <tr>\n",
       "      <th>12628</th>\n",
       "      <td>완구/취미</td>\n",
       "      <td>프라모델</td>\n",
       "      <td>http://www.coupang.com/np/categories/332492?pa...</td>\n",
       "      <td>아카데미과학 엔터프라이즈 프라모델 전함 CV-6 14224, 1개</td>\n",
       "      <td>http://www.coupang.com/vp/products/42777026?it...</td>\n",
       "      <td>61</td>\n",
       "      <td>5.0</td>\n",
       "      <td>아카데미과학 엔터프라이즈 프라모델 전함 CV 6 14224  1개</td>\n",
       "      <td>아카데미과학</td>\n",
       "      <td>엔터프라이즈</td>\n",
       "      <td>프라모델</td>\n",
       "      <td>전함</td>\n",
       "      <td>CV</td>\n",
       "    </tr>\n",
       "  </tbody>\n",
       "</table>\n",
       "<p>4722 rows × 13 columns</p>\n",
       "</div>"
      ],
      "text/plain": [
       "        카테고리1   카테고리2                                           카테고리 url  \\\n",
       "0      출산/유아동  유아동패션   http://www.coupang.com/np/categories/508565?pa...   \n",
       "1      출산/유아동  유아동패션   http://www.coupang.com/np/categories/508565?pa...   \n",
       "2      출산/유아동  유아동패션   http://www.coupang.com/np/categories/508565?pa...   \n",
       "3      출산/유아동  유아동패션   http://www.coupang.com/np/categories/508565?pa...   \n",
       "4      출산/유아동  유아동패션   http://www.coupang.com/np/categories/508565?pa...   \n",
       "...       ...     ...                                                ...   \n",
       "12623   완구/취미   프라모델   http://www.coupang.com/np/categories/332492?pa...   \n",
       "12624   완구/취미   프라모델   http://www.coupang.com/np/categories/332492?pa...   \n",
       "12626   완구/취미   프라모델   http://www.coupang.com/np/categories/332492?pa...   \n",
       "12627   완구/취미   프라모델   http://www.coupang.com/np/categories/332492?pa...   \n",
       "12628   완구/취미   프라모델   http://www.coupang.com/np/categories/332492?pa...   \n",
       "\n",
       "                                                   제품명  \\\n",
       "0                               휠라 아동용 푸퍼 부츠 3HM01158F   \n",
       "1                     민트스쿨 남아 여아 아동 네오프렌 수영복 다이빙수트 웻수트   \n",
       "2                               산리오 아동용 CH 쿠로미 윈터 방한부츠   \n",
       "3                                  마미트리 아동용 RW마스터 방한부츠   \n",
       "4                           코코릭 유아동 와이드렌즈 물안경, 큐브 핑크민트   \n",
       "...                                                ...   \n",
       "12623                 반다이 포켓몬스터프라콜렉션 No.54 셀렉트 시리즈 그란돈   \n",
       "12624                       반다이 RG 즈고크 샤아 전용기 프라모델, 1개   \n",
       "12626   반다이 기계전대 젠카이쟈 미니프라 전계합체 시리즈01 젠카이오 쥬라가온 전5종 세트   \n",
       "12627  아카데미과학 포니 수집품 124 피규어포함 현대자동차 프라모델 5WB77319, 1개   \n",
       "12628             아카데미과학 엔터프라이즈 프라모델 전함 CV-6 14224, 1개   \n",
       "\n",
       "                                                  제품 url  리뷰 개수  상품 별점  \\\n",
       "0      http://www.coupang.com/vp/products/7614782467?...      4    5.0   \n",
       "1      http://www.coupang.com/vp/products/7188787135?...    187    4.5   \n",
       "2      http://www.coupang.com/vp/products/7684694458?...     38    5.0   \n",
       "3      http://www.coupang.com/vp/products/330109285?i...    370    4.5   \n",
       "4      http://www.coupang.com/vp/products/1593283444?...   4261    5.0   \n",
       "...                                                  ...    ...    ...   \n",
       "12623  http://www.coupang.com/vp/products/7793994126?...      2    5.0   \n",
       "12624  http://www.coupang.com/vp/products/6566440794?...    255    4.5   \n",
       "12626  http://www.coupang.com/vp/products/7147377526?...      5    5.0   \n",
       "12627  http://www.coupang.com/vp/products/4604590891?...     12    5.0   \n",
       "12628  http://www.coupang.com/vp/products/42777026?it...     61    5.0   \n",
       "\n",
       "                                                 제품명수정   First      Second  \\\n",
       "0                               휠라 아동용 푸퍼 부츠 3HM01158F      휠라         아동용   \n",
       "1                     민트스쿨 남아 여아 아동 네오프렌 수영복 다이빙수트 웻수트    민트스쿨          남아   \n",
       "2                               산리오 아동용 CH 쿠로미 윈터 방한부츠     산리오         아동용   \n",
       "3                                  마미트리 아동용 RW마스터 방한부츠    마미트리         아동용   \n",
       "4                           코코릭 유아동 와이드렌즈 물안경  큐브 핑크민트     코코릭         유아동   \n",
       "...                                                ...     ...         ...   \n",
       "12623                 반다이 포켓몬스터프라콜렉션 No 54 셀렉트 시리즈 그란돈     반다이  포켓몬스터프라콜렉션   \n",
       "12624                       반다이 RG 즈고크 샤아 전용기 프라모델  1개     반다이          RG   \n",
       "12626   반다이 기계전대 젠카이쟈 미니프라 전계합체 시리즈01 젠카이오 쥬라가온 전5종 세트     반다이        기계전대   \n",
       "12627  아카데미과학 포니 수집품 124 피규어포함 현대자동차 프라모델 5WB77319  1개  아카데미과학          포니   \n",
       "12628             아카데미과학 엔터프라이즈 프라모델 전함 CV 6 14224  1개  아카데미과학      엔터프라이즈   \n",
       "\n",
       "       Third Fourth      Fifth  \n",
       "0         푸퍼     부츠  3HM01158F  \n",
       "1         여아     아동       네오프렌  \n",
       "2         CH    쿠로미         윈터  \n",
       "3      RW마스터   방한부츠        NaN  \n",
       "4      와이드렌즈    물안경             \n",
       "...      ...    ...        ...  \n",
       "12623     No     54        셀렉트  \n",
       "12624    즈고크     샤아        전용기  \n",
       "12626   젠카이쟈   미니프라       전계합체  \n",
       "12627    수집품    124      피규어포함  \n",
       "12628   프라모델     전함         CV  \n",
       "\n",
       "[4722 rows x 13 columns]"
      ]
     },
     "execution_count": 111,
     "metadata": {},
     "output_type": "execute_result"
    }
   ],
   "source": [
    "data.drop_duplicates(['Fourth'], keep='first')"
   ]
  },
  {
   "cell_type": "code",
   "execution_count": null,
   "id": "4d37172d-49b1-48f8-bc35-45b2d84d2eaa",
   "metadata": {
    "id": "4d37172d-49b1-48f8-bc35-45b2d84d2eaa"
   },
   "outputs": [],
   "source": [
    "lst = data['제품명수정'].str.split().str[:4].str.join(\" \")"
   ]
  },
  {
   "cell_type": "code",
   "execution_count": null,
   "id": "e45c5726-9515-4d67-9a8b-d255ca7ffa6e",
   "metadata": {
    "id": "e45c5726-9515-4d67-9a8b-d255ca7ffa6e"
   },
   "outputs": [],
   "source": [
    "data['4단어'] = lst"
   ]
  },
  {
   "cell_type": "code",
   "execution_count": null,
   "id": "2a6cf800-bc0b-46eb-8f22-f40382f06760",
   "metadata": {
    "id": "2a6cf800-bc0b-46eb-8f22-f40382f06760",
    "outputId": "43f2e108-9f8a-4920-eff2-0d3964c9d450"
   },
   "outputs": [
    {
     "data": {
      "text/html": [
       "<div>\n",
       "<style scoped>\n",
       "    .dataframe tbody tr th:only-of-type {\n",
       "        vertical-align: middle;\n",
       "    }\n",
       "\n",
       "    .dataframe tbody tr th {\n",
       "        vertical-align: top;\n",
       "    }\n",
       "\n",
       "    .dataframe thead th {\n",
       "        text-align: right;\n",
       "    }\n",
       "</style>\n",
       "<table border=\"1\" class=\"dataframe\">\n",
       "  <thead>\n",
       "    <tr style=\"text-align: right;\">\n",
       "      <th></th>\n",
       "      <th>카테고리1</th>\n",
       "      <th>카테고리2</th>\n",
       "      <th>카테고리 url</th>\n",
       "      <th>제품명</th>\n",
       "      <th>제품 url</th>\n",
       "      <th>리뷰 개수</th>\n",
       "      <th>상품 별점</th>\n",
       "      <th>제품명수정</th>\n",
       "      <th>4단어</th>\n",
       "    </tr>\n",
       "  </thead>\n",
       "  <tbody>\n",
       "    <tr>\n",
       "      <th>12626</th>\n",
       "      <td>완구/취미</td>\n",
       "      <td>프라모델</td>\n",
       "      <td>http://www.coupang.com/np/categories/332492?pa...</td>\n",
       "      <td>반다이 기계전대 젠카이쟈 미니프라 전계합체 시리즈01 젠카이오 쥬라가온 전5종 세트</td>\n",
       "      <td>http://www.coupang.com/vp/products/7147377526?...</td>\n",
       "      <td>5</td>\n",
       "      <td>5.0</td>\n",
       "      <td>반다이 기계전대 젠카이쟈 미니프라 전계합체 시리즈01 젠카이오 쥬라가온 전5종 세트</td>\n",
       "      <td>반다이 기계전대 젠카이쟈 미니프라</td>\n",
       "    </tr>\n",
       "    <tr>\n",
       "      <th>12627</th>\n",
       "      <td>완구/취미</td>\n",
       "      <td>프라모델</td>\n",
       "      <td>http://www.coupang.com/np/categories/332492?pa...</td>\n",
       "      <td>아카데미과학 포니 수집품 124 피규어포함 현대자동차 프라모델 5WB77319, 1개</td>\n",
       "      <td>http://www.coupang.com/vp/products/4604590891?...</td>\n",
       "      <td>12</td>\n",
       "      <td>5.0</td>\n",
       "      <td>아카데미과학 포니 수집품 124 피규어포함 현대자동차 프라모델 5WB77319  1개</td>\n",
       "      <td>아카데미과학 포니 수집품 124</td>\n",
       "    </tr>\n",
       "    <tr>\n",
       "      <th>12628</th>\n",
       "      <td>완구/취미</td>\n",
       "      <td>프라모델</td>\n",
       "      <td>http://www.coupang.com/np/categories/332492?pa...</td>\n",
       "      <td>아카데미과학 엔터프라이즈 프라모델 전함 CV-6 14224, 1개</td>\n",
       "      <td>http://www.coupang.com/vp/products/42777026?it...</td>\n",
       "      <td>61</td>\n",
       "      <td>5.0</td>\n",
       "      <td>아카데미과학 엔터프라이즈 프라모델 전함 CV 6 14224  1개</td>\n",
       "      <td>아카데미과학 엔터프라이즈 프라모델 전함</td>\n",
       "    </tr>\n",
       "    <tr>\n",
       "      <th>12629</th>\n",
       "      <td>완구/취미</td>\n",
       "      <td>프라모델</td>\n",
       "      <td>http://www.coupang.com/np/categories/332492?pa...</td>\n",
       "      <td>초이락 헬로카봇 비트런1, 헬로카봇 비트런</td>\n",
       "      <td>http://www.coupang.com/vp/products/7140931355?...</td>\n",
       "      <td>65</td>\n",
       "      <td>5.0</td>\n",
       "      <td>초이락 헬로카봇 비트런1  헬로카봇 비트런</td>\n",
       "      <td>초이락 헬로카봇 비트런1 헬로카봇</td>\n",
       "    </tr>\n",
       "    <tr>\n",
       "      <th>12630</th>\n",
       "      <td>완구/취미</td>\n",
       "      <td>프라모델</td>\n",
       "      <td>http://www.coupang.com/np/categories/332492?pa...</td>\n",
       "      <td>반다이 라이즈 스탠다드 블랙 워그레이몬 피규어, 1개</td>\n",
       "      <td>http://www.coupang.com/vp/products/7590151789?...</td>\n",
       "      <td>369</td>\n",
       "      <td>4.5</td>\n",
       "      <td>반다이 라이즈 스탠다드 블랙 워그레이몬 피규어  1개</td>\n",
       "      <td>반다이 라이즈 스탠다드 블랙</td>\n",
       "    </tr>\n",
       "  </tbody>\n",
       "</table>\n",
       "</div>"
      ],
      "text/plain": [
       "       카테고리1  카테고리2                                           카테고리 url  \\\n",
       "12626  완구/취미  프라모델   http://www.coupang.com/np/categories/332492?pa...   \n",
       "12627  완구/취미  프라모델   http://www.coupang.com/np/categories/332492?pa...   \n",
       "12628  완구/취미  프라모델   http://www.coupang.com/np/categories/332492?pa...   \n",
       "12629  완구/취미  프라모델   http://www.coupang.com/np/categories/332492?pa...   \n",
       "12630  완구/취미  프라모델   http://www.coupang.com/np/categories/332492?pa...   \n",
       "\n",
       "                                                   제품명  \\\n",
       "12626   반다이 기계전대 젠카이쟈 미니프라 전계합체 시리즈01 젠카이오 쥬라가온 전5종 세트   \n",
       "12627  아카데미과학 포니 수집품 124 피규어포함 현대자동차 프라모델 5WB77319, 1개   \n",
       "12628             아카데미과학 엔터프라이즈 프라모델 전함 CV-6 14224, 1개   \n",
       "12629                          초이락 헬로카봇 비트런1, 헬로카봇 비트런   \n",
       "12630                    반다이 라이즈 스탠다드 블랙 워그레이몬 피규어, 1개   \n",
       "\n",
       "                                                  제품 url  리뷰 개수  상품 별점  \\\n",
       "12626  http://www.coupang.com/vp/products/7147377526?...      5    5.0   \n",
       "12627  http://www.coupang.com/vp/products/4604590891?...     12    5.0   \n",
       "12628  http://www.coupang.com/vp/products/42777026?it...     61    5.0   \n",
       "12629  http://www.coupang.com/vp/products/7140931355?...     65    5.0   \n",
       "12630  http://www.coupang.com/vp/products/7590151789?...    369    4.5   \n",
       "\n",
       "                                                 제품명수정                    4단어  \n",
       "12626   반다이 기계전대 젠카이쟈 미니프라 전계합체 시리즈01 젠카이오 쥬라가온 전5종 세트     반다이 기계전대 젠카이쟈 미니프라  \n",
       "12627  아카데미과학 포니 수집품 124 피규어포함 현대자동차 프라모델 5WB77319  1개      아카데미과학 포니 수집품 124  \n",
       "12628             아카데미과학 엔터프라이즈 프라모델 전함 CV 6 14224  1개  아카데미과학 엔터프라이즈 프라모델 전함  \n",
       "12629                          초이락 헬로카봇 비트런1  헬로카봇 비트런     초이락 헬로카봇 비트런1 헬로카봇  \n",
       "12630                    반다이 라이즈 스탠다드 블랙 워그레이몬 피규어  1개        반다이 라이즈 스탠다드 블랙  "
      ]
     },
     "execution_count": 154,
     "metadata": {},
     "output_type": "execute_result"
    }
   ],
   "source": [
    "data.tail()"
   ]
  },
  {
   "cell_type": "code",
   "execution_count": null,
   "id": "6f65619b-412c-41fa-9c39-03bc8f927109",
   "metadata": {
    "id": "6f65619b-412c-41fa-9c39-03bc8f927109"
   },
   "outputs": [],
   "source": [
    "newdata_ver4 = data.drop_duplicates(['4단어'], keep='first')"
   ]
  },
  {
   "cell_type": "code",
   "execution_count": null,
   "id": "11875ed2-71f0-4482-a225-72543c757aa3",
   "metadata": {
    "id": "11875ed2-71f0-4482-a225-72543c757aa3",
    "outputId": "c7976294-0152-4717-8c85-2cc03bac44f2"
   },
   "outputs": [
    {
     "name": "stdout",
     "output_type": "stream",
     "text": [
      "<class 'pandas.core.frame.DataFrame'>\n",
      "Index: 9454 entries, 0 to 12630\n",
      "Data columns (total 9 columns):\n",
      " #   Column    Non-Null Count  Dtype  \n",
      "---  ------    --------------  -----  \n",
      " 0   카테고리1     9454 non-null   object \n",
      " 1   카테고리2     9454 non-null   object \n",
      " 2   카테고리 url  9454 non-null   object \n",
      " 3   제품명       9454 non-null   object \n",
      " 4   제품 url    9454 non-null   object \n",
      " 5   리뷰 개수     9454 non-null   int64  \n",
      " 6   상품 별점     9454 non-null   float64\n",
      " 7   제품명수정     9454 non-null   object \n",
      " 8   4단어       9454 non-null   object \n",
      "dtypes: float64(1), int64(1), object(7)\n",
      "memory usage: 738.6+ KB\n"
     ]
    }
   ],
   "source": [
    "newdata_ver4.info()"
   ]
  },
  {
   "cell_type": "code",
   "execution_count": null,
   "id": "47e1b825-8df7-4a72-b107-672f5df59f8b",
   "metadata": {
    "id": "47e1b825-8df7-4a72-b107-672f5df59f8b"
   },
   "outputs": [],
   "source": [
    "newdata_ver4.to_csv('./data/newdata_ver4.csv', index=False)"
   ]
  },
  {
   "cell_type": "code",
   "execution_count": null,
   "id": "7d5e9d8d-4355-4042-af90-39d2f2028aa1",
   "metadata": {
    "id": "7d5e9d8d-4355-4042-af90-39d2f2028aa1"
   },
   "outputs": [],
   "source": [
    "lst = data['제품명수정'].str.split().str[:3].str.join(\" \")"
   ]
  },
  {
   "cell_type": "code",
   "execution_count": null,
   "id": "946c23fa-c477-45ae-9315-a7aea10d9585",
   "metadata": {
    "id": "946c23fa-c477-45ae-9315-a7aea10d9585"
   },
   "outputs": [],
   "source": [
    "data['3단어'] = lst"
   ]
  },
  {
   "cell_type": "code",
   "execution_count": null,
   "id": "4bcf010c-e0ac-4600-9fee-00db540a9fbc",
   "metadata": {
    "id": "4bcf010c-e0ac-4600-9fee-00db540a9fbc",
    "outputId": "7238e4ba-372b-4121-dd75-b682e90d2c9d"
   },
   "outputs": [
    {
     "data": {
      "text/html": [
       "<div>\n",
       "<style scoped>\n",
       "    .dataframe tbody tr th:only-of-type {\n",
       "        vertical-align: middle;\n",
       "    }\n",
       "\n",
       "    .dataframe tbody tr th {\n",
       "        vertical-align: top;\n",
       "    }\n",
       "\n",
       "    .dataframe thead th {\n",
       "        text-align: right;\n",
       "    }\n",
       "</style>\n",
       "<table border=\"1\" class=\"dataframe\">\n",
       "  <thead>\n",
       "    <tr style=\"text-align: right;\">\n",
       "      <th></th>\n",
       "      <th>카테고리1</th>\n",
       "      <th>카테고리2</th>\n",
       "      <th>카테고리 url</th>\n",
       "      <th>제품명</th>\n",
       "      <th>제품 url</th>\n",
       "      <th>리뷰 개수</th>\n",
       "      <th>상품 별점</th>\n",
       "      <th>제품명수정</th>\n",
       "      <th>3단어</th>\n",
       "    </tr>\n",
       "  </thead>\n",
       "  <tbody>\n",
       "    <tr>\n",
       "      <th>12626</th>\n",
       "      <td>완구/취미</td>\n",
       "      <td>프라모델</td>\n",
       "      <td>http://www.coupang.com/np/categories/332492?pa...</td>\n",
       "      <td>반다이 기계전대 젠카이쟈 미니프라 전계합체 시리즈01 젠카이오 쥬라가온 전5종 세트</td>\n",
       "      <td>http://www.coupang.com/vp/products/7147377526?...</td>\n",
       "      <td>5</td>\n",
       "      <td>5.0</td>\n",
       "      <td>반다이 기계전대 젠카이쟈 미니프라 전계합체 시리즈01 젠카이오 쥬라가온 전5종 세트</td>\n",
       "      <td>반다이 기계전대 젠카이쟈</td>\n",
       "    </tr>\n",
       "    <tr>\n",
       "      <th>12627</th>\n",
       "      <td>완구/취미</td>\n",
       "      <td>프라모델</td>\n",
       "      <td>http://www.coupang.com/np/categories/332492?pa...</td>\n",
       "      <td>아카데미과학 포니 수집품 124 피규어포함 현대자동차 프라모델 5WB77319, 1개</td>\n",
       "      <td>http://www.coupang.com/vp/products/4604590891?...</td>\n",
       "      <td>12</td>\n",
       "      <td>5.0</td>\n",
       "      <td>아카데미과학 포니 수집품 124 피규어포함 현대자동차 프라모델 5WB77319  1개</td>\n",
       "      <td>아카데미과학 포니 수집품</td>\n",
       "    </tr>\n",
       "    <tr>\n",
       "      <th>12628</th>\n",
       "      <td>완구/취미</td>\n",
       "      <td>프라모델</td>\n",
       "      <td>http://www.coupang.com/np/categories/332492?pa...</td>\n",
       "      <td>아카데미과학 엔터프라이즈 프라모델 전함 CV-6 14224, 1개</td>\n",
       "      <td>http://www.coupang.com/vp/products/42777026?it...</td>\n",
       "      <td>61</td>\n",
       "      <td>5.0</td>\n",
       "      <td>아카데미과학 엔터프라이즈 프라모델 전함 CV 6 14224  1개</td>\n",
       "      <td>아카데미과학 엔터프라이즈 프라모델</td>\n",
       "    </tr>\n",
       "    <tr>\n",
       "      <th>12629</th>\n",
       "      <td>완구/취미</td>\n",
       "      <td>프라모델</td>\n",
       "      <td>http://www.coupang.com/np/categories/332492?pa...</td>\n",
       "      <td>초이락 헬로카봇 비트런1, 헬로카봇 비트런</td>\n",
       "      <td>http://www.coupang.com/vp/products/7140931355?...</td>\n",
       "      <td>65</td>\n",
       "      <td>5.0</td>\n",
       "      <td>초이락 헬로카봇 비트런1  헬로카봇 비트런</td>\n",
       "      <td>초이락 헬로카봇 비트런1</td>\n",
       "    </tr>\n",
       "    <tr>\n",
       "      <th>12630</th>\n",
       "      <td>완구/취미</td>\n",
       "      <td>프라모델</td>\n",
       "      <td>http://www.coupang.com/np/categories/332492?pa...</td>\n",
       "      <td>반다이 라이즈 스탠다드 블랙 워그레이몬 피규어, 1개</td>\n",
       "      <td>http://www.coupang.com/vp/products/7590151789?...</td>\n",
       "      <td>369</td>\n",
       "      <td>4.5</td>\n",
       "      <td>반다이 라이즈 스탠다드 블랙 워그레이몬 피규어  1개</td>\n",
       "      <td>반다이 라이즈 스탠다드</td>\n",
       "    </tr>\n",
       "  </tbody>\n",
       "</table>\n",
       "</div>"
      ],
      "text/plain": [
       "       카테고리1  카테고리2                                           카테고리 url  \\\n",
       "12626  완구/취미  프라모델   http://www.coupang.com/np/categories/332492?pa...   \n",
       "12627  완구/취미  프라모델   http://www.coupang.com/np/categories/332492?pa...   \n",
       "12628  완구/취미  프라모델   http://www.coupang.com/np/categories/332492?pa...   \n",
       "12629  완구/취미  프라모델   http://www.coupang.com/np/categories/332492?pa...   \n",
       "12630  완구/취미  프라모델   http://www.coupang.com/np/categories/332492?pa...   \n",
       "\n",
       "                                                   제품명  \\\n",
       "12626   반다이 기계전대 젠카이쟈 미니프라 전계합체 시리즈01 젠카이오 쥬라가온 전5종 세트   \n",
       "12627  아카데미과학 포니 수집품 124 피규어포함 현대자동차 프라모델 5WB77319, 1개   \n",
       "12628             아카데미과학 엔터프라이즈 프라모델 전함 CV-6 14224, 1개   \n",
       "12629                          초이락 헬로카봇 비트런1, 헬로카봇 비트런   \n",
       "12630                    반다이 라이즈 스탠다드 블랙 워그레이몬 피규어, 1개   \n",
       "\n",
       "                                                  제품 url  리뷰 개수  상품 별점  \\\n",
       "12626  http://www.coupang.com/vp/products/7147377526?...      5    5.0   \n",
       "12627  http://www.coupang.com/vp/products/4604590891?...     12    5.0   \n",
       "12628  http://www.coupang.com/vp/products/42777026?it...     61    5.0   \n",
       "12629  http://www.coupang.com/vp/products/7140931355?...     65    5.0   \n",
       "12630  http://www.coupang.com/vp/products/7590151789?...    369    4.5   \n",
       "\n",
       "                                                 제품명수정                 3단어  \n",
       "12626   반다이 기계전대 젠카이쟈 미니프라 전계합체 시리즈01 젠카이오 쥬라가온 전5종 세트       반다이 기계전대 젠카이쟈  \n",
       "12627  아카데미과학 포니 수집품 124 피규어포함 현대자동차 프라모델 5WB77319  1개       아카데미과학 포니 수집품  \n",
       "12628             아카데미과학 엔터프라이즈 프라모델 전함 CV 6 14224  1개  아카데미과학 엔터프라이즈 프라모델  \n",
       "12629                          초이락 헬로카봇 비트런1  헬로카봇 비트런       초이락 헬로카봇 비트런1  \n",
       "12630                    반다이 라이즈 스탠다드 블랙 워그레이몬 피규어  1개        반다이 라이즈 스탠다드  "
      ]
     },
     "execution_count": 162,
     "metadata": {},
     "output_type": "execute_result"
    }
   ],
   "source": [
    "data.tail()"
   ]
  },
  {
   "cell_type": "code",
   "execution_count": null,
   "id": "e9dca136-736c-4b06-a419-a7e639ecec36",
   "metadata": {
    "id": "e9dca136-736c-4b06-a419-a7e639ecec36"
   },
   "outputs": [],
   "source": [
    "newdata_ver3 = data.drop_duplicates(['3단어'], keep='first')"
   ]
  },
  {
   "cell_type": "code",
   "execution_count": null,
   "id": "9a5e7d43-6f73-49f9-8dba-96ac5ca89faa",
   "metadata": {
    "id": "9a5e7d43-6f73-49f9-8dba-96ac5ca89faa",
    "outputId": "eae9cac4-0153-4bc7-833a-d67225462315"
   },
   "outputs": [
    {
     "name": "stdout",
     "output_type": "stream",
     "text": [
      "<class 'pandas.core.frame.DataFrame'>\n",
      "Index: 9055 entries, 0 to 12630\n",
      "Data columns (total 9 columns):\n",
      " #   Column    Non-Null Count  Dtype  \n",
      "---  ------    --------------  -----  \n",
      " 0   카테고리1     9055 non-null   object \n",
      " 1   카테고리2     9055 non-null   object \n",
      " 2   카테고리 url  9055 non-null   object \n",
      " 3   제품명       9055 non-null   object \n",
      " 4   제품 url    9055 non-null   object \n",
      " 5   리뷰 개수     9055 non-null   int64  \n",
      " 6   상품 별점     9055 non-null   float64\n",
      " 7   제품명수정     9055 non-null   object \n",
      " 8   3단어       9055 non-null   object \n",
      "dtypes: float64(1), int64(1), object(7)\n",
      "memory usage: 707.4+ KB\n"
     ]
    }
   ],
   "source": [
    "newdata_ver3.info()"
   ]
  },
  {
   "cell_type": "code",
   "execution_count": null,
   "id": "6feca166-1cb3-47e4-99fe-4e0e7e094fbe",
   "metadata": {
    "id": "6feca166-1cb3-47e4-99fe-4e0e7e094fbe"
   },
   "outputs": [],
   "source": [
    "newdata_ver3.to_csv('./data/newdata_ver3.csv', index=False)"
   ]
  },
  {
   "cell_type": "code",
   "execution_count": null,
   "id": "b33f1b03-f56d-49fd-a10a-74fcca87f25b",
   "metadata": {
    "id": "b33f1b03-f56d-49fd-a10a-74fcca87f25b"
   },
   "outputs": [],
   "source": [
    "lst = data['제품명수정'].str.split().str[:2].str.join(\" \")"
   ]
  },
  {
   "cell_type": "code",
   "execution_count": null,
   "id": "f5039fd3-8383-4a12-ab93-915bf945e87b",
   "metadata": {
    "id": "f5039fd3-8383-4a12-ab93-915bf945e87b"
   },
   "outputs": [],
   "source": [
    "data['2단어'] = lst"
   ]
  },
  {
   "cell_type": "code",
   "execution_count": null,
   "id": "af896d3b-2957-483e-9408-f65d00e29e69",
   "metadata": {
    "id": "af896d3b-2957-483e-9408-f65d00e29e69"
   },
   "outputs": [],
   "source": [
    "newdata_ver2 = data.drop_duplicates(['2단어'], keep='first')"
   ]
  },
  {
   "cell_type": "code",
   "execution_count": null,
   "id": "49cf71f4-8923-48d0-939a-c004ffa720da",
   "metadata": {
    "id": "49cf71f4-8923-48d0-939a-c004ffa720da",
    "outputId": "a780b745-4723-4481-a7a2-e760f4f30983"
   },
   "outputs": [
    {
     "name": "stdout",
     "output_type": "stream",
     "text": [
      "<class 'pandas.core.frame.DataFrame'>\n",
      "Index: 8167 entries, 0 to 12630\n",
      "Data columns (total 9 columns):\n",
      " #   Column    Non-Null Count  Dtype  \n",
      "---  ------    --------------  -----  \n",
      " 0   카테고리1     8167 non-null   object \n",
      " 1   카테고리2     8167 non-null   object \n",
      " 2   카테고리 url  8167 non-null   object \n",
      " 3   제품명       8167 non-null   object \n",
      " 4   제품 url    8167 non-null   object \n",
      " 5   리뷰 개수     8167 non-null   int64  \n",
      " 6   상품 별점     8167 non-null   float64\n",
      " 7   제품명수정     8167 non-null   object \n",
      " 8   2단어       8167 non-null   object \n",
      "dtypes: float64(1), int64(1), object(7)\n",
      "memory usage: 638.0+ KB\n"
     ]
    }
   ],
   "source": [
    "newdata_ver2.info()"
   ]
  },
  {
   "cell_type": "code",
   "execution_count": null,
   "id": "7cdd97ce-6d32-4a3c-becb-29671a308dd7",
   "metadata": {
    "id": "7cdd97ce-6d32-4a3c-becb-29671a308dd7"
   },
   "outputs": [],
   "source": [
    "newdata_ver2.to_csv('./data/newdata_ver2.csv', index=False)"
   ]
  },
  {
   "cell_type": "code",
   "execution_count": 16,
   "id": "a1a98673-0cdb-4bf4-9a06-5caadec093a3",
   "metadata": {},
   "outputs": [
    {
     "data": {
      "text/html": [
       "<div>\n",
       "<style scoped>\n",
       "    .dataframe tbody tr th:only-of-type {\n",
       "        vertical-align: middle;\n",
       "    }\n",
       "\n",
       "    .dataframe tbody tr th {\n",
       "        vertical-align: top;\n",
       "    }\n",
       "\n",
       "    .dataframe thead th {\n",
       "        text-align: right;\n",
       "    }\n",
       "</style>\n",
       "<table border=\"1\" class=\"dataframe\">\n",
       "  <thead>\n",
       "    <tr style=\"text-align: right;\">\n",
       "      <th></th>\n",
       "      <th>카테고리1</th>\n",
       "      <th>카테고리2</th>\n",
       "      <th>카테고리 url</th>\n",
       "      <th>제품명</th>\n",
       "      <th>제품 url</th>\n",
       "      <th>리뷰 개수</th>\n",
       "      <th>상품 별점</th>\n",
       "    </tr>\n",
       "  </thead>\n",
       "  <tbody>\n",
       "    <tr>\n",
       "      <th>0</th>\n",
       "      <td>식품</td>\n",
       "      <td>유기농/친환경 전문관</td>\n",
       "      <td>http://www.coupang.com/np/campaigns/10076?page=1</td>\n",
       "      <td>동원홈푸드 유기농 인증 소고기 다짐육 (냉장), 200g, 2개</td>\n",
       "      <td>http://www.coupang.com/vp/products/6903058843?...</td>\n",
       "      <td>739</td>\n",
       "      <td>4.5</td>\n",
       "    </tr>\n",
       "    <tr>\n",
       "      <th>1</th>\n",
       "      <td>식품</td>\n",
       "      <td>유기농/친환경 전문관</td>\n",
       "      <td>http://www.coupang.com/np/campaigns/10076?page=1</td>\n",
       "      <td>동물복지목장 유기농 목초우유, 750ml, 2개</td>\n",
       "      <td>http://www.coupang.com/vp/products/5715337840?...</td>\n",
       "      <td>1548</td>\n",
       "      <td>5.0</td>\n",
       "    </tr>\n",
       "    <tr>\n",
       "      <th>2</th>\n",
       "      <td>식품</td>\n",
       "      <td>유기농/친환경 전문관</td>\n",
       "      <td>http://www.coupang.com/np/campaigns/10076?page=1</td>\n",
       "      <td>백미당 동물복지 인증 유기농 우유, 750ml, 3개</td>\n",
       "      <td>http://www.coupang.com/vp/products/7178841331?...</td>\n",
       "      <td>2155</td>\n",
       "      <td>5.0</td>\n",
       "    </tr>\n",
       "    <tr>\n",
       "      <th>3</th>\n",
       "      <td>식품</td>\n",
       "      <td>유기농/친환경 전문관</td>\n",
       "      <td>http://www.coupang.com/np/campaigns/10076?page=1</td>\n",
       "      <td>유가원 유기농 구운 아몬드, 340g, 1개</td>\n",
       "      <td>http://www.coupang.com/vp/products/401762?item...</td>\n",
       "      <td>433</td>\n",
       "      <td>5.0</td>\n",
       "    </tr>\n",
       "    <tr>\n",
       "      <th>4</th>\n",
       "      <td>식품</td>\n",
       "      <td>유기농/친환경 전문관</td>\n",
       "      <td>http://www.coupang.com/np/campaigns/10076?page=1</td>\n",
       "      <td>프레시밀 샤브샤브재료 밀키트, 880g, 2팩</td>\n",
       "      <td>http://www.coupang.com/vp/products/267253959?i...</td>\n",
       "      <td>12943</td>\n",
       "      <td>5.0</td>\n",
       "    </tr>\n",
       "  </tbody>\n",
       "</table>\n",
       "</div>"
      ],
      "text/plain": [
       "  카테고리1         카테고리2                                          카테고리 url  \\\n",
       "0    식품  유기농/친환경 전문관   http://www.coupang.com/np/campaigns/10076?page=1   \n",
       "1    식품  유기농/친환경 전문관   http://www.coupang.com/np/campaigns/10076?page=1   \n",
       "2    식품  유기농/친환경 전문관   http://www.coupang.com/np/campaigns/10076?page=1   \n",
       "3    식품  유기농/친환경 전문관   http://www.coupang.com/np/campaigns/10076?page=1   \n",
       "4    식품  유기농/친환경 전문관   http://www.coupang.com/np/campaigns/10076?page=1   \n",
       "\n",
       "                                   제품명  \\\n",
       "0  동원홈푸드 유기농 인증 소고기 다짐육 (냉장), 200g, 2개   \n",
       "1           동물복지목장 유기농 목초우유, 750ml, 2개   \n",
       "2        백미당 동물복지 인증 유기농 우유, 750ml, 3개   \n",
       "3             유가원 유기농 구운 아몬드, 340g, 1개   \n",
       "4            프레시밀 샤브샤브재료 밀키트, 880g, 2팩   \n",
       "\n",
       "                                              제품 url  리뷰 개수  상품 별점  \n",
       "0  http://www.coupang.com/vp/products/6903058843?...    739    4.5  \n",
       "1  http://www.coupang.com/vp/products/5715337840?...   1548    5.0  \n",
       "2  http://www.coupang.com/vp/products/7178841331?...   2155    5.0  \n",
       "3  http://www.coupang.com/vp/products/401762?item...    433    5.0  \n",
       "4  http://www.coupang.com/vp/products/267253959?i...  12943    5.0  "
      ]
     },
     "execution_count": 16,
     "metadata": {},
     "output_type": "execute_result"
    }
   ],
   "source": [
    "data = pd.read_csv('../json_csv_files/reduced_products/food_products.csv', encoding = 'utf-8', low_memory=False)\n",
    "data.head()"
   ]
  },
  {
   "cell_type": "code",
   "execution_count": 17,
   "id": "e0fef50b-0489-499a-86a5-1643eb11fe95",
   "metadata": {
    "id": "e0fef50b-0489-499a-86a5-1643eb11fe95"
   },
   "outputs": [],
   "source": [
    "urllst = data['제품 url'].str.split('/').str[5]"
   ]
  },
  {
   "cell_type": "code",
   "execution_count": 18,
   "id": "dd9c76b6-b037-4725-92e7-1800e94e5f85",
   "metadata": {
    "id": "dd9c76b6-b037-4725-92e7-1800e94e5f85"
   },
   "outputs": [],
   "source": [
    "data['url1'] = urllst"
   ]
  },
  {
   "cell_type": "code",
   "execution_count": 19,
   "id": "46486846-9664-4d46-b7a3-9f4e0d7697dd",
   "metadata": {
    "id": "46486846-9664-4d46-b7a3-9f4e0d7697dd",
    "outputId": "d40ea22b-dbd7-423e-d0a5-de2bdbb11cd5"
   },
   "outputs": [
    {
     "data": {
      "text/html": [
       "<div>\n",
       "<style scoped>\n",
       "    .dataframe tbody tr th:only-of-type {\n",
       "        vertical-align: middle;\n",
       "    }\n",
       "\n",
       "    .dataframe tbody tr th {\n",
       "        vertical-align: top;\n",
       "    }\n",
       "\n",
       "    .dataframe thead th {\n",
       "        text-align: right;\n",
       "    }\n",
       "</style>\n",
       "<table border=\"1\" class=\"dataframe\">\n",
       "  <thead>\n",
       "    <tr style=\"text-align: right;\">\n",
       "      <th></th>\n",
       "      <th>카테고리1</th>\n",
       "      <th>카테고리2</th>\n",
       "      <th>카테고리 url</th>\n",
       "      <th>제품명</th>\n",
       "      <th>제품 url</th>\n",
       "      <th>리뷰 개수</th>\n",
       "      <th>상품 별점</th>\n",
       "      <th>url1</th>\n",
       "    </tr>\n",
       "  </thead>\n",
       "  <tbody>\n",
       "    <tr>\n",
       "      <th>955</th>\n",
       "      <td>식품</td>\n",
       "      <td>건강식품</td>\n",
       "      <td>http://www.coupang.com/np/categories/196076?pa...</td>\n",
       "      <td>올즙 올바른 도라지배스틱, 1개, 750ml</td>\n",
       "      <td>http://www.coupang.com/vp/products/1132782838?...</td>\n",
       "      <td>3653</td>\n",
       "      <td>5.0</td>\n",
       "      <td>1132782838?itemId=2101441427&amp;vendorItemId=7010...</td>\n",
       "    </tr>\n",
       "    <tr>\n",
       "      <th>956</th>\n",
       "      <td>식품</td>\n",
       "      <td>건강식품</td>\n",
       "      <td>http://www.coupang.com/np/categories/196076?pa...</td>\n",
       "      <td>유기농마루 갈아만든 ABC 주스, 100ml, 50개</td>\n",
       "      <td>http://www.coupang.com/vp/products/5286468666?...</td>\n",
       "      <td>8556</td>\n",
       "      <td>5.0</td>\n",
       "      <td>5286468666?itemId=3517392723&amp;vendorItemId=8074...</td>\n",
       "    </tr>\n",
       "    <tr>\n",
       "      <th>957</th>\n",
       "      <td>식품</td>\n",
       "      <td>건강식품</td>\n",
       "      <td>http://www.coupang.com/np/categories/196076?pa...</td>\n",
       "      <td>비에날씬 프로 다이어트 유산균 김희선유산균 30캡슐, 30정, 1개</td>\n",
       "      <td>http://www.coupang.com/vp/products/6061251650?...</td>\n",
       "      <td>4555</td>\n",
       "      <td>4.5</td>\n",
       "      <td>6061251650?itemId=19132787990&amp;vendorItemId=880...</td>\n",
       "    </tr>\n",
       "    <tr>\n",
       "      <th>958</th>\n",
       "      <td>식품</td>\n",
       "      <td>건강식품</td>\n",
       "      <td>http://www.coupang.com/np/categories/196076?pa...</td>\n",
       "      <td>피토틱스 콜린 이노시톨 60p, 150g, 1개</td>\n",
       "      <td>http://www.coupang.com/vp/products/6139270733?...</td>\n",
       "      <td>2561</td>\n",
       "      <td>5.0</td>\n",
       "      <td>6139270733?itemId=11763169940&amp;vendorItemId=790...</td>\n",
       "    </tr>\n",
       "    <tr>\n",
       "      <th>959</th>\n",
       "      <td>식품</td>\n",
       "      <td>건강식품</td>\n",
       "      <td>http://www.coupang.com/np/categories/196076?pa...</td>\n",
       "      <td>루솔 진한 배도라지즙, 20개, 100ml</td>\n",
       "      <td>http://www.coupang.com/vp/products/1391879995?...</td>\n",
       "      <td>2591</td>\n",
       "      <td>5.0</td>\n",
       "      <td>1391879995?itemId=2427267389&amp;vendorItemId=7042...</td>\n",
       "    </tr>\n",
       "  </tbody>\n",
       "</table>\n",
       "</div>"
      ],
      "text/plain": [
       "    카테고리1  카테고리2                                           카테고리 url  \\\n",
       "955    식품  건강식품   http://www.coupang.com/np/categories/196076?pa...   \n",
       "956    식품  건강식품   http://www.coupang.com/np/categories/196076?pa...   \n",
       "957    식품  건강식품   http://www.coupang.com/np/categories/196076?pa...   \n",
       "958    식품  건강식품   http://www.coupang.com/np/categories/196076?pa...   \n",
       "959    식품  건강식품   http://www.coupang.com/np/categories/196076?pa...   \n",
       "\n",
       "                                       제품명  \\\n",
       "955               올즙 올바른 도라지배스틱, 1개, 750ml   \n",
       "956          유기농마루 갈아만든 ABC 주스, 100ml, 50개   \n",
       "957  비에날씬 프로 다이어트 유산균 김희선유산균 30캡슐, 30정, 1개   \n",
       "958             피토틱스 콜린 이노시톨 60p, 150g, 1개   \n",
       "959                루솔 진한 배도라지즙, 20개, 100ml   \n",
       "\n",
       "                                                제품 url  리뷰 개수  상품 별점  \\\n",
       "955  http://www.coupang.com/vp/products/1132782838?...   3653    5.0   \n",
       "956  http://www.coupang.com/vp/products/5286468666?...   8556    5.0   \n",
       "957  http://www.coupang.com/vp/products/6061251650?...   4555    4.5   \n",
       "958  http://www.coupang.com/vp/products/6139270733?...   2561    5.0   \n",
       "959  http://www.coupang.com/vp/products/1391879995?...   2591    5.0   \n",
       "\n",
       "                                                  url1  \n",
       "955  1132782838?itemId=2101441427&vendorItemId=7010...  \n",
       "956  5286468666?itemId=3517392723&vendorItemId=8074...  \n",
       "957  6061251650?itemId=19132787990&vendorItemId=880...  \n",
       "958  6139270733?itemId=11763169940&vendorItemId=790...  \n",
       "959  1391879995?itemId=2427267389&vendorItemId=7042...  "
      ]
     },
     "execution_count": 19,
     "metadata": {},
     "output_type": "execute_result"
    }
   ],
   "source": [
    "data.tail()"
   ]
  },
  {
   "cell_type": "code",
   "execution_count": 20,
   "id": "f1016c3f-6825-4495-b581-40cf6d75c44d",
   "metadata": {
    "id": "f1016c3f-6825-4495-b581-40cf6d75c44d"
   },
   "outputs": [],
   "source": [
    "urllst2 = data['url1'].str.split('?').str[0]"
   ]
  },
  {
   "cell_type": "code",
   "execution_count": 21,
   "id": "2a16c0e9-9f09-4fe9-9fa4-842bc0ccfb10",
   "metadata": {
    "id": "2a16c0e9-9f09-4fe9-9fa4-842bc0ccfb10"
   },
   "outputs": [],
   "source": [
    "data['url2'] = urllst2"
   ]
  },
  {
   "cell_type": "code",
   "execution_count": 22,
   "id": "1e542466-f2f1-4c30-81cb-3e2261953503",
   "metadata": {
    "id": "1e542466-f2f1-4c30-81cb-3e2261953503",
    "outputId": "59744dd7-1b5a-46ea-ae77-f8967e916747"
   },
   "outputs": [
    {
     "data": {
      "text/html": [
       "<div>\n",
       "<style scoped>\n",
       "    .dataframe tbody tr th:only-of-type {\n",
       "        vertical-align: middle;\n",
       "    }\n",
       "\n",
       "    .dataframe tbody tr th {\n",
       "        vertical-align: top;\n",
       "    }\n",
       "\n",
       "    .dataframe thead th {\n",
       "        text-align: right;\n",
       "    }\n",
       "</style>\n",
       "<table border=\"1\" class=\"dataframe\">\n",
       "  <thead>\n",
       "    <tr style=\"text-align: right;\">\n",
       "      <th></th>\n",
       "      <th>카테고리1</th>\n",
       "      <th>카테고리2</th>\n",
       "      <th>카테고리 url</th>\n",
       "      <th>제품명</th>\n",
       "      <th>제품 url</th>\n",
       "      <th>리뷰 개수</th>\n",
       "      <th>상품 별점</th>\n",
       "      <th>url1</th>\n",
       "      <th>url2</th>\n",
       "    </tr>\n",
       "  </thead>\n",
       "  <tbody>\n",
       "    <tr>\n",
       "      <th>955</th>\n",
       "      <td>식품</td>\n",
       "      <td>건강식품</td>\n",
       "      <td>http://www.coupang.com/np/categories/196076?pa...</td>\n",
       "      <td>올즙 올바른 도라지배스틱, 1개, 750ml</td>\n",
       "      <td>http://www.coupang.com/vp/products/1132782838?...</td>\n",
       "      <td>3653</td>\n",
       "      <td>5.0</td>\n",
       "      <td>1132782838?itemId=2101441427&amp;vendorItemId=7010...</td>\n",
       "      <td>1132782838</td>\n",
       "    </tr>\n",
       "    <tr>\n",
       "      <th>956</th>\n",
       "      <td>식품</td>\n",
       "      <td>건강식품</td>\n",
       "      <td>http://www.coupang.com/np/categories/196076?pa...</td>\n",
       "      <td>유기농마루 갈아만든 ABC 주스, 100ml, 50개</td>\n",
       "      <td>http://www.coupang.com/vp/products/5286468666?...</td>\n",
       "      <td>8556</td>\n",
       "      <td>5.0</td>\n",
       "      <td>5286468666?itemId=3517392723&amp;vendorItemId=8074...</td>\n",
       "      <td>5286468666</td>\n",
       "    </tr>\n",
       "    <tr>\n",
       "      <th>957</th>\n",
       "      <td>식품</td>\n",
       "      <td>건강식품</td>\n",
       "      <td>http://www.coupang.com/np/categories/196076?pa...</td>\n",
       "      <td>비에날씬 프로 다이어트 유산균 김희선유산균 30캡슐, 30정, 1개</td>\n",
       "      <td>http://www.coupang.com/vp/products/6061251650?...</td>\n",
       "      <td>4555</td>\n",
       "      <td>4.5</td>\n",
       "      <td>6061251650?itemId=19132787990&amp;vendorItemId=880...</td>\n",
       "      <td>6061251650</td>\n",
       "    </tr>\n",
       "    <tr>\n",
       "      <th>958</th>\n",
       "      <td>식품</td>\n",
       "      <td>건강식품</td>\n",
       "      <td>http://www.coupang.com/np/categories/196076?pa...</td>\n",
       "      <td>피토틱스 콜린 이노시톨 60p, 150g, 1개</td>\n",
       "      <td>http://www.coupang.com/vp/products/6139270733?...</td>\n",
       "      <td>2561</td>\n",
       "      <td>5.0</td>\n",
       "      <td>6139270733?itemId=11763169940&amp;vendorItemId=790...</td>\n",
       "      <td>6139270733</td>\n",
       "    </tr>\n",
       "    <tr>\n",
       "      <th>959</th>\n",
       "      <td>식품</td>\n",
       "      <td>건강식품</td>\n",
       "      <td>http://www.coupang.com/np/categories/196076?pa...</td>\n",
       "      <td>루솔 진한 배도라지즙, 20개, 100ml</td>\n",
       "      <td>http://www.coupang.com/vp/products/1391879995?...</td>\n",
       "      <td>2591</td>\n",
       "      <td>5.0</td>\n",
       "      <td>1391879995?itemId=2427267389&amp;vendorItemId=7042...</td>\n",
       "      <td>1391879995</td>\n",
       "    </tr>\n",
       "  </tbody>\n",
       "</table>\n",
       "</div>"
      ],
      "text/plain": [
       "    카테고리1  카테고리2                                           카테고리 url  \\\n",
       "955    식품  건강식품   http://www.coupang.com/np/categories/196076?pa...   \n",
       "956    식품  건강식품   http://www.coupang.com/np/categories/196076?pa...   \n",
       "957    식품  건강식품   http://www.coupang.com/np/categories/196076?pa...   \n",
       "958    식품  건강식품   http://www.coupang.com/np/categories/196076?pa...   \n",
       "959    식품  건강식품   http://www.coupang.com/np/categories/196076?pa...   \n",
       "\n",
       "                                       제품명  \\\n",
       "955               올즙 올바른 도라지배스틱, 1개, 750ml   \n",
       "956          유기농마루 갈아만든 ABC 주스, 100ml, 50개   \n",
       "957  비에날씬 프로 다이어트 유산균 김희선유산균 30캡슐, 30정, 1개   \n",
       "958             피토틱스 콜린 이노시톨 60p, 150g, 1개   \n",
       "959                루솔 진한 배도라지즙, 20개, 100ml   \n",
       "\n",
       "                                                제품 url  리뷰 개수  상품 별점  \\\n",
       "955  http://www.coupang.com/vp/products/1132782838?...   3653    5.0   \n",
       "956  http://www.coupang.com/vp/products/5286468666?...   8556    5.0   \n",
       "957  http://www.coupang.com/vp/products/6061251650?...   4555    4.5   \n",
       "958  http://www.coupang.com/vp/products/6139270733?...   2561    5.0   \n",
       "959  http://www.coupang.com/vp/products/1391879995?...   2591    5.0   \n",
       "\n",
       "                                                  url1        url2  \n",
       "955  1132782838?itemId=2101441427&vendorItemId=7010...  1132782838  \n",
       "956  5286468666?itemId=3517392723&vendorItemId=8074...  5286468666  \n",
       "957  6061251650?itemId=19132787990&vendorItemId=880...  6061251650  \n",
       "958  6139270733?itemId=11763169940&vendorItemId=790...  6139270733  \n",
       "959  1391879995?itemId=2427267389&vendorItemId=7042...  1391879995  "
      ]
     },
     "execution_count": 22,
     "metadata": {},
     "output_type": "execute_result"
    }
   ],
   "source": [
    "data.tail()"
   ]
  },
  {
   "cell_type": "code",
   "execution_count": 23,
   "id": "b7d4538b-ce3c-43e1-8478-2fcadf766973",
   "metadata": {
    "id": "b7d4538b-ce3c-43e1-8478-2fcadf766973"
   },
   "outputs": [],
   "source": [
    "data.drop(['url1'], axis = 1, inplace = True)"
   ]
  },
  {
   "cell_type": "code",
   "execution_count": 24,
   "id": "3930f2b0-5753-44c1-8443-4c9a5c52e208",
   "metadata": {
    "id": "3930f2b0-5753-44c1-8443-4c9a5c52e208",
    "outputId": "2db9284e-153d-4dd8-f536-1f53e58034e8"
   },
   "outputs": [
    {
     "data": {
      "text/html": [
       "<div>\n",
       "<style scoped>\n",
       "    .dataframe tbody tr th:only-of-type {\n",
       "        vertical-align: middle;\n",
       "    }\n",
       "\n",
       "    .dataframe tbody tr th {\n",
       "        vertical-align: top;\n",
       "    }\n",
       "\n",
       "    .dataframe thead th {\n",
       "        text-align: right;\n",
       "    }\n",
       "</style>\n",
       "<table border=\"1\" class=\"dataframe\">\n",
       "  <thead>\n",
       "    <tr style=\"text-align: right;\">\n",
       "      <th></th>\n",
       "      <th>카테고리1</th>\n",
       "      <th>카테고리2</th>\n",
       "      <th>카테고리 url</th>\n",
       "      <th>제품명</th>\n",
       "      <th>제품 url</th>\n",
       "      <th>리뷰 개수</th>\n",
       "      <th>상품 별점</th>\n",
       "      <th>url2</th>\n",
       "    </tr>\n",
       "  </thead>\n",
       "  <tbody>\n",
       "    <tr>\n",
       "      <th>955</th>\n",
       "      <td>식품</td>\n",
       "      <td>건강식품</td>\n",
       "      <td>http://www.coupang.com/np/categories/196076?pa...</td>\n",
       "      <td>올즙 올바른 도라지배스틱, 1개, 750ml</td>\n",
       "      <td>http://www.coupang.com/vp/products/1132782838?...</td>\n",
       "      <td>3653</td>\n",
       "      <td>5.0</td>\n",
       "      <td>1132782838</td>\n",
       "    </tr>\n",
       "    <tr>\n",
       "      <th>956</th>\n",
       "      <td>식품</td>\n",
       "      <td>건강식품</td>\n",
       "      <td>http://www.coupang.com/np/categories/196076?pa...</td>\n",
       "      <td>유기농마루 갈아만든 ABC 주스, 100ml, 50개</td>\n",
       "      <td>http://www.coupang.com/vp/products/5286468666?...</td>\n",
       "      <td>8556</td>\n",
       "      <td>5.0</td>\n",
       "      <td>5286468666</td>\n",
       "    </tr>\n",
       "    <tr>\n",
       "      <th>957</th>\n",
       "      <td>식품</td>\n",
       "      <td>건강식품</td>\n",
       "      <td>http://www.coupang.com/np/categories/196076?pa...</td>\n",
       "      <td>비에날씬 프로 다이어트 유산균 김희선유산균 30캡슐, 30정, 1개</td>\n",
       "      <td>http://www.coupang.com/vp/products/6061251650?...</td>\n",
       "      <td>4555</td>\n",
       "      <td>4.5</td>\n",
       "      <td>6061251650</td>\n",
       "    </tr>\n",
       "    <tr>\n",
       "      <th>958</th>\n",
       "      <td>식품</td>\n",
       "      <td>건강식품</td>\n",
       "      <td>http://www.coupang.com/np/categories/196076?pa...</td>\n",
       "      <td>피토틱스 콜린 이노시톨 60p, 150g, 1개</td>\n",
       "      <td>http://www.coupang.com/vp/products/6139270733?...</td>\n",
       "      <td>2561</td>\n",
       "      <td>5.0</td>\n",
       "      <td>6139270733</td>\n",
       "    </tr>\n",
       "    <tr>\n",
       "      <th>959</th>\n",
       "      <td>식품</td>\n",
       "      <td>건강식품</td>\n",
       "      <td>http://www.coupang.com/np/categories/196076?pa...</td>\n",
       "      <td>루솔 진한 배도라지즙, 20개, 100ml</td>\n",
       "      <td>http://www.coupang.com/vp/products/1391879995?...</td>\n",
       "      <td>2591</td>\n",
       "      <td>5.0</td>\n",
       "      <td>1391879995</td>\n",
       "    </tr>\n",
       "  </tbody>\n",
       "</table>\n",
       "</div>"
      ],
      "text/plain": [
       "    카테고리1  카테고리2                                           카테고리 url  \\\n",
       "955    식품  건강식품   http://www.coupang.com/np/categories/196076?pa...   \n",
       "956    식품  건강식품   http://www.coupang.com/np/categories/196076?pa...   \n",
       "957    식품  건강식품   http://www.coupang.com/np/categories/196076?pa...   \n",
       "958    식품  건강식품   http://www.coupang.com/np/categories/196076?pa...   \n",
       "959    식품  건강식품   http://www.coupang.com/np/categories/196076?pa...   \n",
       "\n",
       "                                       제품명  \\\n",
       "955               올즙 올바른 도라지배스틱, 1개, 750ml   \n",
       "956          유기농마루 갈아만든 ABC 주스, 100ml, 50개   \n",
       "957  비에날씬 프로 다이어트 유산균 김희선유산균 30캡슐, 30정, 1개   \n",
       "958             피토틱스 콜린 이노시톨 60p, 150g, 1개   \n",
       "959                루솔 진한 배도라지즙, 20개, 100ml   \n",
       "\n",
       "                                                제품 url  리뷰 개수  상품 별점  \\\n",
       "955  http://www.coupang.com/vp/products/1132782838?...   3653    5.0   \n",
       "956  http://www.coupang.com/vp/products/5286468666?...   8556    5.0   \n",
       "957  http://www.coupang.com/vp/products/6061251650?...   4555    4.5   \n",
       "958  http://www.coupang.com/vp/products/6139270733?...   2561    5.0   \n",
       "959  http://www.coupang.com/vp/products/1391879995?...   2591    5.0   \n",
       "\n",
       "           url2  \n",
       "955  1132782838  \n",
       "956  5286468666  \n",
       "957  6061251650  \n",
       "958  6139270733  \n",
       "959  1391879995  "
      ]
     },
     "execution_count": 24,
     "metadata": {},
     "output_type": "execute_result"
    }
   ],
   "source": [
    "data.tail()"
   ]
  },
  {
   "cell_type": "code",
   "execution_count": 25,
   "id": "46870cf8-6b69-45d6-ae79-29b5001a019a",
   "metadata": {
    "id": "46870cf8-6b69-45d6-ae79-29b5001a019a"
   },
   "outputs": [],
   "source": [
    "newdata_url = data.drop_duplicates(['url2'], keep='first')"
   ]
  },
  {
   "cell_type": "code",
   "execution_count": 26,
   "id": "2eaf1337-5800-4ec3-9ff1-b70bf4776ca8",
   "metadata": {
    "id": "2eaf1337-5800-4ec3-9ff1-b70bf4776ca8",
    "outputId": "ad85ec81-c87c-482c-fedc-a6d84536a6b4"
   },
   "outputs": [
    {
     "name": "stdout",
     "output_type": "stream",
     "text": [
      "<class 'pandas.core.frame.DataFrame'>\n",
      "Int64Index: 867 entries, 0 to 959\n",
      "Data columns (total 8 columns):\n",
      " #   Column    Non-Null Count  Dtype  \n",
      "---  ------    --------------  -----  \n",
      " 0   카테고리1     867 non-null    object \n",
      " 1   카테고리2     867 non-null    object \n",
      " 2   카테고리 url  867 non-null    object \n",
      " 3   제품명       867 non-null    object \n",
      " 4   제품 url    867 non-null    object \n",
      " 5   리뷰 개수     867 non-null    int64  \n",
      " 6   상품 별점     867 non-null    float64\n",
      " 7   url2      867 non-null    object \n",
      "dtypes: float64(1), int64(1), object(6)\n",
      "memory usage: 61.0+ KB\n"
     ]
    }
   ],
   "source": [
    "newdata_url.info()"
   ]
  },
  {
   "cell_type": "code",
   "execution_count": 27,
   "id": "58e17e38-0ce3-48be-9bb3-e6435c6e2dc5",
   "metadata": {
    "id": "58e17e38-0ce3-48be-9bb3-e6435c6e2dc5"
   },
   "outputs": [],
   "source": [
    "newdata_url.to_csv('../json_csv_files/distinct_review/food_distinct.csv', index=False, encoding=\"utf-8-sig\")"
   ]
  },
  {
   "cell_type": "code",
   "execution_count": null,
   "id": "d774ce7d-b4a1-4aec-9acf-cb6e499eacc2",
   "metadata": {
    "id": "d774ce7d-b4a1-4aec-9acf-cb6e499eacc2"
   },
   "outputs": [],
   "source": []
  },
  {
   "cell_type": "code",
   "execution_count": null,
   "id": "cd148442-d8d5-4048-bbdd-ff99eb9c6883",
   "metadata": {
    "id": "cd148442-d8d5-4048-bbdd-ff99eb9c6883"
   },
   "outputs": [],
   "source": []
  },
  {
   "cell_type": "code",
   "execution_count": null,
   "id": "72b61430-bcf0-4709-ae54-98dca62d43bc",
   "metadata": {
    "id": "72b61430-bcf0-4709-ae54-98dca62d43bc"
   },
   "outputs": [],
   "source": []
  }
 ],
 "metadata": {
  "colab": {
   "provenance": []
  },
  "kernelspec": {
   "display_name": "Python 3 (ipykernel)",
   "language": "python",
   "name": "python3"
  },
  "language_info": {
   "codemirror_mode": {
    "name": "ipython",
    "version": 3
   },
   "file_extension": ".py",
   "mimetype": "text/x-python",
   "name": "python",
   "nbconvert_exporter": "python",
   "pygments_lexer": "ipython3",
   "version": "3.10.11"
  }
 },
 "nbformat": 4,
 "nbformat_minor": 5
}
