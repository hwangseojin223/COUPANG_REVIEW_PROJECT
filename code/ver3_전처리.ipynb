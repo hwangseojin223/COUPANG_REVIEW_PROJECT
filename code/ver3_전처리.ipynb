{
 "cells": [
  {
   "cell_type": "code",
   "execution_count": 1,
   "id": "6ed69854-cce6-424b-9dd6-208af771dbe3",
   "metadata": {},
   "outputs": [],
   "source": [
    "### import pandas as pd\n",
    "import numpy as np\n",
    "import os\n",
    "\n",
    "# 패키지 임포트\n",
    "import selenium\n",
    "from selenium import webdriver\n",
    "import pandas as pd\n",
    "import numpy as np\n",
    "from bs4 import BeautifulSoup\n",
    "from selenium.webdriver.common.by import By # 셀레니움 4.0부터 포함된 함수(필수)\n",
    "import time\n",
    "from selenium.webdriver.common.keys import Keys\n",
    "\n",
    "from selenium import webdriver\n",
    "from selenium.webdriver.chrome.service import Service\n",
    "from glob import glob"
   ]
  },
  {
   "cell_type": "code",
   "execution_count": 17,
   "id": "962eaa94-df9a-46be-8e0c-e996ac151c68",
   "metadata": {},
   "outputs": [],
   "source": [
    "toy_review = pd.read_csv('./data2/toy_review.csv', low_memory = False)"
   ]
  },
  {
   "cell_type": "code",
   "execution_count": 18,
   "id": "08b3900e-1607-41e9-ba5c-1a71f3f6c50e",
   "metadata": {},
   "outputs": [
    {
     "name": "stdout",
     "output_type": "stream",
     "text": [
      "<class 'pandas.core.frame.DataFrame'>\n",
      "RangeIndex: 132 entries, 0 to 131\n",
      "Data columns (total 14 columns):\n",
      " #   Column      Non-Null Count  Dtype  \n",
      "---  ------      --------------  -----  \n",
      " 0   level_0     132 non-null    int64  \n",
      " 1   Unnamed: 0  132 non-null    int64  \n",
      " 2   index       132 non-null    int64  \n",
      " 3   카테고리1       132 non-null    object \n",
      " 4   카테고리2       132 non-null    object \n",
      " 5   카테고리 url    132 non-null    object \n",
      " 6   제품명         132 non-null    object \n",
      " 7   제품 url      132 non-null    object \n",
      " 8   리뷰 개수       132 non-null    int64  \n",
      " 9   상품 별점       132 non-null    float64\n",
      " 10  리뷰          132 non-null    object \n",
      " 11  리뷰(좋음)      132 non-null    int64  \n",
      " 12  리뷰(보통)      132 non-null    int64  \n",
      " 13  리뷰(별로)      132 non-null    int64  \n",
      "dtypes: float64(1), int64(7), object(6)\n",
      "memory usage: 14.6+ KB\n"
     ]
    }
   ],
   "source": [
    "toy_review.info()"
   ]
  },
  {
   "cell_type": "code",
   "execution_count": 19,
   "id": "53e6d268-2f2a-42c6-9520-be85062bc4f0",
   "metadata": {},
   "outputs": [],
   "source": [
    "toy_review.drop(['Unnamed: 0', 'level_0', 'index'], axis = 1, inplace = True)"
   ]
  },
  {
   "cell_type": "code",
   "execution_count": 21,
   "id": "66b27ef1-209d-4877-8d41-d8ed34479649",
   "metadata": {},
   "outputs": [
    {
     "name": "stdout",
     "output_type": "stream",
     "text": [
      "<class 'pandas.core.frame.DataFrame'>\n",
      "RangeIndex: 132 entries, 0 to 131\n",
      "Data columns (total 11 columns):\n",
      " #   Column    Non-Null Count  Dtype  \n",
      "---  ------    --------------  -----  \n",
      " 0   카테고리1     132 non-null    object \n",
      " 1   카테고리2     132 non-null    object \n",
      " 2   카테고리 url  132 non-null    object \n",
      " 3   제품명       132 non-null    object \n",
      " 4   제품 url    132 non-null    object \n",
      " 5   리뷰 개수     132 non-null    int64  \n",
      " 6   상품 별점     132 non-null    float64\n",
      " 7   리뷰        132 non-null    object \n",
      " 8   리뷰(좋음)    132 non-null    int64  \n",
      " 9   리뷰(보통)    132 non-null    int64  \n",
      " 10  리뷰(별로)    132 non-null    int64  \n",
      "dtypes: float64(1), int64(4), object(6)\n",
      "memory usage: 11.5+ KB\n"
     ]
    }
   ],
   "source": [
    "toy_review.info()"
   ]
  },
  {
   "cell_type": "code",
   "execution_count": 22,
   "id": "7e691a8e-ec5a-4dd1-bcda-65d15f6b51f4",
   "metadata": {},
   "outputs": [],
   "source": [
    "toy_review.to_csv(\"./data2/toy_review2.csv\", index=False, encoding = \"utf-8-sig\")"
   ]
  },
  {
   "cell_type": "code",
   "execution_count": 11,
   "id": "28b2dea6-4243-42d6-a199-f7c11056a2c2",
   "metadata": {},
   "outputs": [],
   "source": [
    "sport_Leisure_review = pd.read_csv('./data2/sport_Leisure_review.csv', low_memory = False, encoding = 'utf-8')"
   ]
  },
  {
   "cell_type": "code",
   "execution_count": 57,
   "id": "84995619-4ab4-480e-8883-9f65e34e8974",
   "metadata": {},
   "outputs": [
    {
     "name": "stdout",
     "output_type": "stream",
     "text": [
      "<class 'pandas.core.frame.DataFrame'>\n",
      "RangeIndex: 98 entries, 0 to 97\n",
      "Data columns (total 11 columns):\n",
      " #   Column    Non-Null Count  Dtype  \n",
      "---  ------    --------------  -----  \n",
      " 0   카테고리1     98 non-null     object \n",
      " 1   카테고리2     98 non-null     object \n",
      " 2   카테고리 url  98 non-null     object \n",
      " 3   제품명       98 non-null     object \n",
      " 4   제품 url    98 non-null     object \n",
      " 5   리뷰 개수     98 non-null     int64  \n",
      " 6   상품 별점     98 non-null     float64\n",
      " 7   리뷰        98 non-null     object \n",
      " 8   리뷰(좋음)    98 non-null     int64  \n",
      " 9   리뷰(보통)    98 non-null     int64  \n",
      " 10  리뷰(별로)    98 non-null     int64  \n",
      "dtypes: float64(1), int64(4), object(6)\n",
      "memory usage: 8.5+ KB\n"
     ]
    }
   ],
   "source": [
    "sport_Leisure_review.info()"
   ]
  },
  {
   "cell_type": "code",
   "execution_count": 13,
   "id": "955cc453-ca42-43df-8b66-72e7e0bc79c7",
   "metadata": {},
   "outputs": [],
   "source": [
    "sport_Leisure_review.drop(['Unnamed: 0', 'level_0', 'index'], axis = 1, inplace = True)"
   ]
  },
  {
   "cell_type": "code",
   "execution_count": 14,
   "id": "1c5efafc-646a-4367-9259-5a6d188c79ca",
   "metadata": {},
   "outputs": [
    {
     "name": "stdout",
     "output_type": "stream",
     "text": [
      "<class 'pandas.core.frame.DataFrame'>\n",
      "RangeIndex: 98 entries, 0 to 97\n",
      "Data columns (total 11 columns):\n",
      " #   Column    Non-Null Count  Dtype  \n",
      "---  ------    --------------  -----  \n",
      " 0   카테고리1     98 non-null     object \n",
      " 1   카테고리2     98 non-null     object \n",
      " 2   카테고리 url  98 non-null     object \n",
      " 3   제품명       98 non-null     object \n",
      " 4   제품 url    98 non-null     object \n",
      " 5   리뷰 개수     98 non-null     int64  \n",
      " 6   상품 별점     98 non-null     float64\n",
      " 7   리뷰        98 non-null     object \n",
      " 8   리뷰(좋음)    98 non-null     int64  \n",
      " 9   리뷰(보통)    98 non-null     int64  \n",
      " 10  리뷰(별로)    98 non-null     int64  \n",
      "dtypes: float64(1), int64(4), object(6)\n",
      "memory usage: 8.5+ KB\n"
     ]
    }
   ],
   "source": [
    "sport_Leisure_review.info()"
   ]
  },
  {
   "cell_type": "code",
   "execution_count": 16,
   "id": "0d9e9cfd-5b2a-4354-8735-369af3196f43",
   "metadata": {},
   "outputs": [],
   "source": [
    "sport_Leisure_review.to_csv(\"./data2/sport_Leisure_review2.csv\", index=False, encoding = \"utf-8-sig\")"
   ]
  },
  {
   "cell_type": "code",
   "execution_count": 23,
   "id": "e50c1ee4-51c5-475f-9ff6-9337632959bc",
   "metadata": {},
   "outputs": [],
   "source": [
    "pett_fin = pd.read_csv('./data2/pett_fin.csv', low_memory = False, encoding = 'utf-8')"
   ]
  },
  {
   "cell_type": "code",
   "execution_count": 27,
   "id": "924ef7e6-a078-446b-89d9-7a6b7739af7c",
   "metadata": {},
   "outputs": [
    {
     "name": "stdout",
     "output_type": "stream",
     "text": [
      "<class 'pandas.core.frame.DataFrame'>\n",
      "RangeIndex: 165 entries, 0 to 164\n",
      "Data columns (total 11 columns):\n",
      " #   Column    Non-Null Count  Dtype  \n",
      "---  ------    --------------  -----  \n",
      " 0   카테고리1     165 non-null    object \n",
      " 1   카테고리2     165 non-null    object \n",
      " 2   카테고리 url  165 non-null    object \n",
      " 3   제품명       165 non-null    object \n",
      " 4   제품 url    165 non-null    object \n",
      " 5   리뷰 개수     165 non-null    int64  \n",
      " 6   상품 별점     165 non-null    float64\n",
      " 7   리뷰        164 non-null    object \n",
      " 8   리뷰(좋음)    165 non-null    object \n",
      " 9   리뷰(보통)    165 non-null    object \n",
      " 10  리뷰(별로)    165 non-null    object \n",
      "dtypes: float64(1), int64(1), object(9)\n",
      "memory usage: 14.3+ KB\n"
     ]
    }
   ],
   "source": [
    "pett_fin.info()"
   ]
  },
  {
   "cell_type": "code",
   "execution_count": 26,
   "id": "54907f07-e368-457c-9ee1-c352f267f57b",
   "metadata": {},
   "outputs": [],
   "source": [
    "pett_fin.drop(['level_0', 'index'], axis = 1, inplace = True)"
   ]
  },
  {
   "cell_type": "code",
   "execution_count": 28,
   "id": "1af0ee17-7b88-4ae5-aca3-1a82fb5060db",
   "metadata": {},
   "outputs": [],
   "source": [
    "pett_fin.to_csv(\"./data2/pett_fin2.csv\", index=False, encoding = \"utf-8-sig\")"
   ]
  },
  {
   "cell_type": "code",
   "execution_count": 39,
   "id": "38cea397-f42e-41c8-aac6-e1c80490b4d9",
   "metadata": {},
   "outputs": [],
   "source": [
    "officee_fin = pd.read_csv('./data2/officee_fin.csv', low_memory = False, encoding = 'utf-8')"
   ]
  },
  {
   "cell_type": "code",
   "execution_count": 43,
   "id": "bf80d164-6fc2-4c1f-8758-0b007c5609f4",
   "metadata": {},
   "outputs": [
    {
     "name": "stdout",
     "output_type": "stream",
     "text": [
      "<class 'pandas.core.frame.DataFrame'>\n",
      "RangeIndex: 210 entries, 0 to 209\n",
      "Data columns (total 11 columns):\n",
      " #   Column    Non-Null Count  Dtype  \n",
      "---  ------    --------------  -----  \n",
      " 0   카테고리1     210 non-null    object \n",
      " 1   카테고리2     210 non-null    object \n",
      " 2   카테고리 url  210 non-null    object \n",
      " 3   제품명       210 non-null    object \n",
      " 4   제품 url    210 non-null    object \n",
      " 5   리뷰 개수     210 non-null    int64  \n",
      " 6   상품 별점     210 non-null    float64\n",
      " 7   리뷰        196 non-null    object \n",
      " 8   리뷰(좋음)    210 non-null    object \n",
      " 9   리뷰(보통)    210 non-null    object \n",
      " 10  리뷰(별로)    210 non-null    object \n",
      "dtypes: float64(1), int64(1), object(9)\n",
      "memory usage: 18.2+ KB\n"
     ]
    }
   ],
   "source": [
    "officee_fin.info()"
   ]
  },
  {
   "cell_type": "code",
   "execution_count": 41,
   "id": "4d747109-2ab6-4f4e-bf69-e0f0ed217e06",
   "metadata": {},
   "outputs": [],
   "source": [
    "officee_fin.drop(['level_0', 'index'], axis = 1, inplace = True)"
   ]
  },
  {
   "cell_type": "code",
   "execution_count": 42,
   "id": "49dc682d-0d06-4f83-b8ee-760c60427098",
   "metadata": {},
   "outputs": [],
   "source": [
    "officee_fin.to_csv(\"./data2/officee_fin2.csv\", index=False, encoding = \"utf-8-sig\")"
   ]
  },
  {
   "cell_type": "code",
   "execution_count": 59,
   "id": "b6982263-8895-4498-b483-ec46d773fff0",
   "metadata": {},
   "outputs": [],
   "source": [
    "healthhh_fin = pd.read_csv('./data2/healthhh_fin.csv', low_memory = False, encoding = 'utf-8')"
   ]
  },
  {
   "cell_type": "code",
   "execution_count": 60,
   "id": "58e609d8-e7c3-46fd-975c-4226d7943ae6",
   "metadata": {},
   "outputs": [],
   "source": [
    "healthhh_fin.drop(healthhh_fin.columns[14:], axis=1, inplace = True)"
   ]
  },
  {
   "cell_type": "code",
   "execution_count": 63,
   "id": "2832fa10-f492-4e21-a6fa-a4ef6d6ea60e",
   "metadata": {},
   "outputs": [
    {
     "name": "stdout",
     "output_type": "stream",
     "text": [
      "<class 'pandas.core.frame.DataFrame'>\n",
      "RangeIndex: 239 entries, 0 to 238\n",
      "Data columns (total 11 columns):\n",
      " #   Column    Non-Null Count  Dtype  \n",
      "---  ------    --------------  -----  \n",
      " 0   카테고리1     239 non-null    object \n",
      " 1   카테고리2     239 non-null    object \n",
      " 2   카테고리 url  239 non-null    object \n",
      " 3   제품명       239 non-null    object \n",
      " 4   제품 url    239 non-null    object \n",
      " 5   리뷰 개수     239 non-null    int64  \n",
      " 6   상품 별점     239 non-null    float64\n",
      " 7   리뷰        224 non-null    object \n",
      " 8   리뷰(좋음)    239 non-null    object \n",
      " 9   리뷰(보통)    239 non-null    object \n",
      " 10  리뷰(별로)    239 non-null    object \n",
      "dtypes: float64(1), int64(1), object(9)\n",
      "memory usage: 20.7+ KB\n"
     ]
    }
   ],
   "source": [
    "healthhh_fin.info()"
   ]
  },
  {
   "cell_type": "code",
   "execution_count": 62,
   "id": "8e8ef360-080d-4060-92a1-f8e441b7bdb7",
   "metadata": {},
   "outputs": [],
   "source": [
    "healthhh_fin.drop(['level_0', 'index', 'itemId'], axis = 1, inplace = True)"
   ]
  },
  {
   "cell_type": "code",
   "execution_count": 64,
   "id": "a347ae29-2d35-4179-9ff0-c5d7d79b1ea8",
   "metadata": {},
   "outputs": [],
   "source": [
    "healthhh_fin.to_csv(\"./data2/healthhh_fin2.csv\", index=False, encoding = \"utf-8-sig\")"
   ]
  },
  {
   "cell_type": "code",
   "execution_count": 65,
   "id": "841fd665-518f-4c4d-8462-f9b4a8dc0d44",
   "metadata": {},
   "outputs": [],
   "source": [
    "food_reviews = pd.read_csv('./data2/food_reviews.csv', low_memory = False, encoding = 'utf-8')"
   ]
  },
  {
   "cell_type": "code",
   "execution_count": 68,
   "id": "0cc3536a-4216-469b-adba-19c2b917b2a2",
   "metadata": {},
   "outputs": [
    {
     "name": "stdout",
     "output_type": "stream",
     "text": [
      "<class 'pandas.core.frame.DataFrame'>\n",
      "RangeIndex: 163 entries, 0 to 162\n",
      "Data columns (total 11 columns):\n",
      " #   Column    Non-Null Count  Dtype  \n",
      "---  ------    --------------  -----  \n",
      " 0   카테고리1     163 non-null    object \n",
      " 1   카테고리2     163 non-null    object \n",
      " 2   카테고리 url  163 non-null    object \n",
      " 3   제품명       163 non-null    object \n",
      " 4   제품 url    163 non-null    object \n",
      " 5   리뷰 개수     163 non-null    int64  \n",
      " 6   상품 별점     163 non-null    float64\n",
      " 7   리뷰        163 non-null    object \n",
      " 8   리뷰(좋음)    163 non-null    int64  \n",
      " 9   리뷰(보통)    163 non-null    int64  \n",
      " 10  리뷰(별로)    163 non-null    int64  \n",
      "dtypes: float64(1), int64(4), object(6)\n",
      "memory usage: 14.1+ KB\n"
     ]
    }
   ],
   "source": [
    "food_reviews.info()"
   ]
  },
  {
   "cell_type": "code",
   "execution_count": 67,
   "id": "92bcccb3-3e96-4203-bc1b-edae459adca3",
   "metadata": {},
   "outputs": [],
   "source": [
    "food_reviews.drop(['level_0', 'index', 'url2'], axis = 1, inplace = True)"
   ]
  },
  {
   "cell_type": "code",
   "execution_count": 69,
   "id": "ac01e2e1-1071-4bbd-929a-574564ff821f",
   "metadata": {},
   "outputs": [],
   "source": [
    "food_reviews.to_csv(\"./data2/food_reviews2.csv\", index=False, encoding = \"utf-8-sig\")"
   ]
  },
  {
   "cell_type": "code",
   "execution_count": 70,
   "id": "7f14cc62-80bc-4363-a4db-59edc2350dce",
   "metadata": {},
   "outputs": [],
   "source": [
    "fashion_reviews = pd.read_csv('./data2/fashion_reviews.csv', low_memory = False, encoding = 'utf-8')"
   ]
  },
  {
   "cell_type": "code",
   "execution_count": 73,
   "id": "2fac5800-5bc0-45a3-9e5d-c07755407fbd",
   "metadata": {},
   "outputs": [
    {
     "name": "stdout",
     "output_type": "stream",
     "text": [
      "<class 'pandas.core.frame.DataFrame'>\n",
      "RangeIndex: 98 entries, 0 to 97\n",
      "Data columns (total 11 columns):\n",
      " #   Column    Non-Null Count  Dtype  \n",
      "---  ------    --------------  -----  \n",
      " 0   카테고리1     98 non-null     object \n",
      " 1   카테고리2     98 non-null     object \n",
      " 2   카테고리 url  98 non-null     object \n",
      " 3   제품명       98 non-null     object \n",
      " 4   제품 url    98 non-null     object \n",
      " 5   리뷰 개수     98 non-null     int64  \n",
      " 6   상품 별점     98 non-null     float64\n",
      " 7   리뷰        98 non-null     object \n",
      " 8   리뷰(좋음)    98 non-null     int64  \n",
      " 9   리뷰(보통)    98 non-null     int64  \n",
      " 10  리뷰(별로)    98 non-null     int64  \n",
      "dtypes: float64(1), int64(4), object(6)\n",
      "memory usage: 8.5+ KB\n"
     ]
    }
   ],
   "source": [
    "fashion_reviews.info()"
   ]
  },
  {
   "cell_type": "code",
   "execution_count": 72,
   "id": "c581958a-7173-4c19-97e6-ce54211776e3",
   "metadata": {},
   "outputs": [],
   "source": [
    "fashion_reviews.drop(['index'], axis = 1, inplace = True)"
   ]
  },
  {
   "cell_type": "code",
   "execution_count": 74,
   "id": "b430704b-c28c-48cf-ad85-9a257eb8fa5b",
   "metadata": {},
   "outputs": [],
   "source": [
    "fashion_reviews.to_csv(\"./data2/fashion_reviews2.csv\", index=False, encoding = \"utf-8-sig\")"
   ]
  },
  {
   "cell_type": "code",
   "execution_count": 75,
   "id": "e9816a00-d646-44ca-9fbc-0ba464ee751b",
   "metadata": {},
   "outputs": [],
   "source": [
    "car_review = pd.read_csv('./data2/car_review.csv', low_memory = False, encoding = 'utf-8')"
   ]
  },
  {
   "cell_type": "code",
   "execution_count": 78,
   "id": "4afa74a8-82d6-450d-8c60-fe1f3b99b84e",
   "metadata": {},
   "outputs": [
    {
     "name": "stdout",
     "output_type": "stream",
     "text": [
      "<class 'pandas.core.frame.DataFrame'>\n",
      "RangeIndex: 100 entries, 0 to 99\n",
      "Data columns (total 11 columns):\n",
      " #   Column    Non-Null Count  Dtype  \n",
      "---  ------    --------------  -----  \n",
      " 0   카테고리1     100 non-null    object \n",
      " 1   카테고리2     100 non-null    object \n",
      " 2   카테고리 url  100 non-null    object \n",
      " 3   제품명       100 non-null    object \n",
      " 4   제품 url    100 non-null    object \n",
      " 5   리뷰 개수     100 non-null    int64  \n",
      " 6   상품 별점     100 non-null    float64\n",
      " 7   리뷰        100 non-null    object \n",
      " 8   리뷰(좋음)    100 non-null    int64  \n",
      " 9   리뷰(보통)    100 non-null    int64  \n",
      " 10  리뷰(별로)    100 non-null    int64  \n",
      "dtypes: float64(1), int64(4), object(6)\n",
      "memory usage: 8.7+ KB\n"
     ]
    }
   ],
   "source": [
    "car_review.info()"
   ]
  },
  {
   "cell_type": "code",
   "execution_count": 77,
   "id": "765fb671-5aa6-4726-b37a-add04dcc139b",
   "metadata": {},
   "outputs": [],
   "source": [
    "car_review.drop(['level_0', 'Unnamed: 0', 'index'], axis = 1, inplace = True)"
   ]
  },
  {
   "cell_type": "code",
   "execution_count": 79,
   "id": "9aa48da2-a85b-4d9f-a3af-cbe4c031e0fb",
   "metadata": {},
   "outputs": [],
   "source": [
    "car_review.to_csv(\"./data2/car_review2.csv\", index=False, encoding = \"utf-8-sig\")"
   ]
  },
  {
   "cell_type": "code",
   "execution_count": 80,
   "id": "e53a6340-a912-4d2e-bfca-25f50b52b224",
   "metadata": {},
   "outputs": [],
   "source": [
    "book_music_dvd_review = pd.read_csv('./data2/book_music_dvd_review.csv', low_memory = False, encoding = 'utf-8')"
   ]
  },
  {
   "cell_type": "code",
   "execution_count": 83,
   "id": "194a6b0a-5d9f-48eb-bca7-daa8d28fce8f",
   "metadata": {},
   "outputs": [
    {
     "name": "stdout",
     "output_type": "stream",
     "text": [
      "<class 'pandas.core.frame.DataFrame'>\n",
      "RangeIndex: 44 entries, 0 to 43\n",
      "Data columns (total 11 columns):\n",
      " #   Column    Non-Null Count  Dtype  \n",
      "---  ------    --------------  -----  \n",
      " 0   카테고리1     44 non-null     object \n",
      " 1   카테고리2     44 non-null     object \n",
      " 2   카테고리 url  44 non-null     object \n",
      " 3   제품명       44 non-null     object \n",
      " 4   제품 url    44 non-null     object \n",
      " 5   리뷰 개수     44 non-null     int64  \n",
      " 6   상품 별점     44 non-null     float64\n",
      " 7   리뷰        44 non-null     object \n",
      " 8   리뷰(좋음)    44 non-null     int64  \n",
      " 9   리뷰(보통)    44 non-null     int64  \n",
      " 10  리뷰(별로)    44 non-null     int64  \n",
      "dtypes: float64(1), int64(4), object(6)\n",
      "memory usage: 3.9+ KB\n"
     ]
    }
   ],
   "source": [
    "book_music_dvd_review.info()"
   ]
  },
  {
   "cell_type": "code",
   "execution_count": 82,
   "id": "2e9a1e5b-270a-4a0a-86a3-aa3e91fd7845",
   "metadata": {},
   "outputs": [],
   "source": [
    "book_music_dvd_review.drop(['level_0', 'Unnamed: 0', 'index'], axis = 1, inplace = True)"
   ]
  },
  {
   "cell_type": "code",
   "execution_count": 84,
   "id": "7c0d33e9-f513-45c0-b5e3-7a9371f9b03a",
   "metadata": {},
   "outputs": [],
   "source": [
    "book_music_dvd_review.to_csv(\"./data2/book_music_dvd_review2.csv\", index=False, encoding = \"utf-8-sig\")"
   ]
  },
  {
   "cell_type": "code",
   "execution_count": 95,
   "id": "96973c06-5a83-4cbe-b7ac-750893cad1b5",
   "metadata": {},
   "outputs": [],
   "source": [
    "beauty_reviews = pd.read_csv('./data2/beauty_reviews.csv', low_memory = False, encoding = 'utf-8')"
   ]
  },
  {
   "cell_type": "code",
   "execution_count": 98,
   "id": "384d7ce6-d715-49e8-b1e6-ecac8d6fb6b7",
   "metadata": {},
   "outputs": [
    {
     "name": "stdout",
     "output_type": "stream",
     "text": [
      "<class 'pandas.core.frame.DataFrame'>\n",
      "RangeIndex: 69 entries, 0 to 68\n",
      "Data columns (total 11 columns):\n",
      " #   Column    Non-Null Count  Dtype  \n",
      "---  ------    --------------  -----  \n",
      " 0   카테고리1     69 non-null     object \n",
      " 1   카테고리2     69 non-null     object \n",
      " 2   카테고리 url  69 non-null     object \n",
      " 3   제품명       69 non-null     object \n",
      " 4   제품 url    69 non-null     object \n",
      " 5   리뷰 개수     69 non-null     int64  \n",
      " 6   상품 별점     69 non-null     float64\n",
      " 7   리뷰        69 non-null     object \n",
      " 8   리뷰(좋음)    69 non-null     int64  \n",
      " 9   리뷰(보통)    69 non-null     int64  \n",
      " 10  리뷰(별로)    69 non-null     int64  \n",
      "dtypes: float64(1), int64(4), object(6)\n",
      "memory usage: 6.1+ KB\n"
     ]
    }
   ],
   "source": [
    "beauty_reviews.info()"
   ]
  },
  {
   "cell_type": "code",
   "execution_count": 97,
   "id": "c9d11a8a-363f-48ff-9bcb-51f6824aed18",
   "metadata": {},
   "outputs": [],
   "source": [
    "beauty_reviews.drop(['level_0', 'url2', 'index'], axis = 1, inplace = True)"
   ]
  },
  {
   "cell_type": "code",
   "execution_count": 99,
   "id": "f6fc08f1-5a99-4214-a1b2-340a532bcafb",
   "metadata": {},
   "outputs": [],
   "source": [
    "beauty_reviews.to_csv(\"./data2/beauty_reviews2.csv\", index=False, encoding = \"utf-8-sig\")"
   ]
  },
  {
   "cell_type": "code",
   "execution_count": 90,
   "id": "4df3c505-98b8-4a1c-b0ef-e44e1b1d42ca",
   "metadata": {},
   "outputs": [],
   "source": [
    "baby_reviews = pd.read_csv('./data2/baby_reviews.csv', low_memory = False, encoding = 'utf-8')"
   ]
  },
  {
   "cell_type": "code",
   "execution_count": 93,
   "id": "9e0f78e5-e6bc-437a-9f4c-8098d92babfa",
   "metadata": {},
   "outputs": [
    {
     "name": "stdout",
     "output_type": "stream",
     "text": [
      "<class 'pandas.core.frame.DataFrame'>\n",
      "RangeIndex: 128 entries, 0 to 127\n",
      "Data columns (total 11 columns):\n",
      " #   Column    Non-Null Count  Dtype  \n",
      "---  ------    --------------  -----  \n",
      " 0   카테고리1     128 non-null    object \n",
      " 1   카테고리2     128 non-null    object \n",
      " 2   카테고리 url  128 non-null    object \n",
      " 3   제품명       128 non-null    object \n",
      " 4   제품 url    128 non-null    object \n",
      " 5   리뷰 개수     128 non-null    int64  \n",
      " 6   상품 별점     128 non-null    float64\n",
      " 7   리뷰        128 non-null    object \n",
      " 8   리뷰(좋음)    128 non-null    int64  \n",
      " 9   리뷰(보통)    128 non-null    int64  \n",
      " 10  리뷰(별로)    128 non-null    int64  \n",
      "dtypes: float64(1), int64(4), object(6)\n",
      "memory usage: 11.1+ KB\n"
     ]
    }
   ],
   "source": [
    "baby_reviews.info()"
   ]
  },
  {
   "cell_type": "code",
   "execution_count": 92,
   "id": "1d5702a9-3654-43db-b63c-981d6550dd8a",
   "metadata": {},
   "outputs": [],
   "source": [
    "baby_reviews.drop(['level_0', 'url2', 'index'], axis = 1, inplace = True)"
   ]
  },
  {
   "cell_type": "code",
   "execution_count": 100,
   "id": "4a72e613-2ea7-4bd7-91e9-6de90310cd47",
   "metadata": {},
   "outputs": [],
   "source": [
    "baby_reviews.to_csv(\"./data2/baby_reviews2.csv\", index=False, encoding = \"utf-8-sig\")"
   ]
  },
  {
   "cell_type": "code",
   "execution_count": 101,
   "id": "f47c352c-bf8d-4f50-9b6e-297f30e845c5",
   "metadata": {},
   "outputs": [],
   "source": [
    "file_names = glob(\"./data2/*.csv\")"
   ]
  },
  {
   "cell_type": "code",
   "execution_count": 102,
   "id": "58336029-b2bc-44a4-a466-a1dfc3a2b2ce",
   "metadata": {},
   "outputs": [],
   "source": [
    "reviews = pd.DataFrame()\n",
    "for file_name in file_names:\n",
    "    temp = pd.read_csv(file_name, encoding='utf-8')\n",
    "    reviews = pd.concat([reviews, temp], axis=0)"
   ]
  },
  {
   "cell_type": "code",
   "execution_count": 103,
   "id": "ddb34355-3b4c-4f63-a9b3-000118a31b3c",
   "metadata": {},
   "outputs": [
    {
     "name": "stdout",
     "output_type": "stream",
     "text": [
      "<class 'pandas.core.frame.DataFrame'>\n",
      "Index: 1931 entries, 0 to 131\n",
      "Data columns (total 11 columns):\n",
      " #   Column    Non-Null Count  Dtype  \n",
      "---  ------    --------------  -----  \n",
      " 0   카테고리1     1931 non-null   object \n",
      " 1   카테고리2     1931 non-null   object \n",
      " 2   카테고리 url  1931 non-null   object \n",
      " 3   제품명       1931 non-null   object \n",
      " 4   제품 url    1931 non-null   object \n",
      " 5   리뷰 개수     1931 non-null   int64  \n",
      " 6   상품 별점     1931 non-null   float64\n",
      " 7   리뷰        1901 non-null   object \n",
      " 8   리뷰(좋음)    1931 non-null   object \n",
      " 9   리뷰(보통)    1931 non-null   object \n",
      " 10  리뷰(별로)    1931 non-null   object \n",
      "dtypes: float64(1), int64(1), object(9)\n",
      "memory usage: 181.0+ KB\n"
     ]
    }
   ],
   "source": [
    "reviews.info()"
   ]
  },
  {
   "cell_type": "code",
   "execution_count": 104,
   "id": "99d07076-4947-4c33-ae25-d16c0a4a8cc8",
   "metadata": {},
   "outputs": [
    {
     "data": {
      "text/html": [
       "<div>\n",
       "<style scoped>\n",
       "    .dataframe tbody tr th:only-of-type {\n",
       "        vertical-align: middle;\n",
       "    }\n",
       "\n",
       "    .dataframe tbody tr th {\n",
       "        vertical-align: top;\n",
       "    }\n",
       "\n",
       "    .dataframe thead th {\n",
       "        text-align: right;\n",
       "    }\n",
       "</style>\n",
       "<table border=\"1\" class=\"dataframe\">\n",
       "  <thead>\n",
       "    <tr style=\"text-align: right;\">\n",
       "      <th></th>\n",
       "      <th>카테고리1</th>\n",
       "      <th>카테고리2</th>\n",
       "      <th>카테고리 url</th>\n",
       "      <th>제품명</th>\n",
       "      <th>제품 url</th>\n",
       "      <th>리뷰 개수</th>\n",
       "      <th>상품 별점</th>\n",
       "      <th>리뷰</th>\n",
       "      <th>리뷰(좋음)</th>\n",
       "      <th>리뷰(보통)</th>\n",
       "      <th>리뷰(별로)</th>\n",
       "    </tr>\n",
       "  </thead>\n",
       "  <tbody>\n",
       "    <tr>\n",
       "      <th>127</th>\n",
       "      <td>완구/취미</td>\n",
       "      <td>신생아/영아완구</td>\n",
       "      <td>http://www.coupang.com/np/categories/331793?pa...</td>\n",
       "      <td>하베브릭스 유아용 바람개비 아기체육관, 혼합색상</td>\n",
       "      <td>http://www.coupang.com/vp/products/7450703685?...</td>\n",
       "      <td>81</td>\n",
       "      <td>5.0</td>\n",
       "      <td>[[['정*정 ', '627965', '5', '플라스틱이 약해보이지만 전박적으로 ...</td>\n",
       "      <td>30</td>\n",
       "      <td>30</td>\n",
       "      <td>29</td>\n",
       "    </tr>\n",
       "    <tr>\n",
       "      <th>128</th>\n",
       "      <td>완구/취미</td>\n",
       "      <td>신생아/영아완구</td>\n",
       "      <td>http://www.coupang.com/np/categories/331793?pa...</td>\n",
       "      <td>러닝리소스 시간학습 활동세트 LER3220, 1개</td>\n",
       "      <td>http://www.coupang.com/vp/products/24684935?it...</td>\n",
       "      <td>325</td>\n",
       "      <td>4.5</td>\n",
       "      <td>[[['딸랑구mom ', '1185728', '5', '국민 아이템 치발기에요', ...</td>\n",
       "      <td>55</td>\n",
       "      <td>55</td>\n",
       "      <td>52</td>\n",
       "    </tr>\n",
       "    <tr>\n",
       "      <th>129</th>\n",
       "      <td>완구/취미</td>\n",
       "      <td>신생아/영아완구</td>\n",
       "      <td>http://www.coupang.com/np/categories/331793?pa...</td>\n",
       "      <td>윈펀 뉴 러닝 테이블, 혼합색상</td>\n",
       "      <td>http://www.coupang.com/vp/products/26147138?it...</td>\n",
       "      <td>1888</td>\n",
       "      <td>4.5</td>\n",
       "      <td>[[['면뵹 ', '4070688', '5', '립프로그 워드북~~', '??구매이...</td>\n",
       "      <td>35</td>\n",
       "      <td>35</td>\n",
       "      <td>31</td>\n",
       "    </tr>\n",
       "    <tr>\n",
       "      <th>130</th>\n",
       "      <td>완구/취미</td>\n",
       "      <td>신생아/영아완구</td>\n",
       "      <td>http://www.coupang.com/np/categories/331793?pa...</td>\n",
       "      <td>튤립 사운드북 율동 놀이 동요 + 아기 동요 세상 분홍 세트, 스마트베어</td>\n",
       "      <td>http://www.coupang.com/vp/products/6760861019?...</td>\n",
       "      <td>64</td>\n",
       "      <td>5.0</td>\n",
       "      <td>[[['미니민마미 ', '113748655', '5', '9개월 아기가 너무 좋아해...</td>\n",
       "      <td>60</td>\n",
       "      <td>58</td>\n",
       "      <td>60</td>\n",
       "    </tr>\n",
       "    <tr>\n",
       "      <th>131</th>\n",
       "      <td>완구/취미</td>\n",
       "      <td>신생아/영아완구</td>\n",
       "      <td>http://www.coupang.com/np/categories/331793?pa...</td>\n",
       "      <td>인피니펀 스마트 3종 세트, 혼합 색상</td>\n",
       "      <td>http://www.coupang.com/vp/products/6458173415?...</td>\n",
       "      <td>1029</td>\n",
       "      <td>4.5</td>\n",
       "      <td>[[['딸랑구mom ', '1185728', '5', '국민 아이템 치발기에요', ...</td>\n",
       "      <td>55</td>\n",
       "      <td>55</td>\n",
       "      <td>52</td>\n",
       "    </tr>\n",
       "  </tbody>\n",
       "</table>\n",
       "</div>"
      ],
      "text/plain": [
       "     카테고리1      카테고리2                                           카테고리 url  \\\n",
       "127  완구/취미  신생아/영아완구   http://www.coupang.com/np/categories/331793?pa...   \n",
       "128  완구/취미  신생아/영아완구   http://www.coupang.com/np/categories/331793?pa...   \n",
       "129  완구/취미  신생아/영아완구   http://www.coupang.com/np/categories/331793?pa...   \n",
       "130  완구/취미  신생아/영아완구   http://www.coupang.com/np/categories/331793?pa...   \n",
       "131  완구/취미  신생아/영아완구   http://www.coupang.com/np/categories/331793?pa...   \n",
       "\n",
       "                                          제품명  \\\n",
       "127                하베브릭스 유아용 바람개비 아기체육관, 혼합색상   \n",
       "128               러닝리소스 시간학습 활동세트 LER3220, 1개   \n",
       "129                         윈펀 뉴 러닝 테이블, 혼합색상   \n",
       "130  튤립 사운드북 율동 놀이 동요 + 아기 동요 세상 분홍 세트, 스마트베어   \n",
       "131                     인피니펀 스마트 3종 세트, 혼합 색상   \n",
       "\n",
       "                                                제품 url  리뷰 개수  상품 별점  \\\n",
       "127  http://www.coupang.com/vp/products/7450703685?...     81    5.0   \n",
       "128  http://www.coupang.com/vp/products/24684935?it...    325    4.5   \n",
       "129  http://www.coupang.com/vp/products/26147138?it...   1888    4.5   \n",
       "130  http://www.coupang.com/vp/products/6760861019?...     64    5.0   \n",
       "131  http://www.coupang.com/vp/products/6458173415?...   1029    4.5   \n",
       "\n",
       "                                                    리뷰 리뷰(좋음) 리뷰(보통) 리뷰(별로)  \n",
       "127  [[['정*정 ', '627965', '5', '플라스틱이 약해보이지만 전박적으로 ...     30     30     29  \n",
       "128  [[['딸랑구mom ', '1185728', '5', '국민 아이템 치발기에요', ...     55     55     52  \n",
       "129  [[['면뵹 ', '4070688', '5', '립프로그 워드북~~', '??구매이...     35     35     31  \n",
       "130  [[['미니민마미 ', '113748655', '5', '9개월 아기가 너무 좋아해...     60     58     60  \n",
       "131  [[['딸랑구mom ', '1185728', '5', '국민 아이템 치발기에요', ...     55     55     52  "
      ]
     },
     "execution_count": 104,
     "metadata": {},
     "output_type": "execute_result"
    }
   ],
   "source": [
    "reviews.tail()"
   ]
  },
  {
   "cell_type": "code",
   "execution_count": 105,
   "id": "3aa7208d-5869-4678-bff1-268fc56a2637",
   "metadata": {},
   "outputs": [],
   "source": [
    "reviews.to_csv(\"./data2/new_ver2.csv\", index=False, encoding = \"utf-8-sig\")"
   ]
  },
  {
   "cell_type": "code",
   "execution_count": 106,
   "id": "230835ad-c008-4be8-9949-53cdd8301bf1",
   "metadata": {},
   "outputs": [],
   "source": [
    "reviews2 = reviews[['카테고리1', '카테고리2', '제품명', '리뷰 개수', '리뷰']].copy()"
   ]
  },
  {
   "cell_type": "code",
   "execution_count": 107,
   "id": "b310b793-aad0-48b0-abdb-22e798d52c77",
   "metadata": {},
   "outputs": [
    {
     "data": {
      "text/html": [
       "<div>\n",
       "<style scoped>\n",
       "    .dataframe tbody tr th:only-of-type {\n",
       "        vertical-align: middle;\n",
       "    }\n",
       "\n",
       "    .dataframe tbody tr th {\n",
       "        vertical-align: top;\n",
       "    }\n",
       "\n",
       "    .dataframe thead th {\n",
       "        text-align: right;\n",
       "    }\n",
       "</style>\n",
       "<table border=\"1\" class=\"dataframe\">\n",
       "  <thead>\n",
       "    <tr style=\"text-align: right;\">\n",
       "      <th></th>\n",
       "      <th>카테고리1</th>\n",
       "      <th>카테고리2</th>\n",
       "      <th>제품명</th>\n",
       "      <th>리뷰 개수</th>\n",
       "      <th>리뷰</th>\n",
       "    </tr>\n",
       "  </thead>\n",
       "  <tbody>\n",
       "    <tr>\n",
       "      <th>127</th>\n",
       "      <td>완구/취미</td>\n",
       "      <td>신생아/영아완구</td>\n",
       "      <td>하베브릭스 유아용 바람개비 아기체육관, 혼합색상</td>\n",
       "      <td>81</td>\n",
       "      <td>[[['정*정 ', '627965', '5', '플라스틱이 약해보이지만 전박적으로 ...</td>\n",
       "    </tr>\n",
       "    <tr>\n",
       "      <th>128</th>\n",
       "      <td>완구/취미</td>\n",
       "      <td>신생아/영아완구</td>\n",
       "      <td>러닝리소스 시간학습 활동세트 LER3220, 1개</td>\n",
       "      <td>325</td>\n",
       "      <td>[[['딸랑구mom ', '1185728', '5', '국민 아이템 치발기에요', ...</td>\n",
       "    </tr>\n",
       "    <tr>\n",
       "      <th>129</th>\n",
       "      <td>완구/취미</td>\n",
       "      <td>신생아/영아완구</td>\n",
       "      <td>윈펀 뉴 러닝 테이블, 혼합색상</td>\n",
       "      <td>1888</td>\n",
       "      <td>[[['면뵹 ', '4070688', '5', '립프로그 워드북~~', '??구매이...</td>\n",
       "    </tr>\n",
       "    <tr>\n",
       "      <th>130</th>\n",
       "      <td>완구/취미</td>\n",
       "      <td>신생아/영아완구</td>\n",
       "      <td>튤립 사운드북 율동 놀이 동요 + 아기 동요 세상 분홍 세트, 스마트베어</td>\n",
       "      <td>64</td>\n",
       "      <td>[[['미니민마미 ', '113748655', '5', '9개월 아기가 너무 좋아해...</td>\n",
       "    </tr>\n",
       "    <tr>\n",
       "      <th>131</th>\n",
       "      <td>완구/취미</td>\n",
       "      <td>신생아/영아완구</td>\n",
       "      <td>인피니펀 스마트 3종 세트, 혼합 색상</td>\n",
       "      <td>1029</td>\n",
       "      <td>[[['딸랑구mom ', '1185728', '5', '국민 아이템 치발기에요', ...</td>\n",
       "    </tr>\n",
       "  </tbody>\n",
       "</table>\n",
       "</div>"
      ],
      "text/plain": [
       "     카테고리1      카테고리2                                       제품명  리뷰 개수  \\\n",
       "127  완구/취미  신생아/영아완구                 하베브릭스 유아용 바람개비 아기체육관, 혼합색상     81   \n",
       "128  완구/취미  신생아/영아완구                러닝리소스 시간학습 활동세트 LER3220, 1개    325   \n",
       "129  완구/취미  신생아/영아완구                          윈펀 뉴 러닝 테이블, 혼합색상   1888   \n",
       "130  완구/취미  신생아/영아완구   튤립 사운드북 율동 놀이 동요 + 아기 동요 세상 분홍 세트, 스마트베어     64   \n",
       "131  완구/취미  신생아/영아완구                      인피니펀 스마트 3종 세트, 혼합 색상   1029   \n",
       "\n",
       "                                                    리뷰  \n",
       "127  [[['정*정 ', '627965', '5', '플라스틱이 약해보이지만 전박적으로 ...  \n",
       "128  [[['딸랑구mom ', '1185728', '5', '국민 아이템 치발기에요', ...  \n",
       "129  [[['면뵹 ', '4070688', '5', '립프로그 워드북~~', '??구매이...  \n",
       "130  [[['미니민마미 ', '113748655', '5', '9개월 아기가 너무 좋아해...  \n",
       "131  [[['딸랑구mom ', '1185728', '5', '국민 아이템 치발기에요', ...  "
      ]
     },
     "execution_count": 107,
     "metadata": {},
     "output_type": "execute_result"
    }
   ],
   "source": [
    "reviews2.tail()"
   ]
  },
  {
   "cell_type": "code",
   "execution_count": 117,
   "id": "154d827c-63fa-43ac-a4cc-231c915e4523",
   "metadata": {},
   "outputs": [],
   "source": [
    "drop_duplicates = reviews2.drop_duplicates(['리뷰'], keep='first')\n",
    "total_review = drop_duplicates[drop_duplicates['리뷰'] != 'None'].reset_index()\n",
    "total_review = total_review[total_review['리뷰'] != '[]']\n",
    "total_review = total_review[total_review['리뷰'].notnull()]"
   ]
  },
  {
   "cell_type": "code",
   "execution_count": 119,
   "id": "f022a9fc-317e-43ca-8424-23097d27d580",
   "metadata": {},
   "outputs": [
    {
     "data": {
      "text/html": [
       "<div>\n",
       "<style scoped>\n",
       "    .dataframe tbody tr th:only-of-type {\n",
       "        vertical-align: middle;\n",
       "    }\n",
       "\n",
       "    .dataframe tbody tr th {\n",
       "        vertical-align: top;\n",
       "    }\n",
       "\n",
       "    .dataframe thead th {\n",
       "        text-align: right;\n",
       "    }\n",
       "</style>\n",
       "<table border=\"1\" class=\"dataframe\">\n",
       "  <thead>\n",
       "    <tr style=\"text-align: right;\">\n",
       "      <th></th>\n",
       "      <th>카테고리1</th>\n",
       "      <th>카테고리2</th>\n",
       "      <th>제품명</th>\n",
       "      <th>리뷰 개수</th>\n",
       "      <th>리뷰</th>\n",
       "    </tr>\n",
       "  </thead>\n",
       "  <tbody>\n",
       "    <tr>\n",
       "      <th>0</th>\n",
       "      <td>출산/유아동</td>\n",
       "      <td>수유용품</td>\n",
       "      <td>그로미미 PPSU 젖병 트윈팩, 체리쉬(로즈골드), 300ml, 1세트</td>\n",
       "      <td>1978</td>\n",
       "      <td>[[['리뷰호랭이 ', '6596881', '5', '우리 아기의 우아한 우유 시간...</td>\n",
       "    </tr>\n",
       "    <tr>\n",
       "      <th>1</th>\n",
       "      <td>출산/유아동</td>\n",
       "      <td>수유용품</td>\n",
       "      <td>매일유업 앱솔루트 액상분유 니플, M (6~12개월), 5개입</td>\n",
       "      <td>957</td>\n",
       "      <td>[[['김*아 ', '121729281', '5', '신생아 장거리 이동에 사용하려...</td>\n",
       "    </tr>\n",
       "    <tr>\n",
       "      <th>2</th>\n",
       "      <td>출산/유아동</td>\n",
       "      <td>수유용품</td>\n",
       "      <td>마더케이 일회용젖병 + 블럭 케이스 + 스크류 2p + 젖병지퍼백 25p 외출 패키...</td>\n",
       "      <td>1619</td>\n",
       "      <td>[[['박*슬 ', '117736679', '5', '외출 및 여행시 설거지거리 줄...</td>\n",
       "    </tr>\n",
       "    <tr>\n",
       "      <th>3</th>\n",
       "      <td>출산/유아동</td>\n",
       "      <td>수유용품</td>\n",
       "      <td>모윰 스마트 분유 보온병 500ml, 베이지, 1개</td>\n",
       "      <td>622</td>\n",
       "      <td>[[['권*현 ', '40157513', '5', '', '❤내돈내산솔직리뷰❤  외...</td>\n",
       "    </tr>\n",
       "    <tr>\n",
       "      <th>4</th>\n",
       "      <td>출산/유아동</td>\n",
       "      <td>수유용품</td>\n",
       "      <td>모윰 PPSU 올인원 젖병 170ml 2p + 리얼핏 젖꼭지 1단계 2p 세트, 2...</td>\n",
       "      <td>3420</td>\n",
       "      <td>[[['김*아 ', '109563236', '5', '좋아요', '갓 100일 넘긴...</td>\n",
       "    </tr>\n",
       "    <tr>\n",
       "      <th>...</th>\n",
       "      <td>...</td>\n",
       "      <td>...</td>\n",
       "      <td>...</td>\n",
       "      <td>...</td>\n",
       "      <td>...</td>\n",
       "    </tr>\n",
       "    <tr>\n",
       "      <th>127</th>\n",
       "      <td>완구/취미</td>\n",
       "      <td>신생아/영아완구</td>\n",
       "      <td>하베브릭스 유아용 바람개비 아기체육관, 혼합색상</td>\n",
       "      <td>81</td>\n",
       "      <td>[[['정*정 ', '627965', '5', '플라스틱이 약해보이지만 전박적으로 ...</td>\n",
       "    </tr>\n",
       "    <tr>\n",
       "      <th>128</th>\n",
       "      <td>완구/취미</td>\n",
       "      <td>신생아/영아완구</td>\n",
       "      <td>러닝리소스 시간학습 활동세트 LER3220, 1개</td>\n",
       "      <td>325</td>\n",
       "      <td>[[['딸랑구mom ', '1185728', '5', '국민 아이템 치발기에요', ...</td>\n",
       "    </tr>\n",
       "    <tr>\n",
       "      <th>129</th>\n",
       "      <td>완구/취미</td>\n",
       "      <td>신생아/영아완구</td>\n",
       "      <td>윈펀 뉴 러닝 테이블, 혼합색상</td>\n",
       "      <td>1888</td>\n",
       "      <td>[[['면뵹 ', '4070688', '5', '립프로그 워드북~~', '??구매이...</td>\n",
       "    </tr>\n",
       "    <tr>\n",
       "      <th>130</th>\n",
       "      <td>완구/취미</td>\n",
       "      <td>신생아/영아완구</td>\n",
       "      <td>튤립 사운드북 율동 놀이 동요 + 아기 동요 세상 분홍 세트, 스마트베어</td>\n",
       "      <td>64</td>\n",
       "      <td>[[['미니민마미 ', '113748655', '5', '9개월 아기가 너무 좋아해...</td>\n",
       "    </tr>\n",
       "    <tr>\n",
       "      <th>131</th>\n",
       "      <td>완구/취미</td>\n",
       "      <td>신생아/영아완구</td>\n",
       "      <td>인피니펀 스마트 3종 세트, 혼합 색상</td>\n",
       "      <td>1029</td>\n",
       "      <td>[[['딸랑구mom ', '1185728', '5', '국민 아이템 치발기에요', ...</td>\n",
       "    </tr>\n",
       "  </tbody>\n",
       "</table>\n",
       "<p>1604 rows × 5 columns</p>\n",
       "</div>"
      ],
      "text/plain": [
       "      카테고리1      카테고리2                                                제품명  \\\n",
       "0    출산/유아동      수유용품             그로미미 PPSU 젖병 트윈팩, 체리쉬(로즈골드), 300ml, 1세트   \n",
       "1    출산/유아동      수유용품                  매일유업 앱솔루트 액상분유 니플, M (6~12개월), 5개입   \n",
       "2    출산/유아동      수유용품   마더케이 일회용젖병 + 블럭 케이스 + 스크류 2p + 젖병지퍼백 25p 외출 패키...   \n",
       "3    출산/유아동      수유용품                        모윰 스마트 분유 보온병 500ml, 베이지, 1개   \n",
       "4    출산/유아동      수유용품   모윰 PPSU 올인원 젖병 170ml 2p + 리얼핏 젖꼭지 1단계 2p 세트, 2...   \n",
       "..      ...        ...                                                ...   \n",
       "127   완구/취미  신생아/영아완구                          하베브릭스 유아용 바람개비 아기체육관, 혼합색상   \n",
       "128   완구/취미  신생아/영아완구                         러닝리소스 시간학습 활동세트 LER3220, 1개   \n",
       "129   완구/취미  신생아/영아완구                                   윈펀 뉴 러닝 테이블, 혼합색상   \n",
       "130   완구/취미  신생아/영아완구            튤립 사운드북 율동 놀이 동요 + 아기 동요 세상 분홍 세트, 스마트베어   \n",
       "131   완구/취미  신생아/영아완구                               인피니펀 스마트 3종 세트, 혼합 색상   \n",
       "\n",
       "     리뷰 개수                                                 리뷰  \n",
       "0     1978  [[['리뷰호랭이 ', '6596881', '5', '우리 아기의 우아한 우유 시간...  \n",
       "1      957  [[['김*아 ', '121729281', '5', '신생아 장거리 이동에 사용하려...  \n",
       "2     1619  [[['박*슬 ', '117736679', '5', '외출 및 여행시 설거지거리 줄...  \n",
       "3      622  [[['권*현 ', '40157513', '5', '', '❤내돈내산솔직리뷰❤  외...  \n",
       "4     3420  [[['김*아 ', '109563236', '5', '좋아요', '갓 100일 넘긴...  \n",
       "..     ...                                                ...  \n",
       "127     81  [[['정*정 ', '627965', '5', '플라스틱이 약해보이지만 전박적으로 ...  \n",
       "128    325  [[['딸랑구mom ', '1185728', '5', '국민 아이템 치발기에요', ...  \n",
       "129   1888  [[['면뵹 ', '4070688', '5', '립프로그 워드북~~', '??구매이...  \n",
       "130     64  [[['미니민마미 ', '113748655', '5', '9개월 아기가 너무 좋아해...  \n",
       "131   1029  [[['딸랑구mom ', '1185728', '5', '국민 아이템 치발기에요', ...  \n",
       "\n",
       "[1604 rows x 5 columns]"
      ]
     },
     "execution_count": 119,
     "metadata": {},
     "output_type": "execute_result"
    }
   ],
   "source": [
    "drop_duplicates"
   ]
  },
  {
   "cell_type": "code",
   "execution_count": 121,
   "id": "6978c3f5-a299-42a3-b7fc-a3a855c3f812",
   "metadata": {},
   "outputs": [
    {
     "data": {
      "text/html": [
       "<div>\n",
       "<style scoped>\n",
       "    .dataframe tbody tr th:only-of-type {\n",
       "        vertical-align: middle;\n",
       "    }\n",
       "\n",
       "    .dataframe tbody tr th {\n",
       "        vertical-align: top;\n",
       "    }\n",
       "\n",
       "    .dataframe thead th {\n",
       "        text-align: right;\n",
       "    }\n",
       "</style>\n",
       "<table border=\"1\" class=\"dataframe\">\n",
       "  <thead>\n",
       "    <tr style=\"text-align: right;\">\n",
       "      <th></th>\n",
       "      <th>리뷰어 이름</th>\n",
       "      <th>리뷰어 멤버 id</th>\n",
       "      <th>별점</th>\n",
       "      <th>리뷰 내용</th>\n",
       "      <th>리뷰로부터 도움 받은 사람 수</th>\n",
       "      <th>리뷰 작성일자</th>\n",
       "    </tr>\n",
       "  </thead>\n",
       "  <tbody>\n",
       "    <tr>\n",
       "      <th>0</th>\n",
       "      <td>리뷰호랭이</td>\n",
       "      <td>6596881</td>\n",
       "      <td>3</td>\n",
       "      <td>우리 아기의 우아한 우유 시간 [육아템 리뷰] 그로미미 PPSU 젖병 - 우리 아기...</td>\n",
       "      <td></td>\n",
       "      <td>2023.12.20</td>\n",
       "    </tr>\n",
       "    <tr>\n",
       "      <th>1</th>\n",
       "      <td>노랑파라랑</td>\n",
       "      <td>113798723</td>\n",
       "      <td>3</td>\n",
       "      <td>젖병 유목민 그로미미로 정착!! ●내 돈 내산 찐 후 기 ●    ✔구매동기   아...</td>\n",
       "      <td>7</td>\n",
       "      <td>2023.10.31</td>\n",
       "    </tr>\n",
       "    <tr>\n",
       "      <th>2</th>\n",
       "      <td>이*주</td>\n",
       "      <td>1393693</td>\n",
       "      <td>3</td>\n",
       "      <td>젖병은 그로미미! “내돈내산 후기 입니다”     둘째 아이가 이제 20개월이 다 ...</td>\n",
       "      <td></td>\n",
       "      <td>2023.11.23</td>\n",
       "    </tr>\n",
       "    <tr>\n",
       "      <th>3</th>\n",
       "      <td>조블리맘</td>\n",
       "      <td>138148</td>\n",
       "      <td>3</td>\n",
       "      <td>✔️ 구입후기  * PPSU 체리쉬 젖병 300ml 트윈 2p, 로즈골드, 노꼭지...</td>\n",
       "      <td>5</td>\n",
       "      <td>2023.04.26</td>\n",
       "    </tr>\n",
       "    <tr>\n",
       "      <th>4</th>\n",
       "      <td>정*원</td>\n",
       "      <td>108155907</td>\n",
       "      <td>3</td>\n",
       "      <td>용량이 커서 좋아요 10개월차 둘째아이를 키우는 연년생 엄마입니다~  첫째때는 워낙...</td>\n",
       "      <td>11</td>\n",
       "      <td>2023.04.15</td>\n",
       "    </tr>\n",
       "    <tr>\n",
       "      <th>...</th>\n",
       "      <td>...</td>\n",
       "      <td>...</td>\n",
       "      <td>...</td>\n",
       "      <td>...</td>\n",
       "      <td>...</td>\n",
       "      <td>...</td>\n",
       "    </tr>\n",
       "    <tr>\n",
       "      <th>158409</th>\n",
       "      <td>임*경</td>\n",
       "      <td>154706780</td>\n",
       "      <td>1</td>\n",
       "      <td>포장상태가.. 나중에 사용하려고 미리 주문을 했긴한데.. 제목그대로 .. 포장상태가...</td>\n",
       "      <td></td>\n",
       "      <td>2023.08.28</td>\n",
       "    </tr>\n",
       "    <tr>\n",
       "      <th>158410</th>\n",
       "      <td>양*현</td>\n",
       "      <td>39637864</td>\n",
       "      <td>1</td>\n",
       "      <td>박스도 구겨져서 오고 후기가 좋아 구매했는데 치발기 케이스에 기스가 왕창........</td>\n",
       "      <td>2</td>\n",
       "      <td>2022.08.19</td>\n",
       "    </tr>\n",
       "    <tr>\n",
       "      <th>158411</th>\n",
       "      <td>박*정</td>\n",
       "      <td>107383571</td>\n",
       "      <td>1</td>\n",
       "      <td>물품파손 세이지색치발기 구입했다 반품등록했더니 리뷰쓸수 없어서 여기에 올립니다. 상...</td>\n",
       "      <td>7</td>\n",
       "      <td>2021.09.26</td>\n",
       "    </tr>\n",
       "    <tr>\n",
       "      <th>158412</th>\n",
       "      <td>김*지</td>\n",
       "      <td>109205458</td>\n",
       "      <td>1</td>\n",
       "      <td>상품의 질이나 서비스가 너무 안좋네요 사용하다가 케이스가 너무 쉽게 이음세부분이 망...</td>\n",
       "      <td>1</td>\n",
       "      <td>2021.11.16</td>\n",
       "    </tr>\n",
       "    <tr>\n",
       "      <th>158413</th>\n",
       "      <td>이*정</td>\n",
       "      <td>9482077</td>\n",
       "      <td>1</td>\n",
       "      <td>배송중에 그런거같은데 겉포장 케이스가 다 깨져서왓어요 속은 괜차노아서 그냥 써요</td>\n",
       "      <td>4</td>\n",
       "      <td>2021.01.11</td>\n",
       "    </tr>\n",
       "  </tbody>\n",
       "</table>\n",
       "<p>158414 rows × 6 columns</p>\n",
       "</div>"
      ],
      "text/plain": [
       "        리뷰어 이름  리뷰어 멤버 id  별점  \\\n",
       "0       리뷰호랭이     6596881   3   \n",
       "1       노랑파라랑   113798723   3   \n",
       "2         이*주     1393693   3   \n",
       "3        조블리맘      138148   3   \n",
       "4         정*원   108155907   3   \n",
       "...        ...        ...  ..   \n",
       "158409    임*경   154706780   1   \n",
       "158410    양*현    39637864   1   \n",
       "158411    박*정   107383571   1   \n",
       "158412    김*지   109205458   1   \n",
       "158413    이*정     9482077   1   \n",
       "\n",
       "                                                    리뷰 내용 리뷰로부터 도움 받은 사람 수  \\\n",
       "0       우리 아기의 우아한 우유 시간 [육아템 리뷰] 그로미미 PPSU 젖병 - 우리 아기...                    \n",
       "1       젖병 유목민 그로미미로 정착!! ●내 돈 내산 찐 후 기 ●    ✔구매동기   아...                7   \n",
       "2       젖병은 그로미미! “내돈내산 후기 입니다”     둘째 아이가 이제 20개월이 다 ...                    \n",
       "3        ✔️ 구입후기  * PPSU 체리쉬 젖병 300ml 트윈 2p, 로즈골드, 노꼭지...                5   \n",
       "4       용량이 커서 좋아요 10개월차 둘째아이를 키우는 연년생 엄마입니다~  첫째때는 워낙...               11   \n",
       "...                                                   ...              ...   \n",
       "158409  포장상태가.. 나중에 사용하려고 미리 주문을 했긴한데.. 제목그대로 .. 포장상태가...                    \n",
       "158410   박스도 구겨져서 오고 후기가 좋아 구매했는데 치발기 케이스에 기스가 왕창........                2   \n",
       "158411  물품파손 세이지색치발기 구입했다 반품등록했더니 리뷰쓸수 없어서 여기에 올립니다. 상...                7   \n",
       "158412  상품의 질이나 서비스가 너무 안좋네요 사용하다가 케이스가 너무 쉽게 이음세부분이 망...                1   \n",
       "158413       배송중에 그런거같은데 겉포장 케이스가 다 깨져서왓어요 속은 괜차노아서 그냥 써요                4   \n",
       "\n",
       "           리뷰 작성일자  \n",
       "0       2023.12.20  \n",
       "1       2023.10.31  \n",
       "2       2023.11.23  \n",
       "3       2023.04.26  \n",
       "4       2023.04.15  \n",
       "...            ...  \n",
       "158409  2023.08.28  \n",
       "158410  2022.08.19  \n",
       "158411  2021.09.26  \n",
       "158412  2021.11.16  \n",
       "158413  2021.01.11  \n",
       "\n",
       "[158414 rows x 6 columns]"
      ]
     },
     "execution_count": 121,
     "metadata": {},
     "output_type": "execute_result"
    }
   ],
   "source": [
    "total = pd.DataFrame() #빈 데이터프레임 하나를 생성한다\n",
    "\n",
    "for file_name in review_data:\n",
    "    temp = pd.read_csv(file_name, encoding='utf-8') #csv파일을 하나씩 열어 임시 데이터프레임으로 생성한다\n",
    "    total = pd.concat([total, temp]) #전체 데이터프레임에 추가하여 넣는다\n",
    "\n",
    "reviews = total\n",
    "\n",
    "category1 = []\n",
    "category2 = []\n",
    "product = []\n",
    "rating_cnt = []\n",
    "name = []\n",
    "member_id = []\n",
    "rating = []\n",
    "title_content = []\n",
    "help = []\n",
    "date = []\n",
    "\n",
    "for star in reviews:\n",
    "    try:\n",
    "        star = eval(star)\n",
    "        for r in star:\n",
    "            for review in r:\n",
    "                name.append(review[0])\n",
    "                member_id.append(review[1])\n",
    "                if review[2] == '5':\n",
    "                    rating.append(3)\n",
    "                elif review[2] == '4':\n",
    "                    rating.append(2)\n",
    "                else:\n",
    "                    rating.append(1)\n",
    "                title_content.append(str(review[3]) + ' ' + str(review[4]))\n",
    "                help.append(review[5])\n",
    "                date.append(review[6])\n",
    "    except:\n",
    "        continue\n",
    "\n",
    "df = pd.DataFrame(\n",
    "    {'리뷰어 이름': name,\n",
    "     '리뷰어 멤버 id': member_id,\n",
    "     '별점': rating,\n",
    "     '리뷰 내용': title_content,\n",
    "     '리뷰로부터 도움 받은 사람 수': help,\n",
    "     '리뷰 작성일자': date},\n",
    ")\n",
    "df\n",
    "# df.to_csv('../json_csv_files/review_data/review_dataframe.csv', index=False, encoding=\"utf-8-sig\")"
   ]
  },
  {
   "cell_type": "code",
   "execution_count": null,
   "id": "15bafa6c-a1b2-4d98-9cc9-315ffaf98dae",
   "metadata": {},
   "outputs": [],
   "source": []
  },
  {
   "cell_type": "code",
   "execution_count": null,
   "id": "c318941f-ef91-47fe-a2bc-8638d40c089c",
   "metadata": {},
   "outputs": [],
   "source": []
  },
  {
   "cell_type": "code",
   "execution_count": null,
   "id": "bd3e2ab0-965a-446e-90b3-b36cbc94bc06",
   "metadata": {},
   "outputs": [],
   "source": []
  },
  {
   "cell_type": "code",
   "execution_count": null,
   "id": "430f976a-2a53-479b-a1e9-c524d85d8a09",
   "metadata": {},
   "outputs": [],
   "source": []
  },
  {
   "cell_type": "code",
   "execution_count": null,
   "id": "4e47b3c6-ece0-4a57-b453-c6242b3cd2ec",
   "metadata": {},
   "outputs": [],
   "source": []
  },
  {
   "cell_type": "code",
   "execution_count": null,
   "id": "31cf7ada-4321-41f0-b2fd-6fce584fb7f3",
   "metadata": {},
   "outputs": [],
   "source": []
  },
  {
   "cell_type": "code",
   "execution_count": null,
   "id": "ba824fd4-1356-48f5-921f-c744092cd476",
   "metadata": {},
   "outputs": [],
   "source": []
  },
  {
   "cell_type": "code",
   "execution_count": null,
   "id": "90e80162-2535-4945-bcba-ea50bf168956",
   "metadata": {},
   "outputs": [],
   "source": []
  }
 ],
 "metadata": {
  "kernelspec": {
   "display_name": "Python 3 (ipykernel)",
   "language": "python",
   "name": "python3"
  },
  "language_info": {
   "codemirror_mode": {
    "name": "ipython",
    "version": 3
   },
   "file_extension": ".py",
   "mimetype": "text/x-python",
   "name": "python",
   "nbconvert_exporter": "python",
   "pygments_lexer": "ipython3",
   "version": "3.10.11"
  }
 },
 "nbformat": 4,
 "nbformat_minor": 5
}
